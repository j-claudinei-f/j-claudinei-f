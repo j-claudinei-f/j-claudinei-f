{
  "nbformat": 4,
  "nbformat_minor": 0,
  "metadata": {
    "colab": {
      "provenance": [],
      "include_colab_link": true
    },
    "kernelspec": {
      "name": "python3",
      "display_name": "Python 3"
    },
    "language_info": {
      "name": "python"
    }
  },
  "cells": [
    {
      "cell_type": "markdown",
      "metadata": {
        "id": "view-in-github",
        "colab_type": "text"
      },
      "source": [
        "<a href=\"https://colab.research.google.com/github/j-claudinei-f/j-claudinei-f/blob/main/BaseDual.ipynb\" target=\"_parent\"><img src=\"https://colab.research.google.com/assets/colab-badge.svg\" alt=\"Open In Colab\"/></a>"
      ]
    },
    {
      "cell_type": "markdown",
      "source": [
        "#**Álgebra Linear: Base dual e base ortogonal em $\\mathbb{R}^n$ para resolução de sistema lineares**\n",
        "\n",
        "José Claudinei Ferreira\n",
        "\n",
        "Universidade Federal de Alfenas"
      ],
      "metadata": {
        "id": "Nuf44D25sYu7"
      }
    },
    {
      "cell_type": "markdown",
      "source": [
        "#**Base dual em $\\mathbb{R}^n$ para resolução de sistema lineares**"
      ],
      "metadata": {
        "id": "icBDXbEd717x"
      }
    },
    {
      "cell_type": "markdown",
      "source": [
        "Considere a $$A=\\begin{bmatrix}1&1&1&1&1\\\\1&-1&1&1&-1\\\\1&1&-1&-1&1\\\\1&1&3&3&1\\end{bmatrix}.$$\n",
        "\n",
        "Essa matriz representa um transformação linear $T:U\\to W$, em relação a alguma base do domínio e e alguma base do contradomínio. Considerando essas bases, podemos ver essa transformação $T$ como uma função, com domínio $\\mathbb{R}^5$ e contradomínio $\\mathbb{R}^4$.\n",
        "\n",
        "Dois subespaços vetoriais importantes relacionados a $T$, ou à matriz $A$, são o núcleo $Nuc(T)$ e a imagem $Im(T)$.\n",
        "\n"
      ],
      "metadata": {
        "id": "djsuB0xXwYd4"
      }
    },
    {
      "cell_type": "markdown",
      "source": [
        "Colocamos então dois problemas:\n",
        "\n",
        "a) Determine uma base para $Nuc(T)$;\n",
        "\n",
        "b) Determine uma base para $Im(T)$ e verifique se os vetores $v=(-1,1,-3,3)$ e $w=(2,2,-2,-2)$ estão na imagem de $T$."
      ],
      "metadata": {
        "id": "TF99tboKxn_4"
      }
    },
    {
      "cell_type": "markdown",
      "source": [
        "**Uma solução:**\n",
        "\n",
        "Vamos usar eliminação de Gauss para resolver os dois itens.\n",
        "\n",
        "b) Por eliminação da matriz extendida do sistema, colocando $v$ e $w$, na sexta e sétima coluna, vemos que os sistemas lineares $Ax=v$ e $Ax=w$ são impossíveis, ou seja, esses vetores não estão na imagem de $T$."
      ],
      "metadata": {
        "id": "gjRNitBN_-KL"
      }
    },
    {
      "cell_type": "code",
      "source": [
        "import numpy as np, pandas as pd\n",
        "A1=np.array([[1,1,1,1,1,-1,2],[1,-1,1,1,-1,1,2],[1,1,-1,-1,1,-3,-2],[1,1,3,3,1,3,-2]]) #\n",
        "dt=pd.DataFrame(A1,columns=[\"c_1\", \"c2\", \"c3\", \"c4\", \"c5\",'v','w'],index=['l1', 'l2', 'l3', 'l4']) # Matriz A extedida para resolver também o item b)\n",
        "display(dt)"
      ],
      "metadata": {
        "colab": {
          "base_uri": "https://localhost:8080/",
          "height": 174
        },
        "id": "UVWbsfBwx_0T",
        "outputId": "84331b44-98d3-4664-892f-b869b86a3d47"
      },
      "execution_count": null,
      "outputs": [
        {
          "output_type": "display_data",
          "data": {
            "text/plain": [
              "    c_1  c2  c3  c4  c5  v  w\n",
              "l1    1   1   1   1   1 -1  2\n",
              "l2    1  -1   1   1  -1  1  2\n",
              "l3    1   1  -1  -1   1 -3 -2\n",
              "l4    1   1   3   3   1  3 -2"
            ],
            "text/html": [
              "\n",
              "  <div id=\"df-85ffa581-1816-4def-acaf-912ddd0047e1\" class=\"colab-df-container\">\n",
              "    <div>\n",
              "<style scoped>\n",
              "    .dataframe tbody tr th:only-of-type {\n",
              "        vertical-align: middle;\n",
              "    }\n",
              "\n",
              "    .dataframe tbody tr th {\n",
              "        vertical-align: top;\n",
              "    }\n",
              "\n",
              "    .dataframe thead th {\n",
              "        text-align: right;\n",
              "    }\n",
              "</style>\n",
              "<table border=\"1\" class=\"dataframe\">\n",
              "  <thead>\n",
              "    <tr style=\"text-align: right;\">\n",
              "      <th></th>\n",
              "      <th>c_1</th>\n",
              "      <th>c2</th>\n",
              "      <th>c3</th>\n",
              "      <th>c4</th>\n",
              "      <th>c5</th>\n",
              "      <th>v</th>\n",
              "      <th>w</th>\n",
              "    </tr>\n",
              "  </thead>\n",
              "  <tbody>\n",
              "    <tr>\n",
              "      <th>l1</th>\n",
              "      <td>1</td>\n",
              "      <td>1</td>\n",
              "      <td>1</td>\n",
              "      <td>1</td>\n",
              "      <td>1</td>\n",
              "      <td>-1</td>\n",
              "      <td>2</td>\n",
              "    </tr>\n",
              "    <tr>\n",
              "      <th>l2</th>\n",
              "      <td>1</td>\n",
              "      <td>-1</td>\n",
              "      <td>1</td>\n",
              "      <td>1</td>\n",
              "      <td>-1</td>\n",
              "      <td>1</td>\n",
              "      <td>2</td>\n",
              "    </tr>\n",
              "    <tr>\n",
              "      <th>l3</th>\n",
              "      <td>1</td>\n",
              "      <td>1</td>\n",
              "      <td>-1</td>\n",
              "      <td>-1</td>\n",
              "      <td>1</td>\n",
              "      <td>-3</td>\n",
              "      <td>-2</td>\n",
              "    </tr>\n",
              "    <tr>\n",
              "      <th>l4</th>\n",
              "      <td>1</td>\n",
              "      <td>1</td>\n",
              "      <td>3</td>\n",
              "      <td>3</td>\n",
              "      <td>1</td>\n",
              "      <td>3</td>\n",
              "      <td>-2</td>\n",
              "    </tr>\n",
              "  </tbody>\n",
              "</table>\n",
              "</div>\n",
              "    <div class=\"colab-df-buttons\">\n",
              "\n",
              "  <div class=\"colab-df-container\">\n",
              "    <button class=\"colab-df-convert\" onclick=\"convertToInteractive('df-85ffa581-1816-4def-acaf-912ddd0047e1')\"\n",
              "            title=\"Convert this dataframe to an interactive table.\"\n",
              "            style=\"display:none;\">\n",
              "\n",
              "  <svg xmlns=\"http://www.w3.org/2000/svg\" height=\"24px\" viewBox=\"0 -960 960 960\">\n",
              "    <path d=\"M120-120v-720h720v720H120Zm60-500h600v-160H180v160Zm220 220h160v-160H400v160Zm0 220h160v-160H400v160ZM180-400h160v-160H180v160Zm440 0h160v-160H620v160ZM180-180h160v-160H180v160Zm440 0h160v-160H620v160Z\"/>\n",
              "  </svg>\n",
              "    </button>\n",
              "\n",
              "  <style>\n",
              "    .colab-df-container {\n",
              "      display:flex;\n",
              "      gap: 12px;\n",
              "    }\n",
              "\n",
              "    .colab-df-convert {\n",
              "      background-color: #E8F0FE;\n",
              "      border: none;\n",
              "      border-radius: 50%;\n",
              "      cursor: pointer;\n",
              "      display: none;\n",
              "      fill: #1967D2;\n",
              "      height: 32px;\n",
              "      padding: 0 0 0 0;\n",
              "      width: 32px;\n",
              "    }\n",
              "\n",
              "    .colab-df-convert:hover {\n",
              "      background-color: #E2EBFA;\n",
              "      box-shadow: 0px 1px 2px rgba(60, 64, 67, 0.3), 0px 1px 3px 1px rgba(60, 64, 67, 0.15);\n",
              "      fill: #174EA6;\n",
              "    }\n",
              "\n",
              "    .colab-df-buttons div {\n",
              "      margin-bottom: 4px;\n",
              "    }\n",
              "\n",
              "    [theme=dark] .colab-df-convert {\n",
              "      background-color: #3B4455;\n",
              "      fill: #D2E3FC;\n",
              "    }\n",
              "\n",
              "    [theme=dark] .colab-df-convert:hover {\n",
              "      background-color: #434B5C;\n",
              "      box-shadow: 0px 1px 3px 1px rgba(0, 0, 0, 0.15);\n",
              "      filter: drop-shadow(0px 1px 2px rgba(0, 0, 0, 0.3));\n",
              "      fill: #FFFFFF;\n",
              "    }\n",
              "  </style>\n",
              "\n",
              "    <script>\n",
              "      const buttonEl =\n",
              "        document.querySelector('#df-85ffa581-1816-4def-acaf-912ddd0047e1 button.colab-df-convert');\n",
              "      buttonEl.style.display =\n",
              "        google.colab.kernel.accessAllowed ? 'block' : 'none';\n",
              "\n",
              "      async function convertToInteractive(key) {\n",
              "        const element = document.querySelector('#df-85ffa581-1816-4def-acaf-912ddd0047e1');\n",
              "        const dataTable =\n",
              "          await google.colab.kernel.invokeFunction('convertToInteractive',\n",
              "                                                    [key], {});\n",
              "        if (!dataTable) return;\n",
              "\n",
              "        const docLinkHtml = 'Like what you see? Visit the ' +\n",
              "          '<a target=\"_blank\" href=https://colab.research.google.com/notebooks/data_table.ipynb>data table notebook</a>'\n",
              "          + ' to learn more about interactive tables.';\n",
              "        element.innerHTML = '';\n",
              "        dataTable['output_type'] = 'display_data';\n",
              "        await google.colab.output.renderOutput(dataTable, element);\n",
              "        const docLink = document.createElement('div');\n",
              "        docLink.innerHTML = docLinkHtml;\n",
              "        element.appendChild(docLink);\n",
              "      }\n",
              "    </script>\n",
              "  </div>\n",
              "\n",
              "\n",
              "    <div id=\"df-34347083-34e7-483f-b654-65fed64b8d71\">\n",
              "      <button class=\"colab-df-quickchart\" onclick=\"quickchart('df-34347083-34e7-483f-b654-65fed64b8d71')\"\n",
              "                title=\"Suggest charts\"\n",
              "                style=\"display:none;\">\n",
              "\n",
              "<svg xmlns=\"http://www.w3.org/2000/svg\" height=\"24px\"viewBox=\"0 0 24 24\"\n",
              "     width=\"24px\">\n",
              "    <g>\n",
              "        <path d=\"M19 3H5c-1.1 0-2 .9-2 2v14c0 1.1.9 2 2 2h14c1.1 0 2-.9 2-2V5c0-1.1-.9-2-2-2zM9 17H7v-7h2v7zm4 0h-2V7h2v10zm4 0h-2v-4h2v4z\"/>\n",
              "    </g>\n",
              "</svg>\n",
              "      </button>\n",
              "\n",
              "<style>\n",
              "  .colab-df-quickchart {\n",
              "      --bg-color: #E8F0FE;\n",
              "      --fill-color: #1967D2;\n",
              "      --hover-bg-color: #E2EBFA;\n",
              "      --hover-fill-color: #174EA6;\n",
              "      --disabled-fill-color: #AAA;\n",
              "      --disabled-bg-color: #DDD;\n",
              "  }\n",
              "\n",
              "  [theme=dark] .colab-df-quickchart {\n",
              "      --bg-color: #3B4455;\n",
              "      --fill-color: #D2E3FC;\n",
              "      --hover-bg-color: #434B5C;\n",
              "      --hover-fill-color: #FFFFFF;\n",
              "      --disabled-bg-color: #3B4455;\n",
              "      --disabled-fill-color: #666;\n",
              "  }\n",
              "\n",
              "  .colab-df-quickchart {\n",
              "    background-color: var(--bg-color);\n",
              "    border: none;\n",
              "    border-radius: 50%;\n",
              "    cursor: pointer;\n",
              "    display: none;\n",
              "    fill: var(--fill-color);\n",
              "    height: 32px;\n",
              "    padding: 0;\n",
              "    width: 32px;\n",
              "  }\n",
              "\n",
              "  .colab-df-quickchart:hover {\n",
              "    background-color: var(--hover-bg-color);\n",
              "    box-shadow: 0 1px 2px rgba(60, 64, 67, 0.3), 0 1px 3px 1px rgba(60, 64, 67, 0.15);\n",
              "    fill: var(--button-hover-fill-color);\n",
              "  }\n",
              "\n",
              "  .colab-df-quickchart-complete:disabled,\n",
              "  .colab-df-quickchart-complete:disabled:hover {\n",
              "    background-color: var(--disabled-bg-color);\n",
              "    fill: var(--disabled-fill-color);\n",
              "    box-shadow: none;\n",
              "  }\n",
              "\n",
              "  .colab-df-spinner {\n",
              "    border: 2px solid var(--fill-color);\n",
              "    border-color: transparent;\n",
              "    border-bottom-color: var(--fill-color);\n",
              "    animation:\n",
              "      spin 1s steps(1) infinite;\n",
              "  }\n",
              "\n",
              "  @keyframes spin {\n",
              "    0% {\n",
              "      border-color: transparent;\n",
              "      border-bottom-color: var(--fill-color);\n",
              "      border-left-color: var(--fill-color);\n",
              "    }\n",
              "    20% {\n",
              "      border-color: transparent;\n",
              "      border-left-color: var(--fill-color);\n",
              "      border-top-color: var(--fill-color);\n",
              "    }\n",
              "    30% {\n",
              "      border-color: transparent;\n",
              "      border-left-color: var(--fill-color);\n",
              "      border-top-color: var(--fill-color);\n",
              "      border-right-color: var(--fill-color);\n",
              "    }\n",
              "    40% {\n",
              "      border-color: transparent;\n",
              "      border-right-color: var(--fill-color);\n",
              "      border-top-color: var(--fill-color);\n",
              "    }\n",
              "    60% {\n",
              "      border-color: transparent;\n",
              "      border-right-color: var(--fill-color);\n",
              "    }\n",
              "    80% {\n",
              "      border-color: transparent;\n",
              "      border-right-color: var(--fill-color);\n",
              "      border-bottom-color: var(--fill-color);\n",
              "    }\n",
              "    90% {\n",
              "      border-color: transparent;\n",
              "      border-bottom-color: var(--fill-color);\n",
              "    }\n",
              "  }\n",
              "</style>\n",
              "\n",
              "      <script>\n",
              "        async function quickchart(key) {\n",
              "          const quickchartButtonEl =\n",
              "            document.querySelector('#' + key + ' button');\n",
              "          quickchartButtonEl.disabled = true;  // To prevent multiple clicks.\n",
              "          quickchartButtonEl.classList.add('colab-df-spinner');\n",
              "          try {\n",
              "            const charts = await google.colab.kernel.invokeFunction(\n",
              "                'suggestCharts', [key], {});\n",
              "          } catch (error) {\n",
              "            console.error('Error during call to suggestCharts:', error);\n",
              "          }\n",
              "          quickchartButtonEl.classList.remove('colab-df-spinner');\n",
              "          quickchartButtonEl.classList.add('colab-df-quickchart-complete');\n",
              "        }\n",
              "        (() => {\n",
              "          let quickchartButtonEl =\n",
              "            document.querySelector('#df-34347083-34e7-483f-b654-65fed64b8d71 button');\n",
              "          quickchartButtonEl.style.display =\n",
              "            google.colab.kernel.accessAllowed ? 'block' : 'none';\n",
              "        })();\n",
              "      </script>\n",
              "    </div>\n",
              "\n",
              "  <div id=\"id_33a7a4f3-d8c9-4d78-9c3a-eb2002a04faa\">\n",
              "    <style>\n",
              "      .colab-df-generate {\n",
              "        background-color: #E8F0FE;\n",
              "        border: none;\n",
              "        border-radius: 50%;\n",
              "        cursor: pointer;\n",
              "        display: none;\n",
              "        fill: #1967D2;\n",
              "        height: 32px;\n",
              "        padding: 0 0 0 0;\n",
              "        width: 32px;\n",
              "      }\n",
              "\n",
              "      .colab-df-generate:hover {\n",
              "        background-color: #E2EBFA;\n",
              "        box-shadow: 0px 1px 2px rgba(60, 64, 67, 0.3), 0px 1px 3px 1px rgba(60, 64, 67, 0.15);\n",
              "        fill: #174EA6;\n",
              "      }\n",
              "\n",
              "      [theme=dark] .colab-df-generate {\n",
              "        background-color: #3B4455;\n",
              "        fill: #D2E3FC;\n",
              "      }\n",
              "\n",
              "      [theme=dark] .colab-df-generate:hover {\n",
              "        background-color: #434B5C;\n",
              "        box-shadow: 0px 1px 3px 1px rgba(0, 0, 0, 0.15);\n",
              "        filter: drop-shadow(0px 1px 2px rgba(0, 0, 0, 0.3));\n",
              "        fill: #FFFFFF;\n",
              "      }\n",
              "    </style>\n",
              "    <button class=\"colab-df-generate\" onclick=\"generateWithVariable('dt')\"\n",
              "            title=\"Generate code using this dataframe.\"\n",
              "            style=\"display:none;\">\n",
              "\n",
              "  <svg xmlns=\"http://www.w3.org/2000/svg\" height=\"24px\"viewBox=\"0 0 24 24\"\n",
              "       width=\"24px\">\n",
              "    <path d=\"M7,19H8.4L18.45,9,17,7.55,7,17.6ZM5,21V16.75L18.45,3.32a2,2,0,0,1,2.83,0l1.4,1.43a1.91,1.91,0,0,1,.58,1.4,1.91,1.91,0,0,1-.58,1.4L9.25,21ZM18.45,9,17,7.55Zm-12,3A5.31,5.31,0,0,0,4.9,8.1,5.31,5.31,0,0,0,1,6.5,5.31,5.31,0,0,0,4.9,4.9,5.31,5.31,0,0,0,6.5,1,5.31,5.31,0,0,0,8.1,4.9,5.31,5.31,0,0,0,12,6.5,5.46,5.46,0,0,0,6.5,12Z\"/>\n",
              "  </svg>\n",
              "    </button>\n",
              "    <script>\n",
              "      (() => {\n",
              "      const buttonEl =\n",
              "        document.querySelector('#id_33a7a4f3-d8c9-4d78-9c3a-eb2002a04faa button.colab-df-generate');\n",
              "      buttonEl.style.display =\n",
              "        google.colab.kernel.accessAllowed ? 'block' : 'none';\n",
              "\n",
              "      buttonEl.onclick = () => {\n",
              "        google.colab.notebook.generateWithVariable('dt');\n",
              "      }\n",
              "      })();\n",
              "    </script>\n",
              "  </div>\n",
              "\n",
              "    </div>\n",
              "  </div>\n"
            ],
            "application/vnd.google.colaboratory.intrinsic+json": {
              "type": "dataframe",
              "variable_name": "dt",
              "summary": "{\n  \"name\": \"dt\",\n  \"rows\": 4,\n  \"fields\": [\n    {\n      \"column\": \"c_1\",\n      \"properties\": {\n        \"dtype\": \"number\",\n        \"std\": 0,\n        \"min\": 1,\n        \"max\": 1,\n        \"num_unique_values\": 1,\n        \"samples\": [\n          1\n        ],\n        \"semantic_type\": \"\",\n        \"description\": \"\"\n      }\n    },\n    {\n      \"column\": \"c2\",\n      \"properties\": {\n        \"dtype\": \"number\",\n        \"std\": 1,\n        \"min\": -1,\n        \"max\": 1,\n        \"num_unique_values\": 2,\n        \"samples\": [\n          -1\n        ],\n        \"semantic_type\": \"\",\n        \"description\": \"\"\n      }\n    },\n    {\n      \"column\": \"c3\",\n      \"properties\": {\n        \"dtype\": \"number\",\n        \"std\": 1,\n        \"min\": -1,\n        \"max\": 3,\n        \"num_unique_values\": 3,\n        \"samples\": [\n          1\n        ],\n        \"semantic_type\": \"\",\n        \"description\": \"\"\n      }\n    },\n    {\n      \"column\": \"c4\",\n      \"properties\": {\n        \"dtype\": \"number\",\n        \"std\": 1,\n        \"min\": -1,\n        \"max\": 3,\n        \"num_unique_values\": 3,\n        \"samples\": [\n          1\n        ],\n        \"semantic_type\": \"\",\n        \"description\": \"\"\n      }\n    },\n    {\n      \"column\": \"c5\",\n      \"properties\": {\n        \"dtype\": \"number\",\n        \"std\": 1,\n        \"min\": -1,\n        \"max\": 1,\n        \"num_unique_values\": 2,\n        \"samples\": [\n          -1\n        ],\n        \"semantic_type\": \"\",\n        \"description\": \"\"\n      }\n    },\n    {\n      \"column\": \"v\",\n      \"properties\": {\n        \"dtype\": \"number\",\n        \"std\": 2,\n        \"min\": -3,\n        \"max\": 3,\n        \"num_unique_values\": 4,\n        \"samples\": [\n          1\n        ],\n        \"semantic_type\": \"\",\n        \"description\": \"\"\n      }\n    },\n    {\n      \"column\": \"w\",\n      \"properties\": {\n        \"dtype\": \"number\",\n        \"std\": 2,\n        \"min\": -2,\n        \"max\": 2,\n        \"num_unique_values\": 2,\n        \"samples\": [\n          -2\n        ],\n        \"semantic_type\": \"\",\n        \"description\": \"\"\n      }\n    }\n  ]\n}"
            }
          },
          "metadata": {}
        }
      ]
    },
    {
      "cell_type": "markdown",
      "source": [
        "O processo de eliniação é feito com calcularora abaixo."
      ],
      "metadata": {
        "id": "OL0QhFrW3Jmw"
      }
    },
    {
      "cell_type": "code",
      "source": [
        "import copy\n",
        "A=copy.deepcopy(A1)\n",
        "A[1]=-(A[1]-A[0])/2\n",
        "A[2]=-(A[2]-A[0])/2\n",
        "A[3]=(A[3]-A[0])/2\n",
        "A[3]=A[3]-A[2]\n",
        "\n",
        "dt=pd.DataFrame(A,columns=[\"c_1'\", \"c2'\", \"c3'\", \"c4'\", \"c5'\",\"v'\",\"w'\"],index=[\"l1'\", \"l2'\", \"l3'\", \"l4'\"]) # Matriz A extedida para resolver também o item b)\n",
        "display(dt)"
      ],
      "metadata": {
        "colab": {
          "base_uri": "https://localhost:8080/",
          "height": 174
        },
        "id": "quuEuQ0szesR",
        "outputId": "fc236148-41b2-4992-f0ad-3f885b4e08f0"
      },
      "execution_count": null,
      "outputs": [
        {
          "output_type": "display_data",
          "data": {
            "text/plain": [
              "     c_1'  c2'  c3'  c4'  c5'  v'  w'\n",
              "l1'     1    1    1    1    1  -1   2\n",
              "l2'     0    1    0    0    1  -1   0\n",
              "l3'     0    0    1    1    0   1   2\n",
              "l4'     0    0    0    0    0   1  -4"
            ],
            "text/html": [
              "\n",
              "  <div id=\"df-d889dab8-65e5-4e77-9c69-99bd72fa9e92\" class=\"colab-df-container\">\n",
              "    <div>\n",
              "<style scoped>\n",
              "    .dataframe tbody tr th:only-of-type {\n",
              "        vertical-align: middle;\n",
              "    }\n",
              "\n",
              "    .dataframe tbody tr th {\n",
              "        vertical-align: top;\n",
              "    }\n",
              "\n",
              "    .dataframe thead th {\n",
              "        text-align: right;\n",
              "    }\n",
              "</style>\n",
              "<table border=\"1\" class=\"dataframe\">\n",
              "  <thead>\n",
              "    <tr style=\"text-align: right;\">\n",
              "      <th></th>\n",
              "      <th>c_1'</th>\n",
              "      <th>c2'</th>\n",
              "      <th>c3'</th>\n",
              "      <th>c4'</th>\n",
              "      <th>c5'</th>\n",
              "      <th>v'</th>\n",
              "      <th>w'</th>\n",
              "    </tr>\n",
              "  </thead>\n",
              "  <tbody>\n",
              "    <tr>\n",
              "      <th>l1'</th>\n",
              "      <td>1</td>\n",
              "      <td>1</td>\n",
              "      <td>1</td>\n",
              "      <td>1</td>\n",
              "      <td>1</td>\n",
              "      <td>-1</td>\n",
              "      <td>2</td>\n",
              "    </tr>\n",
              "    <tr>\n",
              "      <th>l2'</th>\n",
              "      <td>0</td>\n",
              "      <td>1</td>\n",
              "      <td>0</td>\n",
              "      <td>0</td>\n",
              "      <td>1</td>\n",
              "      <td>-1</td>\n",
              "      <td>0</td>\n",
              "    </tr>\n",
              "    <tr>\n",
              "      <th>l3'</th>\n",
              "      <td>0</td>\n",
              "      <td>0</td>\n",
              "      <td>1</td>\n",
              "      <td>1</td>\n",
              "      <td>0</td>\n",
              "      <td>1</td>\n",
              "      <td>2</td>\n",
              "    </tr>\n",
              "    <tr>\n",
              "      <th>l4'</th>\n",
              "      <td>0</td>\n",
              "      <td>0</td>\n",
              "      <td>0</td>\n",
              "      <td>0</td>\n",
              "      <td>0</td>\n",
              "      <td>1</td>\n",
              "      <td>-4</td>\n",
              "    </tr>\n",
              "  </tbody>\n",
              "</table>\n",
              "</div>\n",
              "    <div class=\"colab-df-buttons\">\n",
              "\n",
              "  <div class=\"colab-df-container\">\n",
              "    <button class=\"colab-df-convert\" onclick=\"convertToInteractive('df-d889dab8-65e5-4e77-9c69-99bd72fa9e92')\"\n",
              "            title=\"Convert this dataframe to an interactive table.\"\n",
              "            style=\"display:none;\">\n",
              "\n",
              "  <svg xmlns=\"http://www.w3.org/2000/svg\" height=\"24px\" viewBox=\"0 -960 960 960\">\n",
              "    <path d=\"M120-120v-720h720v720H120Zm60-500h600v-160H180v160Zm220 220h160v-160H400v160Zm0 220h160v-160H400v160ZM180-400h160v-160H180v160Zm440 0h160v-160H620v160ZM180-180h160v-160H180v160Zm440 0h160v-160H620v160Z\"/>\n",
              "  </svg>\n",
              "    </button>\n",
              "\n",
              "  <style>\n",
              "    .colab-df-container {\n",
              "      display:flex;\n",
              "      gap: 12px;\n",
              "    }\n",
              "\n",
              "    .colab-df-convert {\n",
              "      background-color: #E8F0FE;\n",
              "      border: none;\n",
              "      border-radius: 50%;\n",
              "      cursor: pointer;\n",
              "      display: none;\n",
              "      fill: #1967D2;\n",
              "      height: 32px;\n",
              "      padding: 0 0 0 0;\n",
              "      width: 32px;\n",
              "    }\n",
              "\n",
              "    .colab-df-convert:hover {\n",
              "      background-color: #E2EBFA;\n",
              "      box-shadow: 0px 1px 2px rgba(60, 64, 67, 0.3), 0px 1px 3px 1px rgba(60, 64, 67, 0.15);\n",
              "      fill: #174EA6;\n",
              "    }\n",
              "\n",
              "    .colab-df-buttons div {\n",
              "      margin-bottom: 4px;\n",
              "    }\n",
              "\n",
              "    [theme=dark] .colab-df-convert {\n",
              "      background-color: #3B4455;\n",
              "      fill: #D2E3FC;\n",
              "    }\n",
              "\n",
              "    [theme=dark] .colab-df-convert:hover {\n",
              "      background-color: #434B5C;\n",
              "      box-shadow: 0px 1px 3px 1px rgba(0, 0, 0, 0.15);\n",
              "      filter: drop-shadow(0px 1px 2px rgba(0, 0, 0, 0.3));\n",
              "      fill: #FFFFFF;\n",
              "    }\n",
              "  </style>\n",
              "\n",
              "    <script>\n",
              "      const buttonEl =\n",
              "        document.querySelector('#df-d889dab8-65e5-4e77-9c69-99bd72fa9e92 button.colab-df-convert');\n",
              "      buttonEl.style.display =\n",
              "        google.colab.kernel.accessAllowed ? 'block' : 'none';\n",
              "\n",
              "      async function convertToInteractive(key) {\n",
              "        const element = document.querySelector('#df-d889dab8-65e5-4e77-9c69-99bd72fa9e92');\n",
              "        const dataTable =\n",
              "          await google.colab.kernel.invokeFunction('convertToInteractive',\n",
              "                                                    [key], {});\n",
              "        if (!dataTable) return;\n",
              "\n",
              "        const docLinkHtml = 'Like what you see? Visit the ' +\n",
              "          '<a target=\"_blank\" href=https://colab.research.google.com/notebooks/data_table.ipynb>data table notebook</a>'\n",
              "          + ' to learn more about interactive tables.';\n",
              "        element.innerHTML = '';\n",
              "        dataTable['output_type'] = 'display_data';\n",
              "        await google.colab.output.renderOutput(dataTable, element);\n",
              "        const docLink = document.createElement('div');\n",
              "        docLink.innerHTML = docLinkHtml;\n",
              "        element.appendChild(docLink);\n",
              "      }\n",
              "    </script>\n",
              "  </div>\n",
              "\n",
              "\n",
              "    <div id=\"df-bbda533b-97f1-436d-8ccb-8c118331e4e3\">\n",
              "      <button class=\"colab-df-quickchart\" onclick=\"quickchart('df-bbda533b-97f1-436d-8ccb-8c118331e4e3')\"\n",
              "                title=\"Suggest charts\"\n",
              "                style=\"display:none;\">\n",
              "\n",
              "<svg xmlns=\"http://www.w3.org/2000/svg\" height=\"24px\"viewBox=\"0 0 24 24\"\n",
              "     width=\"24px\">\n",
              "    <g>\n",
              "        <path d=\"M19 3H5c-1.1 0-2 .9-2 2v14c0 1.1.9 2 2 2h14c1.1 0 2-.9 2-2V5c0-1.1-.9-2-2-2zM9 17H7v-7h2v7zm4 0h-2V7h2v10zm4 0h-2v-4h2v4z\"/>\n",
              "    </g>\n",
              "</svg>\n",
              "      </button>\n",
              "\n",
              "<style>\n",
              "  .colab-df-quickchart {\n",
              "      --bg-color: #E8F0FE;\n",
              "      --fill-color: #1967D2;\n",
              "      --hover-bg-color: #E2EBFA;\n",
              "      --hover-fill-color: #174EA6;\n",
              "      --disabled-fill-color: #AAA;\n",
              "      --disabled-bg-color: #DDD;\n",
              "  }\n",
              "\n",
              "  [theme=dark] .colab-df-quickchart {\n",
              "      --bg-color: #3B4455;\n",
              "      --fill-color: #D2E3FC;\n",
              "      --hover-bg-color: #434B5C;\n",
              "      --hover-fill-color: #FFFFFF;\n",
              "      --disabled-bg-color: #3B4455;\n",
              "      --disabled-fill-color: #666;\n",
              "  }\n",
              "\n",
              "  .colab-df-quickchart {\n",
              "    background-color: var(--bg-color);\n",
              "    border: none;\n",
              "    border-radius: 50%;\n",
              "    cursor: pointer;\n",
              "    display: none;\n",
              "    fill: var(--fill-color);\n",
              "    height: 32px;\n",
              "    padding: 0;\n",
              "    width: 32px;\n",
              "  }\n",
              "\n",
              "  .colab-df-quickchart:hover {\n",
              "    background-color: var(--hover-bg-color);\n",
              "    box-shadow: 0 1px 2px rgba(60, 64, 67, 0.3), 0 1px 3px 1px rgba(60, 64, 67, 0.15);\n",
              "    fill: var(--button-hover-fill-color);\n",
              "  }\n",
              "\n",
              "  .colab-df-quickchart-complete:disabled,\n",
              "  .colab-df-quickchart-complete:disabled:hover {\n",
              "    background-color: var(--disabled-bg-color);\n",
              "    fill: var(--disabled-fill-color);\n",
              "    box-shadow: none;\n",
              "  }\n",
              "\n",
              "  .colab-df-spinner {\n",
              "    border: 2px solid var(--fill-color);\n",
              "    border-color: transparent;\n",
              "    border-bottom-color: var(--fill-color);\n",
              "    animation:\n",
              "      spin 1s steps(1) infinite;\n",
              "  }\n",
              "\n",
              "  @keyframes spin {\n",
              "    0% {\n",
              "      border-color: transparent;\n",
              "      border-bottom-color: var(--fill-color);\n",
              "      border-left-color: var(--fill-color);\n",
              "    }\n",
              "    20% {\n",
              "      border-color: transparent;\n",
              "      border-left-color: var(--fill-color);\n",
              "      border-top-color: var(--fill-color);\n",
              "    }\n",
              "    30% {\n",
              "      border-color: transparent;\n",
              "      border-left-color: var(--fill-color);\n",
              "      border-top-color: var(--fill-color);\n",
              "      border-right-color: var(--fill-color);\n",
              "    }\n",
              "    40% {\n",
              "      border-color: transparent;\n",
              "      border-right-color: var(--fill-color);\n",
              "      border-top-color: var(--fill-color);\n",
              "    }\n",
              "    60% {\n",
              "      border-color: transparent;\n",
              "      border-right-color: var(--fill-color);\n",
              "    }\n",
              "    80% {\n",
              "      border-color: transparent;\n",
              "      border-right-color: var(--fill-color);\n",
              "      border-bottom-color: var(--fill-color);\n",
              "    }\n",
              "    90% {\n",
              "      border-color: transparent;\n",
              "      border-bottom-color: var(--fill-color);\n",
              "    }\n",
              "  }\n",
              "</style>\n",
              "\n",
              "      <script>\n",
              "        async function quickchart(key) {\n",
              "          const quickchartButtonEl =\n",
              "            document.querySelector('#' + key + ' button');\n",
              "          quickchartButtonEl.disabled = true;  // To prevent multiple clicks.\n",
              "          quickchartButtonEl.classList.add('colab-df-spinner');\n",
              "          try {\n",
              "            const charts = await google.colab.kernel.invokeFunction(\n",
              "                'suggestCharts', [key], {});\n",
              "          } catch (error) {\n",
              "            console.error('Error during call to suggestCharts:', error);\n",
              "          }\n",
              "          quickchartButtonEl.classList.remove('colab-df-spinner');\n",
              "          quickchartButtonEl.classList.add('colab-df-quickchart-complete');\n",
              "        }\n",
              "        (() => {\n",
              "          let quickchartButtonEl =\n",
              "            document.querySelector('#df-bbda533b-97f1-436d-8ccb-8c118331e4e3 button');\n",
              "          quickchartButtonEl.style.display =\n",
              "            google.colab.kernel.accessAllowed ? 'block' : 'none';\n",
              "        })();\n",
              "      </script>\n",
              "    </div>\n",
              "\n",
              "  <div id=\"id_cb008e4a-1efe-47a8-8b27-5af7dc67e34f\">\n",
              "    <style>\n",
              "      .colab-df-generate {\n",
              "        background-color: #E8F0FE;\n",
              "        border: none;\n",
              "        border-radius: 50%;\n",
              "        cursor: pointer;\n",
              "        display: none;\n",
              "        fill: #1967D2;\n",
              "        height: 32px;\n",
              "        padding: 0 0 0 0;\n",
              "        width: 32px;\n",
              "      }\n",
              "\n",
              "      .colab-df-generate:hover {\n",
              "        background-color: #E2EBFA;\n",
              "        box-shadow: 0px 1px 2px rgba(60, 64, 67, 0.3), 0px 1px 3px 1px rgba(60, 64, 67, 0.15);\n",
              "        fill: #174EA6;\n",
              "      }\n",
              "\n",
              "      [theme=dark] .colab-df-generate {\n",
              "        background-color: #3B4455;\n",
              "        fill: #D2E3FC;\n",
              "      }\n",
              "\n",
              "      [theme=dark] .colab-df-generate:hover {\n",
              "        background-color: #434B5C;\n",
              "        box-shadow: 0px 1px 3px 1px rgba(0, 0, 0, 0.15);\n",
              "        filter: drop-shadow(0px 1px 2px rgba(0, 0, 0, 0.3));\n",
              "        fill: #FFFFFF;\n",
              "      }\n",
              "    </style>\n",
              "    <button class=\"colab-df-generate\" onclick=\"generateWithVariable('dt')\"\n",
              "            title=\"Generate code using this dataframe.\"\n",
              "            style=\"display:none;\">\n",
              "\n",
              "  <svg xmlns=\"http://www.w3.org/2000/svg\" height=\"24px\"viewBox=\"0 0 24 24\"\n",
              "       width=\"24px\">\n",
              "    <path d=\"M7,19H8.4L18.45,9,17,7.55,7,17.6ZM5,21V16.75L18.45,3.32a2,2,0,0,1,2.83,0l1.4,1.43a1.91,1.91,0,0,1,.58,1.4,1.91,1.91,0,0,1-.58,1.4L9.25,21ZM18.45,9,17,7.55Zm-12,3A5.31,5.31,0,0,0,4.9,8.1,5.31,5.31,0,0,0,1,6.5,5.31,5.31,0,0,0,4.9,4.9,5.31,5.31,0,0,0,6.5,1,5.31,5.31,0,0,0,8.1,4.9,5.31,5.31,0,0,0,12,6.5,5.46,5.46,0,0,0,6.5,12Z\"/>\n",
              "  </svg>\n",
              "    </button>\n",
              "    <script>\n",
              "      (() => {\n",
              "      const buttonEl =\n",
              "        document.querySelector('#id_cb008e4a-1efe-47a8-8b27-5af7dc67e34f button.colab-df-generate');\n",
              "      buttonEl.style.display =\n",
              "        google.colab.kernel.accessAllowed ? 'block' : 'none';\n",
              "\n",
              "      buttonEl.onclick = () => {\n",
              "        google.colab.notebook.generateWithVariable('dt');\n",
              "      }\n",
              "      })();\n",
              "    </script>\n",
              "  </div>\n",
              "\n",
              "    </div>\n",
              "  </div>\n"
            ],
            "application/vnd.google.colaboratory.intrinsic+json": {
              "type": "dataframe",
              "variable_name": "dt",
              "summary": "{\n  \"name\": \"dt\",\n  \"rows\": 4,\n  \"fields\": [\n    {\n      \"column\": \"c_1'\",\n      \"properties\": {\n        \"dtype\": \"number\",\n        \"std\": 0,\n        \"min\": 0,\n        \"max\": 1,\n        \"num_unique_values\": 2,\n        \"samples\": [\n          0,\n          1\n        ],\n        \"semantic_type\": \"\",\n        \"description\": \"\"\n      }\n    },\n    {\n      \"column\": \"c2'\",\n      \"properties\": {\n        \"dtype\": \"number\",\n        \"std\": 0,\n        \"min\": 0,\n        \"max\": 1,\n        \"num_unique_values\": 2,\n        \"samples\": [\n          0,\n          1\n        ],\n        \"semantic_type\": \"\",\n        \"description\": \"\"\n      }\n    },\n    {\n      \"column\": \"c3'\",\n      \"properties\": {\n        \"dtype\": \"number\",\n        \"std\": 0,\n        \"min\": 0,\n        \"max\": 1,\n        \"num_unique_values\": 2,\n        \"samples\": [\n          0,\n          1\n        ],\n        \"semantic_type\": \"\",\n        \"description\": \"\"\n      }\n    },\n    {\n      \"column\": \"c4'\",\n      \"properties\": {\n        \"dtype\": \"number\",\n        \"std\": 0,\n        \"min\": 0,\n        \"max\": 1,\n        \"num_unique_values\": 2,\n        \"samples\": [\n          0,\n          1\n        ],\n        \"semantic_type\": \"\",\n        \"description\": \"\"\n      }\n    },\n    {\n      \"column\": \"c5'\",\n      \"properties\": {\n        \"dtype\": \"number\",\n        \"std\": 0,\n        \"min\": 0,\n        \"max\": 1,\n        \"num_unique_values\": 2,\n        \"samples\": [\n          0,\n          1\n        ],\n        \"semantic_type\": \"\",\n        \"description\": \"\"\n      }\n    },\n    {\n      \"column\": \"v'\",\n      \"properties\": {\n        \"dtype\": \"number\",\n        \"std\": 1,\n        \"min\": -1,\n        \"max\": 1,\n        \"num_unique_values\": 2,\n        \"samples\": [\n          1,\n          -1\n        ],\n        \"semantic_type\": \"\",\n        \"description\": \"\"\n      }\n    },\n    {\n      \"column\": \"w'\",\n      \"properties\": {\n        \"dtype\": \"number\",\n        \"std\": 2,\n        \"min\": -4,\n        \"max\": 2,\n        \"num_unique_values\": 3,\n        \"samples\": [\n          2,\n          0\n        ],\n        \"semantic_type\": \"\",\n        \"description\": \"\"\n      }\n    }\n  ]\n}"
            }
          },
          "metadata": {}
        }
      ]
    },
    {
      "cell_type": "markdown",
      "source": [
        "**Obs:** Da matriz escalonada vemos:\n",
        "\n",
        "1. Vemos que a linha $(1,1,3,3,1)$ da matriz $A$ é combinação linear das três linhas anteriores. Vemos também que o conjunto $\\{(1,1,1,1,1),(1,-1,1,1,-1),(1,1,-1,-1,1)\\}$ com as três primeiras linhas de $A$ é LI. Então o espaço linha de $A$ tem dimensão 3.\n",
        "\n",
        "2. Vemos que as colunas $c_3$ e $c_5$ de $A$ são combinações lineares das três colunas anteriores. Vemos ainda que o conjunto $\\{c_1,c_2,c_3\\}=\\{(1,1,1,1),(1,-1,1,1),(1,1,-1,3)\\}$ com as três primeiras colunas de $A$ é LI. Então o espaço coluna de $A$, que é a imagem $Im(T)$ de $T$ (numa base), tem dimensão 3.\n",
        "\n",
        "3. Como o domínio de $T$ tem dimensão 5. Devemos ter que o núcleo $Nuc(T)$ terá dimensão $5-3=2$."
      ],
      "metadata": {
        "id": "nMeYQEg23Wja"
      }
    },
    {
      "cell_type": "markdown",
      "source": [
        "b) Na forma escalanda, o sistema $Ax=v$ e $Ax=w$ tomam as formas $$\\begin{bmatrix}1& 1& 1& 1& 1\\\\ 0& 1& 0& 0& 1\\\\0& 0& 1& 1& 0\\\\0& 0& 0& 0& 0\\end{bmatrix}\\begin{bmatrix}x_1\\\\x_2\\\\x_3\\\\x_4\\\\x_5\\end{bmatrix}=\\begin{bmatrix}-1\\\\-1\\\\1\\\\1\\end{bmatrix},\\qquad \\begin{bmatrix}1& 1& 1& 1& 1\\\\ 0& 1& 0& 0& 1\\\\0& 0& 1& 1& 0\\\\0& 0& 0& 0& 0\\end{bmatrix}\\begin{bmatrix}x_1\\\\x_2\\\\x_3\\\\x_4\\\\x_5\\end{bmatrix}=\\begin{bmatrix}2\\\\0\\\\2\\\\-4\\end{bmatrix}$$\n",
        "\n",
        "Os sistemas $Ax=v$ e $Ax=w$ são impossíveis porque a última linha dos sistemas, na forma escalonada, leva às igualdades $0=1=-4$, o que não é aceito no problema.\n",
        "\n",
        "\n",
        "---"
      ],
      "metadata": {
        "id": "mQh6CI2IvQ_T"
      }
    },
    {
      "cell_type": "markdown",
      "source": [
        "a) Para o núcleo de $T$, queremos os vetores $x \\in \\mathbb{R}^5$ tais que $Ax = 0$ ou\n",
        "$$\\begin{bmatrix}1& 1& 1& 1& 1\\\\ 0& 1& 0& 0& 1\\\\0& 0& 1& 1& 0\\\\0& 0& 0& 0& 0\\end{bmatrix}\\begin{bmatrix}x_1\\\\x_2\\\\x_3\\\\x_4\\\\x_5\\end{bmatrix}=\\begin{bmatrix}0\\\\0\\\\0\\\\0\\end{bmatrix}$$ A solução geral do sistema homogêneo é: \\begin{cases}x_2&=&-x_5\\\\x_3&=&-x_4\\\\x_1&=&-(x_2+x_5)-(x_3+x_4)=0\\end{cases}\n",
        "que pode ser escrito como\n",
        "$$\n",
        "x = s \\begin{bmatrix} 0 \\\\ -1 \\\\ 0 \\\\ 0 \\\\ 1\\end{bmatrix} + t \\begin{bmatrix} 0 \\\\ 0 \\\\ -1 \\\\ 1 \\\\ 0 \\end{bmatrix}, \\quad s, t \\in \\mathbb{R}\n",
        "$$\n",
        "\n",
        "Uma base de $\\ker(T)$ é:\n",
        "  $$\n",
        "  \\left\\{\n",
        "  \\begin{bmatrix} 0 \\\\ -1 \\\\ 0 \\\\ 0 \\\\ 1\\end{bmatrix},\n",
        "  \\begin{bmatrix} 0 \\\\ 0 \\\\ -1 \\\\ 1 \\\\ 0 \\end{bmatrix}\n",
        "  \\right\\}\n",
        "  $$\n",
        "- Um vetor não nulo no núcleo é:\n",
        "  $$\n",
        "  u = \\begin{bmatrix} 0\\\\ -1 \\\\ -1 \\\\ 1 \\\\ 1\\end{bmatrix}\\in \\ker(T).\n",
        "  $$\n",
        "\n",
        "---"
      ],
      "metadata": {
        "id": "7ZLepuXI1YoV"
      }
    },
    {
      "cell_type": "markdown",
      "source": [
        "**Obs:** O sistema linear $Ax=v$ não tem solução **porque $T$ não é sobrejetiva**. Nesse caso, **$T$ não é injetiva** também. Mesmo assim, vamos manipular um pouco o problema para uma matriz que se comporta quase como uma inversa à direita de $A$.\n",
        "\n",
        "Primeiro observe que as três primeira linhas da matriz $A$ são linearmente independentes e geram um subspaço de $\\mathbb{R}^5$. Por outro lado $ker(T)$ é também um subespaço de $\\mathbb{R}^5$ e somando os elementos dos dois subespaços obtemos o espaço todo."
      ],
      "metadata": {
        "id": "xIQIOpPA1duG"
      }
    },
    {
      "cell_type": "markdown",
      "source": [
        "Seja $B$ a matriz que contenha as três primeiras linhas iguais à de $A$ e as duas últimas iguais aos elementos da base de $kert(T)$ que encontramos acima, ou seja, cujas linhas formam uma base de $\\mathbb{R}^5$."
      ],
      "metadata": {
        "id": "npyvLxZCfnn1"
      }
    },
    {
      "cell_type": "code",
      "source": [
        "# Define os vetores u1, u2, u3\n",
        "u1 = np.array([1, 1, 1, 1, 1])\n",
        "u2 = np.array([1, -1, 1, 1, -1])\n",
        "u3 = np.array([1, 1, -1, -1, 1])\n",
        "B=[u1,u2,u3,[0,-1,0,0,1],[0,0,-1,1,0]]\n",
        "B"
      ],
      "metadata": {
        "colab": {
          "base_uri": "https://localhost:8080/"
        },
        "id": "bwlRMlSAh6uY",
        "outputId": "20b0f8fc-2e78-4faa-9687-41ef2f668ed5"
      },
      "execution_count": null,
      "outputs": [
        {
          "output_type": "execute_result",
          "data": {
            "text/plain": [
              "[array([1, 1, 1, 1, 1]),\n",
              " array([ 1, -1,  1,  1, -1]),\n",
              " array([ 1,  1, -1, -1,  1]),\n",
              " [0, -1, 0, 0, 1],\n",
              " [0, 0, -1, 1, 0]]"
            ]
          },
          "metadata": {},
          "execution_count": 3
        }
      ]
    },
    {
      "cell_type": "markdown",
      "source": [
        "Seja $B_i$ a inversa de $B$."
      ],
      "metadata": {
        "id": "LegkjndHiQ1a"
      }
    },
    {
      "cell_type": "code",
      "source": [
        "Bi=np.linalg.inv(B) # np.linalg.inv() calcula matriz inversa.\n",
        "Bi"
      ],
      "metadata": {
        "colab": {
          "base_uri": "https://localhost:8080/"
        },
        "id": "JJdLR_GiiVXz",
        "outputId": "d470a3eb-ccff-4799-991b-00adeb0992a6"
      },
      "execution_count": null,
      "outputs": [
        {
          "output_type": "execute_result",
          "data": {
            "text/plain": [
              "array([[ 0.  ,  0.5 ,  0.5 ,  0.  ,  0.  ],\n",
              "       [ 0.25, -0.25, -0.  , -0.5 , -0.  ],\n",
              "       [ 0.25, -0.  , -0.25, -0.  , -0.5 ],\n",
              "       [ 0.25,  0.  , -0.25,  0.  ,  0.5 ],\n",
              "       [ 0.25, -0.25,  0.  ,  0.5 ,  0.  ]])"
            ]
          },
          "metadata": {},
          "execution_count": 4
        }
      ]
    },
    {
      "cell_type": "markdown",
      "source": [
        "Desta forma, quando tivermos uma equação da forma $Au=b$, podemos escrever $y=Bu$ ou $u=B_iy$ e escrever o sistema de forma equivalente como $$AB_iy=b.$$"
      ],
      "metadata": {
        "id": "L7Fa0tXylAA8"
      }
    },
    {
      "cell_type": "markdown",
      "source": [
        "Nesse caso particular do item b), incluímos mais uma coordenada nula em $v$ e $b=(-1,1,-3,3,0)$. Temos que:"
      ],
      "metadata": {
        "id": "ZtUYwyFuk_v1"
      }
    },
    {
      "cell_type": "markdown",
      "source": [
        "O sistema $AB_iy=b$ toma a forma\n",
        "$$\\begin{bmatrix}1.& 0.& 0.&  0.&0.\\\\    0.&  1.&  0.&  0.&  0\\\\ 0.& 0.& 1.&  0.&  0.\\\\ 2.&  0.&-1.&  0.&  0.\\\\0&0&0&0&0\\end{bmatrix}\\begin{bmatrix}y_1\\\\y_2\\\\y_3\\\\y_4\\\\y_5\\end{bmatrix}=\\begin{bmatrix}-1\\\\1\\\\-3\\\\3\\\\0\\end{bmatrix},$$\n",
        "\n",
        "ou seja, $B_i$ atua como uma quase inversa de $A$, e trocamos o sistema $Ax=b$ por um sistema já escalonado."
      ],
      "metadata": {
        "id": "Q8YcWWuOmyto"
      }
    },
    {
      "cell_type": "markdown",
      "source": [
        "Segue $y_4$ e $y_5$ são de livre escolha e que $y_1=-1$, $y_2=1$, $y_3=-3$ e <font color=red> $3=2y_1-y_3=-2+3=1$, o que não é aceito nesse problema."
      ],
      "metadata": {
        "id": "on2xoU3bMbRb"
      }
    },
    {
      "cell_type": "code",
      "source": [
        "b=np.array([-1,1,-3,3,0])"
      ],
      "metadata": {
        "id": "2ANzInJgl1KX"
      },
      "execution_count": null,
      "outputs": []
    },
    {
      "cell_type": "code",
      "source": [
        "A2=A1[0:4,0:5].tolist() # A1 é a matriz A com v e w incluídos como colunas.\n",
        "A2.append([0,0,0,0,0])  # Foram retiradas as colunas v e w e incluída uma lina nula no final.\n",
        "A2=np.array(A2)\n",
        "A2"
      ],
      "metadata": {
        "colab": {
          "base_uri": "https://localhost:8080/"
        },
        "id": "QfCHiTEAJFwR",
        "outputId": "e1b9a8bb-8b5d-49e6-c6ad-65b2232f00e9"
      },
      "execution_count": null,
      "outputs": [
        {
          "output_type": "execute_result",
          "data": {
            "text/plain": [
              "array([[ 1,  1,  1,  1,  1],\n",
              "       [ 1, -1,  1,  1, -1],\n",
              "       [ 1,  1, -1, -1,  1],\n",
              "       [ 1,  1,  3,  3,  1],\n",
              "       [ 0,  0,  0,  0,  0]])"
            ]
          },
          "metadata": {},
          "execution_count": 6
        }
      ]
    },
    {
      "cell_type": "code",
      "source": [
        "A2@Bi  # Cálculo de AB_i"
      ],
      "metadata": {
        "colab": {
          "base_uri": "https://localhost:8080/"
        },
        "id": "P371WvOAibTA",
        "outputId": "334097f0-ba7e-4d58-e05a-9391bc5bd2aa"
      },
      "execution_count": null,
      "outputs": [
        {
          "output_type": "execute_result",
          "data": {
            "text/plain": [
              "array([[ 1.,  0.,  0.,  0.,  0.],\n",
              "       [ 0.,  1.,  0.,  0.,  0.],\n",
              "       [ 0.,  0.,  1.,  0.,  0.],\n",
              "       [ 2.,  0., -1.,  0.,  0.],\n",
              "       [ 0.,  0.,  0.,  0.,  0.]])"
            ]
          },
          "metadata": {},
          "execution_count": 7
        }
      ]
    },
    {
      "cell_type": "markdown",
      "source": [
        "**Obs:** Embora o sistema não tenha solução, o que poderíamos ter descobrido por elimninação. Esssa forma de resolver nos diz que os vetores da forma $$u=B_i\\begin{bmatrix}-1\\\\1\\\\-3\\\\w_4\\\\w_5\\end{bmatrix}$$ são quase soluções do sistema. O erro que cometemos é $$AB_i\\begin{bmatrix}-1\\\\1\\\\-3\\\\w_4\\\\w_5\\end{bmatrix}-\\begin{bmatrix}-1\\\\1\\\\-3\\\\3\\\\0\\end{bmatrix}=\\begin{bmatrix}-1\\\\1\\\\-3\\\\1\\\\0\\end{bmatrix}-\\begin{bmatrix}-1\\\\1\\\\-3\\\\3\\\\0\\end{bmatrix}=\\begin{bmatrix}0\\\\0\\\\0\\\\-2\\\\0\\end{bmatrix}$$"
      ],
      "metadata": {
        "id": "SVpG8NuKpIxt"
      }
    },
    {
      "cell_type": "markdown",
      "source": [
        "Tomando $w_4=w_5=0$ temos um candidato$$u_1=B_i\\begin{bmatrix}-1\\\\1\\\\-3\\\\w_4\\\\w_5\\end{bmatrix}=\\begin{bmatrix}-1. \\\\ -0.5\\\\  0.5\\\\  0.5\\\\-0.5\\end{bmatrix}.$$\n"
      ],
      "metadata": {
        "id": "yXABh5NcrvEW"
      }
    },
    {
      "cell_type": "code",
      "source": [
        "u1=Bi@np.array([-1,1,-3,0,0])\n",
        "u1,A2@u1,A2@u1-b"
      ],
      "metadata": {
        "colab": {
          "base_uri": "https://localhost:8080/"
        },
        "id": "v4H4zdvWqjrx",
        "outputId": "ae8cecc2-20b4-4d2b-e837-32cd131bc889"
      },
      "execution_count": null,
      "outputs": [
        {
          "output_type": "execute_result",
          "data": {
            "text/plain": [
              "(array([-1. , -0.5,  0.5,  0.5, -0.5]),\n",
              " array([-1.,  1., -3.,  1.,  0.]),\n",
              " array([ 0.,  0.,  0., -2.,  0.]))"
            ]
          },
          "metadata": {},
          "execution_count": 8
        }
      ]
    },
    {
      "cell_type": "markdown",
      "source": [
        "Tomando $w_4=7,\\,w_5=8$ temos um candidato$$u_2=B_i\\begin{bmatrix}-1\\\\1\\\\-3\\\\w_4\\\\w_5\\end{bmatrix}=\\begin{bmatrix}-1. \\\\ -4. \\\\ -3.5\\\\  4.5\\\\  3.\\end{bmatrix}.$$"
      ],
      "metadata": {
        "id": "YdJQVIpM4Ck4"
      }
    },
    {
      "cell_type": "code",
      "source": [
        "u2=Bi@np.array([-1,1,-3,7,8])\n",
        "u2,A2@u2,A2@u2-b"
      ],
      "metadata": {
        "colab": {
          "base_uri": "https://localhost:8080/"
        },
        "id": "gGs9Xbmc2POK",
        "outputId": "7fe70a64-9ca5-4a74-90b4-c565602dcea1"
      },
      "execution_count": null,
      "outputs": [
        {
          "output_type": "execute_result",
          "data": {
            "text/plain": [
              "(array([-1. , -4. , -3.5,  4.5,  3. ]),\n",
              " array([-1.,  1., -3.,  1.,  0.]),\n",
              " array([ 0.,  0.,  0., -2.,  0.]))"
            ]
          },
          "metadata": {},
          "execution_count": 9
        }
      ]
    },
    {
      "cell_type": "markdown",
      "source": [
        "A diferença $u_1-u_2$ é um elemento do núcleo de $T$."
      ],
      "metadata": {
        "id": "MKMSflVJ5TTn"
      }
    },
    {
      "cell_type": "markdown",
      "source": [
        "Qual vetor da forma $$B_i\\begin{bmatrix}-1\\\\1\\\\-3\\\\w_4\\\\w_5\\end{bmatrix}$$ tem o menor módulo?\n",
        "\n",
        "Para responder isso vamos para a seção seguinte..."
      ],
      "metadata": {
        "id": "Knnr3A-76Lyh"
      }
    }
  ]
}