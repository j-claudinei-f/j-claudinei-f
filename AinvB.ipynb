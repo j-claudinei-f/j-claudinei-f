{
  "nbformat": 4,
  "nbformat_minor": 0,
  "metadata": {
    "colab": {
      "provenance": [],
      "authorship_tag": "ABX9TyOT8QhxjONCPbY+GhMuiH8/",
      "include_colab_link": true
    },
    "kernelspec": {
      "name": "python3",
      "display_name": "Python 3"
    },
    "language_info": {
      "name": "python"
    }
  },
  "cells": [
    {
      "cell_type": "markdown",
      "metadata": {
        "id": "view-in-github",
        "colab_type": "text"
      },
      "source": [
        "<a href=\"https://colab.research.google.com/github/j-claudinei-f/j-claudinei-f/blob/main/AinvB.ipynb\" target=\"_parent\"><img src=\"https://colab.research.google.com/assets/colab-badge.svg\" alt=\"Open In Colab\"/></a>"
      ]
    },
    {
      "cell_type": "markdown",
      "source": [
        "#**Álgebra Linear**\n",
        "\n",
        "José Claudinei Ferreira\n",
        "\n",
        "Universidade Federal de Alfenas"
      ],
      "metadata": {
        "id": "JFECzrXwiLSj"
      }
    },
    {
      "cell_type": "markdown",
      "source": [
        "Sejam $A = [a_1\\ a_2\\ \\ldots\\ a_n]$ e $B = [b_1\\ b_2\\ \\ldots\\ b_n]$ matrizes cujas colunas $\\{a_i\\}$ e $\\{b_i\\}$ formam bases de $\\mathbb{R}^n$. Queremos mostrar que a matriz de mudança de base da base $\\{b_i\\}$ para a base $\\{a_i\\}$ pode ser obtida a partir da forma escalonada reduzida por linhas da matriz aumentada $[A | B]$.\n",
        "\n",
        "Sabemos que, como $A$ e $B$ têm colunas que formam bases de $\\mathbb{R}^n$, ambas são inversíveis. A matriz de mudança de coordenadas da base $\\{b_i\\}$ para a base $\\{a_i\\}$ é dada por:\n",
        "$$\n",
        "P = A^{-1}B\n",
        "$$\n",
        "\n",
        "Ou seja, $P$ é a matriz tal que:\n",
        "$$\n",
        "AP = B\n",
        "$$\n",
        "\n",
        "Agora, consideramos a matriz aumentada $[A | B] \\in \\mathbb{R}^{n \\times 2n}$ e aplicamos operações elementares por linha para escaloná-la até obter a forma reduzida por linhas. <font color=blue> Essas operações têm o efeito de multiplicar à esquerda por $A^{-1}$:\n",
        "$$\n",
        "[A | B] \\xrightarrow{\\text{op. elementares}} [I | A^{-1}B] = [I | P]$$\n",
        "\n",
        "Portanto, a matriz de mudança de base $P$ aparece como a parte direita da forma linha degrau reduzida da matriz aumentada $[A | B]$.\n",
        "\n",
        "\n"
      ],
      "metadata": {
        "id": "4v2f6KwThru_"
      }
    },
    {
      "cell_type": "markdown",
      "source": [
        "**Exemplo de matriz de mudança de base via forma escalonada reduzida**\n",
        "\n",
        "Considere as seguintes bases de $\\mathbb{R}^2$:\n",
        "\n",
        "Base $\\mathcal{A} = \\{ a_1, a_2 \\}$, com\n",
        "  $\n",
        "  a_1 = \\begin{bmatrix} 1 \\\\ 2 \\end{bmatrix}, \\quad a_2 = \\begin{bmatrix} 3 \\\\ 4 \\end{bmatrix}\n",
        "  $.\n",
        "\n",
        "Base $\\mathcal{B} = \\{ b_1, b_2 \\}$, com\n",
        "  $\n",
        "  b_1 = \\begin{bmatrix} 2 \\\\ 1 \\end{bmatrix}, \\quad b_2 = \\begin{bmatrix} 0 \\\\ 1 \\end{bmatrix}\n",
        "  $.\n",
        "\n",
        "\n",
        "Formamos as matrizes com colunas dessas bases:\n",
        "$$\n",
        "A = \\begin{bmatrix} 1 & 3 \\\\ 2 & 4 \\end{bmatrix}, \\quad\n",
        "B = \\begin{bmatrix} 2 & 0 \\\\ 1 & 1 \\end{bmatrix}\n",
        "$$\n",
        "\n",
        "A matriz aumentada é:\n",
        "$$\n",
        "[A | B] =\n",
        "\\begin{bmatrix}\n",
        "1 & 3 & 2 & 0 \\\\\n",
        "2 & 4 & 1 & 1\n",
        "\\end{bmatrix}\n",
        "$$\n",
        "\n",
        "Aplicando operações elementares para reduzir a matriz $A$ à identidade:\n",
        "\n",
        "$L_2 \\leftarrow L_2 - 2L_1$:\n",
        "  $$\n",
        "  \\left[\n",
        "  \\begin{array}{cc|cc}\n",
        "  1 & 3 & 2 & 0 \\\\\n",
        "  0 & -2 & -3 & 1\n",
        "  \\end{array}\n",
        "  \\right]\n",
        "  $$\n",
        "\n",
        " $L_2 \\leftarrow \\frac{1}{-2} L_2$:\n",
        "  $$\n",
        "  \\left[\n",
        "  \\begin{array}{cc|cc}\n",
        "  1 & 3 & 2 & 0 \\\\\n",
        "  0 & 1 & \\frac{3}{2} & -\\frac{1}{2}\n",
        "  \\end{array}\n",
        "  \\right]\n",
        "  $$\n",
        "\n",
        " $L_1 \\leftarrow L_1 - 3L_2$:\n",
        "$$\n",
        "  \\left[\n",
        "  \\begin{array}{cc|cc}\n",
        "  1 & 0 & -\\frac{5}{2} & \\frac{3}{2} \\\\\n",
        "  0 & 1 & \\frac{3}{2} & -\\frac{1}{2}\n",
        "  \\end{array}\n",
        "  \\right]\n",
        "  $$\n",
        "  \n",
        "A forma escalonada reduzida da matriz aumentada é:\n",
        "$$\n",
        "[I | A^{-1}B] =\n",
        "\\left[\n",
        "\\begin{array}{cc|cc}\n",
        "1 & 0 & -\\frac{5}{2} & \\frac{3}{2} \\\\\n",
        "0 & 1 & \\frac{3}{2} & -\\frac{1}{2}\n",
        "\\end{array}\n",
        "\\right]$$\n",
        "\n",
        "Portanto, a matriz de mudança de base da base $\\mathcal{B}$ para a base $\\mathcal{A}$ é:\n",
        "$$\n",
        "P = A^{-1}B =\n",
        "\\begin{bmatrix}\n",
        "-\\frac{5}{2} & \\frac{3}{2} \\\\\n",
        "\\frac{3}{2} & -\\frac{1}{2}\n",
        "\\end{bmatrix}\n",
        "$$\n"
      ],
      "metadata": {
        "id": "dLwstGAji3Ge"
      }
    }
  ]
}