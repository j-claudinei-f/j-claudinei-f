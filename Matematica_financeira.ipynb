{
  "nbformat": 4,
  "nbformat_minor": 0,
  "metadata": {
    "colab": {
      "provenance": [],
      "authorship_tag": "ABX9TyP0lYreeI7tHoVsBxBCiYiO",
      "include_colab_link": true
    },
    "kernelspec": {
      "name": "python3",
      "display_name": "Python 3"
    },
    "language_info": {
      "name": "python"
    }
  },
  "cells": [
    {
      "cell_type": "markdown",
      "metadata": {
        "id": "view-in-github",
        "colab_type": "text"
      },
      "source": [
        "<a href=\"https://colab.research.google.com/github/j-claudinei-f/j-claudinei-f/blob/main/Matematica_financeira.ipynb\" target=\"_parent\"><img src=\"https://colab.research.google.com/assets/colab-badge.svg\" alt=\"Open In Colab\"/></a>"
      ]
    },
    {
      "cell_type": "markdown",
      "source": [
        "#**Matemática Discreta**\n",
        "\n",
        "José Claudinei Ferreira\n",
        "\n",
        "Universidade Federal de Alfenas"
      ],
      "metadata": {
        "id": "8hJ2hAKF4btD"
      }
    },
    {
      "cell_type": "markdown",
      "source": [
        "#**Sobre os sistemas SAC e PRICE**"
      ],
      "metadata": {
        "id": "at6cW8XFjAKO"
      }
    },
    {
      "cell_type": "markdown",
      "source": [
        "Supunha que um valor $V_p$ seja emprestado a uma taxa de juros mensal $i$.\n",
        "Suponha também que o valor será pago mensalmente, sem entrada, iniciando no mês seguinte ao da negociação."
      ],
      "metadata": {
        "id": "7UDQRcaJjJRN"
      }
    },
    {
      "cell_type": "markdown",
      "source": [
        "**Exemplo 1:** João empresta $R\\$ 100.000,00$ para Pedro. O acordo é que Pedro pague 10 prestações mensais, sem entrada, com uma taxa de juros $i=1\\%$ ao mês."
      ],
      "metadata": {
        "id": "rbK4wPO_jmCD"
      }
    },
    {
      "cell_type": "markdown",
      "source": [
        "Esse pagamento pode ser pensado de duas formas, ou dois modos de pensar, por exemplo."
      ],
      "metadata": {
        "id": "1ZDkzZf6lkQ2"
      }
    },
    {
      "cell_type": "markdown",
      "source": [
        "#**O modelo SAC**\n",
        "\n"
      ],
      "metadata": {
        "id": "ggMd0iTXlsjD"
      }
    },
    {
      "cell_type": "markdown",
      "source": [
        "No modelo SAC (sistema de amortização constante) é feito o pagamento mensal dos juros da dívida (do valor devido no mês anterior ao pagamento) acrescido de $V_p/n$. Ou seja, divide-se o valor emprestado pelo número de parcelas e acrescenta os juros da dívida atual no pagamento mensal."
      ],
      "metadata": {
        "id": "pMz8Na4zml1i"
      }
    },
    {
      "cell_type": "markdown",
      "source": [
        "A ideia básica é que, no mês $k$, será pago o valor $V_p/n+J_k$, em que $J_k=iD_{k-1}$. Aqui $D_{k-1}=V_p-(k-1)V_p/n$ (dívida inicial menos o que já foi pago) é o valor devido no mês $k-1$."
      ],
      "metadata": {
        "id": "11d1ZeF7retp"
      }
    },
    {
      "cell_type": "markdown",
      "source": [
        "**Exemplo 2:** Pedro pode propor o pagamento mensal dos juros da dívida (do valor devido no mês anterior ao pagamento) acrescidos de $R\\$10.000,00$. Ou seja, ele divide o valor emprestado pelo número de parcelas e acrescenta os juros do que deve no pagamento mensal.\n",
        "\n",
        "A seguir tem uma simulação dos pagamentos e da dívida restante, em cada um dos 10 meses de pagamento."
      ],
      "metadata": {
        "id": "H4r7x8Gkl8Ew"
      }
    },
    {
      "cell_type": "code",
      "execution_count": null,
      "metadata": {
        "colab": {
          "base_uri": "https://localhost:8080/"
        },
        "id": "rYSPFmxPemnd",
        "outputId": "b4a052a8-168b-40c2-d124-93eaab2c9c41"
      },
      "outputs": [
        {
          "output_type": "stream",
          "name": "stdout",
          "text": [
            "Prestação no mês  1 é de R$ 11000.0 e a dívida no mês  1 é de R$ 90000.0 .\n",
            "\n",
            "Prestação no mês  2 é de R$ 10900.0 e a dívida no mês  2 é de R$ 80000.0 .\n",
            "\n",
            "Prestação no mês  3 é de R$ 10800.0 e a dívida no mês  3 é de R$ 70000.0 .\n",
            "\n",
            "Prestação no mês  4 é de R$ 10700.0 e a dívida no mês  4 é de R$ 60000.0 .\n",
            "\n",
            "Prestação no mês  5 é de R$ 10600.0 e a dívida no mês  5 é de R$ 50000.0 .\n",
            "\n",
            "Prestação no mês  6 é de R$ 10500.0 e a dívida no mês  6 é de R$ 40000.0 .\n",
            "\n",
            "Prestação no mês  7 é de R$ 10400.0 e a dívida no mês  7 é de R$ 30000.0 .\n",
            "\n",
            "Prestação no mês  8 é de R$ 10300.0 e a dívida no mês  8 é de R$ 20000.0 .\n",
            "\n",
            "Prestação no mês  9 é de R$ 10200.0 e a dívida no mês  9 é de R$ 10000.0 .\n",
            "\n",
            "Prestação no mês  10 é de R$ 10100.0 e a dívida no mês  10 é de R$ 0.0 .\n",
            "\n"
          ]
        }
      ],
      "source": [
        "Divida=[100000]                                 # Dívida inicial de pedro.\n",
        "i=1/100                                      # Taxa de juros mensais\n",
        "n=10                                         # Número de perstações, sem entrada.\n",
        "Amortizacao=Divida[0]/n\n",
        "Juros=[0]\n",
        "Prestacao=[0]\n",
        "for j in range (1,n+1):\n",
        "  Prestacao=Prestacao+[Divida[j-1]*i+10000]\n",
        "  Divida=Divida +[Divida[j-1]-Amortizacao]\n",
        "  print('Prestação no mês ',j,'é de R$',Prestacao[j],'e a dívida no mês ',j,'é de R$',Divida[j],'.\\n')"
      ]
    },
    {
      "cell_type": "markdown",
      "source": [
        "#**O modelo PRICE**\n",
        "\n"
      ],
      "metadata": {
        "id": "2zE4hPsQqXDp"
      }
    },
    {
      "cell_type": "markdown",
      "source": [
        "No modelo PRICE (sistema de pagamentos constantes) é feito o pagamento mensal fixo e igual a $P$, que inclui juros da dívida (do valor devido no mês anterior ao pagamento) acrescido de uma amortização. Ou seja, faz-se um ajuste para balancear pagamento de juros e amortizações, para manter fixo o valor das parcelas."
      ],
      "metadata": {
        "id": "ZghHfMKBqXDr"
      }
    },
    {
      "cell_type": "markdown",
      "source": [
        "A ideia básica é que serão feitos $n$ pagamentos de valor fixo. Para calcular esse valor, tendo em mente a taxa de juros mensal $i$, olhamos para essas parcelas no presente, digamos, com desconto.\n",
        "\n",
        "Então a primeira parcela, no valor $P$, depois de um mês, teria desconto dado como $$\\frac{P}{1+i},$$ porque seria esse valor que se tornaria $P$ após um mês, com a taxa de juros $i$.\n",
        "\n",
        "Da mesma forma, a parcela $k$, no valor $P$, depois de $k$ meses, teria desconto dado como $$\\frac{P}{(1+i)^k},$$ porque seria esse valor que se tornaria $P$ após $k$ mêses, com a taxa de juros $i$.\n",
        "\n",
        "Então o valor de $P$ vem da igualdade $$V_p=\\frac{P}{(1+i)}+\\frac{P}{(1+i)^2}+\\cdots \\frac{P}{(1+i)^n}=P\\frac{1-(1+i)^{-n}}{i}.$$"
      ],
      "metadata": {
        "id": "aYauv_7csgzu"
      }
    },
    {
      "cell_type": "markdown",
      "source": [
        "**Exemplo 3:** Pedro pode propor o pagamento mensal com paracelas fixas, no valor $$P=A\\frac{i}{1-(1+i)^{-n}}=100\\frac{0.01}{1-(1.01)^{-10}}$$. \n",
        "\n",
        "A seguir tem uma simulação dos pagamentos e da dívida restante, em cada um dos 10 meses de pagamento."
      ],
      "metadata": {
        "id": "pNGuQ5DTqXDs"
      }
    },
    {
      "cell_type": "code",
      "execution_count": 10,
      "metadata": {
        "colab": {
          "base_uri": "https://localhost:8080/"
        },
        "outputId": "a922ed9a-dcc3-4dba-b84b-6b2564528073",
        "id": "lEzsVboFqXDu"
      },
      "outputs": [
        {
          "output_type": "stream",
          "name": "stdout",
          "text": [
            "Prestações fixas de 10558.207655117132 \n",
            "\n",
            "Juros no mês  1 é de R$ 1000.00 , Amortização no mês  1 é de R$ 9558.21 e a dívida no mês  1 é de R$ 90441.79 .\n",
            "\n",
            "Juros no mês  2 é de R$ 904.42 , Amortização no mês  2 é de R$ 9653.79 e a dívida no mês  2 é de R$ 80788.00 .\n",
            "\n",
            "Juros no mês  3 é de R$ 807.88 , Amortização no mês  3 é de R$ 9750.33 e a dívida no mês  3 é de R$ 71037.67 .\n",
            "\n",
            "Juros no mês  4 é de R$ 710.38 , Amortização no mês  4 é de R$ 9847.83 e a dívida no mês  4 é de R$ 61189.84 .\n",
            "\n",
            "Juros no mês  5 é de R$ 611.90 , Amortização no mês  5 é de R$ 9946.31 e a dívida no mês  5 é de R$ 51243.53 .\n",
            "\n",
            "Juros no mês  6 é de R$ 512.44 , Amortização no mês  6 é de R$ 10045.77 e a dívida no mês  6 é de R$ 41197.76 .\n",
            "\n",
            "Juros no mês  7 é de R$ 411.98 , Amortização no mês  7 é de R$ 10146.23 e a dívida no mês  7 é de R$ 31051.53 .\n",
            "\n",
            "Juros no mês  8 é de R$ 310.52 , Amortização no mês  8 é de R$ 10247.69 e a dívida no mês  8 é de R$ 20803.84 .\n",
            "\n",
            "Juros no mês  9 é de R$ 208.04 , Amortização no mês  9 é de R$ 10350.17 e a dívida no mês  9 é de R$ 10453.67 .\n",
            "\n",
            "Juros no mês  10 é de R$ 104.54 , Amortização no mês  10 é de R$ 10453.67 e a dívida no mês  10 é de R$ 0.00 .\n",
            "\n"
          ]
        }
      ],
      "source": [
        "Divida=[100000]                                 # Dívida inicial de pedro.\n",
        "i=1/100                                      # Taxa de juros mensais.\n",
        "n=10                                         # Número de perstações, sem entrada.\n",
        "Juros=[0]\n",
        "Prestacao=Divida[0]*i/(1-(1+i)**(-n))        # Valor da prestção fixa.\n",
        "print('Prestações fixas de',Prestacao,'\\n')\n",
        "Amortizacao=[0]\n",
        "for j in range (1,n+1):\n",
        "  Amortizacao=Amortizacao+[Prestacao-Divida[j-1]*i]\n",
        "  Divida=Divida +[Divida[j-1]-Amortizacao[j]]  \n",
        "  print('Juros no mês ',j,'é de R$','{:.2f}'.format(Divida[j-1]*i),', Amortização no mês ',j,'é de R$','{:.2f}'.format(Amortizacao[j]),'e a dívida no mês ',j,'é de R$','{:.2f}'.format(Divida[j]),'.\\n')"
      ]
    },
    {
      "cell_type": "markdown",
      "source": [
        "#**E qual modelo de pagamento compensa para Pedro?**"
      ],
      "metadata": {
        "id": "Hhtf0syFqWE9"
      }
    },
    {
      "cell_type": "markdown",
      "source": [
        "A primeira coisa a se pensar é se Pedro pode escolher: Ele pode pagar uma das duas prestações, ou só pode pagar a menor delas?"
      ],
      "metadata": {
        "id": "4CzMifaH0EOk"
      }
    },
    {
      "cell_type": "markdown",
      "source": [
        "É melhor refazer esta pergunta como: \n",
        "\n",
        "Supondo que pedro possa pagar as parcelas no sistema SAC ou no PRICE. Se o valor do dinheiro no amanhã de Pedro puder ser estimado, digamos que com taxa valorização (ou desvalorização) mensal (média) igual $l$, em qual modelo ele perde menos dinheiro?"
      ],
      "metadata": {
        "id": "q9nOuE2yxlxV"
      }
    },
    {
      "cell_type": "markdown",
      "source": [
        "**Obs:** Nas letras pequenas dos contratos, é comum ter a descrição de reajuste de saldo devedor, com [alguma outra taxa de juros](https://www.melhorcambio.com/tr)."
      ],
      "metadata": {
        "id": "tBu2Qjda2mKM"
      }
    },
    {
      "cell_type": "markdown",
      "source": [
        "#**A taxa TR**\n",
        "\n",
        "Muitos financiamentos imobiliários são feitos usando o sistema SAC e o PRICE.\n",
        "\n",
        "Entretanto, há uma correção de saldo devedor implícita no processo. Essa correção depende da situação financeira do país em cada momento. Depende de intervenções políticas também.\n",
        "\n",
        "Isso faz com que as prestações não sejam exatamente o que pode ser simulado, usando as taxas de juros do contrato, como simulamos nos dois exemplos anteriores."
      ],
      "metadata": {
        "id": "ua3RUnzCx_S7"
      }
    },
    {
      "cell_type": "markdown",
      "source": [
        "**Exemplo 4:** Vamos considerar neste exemplo um empréstimo feito no sistema SAC, como o do Exemplo 2 deste texto.\n",
        "\n",
        "Neste caso, vamos supor que o negógio ocorreu no ínicio de janeiro de 2022, e que além da taxa de $1\\%$ ao mês no acordo de empréstimo, há um ajuste no saldo devedor, de acordo com a [taxa TR](https://www.bcb.gov.br/estatisticas/remuneradepositospoupanca).\n",
        "\n",
        "No que segue há os valores da TR em cada mês do ano de 2022."
      ],
      "metadata": {
        "id": "UUsmVc2lpnI6"
      }
    },
    {
      "cell_type": "code",
      "source": [
        "TR=[0.06,0,0.1,0.06,0.17,0.15,0.16,0.24,0.18,0.15,0.15,0.21]     # Taxa referencial de janeiro a dezembro de 2022; Em janeiro foi de 0.06%, por exemplo."
      ],
      "metadata": {
        "id": "vsMuSK-OyB9g"
      },
      "execution_count": null,
      "outputs": []
    },
    {
      "cell_type": "code",
      "source": [
        "import pandas as pd    # Para lidar com tabelas\n",
        "\n",
        "df = pd.DataFrame(TR,columns=['Taxa TR'],index=['janeiro','fevereiro','março','abril','maio','junho','julho','agosto','setembro','outubro','novembro','dezembro'])\n",
        "print(df)"
      ],
      "metadata": {
        "colab": {
          "base_uri": "https://localhost:8080/"
        },
        "id": "hbVAkvMgpX5P",
        "outputId": "0584f12f-56ef-4354-ef6b-6486ff81470f"
      },
      "execution_count": null,
      "outputs": [
        {
          "output_type": "stream",
          "name": "stdout",
          "text": [
            "           Taxa TR\n",
            "janeiro       0.06\n",
            "fevereiro     0.00\n",
            "março         0.10\n",
            "abril         0.06\n",
            "maio          0.17\n",
            "junho         0.15\n",
            "julho         0.16\n",
            "agosto        0.24\n",
            "setembro      0.18\n",
            "outubro       0.15\n",
            "novembro      0.15\n",
            "dezembro      0.21\n"
          ]
        }
      ]
    },
    {
      "cell_type": "markdown",
      "source": [
        "<font color=blue> Qual foi a TR média de 2022? E a TR anual?"
      ],
      "metadata": {
        "id": "u4TRUqpMtxbu"
      }
    },
    {
      "cell_type": "markdown",
      "source": [
        "Então as prestações e saldo devedor ficam como segue:"
      ],
      "metadata": {
        "id": "AExUJk1PwoYi"
      }
    },
    {
      "cell_type": "code",
      "source": [
        "Divida=[100000]                                 # Dívida inicial de Pedro.\n",
        "i=1/100                                      # Taxa de juros mensais\n",
        "n=10                                         # Número de perstações, sem entrada.\n",
        "Amortizacao=Divida[0]/n\n",
        "Juros=[0]\n",
        "Prestacao=[0]\n",
        "for j in range (1,n+1):\n",
        "  Prestacao=Prestacao+[Divida[j-1]*(i+TR[j-1]/100)+10000]\n",
        "  Divida=Divida +[Divida[j-1]-Amortizacao]\n",
        "  print('Prestação no mês ',j,'é de R$',Prestacao[j],'e a dívida no mês ',j,'é de R$',Divida[j],'.\\n')\n"
      ],
      "metadata": {
        "colab": {
          "base_uri": "https://localhost:8080/"
        },
        "id": "-w-xUGv6wyTU",
        "outputId": "36133ea7-4080-42b3-d7bd-cdb4c53746cb"
      },
      "execution_count": null,
      "outputs": [
        {
          "output_type": "stream",
          "name": "stdout",
          "text": [
            "Prestação no mês  1 é de R$ 11060.0 e a dívida no mês  1 é de R$ 90000.0 .\n",
            "\n",
            "Prestação no mês  2 é de R$ 10900.0 e a dívida no mês  2 é de R$ 80000.0 .\n",
            "\n",
            "Prestação no mês  3 é de R$ 10880.0 e a dívida no mês  3 é de R$ 70000.0 .\n",
            "\n",
            "Prestação no mês  4 é de R$ 10742.0 e a dívida no mês  4 é de R$ 60000.0 .\n",
            "\n",
            "Prestação no mês  5 é de R$ 10702.0 e a dívida no mês  5 é de R$ 50000.0 .\n",
            "\n",
            "Prestação no mês  6 é de R$ 10575.0 e a dívida no mês  6 é de R$ 40000.0 .\n",
            "\n",
            "Prestação no mês  7 é de R$ 10464.0 e a dívida no mês  7 é de R$ 30000.0 .\n",
            "\n",
            "Prestação no mês  8 é de R$ 10372.0 e a dívida no mês  8 é de R$ 20000.0 .\n",
            "\n",
            "Prestação no mês  9 é de R$ 10236.0 e a dívida no mês  9 é de R$ 10000.0 .\n",
            "\n",
            "Prestação no mês  10 é de R$ 10115.0 e a dívida no mês  10 é de R$ 0.0 .\n",
            "\n"
          ]
        }
      ]
    },
    {
      "cell_type": "markdown",
      "source": [
        "Observe que no sistema SAC a amortização fica constante, mesmo com ajuste pela TR. Mas a prestação muda."
      ],
      "metadata": {
        "id": "3Bo4Dne4xbw_"
      }
    },
    {
      "cell_type": "markdown",
      "source": [
        "**Exemplo 5:** Vamos considerar neste exemplo um empréstimo feito no sistema PRICE, como o do Exemplo 3 deste texto.\n",
        "\n",
        "Nesse caso, vamos supor que o negógio ocorrei no ínicio de janeiro de 2022, e que além da taxa de $1\\%$ ao mês no acordo de empréstimo, há um ajuste no saldo devedor, de acordo com a taxa TR.\n",
        "\n",
        "No caso do Sistema PRICE há várias formas de fazer esse ajuste. A mais comum é que o ajuste seja feito anualmente. No caso do problema deste exemplo, isso significaria uma última prestação com valor maior que as demais. \n",
        "\n",
        "Deixo vocês pensarem sobre isso."
      ],
      "metadata": {
        "id": "Mo2Ul237x9Lc"
      }
    },
    {
      "cell_type": "markdown",
      "source": [
        "#**Sobre o limite $$\\lim_{n\\to +\\infty}\\left(1+\\frac{1}{n}\\right)^n$$**"
      ],
      "metadata": {
        "id": "JjqDBehvyobS"
      }
    },
    {
      "cell_type": "markdown",
      "source": [
        "Nas discussões deste texto surge a necessida de pensarmos sobre taxas de juros em períodos diferentes. Por exemplo, ao mês ou ao ano.\n",
        "\n",
        "De modo geral, considerando um capital $C$ a uma taxa de juros $i$, por períodos de tempo $t_1$, podemos pensar sobre a taxa de juros em um período $t_2=mt_1$, com $m$ número natural, da seguinte forma.\n",
        "\n",
        "Após o período $t_2$ o capital terá uma variação dada por $$C(1+j)=C(1+i)^m,$$ em que $j$ é a taxa em ralação ao período $t_2$. Então \n",
        "$$j=(1+i)^m-1.$$"
      ],
      "metadata": {
        "id": "EDs87t1qzBeG"
      }
    },
    {
      "cell_type": "markdown",
      "source": [
        "Podemos usar essa ideia e lidar com períodos $t_1$ e $t_2=r t_1$, em que $r$ é um número real, ou mesmo em taxas de juros instântaneas."
      ],
      "metadata": {
        "id": "DhzNxHON0K4J"
      }
    },
    {
      "cell_type": "markdown",
      "source": [
        "**O número $e$**\n",
        "\n",
        "Considere a sequência $$s_n=1+1+\\frac{1}{2!}+\\frac{1}{3!}+\\cdots +\\frac{1}{n!}.$$\n",
        "\n",
        "É simples vermos que $2<s_n<s_{n+1}$ e que \n",
        "$$s_n=1+1+\\frac{1}{2!}+\\frac{1}{3!}+\\cdots +\\frac{1}{n!}< 1+1+\\frac{1}{2}+\\frac{1}{2^2}+\\cdots +\\frac{1}{2^{n-1}}=1+\\frac{1-\\frac{1}{2^n}}{1-\\frac{1}{2}}=3-\\frac{1}{2^{n-1}}<3.$$\n",
        "\n",
        "Então a [completude do conjunto dos números reais](https://pt.wikipedia.org/wiki/N%C3%BAmero_real#Completude) (os números são indentificados com uma reta contínua) nos diz que esta sequência converge para, digamos $e$, ou seja,\n",
        "$$e=1+1+\\frac{1}{2!}+\\frac{1}{3!}+\\cdots +\\frac{1}{n!}+\\cdots$$"
      ],
      "metadata": {
        "id": "jwrxIPhd0fil"
      }
    },
    {
      "cell_type": "code",
      "source": [
        "import numpy as np\n",
        "\n",
        "e=np.exp(1)\n",
        "e"
      ],
      "metadata": {
        "colab": {
          "base_uri": "https://localhost:8080/"
        },
        "id": "N9PVYFpw2UI0",
        "outputId": "26467a00-e035-42f9-e6af-722f06343d4a"
      },
      "execution_count": 12,
      "outputs": [
        {
          "output_type": "execute_result",
          "data": {
            "text/plain": [
              "2.718281828459045"
            ]
          },
          "metadata": {},
          "execution_count": 12
        }
      ]
    },
    {
      "cell_type": "markdown",
      "source": [
        "Considere agora a sequência $$r_n=\\left(1+\\frac{1}{n}\\right)^n.$$\n",
        "\n",
        "Segue que \n",
        "$$r_n=\\left(1+\\frac{1}{n}\\right)\\left(1+\\frac{1}{n}\\right)\\cdots \\left(1+\\frac{1}{n}\\right)=1+\\binom{n}{1}\\left(\\frac{1}{n}\\right)+\\binom{n}{2}\\left(\\frac{1}{n}\\right)^2+\\binom{n}{3}\\left(\\frac{1}{n}\\right)^3+\\cdots+\\left(\\frac{1}{n}\\right)^n,$$ em que \n",
        "$$\\binom{n}{k}=\\frac{n!}{k!(n-k)!}$$ é o número de combinações de $n$ elementos distintos $k$ a $k$.\n",
        "\n",
        "Assim, $$r_n=1+\\frac{n!}{1!(n-1)!}\\left(\\frac{1}{n}\\right)+\\frac{n!}{2!(n-2)!}\\left(\\frac{1}{n}\\right)^2+\\frac{n!}{3!(n-3)!}\\left(\\frac{1}{n}\\right)^3+\\cdots+\\left(\\frac{1}{n}\\right)^n,$$ ou \n",
        "$$r_n=1+1+\\frac{n(n-1)}{n^2}\\frac{1}{2!}+\\frac{n(n-1)(n-2)}{n^3}\\frac{1}{3!}+\\cdots+\\left(\\frac{1}{n}\\right)^n<1+1+\\frac{1}{2!}+\\frac{1}{3!}+\\cdots +\\frac{1}{n!}=s_n.$$\n",
        "\n",
        "Por outro lado, se $k$ for um número natural muito menor que $n$, então\n",
        "$$r_n=1+1+\\left(1-\\frac{1}{n}\\right)\\frac{1}{2!}+\\left(1-\\frac{1}{n}\\right)\\left(1-\\frac{2}{n}\\right)\\frac{1}{3!}+\\cdots+\\left(1-\\frac{1}{n}\\right)\\left(1-\\frac{2}{n}\\right)\\cdots \\left(1-\\frac{k}{n}\\right)\\frac{1}{k!}+\\cdots+\\left(\\frac{1}{n}\\right)^n.$$\n",
        "Em particular, $$1+1+\\left(1-\\frac{1}{n}\\right)\\frac{1}{2!}+\\left(1-\\frac{1}{n}\\right)\\left(1-\\frac{2}{n}\\right)\\frac{1}{3!}+\\cdots+\\left(1-\\frac{1}{n}\\right)\\left(1-\\frac{2}{n}\\right)\\cdots \\left(1-\\frac{k}{n}\\right)\\frac{1}{k!}< r_{n}.$$"
      ],
      "metadata": {
        "id": "i_adsNYe2MVh"
      }
    },
    {
      "cell_type": "markdown",
      "source": [
        "Se fixarmos $k$ e deixarmos $n$ crescer muito, vamos obter \n",
        "$$s_k\\approx 1+1+\\left(1-\\frac{1}{n}\\right)\\frac{1}{2!}+\\left(1-\\frac{1}{n}\\right)\\left(1-\\frac{2}{n}\\right)\\frac{1}{3!}+\\cdots+\\left(1-\\frac{1}{n}\\right)\\left(1-\\frac{2}{n}\\right)\\cdots \\left(1-\\frac{k}{n}\\right)\\frac{1}{k!}< r_{n}.$$"
      ],
      "metadata": {
        "id": "s3LgYs_vIIqD"
      }
    },
    {
      "cell_type": "markdown",
      "source": [
        "Mais uma vez, <font color=blue>  a completude do conjunto dos números reais nos diz que $s_n$ e $r_n$ convergem para o mesmo lugar."
      ],
      "metadata": {
        "id": "dA0rzMAOImc0"
      }
    },
    {
      "cell_type": "markdown",
      "source": [
        "Com um pouco mais de argumentação, que não apresento aqui, chegamos a $$\\lim_{x\\to +\\infty}\\left(1+\\frac{t}{x}\\right)^x=e^t,\\qquad t\\in \\mathbb{R}.$$"
      ],
      "metadata": {
        "id": "5maEBX4pJxOc"
      }
    },
    {
      "cell_type": "markdown",
      "source": [
        "#**A taxa nominal e a taxa de juros instantânea**\n",
        "\n",
        "De modo geral, considerando um capital $C$ a uma taxa de juros $i$, por períodos de tempo $t_1$, podemos pensar sobre a taxa de juros em um período $t_2=nt_1$, com $n$ número natural, da seguinte forma.\n",
        "\n",
        "Se consireramos a taxa nominal de juros $J$ no período $t_2$, ou seja, a soma de cada taxa nos $n$ períodos $t_1$, o capital terá uma variação dada por $$C(1+j)=C\\left(1+\\frac{J}{n}\\right)^n,$$ em que $j$ é a taxa em ralação ao período $t_2$. Isso nos diz que, quando $n$ cresce muito, vale a relação \n",
        "$$1+j\\approx e^J=\\lim_{n\\to+\\infty}\\left(1+\\frac{J}{n}\\right)^n.$$ \n",
        "\n",
        "Em particular, segue que $$J\\approx \\ln(1+j).$$\n",
        "\n",
        "**Exemplo 6:** Tenho um financiamento a uma taxa de juros efetiva (juros compostos, porque o pagamento é mensal) $j$ de $6.75\\%$ ao ano. Então taxa nominal de juros é de $$\\ln(1+0.0675)\\approx 0.06532$$ ou de $6.53\\%$ ao ano."
      ],
      "metadata": {
        "id": "3vPBaU7YabUD"
      }
    },
    {
      "cell_type": "code",
      "source": [
        "np.log(1+0.0675)"
      ],
      "metadata": {
        "colab": {
          "base_uri": "https://localhost:8080/"
        },
        "id": "5NSA3sdsehWY",
        "outputId": "bab82ef2-725a-46a7-d1ef-a1f20266eb44"
      },
      "execution_count": 13,
      "outputs": [
        {
          "output_type": "execute_result",
          "data": {
            "text/plain": [
              "0.06531946612064246"
            ]
          },
          "metadata": {},
          "execution_count": 13
        }
      ]
    },
    {
      "cell_type": "markdown",
      "source": [
        "**Exemplo 7:** No caso da [TR do ano de 2022](https://brasilindicadores.com.br/tr), podemos somar as taxas de cada mês e obtermos a TR nominal "
      ],
      "metadata": {
        "id": "whnWSpq0idRR"
      }
    },
    {
      "cell_type": "code",
      "source": [
        "TR=np.array(TR)\n",
        "J=np.sum(TR)/100\n",
        "J"
      ],
      "metadata": {
        "colab": {
          "base_uri": "https://localhost:8080/"
        },
        "id": "gextc9HHilu9",
        "outputId": "31f3cb92-4b0d-4b76-f5f5-9a3209f1aff3"
      },
      "execution_count": null,
      "outputs": [
        {
          "output_type": "execute_result",
          "data": {
            "text/plain": [
              "0.016299999999999995"
            ]
          },
          "metadata": {},
          "execution_count": 16
        }
      ]
    },
    {
      "cell_type": "markdown",
      "source": [
        "ou $1.63\\%$ ao ano."
      ],
      "metadata": {
        "id": "G0E3FUGbjcOk"
      }
    },
    {
      "cell_type": "markdown",
      "source": [
        "Mas a TR efetiva (juros compostos) foi de "
      ],
      "metadata": {
        "id": "VqPFitfVjAVk"
      }
    },
    {
      "cell_type": "code",
      "source": [
        "np.exp(J)-1"
      ],
      "metadata": {
        "colab": {
          "base_uri": "https://localhost:8080/"
        },
        "id": "JsT2Ne3pjD21",
        "outputId": "1a521bff-fa34-4b93-c164-472dbb481d5f"
      },
      "execution_count": null,
      "outputs": [
        {
          "output_type": "execute_result",
          "data": {
            "text/plain": [
              "0.016433569742080323"
            ]
          },
          "metadata": {},
          "execution_count": 17
        }
      ]
    },
    {
      "cell_type": "markdown",
      "source": [
        "ou $1.64\\%$ ao ano, aproximadamente."
      ],
      "metadata": {
        "id": "LzjxG1Ujjpxv"
      }
    }
  ]
}