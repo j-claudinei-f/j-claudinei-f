{
  "nbformat": 4,
  "nbformat_minor": 0,
  "metadata": {
    "colab": {
      "provenance": [],
      "authorship_tag": "ABX9TyMTKuy5CwheUWRpwBC3Be0D",
      "include_colab_link": true
    },
    "kernelspec": {
      "name": "python3",
      "display_name": "Python 3"
    },
    "language_info": {
      "name": "python"
    }
  },
  "cells": [
    {
      "cell_type": "markdown",
      "metadata": {
        "id": "view-in-github",
        "colab_type": "text"
      },
      "source": [
        "<a href=\"https://colab.research.google.com/github/j-claudinei-f/j-claudinei-f/blob/main/Matematica_financeira.ipynb\" target=\"_parent\"><img src=\"https://colab.research.google.com/assets/colab-badge.svg\" alt=\"Open In Colab\"/></a>"
      ]
    },
    {
      "cell_type": "markdown",
      "source": [
        "#**Matemática Discreta**\n",
        "\n",
        "José Claudinei Ferreira\n",
        "\n",
        "Universidade Federal de Alfenas"
      ],
      "metadata": {
        "id": "8hJ2hAKF4btD"
      }
    },
    {
      "cell_type": "markdown",
      "source": [
        "#**Sobre os sistemas SAC e PRICE**"
      ],
      "metadata": {
        "id": "at6cW8XFjAKO"
      }
    },
    {
      "cell_type": "markdown",
      "source": [
        "Supunha que um valor $V_p$ seja emprestado a uma taxa de juros mensal $i$.\n",
        "Suponha também que o valor será pago mensalmente, sem entrada, iniciando no mês seguinte ao da negociação."
      ],
      "metadata": {
        "id": "7UDQRcaJjJRN"
      }
    },
    {
      "cell_type": "markdown",
      "source": [
        "**Exemplo:** João empresta $R\\$ 100.000,00$ para Pedro. O acordo é que Pedro pague 10 prestações mensais, sem entrada, com uma taxa de juros $i=1\\%$ ao mês."
      ],
      "metadata": {
        "id": "rbK4wPO_jmCD"
      }
    },
    {
      "cell_type": "markdown",
      "source": [
        "Esse pagamento pode ser pensado de duas formas, ou dois modos de pensar, por exemplo."
      ],
      "metadata": {
        "id": "1ZDkzZf6lkQ2"
      }
    },
    {
      "cell_type": "markdown",
      "source": [
        "#**O modelo SAC**\n",
        "\n"
      ],
      "metadata": {
        "id": "ggMd0iTXlsjD"
      }
    },
    {
      "cell_type": "markdown",
      "source": [
        "No modelo SAC (sistema de amortização constante) é feito o pagamento mensal dos juros da dívida (do valor devido no mês anterior ao pagamento) acrescido de $V_p/n$. Ou seja, divide-se o valor emprestado pelo número de parcelas e acrescenta os juros da dívida atual no pagamento mensal."
      ],
      "metadata": {
        "id": "pMz8Na4zml1i"
      }
    },
    {
      "cell_type": "markdown",
      "source": [
        "A ideia básica é que, no mês $k$, será pago o valor $V_p/n+J_k$, em que $J_k=iD_{k-1}$. Aqui $D_{k-1}=V_p-(k-1)V_p/n$ (dívida inicial menos o que já foi pago) é o valor devido no mês $k-1$."
      ],
      "metadata": {
        "id": "11d1ZeF7retp"
      }
    },
    {
      "cell_type": "markdown",
      "source": [
        "**Exemplo:** Pedro pode propor o pagamento mensal dos juros da dívida (do valor devido no mês anterior ao pagamento) acrescidos de $R\\$10.000,00$. Ou seja, ele divide o valor emprestado pelo número de parcelas e acrescenta os juros do que deve no pagamento mensal.\n",
        "\n",
        "A seguir tem uma simulação dos pagamentos e da dívida restante, em cada um dos 10 meses de pagamento."
      ],
      "metadata": {
        "id": "H4r7x8Gkl8Ew"
      }
    },
    {
      "cell_type": "code",
      "execution_count": 26,
      "metadata": {
        "colab": {
          "base_uri": "https://localhost:8080/"
        },
        "id": "rYSPFmxPemnd",
        "outputId": "eeb12a65-dbe9-459b-bf18-3e8f49bdb8a5"
      },
      "outputs": [
        {
          "output_type": "stream",
          "name": "stdout",
          "text": [
            "Prestação no mês  1 é de R$ 11000.0 e a dívida no mês  1 é de R$ 90000.0 .\n",
            "\n",
            "Prestação no mês  2 é de R$ 10900.0 e a dívida no mês  2 é de R$ 80000.0 .\n",
            "\n",
            "Prestação no mês  3 é de R$ 10800.0 e a dívida no mês  3 é de R$ 70000.0 .\n",
            "\n",
            "Prestação no mês  4 é de R$ 10700.0 e a dívida no mês  4 é de R$ 60000.0 .\n",
            "\n",
            "Prestação no mês  5 é de R$ 10600.0 e a dívida no mês  5 é de R$ 50000.0 .\n",
            "\n",
            "Prestação no mês  6 é de R$ 10500.0 e a dívida no mês  6 é de R$ 40000.0 .\n",
            "\n",
            "Prestação no mês  7 é de R$ 10400.0 e a dívida no mês  7 é de R$ 30000.0 .\n",
            "\n",
            "Prestação no mês  8 é de R$ 10300.0 e a dívida no mês  8 é de R$ 20000.0 .\n",
            "\n",
            "Prestação no mês  9 é de R$ 10200.0 e a dívida no mês  9 é de R$ 10000.0 .\n",
            "\n",
            "Prestação no mês  10 é de R$ 10100.0 e a dívida no mês  10 é de R$ 0.0 .\n",
            "\n"
          ]
        }
      ],
      "source": [
        "Divida=[100000]                                 # Dívida inicial de pedro.\n",
        "i=1/100                                      # Taxa de juros mensais\n",
        "n=10                                         # Número de perstações, sem entrada.\n",
        "Amortizacao=Divida[0]/n\n",
        "Juros=[0]\n",
        "Prestacao=[0]\n",
        "for j in range (1,n+1):\n",
        "  Prestacao=Prestacao+[Divida[j-1]*i+10000]\n",
        "  Divida=Divida +[Divida[j-1]-Amortizacao]\n",
        "  print('Prestação no mês ',j,'é de R$',Prestacao[j],'e a dívida no mês ',j,'é de R$',Divida[j],'.\\n')\n"
      ]
    },
    {
      "cell_type": "markdown",
      "source": [
        "#**O modelo PRICE**\n",
        "\n"
      ],
      "metadata": {
        "id": "2zE4hPsQqXDp"
      }
    },
    {
      "cell_type": "markdown",
      "source": [
        "No modelo PRICE (sistema de pagamentos constantes) é feito o pagamento mensal fixo e igual a $P$, que inclui juros da dívida (do valor devido no mês anterior ao pagamento) acrescido de uma amortização. Ou seja, faz-se um ajuste para balancear pagamento de juros e amortizações, para manter fixo o valor das parcelas."
      ],
      "metadata": {
        "id": "ZghHfMKBqXDr"
      }
    },
    {
      "cell_type": "markdown",
      "source": [
        "A ideia básica é que serão feitos $n$ pagamentos de valor fixo. Para calcular esse valor, tendo em mente a taxa de juros mensal $i$, olhamos para essas parcelas no presente, digamos, com desconto.\n",
        "\n",
        "Então a primeira parcela, no valor $P$, depois de um mês, teria desconto dado como $$\\frac{P}{1+i},$$ porque seria esse valor que se tornaria $P$ após um mês, com a taxa de juros $i$.\n",
        "\n",
        "Da mesma forma, a parcela $k$, no valor $P$, depois de $k$ meses, teria desconto dado como $$\\frac{P}{(1+i)^k},$$ porque seria esse valor que se tornaria $P$ após $k$ mêses, com a taxa de juros $i$.\n",
        "\n",
        "Então o valor de $P$ vem da igualdade $$V_p=\\frac{P}{(1+i)}+\\frac{P}{(1+i)^2}+\\cdots \\frac{P}{(1+i)^n}=P\\frac{1-(1+i)^{-n}}{i}.$$"
      ],
      "metadata": {
        "id": "aYauv_7csgzu"
      }
    },
    {
      "cell_type": "markdown",
      "source": [
        "**Exemplo:** Pedro pode propor o pagamento mensal com paracelas fixas, no valor $$P=A\\frac{i}{1-(1+i)^{-n}}=100\\frac{0.01}{1-(1.01)^{-10}}$$. \n",
        "\n",
        "A seguir tem uma simulação dos pagamentos e da dívida restante, em cada um dos 10 meses de pagamento."
      ],
      "metadata": {
        "id": "pNGuQ5DTqXDs"
      }
    },
    {
      "cell_type": "code",
      "execution_count": 27,
      "metadata": {
        "colab": {
          "base_uri": "https://localhost:8080/"
        },
        "outputId": "1050d1fb-98fe-48ab-bfd7-165e31aa0993",
        "id": "lEzsVboFqXDu"
      },
      "outputs": [
        {
          "output_type": "stream",
          "name": "stdout",
          "text": [
            "Prestações fixas de 10558.207655117132 \n",
            "\n",
            "Juros no mês  1 é de R$ 1000.0 , Amortização no mês  1 é de R$ 9558.207655117132 e a dívida no mês  1 é de R$ 90441.79234488287 .\n",
            "\n",
            "Juros no mês  2 é de R$ 904.4179234488287 , Amortização no mês  2 é de R$ 9653.789731668303 e a dívida no mês  2 é de R$ 80788.00261321456 .\n",
            "\n",
            "Juros no mês  3 é de R$ 807.8800261321456 , Amortização no mês  3 é de R$ 9750.327628984987 e a dívida no mês  3 é de R$ 71037.67498422957 .\n",
            "\n",
            "Juros no mês  4 é de R$ 710.3767498422957 , Amortização no mês  4 é de R$ 9847.830905274837 e a dívida no mês  4 é de R$ 61189.84407895473 .\n",
            "\n",
            "Juros no mês  5 é de R$ 611.8984407895473 , Amortização no mês  5 é de R$ 9946.309214327584 e a dívida no mês  5 é de R$ 51243.534864627145 .\n",
            "\n",
            "Juros no mês  6 é de R$ 512.4353486462714 , Amortização no mês  6 é de R$ 10045.77230647086 e a dívida no mês  6 é de R$ 41197.76255815628 .\n",
            "\n",
            "Juros no mês  7 é de R$ 411.97762558156285 , Amortização no mês  7 é de R$ 10146.230029535569 e a dívida no mês  7 é de R$ 31051.532528620715 .\n",
            "\n",
            "Juros no mês  8 é de R$ 310.51532528620714 , Amortização no mês  8 é de R$ 10247.692329830925 e a dívida no mês  8 é de R$ 20803.84019878979 .\n",
            "\n",
            "Juros no mês  9 é de R$ 208.03840198789788 , Amortização no mês  9 é de R$ 10350.169253129234 e a dívida no mês  9 é de R$ 10453.670945660555 .\n",
            "\n",
            "Juros no mês  10 é de R$ 104.53670945660555 , Amortização no mês  10 é de R$ 10453.670945660526 e a dívida no mês  10 é de R$ 2.9103830456733704e-11 .\n",
            "\n"
          ]
        }
      ],
      "source": [
        "Divida=[100000]                                 # Dívida inicial de pedro.\n",
        "i=1/100                                      # Taxa de juros mensais.\n",
        "n=10                                         # Número de perstações, sem entrada.\n",
        "Juros=[0]\n",
        "Prestacao=Divida[0]*i/(1-(1+i)**(-n))        # Valor da prestção fixa.\n",
        "print('Prestações fixas de',Prestacao,'\\n')\n",
        "Amortizacao=[0]\n",
        "for j in range (1,n+1):\n",
        "  Amortizacao=Amortizacao+[Prestacao-Divida[j-1]*i]\n",
        "  Divida=Divida +[Divida[j-1]-Amortizacao[j]]  \n",
        "  print('Juros no mês ',j,'é de R$',Divida[j-1]*i,', Amortização no mês ',j,'é de R$',Amortizacao[j],'e a dívida no mês ',j,'é de R$',Divida[j],'.\\n')\n",
        "\n"
      ]
    },
    {
      "cell_type": "markdown",
      "source": [
        "#**E qual modelo de pagamento compensa para Pedro?**"
      ],
      "metadata": {
        "id": "Hhtf0syFqWE9"
      }
    },
    {
      "cell_type": "markdown",
      "source": [
        "A primeira coisa a se pensar é se Pedro pode escolher: Ele pode pagar uma das duas prestações, ou só pode pagar a menor delas?"
      ],
      "metadata": {
        "id": "4CzMifaH0EOk"
      }
    },
    {
      "cell_type": "markdown",
      "source": [
        "É melhor refazer esta pergunta como: Supondo que pedro possa pagar as parcelas no sistema SAC ou no PRICE. Se o valor do dinheiro no amanhã de Pedro puder ser estimado, digamos que com taxa valorização (ou desvalorização) mensal (média) igual $l$, em qual modelo ele perde menos dinheiro?"
      ],
      "metadata": {
        "id": "q9nOuE2yxlxV"
      }
    },
    {
      "cell_type": "markdown",
      "source": [
        "**Obs:** Nas letras pequenas dos contratos, é comum ter a descrição de reajuste de saldo devedor, com [alguma outra taxa de juros](https://www.melhorcambio.com/tr)."
      ],
      "metadata": {
        "id": "tBu2Qjda2mKM"
      }
    }
  ]
}