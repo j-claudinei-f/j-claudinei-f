{
  "nbformat": 4,
  "nbformat_minor": 0,
  "metadata": {
    "colab": {
      "provenance": [],
      "authorship_tag": "ABX9TyOngm/y4YS3b1xDtM/mbFv3",
      "include_colab_link": true
    },
    "kernelspec": {
      "name": "python3",
      "display_name": "Python 3"
    },
    "language_info": {
      "name": "python"
    }
  },
  "cells": [
    {
      "cell_type": "markdown",
      "metadata": {
        "id": "view-in-github",
        "colab_type": "text"
      },
      "source": [
        "<a href=\"https://colab.research.google.com/github/j-claudinei-f/j-claudinei-f/blob/main/Newton_aula.ipynb\" target=\"_parent\"><img src=\"https://colab.research.google.com/assets/colab-badge.svg\" alt=\"Open In Colab\"/></a>"
      ]
    },
    {
      "cell_type": "markdown",
      "source": [
        "#**Um exemplo de uso do método de Newton**\n",
        "\n",
        "José Claudinei Ferreira\n",
        "\n",
        "Universidade Federal de Alfenas"
      ],
      "metadata": {
        "id": "GbyCHuMlj7Pr"
      }
    },
    {
      "cell_type": "markdown",
      "source": [
        "Considere a equação, ou o sistema de equações, $$\\begin{cases}3x+5y&=&2\\\\\\\\\\frac{x^2}{9}+\\frac{y^2}{16}&=&4\\end{cases}\\tag{1}.$$\n",
        "\n",
        "Lembrando um pouco de Geometria Analítica, temos que trata-se da intersecção de uma reta com uma elipse, o que pode produzir até 2 soluções $u=(x,y)$.\n",
        "\n",
        "Vamos definir a função\n",
        "$$f(u)=\\begin{bmatrix}f_1(u)\\\\\\\\f_2(u)\\end{bmatrix}=\\begin{bmatrix}3x+5y-2\\\\\\\\\\frac{x^2}{9}+\\frac{y^2}{16}-4\\end{bmatrix}$$ e a função $$g(u)=\\frac{1}{2}\\|f(u)\\|^2=\\frac{1}{2}(f_1(u)^2+f_2(u)^2)=\\frac{1}{2}f(u)\\cdot f(u),$$ em que $\\cdot$ denota o produto escalar usual.\n",
        "\n",
        "Então a equação $(1)$ pode ser vista na equivalência\n",
        "$$f(u)=0\t\\Longleftrightarrow\\min_u g(u)=0.$$"
      ],
      "metadata": {
        "id": "ZYqZYRH4Vp5-"
      }
    },
    {
      "cell_type": "markdown",
      "source": [
        "**Obs:** <font color=blue> Note que $$A=Jf(u)=\\begin{bmatrix}3&5\\\\\\frac{2x}{9}&\\frac{y}{8}\\end{bmatrix}$$  não tem inversa, quando $$det(A)=\\frac{3}{8}y-\\frac{10}{9}x=0.$$\n",
        "\n",
        "<font color=blue> Isso pode fazer com que o método que queremos propor não funcione sempre; dependendo da condição inicial $u_0$.\n"
      ],
      "metadata": {
        "id": "OZZq8LcBu-Xx"
      }
    },
    {
      "cell_type": "markdown",
      "source": [
        "Definições em Python:"
      ],
      "metadata": {
        "id": "jTArkiLYvKiZ"
      }
    },
    {
      "cell_type": "code",
      "execution_count": 29,
      "metadata": {
        "id": "zVT-wiJsVlre"
      },
      "outputs": [],
      "source": [
        "import numpy as np     # Para usar álgebra linear.\n",
        "\n",
        "def f(u):\n",
        "  x=u[0]\n",
        "  y=u[1]\n",
        "  p=[3*x+5*y-2,x**2/9+y**2/16-4]\n",
        "  return np.array(p)"
      ]
    },
    {
      "cell_type": "code",
      "source": [
        "f([1,1])               # Teste de função f(u), para u=(1,1)."
      ],
      "metadata": {
        "colab": {
          "base_uri": "https://localhost:8080/"
        },
        "id": "5EVJIioQY6Mp",
        "outputId": "116e8790-ae55-450f-d7dc-a1a79169e88c"
      },
      "execution_count": 30,
      "outputs": [
        {
          "output_type": "execute_result",
          "data": {
            "text/plain": [
              "array([ 6.        , -3.82638889])"
            ]
          },
          "metadata": {},
          "execution_count": 30
        }
      ]
    },
    {
      "cell_type": "code",
      "source": [
        "def Jf(u):             # Matriz do jaconiano de f(u).\n",
        "  x=u[0]\n",
        "  y=u[1]\n",
        "  p=[[3,5],[2*x/9,y/8]]\n",
        "  return np.array(p)"
      ],
      "metadata": {
        "id": "uKIbBI8aZvqQ"
      },
      "execution_count": 31,
      "outputs": []
    },
    {
      "cell_type": "code",
      "source": [
        "Jf([1,1])"
      ],
      "metadata": {
        "colab": {
          "base_uri": "https://localhost:8080/"
        },
        "id": "PdjYN2kcam6z",
        "outputId": "7de22657-1b3f-40b8-ff11-5daaca2cc504"
      },
      "execution_count": 32,
      "outputs": [
        {
          "output_type": "execute_result",
          "data": {
            "text/plain": [
              "array([[3.        , 5.        ],\n",
              "       [0.22222222, 0.125     ]])"
            ]
          },
          "metadata": {},
          "execution_count": 32
        }
      ]
    },
    {
      "cell_type": "code",
      "source": [
        "def g(u):\n",
        "  p=np.dot(f(u),f(u))/2  # np.dot(u,v) calcula o produto interno de u com v.\n",
        "  return p"
      ],
      "metadata": {
        "id": "ioitjXhKfIZ3"
      },
      "execution_count": 33,
      "outputs": []
    },
    {
      "cell_type": "markdown",
      "source": [
        "Vamos determinar uma curva $u(t)$ que minimiza $g(u)$, partindo de um ponto $u_0$,  e usando a equação diferencial $$\\begin{cases}u'(t)&=&-\\left[Jf(u(t))\\right]^{-1}f(u(t))\\\\\\\\u(0)&=&u_0\\end{cases}\\tag{2},$$ ou\n",
        "$$\\begin{cases}Jf(u(t))\\,u'(t)&=&-f(u(t))\\\\\\\\u(0)&=&u_0\\end{cases}\\tag{2*}.$$\n",
        "\n",
        "Isso e o método de Euler dão origem ao método de Newton, que pode ser reescrito como $$u_{j+1}=u_j-h\\left[Jf(u_j)\\right]^{-1}f(u_j),$$ ou $$\\begin{cases}Jf(u_j)v&=&-hf(u_j)\\\\\\\\u_{j+1}=u_j+v\\end{cases},\\tag{3}$$ para evitar o cáclulo da matriz inversa de $Jf(u_j)$."
      ],
      "metadata": {
        "id": "sIytT9SUbapi"
      }
    },
    {
      "cell_type": "markdown",
      "source": [
        "Escolhendo, por exemplo $u_0=(1,1)$ vamos determinar $u_1$ com a expressão acima."
      ],
      "metadata": {
        "id": "MG73MDLNb20E"
      }
    },
    {
      "cell_type": "code",
      "source": [
        "u0=np.array([1,1])\n",
        "g(u0)"
      ],
      "metadata": {
        "colab": {
          "base_uri": "https://localhost:8080/"
        },
        "id": "-Ukdlhs-fA3k",
        "outputId": "14008c08-753f-47c3-a44a-e3e2201e3338"
      },
      "execution_count": 34,
      "outputs": [
        {
          "output_type": "execute_result",
          "data": {
            "text/plain": [
              "25.32062596450617"
            ]
          },
          "metadata": {},
          "execution_count": 34
        }
      ]
    },
    {
      "cell_type": "markdown",
      "source": [
        "Tomando $h=1$ e o método de Euler $(3)$, para resolver numéricamente a Equação $(2)$, temos"
      ],
      "metadata": {
        "id": "q2Ifu-SYjMhv"
      }
    },
    {
      "cell_type": "code",
      "source": [
        "h=1\n",
        "\n",
        "v=np.linalg.solve(Jf(u0),-h*f(u0)) # resolve a equação Jf(u0)v=-hf(u0)\n",
        "u1=u0+v\n",
        "u1"
      ],
      "metadata": {
        "colab": {
          "base_uri": "https://localhost:8080/"
        },
        "id": "6VjCxkV-bsXZ",
        "outputId": "d981c9e8-646e-4b21-c349-e30b77f69e91"
      },
      "execution_count": 35,
      "outputs": [
        {
          "output_type": "execute_result",
          "data": {
            "text/plain": [
              "array([ 28.00943396, -16.40566038])"
            ]
          },
          "metadata": {},
          "execution_count": 35
        }
      ]
    },
    {
      "cell_type": "code",
      "source": [
        "g(u1)"
      ],
      "metadata": {
        "colab": {
          "base_uri": "https://localhost:8080/"
        },
        "id": "JIZQRNzBfwxA",
        "outputId": "087fcc63-7c26-4693-f70b-d0f81dbd818f"
      },
      "execution_count": 36,
      "outputs": [
        {
          "output_type": "execute_result",
          "data": {
            "text/plain": [
              "4999.142735316382"
            ]
          },
          "metadata": {},
          "execution_count": 36
        }
      ]
    },
    {
      "cell_type": "markdown",
      "source": [
        "o que nos diz que $h=1$ é um passo grande, porque $g(u_1)>g(u_0)$."
      ],
      "metadata": {
        "id": "3wOOdbZhycXE"
      }
    },
    {
      "cell_type": "markdown",
      "source": [
        "Escolhemos então $h=1/10$, e temos:"
      ],
      "metadata": {
        "id": "grlG4c-iymK3"
      }
    },
    {
      "cell_type": "code",
      "source": [
        "h=1/10\n",
        "\n",
        "v=np.linalg.solve(Jf(u0),-h*f(u0)) # resolve a equação Jf(u0)v=-hf(u0)\n",
        "u1=u0+v\n",
        "u1"
      ],
      "metadata": {
        "colab": {
          "base_uri": "https://localhost:8080/"
        },
        "id": "JD0mKtZUyrr0",
        "outputId": "ab77c7b7-1d43-45d4-eb30-f12d01d9f68e"
      },
      "execution_count": 37,
      "outputs": [
        {
          "output_type": "execute_result",
          "data": {
            "text/plain": [
              "array([ 3.7009434 , -0.74056604])"
            ]
          },
          "metadata": {},
          "execution_count": 37
        }
      ]
    },
    {
      "cell_type": "code",
      "source": [
        "g(u1)"
      ],
      "metadata": {
        "colab": {
          "base_uri": "https://localhost:8080/"
        },
        "id": "Xyoo5pTcyunD",
        "outputId": "602d7e22-3e21-4b52-8f5e-acd8d8b0c3b3"
      },
      "execution_count": 38,
      "outputs": [
        {
          "output_type": "execute_result",
          "data": {
            "text/plain": [
              "17.566166537962253"
            ]
          },
          "metadata": {},
          "execution_count": 38
        }
      ]
    },
    {
      "cell_type": "markdown",
      "source": [
        "o que nos diz que $h=1/10$ é um passo em que, porque $g(u_1)<g(u_0)$.\n",
        "\n",
        "Vamos então calcular $u_2$"
      ],
      "metadata": {
        "id": "xXUfEGWcy0RA"
      }
    },
    {
      "cell_type": "code",
      "source": [
        "v=np.linalg.solve(Jf(u1),-h*f(u1)) # resolve a equação Jf(u0)v=-hf(u0)\n",
        "u2=u1+v\n",
        "u2"
      ],
      "metadata": {
        "colab": {
          "base_uri": "https://localhost:8080/"
        },
        "id": "Dz6jLkaEhiO1",
        "outputId": "799d6d5b-72e2-4d30-ad9f-77052530382f"
      },
      "execution_count": 39,
      "outputs": [
        {
          "output_type": "execute_result",
          "data": {
            "text/plain": [
              "array([ 3.96790557, -1.00874334])"
            ]
          },
          "metadata": {},
          "execution_count": 39
        }
      ]
    },
    {
      "cell_type": "code",
      "source": [
        "g(u2)"
      ],
      "metadata": {
        "colab": {
          "base_uri": "https://localhost:8080/"
        },
        "id": "cu3RpwEzhufv",
        "outputId": "fd4708bc-3855-45c8-b861-9b1557669c75"
      },
      "execution_count": 40,
      "outputs": [
        {
          "output_type": "execute_result",
          "data": {
            "text/plain": [
              "14.20136861225617"
            ]
          },
          "metadata": {},
          "execution_count": 40
        }
      ]
    },
    {
      "cell_type": "markdown",
      "source": [
        "Vemos que $g(u_2)<g(u_1)<g(u_0)$ e parace que estamos no caminho certo."
      ],
      "metadata": {
        "id": "wUFXGgGjzgSL"
      }
    },
    {
      "cell_type": "markdown",
      "source": [
        "Automatizando... para calcular $u_10$:"
      ],
      "metadata": {
        "id": "nz7w1FY7jZhE"
      }
    },
    {
      "cell_type": "code",
      "source": [
        "n=10\n",
        "u=u2\n",
        "\n",
        "for i in range(2,n):\n",
        "  v=np.linalg.solve(Jf(u),-h*f(u)) # resolve a equação Jf(u0)v=-hf(u0)\n",
        "  u=u+v\n",
        "\n",
        "un=u\n",
        "un"
      ],
      "metadata": {
        "colab": {
          "base_uri": "https://localhost:8080/"
        },
        "id": "huGZ5m8Nh8D9",
        "outputId": "e2141923-eb04-4441-e844-96c745057b77"
      },
      "execution_count": 41,
      "outputs": [
        {
          "output_type": "execute_result",
          "data": {
            "text/plain": [
              "array([ 5.00051556, -2.18189521])"
            ]
          },
          "metadata": {},
          "execution_count": 41
        }
      ]
    },
    {
      "cell_type": "code",
      "source": [
        "g(un)"
      ],
      "metadata": {
        "colab": {
          "base_uri": "https://localhost:8080/"
        },
        "id": "VVIuWz59h7e_",
        "outputId": "7cbb54a4-c19d-4a92-fcef-4cceec4d8f2d"
      },
      "execution_count": 42,
      "outputs": [
        {
          "output_type": "execute_result",
          "data": {
            "text/plain": [
              "2.6153672876468574"
            ]
          },
          "metadata": {},
          "execution_count": 42
        }
      ]
    },
    {
      "cell_type": "markdown",
      "source": [
        "Vemos que $g(u_{10})<g(u_2)$, e parece que estamos próximos da solução de $f(u)=0$.\n",
        "\n",
        "Aumentamos então $h$, agora $h=1$ e calculamos $u_{20}$."
      ],
      "metadata": {
        "id": "hjYDitf4z2hC"
      }
    },
    {
      "cell_type": "code",
      "source": [
        "n=10\n",
        "h=1\n",
        "u=un\n",
        "\n",
        "for i in range(0,n):\n",
        "  v=np.linalg.solve(Jf(u),-h*f(u)) # resolve a equação Jf(u0)v=-hf(u0)\n",
        "  u=u+v\n",
        "\n",
        "un=u\n",
        "un"
      ],
      "metadata": {
        "id": "dgvQ61jAi4rz",
        "colab": {
          "base_uri": "https://localhost:8080/"
        },
        "outputId": "948d607e-01fc-4845-c9bc-7c953d05e99b"
      },
      "execution_count": 43,
      "outputs": [
        {
          "output_type": "execute_result",
          "data": {
            "text/plain": [
              "array([ 5.57810452, -2.94686271])"
            ]
          },
          "metadata": {},
          "execution_count": 43
        }
      ]
    },
    {
      "cell_type": "code",
      "source": [
        "g(un)"
      ],
      "metadata": {
        "colab": {
          "base_uri": "https://localhost:8080/"
        },
        "id": "flTWiAsYjALX",
        "outputId": "8c4b2a33-7d9c-4e29-8219-2e97d334e660"
      },
      "execution_count": 44,
      "outputs": [
        {
          "output_type": "execute_result",
          "data": {
            "text/plain": [
              "0.0"
            ]
          },
          "metadata": {},
          "execution_count": 44
        }
      ]
    },
    {
      "cell_type": "markdown",
      "source": [
        "Obtemos $u_{20}=(5.57810452, -2.94686271)$ com uma solução do problema dado."
      ],
      "metadata": {
        "id": "pLnooDKN0joQ"
      }
    },
    {
      "cell_type": "markdown",
      "source": [
        "Tento usar outra condição incial, ou outro $u_0$, para encontrar a outra raiz.\n",
        "\n",
        "Para mais detalhes veja o arquivo deste [link](https://github.com/j-claudinei-f/j-claudinei-f/blob/main/Direcao_maior_decrescimento.ipynb)."
      ],
      "metadata": {
        "id": "eY7cb3jduJfB"
      }
    }
  ]
}