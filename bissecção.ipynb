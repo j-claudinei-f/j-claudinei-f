{
  "nbformat": 4,
  "nbformat_minor": 0,
  "metadata": {
    "colab": {
      "provenance": [],
      "authorship_tag": "ABX9TyOyaJNYypMGFSGt63oQK/vE",
      "include_colab_link": true
    },
    "kernelspec": {
      "name": "python3",
      "display_name": "Python 3"
    },
    "language_info": {
      "name": "python"
    }
  },
  "cells": [
    {
      "cell_type": "markdown",
      "metadata": {
        "id": "view-in-github",
        "colab_type": "text"
      },
      "source": [
        "<a href=\"https://colab.research.google.com/github/j-claudinei-f/j-claudinei-f/blob/main/bissec%C3%A7%C3%A3o.ipynb\" target=\"_parent\"><img src=\"https://colab.research.google.com/assets/colab-badge.svg\" alt=\"Open In Colab\"/></a>"
      ]
    },
    {
      "cell_type": "markdown",
      "source": [
        "##**O método da bissecção**\n",
        "\n",
        "José Claudinei Ferreira\n",
        "\n",
        "Universidade Federal de Alfenas"
      ],
      "metadata": {
        "id": "uga4dMl9TBtc"
      }
    },
    {
      "cell_type": "markdown",
      "source": [
        "Considere a função\n",
        "$$f(s)=s^2+2s-1,$$ em que $s$ é um número real."
      ],
      "metadata": {
        "id": "e83yrauTUfw6"
      }
    },
    {
      "cell_type": "code",
      "execution_count": null,
      "metadata": {
        "id": "VjjDLbNWTBGl"
      },
      "outputs": [],
      "source": [
        "                      # Para podermos usar calculadoras neste editor de texto vou utilizar a linguagem de programação Python e muitas de suas ferramentas.\n",
        "def f(s):             # o comando def é para definir funções.\n",
        "  p=s**2+2*s-1        # um * significa produto. Dois ** significa potência.\n",
        "  return p"
      ]
    },
    {
      "cell_type": "markdown",
      "source": [
        "Substituindo, por exemplo$s=2$ na função, obtemos $$f(2)=2^2+2\\times 2-1=4+4-1=7.$$"
      ],
      "metadata": {
        "id": "3sDIwP0CUp2h"
      }
    },
    {
      "cell_type": "code",
      "source": [
        "print('O valor de f(2) é',f(2),'.')"
      ],
      "metadata": {
        "colab": {
          "base_uri": "https://localhost:8080/"
        },
        "id": "-eUnrIn1UBLw",
        "outputId": "db4ef0c6-3ad2-4186-ca87-61ae3de54444"
      },
      "execution_count": null,
      "outputs": [
        {
          "output_type": "stream",
          "name": "stdout",
          "text": [
            "O valor de f(2) é 7 .\n"
          ]
        }
      ]
    },
    {
      "cell_type": "markdown",
      "source": [
        "Podemos fazer o gráfico de $f(s)$, para $-4<s<5$."
      ],
      "metadata": {
        "id": "7WSPQfCEV3eL"
      }
    },
    {
      "cell_type": "code",
      "source": [
        "import numpy as np\n",
        "\n",
        "x=np.linspace(-4,5,100)\n",
        "y=f(x)"
      ],
      "metadata": {
        "id": "dLDbHfM-Vf6p"
      },
      "execution_count": null,
      "outputs": []
    },
    {
      "cell_type": "markdown",
      "source": [
        "O pacote [numpy](https://numpy.org/pt/learn/#iniciantes) é para usarmos a estrutura de Álgebra Linear. O pacote [matplotlib](https://matplotlib.org/) é para fazermos gráficos."
      ],
      "metadata": {
        "id": "hSnl4YBoWLZ7"
      }
    },
    {
      "cell_type": "code",
      "source": [
        "import numpy as np, matplotlib.pyplot as plt\n",
        "fig = plt.figure(figsize=(7,3))\n",
        "plt.plot(x,y)\n",
        "plt.show()"
      ],
      "metadata": {
        "colab": {
          "base_uri": "https://localhost:8080/",
          "height": 292
        },
        "id": "7e4dTm9DVPzJ",
        "outputId": "6b169b30-46d1-43dd-bfdb-c7e386d8e157"
      },
      "execution_count": null,
      "outputs": [
        {
          "output_type": "display_data",
          "data": {
            "text/plain": [
              "<Figure size 700x300 with 1 Axes>"
            ],
            "image/png": "[encoded data removed]"
          },
          "metadata": {}
        }
      ]
    }
  ]
}