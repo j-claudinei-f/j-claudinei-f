{
  "nbformat": 4,
  "nbformat_minor": 0,
  "metadata": {
    "colab": {
      "provenance": [],
      "authorship_tag": "ABX9TyPWQJRZNu4WVbOrDsA+xIj0",
      "include_colab_link": true
    },
    "kernelspec": {
      "name": "python3",
      "display_name": "Python 3"
    },
    "language_info": {
      "name": "python"
    }
  },
  "cells": [
    {
      "cell_type": "markdown",
      "metadata": {
        "id": "view-in-github",
        "colab_type": "text"
      },
      "source": [
        "<a href=\"https://colab.research.google.com/github/j-claudinei-f/j-claudinei-f/blob/main/Conjuntos_Combinat%C3%B3ria.ipynb\" target=\"_parent\"><img src=\"https://colab.research.google.com/assets/colab-badge.svg\" alt=\"Open In Colab\"/></a>"
      ]
    },
    {
      "cell_type": "markdown",
      "source": [
        "#**Matemática discreta: Texto auxiliar sobre conjuntos e combinatória**\n",
        "\n",
        "José Claudinei Ferreira\n",
        "\n",
        "Universidade Federal de Alfenas"
      ],
      "metadata": {
        "id": "1JZumSnYk0Q3"
      }
    },
    {
      "cell_type": "markdown",
      "source": [
        "#**Lista**\n",
        "\n",
        "Vou falar de [lista](https://en.wikipedia.org/wiki/List_(abstract_data_type)) por meio de exemplos, porque considero isso um conceito primitivo.\n",
        "\n",
        "Quero dizer que aceito que sabem o que é uma lista. Quero apenas fazer um ajuste de linguagem para esclarecer o que é que aceito que sabem.\n",
        "\n",
        "1. Vamos pensar na lista dos números 1, 2 e 3. <font color=blue> Vou usar Python para \"colocar isso no Computador\". <font color=red>Vou usar o Python apenas como acessório para lidar com conceitos."
      ],
      "metadata": {
        "id": "R3S7TFuJlsJd"
      }
    },
    {
      "cell_type": "code",
      "source": [
        "lista1=[1,2,3]"
      ],
      "metadata": {
        "id": "XAQEhSW1t816"
      },
      "execution_count": null,
      "outputs": []
    },
    {
      "cell_type": "markdown",
      "source": [
        "Sempre que eu usar o termo lista1, entende-se a lista dos números 1, 2 e 3."
      ],
      "metadata": {
        "id": "Nhis22PCuCpx"
      }
    },
    {
      "cell_type": "code",
      "source": [
        "lista1\n"
      ],
      "metadata": {
        "colab": {
          "base_uri": "https://localhost:8080/"
        },
        "id": "YkokL3ExtnhV",
        "outputId": "2972dead-d5cc-44eb-aa60-b2881b73af96"
      },
      "execution_count": null,
      "outputs": [
        {
          "output_type": "execute_result",
          "data": {
            "text/plain": [
              "[1, 2, 3]"
            ]
          },
          "metadata": {},
          "execution_count": 34
        }
      ]
    },
    {
      "cell_type": "markdown",
      "source": [
        "Listas podem conter coisas de natureza variada. Pode conter coisas repetidas."
      ],
      "metadata": {
        "id": "F0sPmv4uwkp7"
      }
    },
    {
      "cell_type": "code",
      "execution_count": null,
      "metadata": {
        "id": "3rx8W-mZkzjx",
        "colab": {
          "base_uri": "https://localhost:8080/"
        },
        "outputId": "5edb2f68-510f-4a01-867d-69cfafebd84c"
      },
      "outputs": [
        {
          "output_type": "execute_result",
          "data": {
            "text/plain": [
              "[1,\n",
              " 2,\n",
              " 2,\n",
              " 3,\n",
              " [1, 2, 3],\n",
              " 'carro',\n",
              " 'carro',\n",
              " 'mais dois carros iguais ao anterior']"
            ]
          },
          "metadata": {},
          "execution_count": 3
        }
      ],
      "source": [
        "lista2=[1,2,2,3,lista1,'carro','carro','mais dois carros iguais ao anterior']\n",
        "lista2"
      ]
    },
    {
      "cell_type": "markdown",
      "source": [
        "Vejamos uma lista  de número inteiros maiores que $-20$ e menores que $7$."
      ],
      "metadata": {
        "id": "XBEqAMeapzPN"
      }
    },
    {
      "cell_type": "code",
      "source": [
        "lista3=list(range(-20,10))# range(-20,10) representa os número inteiros entre -20 e 10, inclui o -20 e não inclui o 10.\n",
        "print(lista3)             # print é usado para imprimir column-wise"
      ],
      "metadata": {
        "colab": {
          "base_uri": "https://localhost:8080/"
        },
        "id": "ICT6C9BPqWI4",
        "outputId": "077a1695-ffdf-421d-c6ab-b4d09457822a"
      },
      "execution_count": null,
      "outputs": [
        {
          "output_type": "stream",
          "name": "stdout",
          "text": [
            "[-20, -19, -18, -17, -16, -15, -14, -13, -12, -11, -10, -9, -8, -7, -6, -5, -4, -3, -2, -1, 0, 1, 2, 3, 4, 5, 6, 7, 8, 9]\n"
          ]
        }
      ]
    },
    {
      "cell_type": "markdown",
      "source": [
        "Você pode aumentar o tamanho de uma lista."
      ],
      "metadata": {
        "id": "-754FgF6xo9o"
      }
    },
    {
      "cell_type": "code",
      "source": [
        "lista4=lista3+[-2,0,5]\n",
        "\n",
        "print(lista4)"
      ],
      "metadata": {
        "colab": {
          "base_uri": "https://localhost:8080/"
        },
        "id": "zCpqNuagrgq_",
        "outputId": "6ca8d690-9fd6-48fa-c184-ee8d189cdcf2"
      },
      "execution_count": null,
      "outputs": [
        {
          "output_type": "stream",
          "name": "stdout",
          "text": [
            "[-20, -19, -18, -17, -16, -15, -14, -13, -12, -11, -10, -9, -8, -7, -6, -5, -4, -3, -2, -1, 0, 1, 2, 3, 4, 5, 6, 7, 8, 9, -2, 0, 5]\n"
          ]
        }
      ]
    },
    {
      "cell_type": "markdown",
      "source": [
        "Mais um exemplo:"
      ],
      "metadata": {
        "id": "XtwVR-X-zLXq"
      }
    },
    {
      "cell_type": "code",
      "source": [
        "times = ['Bahia', 'Sport', 'Fortaleza', 'Flamengo']\n",
        "times"
      ],
      "metadata": {
        "colab": {
          "base_uri": "https://localhost:8080/"
        },
        "id": "PPrtSt0szONK",
        "outputId": "c8d6fea9-26c3-4cc1-a0df-5a4cd860effe"
      },
      "execution_count": null,
      "outputs": [
        {
          "output_type": "execute_result",
          "data": {
            "text/plain": [
              "['Bahia', 'Sport', 'Fortaleza', 'Flamengo']"
            ]
          },
          "metadata": {},
          "execution_count": 5
        }
      ]
    },
    {
      "cell_type": "markdown",
      "source": [
        "Acrescentando um elemento:"
      ],
      "metadata": {
        "id": "wk8MipWKhirz"
      }
    },
    {
      "cell_type": "code",
      "source": [
        "times.append('Botafogo') # Acrecentando um time.\n",
        "times"
      ],
      "metadata": {
        "colab": {
          "base_uri": "https://localhost:8080/"
        },
        "id": "xEoK-tzuzQbo",
        "outputId": "88bb82c5-a550-4f07-a012-62d5bb17276f"
      },
      "execution_count": null,
      "outputs": [
        {
          "output_type": "execute_result",
          "data": {
            "text/plain": [
              "['Bahia', 'Sport', 'Fortaleza', 'Flamengo', 'Botafogo']"
            ]
          },
          "metadata": {},
          "execution_count": 6
        }
      ]
    },
    {
      "cell_type": "markdown",
      "source": [
        "Acrescentando uma lista:"
      ],
      "metadata": {
        "id": "fIP3z54pho9w"
      }
    },
    {
      "cell_type": "code",
      "source": [
        "times.extend(['Vasco', 'Atlético-MG']) # usa outra lista para estender a lista.\n",
        "times"
      ],
      "metadata": {
        "colab": {
          "base_uri": "https://localhost:8080/"
        },
        "id": "S4tw8n35zaWF",
        "outputId": "270c2125-717b-4035-f41c-4ad613069eaf"
      },
      "execution_count": null,
      "outputs": [
        {
          "output_type": "execute_result",
          "data": {
            "text/plain": [
              "['Bahia', 'Sport', 'Fortaleza', 'Flamengo', 'Botafogo', 'Vasco', 'Atlético-MG']"
            ]
          },
          "metadata": {},
          "execution_count": 7
        }
      ]
    },
    {
      "cell_type": "markdown",
      "source": [
        "Desisti do Fortaleza na minha lista, vou tirar."
      ],
      "metadata": {
        "id": "OSKCUPi20aZS"
      }
    },
    {
      "cell_type": "code",
      "source": [
        "times.pop(2) # O Fortaleza está na posição 2 e não na posição 3!\n",
        "times"
      ],
      "metadata": {
        "colab": {
          "base_uri": "https://localhost:8080/"
        },
        "id": "XDdjDwdm0f9B",
        "outputId": "5f3ee7e7-23fa-46fd-b069-7fd1e10dcb5e"
      },
      "execution_count": null,
      "outputs": [
        {
          "output_type": "execute_result",
          "data": {
            "text/plain": [
              "['Bahia', 'Sport', 'Botafogo', 'Vasco', 'Atlético-MG']"
            ]
          },
          "metadata": {},
          "execution_count": 9
        }
      ]
    },
    {
      "cell_type": "markdown",
      "source": [
        "Agora quero cologar o Cruzeiro, no terceiro lugar da lista."
      ],
      "metadata": {
        "id": "JItldJ2w1GJH"
      }
    },
    {
      "cell_type": "code",
      "source": [
        "times.insert(2,'Cruzeiro') # Cruzeiro é inserido na posição do Flamengo, que é deslocado\n",
        "times                      # Note que o contador de posições das listas começa em 0."
      ],
      "metadata": {
        "colab": {
          "base_uri": "https://localhost:8080/"
        },
        "id": "KNHoLDSV1MD-",
        "outputId": "35ffd523-2720-452c-e69a-89acb06b777d"
      },
      "execution_count": null,
      "outputs": [
        {
          "output_type": "execute_result",
          "data": {
            "text/plain": [
              "['Bahia', 'Sport', 'Cruzeiro', 'Cruzeiro', 'Botafogo', 'Vasco', 'Atlético-MG']"
            ]
          },
          "metadata": {},
          "execution_count": 14
        }
      ]
    },
    {
      "cell_type": "markdown",
      "source": [
        "E quantos termos tem a lista?"
      ],
      "metadata": {
        "id": "QoR43F7HGIMt"
      }
    },
    {
      "cell_type": "code",
      "source": [
        "len(times)"
      ],
      "metadata": {
        "colab": {
          "base_uri": "https://localhost:8080/"
        },
        "id": "tEz3FCg7GK10",
        "outputId": "af59fcf3-9031-4851-c979-402953515b48"
      },
      "execution_count": null,
      "outputs": [
        {
          "output_type": "execute_result",
          "data": {
            "text/plain": [
              "7"
            ]
          },
          "metadata": {},
          "execution_count": 15
        }
      ]
    },
    {
      "cell_type": "code",
      "source": [
        "times[0],times[6]  # Isso é o que chamamos de par ordenado: primeiro Bahia e segundo Atlético-MG."
      ],
      "metadata": {
        "colab": {
          "base_uri": "https://localhost:8080/"
        },
        "id": "FuN1lgHuGeFw",
        "outputId": "f4c30b35-170d-4f30-9f6c-061cda137774"
      },
      "execution_count": null,
      "outputs": [
        {
          "output_type": "execute_result",
          "data": {
            "text/plain": [
              "('Bahia', 'Atlético-MG')"
            ]
          },
          "metadata": {},
          "execution_count": 16
        }
      ]
    },
    {
      "cell_type": "markdown",
      "source": [
        "Temos o mesmo efeito anterior usando (uma coisa, outra coisa)."
      ],
      "metadata": {
        "id": "qzdjjjPjHZbv"
      }
    },
    {
      "cell_type": "code",
      "source": [
        "par_ordenado=(times[0],times[6])\n",
        "\n",
        "par_ordenado"
      ],
      "metadata": {
        "colab": {
          "base_uri": "https://localhost:8080/"
        },
        "id": "ZakDrNYpHjNi",
        "outputId": "71f4125e-c9f2-41d7-81e2-5ff1ca61bf35"
      },
      "execution_count": null,
      "outputs": [
        {
          "output_type": "execute_result",
          "data": {
            "text/plain": [
              "('Bahia', 'Atlético-MG')"
            ]
          },
          "metadata": {},
          "execution_count": 17
        }
      ]
    },
    {
      "cell_type": "markdown",
      "source": [
        "Para terminar esta seção, eu desisti da última lista. Vou fazer outra lista. Começando com uma vazia."
      ],
      "metadata": {
        "id": "9Q3dOtTOIAbH"
      }
    },
    {
      "cell_type": "code",
      "source": [
        "times.clear()\n",
        "times          # Lista vazia."
      ],
      "metadata": {
        "colab": {
          "base_uri": "https://localhost:8080/"
        },
        "id": "YPqnGMqyIMxu",
        "outputId": "adb437ee-562d-4b74-aa09-262c69d528a8"
      },
      "execution_count": null,
      "outputs": [
        {
          "output_type": "execute_result",
          "data": {
            "text/plain": [
              "[]"
            ]
          },
          "metadata": {},
          "execution_count": 18
        }
      ]
    },
    {
      "cell_type": "markdown",
      "source": [
        "<font color=green> Você pode pensar no conceito primitivo de [lista com infinitos elementos](https://en.wikipedia.org/wiki/Stream_(abstract_data_type)); e no conceito de lista não discreta. <font color=black>\n",
        "\n",
        "<font color=blue> O termo discreto, em matemática, tem o sentido de contável, que se pode enumerar. O exemplo mais elementar de lista discreta é listar alguns números naturais, num determinado intervalo, por exemplo,$2,4,6,8,10,27.$ Podemos ver (ou imaginar) todos os números naturais numa lista $$0,\\,1,\\,2,\\,3,\\,4,\\,\\ldots,\\,1000,\\,1001,\\,\\ldots$$\n",
        "Note que sempre posso somar 1 ao elemento da lista e obter o próximo; e nunca termino."
      ],
      "metadata": {
        "id": "b_9j9UPUJEtw"
      }
    },
    {
      "cell_type": "markdown",
      "source": [
        "#**Conjunto:**\n",
        "\n",
        "\n",
        "Vou falar de [conjunto](https://en.wikipedia.org/wiki/Set_(abstract_data_type)) por meio de exemplos, porque considero isso um coinceito primitivo.\n",
        "\n",
        "Embora posssamos usar conjunto como conceito primitivo. No caso discreto, podemos usar o conceito de lista para pensar no conjunto como uma lista em que não repetimos elementos. <font color=blue> Matematicamente, não importa a ordem dos elementos em um conjunto.\n",
        "\n",
        "2. Vamos pensar no conjunto dos números 1, 2 e 3. Denotamos esse conjunto como $$\\{1,\\,2,\\,3\\}$$ em matemática. Podemos dar nomes aos conjuntos que estamoos lidando. No caso, chemei de set0."
      ],
      "metadata": {
        "id": "Sd6GKojknDVP"
      }
    },
    {
      "cell_type": "code",
      "source": [
        "set0={1,2,3,'carro','queijo'}  # Usamos chaves para denotar conjunto, como é feito em matemática.\n",
        "set0"
      ],
      "metadata": {
        "colab": {
          "base_uri": "https://localhost:8080/"
        },
        "id": "BYM6dvtWnIRH",
        "outputId": "50246f5a-6f80-4a41-c338-234fc13052a2"
      },
      "execution_count": null,
      "outputs": [
        {
          "output_type": "execute_result",
          "data": {
            "text/plain": [
              "{1, 2, 3, 'carro', 'queijo'}"
            ]
          },
          "metadata": {},
          "execution_count": 19
        }
      ]
    },
    {
      "cell_type": "markdown",
      "source": [
        "Entendemos que esse conjunto e o que segue são os mesmos:"
      ],
      "metadata": {
        "id": "MtwEz_57Rgsn"
      }
    },
    {
      "cell_type": "code",
      "source": [
        "{'carro',1,2,3,'queijo'}"
      ],
      "metadata": {
        "colab": {
          "base_uri": "https://localhost:8080/"
        },
        "id": "Rv-biGWzRl0f",
        "outputId": "fcfc1c54-a27a-4193-c725-84106e12f923"
      },
      "execution_count": null,
      "outputs": [
        {
          "output_type": "execute_result",
          "data": {
            "text/plain": [
              "{1, 2, 3, 'carro', 'queijo'}"
            ]
          },
          "metadata": {},
          "execution_count": 20
        }
      ]
    },
    {
      "cell_type": "code",
      "source": [
        "set1={1,2,2,'porco',3,'carro','carro','mais dois carros do mesmo modelo anterior'}\n",
        "set1"
      ],
      "metadata": {
        "colab": {
          "base_uri": "https://localhost:8080/"
        },
        "id": "2S3AdT5enNY_",
        "outputId": "f80df36e-f118-4607-b4d0-513918ba1f3c"
      },
      "execution_count": null,
      "outputs": [
        {
          "output_type": "execute_result",
          "data": {
            "text/plain": [
              "{1, 2, 3, 'carro', 'mais dois carros do mesmo modelo anterior', 'porco'}"
            ]
          },
          "metadata": {},
          "execution_count": 21
        }
      ]
    },
    {
      "cell_type": "markdown",
      "source": [
        "Oberve que, por exemplo, quando eu falo carro, entendemos uma coisa geral, eu pelo menos entendo. Agora, dois carros do mesmo modelo é como se eu tivesse um carro e outro carro, digamos igual, mas não é o mesmo carro, certo?"
      ],
      "metadata": {
        "id": "jZTtg7RN3SLK"
      }
    },
    {
      "cell_type": "markdown",
      "source": [
        "Em matemática, quando pensamos no número 1, por exemplo, não faz sentido pensar num 1 igual a outro 1. Só temos um 1, que usamos em vários contextos."
      ],
      "metadata": {
        "id": "1P0YsOSz4HxX"
      }
    },
    {
      "cell_type": "code",
      "source": [
        "set2={i for i in list(range(-20,10))}\n",
        "print(set2)"
      ],
      "metadata": {
        "colab": {
          "base_uri": "https://localhost:8080/"
        },
        "id": "LCOQv1sVqlAt",
        "outputId": "5cd021bd-e622-478c-b3fe-7d228d4ceec1"
      },
      "execution_count": null,
      "outputs": [
        {
          "output_type": "stream",
          "name": "stdout",
          "text": [
            "{0, 1, 2, 3, 4, 5, 6, 7, 8, 9, -20, -19, -18, -17, -16, -15, -14, -13, -12, -11, -10, -9, -8, -7, -6, -5, -4, -3, -2, -1}\n"
          ]
        }
      ]
    },
    {
      "cell_type": "code",
      "source": [
        "set3={i for i in lista4} # Elementos da lista4\n",
        "print(set3)"
      ],
      "metadata": {
        "colab": {
          "base_uri": "https://localhost:8080/"
        },
        "id": "GRmasS8mrthp",
        "outputId": "190bda36-1fc3-400a-e730-9b2945f98411"
      },
      "execution_count": null,
      "outputs": [
        {
          "output_type": "stream",
          "name": "stdout",
          "text": [
            "{0, 1, 2, 3, 4, 5, 6, 7, 8, 9, -20, -19, -18, -17, -16, -15, -14, -13, -12, -11, -10, -9, -8, -7, -6, -5, -4, -3, -2, -1}\n"
          ]
        }
      ]
    },
    {
      "cell_type": "markdown",
      "source": [
        "**Subconjunto, união e intersecção de conjuntos**\n",
        "\n",
        "Como usamos o artifício de listas para falar de conjuntos, observamos que uma parte de uma lista é outra lista, incluindo a lista vazia. Então, uma parte de uma conjunto será outro conjunto, que chamamos de subconjunto."
      ],
      "metadata": {
        "id": "_eWCbsjtNyCZ"
      }
    },
    {
      "cell_type": "code",
      "source": [
        "listset1=list(set1)  # Conjunto (ou set) não tem ordenação. Por isso transformo em lista.\n",
        "\n",
        "print('listset1=',listset1)\n",
        "\n",
        "sub_set1={listset1[i] for i in [2,4]}\n",
        "print('Um subconjunto de set1 é',sub_set1)"
      ],
      "metadata": {
        "colab": {
          "base_uri": "https://localhost:8080/"
        },
        "id": "_jmTI0LwOS1D",
        "outputId": "303cf6fc-847a-4976-d59d-fdb13fe2ce32"
      },
      "execution_count": null,
      "outputs": [
        {
          "output_type": "stream",
          "name": "stdout",
          "text": [
            "listset1= ['porco', 1, 2, 3, 'carro', 'mais dois carros do mesmo modelo anterior']\n",
            "Um subconjunto de set1 é {2, 'carro'}\n"
          ]
        }
      ]
    },
    {
      "cell_type": "markdown",
      "source": [
        "Podemos juntar duas lista e obter outra lista. O mesmo vale para conjuntos. Chamamos a junção de conjuntos de união."
      ],
      "metadata": {
        "id": "yc7ubI2JTjLA"
      }
    },
    {
      "cell_type": "code",
      "source": [
        "set1.union(set0)"
      ],
      "metadata": {
        "colab": {
          "base_uri": "https://localhost:8080/"
        },
        "id": "psU1rwGFTvs_",
        "outputId": "66b1b080-5efa-4c38-ad92-c97de5d7588f"
      },
      "execution_count": null,
      "outputs": [
        {
          "output_type": "execute_result",
          "data": {
            "text/plain": [
              "{1,\n",
              " 2,\n",
              " 3,\n",
              " 'carro',\n",
              " 'mais dois carros do mesmo modelo anterior',\n",
              " 'porco',\n",
              " 'queijo'}"
            ]
          },
          "metadata": {},
          "execution_count": 26
        }
      ]
    },
    {
      "cell_type": "markdown",
      "source": [
        "A intersecção entre conjuntos é um conjunto que contem os elementos em comum a todos os primeiros conjuntos."
      ],
      "metadata": {
        "id": "LAaAn7v6Viwg"
      }
    },
    {
      "cell_type": "code",
      "source": [
        "intersec=set1.intersection(set2)\n",
        "intersec"
      ],
      "metadata": {
        "colab": {
          "base_uri": "https://localhost:8080/"
        },
        "id": "n8c4U0uOV3Xq",
        "outputId": "3abacd19-47e5-4fdc-a8cf-01d5c19cd76d"
      },
      "execution_count": null,
      "outputs": [
        {
          "output_type": "execute_result",
          "data": {
            "text/plain": [
              "{1, 2, 3}"
            ]
          },
          "metadata": {},
          "execution_count": 27
        }
      ]
    },
    {
      "cell_type": "markdown",
      "source": [
        "Segue que a intersecção de conjuntos é subconjunto dos conjuntos iniciais."
      ],
      "metadata": {
        "id": "ePEFAttOW4Cp"
      }
    },
    {
      "cell_type": "code",
      "source": [
        "intersec.issubset(set1)"
      ],
      "metadata": {
        "colab": {
          "base_uri": "https://localhost:8080/"
        },
        "id": "NS5Nv05WW_sV",
        "outputId": "70049bc1-627a-41a3-d9b6-a4bc9b17f6b3"
      },
      "execution_count": null,
      "outputs": [
        {
          "output_type": "execute_result",
          "data": {
            "text/plain": [
              "True"
            ]
          },
          "metadata": {},
          "execution_count": 28
        }
      ]
    },
    {
      "cell_type": "markdown",
      "source": [
        "**Obs:** Aceitamos a ideia de conjunto como conceito primitivo porque é problemático pensar nisso por meio de definição, fato muito comum em matemática.\n",
        "\n",
        "Tentar definir conjunto foi abandonado pelos matemáticos, pelo menos em cursos introdutórios, devido a paradóxos.\n",
        "\n",
        "Para quem gostar se filosofia, sugiro este [link](https://www.cle.unicamp.br/prof/coniglio/CONJUN.pdf), por exemplo.\n",
        "\n",
        "\"Existem problemas que não têm solução computacional, o\n",
        "exemplo clássico é o Problema da Parada. A existência de\n",
        "uma solução para este problema levaria a um paradoxo.\n",
        "Isso mostra que os computadores não são (e nunca serão)\n",
        "capazes de resolver qualquer tipo de problema. Vários\n",
        "problemas chamados não-computáveis têm relação com\n",
        "programas que analisam outros programas (e, portanto, se\n",
        "forem analisar eles próprios, pode-se chegar a paradoxos).\n",
        "\n",
        "...\n",
        "\n",
        "Possui relação direta com (EM13MAT315).\n",
        "Mostrar paradoxos como o [Paradoxo de\n",
        "Mentiroso](https://pt.wikipedia.org/wiki/Paradoxo_do_mentiroso), para explicar o que é um paradoxo e\n",
        "relacionar com o problema da Parada (que gera\n",
        "o paradoxo que um programa para se somente\n",
        "se ele próprio não parar). Uma consequência da\n",
        "não existência de solução computacional para o\n",
        "problema da parada é que não é possível\n",
        "construir um programa que faz análise de\n",
        "programas para determinar se a execução destes\n",
        "programas necessariamente termina. Pode-se\n",
        "então discutir se há limites para a inteligência\n",
        "humana, a exemplo dos limites da computação.\"\n",
        "\n",
        "Retirado de texto complementar à BNCC vide [link](http://portal.mec.gov.br/docman/fevereiro-2022-pdf/236791-anexo-ao-parecer-cneceb-n-2-2022-bncc-computacao/file)\n",
        "\n",
        "\n"
      ],
      "metadata": {
        "id": "g6im8cHo5bNX"
      }
    },
    {
      "cell_type": "markdown",
      "source": [
        "\n",
        "[Problema da parada:](https://pt.wikipedia.org/wiki/Problema_da_parada)\n",
        "\n",
        "''Dadas uma descrição de um programa e uma entrada finita, decida se o programa termina de rodar ou rodará indefinidamente.''\n",
        "\n",
        "(EM13MAT315) Investigar e registrar, por meio de um fluxograma, quando possível, um algoritmo que resolve um problema. Fonte [BNCC](http://basenacionalcomum.mec.gov.br/images/BNCC_EI_EF_110518_versaofinal_site.pdf).\n"
      ],
      "metadata": {
        "id": "ovqHIFH9MVcA"
      }
    }
  ]
}