{
  "nbformat": 4,
  "nbformat_minor": 0,
  "metadata": {
    "colab": {
      "provenance": [],
      "authorship_tag": "ABX9TyM182fSPT6TmpJ3lfn1CBkX",
      "include_colab_link": true
    },
    "kernelspec": {
      "name": "python3",
      "display_name": "Python 3"
    },
    "language_info": {
      "name": "python"
    }
  },
  "cells": [
    {
      "cell_type": "markdown",
      "metadata": {
        "id": "view-in-github",
        "colab_type": "text"
      },
      "source": [
        "<a href=\"https://colab.research.google.com/github/j-claudinei-f/j-claudinei-f/blob/main/Conjuntos_Combinat%C3%B3ria.ipynb\" target=\"_parent\"><img src=\"https://colab.research.google.com/assets/colab-badge.svg\" alt=\"Open In Colab\"/></a>"
      ]
    },
    {
      "cell_type": "markdown",
      "source": [
        "#**Matemática discreta: Texto auxiliar sobre conjuntos e combinatória**\n",
        "\n",
        "José Claudinei Ferreira\n",
        "\n",
        "Universidade Federal de Alfenas"
      ],
      "metadata": {
        "id": "1JZumSnYk0Q3"
      }
    },
    {
      "cell_type": "markdown",
      "source": [
        "#**Lista**\n",
        "\n",
        "Vou falar de [lista](https://en.wikipedia.org/wiki/List_(abstract_data_type)) por meio de exemplos, porque considero isso um conceito primitivo.\n",
        "\n",
        "Quero dizer que aceito que sabem o que é uma lista. Quero apenas fazer um ajuste de linguagem para esclarecer o que é que aceito que sabem.\n",
        "\n",
        "1. Vamos pensar na lista dos números 1, 2 e 3. <font color=blue> Vou usar Python para \"colocar isso no Computador\". <font color=red>Vou usar o Python apenas como acessório para lidar com conceitos."
      ],
      "metadata": {
        "id": "R3S7TFuJlsJd"
      }
    },
    {
      "cell_type": "code",
      "source": [
        "lista1=[1,2,3]"
      ],
      "metadata": {
        "id": "XAQEhSW1t816"
      },
      "execution_count": 1,
      "outputs": []
    },
    {
      "cell_type": "markdown",
      "source": [
        "Sempre que eu usar o termo lista1, entende-se a lista dos números 1, 2 e 3."
      ],
      "metadata": {
        "id": "Nhis22PCuCpx"
      }
    },
    {
      "cell_type": "code",
      "source": [
        "lista1\n"
      ],
      "metadata": {
        "colab": {
          "base_uri": "https://localhost:8080/"
        },
        "id": "YkokL3ExtnhV",
        "outputId": "5dbf5a68-6c5a-46ee-e49c-6db3016d961f"
      },
      "execution_count": 2,
      "outputs": [
        {
          "output_type": "execute_result",
          "data": {
            "text/plain": [
              "[1, 2, 3]"
            ]
          },
          "metadata": {},
          "execution_count": 2
        }
      ]
    },
    {
      "cell_type": "markdown",
      "source": [
        "Listas podem conter coisas de natureza variada. Pode conter coisas repetidas."
      ],
      "metadata": {
        "id": "F0sPmv4uwkp7"
      }
    },
    {
      "cell_type": "code",
      "execution_count": 3,
      "metadata": {
        "id": "3rx8W-mZkzjx",
        "colab": {
          "base_uri": "https://localhost:8080/"
        },
        "outputId": "f1600fbc-fb37-4985-9b21-186c207e4e75"
      },
      "outputs": [
        {
          "output_type": "execute_result",
          "data": {
            "text/plain": [
              "[1,\n",
              " 2,\n",
              " 2,\n",
              " 3,\n",
              " [1, 2, 3],\n",
              " 'carro',\n",
              " 'carro',\n",
              " 'mais dois carros iguais ao anterior']"
            ]
          },
          "metadata": {},
          "execution_count": 3
        }
      ],
      "source": [
        "lista2=[1,2,2,3,lista1,'carro','carro','mais dois carros iguais ao anterior']\n",
        "lista2"
      ]
    },
    {
      "cell_type": "markdown",
      "source": [
        "Vejamos uma lista  de número inteiros maiores que $-20$ e menores que $7$."
      ],
      "metadata": {
        "id": "XBEqAMeapzPN"
      }
    },
    {
      "cell_type": "code",
      "source": [
        "lista3=list(range(-20,10))# range(-20,10) representa os número inteiros entre -20 e 10, inclui o -20 e não inclui o 10.\n",
        "print(lista3)             # print é usado para imprimir column-wise"
      ],
      "metadata": {
        "colab": {
          "base_uri": "https://localhost:8080/"
        },
        "id": "ICT6C9BPqWI4",
        "outputId": "94627de4-8ca7-49be-d5b0-2b9063524f53"
      },
      "execution_count": 4,
      "outputs": [
        {
          "output_type": "stream",
          "name": "stdout",
          "text": [
            "[-20, -19, -18, -17, -16, -15, -14, -13, -12, -11, -10, -9, -8, -7, -6, -5, -4, -3, -2, -1, 0, 1, 2, 3, 4, 5, 6, 7, 8, 9]\n"
          ]
        }
      ]
    },
    {
      "cell_type": "markdown",
      "source": [
        "Você pode aumentar o tamanho de uma lista."
      ],
      "metadata": {
        "id": "-754FgF6xo9o"
      }
    },
    {
      "cell_type": "code",
      "source": [
        "lista4=lista3+[-2,0,5]\n",
        "\n",
        "print(lista4)"
      ],
      "metadata": {
        "colab": {
          "base_uri": "https://localhost:8080/"
        },
        "id": "zCpqNuagrgq_",
        "outputId": "653c1898-23a8-4676-92c9-ff67a35d0594"
      },
      "execution_count": 5,
      "outputs": [
        {
          "output_type": "stream",
          "name": "stdout",
          "text": [
            "[-20, -19, -18, -17, -16, -15, -14, -13, -12, -11, -10, -9, -8, -7, -6, -5, -4, -3, -2, -1, 0, 1, 2, 3, 4, 5, 6, 7, 8, 9, -2, 0, 5]\n"
          ]
        }
      ]
    },
    {
      "cell_type": "markdown",
      "source": [
        "Mais um exemplo:"
      ],
      "metadata": {
        "id": "XtwVR-X-zLXq"
      }
    },
    {
      "cell_type": "code",
      "source": [
        "times = ['Bahia', 'Sport', 'Fortaleza', 'Flamengo']\n",
        "times"
      ],
      "metadata": {
        "colab": {
          "base_uri": "https://localhost:8080/"
        },
        "id": "PPrtSt0szONK",
        "outputId": "823ef287-2fa7-4534-8148-adce1f91574f"
      },
      "execution_count": 6,
      "outputs": [
        {
          "output_type": "execute_result",
          "data": {
            "text/plain": [
              "['Bahia', 'Sport', 'Fortaleza', 'Flamengo']"
            ]
          },
          "metadata": {},
          "execution_count": 6
        }
      ]
    },
    {
      "cell_type": "markdown",
      "source": [
        "Acrescentando um elemento:"
      ],
      "metadata": {
        "id": "wk8MipWKhirz"
      }
    },
    {
      "cell_type": "code",
      "source": [
        "times.append('Botafogo') # Acrecentando um time.\n",
        "times"
      ],
      "metadata": {
        "colab": {
          "base_uri": "https://localhost:8080/"
        },
        "id": "xEoK-tzuzQbo",
        "outputId": "7f119582-8817-4c2a-e0b5-bfca48234d9e"
      },
      "execution_count": 7,
      "outputs": [
        {
          "output_type": "execute_result",
          "data": {
            "text/plain": [
              "['Bahia', 'Sport', 'Fortaleza', 'Flamengo', 'Botafogo']"
            ]
          },
          "metadata": {},
          "execution_count": 7
        }
      ]
    },
    {
      "cell_type": "markdown",
      "source": [
        "Acrescentando uma lista:"
      ],
      "metadata": {
        "id": "fIP3z54pho9w"
      }
    },
    {
      "cell_type": "code",
      "source": [
        "times.extend(['Vasco', 'Atlético-MG']) # usa outra lista para estender a lista.\n",
        "times"
      ],
      "metadata": {
        "colab": {
          "base_uri": "https://localhost:8080/"
        },
        "id": "S4tw8n35zaWF",
        "outputId": "ed3c661b-6adc-420f-b15e-4d3d8bbef37f"
      },
      "execution_count": 8,
      "outputs": [
        {
          "output_type": "execute_result",
          "data": {
            "text/plain": [
              "['Bahia', 'Sport', 'Fortaleza', 'Flamengo', 'Botafogo', 'Vasco', 'Atlético-MG']"
            ]
          },
          "metadata": {},
          "execution_count": 8
        }
      ]
    },
    {
      "cell_type": "markdown",
      "source": [
        "Desisti do Fortaleza na minha lista, vou tirar."
      ],
      "metadata": {
        "id": "OSKCUPi20aZS"
      }
    },
    {
      "cell_type": "code",
      "source": [
        "times.pop(2) # O Fortaleza está na posição 2 e não na posição 3!\n",
        "times"
      ],
      "metadata": {
        "colab": {
          "base_uri": "https://localhost:8080/"
        },
        "id": "XDdjDwdm0f9B",
        "outputId": "2561c6a0-24e6-47f0-a6b2-711ca24a35a2"
      },
      "execution_count": 9,
      "outputs": [
        {
          "output_type": "execute_result",
          "data": {
            "text/plain": [
              "['Bahia', 'Sport', 'Flamengo', 'Botafogo', 'Vasco', 'Atlético-MG']"
            ]
          },
          "metadata": {},
          "execution_count": 9
        }
      ]
    },
    {
      "cell_type": "markdown",
      "source": [
        "Agora quero cologar o Cruzeiro, no terceiro lugar da lista."
      ],
      "metadata": {
        "id": "JItldJ2w1GJH"
      }
    },
    {
      "cell_type": "code",
      "source": [
        "times.insert(2,'Cruzeiro') # Cruzeiro é inserido na posição do Flamengo, que é deslocado\n",
        "times                      # Note que o contador de posições das listas começa em 0."
      ],
      "metadata": {
        "colab": {
          "base_uri": "https://localhost:8080/"
        },
        "id": "KNHoLDSV1MD-",
        "outputId": "bd9cb156-631a-44db-910d-1dd0b4d151b0"
      },
      "execution_count": 10,
      "outputs": [
        {
          "output_type": "execute_result",
          "data": {
            "text/plain": [
              "['Bahia', 'Sport', 'Cruzeiro', 'Flamengo', 'Botafogo', 'Vasco', 'Atlético-MG']"
            ]
          },
          "metadata": {},
          "execution_count": 10
        }
      ]
    },
    {
      "cell_type": "markdown",
      "source": [
        "E quantos termos tem a lista?"
      ],
      "metadata": {
        "id": "QoR43F7HGIMt"
      }
    },
    {
      "cell_type": "code",
      "source": [
        "len(times)"
      ],
      "metadata": {
        "colab": {
          "base_uri": "https://localhost:8080/"
        },
        "id": "tEz3FCg7GK10",
        "outputId": "b418580f-309f-42d3-a3cd-d7935b4a1730"
      },
      "execution_count": 11,
      "outputs": [
        {
          "output_type": "execute_result",
          "data": {
            "text/plain": [
              "7"
            ]
          },
          "metadata": {},
          "execution_count": 11
        }
      ]
    },
    {
      "cell_type": "code",
      "source": [
        "times[0],times[6]  # Isso é o que chamamos de par ordenado: primeiro Bahia e segundo Atlético-MG."
      ],
      "metadata": {
        "colab": {
          "base_uri": "https://localhost:8080/"
        },
        "id": "FuN1lgHuGeFw",
        "outputId": "f920b089-b86e-47ec-e061-02244e05525e"
      },
      "execution_count": 12,
      "outputs": [
        {
          "output_type": "execute_result",
          "data": {
            "text/plain": [
              "('Bahia', 'Atlético-MG')"
            ]
          },
          "metadata": {},
          "execution_count": 12
        }
      ]
    },
    {
      "cell_type": "markdown",
      "source": [
        "Temos o mesmo efeito anterior usando (uma coisa, outra coisa)."
      ],
      "metadata": {
        "id": "qzdjjjPjHZbv"
      }
    },
    {
      "cell_type": "code",
      "source": [
        "par_ordenado=(times[0],times[6])\n",
        "\n",
        "par_ordenado"
      ],
      "metadata": {
        "colab": {
          "base_uri": "https://localhost:8080/"
        },
        "id": "ZakDrNYpHjNi",
        "outputId": "c6da0b1c-acdf-4718-b169-a3b97951a2a3"
      },
      "execution_count": 13,
      "outputs": [
        {
          "output_type": "execute_result",
          "data": {
            "text/plain": [
              "('Bahia', 'Atlético-MG')"
            ]
          },
          "metadata": {},
          "execution_count": 13
        }
      ]
    },
    {
      "cell_type": "markdown",
      "source": [
        "Para terminar esta seção, eu desisti da última lista. Vou fazer outra lista. Começando com uma vazia."
      ],
      "metadata": {
        "id": "9Q3dOtTOIAbH"
      }
    },
    {
      "cell_type": "code",
      "source": [
        "times.clear()\n",
        "times          # Lista vazia."
      ],
      "metadata": {
        "colab": {
          "base_uri": "https://localhost:8080/"
        },
        "id": "YPqnGMqyIMxu",
        "outputId": "dce283cc-7f55-45f0-bbab-8009ece07abf"
      },
      "execution_count": 14,
      "outputs": [
        {
          "output_type": "execute_result",
          "data": {
            "text/plain": [
              "[]"
            ]
          },
          "metadata": {},
          "execution_count": 14
        }
      ]
    },
    {
      "cell_type": "markdown",
      "source": [
        "<font color=green> Você pode pensar no conceito primitivo de [lista com infinitos elementos](https://en.wikipedia.org/wiki/Stream_(abstract_data_type)); e no conceito de lista não discreta. <font color=black>\n",
        "\n",
        "<font color=blue> O termo discreto, em matemática, tem o sentido de contável, que se pode enumerar. O exemplo mais elementar de lista discreta é listar alguns números naturais, num determinado intervalo, por exemplo,$2,4,6,8,10,27.$ Podemos ver (ou imaginar) todos os números naturais numa lista $$0,\\,1,\\,2,\\,3,\\,4,\\,\\ldots,\\,1000,\\,1001,\\,\\ldots$$\n",
        "Note que sempre posso somar 1 ao elemento da lista e obter o próximo; e nunca termino."
      ],
      "metadata": {
        "id": "b_9j9UPUJEtw"
      }
    },
    {
      "cell_type": "markdown",
      "source": [
        "#**Conjunto:**\n",
        "\n",
        "\n",
        "Vou falar de [conjunto](https://en.wikipedia.org/wiki/Set_(abstract_data_type)) por meio de exemplos, porque considero isso um coinceito primitivo.\n",
        "\n",
        "Embora posssamos usar conjunto como conceito primitivo. No caso discreto, podemos usar o conceito de lista para pensar no conjunto como uma lista em que não repetimos elementos. <font color=blue> Matematicamente, não importa a ordem dos elementos em um conjunto.\n",
        "\n",
        "2. Vamos pensar no conjunto dos números 1, 2 e 3, da palavra carro e da palavra queijo. Podemos dar um nome para esse conjunto, por simplicidade, vou chamá-lo de $A$. Denotamos esse conjunto como $$A=\\{1,\\,2,\\,3,\\,carro,\\,queijo\\}$$ em matemática."
      ],
      "metadata": {
        "id": "Sd6GKojknDVP"
      }
    },
    {
      "cell_type": "code",
      "source": [
        "A={1,2,3,'carro','queijo'}  # Usamos chaves para denotar conjunto, como é feito em matemática.\n",
        "A"
      ],
      "metadata": {
        "colab": {
          "base_uri": "https://localhost:8080/"
        },
        "id": "BYM6dvtWnIRH",
        "outputId": "341cfd2b-a514-4090-83fa-cad43475ac42"
      },
      "execution_count": 24,
      "outputs": [
        {
          "output_type": "execute_result",
          "data": {
            "text/plain": [
              "{1, 2, 3, 'carro', 'queijo'}"
            ]
          },
          "metadata": {},
          "execution_count": 24
        }
      ]
    },
    {
      "cell_type": "markdown",
      "source": [
        "Entendemos que esse conjunto e o que segue são os mesmos:"
      ],
      "metadata": {
        "id": "MtwEz_57Rgsn"
      }
    },
    {
      "cell_type": "code",
      "source": [
        "B={'carro',1,2,3,'queijo'}\n",
        "B"
      ],
      "metadata": {
        "colab": {
          "base_uri": "https://localhost:8080/"
        },
        "id": "Rv-biGWzRl0f",
        "outputId": "e7d5eaba-72e7-46ca-ec41-1000d73ad018"
      },
      "execution_count": 25,
      "outputs": [
        {
          "output_type": "execute_result",
          "data": {
            "text/plain": [
              "{1, 2, 3, 'carro', 'queijo'}"
            ]
          },
          "metadata": {},
          "execution_count": 25
        }
      ]
    },
    {
      "cell_type": "markdown",
      "source": [
        "Podemos acrescentar os elementos de um conjunto $C$ ao conjunto $A$, para obter um conjunto $D$. Isso é chamado de união de conjuntos e denotado como $$D=A\\cup C.$$\n",
        "\n",
        "Tomando, por exemplo, $$C=\\{B,casa\\}.$$"
      ],
      "metadata": {
        "id": "I2DDd4cOQOWy"
      }
    },
    {
      "cell_type": "code",
      "source": [
        "C={frozenset(B),'casa'} # frosenset(B) é usado para transformar o conjunto num elemento.\n",
        "D=A.union(C)\n",
        "D"
      ],
      "metadata": {
        "colab": {
          "base_uri": "https://localhost:8080/"
        },
        "id": "bPIHYk9TRPiI",
        "outputId": "404ffd12-1660-4bc2-d2f9-71ac31dad062"
      },
      "execution_count": 26,
      "outputs": [
        {
          "output_type": "execute_result",
          "data": {
            "text/plain": [
              "{1, 2, 3, 'carro', 'casa', frozenset({1, 2, 3, 'carro', 'queijo'}), 'queijo'}"
            ]
          },
          "metadata": {},
          "execution_count": 26
        }
      ]
    },
    {
      "cell_type": "markdown",
      "source": [
        "Poderia ter usado"
      ],
      "metadata": {
        "id": "iqMRd1JDUZE1"
      }
    },
    {
      "cell_type": "code",
      "source": [
        "A|C # O símbolo I representa ou. No caso é A união com C."
      ],
      "metadata": {
        "colab": {
          "base_uri": "https://localhost:8080/"
        },
        "id": "XmiUPnMKUbbP",
        "outputId": "631891cf-f0b9-44ec-f946-47176e52497a"
      },
      "execution_count": 37,
      "outputs": [
        {
          "output_type": "execute_result",
          "data": {
            "text/plain": [
              "{1, 2, 3, 'carro', 'casa', frozenset({1, 2, 3, 'carro', 'queijo'}), 'queijo'}"
            ]
          },
          "metadata": {},
          "execution_count": 37
        }
      ]
    },
    {
      "cell_type": "markdown",
      "source": [
        "Além de juntar os elementos de um conjunto $A$, podemos nos perguntar quais elementos esse conjunto tem em comum com o conjunto $E$, por exemplo. Isso é chamado de intersecção e gera o conjunto $F$, denotado por $$F=A\\cap E.$$"
      ],
      "metadata": {
        "id": "n2IBgqOBVQiq"
      }
    },
    {
      "cell_type": "code",
      "source": [
        "E={56,43,'carro',1}\n",
        "F=A.intersection(E)\n",
        "F"
      ],
      "metadata": {
        "colab": {
          "base_uri": "https://localhost:8080/"
        },
        "id": "C4YHy8gvQVtt",
        "outputId": "7b22b6c3-a4ac-481a-ff0e-85086319e874"
      },
      "execution_count": 39,
      "outputs": [
        {
          "output_type": "execute_result",
          "data": {
            "text/plain": [
              "{1, 'carro'}"
            ]
          },
          "metadata": {},
          "execution_count": 39
        }
      ]
    },
    {
      "cell_type": "markdown",
      "source": [
        "Pode ser escrito também como"
      ],
      "metadata": {
        "id": "qVktGDzKZdLe"
      }
    },
    {
      "cell_type": "code",
      "source": [
        "E1=A&E\n",
        "E1"
      ],
      "metadata": {
        "id": "Ea_4BxzmZZHP",
        "outputId": "fe72d5a9-0808-468d-8157-af13499069c9",
        "colab": {
          "base_uri": "https://localhost:8080/"
        }
      },
      "execution_count": 42,
      "outputs": [
        {
          "output_type": "execute_result",
          "data": {
            "text/plain": [
              "{1, 'carro'}"
            ]
          },
          "metadata": {},
          "execution_count": 42
        }
      ]
    },
    {
      "cell_type": "markdown",
      "source": [
        "Como nesse exemplo, $A$ e $E$ não têm elementos em comum, o resultado é o que chamamos de conjunto vazio, denotado por $$\\{\\}\\text{ ou } ∅.$$"
      ],
      "metadata": {
        "id": "J7eO-ENcXrtj"
      }
    },
    {
      "cell_type": "code",
      "source": [
        "E1&{132,45,'bola'} # set() representa o conjunto vazio."
      ],
      "metadata": {
        "colab": {
          "base_uri": "https://localhost:8080/"
        },
        "id": "vqwF6mr-O0G0",
        "outputId": "4939f076-b23b-436f-e276-c0d2988c933d"
      },
      "execution_count": 45,
      "outputs": [
        {
          "output_type": "execute_result",
          "data": {
            "text/plain": [
              "set()"
            ]
          },
          "metadata": {},
          "execution_count": 45
        }
      ]
    },
    {
      "cell_type": "markdown",
      "source": [
        "Podemos ainda saber quais elementos do conjunto $D$ não são selementos do conjunto $A$. Isso define o conjunto $G$, que é chamado de diferença entre os conjuntos e denotado por $$G=D\\setminus A \\text{ ou } $$"
      ],
      "metadata": {
        "id": "zJuUk3ZcYIFe"
      }
    },
    {
      "cell_type": "code",
      "source": [
        "D1={i for i in lista4}.union({'bola','carro'})# Elementos da lista4\n",
        "print(D1)\n",
        "\n",
        "G=D1-A\n",
        "print(G)"
      ],
      "metadata": {
        "colab": {
          "base_uri": "https://localhost:8080/"
        },
        "id": "GRmasS8mrthp",
        "outputId": "887e7d5f-2182-4d51-ee48-45b41d9c0ca6"
      },
      "execution_count": 55,
      "outputs": [
        {
          "output_type": "stream",
          "name": "stdout",
          "text": [
            "{0, 1, 2, 3, 4, 5, 6, 7, 8, 9, 'bola', 'carro', -20, -19, -18, -17, -16, -15, -14, -13, -12, -11, -10, -9, -8, -7, -6, -5, -4, -3, -2, -1}\n",
            "{0, 4, 5, 6, 7, 8, 9, -9, -8, -20, -19, -18, -17, -16, -15, -14, -13, 'bola', -12, -11, -10, -7, -6, -5, -4, -3, -2, -1}\n"
          ]
        }
      ]
    },
    {
      "cell_type": "markdown",
      "source": [
        "Temos ainda a diferença simétrica de conjuntos $$A△B,$$ que é o conjunto dos elementos de $A$, que não estão em $B$, e dos  elementos de $B$, que não estão em $A$.\n"
      ],
      "metadata": {
        "id": "_C05wduuQws9"
      }
    },
    {
      "cell_type": "code",
      "source": [
        "print(D1.symmetric_difference(B))"
      ],
      "metadata": {
        "colab": {
          "base_uri": "https://localhost:8080/"
        },
        "id": "YVphwEg6RuGp",
        "outputId": "0a35f23b-dcf4-4918-c948-55380c7fe61e"
      },
      "execution_count": 58,
      "outputs": [
        {
          "output_type": "stream",
          "name": "stdout",
          "text": [
            "{0, 4, 5, 6, 'queijo', 7, 8, 9, -9, -20, -19, -18, -17, -16, -15, -14, -13, -12, 'bola', -11, -10, -8, -7, -6, -5, -4, -3, -2, -1}\n"
          ]
        }
      ]
    },
    {
      "cell_type": "markdown",
      "source": [
        "**Obs:** Aceitamos a ideia de conjunto como conceito primitivo porque é problemático pensar nisso por meio de definição, fato muito comum em matemática.\n",
        "\n",
        "Tentar definir conjunto foi abandonado pelos matemáticos, pelo menos em cursos introdutórios, devido a paradóxos.\n",
        "\n",
        "Para quem gostar se filosofia, sugiro este [link](https://www.cle.unicamp.br/prof/coniglio/CONJUN.pdf), por exemplo.\n",
        "\n",
        "\"Existem problemas que não têm solução computacional, o\n",
        "exemplo clássico é o Problema da Parada. A existência de\n",
        "uma solução para este problema levaria a um paradoxo.\n",
        "Isso mostra que os computadores não são (e nunca serão)\n",
        "capazes de resolver qualquer tipo de problema. Vários\n",
        "problemas chamados não-computáveis têm relação com\n",
        "programas que analisam outros programas (e, portanto, se\n",
        "forem analisar eles próprios, pode-se chegar a paradoxos).\n",
        "\n",
        "...\n",
        "\n",
        "Possui relação direta com (EM13MAT315).\n",
        "Mostrar paradoxos como o [Paradoxo de\n",
        "Mentiroso](https://pt.wikipedia.org/wiki/Paradoxo_do_mentiroso), para explicar o que é um paradoxo e\n",
        "relacionar com o problema da Parada (que gera\n",
        "o paradoxo que um programa para se somente\n",
        "se ele próprio não parar). Uma consequência da\n",
        "não existência de solução computacional para o\n",
        "problema da parada é que não é possível\n",
        "construir um programa que faz análise de\n",
        "programas para determinar se a execução destes\n",
        "programas necessariamente termina. Pode-se\n",
        "então discutir se há limites para a inteligência\n",
        "humana, a exemplo dos limites da computação.\"\n",
        "\n",
        "Retirado de texto complementar à BNCC vide [link](http://portal.mec.gov.br/docman/fevereiro-2022-pdf/236791-anexo-ao-parecer-cneceb-n-2-2022-bncc-computacao/file)\n",
        "\n",
        "\n"
      ],
      "metadata": {
        "id": "g6im8cHo5bNX"
      }
    },
    {
      "cell_type": "markdown",
      "source": [
        "\n",
        "[Problema da parada:](https://pt.wikipedia.org/wiki/Problema_da_parada)\n",
        "\n",
        "''Dadas uma descrição de um programa e uma entrada finita, decida se o programa termina de rodar ou rodará indefinidamente.''\n",
        "\n",
        "(EM13MAT315) Investigar e registrar, por meio de um fluxograma, quando possível, um algoritmo que resolve um problema. Fonte [BNCC](http://basenacionalcomum.mec.gov.br/images/BNCC_EI_EF_110518_versaofinal_site.pdf).\n"
      ],
      "metadata": {
        "id": "ovqHIFH9MVcA"
      }
    },
    {
      "cell_type": "markdown",
      "source": [
        "#**Subconjunto, união e intersecção de conjuntos**\n",
        "\n",
        "Como usamos o artifício de listas para falar de conjuntos, observamos que uma parte de uma lista é outra lista, incluindo a lista vazia. Então, uma parte de uma conjunto será outro conjunto, que chamamos de subconjunto."
      ],
      "metadata": {
        "id": "_eWCbsjtNyCZ"
      }
    }
  ]
}