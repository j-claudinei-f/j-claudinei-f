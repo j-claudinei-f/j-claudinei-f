{
  "nbformat": 4,
  "nbformat_minor": 0,
  "metadata": {
    "colab": {
      "provenance": [],
      "authorship_tag": "ABX9TyM9q0+OIU2pPRDbMEQw904V",
      "include_colab_link": true
    },
    "kernelspec": {
      "name": "python3",
      "display_name": "Python 3"
    },
    "language_info": {
      "name": "python"
    }
  },
  "cells": [
    {
      "cell_type": "markdown",
      "metadata": {
        "id": "view-in-github",
        "colab_type": "text"
      },
      "source": [
        "<a href=\"https://colab.research.google.com/github/j-claudinei-f/j-claudinei-f/blob/main/Regress%C3%A3o_J%C3%BAlia.ipynb\" target=\"_parent\"><img src=\"https://colab.research.google.com/assets/colab-badge.svg\" alt=\"Open In Colab\"/></a>"
      ]
    },
    {
      "cell_type": "markdown",
      "source": [
        "#**Sobre a regressão de Júlia**\n",
        "\n",
        "José Claudinei Ferreira\n",
        "\n",
        "Universidade federal de alfenas"
      ],
      "metadata": {
        "id": "ogzQdf2eQrgC"
      }
    },
    {
      "cell_type": "markdown",
      "source": [
        "**Introdução**\n",
        "\n",
        "Tem circulado na internet alguns vídeos sobre um método de calcular raíz quadrada (natural e) de um número natural $a$, por meio da fórmula $$\\sqrt{a}=\\frac{d-k^2}{2k},$$ em que precisamos determinar $d$ e $k$.\n",
        "\n",
        "Esse método foi nomeado de [regressão de Júlia](https://youtu.be/3UC2J_QrqMI?si=Nx9bCSyzJ_uGF6P-), porque parece que ideia começou da observação, feita pelo professor Frederico, de como a sua aluna Júlia lidou com um problema de cálculo de raíz quadrada.\n",
        "\n",
        "Como mencionado nos vídeos é uma forma de lidar com vários conceitos de aritmética e também de gerar motivação para que professores e alunos criem e divulgem conhecimento.\n",
        "\n",
        "Mas cabe observar que a parte do íneditismo, eu discordo!\n",
        "\n",
        "E sobre a relação da fórmula e da utilidade dela nos vídeos escrevo algumas observações."
      ],
      "metadata": {
        "id": "a6LsBr8NNjEu"
      }
    },
    {
      "cell_type": "markdown",
      "source": [
        "**Da minha interpretação dos vídeos**\n",
        "\n",
        "Existe um artigo sobre o tema na [RPM 2023](https://www.rpm.org.br/) ([link](https://youtube.com/shorts/ipUsQdcaxcY?si=2uxL4MynS8z07vTg) do texto em vídeo), que descreve que o processo vem do produto notável $(x+k)^2=x^2+2kx+k^2$, para $a$ e $k$ números reais (números naturais no vídeo).\n",
        "\n",
        "Se $x^2=a$ e $k$ é um número real, então $(x+k)^2=x^2+2kx+k^2=a+d$, para $d=(x+k)^2-a$, ou $$x=\\frac{((x+k)^2-a)-k^2}{2k},\\qquad k\\neq 0,$$ para $x,\\,k$ números reais."
      ],
      "metadata": {
        "id": "kGsCljgLQxhR"
      }
    },
    {
      "cell_type": "markdown",
      "source": [
        "Mas, da observação de [alguns vídeos](https://youtube.com/shorts/VrKue9y49IU?si=JEPtF2238yCdIhpi), entendi outra coisa; entendi o seguinte:\n",
        "\n",
        "Dado um número real e positivo $a$, para calcular a raiz quadrada desse número, você pode seguir os itens:\n",
        "\n"
      ],
      "metadata": {
        "id": "xfqY_ZJ8RuzK"
      }
    },
    {
      "cell_type": "markdown",
      "source": [
        "**1.** Primeiro defina $$f(x)=x^2-a,$$ que pode ser visto como uma forma de ver o quão longe está $x^2$ de $a$, ou o quão longe está $x$ de $\\sqrt{a}$.\n",
        "\n"
      ],
      "metadata": {
        "id": "xrtpL2Ktn34q"
      }
    },
    {
      "cell_type": "markdown",
      "source": [
        "**2.**  Escolha um valor inicial $x_0$, como aproximação da suposta raíz quadrada de $a$, ou seja, $x_0\\approx \\sqrt{a}$.\n",
        "\n",
        "Calcule $f(x_0)=x_0^2-a$."
      ],
      "metadata": {
        "id": "tM7d2bVIn55i"
      }
    },
    {
      "cell_type": "markdown",
      "source": [
        "Por exemplo, em um vídeo é escolhido $a=69139225$ e $x_0=8355$, depois de estimativas, para mais e para menos da raíz quadrada de $a$."
      ],
      "metadata": {
        "id": "goADwECuSHgB"
      }
    },
    {
      "cell_type": "code",
      "source": [
        "a,x0=69139225,8355  # Comandos para usar calculadora em linguagem Python.\n",
        "\n",
        "a,x0"
      ],
      "metadata": {
        "colab": {
          "base_uri": "https://localhost:8080/"
        },
        "id": "Bn4KNPM6SK_M",
        "outputId": "7a18294d-852b-43ae-e9a0-2899b5331753"
      },
      "execution_count": null,
      "outputs": [
        {
          "output_type": "execute_result",
          "data": {
            "text/plain": [
              "(69139225, 8355)"
            ]
          },
          "metadata": {},
          "execution_count": 2
        }
      ]
    },
    {
      "cell_type": "markdown",
      "source": [
        "Definido $f(x)$"
      ],
      "metadata": {
        "id": "hNPserpgSYfE"
      }
    },
    {
      "cell_type": "code",
      "execution_count": null,
      "metadata": {
        "id": "IlTOx2CPQqg-"
      },
      "outputs": [],
      "source": [
        "def f(x):\n",
        "  return x**2-a"
      ]
    },
    {
      "cell_type": "markdown",
      "source": [
        "Obtemos"
      ],
      "metadata": {
        "id": "4u0mWsa2LlGl"
      }
    },
    {
      "cell_type": "code",
      "source": [
        "f(x0)"
      ],
      "metadata": {
        "colab": {
          "base_uri": "https://localhost:8080/"
        },
        "id": "5JyOiHM-SbKp",
        "outputId": "a23b3050-f176-4f5b-a7e2-cac17f139cc4"
      },
      "execution_count": null,
      "outputs": [
        {
          "output_type": "execute_result",
          "data": {
            "text/plain": [
              "666800"
            ]
          },
          "metadata": {},
          "execution_count": 4
        }
      ]
    },
    {
      "cell_type": "markdown",
      "source": [
        "**3.**  Agora defina $$g(x)=\\frac{f(x)}{2x},\\qquad x>0.$$"
      ],
      "metadata": {
        "id": "FebIGcpxSjNB"
      }
    },
    {
      "cell_type": "code",
      "source": [
        "def g(x):\n",
        " return f(x)/(2*x)"
      ],
      "metadata": {
        "id": "sP8qMkkWSsfB"
      },
      "execution_count": null,
      "outputs": []
    },
    {
      "cell_type": "markdown",
      "source": [
        "Obtemos"
      ],
      "metadata": {
        "id": "GLTFlxkQp7vf"
      }
    },
    {
      "cell_type": "code",
      "source": [
        "g(x0)"
      ],
      "metadata": {
        "colab": {
          "base_uri": "https://localhost:8080/"
        },
        "id": "-aOmpYkkS0lh",
        "outputId": "1c0df219-00e7-4adb-880b-702452b4a63d"
      },
      "execution_count": null,
      "outputs": [
        {
          "output_type": "execute_result",
          "data": {
            "text/plain": [
              "39.904248952722924"
            ]
          },
          "metadata": {},
          "execution_count": 6
        }
      ]
    },
    {
      "cell_type": "markdown",
      "source": [
        "que é aproximadamente 40.\n",
        "\n",
        "No vídeo, me parece que a ideia é tomar $d\\approx f(x_0)$ e $k\\approx g(x_0)$."
      ],
      "metadata": {
        "id": "U_aQwMH-Vnq4"
      }
    },
    {
      "cell_type": "markdown",
      "source": [
        "Uma aproximação para a raíz seria $$\\frac{f(x_0)-g(x_0)^2}{2g(x_0)}=h(x_0)=\\frac{a+3x_0^2}{4x_0}.$$\n",
        "\n",
        "<font color=blue> O que me diz que há cálculos desnecessários no vídeo, antes das observações sobre arredondamento."
      ],
      "metadata": {
        "id": "_NlR6B5mW9QQ"
      }
    },
    {
      "cell_type": "markdown",
      "source": [
        "**4.**  Mas isso me leva a definir $$h(x)=\\frac{f(x)-g(x)^2}{2g(x)}=\\frac{(x^2-a)-\\left(\\frac{x^2-a}{2x}\\right)^2}{2\\frac{x^2-a}{2x}}=\\frac{a+3x^2}{4x},\\qquad x>0.$$\n",
        "\n"
      ],
      "metadata": {
        "id": "Z-0ECYGVaNVf"
      }
    },
    {
      "cell_type": "code",
      "source": [
        "def h(x):\n",
        "  return (a+3*x**2)/(4*x)"
      ],
      "metadata": {
        "id": "gM9UnRlEX8EA"
      },
      "execution_count": null,
      "outputs": []
    },
    {
      "cell_type": "markdown",
      "source": [
        "E obtemos"
      ],
      "metadata": {
        "id": "ntHI24bwqqIt"
      }
    },
    {
      "cell_type": "code",
      "source": [
        "h(x0)"
      ],
      "metadata": {
        "colab": {
          "base_uri": "https://localhost:8080/"
        },
        "id": "-slN64z0W7q3",
        "outputId": "78e95b7a-752c-410a-bceb-459d96032413"
      },
      "execution_count": null,
      "outputs": [
        {
          "output_type": "execute_result",
          "data": {
            "text/plain": [
              "8335.047875523638"
            ]
          },
          "metadata": {},
          "execution_count": 8
        }
      ]
    },
    {
      "cell_type": "markdown",
      "source": [
        "<font color=blue> Aqui tem o pulo do gato, já que o Frederico sabe que $\\sqrt{a}$, do $a$ dele, é um número natural.\n",
        "\n",
        "Note que se arredondar $g(x_0)\\approx 40=k$ e tomar $d=f(x_0)$, você vai obter"
      ],
      "metadata": {
        "id": "zJizwHlE39xf"
      }
    },
    {
      "cell_type": "code",
      "source": [
        "(666800-40**2)/(2*40)"
      ],
      "metadata": {
        "colab": {
          "base_uri": "https://localhost:8080/"
        },
        "id": "qV364icc4FEi",
        "outputId": "555d0425-1dfb-4176-941f-a32b4a87386f"
      },
      "execution_count": null,
      "outputs": [
        {
          "output_type": "execute_result",
          "data": {
            "text/plain": [
              "8315.0"
            ]
          },
          "metadata": {},
          "execution_count": 9
        }
      ]
    },
    {
      "cell_type": "markdown",
      "source": [
        "No vídeo ele faz outro arredondamento (bem forçado, a meu ver) $$\\frac{f(x_0)}{2x_0}=\\frac{666800}{2\\times 8355}\\approx \\frac{667000}{2\\times 8000}$$"
      ],
      "metadata": {
        "id": "X666BSfS4zMa"
      }
    },
    {
      "cell_type": "code",
      "source": [
        "(667000/8000)/2"
      ],
      "metadata": {
        "colab": {
          "base_uri": "https://localhost:8080/"
        },
        "id": "IDeUfWIf64-E",
        "outputId": "f2b671ec-0c91-468a-f3c2-3fefa5a3a2ad"
      },
      "execution_count": null,
      "outputs": [
        {
          "output_type": "execute_result",
          "data": {
            "text/plain": [
              "41.6875"
            ]
          },
          "metadata": {},
          "execution_count": 10
        }
      ]
    },
    {
      "cell_type": "markdown",
      "source": [
        "Que ele arredonda para $40$."
      ],
      "metadata": {
        "id": "oyoNd44s7EoN"
      }
    },
    {
      "cell_type": "markdown",
      "source": [
        "É isso que ele usa para fazer a coisa $$\\frac{f(x_0)-g(x_0)^2}{2g(x_0)}\\approx 8315$$ <font color=red>\"funcionar magicamente\"."
      ],
      "metadata": {
        "id": "uF8xxLZU65cq"
      }
    },
    {
      "cell_type": "markdown",
      "source": [
        "**5. De modo geral eu entendi o seguinte:**\n",
        "\n",
        "Escolha um valor positivo $x_0$; o que quiser.\n",
        "\n",
        "Tome a relação de recorrência (ou sequência recursiva, como na BNCC) $$x_{n+1}=h(x_n)$$ e note que, se $x_n$ convergir para algum $p$, então $$p=h(p)=\\frac{a+3p^2}{4p}\\Longrightarrow 4p^2=3p^2+a\\Longrightarrow p^2=a\\Longrightarrow p=\\pm\\sqrt{a}.$$\n",
        "\n",
        "Você pode checar que $h(\\sqrt{a})=\\sqrt{a}$, ou seja, $\\sqrt{a}$ é [ponto fixo](https://pt.wikipedia.org/wiki/Ponto_fixo#:~:text=Teorema%20do%20ponto%20fixo%20de%20Kakutani%3A%20um%20teorema,de%20um%20espa%C3%A7o%20euclidiano%20tenha%20um%20ponto%20fixo.) de $h(x)$."
      ],
      "metadata": {
        "id": "_JdXQy2vcGbX"
      }
    },
    {
      "cell_type": "markdown",
      "source": [
        "<font color=blue> O que o Frederico faz é escolher $x_0$ próximo de $\\sqrt{a}$ e ir ajustando $x_n$ para o inteiro mais próximo, ajustando $g(x_{n-1})$ na verdade, em cada iteração. Isso acelera a convergência; com algum (acho que muito) treino, encontra a raiz logo no primeiro passo."
      ],
      "metadata": {
        "id": "sYFviAHwcsen"
      }
    },
    {
      "cell_type": "markdown",
      "source": [
        "Sem esse arredondamento, para $n=20$ e escolhendo $a=69139225$ e $x_0=8355$, como antes, temos:"
      ],
      "metadata": {
        "id": "YoSY02GIa-G6"
      }
    },
    {
      "cell_type": "code",
      "source": [
        "n=20\n",
        "\n",
        "xn=x0\n",
        "for i in range(0,n):\n",
        "  xn=h(xn)\n",
        "\n",
        "xn"
      ],
      "metadata": {
        "colab": {
          "base_uri": "https://localhost:8080/"
        },
        "id": "O5XtGkZdYKhw",
        "outputId": "42c94c5f-a8fd-4192-9263-785df19be832"
      },
      "execution_count": null,
      "outputs": [
        {
          "output_type": "execute_result",
          "data": {
            "text/plain": [
              "8315.000038330483"
            ]
          },
          "metadata": {},
          "execution_count": 11
        }
      ]
    },
    {
      "cell_type": "markdown",
      "source": [
        "Note que"
      ],
      "metadata": {
        "id": "srU0a67803Ji"
      }
    },
    {
      "cell_type": "code",
      "source": [
        "f(xn)"
      ],
      "metadata": {
        "colab": {
          "base_uri": "https://localhost:8080/"
        },
        "id": "pfZfrNaM04ku",
        "outputId": "74c09468-71cb-4266-ec3b-5c02c3fdfb2a"
      },
      "execution_count": null,
      "outputs": [
        {
          "output_type": "execute_result",
          "data": {
            "text/plain": [
              "0.6374359428882599"
            ]
          },
          "metadata": {},
          "execution_count": 12
        }
      ]
    },
    {
      "cell_type": "markdown",
      "source": [
        "O que sugere que $\\sqrt{a}=8315$."
      ],
      "metadata": {
        "id": "jRY1BGo42Qux"
      }
    },
    {
      "cell_type": "code",
      "source": [
        "f(8315)"
      ],
      "metadata": {
        "colab": {
          "base_uri": "https://localhost:8080/"
        },
        "id": "LgEo2uNq2Vek",
        "outputId": "3444a1a5-e350-4dc0-9153-dd1649c6cf36"
      },
      "execution_count": null,
      "outputs": [
        {
          "output_type": "execute_result",
          "data": {
            "text/plain": [
              "0"
            ]
          },
          "metadata": {},
          "execution_count": 13
        }
      ]
    },
    {
      "cell_type": "markdown",
      "source": [
        "Note que poderia escolher $x_0=1$, ou seja, se não for bom no chute inicial, ou não quiser brincar com aritmética. Mas vai precisar de $n$ maior:"
      ],
      "metadata": {
        "id": "s3ggF-6vdQtv"
      }
    },
    {
      "cell_type": "code",
      "source": [
        "n=50\n",
        "\n",
        "x=1                   # x0 escolhido\n",
        "for i in range(0,n):\n",
        "  x=h(x)\n",
        "\n",
        "x"
      ],
      "metadata": {
        "colab": {
          "base_uri": "https://localhost:8080/"
        },
        "id": "9ZvD139ydeBH",
        "outputId": "4328ea25-cf5f-4584-b75b-d977d3d43270"
      },
      "execution_count": null,
      "outputs": [
        {
          "output_type": "execute_result",
          "data": {
            "text/plain": [
              "8315.000756763982"
            ]
          },
          "metadata": {},
          "execution_count": 14
        }
      ]
    },
    {
      "cell_type": "markdown",
      "source": [
        "**E porque funciona?**\n",
        "\n",
        "Note ainda que $$h'(x)=\\frac{(3x^2+a)'4x-(4x)'(3x^2+a)}{(4x)^2}=\\frac{6x\\times 4x-4\\times (3x^2+a)}{16x^2}=\\frac{3}{4}-\\frac{a}{4x^2}.$$\n",
        "\n",
        "Assim, se $x^2\\approx a$ então $$0<h'(x)\\approx \\frac{2}{4}<3/4<1$$ e $x_n$ converge, porque\n",
        "$$x_{n+1}-\\sqrt{a}=h(x_{n})-h(\\sqrt{a})=h'(s_n)(x_{n}-\\sqrt{a}),$$ para algum $s_n$ entre $x_{n+1}$ e $\\sqrt{a}$ (Veja o [teorema do valor médio](https://pt.wikipedia.org/wiki/Teorema_do_valor_m%C3%A9dio)).\n",
        "\n",
        "Isso nos diz que\n",
        "$$|x_{n+1}-\\sqrt{a}|<\\frac{3}{4}|x_{n}-\\sqrt{a}|<\\left(\\frac{3}{4}\\right)^n|x_{1}-\\sqrt{a}|\\to 0,$$ bem rápido. <font color=green> E ainda corrige arredondamentos pequenos."
      ],
      "metadata": {
        "id": "E33lR5UeeWPC"
      }
    },
    {
      "cell_type": "markdown",
      "source": [
        "**E ainda poderia ter menos cálculos**\n",
        "\n",
        "Se em vez de escolher $h(x)$ o Frederico tivesse escolhido $$q(x)=\\frac{x^2+a}{2x}=x-\\frac{x^2-a}{2x}=x-g(x)=x-\\frac{f(x)}{f'(x)},\\qquad x>0,$$ ele teria o método de Newtom, por exemplo, que é bem mais rápido.\n",
        "\n",
        "Sobre isso [eu já escrevi algumas coisas](https://rmu.sbm.org.br/wp-content/uploads/sites/11/sites/11/2021/11/3-Quandos-os-metodos-de-Eules-e-Newton-coinciden.pdf) ...."
      ],
      "metadata": {
        "id": "ryU49m6lZfBA"
      }
    },
    {
      "cell_type": "markdown",
      "source": [
        "Por exemplo, escolhendo $a=69139225$ e $x_0=8355$, como antes:"
      ],
      "metadata": {
        "id": "KXPGVSeQyBPu"
      }
    },
    {
      "cell_type": "code",
      "source": [
        "def q(x):\n",
        "  return (x**2+a)/(2*x)"
      ],
      "metadata": {
        "id": "0P6iVqSiyHOP"
      },
      "execution_count": null,
      "outputs": []
    },
    {
      "cell_type": "markdown",
      "source": [
        "Temos"
      ],
      "metadata": {
        "id": "GZZTGhaPyQRx"
      }
    },
    {
      "cell_type": "code",
      "source": [
        "q(x0)"
      ],
      "metadata": {
        "colab": {
          "base_uri": "https://localhost:8080/"
        },
        "id": "tTp8_IEXyTta",
        "outputId": "4bb9ad56-c281-47f8-c438-56d9aa476c4e"
      },
      "execution_count": null,
      "outputs": [
        {
          "output_type": "execute_result",
          "data": {
            "text/plain": [
              "8315.095751047276"
            ]
          },
          "metadata": {},
          "execution_count": 16
        }
      ]
    },
    {
      "cell_type": "markdown",
      "source": [
        "<font color=green> Que já é uma aproximação muito boa, sem nenhuma mágica!"
      ],
      "metadata": {
        "id": "6Ts8siOV2sEn"
      }
    },
    {
      "cell_type": "markdown",
      "source": [
        "Mas, escolhendo $a=69139225$ e $x_0=1$ e $n=20$ vai ter uma ótima aproximação:"
      ],
      "metadata": {
        "id": "CC89NEum2-8s"
      }
    },
    {
      "cell_type": "code",
      "source": [
        "n=20\n",
        "\n",
        "x=1                   # x0 escolhido\n",
        "for i in range(0,n):\n",
        "  x=q(x)\n",
        "\n",
        "x"
      ],
      "metadata": {
        "colab": {
          "base_uri": "https://localhost:8080/"
        },
        "id": "07FS4vzm3Fwb",
        "outputId": "e742a64f-440a-4087-ad42-22b9cf557dd1"
      },
      "execution_count": null,
      "outputs": [
        {
          "output_type": "execute_result",
          "data": {
            "text/plain": [
              "8315.0"
            ]
          },
          "metadata": {},
          "execution_count": 17
        }
      ]
    },
    {
      "cell_type": "markdown",
      "source": [
        "**Para terminar**\n",
        "\n",
        "Sugiro que clike no link \"Open in Colab\" no topo da página, e troque os valores de $a$, $x_0$ e $n$ e brinque com os blocos de comando em Python (aperte Ctrl+Enter ou clique no play de cada bloco).\n",
        "\n",
        "E repito: Como mencionado nos vídeos é uma forma de lidar com vários conceitos de aritmética e também de gerar motivação para que professores e alunos criem e divulgem conhecimento.\n",
        "\n",
        "<font color=blue> E acrescento: Pode ser uma forma da trabalhar com relações de recorrência (ou sequência recursiva, como na BNCC).\n",
        "\n",
        "Gostei de pensar nisso: obrigado Douglas por me enviar o vídeo, e obrigado Frederico e Júlia.\n",
        "\n",
        "Termino minhas observações, por agora!"
      ],
      "metadata": {
        "id": "Qx4xHO3OvDnO"
      }
    },
    {
      "cell_type": "markdown",
      "source": [
        "**Mais uma divagação**"
      ],
      "metadata": {
        "id": "oPVrhHSGT8oZ"
      }
    },
    {
      "cell_type": "markdown",
      "source": [
        "Seja $$r(x)=\\frac{px^2+a}{(p+1)x},\\qquad x>0,$$ para algum $p>0$.\n",
        "\n",
        "Então $$r'(x)=\\frac{p}{p+1}-\\frac{a}{(p+1)x^2}\\approx \\frac{p-1}{p+1}<\\frac{p}{p+1}< 1,\\qquad x^2\\approx a.$$\n",
        "\n",
        "Então a relação de recorrência $$x_{n+1}=r(x_n),$$ para alguma escolha de $x_0$, com $x_0\\approx a$, converge para $\\sqrt{a}=r(\\sqrt{a})$.\n",
        "\n",
        "Como $|r'(x)|$ é menor, quando $x^2\\approx a$. Então, se $p=1$, temos  $r'(x)\\approx 0$, o que sugere que o método de Newton é a melhor escolha para resolver a equação $x^2-a=0$, por meio das relações de recorrência descritas neste texto."
      ],
      "metadata": {
        "id": "QqelDqHrUCq5"
      }
    }
  ]
}