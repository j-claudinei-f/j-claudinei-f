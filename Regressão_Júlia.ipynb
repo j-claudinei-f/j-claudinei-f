{
  "nbformat": 4,
  "nbformat_minor": 0,
  "metadata": {
    "colab": {
      "provenance": [],
      "authorship_tag": "ABX9TyOyD2An5PdOe3jUko5r+Krb",
      "include_colab_link": true
    },
    "kernelspec": {
      "name": "python3",
      "display_name": "Python 3"
    },
    "language_info": {
      "name": "python"
    }
  },
  "cells": [
    {
      "cell_type": "markdown",
      "metadata": {
        "id": "view-in-github",
        "colab_type": "text"
      },
      "source": [
        "<a href=\"https://colab.research.google.com/github/j-claudinei-f/j-claudinei-f/blob/main/Regress%C3%A3o_J%C3%BAlia.ipynb\" target=\"_parent\"><img src=\"https://colab.research.google.com/assets/colab-badge.svg\" alt=\"Open In Colab\"/></a>"
      ]
    },
    {
      "cell_type": "markdown",
      "source": [
        "#**Sobre a regressão de Júlia**\n",
        "\n",
        "José Claudinei Ferreira\n",
        "\n",
        "Universidade federal de alfenas"
      ],
      "metadata": {
        "id": "ogzQdf2eQrgC"
      }
    },
    {
      "cell_type": "markdown",
      "source": [
        "**Introdução**\n",
        "\n",
        "Tem circulado na internet alguns vídeos sobre um método de calcular raíz quadrada de um número natural $a$, por meio da fórmula $$\\sqrt{a}=\\frac{d-k^2}{2k},$$ em que precisamos determinar $d$ e $k$.\n",
        "\n",
        "Esse método foi nomeado de [regressão de Júlia](https://youtu.be/3UC2J_QrqMI?si=Nx9bCSyzJ_uGF6P-), porque parece que ideia começou da observação do professor Frederico, de como a sua aluna Julia lidou com um problema de cálculo de raíz quadrada.\n",
        "\n",
        "Como mencionado nos vídeos é uma forma de lidar com vários conceitos de aritmética e também de gerar motivação para que professores e alunos criem e divlugem conhecimento.\n",
        "\n",
        "Mas cabe observar que a parte do íneditismo, eu discordo!"
      ],
      "metadata": {
        "id": "a6LsBr8NNjEu"
      }
    },
    {
      "cell_type": "markdown",
      "source": [
        "**Da minha interpretação dos vídeos**\n",
        "\n",
        "Existe um artigo sobre o tema na [RPM 2023](https://www.rpm.org.br/), que descreve que o processo vem do produto notável $(x+1)^2=x^2+2x+1=x^2+x+x+1$."
      ],
      "metadata": {
        "id": "kGsCljgLQxhR"
      }
    },
    {
      "cell_type": "markdown",
      "source": [
        "Mas, da observação de [alguns vídeos](https://youtube.com/shorts/VrKue9y49IU?si=JEPtF2238yCdIhpi) entendi o seguinte:\n",
        "\n",
        "Dado um número real e positivo $a$, para calcular a raiz quadrada desse número, você pode seguir os itens a seguir:\n",
        "\n",
        "**1.** Primeiro defina $$f(x)=x^2-a,$$ que pode ser visto como uma forma de ver o quão longe está $x^2$ de $a$, ou o quão longe está $x$ de $\\sqrt{a}$.\n",
        "\n",
        "**2.**  Escolha um valor inicial $x_0$, como aproximação da suposta raíz quadrada de $a$, ou seja, $x_0\\approx p$.\n",
        "\n",
        "Calcule $f(x_0)=x_0^2-a$."
      ],
      "metadata": {
        "id": "xfqY_ZJ8RuzK"
      }
    },
    {
      "cell_type": "markdown",
      "source": [
        "Por exemplo, em um vídeo é escolhido $a=x0=69139225$ e $x_0=8355$:"
      ],
      "metadata": {
        "id": "goADwECuSHgB"
      }
    },
    {
      "cell_type": "code",
      "source": [
        "a,x0=69139225,8355  # Comandos para usar calculadora em linguagem Python.\n",
        "\n",
        "a,x0"
      ],
      "metadata": {
        "colab": {
          "base_uri": "https://localhost:8080/"
        },
        "id": "Bn4KNPM6SK_M",
        "outputId": "26bb60bd-4274-48ff-9344-9c73726ee534"
      },
      "execution_count": 74,
      "outputs": [
        {
          "output_type": "execute_result",
          "data": {
            "text/plain": [
              "(69139225, 8355)"
            ]
          },
          "metadata": {},
          "execution_count": 74
        }
      ]
    },
    {
      "cell_type": "markdown",
      "source": [
        "Definido $f(x)$"
      ],
      "metadata": {
        "id": "hNPserpgSYfE"
      }
    },
    {
      "cell_type": "code",
      "execution_count": 75,
      "metadata": {
        "id": "IlTOx2CPQqg-"
      },
      "outputs": [],
      "source": [
        "def f(x):\n",
        "  return x**2-a"
      ]
    },
    {
      "cell_type": "markdown",
      "source": [
        "Obtemos"
      ],
      "metadata": {
        "id": "4u0mWsa2LlGl"
      }
    },
    {
      "cell_type": "code",
      "source": [
        "f(x0)"
      ],
      "metadata": {
        "colab": {
          "base_uri": "https://localhost:8080/"
        },
        "id": "5JyOiHM-SbKp",
        "outputId": "c8a5c415-052d-43be-876d-71ba78a1206d"
      },
      "execution_count": 76,
      "outputs": [
        {
          "output_type": "execute_result",
          "data": {
            "text/plain": [
              "666800"
            ]
          },
          "metadata": {},
          "execution_count": 76
        }
      ]
    },
    {
      "cell_type": "markdown",
      "source": [
        "**3.**  Agora defina $$g(x)=\\frac{f(x)}{2x}:$$"
      ],
      "metadata": {
        "id": "FebIGcpxSjNB"
      }
    },
    {
      "cell_type": "code",
      "source": [
        "def g(x):\n",
        " return f(x)/(2*x)"
      ],
      "metadata": {
        "id": "sP8qMkkWSsfB"
      },
      "execution_count": 77,
      "outputs": []
    },
    {
      "cell_type": "code",
      "source": [
        "g(x0)"
      ],
      "metadata": {
        "colab": {
          "base_uri": "https://localhost:8080/"
        },
        "id": "-aOmpYkkS0lh",
        "outputId": "751fe80e-83f9-47f4-da42-877ecd3431df"
      },
      "execution_count": 78,
      "outputs": [
        {
          "output_type": "execute_result",
          "data": {
            "text/plain": [
              "39.904248952722924"
            ]
          },
          "metadata": {},
          "execution_count": 78
        }
      ]
    },
    {
      "cell_type": "markdown",
      "source": [
        "Aproximadamente 40.\n",
        "\n",
        "No vídeo, me parece que a ideia é tomar $d\\approx f(x_0)$ e $k\\approx g(x_0)$."
      ],
      "metadata": {
        "id": "U_aQwMH-Vnq4"
      }
    },
    {
      "cell_type": "markdown",
      "source": [
        "**4.**  Mas isso me leva a definir $$h(x)=\\frac{f(x)-g(x)^2}{2g(x)}=\\frac{(x^2-a)-\\left(\\frac{x^2-a}{2x}\\right)^2}{2\\frac{x^2-a}{2x}}=\\frac{a+3x^2}{4x}.$$\n",
        "\n",
        "<font color=blue> O que me diz que há cálculos desnecessários no vídeo."
      ],
      "metadata": {
        "id": "Z-0ECYGVaNVf"
      }
    },
    {
      "cell_type": "code",
      "source": [
        "def h(x):\n",
        "  return (a+3*x**2)/(4*x)"
      ],
      "metadata": {
        "id": "gM9UnRlEX8EA"
      },
      "execution_count": 79,
      "outputs": []
    },
    {
      "cell_type": "markdown",
      "source": [
        "Uma aproximação para a raíz seria $$\\frac{f(x_0)-g(x_0)^2}{2g(x_0)}=h(x_0)=\\frac{a+3x_0^2}{4x_0}.$$"
      ],
      "metadata": {
        "id": "_NlR6B5mW9QQ"
      }
    },
    {
      "cell_type": "code",
      "source": [
        "h(x0)"
      ],
      "metadata": {
        "colab": {
          "base_uri": "https://localhost:8080/"
        },
        "id": "-slN64z0W7q3",
        "outputId": "81413f6e-5ad8-4665-face-74a4e8f03856"
      },
      "execution_count": 80,
      "outputs": [
        {
          "output_type": "execute_result",
          "data": {
            "text/plain": [
              "8335.047875523638"
            ]
          },
          "metadata": {},
          "execution_count": 80
        }
      ]
    },
    {
      "cell_type": "markdown",
      "source": [
        "Note que se arredondar $g(x_0)\\approx 40$ vai ter"
      ],
      "metadata": {
        "id": "zJizwHlE39xf"
      }
    },
    {
      "cell_type": "code",
      "source": [
        "(666800-40^2)/(2*40)"
      ],
      "metadata": {
        "colab": {
          "base_uri": "https://localhost:8080/"
        },
        "id": "qV364icc4FEi",
        "outputId": "0eae1ccb-4289-4d34-dbe4-c299be202430"
      },
      "execution_count": 93,
      "outputs": [
        {
          "output_type": "execute_result",
          "data": {
            "text/plain": [
              "8334.525"
            ]
          },
          "metadata": {},
          "execution_count": 93
        }
      ]
    },
    {
      "cell_type": "markdown",
      "source": [
        "<font color=red> O que mostra um erro no vídeo."
      ],
      "metadata": {
        "id": "AoNkSFjD6tKa"
      }
    },
    {
      "cell_type": "markdown",
      "source": [
        "No vídeo ele faz outro arredondamento (bem forçado) $$\\frac{f(x_0)}{2x_0}=\\frac{666800}{2\\times 8355}\\approx \\frac{667000}{2\\times 8000}$$"
      ],
      "metadata": {
        "id": "X666BSfS4zMa"
      }
    },
    {
      "cell_type": "code",
      "source": [
        "(667000/8000)/2"
      ],
      "metadata": {
        "colab": {
          "base_uri": "https://localhost:8080/"
        },
        "id": "IDeUfWIf64-E",
        "outputId": "9b4fb24f-068b-482c-c2bf-e410189932dd"
      },
      "execution_count": 95,
      "outputs": [
        {
          "output_type": "execute_result",
          "data": {
            "text/plain": [
              "41.6875"
            ]
          },
          "metadata": {},
          "execution_count": 95
        }
      ]
    },
    {
      "cell_type": "markdown",
      "source": [
        "Que ele arredonda para $40$."
      ],
      "metadata": {
        "id": "oyoNd44s7EoN"
      }
    },
    {
      "cell_type": "markdown",
      "source": [
        "É isso que ele usa para fazer a coisa $$\\frac{f(x_0)-g(x_0)^2}{2g(x_0)}\\approx 8315$$ <font color=red>\"funcionar mágicamente\"."
      ],
      "metadata": {
        "id": "uF8xxLZU65cq"
      }
    },
    {
      "cell_type": "markdown",
      "source": [
        "**A menos de erros : De modo geral eu entendi o seguinte:**\n",
        "\n",
        "Escolha  um valor positivo $x_0$; o que quiser.\n",
        "\n",
        "Tome a relação de recorrência $$x_{n+1}=h(x_n)$$ e note que, se $x_n$ convergir para algum $p$, então $$p=h(p)=\\frac{a+3p^2}{4p}\\Longrightarrow 4p^2=3p^2+a\\Longrightarrow p^2=a.$$\n",
        "\n",
        "Você pode checar que $h(\\sqrt{a})=\\sqrt{a}$, ou seja, $\\sqrt{a}$ é [ponto fixo](https://pt.wikipedia.org/wiki/Ponto_fixo#:~:text=Teorema%20do%20ponto%20fixo%20de%20Kakutani%3A%20um%20teorema,de%20um%20espa%C3%A7o%20euclidiano%20tenha%20um%20ponto%20fixo.) de $h(x)$."
      ],
      "metadata": {
        "id": "_JdXQy2vcGbX"
      }
    },
    {
      "cell_type": "markdown",
      "source": [
        "<font color=blue> O que o Frederico Ferreira faz é escolher $x_0$ próximo de $\\sqrt{a}$ e ir ajustando $x_n$ para o inteiro mais próximo, em cada iteração. Isso acelera a convergência; com algum (acho que muito) treino, encontra a raiz logo no primeiro passo."
      ],
      "metadata": {
        "id": "sYFviAHwcsen"
      }
    },
    {
      "cell_type": "markdown",
      "source": [
        "Sem esse arredondamento, para $n=20$ e escolhendo $a=x0=69139225$ e $x_0=8355$, como antes, temos:"
      ],
      "metadata": {
        "id": "YoSY02GIa-G6"
      }
    },
    {
      "cell_type": "code",
      "source": [
        "n=20\n",
        "\n",
        "xn=x0\n",
        "for i in range(0,n):\n",
        "  xn=h(xn)\n",
        "\n",
        "xn"
      ],
      "metadata": {
        "colab": {
          "base_uri": "https://localhost:8080/"
        },
        "id": "O5XtGkZdYKhw",
        "outputId": "8b8a1b25-d480-4b4a-9461-ccfd5b543294"
      },
      "execution_count": 81,
      "outputs": [
        {
          "output_type": "execute_result",
          "data": {
            "text/plain": [
              "8315.000038330483"
            ]
          },
          "metadata": {},
          "execution_count": 81
        }
      ]
    },
    {
      "cell_type": "markdown",
      "source": [
        "Note que"
      ],
      "metadata": {
        "id": "srU0a67803Ji"
      }
    },
    {
      "cell_type": "code",
      "source": [
        "f(xn)"
      ],
      "metadata": {
        "colab": {
          "base_uri": "https://localhost:8080/"
        },
        "id": "pfZfrNaM04ku",
        "outputId": "0731021d-4586-4f81-d502-bcc548ddea10"
      },
      "execution_count": 82,
      "outputs": [
        {
          "output_type": "execute_result",
          "data": {
            "text/plain": [
              "0.6374359428882599"
            ]
          },
          "metadata": {},
          "execution_count": 82
        }
      ]
    },
    {
      "cell_type": "markdown",
      "source": [
        "O que sugere que $\\sqrt{a}=8315$."
      ],
      "metadata": {
        "id": "jRY1BGo42Qux"
      }
    },
    {
      "cell_type": "code",
      "source": [
        "f(8315)"
      ],
      "metadata": {
        "colab": {
          "base_uri": "https://localhost:8080/"
        },
        "id": "LgEo2uNq2Vek",
        "outputId": "d2a22746-de20-4738-fd15-fd89ba940062"
      },
      "execution_count": 83,
      "outputs": [
        {
          "output_type": "execute_result",
          "data": {
            "text/plain": [
              "0"
            ]
          },
          "metadata": {},
          "execution_count": 83
        }
      ]
    },
    {
      "cell_type": "markdown",
      "source": [
        "Note que poderia escolher $x_0=1$, ou seja, se não for bom no chute inicial, ou não quiser brincar com aritmética. Ma vai precisar de $n$ maior:"
      ],
      "metadata": {
        "id": "s3ggF-6vdQtv"
      }
    },
    {
      "cell_type": "code",
      "source": [
        "n=50\n",
        "\n",
        "x=1                   # x0 escolhido\n",
        "for i in range(0,n):\n",
        "  x=h(x)\n",
        "\n",
        "x"
      ],
      "metadata": {
        "colab": {
          "base_uri": "https://localhost:8080/"
        },
        "id": "9ZvD139ydeBH",
        "outputId": "02a3671c-935c-495f-91f0-3e39edd68914"
      },
      "execution_count": 84,
      "outputs": [
        {
          "output_type": "execute_result",
          "data": {
            "text/plain": [
              "8315.000756763982"
            ]
          },
          "metadata": {},
          "execution_count": 84
        }
      ]
    },
    {
      "cell_type": "markdown",
      "source": [
        "**E porque funciona?**\n",
        "\n",
        "Note ainda que $$h'(x)=\\frac{(3x^2+a)'4x-(4x)'(3x^2+a)}{(4x)^2}=\\frac{6x\\times 4x-4\\times (3x^2+a)}{16x^2}=\\frac{3}{4}-\\frac{a}{4x^2}.$$\n",
        "\n",
        "Assim, se $x^2\\approx a$ então $$0<g'(x)<L=3/4<1$$ e $x_n$ converge, porque\n",
        "$$x_{n+1}-\\sqrt{a}=h(x_{n+j})-h(\\sqrt{a})=h'(s_n)(x_{n+j}-\\sqrt{a}),$$ para algum $s_n$ entre $x_{n+1}$ e $\\sqrt{a}$. (Veja o [teorema do valor médio](https://pt.wikipedia.org/wiki/Teorema_do_valor_m%C3%A9dio).)\n",
        "\n",
        "Isso nos diz que\n",
        "$$|x_{n+1}-\\sqrt{a}|<L|x_{n}-\\sqrt{a}|<\\left(\\frac{3}{4}\\right)^n|x_{1}-\\sqrt{a}|\\to 0,$$ bem rápido."
      ],
      "metadata": {
        "id": "E33lR5UeeWPC"
      }
    },
    {
      "cell_type": "markdown",
      "source": [
        "**E ainda poderia ter menos cálculos**\n",
        "\n",
        "Se em vez de escolher $h(x)$ o Frederico tivesse escolhido $$q(x)=\\frac{x^2+a}{2x}=x-\\frac{x^2-a}{2x}=x-g(x)=x-\\frac{f(x)}{f'(x)},$$ ele teria o método de Newtom, por exemplo, que é bem mais rápido.\n",
        "\n",
        "Sobre isso [eu já escrivi algumas coisas](https://rmu.sbm.org.br/wp-content/uploads/sites/11/sites/11/2021/11/3-Quandos-os-metodos-de-Eules-e-Newton-coinciden.pdf) ...."
      ],
      "metadata": {
        "id": "ryU49m6lZfBA"
      }
    },
    {
      "cell_type": "markdown",
      "source": [
        "Por exemplo, escolhendo $a=x0=69139255$ e $x_0=8322$, como antes:"
      ],
      "metadata": {
        "id": "KXPGVSeQyBPu"
      }
    },
    {
      "cell_type": "code",
      "source": [
        "def q(x):\n",
        "  return (x**2+a)/(2*x)"
      ],
      "metadata": {
        "id": "0P6iVqSiyHOP"
      },
      "execution_count": 85,
      "outputs": []
    },
    {
      "cell_type": "markdown",
      "source": [
        "Temos"
      ],
      "metadata": {
        "id": "GZZTGhaPyQRx"
      }
    },
    {
      "cell_type": "code",
      "source": [
        "q(x0)"
      ],
      "metadata": {
        "colab": {
          "base_uri": "https://localhost:8080/"
        },
        "id": "tTp8_IEXyTta",
        "outputId": "576ae7cd-6fdb-47cc-b239-2ca11972f166"
      },
      "execution_count": 86,
      "outputs": [
        {
          "output_type": "execute_result",
          "data": {
            "text/plain": [
              "8315.095751047276"
            ]
          },
          "metadata": {},
          "execution_count": 86
        }
      ]
    },
    {
      "cell_type": "markdown",
      "source": [
        "<font color=green> Que já é uma aproximação muito boa, sem nenhuma mágica!"
      ],
      "metadata": {
        "id": "6Ts8siOV2sEn"
      }
    },
    {
      "cell_type": "markdown",
      "source": [
        "Mas, escolhendo $a=x0=69139255$ e $x_0=1$ e $n=20$ vai ter uma ótima aproximação:"
      ],
      "metadata": {
        "id": "CC89NEum2-8s"
      }
    },
    {
      "cell_type": "code",
      "source": [
        "n=20\n",
        "\n",
        "x=1                   # x0 escolhido\n",
        "for i in range(0,n):\n",
        "  x=q(x)\n",
        "\n",
        "x"
      ],
      "metadata": {
        "colab": {
          "base_uri": "https://localhost:8080/"
        },
        "id": "07FS4vzm3Fwb",
        "outputId": "f5284cac-8768-4e9b-a77d-aba3dbc0c528"
      },
      "execution_count": 87,
      "outputs": [
        {
          "output_type": "execute_result",
          "data": {
            "text/plain": [
              "8315.0"
            ]
          },
          "metadata": {},
          "execution_count": 87
        }
      ]
    }
  ]
}