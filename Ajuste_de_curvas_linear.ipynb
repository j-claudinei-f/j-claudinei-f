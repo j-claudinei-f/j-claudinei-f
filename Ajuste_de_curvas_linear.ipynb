{
  "cells": [
    {
      "cell_type": "markdown",
      "metadata": {
        "id": "view-in-github",
        "colab_type": "text"
      },
      "source": [
        "<a href=\"https://colab.research.google.com/github/j-claudinei-f/j-claudinei-f/blob/main/Ajuste_de_curvas_linear.ipynb\" target=\"_parent\"><img src=\"https://colab.research.google.com/assets/colab-badge.svg\" alt=\"Open In Colab\"/></a>"
      ]
    },
    {
      "cell_type": "markdown",
      "source": [
        "#**Cálculo Numérico:**\n",
        "\n",
        "**Ajuste de curvas: caso linear**\n",
        "\n",
        "\n",
        " *José Claudinei Ferrreira*\n",
        "\n",
        " *Universidade Federal de Alfenas (UNIFAL-MG)*"
      ],
      "metadata": {
        "id": "BomfPwWbyrEh"
      }
    },
    {
      "cell_type": "markdown",
      "source": [
        "## **Resolvendo problemas de ajuste de curvas**\n",
        "\n",
        "Vamos usar o argumento de minimização para resolver problemas de [ajuste de curvas](https://pt.wikipedia.org/wiki/Ajuste_de_curvas), ou [de superfícies](https://www.cs.jhu.edu/~misha/Fall05/10.23.05.pdf), da forma\n",
        "$$y_i\\approx f(x_i),$$ em que $x=(x_1,\\,x_2,\\,\\ldots,\\,x_n)$ e $y=(y_1,\\,y_2,\\,\\ldots,\\,y_n)$ são dados advindos de algum problema. A função $f(s)$ não é conhecida, mas supomos que está em alguma classe fixada."
      ],
      "metadata": {
        "id": "UEJI43A2ApdA"
      }
    },
    {
      "cell_type": "markdown",
      "source": [
        "**O caso mais simples: Resolvendo um sistema linear:**\n",
        "\n",
        "No caso mais simples de ajuste da forma\n",
        "$$y_i\\approx f(x_i),$$ em que $x=(x_1,\\,x_2,\\,\\ldots,\\,x_n)$ e $y=(y_1,\\,y_2,\\,\\ldots,\\,y_n)$ são dados advindos de algum problema, em que supomos que $$f(s)=\\sum_{j=1}^p\\alpha_jf_j(s),$$ com cada $f_j(s)$ conhecida, obtemos um problema linear, da forma\n",
        "$$y_i\\approx f(x_i)\\Longrightarrow \\begin{cases}y_1&\\approx& \\sum_{j=1}^p\\alpha_jf_j(x_1)\\\\\\\\y_2&\\approx& \\sum_{j=1}^p\\alpha_jf_j(x_2)\\\\\\vdots&\\vdots&\\\\y_n&\\approx& \\sum_{j=1}^p\\alpha_jf_j(x_n)\\end{cases} \\Longrightarrow \\begin{bmatrix}f_1(x_1)&f_2(x_1)&\\cdots&f_p(x_1)\\\\\\\\\n",
        "f_1(x_2)&f_2(x_2)&\\cdots&f_p(x_2)\\\\\n",
        "\\vdots&\\vdots&\\ddots&\\vdots\\\\\n",
        "f_1(x_n)&f_2(x_n)&\\cdots&f_p(x_n)\\end{bmatrix}\\begin{bmatrix}\\alpha_1\\\\\\\\\\alpha_2\\\\\\vdots\\\\\\alpha_p\\end{bmatrix}\\approx\\begin{bmatrix}y_1\\\\\\\\y_2\\\\\\vdots\\\\y_n\\end{bmatrix},$$ que é um [sistema linear, que pode ser possível e determinado, possível e indeterminado ou impossível](https://pt.wikipedia.org/wiki/Sistema_de_equa%C3%A7%C3%B5es_lineares).\n",
        "\n"
      ],
      "metadata": {
        "id": "nRTv84GmCG9R"
      }
    },
    {
      "cell_type": "markdown",
      "source": [
        "**Interpolação:** Quando as expressões acima forem de igualdade, em vez de aproximação, teremos um problema de [ajuste de curvas por interpolação](https://pt.wikipedia.org/wiki/Interpola%C3%A7%C3%A3o_polinomial)."
      ],
      "metadata": {
        "id": "TNgVtNWtLerj"
      }
    },
    {
      "cell_type": "markdown",
      "source": [
        "#**Mínimos quadrados**\n",
        "\n",
        "Quando este sistema for impossível, vamos definir a função auxiliar $$F(u)=\\begin{bmatrix}f_1(x_1)&f_2(x_1)&\\cdots&f_p(x_1)\\\\\\\\\n",
        "f_1(x_2)&f_2(x_2)&\\cdots&f_p(x_2)\\\\\n",
        "\\vdots&\\vdots&\\ddots&\\vdots\\\\\n",
        "f_1(x_n)&f_2(x_n)&\\cdots&f_p(x_n)\\end{bmatrix}\\begin{bmatrix}\\alpha_1\\\\\\\\\\alpha_2\\\\\\vdots\\\\\\alpha_p\\end{bmatrix}-\\begin{bmatrix}y_1\\\\\\\\y_2\\\\\\vdots\\\\y_n\\end{bmatrix},$$ para $u=(\\alpha_1,\\alpha_2,\\ldots,\\alpha_p)$.\n",
        "\n",
        "Depois definimos a função $$g(u)=\\frac{1}{2}\\|F(u)\\|^2.$$ Minimizamos essa função para encontrarmos $\\alpha $ que produz a melhor aproximação para $y_i\\approx f(x_i)$, nesse sentido, que chamamos de processo dos quadrados mínimos."
      ],
      "metadata": {
        "id": "DH9yS4Eu8hqR"
      }
    },
    {
      "cell_type": "markdown",
      "source": [
        "**Obs:** Note que $$F(u)=Au -y,$$ na forma matricial.\n",
        "\n",
        "Então, no ponto de mínimo de $g(u)$ deve ocorrer a igualdade $$\\nabla g(u)=[Jf(u)]^tF(u)=A^tF(u)=A^t(Au-y)=0,$$ já que  $Jf(u)=A$. Isso nos diz que o sistema alinear $$Nu=v,\\qquad N=A^tA, v=A^ty,$$ sempre tem solução. Esse sistema é chamado de [sistema normal](https://pt.wikipedia.org/wiki/Matriz_normal)."
      ],
      "metadata": {
        "id": "OW0J6wJW-yGM"
      }
    },
    {
      "cell_type": "markdown",
      "source": [
        "#**Exemplo 1**\n",
        "\n",
        "Cosidere $x=(1.3,\t3.4,\t5.1,\t6.8,\t8.0)$ e $\n",
        "f(x)\\approx y=(\t2.0,\t3.2,\t3.8,\t4.7,\t5.8)$.\n",
        "A partir dos dados disponíveis, pode-se desejar saber uma estimativa do valor da função  $f(s)$ em $s= 9$."
      ],
      "metadata": {
        "id": "bArPKCcy3Af4"
      }
    },
    {
      "cell_type": "markdown",
      "source": [
        "Vejamos isso gráficamante:"
      ],
      "metadata": {
        "id": "lol-GqxK3sGx"
      }
    },
    {
      "cell_type": "code",
      "source": [
        "x=[1.3,\t3.4,\t5.1,\t6.8,\t8.0]\n",
        "y=[2.0,\t3.2,\t3.8,\t4.7,\t5.8]\n",
        "\n",
        "import matplotlib.pyplot as plt\n",
        "\n",
        "plt.plot(x,y,'o')\n",
        "plt.show()"
      ],
      "metadata": {
        "colab": {
          "base_uri": "https://localhost:8080/",
          "height": 430
        },
        "id": "jwGHqciA3yAg",
        "outputId": "b6031051-ae30-4c2a-e7b0-3c1b58f5a012"
      },
      "execution_count": null,
      "outputs": [
        {
          "output_type": "display_data",
          "data": {
            "text/plain": [
              "<Figure size 640x480 with 1 Axes>"
            ],
            "image/png": "[encoded data removed]"
          },
          "metadata": {}
        }
      ]
    },
    {
      "cell_type": "markdown",
      "source": [
        "A forma do gráfico sugere que $$f(s)\\approx as+b.$$ Isso e os dados da tabela produzem a expressão\n",
        "$$ \\begin{bmatrix}f_1(x_1)&f_2(x_1)\\\\\\\\\n",
        "f_1(x_2)&f_2(x_2)\\\\\n",
        "\\vdots&\\vdots\\\\\n",
        "f_1(x_n)&f_2(x_n)\\end{bmatrix}\\begin{bmatrix}a\\\\\\\\b\\end{bmatrix}\\approx\\begin{bmatrix}y_1\\\\\\\\y_2\\\\\\vdots\\\\y_n\\end{bmatrix},$$ em que $f_1(s)=s$ e $f_2(s)=1$, o que equivale ao sistema linear\n",
        "$$ \\begin{bmatrix}1.3&1\\\\\\\\3.4&1\\\\\\\\5.1&1\\\\\\\\6.8&1\\\\\\\\8.0&1\\end{bmatrix}\\begin{bmatrix}a\\\\\\\\b\\end{bmatrix}\\approx\\begin{bmatrix}2.0\\\\\\\\ 3.2\\\\\\\\ 3.8\\\\\\\\ 4.7\\\\\\\\5.8\\end{bmatrix},$$"
      ],
      "metadata": {
        "id": "LL9_DkcS47bK"
      }
    },
    {
      "cell_type": "markdown",
      "source": [
        "Podemos verificar rápidamente (algebricamente ou pelo gráfico anterior) que este sistema linera não tem solução."
      ],
      "metadata": {
        "id": "2C5g_z4k74mx"
      }
    },
    {
      "cell_type": "markdown",
      "source": [
        "Definimos então a função $F(u)$ e $g(u)$ em Python:"
      ],
      "metadata": {
        "id": "4Umc9rhU8Nd9"
      }
    },
    {
      "cell_type": "code",
      "source": [
        "import numpy as np\n",
        "\n",
        "A=[x,[1,1,1,1,1]]\n",
        "y=np.array(y)\n",
        "y=np.transpose(y)\n",
        "\n",
        "A=np.array(A)\n",
        "A=np.transpose(A)\n",
        "\n",
        "def F(u):\n",
        "  u=np.array(u)\n",
        "  u=np.transpose(u)\n",
        "  return A@u-y\n",
        "\n",
        "def g(u):\n",
        "  return (np.linalg.norm(F(u))**2/2)"
      ],
      "metadata": {
        "id": "5RNzFg7a6JsF"
      },
      "execution_count": null,
      "outputs": []
    },
    {
      "cell_type": "markdown",
      "source": [
        "Teste"
      ],
      "metadata": {
        "id": "57tSb4uvBwUr"
      }
    },
    {
      "cell_type": "code",
      "source": [
        "F([1,1])"
      ],
      "metadata": {
        "colab": {
          "base_uri": "https://localhost:8080/"
        },
        "id": "ZYjHwZzG_uF5",
        "outputId": "5fe57efc-6377-4fea-852c-9f7c5ed8f004"
      },
      "execution_count": null,
      "outputs": [
        {
          "output_type": "execute_result",
          "data": {
            "text/plain": [
              "array([0.3, 1.2, 2.3, 3.1, 3.2])"
            ]
          },
          "metadata": {},
          "execution_count": 3
        }
      ]
    },
    {
      "cell_type": "markdown",
      "source": [
        "e teste"
      ],
      "metadata": {
        "id": "q0RTAuYPBzza"
      }
    },
    {
      "cell_type": "code",
      "source": [
        "g([1,1])"
      ],
      "metadata": {
        "colab": {
          "base_uri": "https://localhost:8080/"
        },
        "id": "eyJ-dB-jB1U9",
        "outputId": "550a61db-bf4d-4622-e925-55ecc7a2f361"
      },
      "execution_count": null,
      "outputs": [
        {
          "output_type": "execute_result",
          "data": {
            "text/plain": [
              "13.334999999999999"
            ]
          },
          "metadata": {},
          "execution_count": 4
        }
      ]
    },
    {
      "cell_type": "markdown",
      "source": [
        "Segue que o sistema $Nu=v$, normal associado ao problema é\n",
        "\n",
        "$$\\begin{bmatrix}149.5& 24.6\\\\ 24.6&  5.0\\end{bmatrix}\\begin{bmatrix}a\\\\b\\end{bmatrix}=\\begin{bmatrix}111.22\\\\  19.5 \\end{bmatrix}$$"
      ],
      "metadata": {
        "id": "zNGZmTTCCoT7"
      }
    },
    {
      "cell_type": "code",
      "source": [
        "N=np.transpose(A)@A\n",
        "v=np.transpose(A)@y\n",
        "\n",
        "print('N=',N,'\\n v=',v)"
      ],
      "metadata": {
        "colab": {
          "base_uri": "https://localhost:8080/"
        },
        "id": "OEt1U7rSCsMH",
        "outputId": "fbdf5afe-fe21-47b0-821e-23c59241e7ba"
      },
      "execution_count": null,
      "outputs": [
        {
          "output_type": "stream",
          "name": "stdout",
          "text": [
            "N= [[149.5  24.6]\n",
            " [ 24.6   5. ]] \n",
            " v= [111.22  19.5 ]\n"
          ]
        }
      ]
    },
    {
      "cell_type": "markdown",
      "source": [
        "Podemos resolver este sistema por eliminação de Gauss, como segue.\n",
        "\n",
        "Antes, acrescentamos o vetor $v$ como últim acoluna de $N$:"
      ],
      "metadata": {
        "id": "yhXHJceeDNc2"
      }
    },
    {
      "cell_type": "code",
      "source": [
        "N=np.transpose(N).tolist()\n",
        "N.append(v)\n",
        "N=np.array(N)\n",
        "N=np.transpose(N)\n",
        "print('Matriz ampliada N\\n',N)\n",
        "\n",
        "N[1]=N[1]-(N[1][0]/N[0][0])*N[0]\n",
        "\n",
        "print('Matriz ampliada N e escalonada\\n',N)"
      ],
      "metadata": {
        "colab": {
          "base_uri": "https://localhost:8080/"
        },
        "id": "2sUaksCaD4UT",
        "outputId": "36a9422f-8a35-409e-c1e1-5f418ab69f52"
      },
      "execution_count": null,
      "outputs": [
        {
          "output_type": "stream",
          "name": "stdout",
          "text": [
            "Matriz ampliada N\n",
            " [[149.5   24.6  111.22]\n",
            " [ 24.6    5.    19.5 ]]\n",
            "Matriz ampliada N e escalonada\n",
            " [[1.49500000e+02 2.46000000e+01 1.11220000e+02]\n",
            " [3.55271368e-15 9.52107023e-01 1.19891639e+00]]\n"
          ]
        }
      ]
    },
    {
      "cell_type": "markdown",
      "source": [
        "Temos então $u=(a,b)$ como segue:"
      ],
      "metadata": {
        "id": "0_Fg9EMVItgL"
      }
    },
    {
      "cell_type": "code",
      "source": [
        "b=N[1][2]/N[1][1]\n",
        "a=(N[0][2]-N[0][1]*b)/N[0][0]\n",
        "a,b"
      ],
      "metadata": {
        "colab": {
          "base_uri": "https://localhost:8080/"
        },
        "id": "LD8Ee0leFT9i",
        "outputId": "d6d1cc7c-72b2-45c6-e29b-c6c61d539cf9"
      },
      "execution_count": null,
      "outputs": [
        {
          "output_type": "execute_result",
          "data": {
            "text/plain": [
              "(0.5367430096950964, 1.2592243923001258)"
            ]
          },
          "metadata": {},
          "execution_count": 7
        }
      ]
    },
    {
      "cell_type": "markdown",
      "source": [
        "Para testar o ajuste, definimos $f(s)$ e construímos gráficos:"
      ],
      "metadata": {
        "id": "-ZuQtvzsJPnT"
      }
    },
    {
      "cell_type": "code",
      "source": [
        "def f(s):\n",
        "  return a*s+b\n",
        "\n",
        "s=np.linspace(1,10,100)\n",
        "\n",
        "plt.plot(s,f(s),label='f(s)')\n",
        "plt.plot(x,y,'o')\n",
        "plt.plot([9],[f(9)],'*',label='f(9)')\n",
        "plt.legend()\n",
        "plt.show()"
      ],
      "metadata": {
        "colab": {
          "base_uri": "https://localhost:8080/",
          "height": 430
        },
        "id": "qJLtbVAhJXel",
        "outputId": "2681f51d-4aa7-484c-e75e-2371a4dfe3e4"
      },
      "execution_count": null,
      "outputs": [
        {
          "output_type": "display_data",
          "data": {
            "text/plain": [
              "<Figure size 640x480 with 1 Axes>"
            ],
            "image/png": "[encoded data removed]"
          },
          "metadata": {}
        }
      ]
    },
    {
      "cell_type": "markdown",
      "source": [
        "Um estimativa para $f(9)$ é"
      ],
      "metadata": {
        "id": "IeE2cRcOJ6ow"
      }
    },
    {
      "cell_type": "code",
      "source": [
        "f(9)"
      ],
      "metadata": {
        "colab": {
          "base_uri": "https://localhost:8080/"
        },
        "id": "oNlv1KTIJ-lP",
        "outputId": "cdc3238b-7365-4940-8c93-b0a48cf43818"
      },
      "execution_count": null,
      "outputs": [
        {
          "output_type": "execute_result",
          "data": {
            "text/plain": [
              "6.089911479555994"
            ]
          },
          "metadata": {},
          "execution_count": 9
        }
      ]
    },
    {
      "cell_type": "markdown",
      "source": [
        "O módulo ao quadrado do vetor erro $y-f(x)$ é $g(u=(a,b,c))$:"
      ],
      "metadata": {
        "id": "RDCarOfpNuoz"
      }
    },
    {
      "cell_type": "code",
      "source": [
        "g([a,b])"
      ],
      "metadata": {
        "id": "WV8T9wHoNvkO",
        "outputId": "f10f3265-ca41-4ade-fb95-2fbc1a5dd35b",
        "colab": {
          "base_uri": "https://localhost:8080/"
        }
      },
      "execution_count": null,
      "outputs": [
        {
          "output_type": "execute_result",
          "data": {
            "text/plain": [
              "0.0792834059294647"
            ]
          },
          "metadata": {},
          "execution_count": 10
        }
      ]
    },
    {
      "cell_type": "markdown",
      "source": [
        "#**Exemplo 2**\n",
        "\n",
        "Cosidere $x=(1.3,\t3.4,\t5.1,\t6.8,\t8.0)$ e $\n",
        "f(x)\\approx y=(\t2.0,\t3.2,\t3.8,\t4.7,\t5.8)$.\n",
        "A partir dos dados disponíveis, pode-se desejar saber uma estimativa do valor da função  $f(s)$ em $s= 9$."
      ],
      "metadata": {
        "id": "5GXDIE0mC_LV"
      }
    },
    {
      "cell_type": "markdown",
      "source": [
        "Vejamos isso gráficamante:"
      ],
      "metadata": {
        "id": "an_xH7BlC_LV"
      }
    },
    {
      "cell_type": "code",
      "source": [
        "import numpy as np\n",
        "x=[1.3,\t3.4,\t5.1,\t6.8,\t8.0]\n",
        "x=np.array(x)\n",
        "y=[2.0,\t3.2,\t3.8,\t4.7,\t5.8]\n",
        "\n",
        "import matplotlib.pyplot as plt\n",
        "\n",
        "plt.plot(x,y,'o')\n",
        "plt.show()"
      ],
      "metadata": {
        "colab": {
          "base_uri": "https://localhost:8080/",
          "height": 430
        },
        "outputId": "61c66e33-93f0-4751-e7bf-2b9dadd71a46",
        "id": "8FXYUh3wC_LV"
      },
      "execution_count": null,
      "outputs": [
        {
          "output_type": "display_data",
          "data": {
            "text/plain": [
              "<Figure size 640x480 with 1 Axes>"
            ],
            "image/png": "[encoded data removed]"
          },
          "metadata": {}
        }
      ]
    },
    {
      "cell_type": "markdown",
      "source": [
        "A forma do gráfico sugere que $$f(s)\\approx as^2+bs+c.$$ Isso e os dados da tabela produzem a expressão\n",
        "$$ \\begin{bmatrix}f_1(x_1)&f_2(x_1)&f_3(x_1)\\\\\\\\\n",
        "f_1(x_2)&f_2(x_2)&f_3(x_2)\\\\\n",
        "\\vdots&\\vdots\\\\\n",
        "f_1(x_n)&f_2(x_n)&f_3(x_n)\\end{bmatrix}\\begin{bmatrix}a\\\\\\\\b\\\\\\\\c\\end{bmatrix}\\approx\\begin{bmatrix}y_1\\\\\\\\y_2\\\\\\vdots\\\\y_n\\end{bmatrix},$$ em que $f_1(s)=s^2$, $f_2(s)=s$ e $f_3(s)=1$, o que equivale ao sistema linear\n",
        "$$ \\begin{bmatrix}1.3^2&1.3&1\\\\\\\\3.4^2&3.4&1\\\\\\\\5.1^2&5.1&1\\\\\\\\6.8^2&6.8&1\\\\\\\\8.0^2&8.0&1\\end{bmatrix}\\begin{bmatrix}a\\\\\\\\b\\\\\\\\c\\end{bmatrix}\\approx\\begin{bmatrix}2.0\\\\\\\\ 3.2\\\\\\\\ 3.8\\\\\\\\ 4.7\\\\\\\\5.8\\end{bmatrix},$$"
      ],
      "metadata": {
        "id": "2j5nRpvcC_LW"
      }
    },
    {
      "cell_type": "markdown",
      "source": [
        "Podemos verificar rápidamente (algebricamente ou pelo gráfico anterior) que este sistema linera não tem solução."
      ],
      "metadata": {
        "id": "rKa995c_C_LW"
      }
    },
    {
      "cell_type": "markdown",
      "source": [
        "Definimos então a função $F(u)$ e $g(u)$ em Python:"
      ],
      "metadata": {
        "id": "xo2p-U70C_LW"
      }
    },
    {
      "cell_type": "code",
      "source": [
        "A=[x**2,x,[1,1,1,1,1]]\n",
        "y=np.array(y)\n",
        "y=np.transpose(y)\n",
        "\n",
        "import numpy as np\n",
        "\n",
        "A=np.array(A)\n",
        "A=np.transpose(A)\n",
        "\n",
        "def F(u):\n",
        "  u=np.array(u)\n",
        "  u=np.transpose(u)\n",
        "  return A@u-y\n",
        "\n",
        "def g(u):\n",
        "  return (np.linalg.norm(F(u))**2/2)"
      ],
      "metadata": {
        "id": "a90TiHjwC_LW"
      },
      "execution_count": null,
      "outputs": []
    },
    {
      "cell_type": "markdown",
      "source": [
        "Teste"
      ],
      "metadata": {
        "id": "4qsNBxvyC_LW"
      }
    },
    {
      "cell_type": "code",
      "source": [
        "F([1,1,2])"
      ],
      "metadata": {
        "colab": {
          "base_uri": "https://localhost:8080/"
        },
        "outputId": "fc4e45fc-654e-4b2b-828e-b8fe09b11c5a",
        "id": "UeVJ4ZGwC_LW"
      },
      "execution_count": null,
      "outputs": [
        {
          "output_type": "execute_result",
          "data": {
            "text/plain": [
              "array([ 2.99, 13.76, 29.31, 50.34, 68.2 ])"
            ]
          },
          "metadata": {},
          "execution_count": 13
        }
      ]
    },
    {
      "cell_type": "markdown",
      "source": [
        "e teste"
      ],
      "metadata": {
        "id": "HNnKU9KxC_LW"
      }
    },
    {
      "cell_type": "code",
      "source": [
        "g([1,1,2])"
      ],
      "metadata": {
        "colab": {
          "base_uri": "https://localhost:8080/"
        },
        "outputId": "fb6ed9a2-b8f7-4112-8d69-bbc1bdcea5cb",
        "id": "Xmh5nhPbC_LX"
      },
      "execution_count": null,
      "outputs": [
        {
          "output_type": "execute_result",
          "data": {
            "text/plain": [
              "4121.3547"
            ]
          },
          "metadata": {},
          "execution_count": 14
        }
      ]
    },
    {
      "cell_type": "markdown",
      "source": [
        "Segue que o sistema $Nu=v$, normal associado ao problema é\n",
        "\n",
        "$$\\begin{bmatrix}7047.1474& 1000.5840& 149.50000\\\\\\\\1000.5840& 149.50000& 24.600000\\\\\\\\149.50000& 24.600000& 5.0000000\\end{bmatrix}\\begin{bmatrix}a\\\\\\\\b\\\\\\\\c\\end{bmatrix}=\\begin{bmatrix}727.738\\\\111.22\\\\  19.5 \\end{bmatrix}$$"
      ],
      "metadata": {
        "id": "0JTotT81C_LX"
      }
    },
    {
      "cell_type": "code",
      "source": [
        "N=np.transpose(A)@A\n",
        "v=np.transpose(A)@y\n",
        "\n",
        "print('N=',N,'\\n v=',v)"
      ],
      "metadata": {
        "colab": {
          "base_uri": "https://localhost:8080/"
        },
        "outputId": "80893699-b008-44bd-f737-65863577d25b",
        "id": "lC7qugwmC_LX"
      },
      "execution_count": null,
      "outputs": [
        {
          "output_type": "stream",
          "name": "stdout",
          "text": [
            "N= [[7.0471474e+03 1.0005840e+03 1.4950000e+02]\n",
            " [1.0005840e+03 1.4950000e+02 2.4600000e+01]\n",
            " [1.4950000e+02 2.4600000e+01 5.0000000e+00]] \n",
            " v= [727.738 111.22   19.5  ]\n"
          ]
        }
      ]
    },
    {
      "cell_type": "markdown",
      "source": [
        "Podemos resolver este sistema por eliminação de Gauss, como segue.\n",
        "\n",
        "Antes, acrescentamos o vetor $v$ como últim acoluna de $N$:"
      ],
      "metadata": {
        "id": "k1z_9wiZC_LX"
      }
    },
    {
      "cell_type": "code",
      "source": [
        "N=np.transpose(N).tolist()\n",
        "N.append(v)\n",
        "N=np.array(N)\n",
        "N=np.transpose(N)\n",
        "print('Matriz ampliada N\\n',N)\n",
        "\n",
        "N[1]=N[1]-(N[1][0]/N[0][0])*N[0] # Escalonamento\n",
        "N[2]=N[2]-(N[2][0]/N[0][0])*N[0]\n",
        "N[2]=N[2]-(N[2][1]/N[1][1])*N[1]\n",
        "\n",
        "print('Matriz ampliada N e escalonada\\n',N)"
      ],
      "metadata": {
        "colab": {
          "base_uri": "https://localhost:8080/"
        },
        "outputId": "393e2d13-cade-43e3-c03f-cc8268a680e5",
        "id": "qpcDIXKeC_LX"
      },
      "execution_count": null,
      "outputs": [
        {
          "output_type": "stream",
          "name": "stdout",
          "text": [
            "Matriz ampliada N\n",
            " [[7.0471474e+03 1.0005840e+03 1.4950000e+02 7.2773800e+02]\n",
            " [1.0005840e+03 1.4950000e+02 2.4600000e+01 1.1122000e+02]\n",
            " [1.4950000e+02 2.4600000e+01 5.0000000e+00 1.9500000e+01]]\n",
            "Matriz ampliada N e escalonada\n",
            " [[ 7.04714740e+03  1.00058400e+03  1.49500000e+02  7.27738000e+02]\n",
            " [ 1.13686838e-13  7.43282243e+00  3.37335331e+00  7.89265949e+00]\n",
            " [-5.15962644e-14  0.00000000e+00  2.97487135e-01  4.79530316e-01]]\n"
          ]
        }
      ]
    },
    {
      "cell_type": "markdown",
      "source": [
        "Temos então $u=(a,b,c)$ como segue:"
      ],
      "metadata": {
        "id": "eMSRDMl4C_LX"
      }
    },
    {
      "cell_type": "code",
      "source": [
        "c=N[2][3]/N[2][2]\n",
        "b=(N[1][3]-N[1][2]*c)/N[1][1]\n",
        "a=(N[0][3]-N[0][1]*b-N[0][2]*c)/N[0][0]\n",
        "a,b,c"
      ],
      "metadata": {
        "colab": {
          "base_uri": "https://localhost:8080/"
        },
        "outputId": "b2aa54d1-d725-4d1f-d81f-eeb95dcd49c2",
        "id": "_DA8f-e1C_LX"
      },
      "execution_count": null,
      "outputs": [
        {
          "output_type": "execute_result",
          "data": {
            "text/plain": [
              "(0.022174219686531733, 0.3302956343052859, 1.6119363105906945)"
            ]
          },
          "metadata": {},
          "execution_count": 17
        }
      ]
    },
    {
      "cell_type": "markdown",
      "source": [
        "Para testar o ajuste, definimos $f(s)$ e construímos gráficos:"
      ],
      "metadata": {
        "id": "QAqcX0aVC_LY"
      }
    },
    {
      "cell_type": "code",
      "source": [
        "def f(s):\n",
        "  return a*s**2+b*s+c\n",
        "\n",
        "s=np.linspace(1,10,100)\n",
        "\n",
        "plt.plot(s,f(s),label='f(s)')\n",
        "plt.plot(x,y,'o')\n",
        "plt.plot([9],[f(9)],'*',label='f(9)')\n",
        "plt.legend()\n",
        "plt.show()"
      ],
      "metadata": {
        "colab": {
          "base_uri": "https://localhost:8080/",
          "height": 430
        },
        "outputId": "9f8423a7-1ea8-454f-b533-7bc0bcd88eee",
        "id": "mmheFKo4C_LY"
      },
      "execution_count": null,
      "outputs": [
        {
          "output_type": "display_data",
          "data": {
            "text/plain": [
              "<Figure size 640x480 with 1 Axes>"
            ],
            "image/png": "[encoded data removed]"
          },
          "metadata": {}
        }
      ]
    },
    {
      "cell_type": "markdown",
      "source": [
        "Um estimativa para $f(9)$ é"
      ],
      "metadata": {
        "id": "0youag8fC_LY"
      }
    },
    {
      "cell_type": "code",
      "source": [
        "f(9)"
      ],
      "metadata": {
        "colab": {
          "base_uri": "https://localhost:8080/"
        },
        "outputId": "b97bd457-63f3-41e1-e133-81a0eed06f76",
        "id": "nUhtQMobC_LY"
      },
      "execution_count": null,
      "outputs": [
        {
          "output_type": "execute_result",
          "data": {
            "text/plain": [
              "6.380708813947338"
            ]
          },
          "metadata": {},
          "execution_count": 19
        }
      ]
    },
    {
      "cell_type": "markdown",
      "source": [
        "O módulo ao quadrado do vetor erro $y-f(x)$ é $g(u=(a,b,c))$:"
      ],
      "metadata": {
        "id": "AL240v-yNL9l"
      }
    },
    {
      "cell_type": "code",
      "source": [
        "g([a,b,c])"
      ],
      "metadata": {
        "colab": {
          "base_uri": "https://localhost:8080/"
        },
        "id": "X4qqhMS6NE26",
        "outputId": "2dd4b459-46aa-4f96-8aa0-5eccf64df730"
      },
      "execution_count": null,
      "outputs": [
        {
          "output_type": "execute_result",
          "data": {
            "text/plain": [
              "0.05236960490516261"
            ]
          },
          "metadata": {},
          "execution_count": 20
        }
      ]
    },
    {
      "cell_type": "markdown",
      "source": [
        "**Obs:** O comando a seguir resolve o sistema linear $Nu=v$."
      ],
      "metadata": {
        "id": "cGN8mN2W4rfz"
      }
    },
    {
      "cell_type": "code",
      "source": [
        "N=np.transpose(A)@A\n",
        "v=np.transpose(A)@y\n",
        "\n",
        "u=np.linalg.solve(N,v)\n",
        "u"
      ],
      "metadata": {
        "colab": {
          "base_uri": "https://localhost:8080/"
        },
        "id": "--l4LVJzJbmD",
        "outputId": "76bf1d77-e716-4031-a6ca-49e5a8496e75"
      },
      "execution_count": null,
      "outputs": [
        {
          "output_type": "execute_result",
          "data": {
            "text/plain": [
              "array([0.02217422, 0.33029563, 1.61193631])"
            ]
          },
          "metadata": {},
          "execution_count": 21
        }
      ]
    },
    {
      "cell_type": "markdown",
      "source": [
        "#**Exemplo 3**\n",
        "\n",
        "Cosidere $x=(1.3,\t3.4,\t5.1,\t6.8,\t8.0)$ e $\n",
        "f(x)\\approx y=(\t2.0,\t3.2,\t3.8,\t4.7,\t5.8)$.\n",
        "A partir dos dados disponíveis, pode-se desejar saber uma estimativa do valor da função  $f(s)$ em $s= 9$."
      ],
      "metadata": {
        "id": "QuYB_w9afaez"
      }
    },
    {
      "cell_type": "markdown",
      "source": [
        "Vejamos isso gráficamante:"
      ],
      "metadata": {
        "id": "tYIuEm0ofae0"
      }
    },
    {
      "cell_type": "code",
      "source": [
        "import numpy as np\n",
        "x=[1.3,\t3.4,\t5.1,\t6.8,\t8.0]\n",
        "x=np.array(x)\n",
        "y=[2.0,\t3.2,\t3.8,\t4.7,\t5.8]\n",
        "\n",
        "import matplotlib.pyplot as plt\n",
        "\n",
        "plt.plot(x,y,'o')\n",
        "plt.show()"
      ],
      "metadata": {
        "colab": {
          "base_uri": "https://localhost:8080/",
          "height": 430
        },
        "outputId": "31186295-7583-48c6-a3d6-4812247497c3",
        "id": "6_9k4BwCfae0"
      },
      "execution_count": null,
      "outputs": [
        {
          "output_type": "display_data",
          "data": {
            "text/plain": [
              "<Figure size 640x480 with 1 Axes>"
            ],
            "image/png": "[encoded data removed]"
          },
          "metadata": {}
        }
      ]
    },
    {
      "cell_type": "markdown",
      "source": [
        "A forma do gráfico sugere que $$f(s)\\approx ae^s+be^{-s}+ce^{2s}.$$ Isso e os dados da tabela produzem a expressão\n",
        "$$ \\begin{bmatrix}f_1(x_1)&f_2(x_1)&f_3(x_1)\\\\\\\\\n",
        "f_1(x_2)&f_2(x_2)&f_3(x_2)\\\\\n",
        "\\vdots&\\vdots\\\\\n",
        "f_1(x_n)&f_2(x_n)&f_3(x_n)\\end{bmatrix}\\begin{bmatrix}a\\\\\\\\b\\\\\\\\c\\end{bmatrix}\\approx\\begin{bmatrix}y_1\\\\\\\\y_2\\\\\\vdots\\\\y_n\\end{bmatrix},$$ em que $f_1(s)=e^s$, $f_2(s)=e^{-s}$ e $f_3(s)=e^{2s}$, o que equivale ao sistema linear\n",
        "$$ \\begin{bmatrix}e^{1.3}&e^{-1.3}&e^{2\\times 1.3}\\\\\\\\ e^{3.4}&e^{-3.4}&e^{2\\times 3.4} \\\\\\\\e^{5.1}&e^{-5.1}&e^{2\\times 5.1}\\\\\\\\e^{6.8}&e^{-6.8}&e^{2\\times 6.8}\\\\\\\\ e^{8.8}&e^{-8.0}&e^{2\\times 8.0}\\end{bmatrix}\\begin{bmatrix}a\\\\\\\\b\\\\\\\\c\\end{bmatrix}\\approx\\begin{bmatrix}2.0\\\\\\\\ 3.2\\\\\\\\ 3.8\\\\\\\\ 4.7\\\\\\\\5.8\\end{bmatrix},$$"
      ],
      "metadata": {
        "id": "m4fPyg15fae0"
      }
    },
    {
      "cell_type": "markdown",
      "source": [
        "Podemos verificar rápidamente (algebricamente ou pelo gráfico anterior) que este sistema linera não tem solução."
      ],
      "metadata": {
        "id": "yz6YNAQRfae0"
      }
    },
    {
      "cell_type": "markdown",
      "source": [
        "Definimos então a função $F(u)$ e $g(u)$ em Python:"
      ],
      "metadata": {
        "id": "2pp_MPZrfae0"
      }
    },
    {
      "cell_type": "code",
      "source": [
        "A=[np.exp(x),np.exp(-x),np.exp(2*x)]\n",
        "y=np.array(y)\n",
        "y=np.transpose(y)\n",
        "\n",
        "A=np.array(A)\n",
        "A=np.transpose(A)\n",
        "\n",
        "def F(u):\n",
        "  u=np.array(u)\n",
        "  u=np.transpose(u)\n",
        "  return A@u-y\n",
        "\n",
        "def g(u):\n",
        "  return (np.linalg.norm(F(u))**2/2)"
      ],
      "metadata": {
        "id": "x62BmIRsfae1"
      },
      "execution_count": null,
      "outputs": []
    },
    {
      "cell_type": "markdown",
      "source": [
        "Teste"
      ],
      "metadata": {
        "id": "Div8gEW6fae1"
      }
    },
    {
      "cell_type": "code",
      "source": [
        "F([1,1,2])"
      ],
      "metadata": {
        "colab": {
          "base_uri": "https://localhost:8080/"
        },
        "outputId": "9feb7807-cb21-4775-91cc-b96560b4408d",
        "id": "Iv4dJGzbfae1"
      },
      "execution_count": null,
      "outputs": [
        {
          "output_type": "execute_result",
          "data": {
            "text/plain": [
              "array([2.88693045e+01, 1.82249206e+03, 5.39666002e+04, 1.61315267e+06,\n",
              "       1.77751962e+07])"
            ]
          },
          "metadata": {},
          "execution_count": 4
        }
      ]
    },
    {
      "cell_type": "markdown",
      "source": [
        "e teste"
      ],
      "metadata": {
        "id": "881VNoHnfae1"
      }
    },
    {
      "cell_type": "code",
      "source": [
        "g([1,1,2])"
      ],
      "metadata": {
        "colab": {
          "base_uri": "https://localhost:8080/"
        },
        "outputId": "08c69140-952e-4e7d-e893-ea821c46db81",
        "id": "jkkBEuAcfae1"
      },
      "execution_count": null,
      "outputs": [
        {
          "output_type": "execute_result",
          "data": {
            "text/plain": [
              "159281388583571.3"
            ]
          },
          "metadata": {},
          "execution_count": 5
        }
      ]
    },
    {
      "cell_type": "markdown",
      "source": [
        "Segue que o sistema $Nu=v$, normal associado ao problema é\n",
        "\n",
        "$$\\begin{bmatrix}9.72005478e+06& 5.00000000e+00& 2.72173432e+10\\\\5.00000000e+00 &7.54258767e-02& 4.07646058e+03\\\\2.72173432e+10& 4.07646058e+03& 7.96135300e+13\\end{bmatrix}\\begin{bmatrix}a\\\\\\\\b\\\\\\\\c\\end{bmatrix}=\\begin{bmatrix}2.22359456e+04 \\\\6.82206113e-01 \\\\5.54333830e+07 \\end{bmatrix}$$"
      ],
      "metadata": {
        "id": "ShpeIfDPfae1"
      }
    },
    {
      "cell_type": "code",
      "source": [
        "N=np.transpose(A)@A\n",
        "v=np.transpose(A)@y\n",
        "\n",
        "print('N=',N,'\\n v=',v)"
      ],
      "metadata": {
        "colab": {
          "base_uri": "https://localhost:8080/"
        },
        "outputId": "69dec628-821e-442e-c7cc-8b456df581a3",
        "id": "9W9htQYqfae1"
      },
      "execution_count": null,
      "outputs": [
        {
          "output_type": "stream",
          "name": "stdout",
          "text": [
            "N= [[9.72005478e+06 5.00000000e+00 2.72173432e+10]\n",
            " [5.00000000e+00 7.54258767e-02 4.07646058e+03]\n",
            " [2.72173432e+10 4.07646058e+03 7.96135300e+13]] \n",
            " v= [2.22359456e+04 6.82206113e-01 5.54333830e+07]\n"
          ]
        }
      ]
    },
    {
      "cell_type": "markdown",
      "source": [
        "Podemos resolver este sistema por eliminação de Gauss, como segue.\n",
        "\n",
        "Antes, acrescentamos o vetor $v$ como últim acoluna de $N$:"
      ],
      "metadata": {
        "id": "B_1yiLgRfae2"
      }
    },
    {
      "cell_type": "code",
      "source": [
        "N=np.transpose(N).tolist()\n",
        "N.append(v)\n",
        "N=np.array(N)\n",
        "N=np.transpose(N)\n",
        "print('Matriz ampliada N\\n',N)\n",
        "\n",
        "N[1]=N[1]-(N[1][0]/N[0][0])*N[0] # Escalonamento\n",
        "N[2]=N[2]-(N[2][0]/N[0][0])*N[0]\n",
        "N[2]=N[2]-(N[2][1]/N[1][1])*N[1]\n",
        "\n",
        "print('Matriz ampliada N e escalonada\\n',N)"
      ],
      "metadata": {
        "colab": {
          "base_uri": "https://localhost:8080/"
        },
        "outputId": "50834194-ffce-471d-f84d-42322a7d3863",
        "id": "BM427KXIfae2"
      },
      "execution_count": null,
      "outputs": [
        {
          "output_type": "stream",
          "name": "stdout",
          "text": [
            "Matriz ampliada N\n",
            " [[9.72005478e+06 5.00000000e+00 2.72173432e+10 2.22359456e+04]\n",
            " [5.00000000e+00 7.54258767e-02 4.07646058e+03 6.82206113e-01]\n",
            " [2.72173432e+10 4.07646058e+03 7.96135300e+13 5.54333830e+07]]\n",
            "Matriz ampliada N e escalonada\n",
            " [[ 9.72005478e+06  5.00000000e+00  2.72173432e+10  2.22359456e+04]\n",
            " [ 0.00000000e+00  7.54233047e-02 -9.92415147e+03  6.70767934e-01]\n",
            " [ 0.00000000e+00  0.00000000e+00  3.40033144e+12 -6.74172722e+06]]\n"
          ]
        }
      ]
    },
    {
      "cell_type": "markdown",
      "source": [
        "Temos então $u=(a,b,c)$ como segue:"
      ],
      "metadata": {
        "id": "QkSqLrOwfae2"
      }
    },
    {
      "cell_type": "code",
      "source": [
        "c=N[2][3]/N[2][2]\n",
        "b=(N[1][3]-N[1][2]*c)/N[1][1]\n",
        "a=(N[0][3]-N[0][1]*b-N[0][2]*c)/N[0][0]\n",
        "a,b,c"
      ],
      "metadata": {
        "colab": {
          "base_uri": "https://localhost:8080/"
        },
        "outputId": "b27400c7-2161-4d84-9633-aabaa715d516",
        "id": "0KEhNVNvfae2"
      },
      "execution_count": null,
      "outputs": [
        {
          "output_type": "execute_result",
          "data": {
            "text/plain": [
              "(0.007834907442949783, 8.632499496309606, -1.982667670020884e-06)"
            ]
          },
          "metadata": {},
          "execution_count": 8
        }
      ]
    },
    {
      "cell_type": "markdown",
      "source": [
        "Para testar o ajuste, definimos $f(s)$ e construímos gráficos:"
      ],
      "metadata": {
        "id": "Fw0R77RKfae2"
      }
    },
    {
      "cell_type": "code",
      "source": [
        "def f(s):\n",
        "  return a*np.exp(s)+b*np.exp(-s)+c*np.exp(2*s)\n",
        "\n",
        "s=np.linspace(1,8,100)\n",
        "\n",
        "plt.plot(s,f(s),label='f(s)')\n",
        "plt.plot(x,y,'o')\n",
        "#plt.plot([9],[f(9)],'*',label='f(9)')\n",
        "plt.legend()\n",
        "plt.show()"
      ],
      "metadata": {
        "colab": {
          "base_uri": "https://localhost:8080/",
          "height": 430
        },
        "outputId": "8cba1540-29b4-4370-c3f3-fbc94252edfe",
        "id": "-mVnV2r3fae2"
      },
      "execution_count": null,
      "outputs": [
        {
          "output_type": "display_data",
          "data": {
            "text/plain": [
              "<Figure size 640x480 with 1 Axes>"
            ],
            "image/png": "[encoded data removed]"
          },
          "metadata": {}
        }
      ]
    },
    {
      "cell_type": "markdown",
      "source": [
        "Um estimativa para $f(9)$ é"
      ],
      "metadata": {
        "id": "-W5Adgonfae2"
      }
    },
    {
      "cell_type": "code",
      "source": [
        "f(9)"
      ],
      "metadata": {
        "colab": {
          "base_uri": "https://localhost:8080/"
        },
        "outputId": "168b20c5-7ac7-4746-fc86-ee98943a3c6a",
        "id": "55G7Vjg1fae3"
      },
      "execution_count": null,
      "outputs": [
        {
          "output_type": "execute_result",
          "data": {
            "text/plain": [
              "-66.69392011307546"
            ]
          },
          "metadata": {},
          "execution_count": 10
        }
      ]
    },
    {
      "cell_type": "markdown",
      "source": [
        "O módulo ao quadrado do vetor erro $y-f(x)$ é $g(u=(a,b,c))$:"
      ],
      "metadata": {
        "id": "TB4_pffafae3"
      }
    },
    {
      "cell_type": "code",
      "source": [
        "g([a,b,c])"
      ],
      "metadata": {
        "colab": {
          "base_uri": "https://localhost:8080/"
        },
        "outputId": "3b6232e8-3d92-4040-d5dc-447e8e2e9305",
        "id": "PfLGlw7Lfae3"
      },
      "execution_count": null,
      "outputs": [
        {
          "output_type": "execute_result",
          "data": {
            "text/plain": [
              "7.105128552493747"
            ]
          },
          "metadata": {},
          "execution_count": 11
        }
      ]
    },
    {
      "cell_type": "markdown",
      "source": [
        "O gráfico e o erro sugerem que a esolha das funções para o ajuste foi ruim!"
      ],
      "metadata": {
        "id": "gBNLJ40umdr2"
      }
    },
    {
      "cell_type": "markdown",
      "source": [
        "**Obs:** O comando a seguir resolve o sistema linear $Nu=v$."
      ],
      "metadata": {
        "id": "S5qH7Qkffae3"
      }
    },
    {
      "cell_type": "code",
      "source": [
        "N=np.transpose(A)@A\n",
        "v=np.transpose(A)@y\n",
        "\n",
        "u=np.linalg.solve(N,v)\n",
        "u"
      ],
      "metadata": {
        "colab": {
          "base_uri": "https://localhost:8080/"
        },
        "outputId": "c03c7c88-0a12-4973-f993-f6c54f1d7544",
        "id": "NYFcjhh4fae3"
      },
      "execution_count": null,
      "outputs": [
        {
          "output_type": "execute_result",
          "data": {
            "text/plain": [
              "array([ 7.83490744e-03,  8.63249950e+00, -1.98266767e-06])"
            ]
          },
          "metadata": {},
          "execution_count": 12
        }
      ]
    },
    {
      "cell_type": "markdown",
      "source": [
        "#**Sobre resolução de sistemas lineares: um exemplo**\n",
        "Vamos usar o argumento de eliminação e de otimização, [que temos usado na disciplina](https://colab.research.google.com/drive/1hRYt-MRx2J6XQUphZl1mK86KqRWhkE7U?usp=sharing), para resolver o sistema linear de equações\n",
        "$$\\begin{bmatrix}10&1&1&3\\\\-1&11&4&1\\\\-2&3&17&1\\\\-1&1&4&-10\\end{bmatrix}\n",
        " \\begin{bmatrix}a\\\\b\\\\c\\\\d\\end{bmatrix}=\\begin{bmatrix}1\\\\4\\\\7\\\\-2\\end{bmatrix},\\tag{1}$$\n",
        " ou $$\\begin{cases}10a&+&1b&+&1c&+&3d&=&1\\\\-1a&+&11b&+&4c&+&1d&=&4\\\\-2a&+&3b&+&17c&+&1d&=&7\\\\-1a&+&1b&+&4c&-&10d&=&-2\n",
        " \\end{cases},\\tag{1*}$$\n",
        "que escrevemos de forma abreviada como $Au=v$."
      ],
      "metadata": {
        "id": "g2kI_vr2g8Iu"
      }
    },
    {
      "cell_type": "markdown",
      "source": [
        "**Usando [eliminação de Gauss](https://pt.wikipedia.org/wiki/Elimina%C3%A7%C3%A3o_de_Gauss) ou escalonamento**\n",
        "\n",
        "Podemos resolver a equação linear $(1)$ ou $(1^*)$ fazendo operações nas linhas da matriz $A$ e do vetor $v$, ou nas equações de $(1^*)$.\n",
        "\n",
        "Feremos isso no Phyton."
      ],
      "metadata": {
        "id": "PvxkReeepNMg"
      }
    },
    {
      "cell_type": "code",
      "source": [
        "import numpy as np, matplotlib.pyplot as plt\n",
        "\n",
        "A=np.array([[10,1,1,3],[-1,11,4,1],[-2,3,17,1],[-1,1,4,-10]])\n",
        "v=np.array([1,4,7,-2])\n",
        "print(A)\n",
        "print()\n",
        "print(v)"
      ],
      "metadata": {
        "colab": {
          "base_uri": "https://localhost:8080/"
        },
        "id": "1uaqahqUvteB",
        "outputId": "4877700a-cad2-4d13-879a-4b01cbdf4d86"
      },
      "execution_count": null,
      "outputs": [
        {
          "output_type": "stream",
          "name": "stdout",
          "text": [
            "[[ 10   1   1   3]\n",
            " [ -1  11   4   1]\n",
            " [ -2   3  17   1]\n",
            " [ -1   1   4 -10]]\n",
            "\n",
            "[ 1  4  7 -2]\n"
          ]
        }
      ]
    },
    {
      "cell_type": "markdown",
      "source": [
        "Para facilitar a manipulação computacional do sistema $(1^*)$ vamos construir uma matrix aumentada adicionando $b$ como mais uma coluna em $A$, chamamos essa matriz de $$B=\\begin{bmatrix}10&1&1&3&{\\color{blue}1}\\\\-1&11&4&1&{\\color{blue}4}\\\\-2&3&17&1&{\\color{blue}7}\\\\-1&1&4&-10&{\\color{blue}{-2}}\\end{bmatrix}.$$\n",
        "\n",
        "Vamos trocar a segunda linha de $B$ pela soma primeira linha com $10\\times $ a segunda linha.\n",
        "\n",
        "Vamos trocar a terceira linha de $B$ pela soma de $2\\times$ a primeira linha com $10\\times $ a terceira linha.\n",
        "\n",
        "Vamos trocar a quarta linha de $B$ pela soma primeira linha com $10\\times $ a quarta linha.\n",
        "\n",
        "Com isso obtemos  \n",
        "$$B_1=\\begin{bmatrix}10&1&1&3&{\\color{blue}1}\\\\0&111&41&13&{\\color{blue}{41}}\\\\0&32&176&16&{\\color{blue}{72}}\\\\0&11&41&-97&{\\color{blue}{-19}}\\end{bmatrix}.$$\n",
        "\n",
        "Repetimos esse raciocínio agora com a submatriz de $B$, obtida retirando a primeira coluna de $B$ e a primeira linha.\n",
        "\n",
        "Veja como isso fica com o uso do Phyton:\n"
      ],
      "metadata": {
        "id": "roE9cZ6_wg_J"
      }
    },
    {
      "cell_type": "code",
      "source": [
        "B=np.array([[10,1,1,3,1],[-1,11,4,1,4],[-2,3,17,1,7],[-1,1,4,-10,-2]]) # Definindo B.\n",
        "print(np.array(B))\n",
        "\n",
        "B[1]=B[0]+10*B[1]                                                      # Eliminando na primeira coluna\n",
        "B[2]=2*B[0]+10*B[2]\n",
        "B[3]=B[0]+10*B[3]\n",
        "\n",
        "print()\n",
        "print(np.array(B))\n",
        "\n",
        "B[2]=32*B[1]-111*B[2]                                                  # Eliminando na segunda coluna\n",
        "B[3]=11*B[1]-111*B[3]\n",
        "\n",
        "print()\n",
        "print(np.array(B))\n",
        "\n",
        "B[3]=-4100*B[2]+17780*B[3]                                             # Eliminando na terceira coluna\n",
        "\n",
        "print()\n",
        "print(np.array(B))"
      ],
      "metadata": {
        "colab": {
          "base_uri": "https://localhost:8080/"
        },
        "id": "5s6XQHpf0AiT",
        "outputId": "5d83f1b3-8c02-47db-ce05-e4b434fdce37"
      },
      "execution_count": null,
      "outputs": [
        {
          "output_type": "stream",
          "name": "stdout",
          "text": [
            "[[ 10   1   1   3   1]\n",
            " [ -1  11   4   1   4]\n",
            " [ -2   3  17   1   7]\n",
            " [ -1   1   4 -10  -2]]\n",
            "\n",
            "[[ 10   1   1   3   1]\n",
            " [  0 111  41  13  41]\n",
            " [  0  32 172  16  72]\n",
            " [  0  11  41 -97 -19]]\n",
            "\n",
            "[[    10      1      1      3      1]\n",
            " [     0    111     41     13     41]\n",
            " [     0      0 -17780  -1360  -6680]\n",
            " [     0      0  -4100  10910   2560]]\n",
            "\n",
            "[[       10         1         1         3         1]\n",
            " [        0       111        41        13        41]\n",
            " [        0         0    -17780     -1360     -6680]\n",
            " [        0         0         0 199555800  72904800]]\n"
          ]
        }
      ]
    },
    {
      "cell_type": "markdown",
      "source": [
        "Observe que os números da última linha da matriz escalonada são muito maiores que os de ínício. Isso pode acarretar em erros de arredondamento.\n",
        "\n",
        "Podemos agora encontrar $d$, depois $c$, depois $b$ e por último $a$, por subistituição recursiva.\n",
        "\n",
        "Faremos isso com Phyton também:"
      ],
      "metadata": {
        "id": "6nru2Ec03u-e"
      }
    },
    {
      "cell_type": "code",
      "source": [
        "d=B[3][4]/B[3][3]                                          # Determina d, utilizando a última linha da matriz escalonada, que é triangular superior.\n",
        "c=(B[2][4]-B[2][3]*d)/B[2][2]                              # Dermina c,  utilizando a penúltima linha da matriz escalonada.\n",
        "b=(B[1][4]-B[1][2]*c-B[1][3]*d)/B[1][1]                    # Dermina b,  utilizando a segunda linha da matriz escalonada.\n",
        "a=(B[0][4]-B[0][1]*b-B[0][2]*c-B[0][3]*d)/B[0][0]          # Dermina a,  utilizando a primeira linha da matriz.\n",
        "ug=[a,b,c,d]\n",
        "print(f'Soulção por eliminação de Gauss {ug}')\n",
        "print(f'Teste de precisão de Au-v={np.dot(A,np.array(ug))-v}')\n"
      ],
      "metadata": {
        "colab": {
          "base_uri": "https://localhost:8080/"
        },
        "id": "F_gTDl6HDnQc",
        "outputId": "0d9ebb2d-128b-4a9c-9fee-f374dee9ae08"
      },
      "execution_count": null,
      "outputs": [
        {
          "output_type": "stream",
          "name": "stdout",
          "text": [
            "Soulção por eliminação de Gauss [-0.06418956502391812, 0.19813104905996218, 0.3477583713427523, 0.3653354099454889]\n",
            "Teste de precisão de Au-v=[0.00000000e+00 0.00000000e+00 0.00000000e+00 6.66133815e-16]\n"
          ]
        }
      ]
    },
    {
      "cell_type": "markdown",
      "source": [
        "Note que na última coordenada de $Au-v$ há um erro da ordem de $10^{-16}$ devido a arredondamento na divisão. Isso pode ser bem problemático em sistemas grandes.\n",
        "\n",
        "\n",
        "Observe que o que fizemos pode ser programado, como fazemos no que segue, por exemplo.\n",
        "\n",
        "Note que no caso geral precisa de troca de linhas ou [pivoteamento parcial](https://youtu.be/W9J8NtGTp-8), ou mesmo troca de colunas ou [pivoteamento total](https://youtu.be/R1yox7fTJtI). Deixamos isso para o leitor."
      ],
      "metadata": {
        "id": "1GvJSNx9Jr7e"
      }
    },
    {
      "cell_type": "code",
      "source": [
        "def GaussElim(U,v):                                    # Eliminação de Gauss, sem troca de linhas.\n",
        "  Q=U\n",
        "  q=v\n",
        "  p=np.shape(U)\n",
        "  for j in range(0,p[0]-1):\n",
        "    for i in range(j+1,p[0]):\n",
        "      c1=U[j][j]\n",
        "      c2=U[i][j]\n",
        "      Q[i]=c1*np.array(Q[i])-c2*np.array(Q[j])\n",
        "      q[i]=c1*q[i]-c2*q[j]\n",
        "  print('A=')\n",
        "  print(np.array(Q))\n",
        "  print()\n",
        "  print('v=')\n",
        "  print(q)\n",
        "  return [np.array(Q),q]"
      ],
      "metadata": {
        "id": "R_TgKNMEq0Zm"
      },
      "execution_count": null,
      "outputs": []
    },
    {
      "cell_type": "markdown",
      "source": [
        "Essa função transforma o sistema linear na forma que obtemos manualmente, digamos."
      ],
      "metadata": {
        "id": "3OkjKgHBkmDp"
      }
    },
    {
      "cell_type": "code",
      "source": [
        "A=[[10,1,1,3],[-1,11,4,1],[-2,3,17,1],[-1,1,4,-10]]\n",
        "v=[1,4,7,-2]\n",
        "EG=GaussElim(A,v)\n"
      ],
      "metadata": {
        "colab": {
          "base_uri": "https://localhost:8080/"
        },
        "id": "2rY-LEOFsWrC",
        "outputId": "e7feac04-2a6e-4150-c216-36beca6bd999"
      },
      "execution_count": null,
      "outputs": [
        {
          "output_type": "stream",
          "name": "stdout",
          "text": [
            "A=\n",
            "[[        10          1          1          3]\n",
            " [         0        111         41         13]\n",
            " [         0          0      17780       1360]\n",
            " [         0          0          0 -199555800]]\n",
            "\n",
            "v=\n",
            "[1, 41, 6680, -72904800]\n"
          ]
        }
      ]
    },
    {
      "cell_type": "markdown",
      "source": [
        "Vejamos agora como resolver o sistema de equações após a eleiminação de Gauss."
      ],
      "metadata": {
        "id": "q4E2mEBW7bbn"
      }
    },
    {
      "cell_type": "code",
      "source": [
        "def Trisup(U,v):\n",
        "  p=np.shape(U)\n",
        "  q=np.zeros((p[0], 1))\n",
        "  q[p[0]-1]=v[p[0]-1]/U[p[0]-1][p[0]-1]\n",
        "  for i in range(p[0]-1,-1,-1):\n",
        "    q[i]=v[i]/U[i][i]\n",
        "    for j in range(p[0]-1,i,-1):\n",
        "      q[i]=q[i]-q[j]*U[i][j]/U[i][i]\n",
        "  print('x=')\n",
        "  print(np.array(q))\n",
        "  return q"
      ],
      "metadata": {
        "id": "7JyrEyXm7iL5"
      },
      "execution_count": null,
      "outputs": []
    },
    {
      "cell_type": "markdown",
      "source": [
        "Testando a resolução do sistema $Au=v$, com a função que acabamos de definir."
      ],
      "metadata": {
        "id": "kWEBFY0m-tpm"
      }
    },
    {
      "cell_type": "code",
      "source": [
        "x=Trisup(A,v)\n"
      ],
      "metadata": {
        "colab": {
          "base_uri": "https://localhost:8080/"
        },
        "id": "LwcYt7wl-yEG",
        "outputId": "31c3f656-7439-468d-dac6-500352be0cde"
      },
      "execution_count": null,
      "outputs": [
        {
          "output_type": "stream",
          "name": "stdout",
          "text": [
            "x=\n",
            "[[-0.06418957]\n",
            " [ 0.19813105]\n",
            " [ 0.34775837]\n",
            " [ 0.36533541]]\n"
          ]
        }
      ]
    },
    {
      "cell_type": "markdown",
      "source": [
        "#**Exemplo 4:** Ajuste com restição de domínio. Ver [Link](https://colab.research.google.com/drive/18rsavawC6Ev-o80My2058DydDsv-XoNl?usp=sharing)."
      ],
      "metadata": {
        "id": "dg9PMMrOfaJa"
      }
    },
    {
      "cell_type": "markdown",
      "source": [
        "#**O caso não linear**\n",
        "\n",
        "Ainda por [discutir.....](https://colab.research.google.com/drive/1jfbte9FmGv8_TmOitfi-4tgoMMgRz10u?usp=sharing)\n"
      ],
      "metadata": {
        "id": "0ffx5BtIfae3"
      }
    }
  ],
  "metadata": {
    "colab": {
      "provenance": [],
      "authorship_tag": "ABX9TyPtLABqOhAgE0n8y1XA10gH",
      "include_colab_link": true
    },
    "kernelspec": {
      "display_name": "Python 3",
      "name": "python3"
    },
    "language_info": {
      "name": "python"
    }
  },
  "nbformat": 4,
  "nbformat_minor": 0
}