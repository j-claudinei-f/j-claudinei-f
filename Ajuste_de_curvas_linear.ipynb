{
  "cells": [
    {
      "cell_type": "markdown",
      "metadata": {
        "id": "view-in-github",
        "colab_type": "text"
      },
      "source": [
        "<a href=\"https://colab.research.google.com/github/j-claudinei-f/j-claudinei-f/blob/main/Ajuste_de_curvas_linear.ipynb\" target=\"_parent\"><img src=\"https://colab.research.google.com/assets/colab-badge.svg\" alt=\"Open In Colab\"/></a>"
      ]
    },
    {
      "cell_type": "markdown",
      "source": [
        "#**Cálculo Numérico:**\n",
        "\n",
        "**Ajuste de curvas: caso linear**\n",
        "\n",
        "\n",
        " *José Claudinei Ferrreira*\n",
        "\n",
        " *Universidade Federal de Alfenas (UNIFAL-MG)*"
      ],
      "metadata": {
        "id": "BomfPwWbyrEh"
      }
    },
    {
      "cell_type": "markdown",
      "source": [
        "## **Resolvendo problemas de ajuste de curvas**\n",
        "\n",
        "Vamos usar o argumento de minimização para resolver problemas de [ajuste de curvas](https://pt.wikipedia.org/wiki/Ajuste_de_curvas), ou [de superfícies](https://www.cs.jhu.edu/~misha/Fall05/10.23.05.pdf), da forma\n",
        "$$y_i\\approx f(x_i),$$ em que $x=(x_1,\\,x_2,\\,\\ldots,\\,x_n)$ e $y=(y_1,\\,y_2,\\,\\ldots,\\,y_n)$ são dados advindos de algum problema. A função $f(s)$ não é conhecida, mas supomos que está em alguma classe fixada."
      ],
      "metadata": {
        "id": "UEJI43A2ApdA"
      }
    },
    {
      "cell_type": "markdown",
      "source": [
        "**O caso mais simples: Resolvendo um sistema linear:**\n",
        "\n",
        "No caso mais simples de ajuste da forma\n",
        "$$y_i\\approx f(x_i),$$ em que $x=(x_1,\\,x_2,\\,\\ldots,\\,x_n)$ e $y=(y_1,\\,y_2,\\,\\ldots,\\,y_n)$ são dados advindos de algum problema, em que supomos que $$f(s)=\\sum_{j=1}^p\\alpha_jf_j(s),$$ com cada $f_j(s)$ conhecida, obtemos um problema linear, da forma\n",
        "$$y_i\\approx f(x_i)\\Longrightarrow \\begin{cases}y_1&\\approx& \\sum_{j=1}^p\\alpha_jf_j(x_1)\\\\\\\\y_2&\\approx& \\sum_{j=1}^p\\alpha_jf_j(x_2)\\\\\\vdots&\\vdots&\\\\y_n&\\approx& \\sum_{j=1}^p\\alpha_jf_j(x_n)\\end{cases} \\Longrightarrow \\begin{bmatrix}f_1(x_1)&f_2(x_1)&\\cdots&f_p(x_1)\\\\\\\\\n",
        "f_1(x_2)&f_2(x_2)&\\cdots&f_p(x_2)\\\\\n",
        "\\vdots&\\vdots&\\ddots&\\vdots\\\\\n",
        "f_1(x_n)&f_2(x_n)&\\cdots&f_p(x_n)\\end{bmatrix}\\begin{bmatrix}\\alpha_1\\\\\\\\\\alpha_2\\\\\\vdots\\\\\\alpha_p\\end{bmatrix}\\approx\\begin{bmatrix}y_1\\\\\\\\y_2\\\\\\vdots\\\\y_n\\end{bmatrix},$$ que é um [sistema linear, que pode ser possível e determinado, possível e indeterminado ou impossível](https://pt.wikipedia.org/wiki/Sistema_de_equa%C3%A7%C3%B5es_lineares).\n",
        "\n"
      ],
      "metadata": {
        "id": "nRTv84GmCG9R"
      }
    },
    {
      "cell_type": "markdown",
      "source": [
        "**Interpolação:** Quando as expressões acima forem de igualdade, em vez de aproximação, teremos um problema de [ajuste de curvas por interpolação](https://pt.wikipedia.org/wiki/Interpola%C3%A7%C3%A3o_polinomial)."
      ],
      "metadata": {
        "id": "TNgVtNWtLerj"
      }
    },
    {
      "cell_type": "markdown",
      "source": [
        "#**Mínimos quadrados**\n",
        "\n",
        "Quando este sistema for impossível, vamos definir a função auxiliar $$F(u)=\\begin{bmatrix}f_1(x_1)&f_2(x_1)&\\cdots&f_p(x_1)\\\\\\\\\n",
        "f_1(x_2)&f_2(x_2)&\\cdots&f_p(x_2)\\\\\n",
        "\\vdots&\\vdots&\\ddots&\\vdots\\\\\n",
        "f_1(x_n)&f_2(x_n)&\\cdots&f_p(x_n)\\end{bmatrix}\\begin{bmatrix}\\alpha_1\\\\\\\\\\alpha_2\\\\\\vdots\\\\\\alpha_p\\end{bmatrix}-\\begin{bmatrix}y_1\\\\\\\\y_2\\\\\\vdots\\\\y_n\\end{bmatrix},$$ para $u=(\\alpha_1,\\alpha_2,\\ldots,\\alpha_p)$.\n",
        "\n",
        "Depois definimos a função $$g(u)=\\frac{1}{2}\\|F(u)\\|^2.$$ Minimizamos essa função para encontrarmos $\\alpha $ que produz a melhor aproximação para $y_i\\approx f(x_i)$, nesse sentido, que chamamos de processo dos quadrados mínimos."
      ],
      "metadata": {
        "id": "DH9yS4Eu8hqR"
      }
    },
    {
      "cell_type": "markdown",
      "source": [
        "**Obs:** Note que $$F(u)=Au -y,$$ na forma matricial.\n",
        "\n",
        "Então, no ponto de mínimo de $g(u)$ deve ocorrer a igualdade $$\\nabla g(u)=[Jf(u)]^tF(u)=A^tF(u)=A^t(Au-y)=0,$$ já que  $Jf(u)=A$. Isso nos diz que o sistema alinear $$Nu=v,\\qquad N=A^tA, v=A^ty,$$ sempre tem solução. Esse sistema é chamado de [sistema normal](https://pt.wikipedia.org/wiki/Matriz_normal)."
      ],
      "metadata": {
        "id": "OW0J6wJW-yGM"
      }
    },
    {
      "cell_type": "markdown",
      "source": [
        "#**Exemplo 1**\n",
        "\n",
        "Cosidere $x=(1.3,\t3.4,\t5.1,\t6.8,\t8.0)$ e $\n",
        "f(x)\\approx y=(\t2.0,\t3.2,\t3.8,\t4.7,\t5.8)$.\n",
        "A partir dos dados disponíveis, pode-se desejar saber uma estimativa do valor da função  $f(s)$ em $s= 9$."
      ],
      "metadata": {
        "id": "bArPKCcy3Af4"
      }
    },
    {
      "cell_type": "markdown",
      "source": [
        "Vejamos isso gráficamante:"
      ],
      "metadata": {
        "id": "lol-GqxK3sGx"
      }
    },
    {
      "cell_type": "code",
      "source": [
        "x=[1.3,\t3.4,\t5.1,\t6.8,\t8.0]\n",
        "y=[2.0,\t3.2,\t3.8,\t4.7,\t5.8]\n",
        "\n",
        "import matplotlib.pyplot as plt\n",
        "\n",
        "plt.plot(x,y,'o')\n",
        "plt.show()"
      ],
      "metadata": {
        "colab": {
          "base_uri": "https://localhost:8080/",
          "height": 430
        },
        "id": "jwGHqciA3yAg",
        "outputId": "4dbc4bac-ace8-4f81-d79b-87e2be2f9101"
      },
      "execution_count": 59,
      "outputs": [
        {
          "output_type": "display_data",
          "data": {
            "text/plain": [
              "<Figure size 640x480 with 1 Axes>"
            ],
            "image/png": "[encoded data removed]"
          },
          "metadata": {}
        }
      ]
    },
    {
      "cell_type": "markdown",
      "source": [
        "A forma do gráfico sugere que $$f(s)\\approx as+b.$$ Isso e os dados da tabela produzem a expressão\n",
        "$$ \\begin{bmatrix}f_1(x_1)&f_2(x_1)\\\\\\\\\n",
        "f_1(x_2)&f_2(x_2)\\\\\n",
        "\\vdots&\\vdots\\\\\n",
        "f_1(x_n)&f_2(x_n)\\end{bmatrix}\\begin{bmatrix}a\\\\\\\\b\\end{bmatrix}\\approx\\begin{bmatrix}y_1\\\\\\\\y_2\\\\\\vdots\\\\y_n\\end{bmatrix},$$ em que $f_1(s)=s$ e $f_2(s)=1$, o que equivale ao sistema linear\n",
        "$$ \\begin{bmatrix}1.3&1\\\\\\\\3.4&1\\\\\\\\5.1&1\\\\\\\\6.8&1\\\\\\\\8.0&1\\end{bmatrix}\\begin{bmatrix}a\\\\\\\\b\\end{bmatrix}\\approx\\begin{bmatrix}2.0\\\\\\\\ 3.2\\\\\\\\ 3.8\\\\\\\\ 4.7\\\\\\\\5.8\\end{bmatrix},$$"
      ],
      "metadata": {
        "id": "LL9_DkcS47bK"
      }
    },
    {
      "cell_type": "markdown",
      "source": [
        "Podemos verificar rápidamente (algebricamente ou pelo gráfico anterior) que este sistema linera não tem solução."
      ],
      "metadata": {
        "id": "2C5g_z4k74mx"
      }
    },
    {
      "cell_type": "markdown",
      "source": [
        "Definimos então a função $F(u)$ e $g(u)$ em Python:"
      ],
      "metadata": {
        "id": "4Umc9rhU8Nd9"
      }
    },
    {
      "cell_type": "code",
      "source": [
        "import numpy as np\n",
        "\n",
        "A=[x,[1,1,1,1,1]]\n",
        "y=np.array(y)\n",
        "y=np.transpose(y)\n",
        "\n",
        "A=np.array(A)\n",
        "A=np.transpose(A)\n",
        "\n",
        "def F(u):\n",
        "  u=np.array(u)\n",
        "  u=np.transpose(u)\n",
        "  return A@u-y\n",
        "\n",
        "def g(u):\n",
        "  return (np.linalg.norm(F(u))**2/2)"
      ],
      "metadata": {
        "id": "5RNzFg7a6JsF"
      },
      "execution_count": 60,
      "outputs": []
    },
    {
      "cell_type": "markdown",
      "source": [
        "Teste"
      ],
      "metadata": {
        "id": "57tSb4uvBwUr"
      }
    },
    {
      "cell_type": "code",
      "source": [
        "F([1,1])"
      ],
      "metadata": {
        "colab": {
          "base_uri": "https://localhost:8080/"
        },
        "id": "ZYjHwZzG_uF5",
        "outputId": "4b0a64ce-1d8a-492c-f702-ae4868a3a126"
      },
      "execution_count": 61,
      "outputs": [
        {
          "output_type": "execute_result",
          "data": {
            "text/plain": [
              "array([0.3, 1.2, 2.3, 3.1, 3.2])"
            ]
          },
          "metadata": {},
          "execution_count": 61
        }
      ]
    },
    {
      "cell_type": "markdown",
      "source": [
        "e teste"
      ],
      "metadata": {
        "id": "q0RTAuYPBzza"
      }
    },
    {
      "cell_type": "code",
      "source": [
        "g([1,1])"
      ],
      "metadata": {
        "colab": {
          "base_uri": "https://localhost:8080/"
        },
        "id": "eyJ-dB-jB1U9",
        "outputId": "98dc92fa-7ec7-422a-c2ba-af39f8ed9474"
      },
      "execution_count": 62,
      "outputs": [
        {
          "output_type": "execute_result",
          "data": {
            "text/plain": [
              "13.334999999999999"
            ]
          },
          "metadata": {},
          "execution_count": 62
        }
      ]
    },
    {
      "cell_type": "markdown",
      "source": [
        "Segue que o sistema $Nu=v$, normal associado ao problema é\n",
        "\n",
        "$$\\begin{bmatrix}149.5& 24.6\\\\ 24.6&  5.0\\end{bmatrix}\\begin{bmatrix}a\\\\b\\end{bmatrix}=\\begin{bmatrix}111.22\\\\  19.5 \\end{bmatrix}$$"
      ],
      "metadata": {
        "id": "zNGZmTTCCoT7"
      }
    },
    {
      "cell_type": "code",
      "source": [
        "N=np.transpose(A)@A\n",
        "v=np.transpose(A)@y\n",
        "\n",
        "print('N=',N,'\\n v=',v)"
      ],
      "metadata": {
        "colab": {
          "base_uri": "https://localhost:8080/"
        },
        "id": "OEt1U7rSCsMH",
        "outputId": "0b26b4bd-1322-4984-f120-1dcfcde61919"
      },
      "execution_count": 63,
      "outputs": [
        {
          "output_type": "stream",
          "name": "stdout",
          "text": [
            "N= [[149.5  24.6]\n",
            " [ 24.6   5. ]] \n",
            " v= [111.22  19.5 ]\n"
          ]
        }
      ]
    },
    {
      "cell_type": "markdown",
      "source": [
        "Podemos resolver este sistema por eliminação de Gauss, como segue.\n",
        "\n",
        "Antes, acrescentamos o vetor $v$ como últim acoluna de $N$:"
      ],
      "metadata": {
        "id": "yhXHJceeDNc2"
      }
    },
    {
      "cell_type": "code",
      "source": [
        "N=np.transpose(N).tolist()\n",
        "N.append(v)\n",
        "N=np.array(N)\n",
        "N=np.transpose(N)\n",
        "print('Matriz ampliada N\\n',N)\n",
        "\n",
        "N[1]=N[1]-(N[1][0]/N[0][0])*N[0]\n",
        "\n",
        "print('Matriz ampliada N e escalonada\\n',N)"
      ],
      "metadata": {
        "colab": {
          "base_uri": "https://localhost:8080/"
        },
        "id": "2sUaksCaD4UT",
        "outputId": "62f17a8b-0f03-4edf-b317-320231a31955"
      },
      "execution_count": 64,
      "outputs": [
        {
          "output_type": "stream",
          "name": "stdout",
          "text": [
            "Matriz ampliada N\n",
            " [[149.5   24.6  111.22]\n",
            " [ 24.6    5.    19.5 ]]\n",
            "Matriz ampliada N e escalonada\n",
            " [[1.49500000e+02 2.46000000e+01 1.11220000e+02]\n",
            " [3.55271368e-15 9.52107023e-01 1.19891639e+00]]\n"
          ]
        }
      ]
    },
    {
      "cell_type": "markdown",
      "source": [
        "Temos então $u=(a,b)$ como segue:"
      ],
      "metadata": {
        "id": "0_Fg9EMVItgL"
      }
    },
    {
      "cell_type": "code",
      "source": [
        "b=N[1][2]/N[1][1]\n",
        "a=(N[0][2]-N[0][1]*b)/N[0][0]\n",
        "a,b"
      ],
      "metadata": {
        "colab": {
          "base_uri": "https://localhost:8080/"
        },
        "id": "LD8Ee0leFT9i",
        "outputId": "6f2a7a0a-d91b-49cf-ffad-bff1341827cc"
      },
      "execution_count": 65,
      "outputs": [
        {
          "output_type": "execute_result",
          "data": {
            "text/plain": [
              "(0.5367430096950964, 1.2592243923001258)"
            ]
          },
          "metadata": {},
          "execution_count": 65
        }
      ]
    },
    {
      "cell_type": "markdown",
      "source": [
        "Para testar o ajuste, definimos $f(s)$ e construímos gráficos:"
      ],
      "metadata": {
        "id": "-ZuQtvzsJPnT"
      }
    },
    {
      "cell_type": "code",
      "source": [
        "def f(s):\n",
        "  return a*s+b\n",
        "\n",
        "s=np.linspace(1,10,100)\n",
        "\n",
        "plt.plot(s,f(s),label='f(s)')\n",
        "plt.plot(x,y,'o')\n",
        "plt.plot([9],[f(9)],'*',label='f(9)')\n",
        "plt.legend()\n",
        "plt.show()"
      ],
      "metadata": {
        "colab": {
          "base_uri": "https://localhost:8080/",
          "height": 430
        },
        "id": "qJLtbVAhJXel",
        "outputId": "90dfe5b8-eff0-4137-a440-fa698feac02a"
      },
      "execution_count": 66,
      "outputs": [
        {
          "output_type": "display_data",
          "data": {
            "text/plain": [
              "<Figure size 640x480 with 1 Axes>"
            ],
            "image/png": "[encoded data removed]"
          },
          "metadata": {}
        }
      ]
    },
    {
      "cell_type": "markdown",
      "source": [
        "Um estimativa para $f(9)$ é"
      ],
      "metadata": {
        "id": "IeE2cRcOJ6ow"
      }
    },
    {
      "cell_type": "code",
      "source": [
        "f(9)"
      ],
      "metadata": {
        "colab": {
          "base_uri": "https://localhost:8080/"
        },
        "id": "oNlv1KTIJ-lP",
        "outputId": "b9adc6f5-2d4d-459f-af85-04ba996bc095"
      },
      "execution_count": 67,
      "outputs": [
        {
          "output_type": "execute_result",
          "data": {
            "text/plain": [
              "6.089911479555994"
            ]
          },
          "metadata": {},
          "execution_count": 67
        }
      ]
    },
    {
      "cell_type": "markdown",
      "source": [
        "O módulo ao quadrado do vetor erro $y-f(x)$ é $g(u=(a,b,c))$:"
      ],
      "metadata": {
        "id": "RDCarOfpNuoz"
      }
    },
    {
      "cell_type": "code",
      "source": [
        "g([a,b])"
      ],
      "metadata": {
        "colab": {
          "base_uri": "https://localhost:8080/"
        },
        "id": "WV8T9wHoNvkO",
        "outputId": "40f752c3-cf40-4b10-96a6-760fe9c2218f"
      },
      "execution_count": 68,
      "outputs": [
        {
          "output_type": "execute_result",
          "data": {
            "text/plain": [
              "0.0792834059294647"
            ]
          },
          "metadata": {},
          "execution_count": 68
        }
      ]
    },
    {
      "cell_type": "markdown",
      "source": [
        "#**Exemplo 2**\n",
        "\n",
        "Cosidere $x=(1.3,\t3.4,\t5.1,\t6.8,\t8.0)$ e $\n",
        "f(x)\\approx y=(\t2.0,\t3.2,\t3.8,\t4.7,\t5.8)$.\n",
        "A partir dos dados disponíveis, pode-se desejar saber uma estimativa do valor da função  $f(s)$ em $s= 9$."
      ],
      "metadata": {
        "id": "5GXDIE0mC_LV"
      }
    },
    {
      "cell_type": "markdown",
      "source": [
        "Vejamos isso gráficamante:"
      ],
      "metadata": {
        "id": "an_xH7BlC_LV"
      }
    },
    {
      "cell_type": "code",
      "source": [
        "import numpy as np\n",
        "x=[1.3,\t3.4,\t5.1,\t6.8,\t8.0]\n",
        "x=np.array(x)\n",
        "y=[2.0,\t3.2,\t3.8,\t4.7,\t5.8]\n",
        "\n",
        "import matplotlib.pyplot as plt\n",
        "\n",
        "plt.plot(x,y,'o')\n",
        "plt.show()"
      ],
      "metadata": {
        "colab": {
          "base_uri": "https://localhost:8080/",
          "height": 430
        },
        "outputId": "bc9cb6ee-5752-407c-f301-fedce6c40d95",
        "id": "8FXYUh3wC_LV"
      },
      "execution_count": 48,
      "outputs": [
        {
          "output_type": "display_data",
          "data": {
            "text/plain": [
              "<Figure size 640x480 with 1 Axes>"
            ],
            "image/png": "[encoded data removed]"
          },
          "metadata": {}
        }
      ]
    },
    {
      "cell_type": "markdown",
      "source": [
        "A forma do gráfico sugere que $$f(s)\\approx as^2+bs+c.$$ Isso e os dados da tabela produzem a expressão\n",
        "$$ \\begin{bmatrix}f_1(x_1)&f_2(x_1)&f_3(x_1)\\\\\\\\\n",
        "f_1(x_2)&f_2(x_2)&f_3(x_2)\\\\\n",
        "\\vdots&\\vdots\\\\\n",
        "f_1(x_n)&f_2(x_n)&f_3(x_n)\\end{bmatrix}\\begin{bmatrix}a\\\\\\\\b\\\\\\\\c\\end{bmatrix}\\approx\\begin{bmatrix}y_1\\\\\\\\y_2\\\\\\vdots\\\\y_n\\end{bmatrix},$$ em que $f_1(s)=s^2$, $f_2(s)=s$ e $f_3(s)=1$, o que equivale ao sistema linear\n",
        "$$ \\begin{bmatrix}1.3^2&1.3&1\\\\\\\\3.4^2&3.4&1\\\\\\\\5.1^2&5.1&1\\\\\\\\6.8^2&6.8&1\\\\\\\\8.0^2&8.0&1\\end{bmatrix}\\begin{bmatrix}a\\\\\\\\b\\\\\\\\c\\end{bmatrix}\\approx\\begin{bmatrix}2.0\\\\\\\\ 3.2\\\\\\\\ 3.8\\\\\\\\ 4.7\\\\\\\\5.8\\end{bmatrix},$$"
      ],
      "metadata": {
        "id": "2j5nRpvcC_LW"
      }
    },
    {
      "cell_type": "markdown",
      "source": [
        "Podemos verificar rápidamente (algebricamente ou pelo gráfico anterior) que este sistema linera não tem solução."
      ],
      "metadata": {
        "id": "rKa995c_C_LW"
      }
    },
    {
      "cell_type": "markdown",
      "source": [
        "Definimos então a função $F(u)$ e $g(u)$ em Python:"
      ],
      "metadata": {
        "id": "xo2p-U70C_LW"
      }
    },
    {
      "cell_type": "code",
      "source": [
        "A=[x**2,x,[1,1,1,1,1]]\n",
        "y=np.array(y)\n",
        "y=np.transpose(y)\n",
        "\n",
        "import numpy as np\n",
        "\n",
        "A=np.array(A)\n",
        "A=np.transpose(A)\n",
        "\n",
        "def F(u):\n",
        "  u=np.array(u)\n",
        "  u=np.transpose(u)\n",
        "  return A@u-y\n",
        "\n",
        "def g(u):\n",
        "  return (np.linalg.norm(F(u))**2/2)"
      ],
      "metadata": {
        "id": "a90TiHjwC_LW"
      },
      "execution_count": 49,
      "outputs": []
    },
    {
      "cell_type": "markdown",
      "source": [
        "Teste"
      ],
      "metadata": {
        "id": "4qsNBxvyC_LW"
      }
    },
    {
      "cell_type": "code",
      "source": [
        "F([1,1,2])"
      ],
      "metadata": {
        "colab": {
          "base_uri": "https://localhost:8080/"
        },
        "outputId": "19622946-f19a-45f1-c300-25add7399fbd",
        "id": "UeVJ4ZGwC_LW"
      },
      "execution_count": 50,
      "outputs": [
        {
          "output_type": "execute_result",
          "data": {
            "text/plain": [
              "array([ 2.99, 13.76, 29.31, 50.34, 68.2 ])"
            ]
          },
          "metadata": {},
          "execution_count": 50
        }
      ]
    },
    {
      "cell_type": "markdown",
      "source": [
        "e teste"
      ],
      "metadata": {
        "id": "HNnKU9KxC_LW"
      }
    },
    {
      "cell_type": "code",
      "source": [
        "g([1,1,2])"
      ],
      "metadata": {
        "colab": {
          "base_uri": "https://localhost:8080/"
        },
        "outputId": "896706e4-f889-439b-bc8a-8f5ec7cce64a",
        "id": "Xmh5nhPbC_LX"
      },
      "execution_count": 51,
      "outputs": [
        {
          "output_type": "execute_result",
          "data": {
            "text/plain": [
              "4121.3547"
            ]
          },
          "metadata": {},
          "execution_count": 51
        }
      ]
    },
    {
      "cell_type": "markdown",
      "source": [
        "Segue que o sistema $Nu=v$, normal associado ao problema é\n",
        "\n",
        "$$\\begin{bmatrix}7047.1474& 1000.5840& 149.50000\\\\\\\\1000.5840& 149.50000& 24.600000\\\\\\\\149.50000& 24.600000& 5.0000000\\end{bmatrix}\\begin{bmatrix}a\\\\\\\\b\\\\\\\\c\\end{bmatrix}=\\begin{bmatrix}727.738\\\\111.22\\\\  19.5 \\end{bmatrix}$$"
      ],
      "metadata": {
        "id": "0JTotT81C_LX"
      }
    },
    {
      "cell_type": "code",
      "source": [
        "N=np.transpose(A)@A\n",
        "v=np.transpose(A)@y\n",
        "\n",
        "print('N=',N,'\\n v=',v)"
      ],
      "metadata": {
        "colab": {
          "base_uri": "https://localhost:8080/"
        },
        "outputId": "6785d87d-4ba8-4285-bc11-e7e020ddc2df",
        "id": "lC7qugwmC_LX"
      },
      "execution_count": 52,
      "outputs": [
        {
          "output_type": "stream",
          "name": "stdout",
          "text": [
            "N= [[7.0471474e+03 1.0005840e+03 1.4950000e+02]\n",
            " [1.0005840e+03 1.4950000e+02 2.4600000e+01]\n",
            " [1.4950000e+02 2.4600000e+01 5.0000000e+00]] \n",
            " v= [727.738 111.22   19.5  ]\n"
          ]
        }
      ]
    },
    {
      "cell_type": "markdown",
      "source": [
        "Podemos resolver este sistema por eliminação de Gauss, como segue.\n",
        "\n",
        "Antes, acrescentamos o vetor $v$ como últim acoluna de $N$:"
      ],
      "metadata": {
        "id": "k1z_9wiZC_LX"
      }
    },
    {
      "cell_type": "code",
      "source": [
        "N=np.transpose(N).tolist()\n",
        "N.append(v)\n",
        "N=np.array(N)\n",
        "N=np.transpose(N)\n",
        "print('Matriz ampliada N\\n',N)\n",
        "\n",
        "N[1]=N[1]-(N[1][0]/N[0][0])*N[0] # Escalonamento\n",
        "N[2]=N[2]-(N[2][0]/N[0][0])*N[0]\n",
        "N[2]=N[2]-(N[2][1]/N[1][1])*N[1]\n",
        "\n",
        "print('Matriz ampliada N e escalonada\\n',N)"
      ],
      "metadata": {
        "colab": {
          "base_uri": "https://localhost:8080/"
        },
        "outputId": "51dcf2d5-344e-4097-fbd8-3311586c4337",
        "id": "qpcDIXKeC_LX"
      },
      "execution_count": 53,
      "outputs": [
        {
          "output_type": "stream",
          "name": "stdout",
          "text": [
            "Matriz ampliada N\n",
            " [[7.0471474e+03 1.0005840e+03 1.4950000e+02 7.2773800e+02]\n",
            " [1.0005840e+03 1.4950000e+02 2.4600000e+01 1.1122000e+02]\n",
            " [1.4950000e+02 2.4600000e+01 5.0000000e+00 1.9500000e+01]]\n",
            "Matriz ampliada N e escalonada\n",
            " [[ 7.04714740e+03  1.00058400e+03  1.49500000e+02  7.27738000e+02]\n",
            " [ 1.13686838e-13  7.43282243e+00  3.37335331e+00  7.89265949e+00]\n",
            " [-5.15962644e-14  0.00000000e+00  2.97487135e-01  4.79530316e-01]]\n"
          ]
        }
      ]
    },
    {
      "cell_type": "markdown",
      "source": [
        "Temos então $u=(a,b,c)$ como segue:"
      ],
      "metadata": {
        "id": "eMSRDMl4C_LX"
      }
    },
    {
      "cell_type": "code",
      "source": [
        "c=N[2][3]/N[2][2]\n",
        "b=(N[1][3]-N[1][2]*c)/N[1][1]\n",
        "a=(N[0][3]-N[0][1]*b-N[0][2]*c)/N[0][0]\n",
        "a,b,c"
      ],
      "metadata": {
        "colab": {
          "base_uri": "https://localhost:8080/"
        },
        "outputId": "012c2b72-7b63-4a3c-b453-b8e3305dca6d",
        "id": "_DA8f-e1C_LX"
      },
      "execution_count": 54,
      "outputs": [
        {
          "output_type": "execute_result",
          "data": {
            "text/plain": [
              "(0.022174219686531733, 0.3302956343052859, 1.6119363105906945)"
            ]
          },
          "metadata": {},
          "execution_count": 54
        }
      ]
    },
    {
      "cell_type": "markdown",
      "source": [
        "Para testar o ajuste, definimos $f(s)$ e construímos gráficos:"
      ],
      "metadata": {
        "id": "QAqcX0aVC_LY"
      }
    },
    {
      "cell_type": "code",
      "source": [
        "def f(s):\n",
        "  return a*s**2+b*s+c\n",
        "\n",
        "s=np.linspace(1,10,100)\n",
        "\n",
        "plt.plot(s,f(s),label='f(s)')\n",
        "plt.plot(x,y,'o')\n",
        "plt.plot([9],[f(9)],'*',label='f(9)')\n",
        "plt.legend()\n",
        "plt.show()"
      ],
      "metadata": {
        "colab": {
          "base_uri": "https://localhost:8080/",
          "height": 430
        },
        "outputId": "9db6b6ae-de4c-4d4f-a8b9-b6f0c40eca6e",
        "id": "mmheFKo4C_LY"
      },
      "execution_count": 55,
      "outputs": [
        {
          "output_type": "display_data",
          "data": {
            "text/plain": [
              "<Figure size 640x480 with 1 Axes>"
            ],
            "image/png": "[encoded data removed]"
          },
          "metadata": {}
        }
      ]
    },
    {
      "cell_type": "markdown",
      "source": [
        "Um estimativa para $f(9)$ é"
      ],
      "metadata": {
        "id": "0youag8fC_LY"
      }
    },
    {
      "cell_type": "code",
      "source": [
        "f(9)"
      ],
      "metadata": {
        "colab": {
          "base_uri": "https://localhost:8080/"
        },
        "outputId": "5e6eed3e-7bde-46fe-e485-3b37322586ee",
        "id": "nUhtQMobC_LY"
      },
      "execution_count": 56,
      "outputs": [
        {
          "output_type": "execute_result",
          "data": {
            "text/plain": [
              "6.380708813947338"
            ]
          },
          "metadata": {},
          "execution_count": 56
        }
      ]
    },
    {
      "cell_type": "markdown",
      "source": [
        "O módulo ao quadrado do vetor erro $y-f(x)$ é $g(u=(a,b,c))$:"
      ],
      "metadata": {
        "id": "AL240v-yNL9l"
      }
    },
    {
      "cell_type": "code",
      "source": [
        "g([a,b,c])"
      ],
      "metadata": {
        "colab": {
          "base_uri": "https://localhost:8080/"
        },
        "id": "X4qqhMS6NE26",
        "outputId": "feef4b6b-42c2-4fea-8146-f51a5e077ec3"
      },
      "execution_count": 57,
      "outputs": [
        {
          "output_type": "execute_result",
          "data": {
            "text/plain": [
              "0.05236960490516261"
            ]
          },
          "metadata": {},
          "execution_count": 57
        }
      ]
    },
    {
      "cell_type": "markdown",
      "source": [
        "**Obs:** O comando a seguir resolve o sistema linear $Nu=v$."
      ],
      "metadata": {
        "id": "cGN8mN2W4rfz"
      }
    },
    {
      "cell_type": "code",
      "source": [
        "N=np.transpose(A)@A\n",
        "v=np.transpose(A)@y\n",
        "\n",
        "u=np.linalg.solve(N,v)\n",
        "u"
      ],
      "metadata": {
        "colab": {
          "base_uri": "https://localhost:8080/"
        },
        "id": "--l4LVJzJbmD",
        "outputId": "17511bde-cfc9-4cbf-c31c-c3ac027d87a6"
      },
      "execution_count": 58,
      "outputs": [
        {
          "output_type": "execute_result",
          "data": {
            "text/plain": [
              "array([0.02217422, 0.33029563, 1.61193631])"
            ]
          },
          "metadata": {},
          "execution_count": 58
        }
      ]
    },
    {
      "cell_type": "markdown",
      "source": [
        "**O caso não linear**\n",
        "\n",
        "Ainda por [discutir.....](https://colab.research.google.com/drive/1jfbte9FmGv8_TmOitfi-4tgoMMgRz10u?usp=sharing)\n"
      ],
      "metadata": {
        "id": "rpft2l7jC_LY"
      }
    },
    {
      "cell_type": "markdown",
      "source": [
        "#**Sobre resolução de sistemas lineares: um exemplo**\n",
        "Vamos usar o argumento de eliminação e de otimização, [que temos usado na disciplina](https://colab.research.google.com/drive/1hRYt-MRx2J6XQUphZl1mK86KqRWhkE7U?usp=sharing), para resolver o sistema linear de equações\n",
        "$$\\begin{bmatrix}10&1&1&3\\\\-1&11&4&1\\\\-2&3&17&1\\\\-1&1&4&-10\\end{bmatrix}\n",
        " \\begin{bmatrix}a\\\\b\\\\c\\\\d\\end{bmatrix}=\\begin{bmatrix}1\\\\4\\\\7\\\\-2\\end{bmatrix},\\tag{1}$$\n",
        " ou $$\\begin{cases}10a&+&1b&+&1c&+&3d&=&1\\\\-1a&+&11b&+&4c&+&1d&=&4\\\\-2a&+&3b&+&17c&+&1d&=&7\\\\-1a&+&1b&+&4c&-&10d&=&-2\n",
        " \\end{cases},\\tag{1*}$$\n",
        "que escrevemos de forma abreviada como $Au=v$."
      ],
      "metadata": {
        "id": "g2kI_vr2g8Iu"
      }
    },
    {
      "cell_type": "markdown",
      "source": [
        "**Usando [eliminação de Gauss](https://pt.wikipedia.org/wiki/Elimina%C3%A7%C3%A3o_de_Gauss) ou escalonamento**\n",
        "\n",
        "Podemos resolver a equação linear $(1)$ ou $(1^*)$ fazendo operações nas linhas da matriz $A$ e do vetor $v$, ou nas equações de $(1^*)$.\n",
        "\n",
        "Feremos isso no Phyton."
      ],
      "metadata": {
        "id": "PvxkReeepNMg"
      }
    },
    {
      "cell_type": "code",
      "source": [
        "import numpy as np, matplotlib.pyplot as plt\n",
        "\n",
        "A=np.array([[10,1,1,3],[-1,11,4,1],[-2,3,17,1],[-1,1,4,-10]])\n",
        "v=np.array([1,4,7,-2])\n",
        "print(A)\n",
        "print()\n",
        "print(v)"
      ],
      "metadata": {
        "colab": {
          "base_uri": "https://localhost:8080/"
        },
        "id": "1uaqahqUvteB",
        "outputId": "4877700a-cad2-4d13-879a-4b01cbdf4d86"
      },
      "execution_count": null,
      "outputs": [
        {
          "output_type": "stream",
          "name": "stdout",
          "text": [
            "[[ 10   1   1   3]\n",
            " [ -1  11   4   1]\n",
            " [ -2   3  17   1]\n",
            " [ -1   1   4 -10]]\n",
            "\n",
            "[ 1  4  7 -2]\n"
          ]
        }
      ]
    },
    {
      "cell_type": "markdown",
      "source": [
        "Para facilitar a manipulação computacional do sistema $(1^*)$ vamos construir uma matrix aumentada adicionando $b$ como mais uma coluna em $A$, chamamos essa matriz de $$B=\\begin{bmatrix}10&1&1&3&{\\color{blue}1}\\\\-1&11&4&1&{\\color{blue}4}\\\\-2&3&17&1&{\\color{blue}7}\\\\-1&1&4&-10&{\\color{blue}{-2}}\\end{bmatrix}.$$\n",
        "\n",
        "Vamos trocar a segunda linha de $B$ pela soma primeira linha com $10\\times $ a segunda linha.\n",
        "\n",
        "Vamos trocar a terceira linha de $B$ pela soma de $2\\times$ a primeira linha com $10\\times $ a terceira linha.\n",
        "\n",
        "Vamos trocar a quarta linha de $B$ pela soma primeira linha com $10\\times $ a quarta linha.\n",
        "\n",
        "Com isso obtemos  \n",
        "$$B_1=\\begin{bmatrix}10&1&1&3&{\\color{blue}1}\\\\0&111&41&13&{\\color{blue}{41}}\\\\0&32&176&16&{\\color{blue}{72}}\\\\0&11&41&-97&{\\color{blue}{-19}}\\end{bmatrix}.$$\n",
        "\n",
        "Repetimos esse raciocínio agora com a submatriz de $B$, obtida retirando a primeira coluna de $B$ e a primeira linha.\n",
        "\n",
        "Veja como isso fica com o uso do Phyton:\n"
      ],
      "metadata": {
        "id": "roE9cZ6_wg_J"
      }
    },
    {
      "cell_type": "code",
      "source": [
        "B=np.array([[10,1,1,3,1],[-1,11,4,1,4],[-2,3,17,1,7],[-1,1,4,-10,-2]]) # Definindo B.\n",
        "print(np.array(B))\n",
        "\n",
        "B[1]=B[0]+10*B[1]                                                      # Eliminando na primeira coluna\n",
        "B[2]=2*B[0]+10*B[2]\n",
        "B[3]=B[0]+10*B[3]\n",
        "\n",
        "print()\n",
        "print(np.array(B))\n",
        "\n",
        "B[2]=32*B[1]-111*B[2]                                                  # Eliminando na segunda coluna\n",
        "B[3]=11*B[1]-111*B[3]\n",
        "\n",
        "print()\n",
        "print(np.array(B))\n",
        "\n",
        "B[3]=-4100*B[2]+17780*B[3]                                             # Eliminando na terceira coluna\n",
        "\n",
        "print()\n",
        "print(np.array(B))"
      ],
      "metadata": {
        "colab": {
          "base_uri": "https://localhost:8080/"
        },
        "id": "5s6XQHpf0AiT",
        "outputId": "5d83f1b3-8c02-47db-ce05-e4b434fdce37"
      },
      "execution_count": null,
      "outputs": [
        {
          "output_type": "stream",
          "name": "stdout",
          "text": [
            "[[ 10   1   1   3   1]\n",
            " [ -1  11   4   1   4]\n",
            " [ -2   3  17   1   7]\n",
            " [ -1   1   4 -10  -2]]\n",
            "\n",
            "[[ 10   1   1   3   1]\n",
            " [  0 111  41  13  41]\n",
            " [  0  32 172  16  72]\n",
            " [  0  11  41 -97 -19]]\n",
            "\n",
            "[[    10      1      1      3      1]\n",
            " [     0    111     41     13     41]\n",
            " [     0      0 -17780  -1360  -6680]\n",
            " [     0      0  -4100  10910   2560]]\n",
            "\n",
            "[[       10         1         1         3         1]\n",
            " [        0       111        41        13        41]\n",
            " [        0         0    -17780     -1360     -6680]\n",
            " [        0         0         0 199555800  72904800]]\n"
          ]
        }
      ]
    },
    {
      "cell_type": "markdown",
      "source": [
        "Observe que os números da última linha da matriz escalonada são muito maiores que os de ínício. Isso pode acarretar em erros de arredondamento.\n",
        "\n",
        "Podemos agora encontrar $d$, depois $c$, depois $b$ e por último $a$, por subistituição recursiva.\n",
        "\n",
        "Faremos isso com Phyton também:"
      ],
      "metadata": {
        "id": "6nru2Ec03u-e"
      }
    },
    {
      "cell_type": "code",
      "source": [
        "d=B[3][4]/B[3][3]                                          # Determina d, utilizando a última linha da matriz escalonada, que é triangular superior.\n",
        "c=(B[2][4]-B[2][3]*d)/B[2][2]                              # Dermina c,  utilizando a penúltima linha da matriz escalonada.\n",
        "b=(B[1][4]-B[1][2]*c-B[1][3]*d)/B[1][1]                    # Dermina b,  utilizando a segunda linha da matriz escalonada.\n",
        "a=(B[0][4]-B[0][1]*b-B[0][2]*c-B[0][3]*d)/B[0][0]          # Dermina a,  utilizando a primeira linha da matriz.\n",
        "ug=[a,b,c,d]\n",
        "print(f'Soulção por eliminação de Gauss {ug}')\n",
        "print(f'Teste de precisão de Au-v={np.dot(A,np.array(ug))-v}')\n"
      ],
      "metadata": {
        "colab": {
          "base_uri": "https://localhost:8080/"
        },
        "id": "F_gTDl6HDnQc",
        "outputId": "0d9ebb2d-128b-4a9c-9fee-f374dee9ae08"
      },
      "execution_count": null,
      "outputs": [
        {
          "output_type": "stream",
          "name": "stdout",
          "text": [
            "Soulção por eliminação de Gauss [-0.06418956502391812, 0.19813104905996218, 0.3477583713427523, 0.3653354099454889]\n",
            "Teste de precisão de Au-v=[0.00000000e+00 0.00000000e+00 0.00000000e+00 6.66133815e-16]\n"
          ]
        }
      ]
    },
    {
      "cell_type": "markdown",
      "source": [
        "Note que na última coordenada de $Au-v$ há um erro da ordem de $10^{-16}$ devido a arredondamento na divisão. Isso pode ser bem problemático em sistemas grandes.\n",
        "\n",
        "\n",
        "Observe que o que fizemos pode ser programado, como fazemos no que segue, por exemplo.\n",
        "\n",
        "Note que no caso geral precisa de troca de linhas ou [pivoteamento parcial](https://youtu.be/W9J8NtGTp-8), ou mesmo troca de colunas ou [pivoteamento total](https://youtu.be/R1yox7fTJtI). Deixamos isso para o leitor."
      ],
      "metadata": {
        "id": "1GvJSNx9Jr7e"
      }
    },
    {
      "cell_type": "code",
      "source": [
        "def GaussElim(U,v):                                    # Eliminação de Gauss, sem troca de linhas.\n",
        "  Q=U\n",
        "  q=v\n",
        "  p=np.shape(U)\n",
        "  for j in range(0,p[0]-1):\n",
        "    for i in range(j+1,p[0]):\n",
        "      c1=U[j][j]\n",
        "      c2=U[i][j]\n",
        "      Q[i]=c1*np.array(Q[i])-c2*np.array(Q[j])\n",
        "      q[i]=c1*q[i]-c2*q[j]\n",
        "  print('A=')\n",
        "  print(np.array(Q))\n",
        "  print()\n",
        "  print('v=')\n",
        "  print(q)\n",
        "  return [np.array(Q),q]"
      ],
      "metadata": {
        "id": "R_TgKNMEq0Zm"
      },
      "execution_count": null,
      "outputs": []
    },
    {
      "cell_type": "markdown",
      "source": [
        "Essa função transforma o sistema linear na forma que obtemos manualmente, digamos."
      ],
      "metadata": {
        "id": "3OkjKgHBkmDp"
      }
    },
    {
      "cell_type": "code",
      "source": [
        "A=[[10,1,1,3],[-1,11,4,1],[-2,3,17,1],[-1,1,4,-10]]\n",
        "v=[1,4,7,-2]\n",
        "EG=GaussElim(A,v)\n"
      ],
      "metadata": {
        "colab": {
          "base_uri": "https://localhost:8080/"
        },
        "id": "2rY-LEOFsWrC",
        "outputId": "e7feac04-2a6e-4150-c216-36beca6bd999"
      },
      "execution_count": null,
      "outputs": [
        {
          "output_type": "stream",
          "name": "stdout",
          "text": [
            "A=\n",
            "[[        10          1          1          3]\n",
            " [         0        111         41         13]\n",
            " [         0          0      17780       1360]\n",
            " [         0          0          0 -199555800]]\n",
            "\n",
            "v=\n",
            "[1, 41, 6680, -72904800]\n"
          ]
        }
      ]
    },
    {
      "cell_type": "markdown",
      "source": [
        "Vejamos agora como resolver o sistema de equações após a eleiminação de Gauss."
      ],
      "metadata": {
        "id": "q4E2mEBW7bbn"
      }
    },
    {
      "cell_type": "code",
      "source": [
        "def Trisup(U,v):\n",
        "  p=np.shape(U)\n",
        "  q=np.zeros((p[0], 1))\n",
        "  q[p[0]-1]=v[p[0]-1]/U[p[0]-1][p[0]-1]\n",
        "  for i in range(p[0]-1,-1,-1):\n",
        "    q[i]=v[i]/U[i][i]\n",
        "    for j in range(p[0]-1,i,-1):\n",
        "      q[i]=q[i]-q[j]*U[i][j]/U[i][i]\n",
        "  print('x=')\n",
        "  print(np.array(q))\n",
        "  return q"
      ],
      "metadata": {
        "id": "7JyrEyXm7iL5"
      },
      "execution_count": null,
      "outputs": []
    },
    {
      "cell_type": "markdown",
      "source": [
        "Testando a resolução do sistema $Au=v$, com a função que acabamos de definir."
      ],
      "metadata": {
        "id": "kWEBFY0m-tpm"
      }
    },
    {
      "cell_type": "code",
      "source": [
        "x=Trisup(A,v)\n"
      ],
      "metadata": {
        "colab": {
          "base_uri": "https://localhost:8080/"
        },
        "id": "LwcYt7wl-yEG",
        "outputId": "31c3f656-7439-468d-dac6-500352be0cde"
      },
      "execution_count": null,
      "outputs": [
        {
          "output_type": "stream",
          "name": "stdout",
          "text": [
            "x=\n",
            "[[-0.06418957]\n",
            " [ 0.19813105]\n",
            " [ 0.34775837]\n",
            " [ 0.36533541]]\n"
          ]
        }
      ]
    },
    {
      "cell_type": "markdown",
      "source": [
        "**Usando otimização: para tentar contornar erros de arredondamento ou redução de cálculos em matrizes enormes**\n",
        "\n",
        "Uma forma de resolver a equação desse exemplo é usar os argumentos que temos usado nas últimas discussões, ou seja, definimos $$F(u)=Au-v$$ e $$g(u)=\\frac{1}{2}\\|F(u)\\|^2=\\frac{1}{2}F(u)^TF(u),$$ em que $u=(a,b,c,d)$.  Depois resolvemos numericamente a equação diferencial  \n",
        " $$\\begin{cases} u'&=&-\\nabla g(u)\\\\\\\\u(0)&=&u_0\\end{cases},\\tag{2}$$ para determinar ponto de mínimo aproximado de $g(u)$, ou seja, $$u(t_1)\\approx \\min_ug(u),\\tag{3}$$ lembrando que $$\\nabla g(u)=\\left[JF(u)\\right]^TF(u),$$ em que $\\left[JF(u)\\right]^T$ denota a transposta da matriz jacobiana de $F(u)$, que nesse caso toma a forma\n",
        " $$JF(u)=A,\\qquad \\nabla g(u)=A^T(Au-v).$$\n",
        "\n",
        "\n",
        "\n",
        " Definimos no que segue $F(u)$, $JF(u)$, $g(u)$ e $\\nabla g(u)$ ."
      ],
      "metadata": {
        "id": "phQvZy1XDGWE"
      }
    },
    {
      "cell_type": "code",
      "source": [
        "A=np.array([[10,1,1,3],[-1,11,4,1],[-2,3,17,1],[-1,1,4,-10]])  # a forma como manipulamos A e v anteriormente altera os valores originais.\n",
        "v=np.array([1,4,7,-2])\n",
        "print('A=')\n",
        "print(A)\n",
        "print()\n",
        "print('v=')\n",
        "print(v)\n",
        "\n",
        "def F(u):\n",
        "  return np.dot(A,u)-v    #Au-v\n",
        "\n",
        "def JF(u):\n",
        "  return A\n",
        "\n",
        "def g(u):\n",
        "  return np.dot(F(u),F(u))/2 # produto escalar de F(u) com F(u)\n",
        "\n",
        "def Gradg(u):\n",
        "  p=np.dot(np.transpose(JF(u)),F(u))\n",
        "  return np.array(p)"
      ],
      "metadata": {
        "id": "qdNWP7HfDN-S",
        "colab": {
          "base_uri": "https://localhost:8080/"
        },
        "outputId": "e7f9511b-da5a-478d-9be0-566a0fbbbb21"
      },
      "execution_count": null,
      "outputs": [
        {
          "output_type": "stream",
          "name": "stdout",
          "text": [
            "A=\n",
            "[[ 10   1   1   3]\n",
            " [ -1  11   4   1]\n",
            " [ -2   3  17   1]\n",
            " [ -1   1   4 -10]]\n",
            "\n",
            "v=\n",
            "[ 1  4  7 -2]\n"
          ]
        }
      ]
    },
    {
      "cell_type": "markdown",
      "source": [
        "Podemos agora utilizar o método de Método de Euler para resolver a Equação $(2)$, com condição inicial $u_0=(-4,-4,0,0)$ e $h=0.001$, para estimar $u(t_1)$, no caso com $t_1=1$."
      ],
      "metadata": {
        "id": "-BlEQiz7DvCG"
      }
    },
    {
      "cell_type": "code",
      "source": [
        "def Euler(u0,b,h):\n",
        "  n=int(b/h)\n",
        "  u=[]\n",
        "  ye=[]\n",
        "  xe=[]\n",
        "  u.append(u0)\n",
        "  ye.append(u[0][1])\n",
        "  xe.append(u[0][0])\n",
        "  fu=[]\n",
        "  fu.append(g(u[0]))\n",
        "\n",
        "  t=np.linspace(0,b,n+1)\n",
        "\n",
        "  for i in range(1,n+1):\n",
        "      u.append(u[i-1]-h*Gradg(u[i-1]))  # u_(i+1)=u_i+hf(t_0+ih,u_i) método de Euler\n",
        "      fu.append(g(u[i]))\n",
        "\n",
        "\n",
        "  print(f'Solucao aproximada u={u[n]}')\n",
        "  print(f'Gradiente no ponto aproximado Gradg(u)={Gradg(u[n])}')\n",
        "  print(f'Valor aproximado de F(u)={F(u[n])}')\n",
        "  print(f'Valor aproximado de g(u)={g(u[n])}')\n",
        "  # Criando a figura e projeção em 3D\n",
        "  Figure = plt.figure(figsize=(8,6), dpi=80) # criando gráficos\n",
        "  lines_plotted = plt.plot([])\n",
        "\n",
        "  line_plotted = lines_plotted[0]\n",
        "\n",
        "\n",
        "  plt.plot(t,fu,color='red',label='g(u(t))=g(x(t),y(t)) por Euler')\n",
        "  plt.ylabel('g(u(t))')\n",
        "  plt.xlabel('n')\n",
        "  plt.legend()\n",
        "  plt.title('Aproximação de solução por método de Euler')\n",
        "  plt.show()\n",
        "  return u[n]"
      ],
      "metadata": {
        "id": "f-YtmscEDzjb"
      },
      "execution_count": null,
      "outputs": []
    },
    {
      "cell_type": "markdown",
      "source": [
        "Obtemos as aproximações para $u(1)$, $f(u(1)$, $\\nabla g(u(1))$ e $g(u(1))$ como segue. Obtemos também aproximação para o decaimento de $g(u(t))$."
      ],
      "metadata": {
        "id": "vKyDRjfGD1Zb"
      }
    },
    {
      "cell_type": "code",
      "source": [
        "ue=Euler([-4,-4,0,0],1,0.001)"
      ],
      "metadata": {
        "colab": {
          "base_uri": "https://localhost:8080/",
          "height": 520
        },
        "id": "lSR9ahj3D25Y",
        "outputId": "90b56372-060e-4436-a4cd-59966026d550"
      },
      "execution_count": null,
      "outputs": [
        {
          "output_type": "stream",
          "name": "stdout",
          "text": [
            "Solucao aproximada u=[-0.06418957  0.19813105  0.34775837  0.36533541]\n",
            "Gradiente no ponto aproximado Gradg(u)=[-6.21724894e-15 -7.99360578e-15 -1.15463195e-14  1.90958360e-14]\n",
            "Valor aproximado de F(u)=[-8.88178420e-16 -4.44089210e-16  0.00000000e+00 -2.22044605e-15]\n",
            "Valor aproximado de g(u)=2.9582283945787943e-30\n"
          ]
        },
        {
          "output_type": "display_data",
          "data": {
            "text/plain": [
              "<Figure size 640x480 with 1 Axes>"
            ],
            "image/png": "[encoded data removed]"
          },
          "metadata": {}
        }
      ]
    },
    {
      "cell_type": "markdown",
      "source": [
        "Comparando com a solução por Eliminação de Gauss:"
      ],
      "metadata": {
        "id": "XDNb8ct1F6Vj"
      }
    },
    {
      "cell_type": "code",
      "source": [
        "print(ug)\n",
        "ue"
      ],
      "metadata": {
        "colab": {
          "base_uri": "https://localhost:8080/"
        },
        "id": "q5T98Sn8GAND",
        "outputId": "0fbc918c-e542-41bc-b5ab-281121cc685f"
      },
      "execution_count": null,
      "outputs": [
        {
          "output_type": "stream",
          "name": "stdout",
          "text": [
            "[-0.06418956502391812, 0.19813104905996218, 0.3477583713427523, 0.3653354099454889]\n"
          ]
        },
        {
          "output_type": "execute_result",
          "data": {
            "text/plain": [
              "array([-0.06418957,  0.19813105,  0.34775837,  0.36533541])"
            ]
          },
          "metadata": {},
          "execution_count": 12
        }
      ]
    },
    {
      "cell_type": "markdown",
      "source": [
        "**Sobre a velocidade de convergência**\n",
        "\n",
        "Observe que precisamos de $n=$"
      ],
      "metadata": {
        "id": "NSsLSJ3VGsAC"
      }
    },
    {
      "cell_type": "code",
      "source": [
        "print(int(1/0.001))"
      ],
      "metadata": {
        "colab": {
          "base_uri": "https://localhost:8080/"
        },
        "id": "Yj7S4Dl9GYJb",
        "outputId": "e465c54f-10bc-4533-b0bc-dd6dd56baf10"
      },
      "execution_count": null,
      "outputs": [
        {
          "output_type": "stream",
          "name": "stdout",
          "text": [
            "1000\n"
          ]
        }
      ]
    },
    {
      "cell_type": "markdown",
      "source": [
        "Iterações do método de Euler para obermos ama solução da Equação $(2)$.\n",
        "\n",
        "Vamos tentar obter uma solução com menos iterações. Para isso, vamos deixar de seguir exatamente a curva olução da Equação $(2)$ e focarmos no problema $(3)$, mas seguindo a direção de maior decrescimento de $g(u)$.\n",
        "\n",
        "Vamos supor que $u_0$ está próximo de um ponto de mínimo local de $g(u)$ e utilizar o método de Euler da forma $$\\begin{cases}u_0&=&\\text{escolha inicial}\\\\\\\\h_i&=&\\displaystyle \\frac{\\langle \\nabla g(u_i),\\nabla g(u_i))}{\\langle Hg(u_i)\\nabla g(u_i)),\\nabla g(u_i))\\rangle}\\\\\\\\u_{i+1}&=&u_i-h_i\\nabla g(u_i),\\end{cases},$$ em que $h_i$ varia em cada passo.\n",
        "\n",
        "Para escolhermos esse passo bascamos minimizar $$g(u_{i+1})=g(u_i-h\\nabla g(u_i)),$$ visto como função de $h$, porque $u_i$ e $\\nabla g(u_i)$ são conhecidos, na iteração $i$.\n",
        "\n",
        "Derivando em relação a $h$ e usando a regra da cadeia, temos que, no ponto de mínimo, nessa direção, vale a igualdade $$0=\\frac{dg(u_{i+1})}{dh}=\\langle \\nabla g(u_i-h\\nabla g(u_i)),-\\nabla g(u_i))\\rangle.\\tag{4}$$\n",
        "\n",
        "Usando agora o [polinômio de Taylor de ordem 1](https://en.wikipedia.org/wiki/Taylor%27s_theorem#Generalizations_of_Taylor's_theorem), para $\\nabla g(v)$, como\n",
        "$$\\nabla g(v+k)\\approx \\nabla g(v)+Hg(v)k,$$ em que $Hg(v)$ é a matriz hessiana (ou derivada segunda) de $g(u)$.\n",
        "\n",
        "Tomando $v=u_i$ e $k=-h\\nabla g(u_i))$ reescrevemos a Equação $(4)$ como\n",
        "$$0=\\frac{dg(u_{i+1})}{dh}\\approx\\langle \\nabla g(u_i)-hHg(u_i)\\nabla g(u_i)),-\\nabla g(u_i))\\rangle=-\\langle \\nabla g(u_i),\\nabla g(u_i))\\rangle +\\langle Hg(u_i)\\nabla g(u_i)),\\nabla g(u_i))\\rangle.\\tag{4*}$$\n",
        "\n",
        "Isso nos diz que $$h_i\\approx \\frac{\\langle \\nabla g(u_i),\\nabla g(u_i))}{\\langle Hg(u_i)\\nabla g(u_i)),\\nabla g(u_i))\\rangle},$$ e que $h_i>0$ quando $u_i$ não for ponto de mínimo, mas estiver suficentemente próximo de um.\n",
        "\n"
      ],
      "metadata": {
        "id": "l-0wNYpo1cKZ"
      }
    },
    {
      "cell_type": "markdown",
      "source": [
        "Note que agora vale $$Hg(u)=A^TA.$$\n",
        "\n",
        "Resolvemos novamente a Equação $(2)$ usando esse controle no tamanho do passo $h$, iniciando como o mesmo $u_0=(-4,-4,0,0)$."
      ],
      "metadata": {
        "id": "0cRpgArZGbai"
      }
    },
    {
      "cell_type": "code",
      "source": [
        "def Hg(u):\n",
        "  return np.dot(np.transpose(A),A)\n",
        "\n",
        "def Eulerac(u0,n):                                                # Nesse caso definimos o número de iterações\n",
        "  u=[]\n",
        "  ye=[]\n",
        "  xe=[]\n",
        "  u.append(u0)                                    # Condição inicial\n",
        "  ye.append(u[0][1])\n",
        "  xe.append(u[0][0])\n",
        "  fu=[]\n",
        "  fu.append(g(u[0]))\n",
        "  h=[]\n",
        "\n",
        "  for i in range(1,n+1):\n",
        "      v=Gradg(u[i-1])\n",
        "      hi=(np.dot(v,v))/(np.dot(np.dot(Hg(u[i-1]),v),v))\n",
        "      h.append(hi)\n",
        "      u.append(u[i-1]-hi*v)  # u_(i+1)=u_i+hf(t_0+ih,u_i) método de Euler\n",
        "      fu.append(g(u[i]))\n",
        "  h.append(0)\n",
        "\n",
        "  print(f'Solucao aproximada u={u[n]}')\n",
        "  print(f'Gradiente no ponto aproximado Gradg(u)={Gradg(u[n])}')\n",
        "  print(f'Valor aproximado de F(u)={F(u[n])}')\n",
        "  print(f'Valor aproximado de g(u)={g(u[n])}')\n",
        "    # Criando a figura e projeção em 3D\n",
        "  Figure = plt.figure(figsize=(8,6), dpi=80) # criando gráficos\n",
        "  lines_plotted = plt.plot([])\n",
        "\n",
        "  line_plotted = lines_plotted[0]\n",
        "\n",
        "\n",
        "  plt.plot(np.linspace(0,n,n+1),fu,color='red',label='g(u(t))=g(x(t),y(t)) por Euler')\n",
        "  plt.ylabel('g(u(t))')\n",
        "  plt.xlabel('n')\n",
        "  plt.legend()\n",
        "  plt.title('Aproximação de solução por aceleração do método de Euler')\n",
        "  plt.show()"
      ],
      "metadata": {
        "id": "1kogZLVOB2uJ"
      },
      "execution_count": null,
      "outputs": []
    },
    {
      "cell_type": "markdown",
      "source": [
        "Vejamos graficamente o comportamento da trajetória das aproximações:"
      ],
      "metadata": {
        "id": "mLWOSXc6Cr9o"
      }
    },
    {
      "cell_type": "code",
      "source": [
        "Eulerac([-4,4,0,0],80)"
      ],
      "metadata": {
        "colab": {
          "base_uri": "https://localhost:8080/",
          "height": 520
        },
        "id": "kRHuunaJCsjC",
        "outputId": "44945aa9-41b8-4fdd-892f-19d4563b9ffc"
      },
      "execution_count": null,
      "outputs": [
        {
          "output_type": "stream",
          "name": "stdout",
          "text": [
            "Solucao aproximada u=[-0.06418957  0.19813105  0.34775837  0.36533541]\n",
            "Gradiente no ponto aproximado Gradg(u)=[-2.69761991e-12  7.23310301e-13  3.75288689e-12  1.88571381e-12]\n",
            "Valor aproximado de F(u)=[-2.33257857e-13  3.10862447e-14  2.80664381e-13 -2.27373675e-13]\n",
            "Valor aproximado de g(u)=9.292343275922572e-26\n"
          ]
        },
        {
          "output_type": "display_data",
          "data": {
            "text/plain": [
              "<Figure size 640x480 with 1 Axes>"
            ],
            "image/png": "[encoded data removed]"
          },
          "metadata": {}
        }
      ]
    }
  ],
  "metadata": {
    "colab": {
      "provenance": [],
      "authorship_tag": "ABX9TyPNx4zHOH3hn+ViOusPVvbc",
      "include_colab_link": true
    },
    "kernelspec": {
      "display_name": "Python 3",
      "name": "python3"
    },
    "language_info": {
      "name": "python"
    }
  },
  "nbformat": 4,
  "nbformat_minor": 0
}