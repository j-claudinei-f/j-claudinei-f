{
  "nbformat": 4,
  "nbformat_minor": 0,
  "metadata": {
    "colab": {
      "provenance": [],
      "authorship_tag": "ABX9TyMQ7SBtc2IxWgFSQ47CN2rU",
      "include_colab_link": true
    },
    "kernelspec": {
      "name": "python3",
      "display_name": "Python 3"
    },
    "language_info": {
      "name": "python"
    }
  },
  "cells": [
    {
      "cell_type": "markdown",
      "metadata": {
        "id": "view-in-github",
        "colab_type": "text"
      },
      "source": [
        "<a href=\"https://colab.research.google.com/github/j-claudinei-f/j-claudinei-f/blob/main/Exemplo_Fabio.ipynb\" target=\"_parent\"><img src=\"https://colab.research.google.com/assets/colab-badge.svg\" alt=\"Open In Colab\"/></a>"
      ]
    },
    {
      "cell_type": "markdown",
      "source": [
        "#**Exemplo do texto de TCC do Fábio**"
      ],
      "metadata": {
        "id": "RKwvAlL7yyLh"
      }
    },
    {
      "cell_type": "markdown",
      "source": [
        "A ideai é escrever um programa que receba 2 valores do tipo inteiro $x$ e $y$, e calcule o valor de $z$:\n",
        "$$z = \\frac{ x^2 + y^2  }{(𝑥−𝑦)^2}.$$\n",
        "\n"
      ],
      "metadata": {
        "id": "KTp0Ikity43Y"
      }
    },
    {
      "cell_type": "code",
      "execution_count": 4,
      "metadata": {
        "id": "ZYK7koYayugK"
      },
      "outputs": [],
      "source": [
        "def z(x,y):                   # def é palavra reservada para definir funções.\n",
        "  p=(x**2+y**2)/(x-y)**2\n",
        "  return p                    # return é palavra reservada para o que será impresso como retorno da função."
      ]
    },
    {
      "cell_type": "markdown",
      "source": [
        "Tomando, por exemplo, $x=9$ e $y=8$, temos:"
      ],
      "metadata": {
        "id": "qzoG386CzzfZ"
      }
    },
    {
      "cell_type": "code",
      "source": [
        "z(9,8)"
      ],
      "metadata": {
        "colab": {
          "base_uri": "https://localhost:8080/"
        },
        "id": "ENv-6G-o0D92",
        "outputId": "a92e22ac-1f5d-4c2e-ff45-e42aec615856"
      },
      "execution_count": 5,
      "outputs": [
        {
          "output_type": "execute_result",
          "data": {
            "text/plain": [
              "145.0"
            ]
          },
          "metadata": {},
          "execution_count": 5
        }
      ]
    },
    {
      "cell_type": "markdown",
      "source": [
        "**Obs:** Clicando na barra \"Arquivo\" e escolhendo \"Salvar uma cópia no GitHub\" você tem uma versão que o leitor pode olhar, e gerar uma cópia editável no Colab, como essa desse [link](https://github.com/j-claudinei-f/j-claudinei-f/blob/main/Exemplo_Fabio.ipynb)."
      ],
      "metadata": {
        "id": "h1OP3N1V0kSc"
      }
    }
  ]
}