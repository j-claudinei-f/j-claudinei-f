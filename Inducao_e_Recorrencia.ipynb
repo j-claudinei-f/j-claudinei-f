{
  "nbformat": 4,
  "nbformat_minor": 0,
  "metadata": {
    "colab": {
      "provenance": [],
      "authorship_tag": "ABX9TyOObxjDGZYpHN/Y8GseRQx3",
      "include_colab_link": true
    },
    "kernelspec": {
      "name": "python3",
      "display_name": "Python 3"
    },
    "language_info": {
      "name": "python"
    }
  },
  "cells": [
    {
      "cell_type": "markdown",
      "metadata": {
        "id": "view-in-github",
        "colab_type": "text"
      },
      "source": [
        "<a href=\"https://colab.research.google.com/github/j-claudinei-f/j-claudinei-f/blob/main/Inducao_e_Recorrencia.ipynb\" target=\"_parent\"><img src=\"https://colab.research.google.com/assets/colab-badge.svg\" alt=\"Open In Colab\"/></a>"
      ]
    },
    {
      "cell_type": "markdown",
      "source": [
        "#**Texto auxiliar sobre demonstrações por indução e relações de recorrência**\n",
        "\n",
        "José Claudinei Ferreira\n",
        "\n",
        "Universidade Federal de Alfenas"
      ],
      "metadata": {
        "id": "Ty_liW81q9_y"
      }
    },
    {
      "cell_type": "markdown",
      "source": [
        "#**Uma infinidade de números primos**\n",
        "\n"
      ],
      "metadata": {
        "id": "axd_5fuZrPrZ"
      }
    },
    {
      "cell_type": "markdown",
      "source": [
        "Um número natural positivo que não pode ser escrito como produto de dois outros números naturais menores que ele é chamado de número primo."
      ],
      "metadata": {
        "id": "4wGnWe4VTuQs"
      }
    },
    {
      "cell_type": "markdown",
      "source": [
        "**Teorema:** Existem infinitos números primos."
      ],
      "metadata": {
        "id": "9c39tMzbTpP3"
      }
    },
    {
      "cell_type": "markdown",
      "source": [
        "**Demonstração:** Sabemos que um número natural $n$ é primo quando ele é divisível apenas por 1 e por ele mesmo.\n",
        "\n",
        "Suponha que o teorema seja falso. Isso implicaria que o conjunto $P$ de todos os números primos seria finito, ou seja, teria $p$ elementos, sendo $p$ um número natural.\n",
        "\n",
        "Então, poderíamos enumerar esses elementos de $P$ como $$P=\\{n_1,\\,n_2,\\,\\ldots,\\, n_p\\}.$$\n",
        "\n",
        "Se esse fosse o caso, o número natural $$n_{p+1}=n_1\\times n_2\\times\\cdots\\times n_p+1$$ <font color=blue> não seria divisivel por nenhum $n_j\\in P$ e, portanto, seria primo.\n",
        "\n",
        "Isso geraria um problema, porque supomos que existiam apenas $p$ números primos e não $p+1$.\n",
        "\n",
        "Logo, $P$ não pode ser finito.$\\hspace{4cm}\\square$"
      ],
      "metadata": {
        "id": "ewRmu-VKrdBs"
      }
    },
    {
      "cell_type": "markdown",
      "source": [
        "**Obs:** Não é sempre verdade que o número $n_{p+1}$ da demonstração é primo. Seria verdade se $P$ fosse finito, o que não é o caso. Mas se você testar alguns casos pode encontrar primos."
      ],
      "metadata": {
        "id": "NpfI3cattPdm"
      }
    },
    {
      "cell_type": "code",
      "execution_count": null,
      "metadata": {
        "id": "jcNEtJQXq4UZ"
      },
      "outputs": [],
      "source": [
        "import sympy as sp # para usar a função isprime() que testa se um número é primo."
      ]
    },
    {
      "cell_type": "markdown",
      "source": [
        "Testendo alguns casos:"
      ],
      "metadata": {
        "id": "WFmQzGxxt2kp"
      }
    },
    {
      "cell_type": "code",
      "source": [
        "p=2*3+1\n",
        "p,sp.isprime(p)"
      ],
      "metadata": {
        "colab": {
          "base_uri": "https://localhost:8080/"
        },
        "id": "pUiDAeucuHW0",
        "outputId": "a1985c03-5e84-4d6c-da1b-296ed6bee6a6"
      },
      "execution_count": null,
      "outputs": [
        {
          "output_type": "execute_result",
          "data": {
            "text/plain": [
              "(7, True)"
            ]
          },
          "metadata": {},
          "execution_count": 3
        }
      ]
    },
    {
      "cell_type": "code",
      "source": [
        "p=2*3*5+1\n",
        "p,sp.isprime(p)"
      ],
      "metadata": {
        "colab": {
          "base_uri": "https://localhost:8080/"
        },
        "id": "n4k37ymtuNAZ",
        "outputId": "9e894d83-51b9-48b4-bfcf-911852c7d445"
      },
      "execution_count": null,
      "outputs": [
        {
          "output_type": "execute_result",
          "data": {
            "text/plain": [
              "(31, True)"
            ]
          },
          "metadata": {},
          "execution_count": 4
        }
      ]
    },
    {
      "cell_type": "code",
      "source": [
        "p=2*3*5*7+1\n",
        "p,sp.isprime(p)"
      ],
      "metadata": {
        "colab": {
          "base_uri": "https://localhost:8080/"
        },
        "id": "OEa7_agiuP2e",
        "outputId": "82153656-79fa-46f6-e340-9ae9aeaffe67"
      },
      "execution_count": null,
      "outputs": [
        {
          "output_type": "execute_result",
          "data": {
            "text/plain": [
              "(211, True)"
            ]
          },
          "metadata": {},
          "execution_count": 5
        }
      ]
    },
    {
      "cell_type": "code",
      "source": [
        "p=2*3*5*7*11+1\n",
        "p,sp.isprime(p)"
      ],
      "metadata": {
        "colab": {
          "base_uri": "https://localhost:8080/"
        },
        "id": "ULJDKDQtt_Zt",
        "outputId": "306a56a4-36c9-4158-cef2-386b4513729e"
      },
      "execution_count": null,
      "outputs": [
        {
          "output_type": "execute_result",
          "data": {
            "text/plain": [
              "(2311, True)"
            ]
          },
          "metadata": {},
          "execution_count": 2
        }
      ]
    },
    {
      "cell_type": "code",
      "source": [
        "p=2*3*5*7*11*13+1\n",
        "p,sp.isprime(p)"
      ],
      "metadata": {
        "colab": {
          "base_uri": "https://localhost:8080/"
        },
        "id": "69ESuuZsuT1a",
        "outputId": "c307d49c-8ade-4527-8561-86321336cf19"
      },
      "execution_count": null,
      "outputs": [
        {
          "output_type": "execute_result",
          "data": {
            "text/plain": [
              "(30031, False)"
            ]
          },
          "metadata": {},
          "execution_count": 6
        }
      ]
    },
    {
      "cell_type": "markdown",
      "source": [
        "**Obs:** <font color=blue> Na verdade, na demonstração anterior apresentada usamos um resultado que podemos provar."
      ],
      "metadata": {
        "id": "Mb_lQWsbut7W"
      }
    },
    {
      "cell_type": "markdown",
      "source": [
        "**Teorema 2:**\n",
        "\n",
        "Um número natural $n$ ou é primo ou é o produto $n=n_1\\times n_2$, sendo $n_1$ um número primo."
      ],
      "metadata": {
        "id": "AIQCDRtHu_Sz"
      }
    },
    {
      "cell_type": "markdown",
      "source": [
        "**Demonstração:** <font color=blue> Feito em sala."
      ],
      "metadata": {
        "id": "GQiAuRfNvMVJ"
      }
    },
    {
      "cell_type": "markdown",
      "source": [
        "**Corolário:** Um número natural $n$ ou é primo ou é o produto de números primos."
      ],
      "metadata": {
        "id": "hVl6A9ZameTr"
      }
    },
    {
      "cell_type": "markdown",
      "source": [
        "**Demonstração:** <font color=blue> Feito em sala."
      ],
      "metadata": {
        "id": "ypEa1IJ1mqSK"
      }
    },
    {
      "cell_type": "markdown",
      "source": [
        "**Corolário:** Um número natural $n$ ou é primo ou é o produto  $n=n_1\\times n_2$, com $n_1$ primo e $1<n_1\\leq \\sqrt{n}$."
      ],
      "metadata": {
        "id": "_RX_xJo5muLB"
      }
    },
    {
      "cell_type": "markdown",
      "source": [
        "**Demonstração:** <font color=blue> Feito em sala, mas repito aqui. Do teorema temos que $n=n_1\\times n_2$. Se $n_1>\\sqrt{n}$ e $n_2>\\sqrt{n}$, então $n_1\\times n_2>\\sqrt{n}\\times \\sqrt{n}=n$, o que não pode ocorrer.<br><br>\n",
        "Logo, $n_1$ ou $n_2$ tem que ser menor ou igual a $\\sqrt{n}$; e podemos escolher esse número menor primo.$\\hspace{2cm}\\square$"
      ],
      "metadata": {
        "id": "M6u6EDaNmrnd"
      }
    },
    {
      "cell_type": "markdown",
      "source": [
        "Esses resultados nos permitem verificar se um número é primo ou determinar seus fatores, como o algoritmo que segue:"
      ],
      "metadata": {
        "id": "FBWpiqj8nG9U"
      }
    },
    {
      "cell_type": "code",
      "source": [
        "import math\n",
        "\n",
        "def Fatores_primos(n):     # Só funciona para números naturais maiores que 1.\n",
        "    while n % 2 == 0:      # imprime o número de vezes que 2 divide n.\n",
        "        print(2)\n",
        "        n = n // 2         # troca n por n/2 (divisão inteira)\n",
        "\n",
        "    i=3\n",
        "    while i*i<=n:          # testando números ímpares.\n",
        "         while n % i== 0:  # imprime o número de vezes que i divide n.\n",
        "            print(i)\n",
        "            n = n // i     # troca n por n/i (divisão inteira)\n",
        "         i=i+2\n",
        "\n",
        "    if n > 2:\n",
        "        print(n) # Se não hove divisão de $n$ ele é primo"
      ],
      "metadata": {
        "id": "QN7KD0Bvn4Xp"
      },
      "execution_count": null,
      "outputs": []
    },
    {
      "cell_type": "markdown",
      "source": [
        "**Obs:** Note que, caso prefira (ou possa) usar o cálculo de $\\sqrt{n}$, você pode trocar o\n",
        "\n",
        "```\n",
        "while i*i<=n:\n",
        "```\n",
        "por\n",
        "\n",
        "```\n",
        "for i in range(3,int(math.sqrt(n))+1,2):\n",
        "```"
      ],
      "metadata": {
        "id": "NRnmZn-Hsf5Y"
      }
    },
    {
      "cell_type": "markdown",
      "source": [
        "**Obs:** Uma curiosidade sobre o cálculo de $\\sqrt{x}$ no [link](https://en.wikipedia.org/wiki/Fast_inverse_square_root)."
      ],
      "metadata": {
        "id": "anpdmxwNyTcf"
      }
    },
    {
      "cell_type": "markdown",
      "source": [
        "Teste com $n=2\\times3\\times5\\times7\\times11\\times13+1=30031$ que já testamos não ser primo.\n",
        "\n"
      ],
      "metadata": {
        "id": "imfblxmDpha7"
      }
    },
    {
      "cell_type": "code",
      "source": [
        "p=2*3*5*7*11*13+1\n",
        "Fatores_primos(p)"
      ],
      "metadata": {
        "colab": {
          "base_uri": "https://localhost:8080/"
        },
        "id": "gaei1DDNp2eg",
        "outputId": "23346c10-4768-4811-af41-e8f20c792e53"
      },
      "execution_count": null,
      "outputs": [
        {
          "output_type": "stream",
          "name": "stdout",
          "text": [
            "59\n",
            "509\n"
          ]
        }
      ]
    },
    {
      "cell_type": "markdown",
      "source": [
        "**Obs:** <font color=blue> Note que $30031=59\\times 509$ é produto de dois números primos, um menor e outro maior que sua raiz quadrada.\n",
        "\n",
        "<font color=red> Isso nos diz que pode ocorrer um fator primo maior que a raiz quadrada, mas só pode ocorrer um."
      ],
      "metadata": {
        "id": "su40d0AOX87K"
      }
    },
    {
      "cell_type": "markdown",
      "source": [
        "Vamos testar com outro número:"
      ],
      "metadata": {
        "id": "QPS8J36OqKKJ"
      }
    },
    {
      "cell_type": "code",
      "source": [
        "Fatores_primos(123456789)"
      ],
      "metadata": {
        "colab": {
          "base_uri": "https://localhost:8080/"
        },
        "id": "2dD1VDPyqNa0",
        "outputId": "f4dc2ba2-2a1c-446f-a9dd-019287e9c7a9"
      },
      "execution_count": null,
      "outputs": [
        {
          "output_type": "stream",
          "name": "stdout",
          "text": [
            "3\n",
            "3\n",
            "3607\n",
            "3803\n"
          ]
        }
      ]
    },
    {
      "cell_type": "markdown",
      "source": [
        "Quando esse algoritmo retornar apenas o número $n$ de entrada, esse número será primo."
      ],
      "metadata": {
        "id": "awIKB-EGYnbA"
      }
    },
    {
      "cell_type": "code",
      "source": [
        "Fatores_primos(2*3*5*7*11+1)"
      ],
      "metadata": {
        "colab": {
          "base_uri": "https://localhost:8080/"
        },
        "id": "pPrWdI4stsj8",
        "outputId": "22393498-04dc-4de8-b5dd-7ac08711b448"
      },
      "execution_count": null,
      "outputs": [
        {
          "output_type": "stream",
          "name": "stdout",
          "text": [
            "2311\n"
          ]
        }
      ]
    },
    {
      "cell_type": "markdown",
      "source": [],
      "metadata": {
        "id": "z28VpUV2Y8zP"
      }
    },
    {
      "cell_type": "markdown",
      "source": [
        "#**A torre de Hanói**\n",
        "\n",
        "No estudo da determinação do número mínimo de movimentos para mover os discos da [torre de Hanói](http://clubes.obmep.org.br/blog/torre-de-hanoi/) observamos que, se denotarmos por $p(n)$ o número mínimo de movimentos, para mover $n$ discos, com as **regras**:\n",
        "\n",
        "\n",
        "1.   Mover um disco de cada vez.\n",
        "2.   Não colocar disco maior sobre disco menor.\n",
        "\n",
        "Teremos\n",
        "$$p(1)=1,\\qquad p(n+1)=2p(n)+1.$$\n",
        "\n",
        "Como podemos determinar $p(6)$ e $p(10)$?\n",
        "\n",
        "\n",
        "\n"
      ],
      "metadata": {
        "id": "XwJR0BF1Z6ZT"
      }
    },
    {
      "cell_type": "markdown",
      "source": [
        "**Uma forma de resolver o problema, com o uso de um computador e programação:**\n",
        "\n",
        "Podemos usar uma linguagem de programação (ou uma calculadora programável) para calcular $p(n)$. Nesse caso, vamos usar a linguagem Phyton."
      ],
      "metadata": {
        "id": "NBtdDsgwcNSG"
      }
    },
    {
      "cell_type": "code",
      "execution_count": null,
      "metadata": {
        "id": "VvvWObyxYy82"
      },
      "outputs": [],
      "source": [
        "def p(n):         # O comando def é usado para definir funções das mais variadas.\n",
        "\n",
        "   if (n==1):     # Se n=1, retorne p(1)=1\n",
        "     q=1\n",
        "\n",
        "   else:          # Senão, ou seja, se p for diferente de 1, retorne 2p(n-1)+1.\n",
        "     q=2*p(n-1)+1 # Aqui a função é chamada outra vez, para m=n-1, e outra vez, para m=n-2, ..., até chegar em m=1.\n",
        "                  # Após todas as chamadas retorna a m=n-1 e m=n.\n",
        "\n",
        "   return q       # Essa é a saída."
      ]
    },
    {
      "cell_type": "markdown",
      "source": [
        "**Obs.** Note que a função não está bem definida para números menores que 1, ou para números que não sejam naturais."
      ],
      "metadata": {
        "id": "tP-suR4SeNkb"
      }
    },
    {
      "cell_type": "markdown",
      "source": [
        "Vamos testar, para $n=1$:"
      ],
      "metadata": {
        "id": "_NOIZ1hBdbSy"
      }
    },
    {
      "cell_type": "code",
      "source": [
        "p(1)"
      ],
      "metadata": {
        "colab": {
          "base_uri": "https://localhost:8080/"
        },
        "id": "4eVKEO9jdddW",
        "outputId": "67c67677-dd8c-4987-b2fd-f1064652b56d"
      },
      "execution_count": null,
      "outputs": [
        {
          "output_type": "execute_result",
          "data": {
            "text/plain": [
              "1"
            ]
          },
          "metadata": {},
          "execution_count": 6
        }
      ]
    },
    {
      "cell_type": "markdown",
      "source": [
        "Vamos testar, para $n=2$:"
      ],
      "metadata": {
        "id": "zcqEryopdkWx"
      }
    },
    {
      "cell_type": "code",
      "source": [
        "p(2)"
      ],
      "metadata": {
        "colab": {
          "base_uri": "https://localhost:8080/"
        },
        "id": "1opom-rQdmXB",
        "outputId": "2d185c22-a4e0-4a5f-8f99-7765950f4b0b"
      },
      "execution_count": null,
      "outputs": [
        {
          "output_type": "execute_result",
          "data": {
            "text/plain": [
              "3"
            ]
          },
          "metadata": {},
          "execution_count": 7
        }
      ]
    },
    {
      "cell_type": "markdown",
      "source": [
        "Vamos testar, para $n=3$:"
      ],
      "metadata": {
        "id": "sP-dncY3dw1i"
      }
    },
    {
      "cell_type": "code",
      "source": [
        "p(3)"
      ],
      "metadata": {
        "colab": {
          "base_uri": "https://localhost:8080/"
        },
        "id": "lN4rCDqWdyxD",
        "outputId": "6e30cdde-560f-4ab6-b6e9-2bd9fb043b99"
      },
      "execution_count": null,
      "outputs": [
        {
          "output_type": "execute_result",
          "data": {
            "text/plain": [
              "7"
            ]
          },
          "metadata": {},
          "execution_count": 8
        }
      ]
    },
    {
      "cell_type": "markdown",
      "source": [
        "Para ver vários valores de $p(n)$ de uma vez, por exemplo, $p(i)$, para $1\\leq i\\leq 10$:"
      ],
      "metadata": {
        "id": "uOlt-EhYd2hR"
      }
    },
    {
      "cell_type": "code",
      "source": [
        "for i in range(1,10+1): # Para i variando de 1 até 10, escreva o par (i, p(i)).\n",
        "  print(i,p(i))"
      ],
      "metadata": {
        "colab": {
          "base_uri": "https://localhost:8080/"
        },
        "id": "AsLBiZDcec56",
        "outputId": "a33e7836-cc94-4a19-e070-dac926ead356"
      },
      "execution_count": null,
      "outputs": [
        {
          "output_type": "stream",
          "name": "stdout",
          "text": [
            "1 1\n",
            "2 3\n",
            "3 7\n",
            "4 15\n",
            "5 31\n",
            "6 63\n",
            "7 127\n",
            "8 255\n",
            "9 511\n",
            "10 1023\n"
          ]
        }
      ]
    },
    {
      "cell_type": "markdown",
      "source": [
        "**Obs.** Voce poderia fazer isso de outra forma, sem usar a definição da função $p(i)$. Começando a enumerar todos os $p(i)$, a partir do 1, como fazemos a seguir:"
      ],
      "metadata": {
        "id": "cZ8Zph7mf_Ep"
      }
    },
    {
      "cell_type": "code",
      "source": [
        "q=1                   # q=1 representa p(1)=1.\n",
        "print(1,q)\n",
        "\n",
        "for i in range(1,10): # Para i variando de 1 até 10, troque q por 2q+1, porque p(n)=2p(n-1)+1.\n",
        "  q=2*q+1\n",
        "  print(i+1,q)        # Escreva o par (i, 2p+1)."
      ],
      "metadata": {
        "colab": {
          "base_uri": "https://localhost:8080/"
        },
        "id": "2rw2XSxSgTwR",
        "outputId": "11bd69ba-8c8a-48eb-ca61-dfd8173fcffe"
      },
      "execution_count": null,
      "outputs": [
        {
          "output_type": "stream",
          "name": "stdout",
          "text": [
            "1 1\n",
            "2 3\n",
            "3 7\n",
            "4 15\n",
            "5 31\n",
            "6 63\n",
            "7 127\n",
            "8 255\n",
            "9 511\n",
            "10 1023\n"
          ]
        }
      ]
    },
    {
      "cell_type": "markdown",
      "source": [
        "Esse último procedimento é menos elegante, mas é muito mais rápido de ser executado."
      ],
      "metadata": {
        "id": "2iXjOXHhgyGB"
      }
    },
    {
      "cell_type": "markdown",
      "source": [
        "**Obs.** Observe ainda que podemos demonstrar, usando [indução finita](https://pt.wikipedia.org/wiki/Indu%C3%A7%C3%A3o_matem%C3%A1tica), que $$p(n)=2^n-1.$$ Isso facilita bastante na resolução do problema, embora uma calculadora ajude muito ainda."
      ],
      "metadata": {
        "id": "szdeGCXhcTtc"
      }
    },
    {
      "cell_type": "code",
      "source": [
        "for i in range(1,10+1): # Para i variando de 1 até 10.\n",
        "    print(i,2**i-1)        # Escreva o par (i, 2^i-1)."
      ],
      "metadata": {
        "colab": {
          "base_uri": "https://localhost:8080/"
        },
        "id": "cSH1u7QceY_g",
        "outputId": "0fde43d4-38e8-4282-c0d5-15c7a7e09139"
      },
      "execution_count": null,
      "outputs": [
        {
          "output_type": "stream",
          "name": "stdout",
          "text": [
            "1 1\n",
            "2 3\n",
            "3 7\n",
            "4 15\n",
            "5 31\n",
            "6 63\n",
            "7 127\n",
            "8 255\n",
            "9 511\n",
            "10 1023\n"
          ]
        }
      ]
    },
    {
      "cell_type": "markdown",
      "source": [
        "**Complicando um pouco mais a regra:**\n",
        "\n",
        "No estudo da determinação do número mínimo de movimentos para mover os discos da [torre de Hanói](http://clubes.obmep.org.br/blog/torre-de-hanoi/) observamos que, se denotarmos por $p(n)$ o número mínimo de movimentos, para mover $n$ discos, com as **regras**:\n",
        "\n",
        "\n",
        "1.   Mover um disco de cada vez.\n",
        "2.   Não colocar disco maior sobre disco menor.\n",
        "3.   Cada movimento de disco deve partir da haste central ou chegar nela.\n",
        "\n",
        "Teremos\n",
        "$$p(1)=2,\\qquad p(n+1)=?.$$\n",
        "\n",
        "Como podemos determinar $p(6)$ e $p(10)$?"
      ],
      "metadata": {
        "id": "K1I4z3sKZXIL"
      }
    },
    {
      "cell_type": "markdown",
      "source": [
        "#**A regra de Lapace para calcular determinantes**\n",
        "\n",
        "Há relações de recorrência que não podem ser escritas (de forma simples) por enumeração dos itens anteriores. Um exemplo disso é o cálculo de determinante de uma matriz, por meio da [regra de Laplace](https://pt.wikipedia.org/wiki/Teorema_de_Laplace):\n",
        "$$det(A)=\\sum_{j=1}^n(-1)^{j+1}a_{1j}det(A_{1,j}),$$ em que $A=[a_{ij}]$ é uma matriz $n\\times n$ e $A_{i,j}$ é uma matriz de ordem $(n-1)\\times (n-1)$, obtida retirando a linha $i$ e a coluna $j$ da matriz $A$. Nessa definição temos $1\\leq i,j\\leq n$.\n"
      ],
      "metadata": {
        "id": "bWXbv6oZ_IEt"
      }
    },
    {
      "cell_type": "code",
      "source": [
        "import numpy as np   # Pacote para manipular matrizes.\n",
        "\n",
        "def Cof(A,i,l):      # Determinação da matriz A_{i,l}.\n",
        "   n=np.size(A[0])\n",
        "   C=[]\n",
        "   for j in range(0,n):\n",
        "    B=[]\n",
        "    if j!=i:\n",
        "      for k in range(0,n):\n",
        "        if k!=l:\n",
        "          B.append(A[j][k])\n",
        "      C.append(B)\n",
        "   return C"
      ],
      "metadata": {
        "id": "1XipYDtoR5pt"
      },
      "execution_count": null,
      "outputs": []
    },
    {
      "cell_type": "code",
      "source": [
        "import pandas as pd   # Pacote para manipular tabelas.\n",
        "\n",
        "A=np.array([[0,1,-4,7,6],[3,3,1,2,-9],[1,4,2,6,3],[1,5,9,8,7],[3,-2,-4,7,5.0]])\n",
        "                      # Foi colocado 5.0 no último número para dizer à máquina\n",
        "                      # que os números são reais e não inteiros.\n",
        "\n",
        "print('Matriz A=\\n',pd.DataFrame(A))\n",
        "print('\\n A matriz menor 1,2 é\\n',pd.DataFrame(Cof(A,1,0)))"
      ],
      "metadata": {
        "colab": {
          "base_uri": "https://localhost:8080/"
        },
        "id": "fIsT4cRSNaaD",
        "outputId": "d917f685-3dc5-40ec-8d25-257f7a030944"
      },
      "execution_count": null,
      "outputs": [
        {
          "output_type": "stream",
          "name": "stdout",
          "text": [
            "Matriz A=\n",
            "      0    1    2    3    4\n",
            "0  0.0  1.0 -4.0  7.0  6.0\n",
            "1  3.0  3.0  1.0  2.0 -9.0\n",
            "2  1.0  4.0  2.0  6.0  3.0\n",
            "3  1.0  5.0  9.0  8.0  7.0\n",
            "4  3.0 -2.0 -4.0  7.0  5.0\n",
            "\n",
            " A matriz menor 1,2 é\n",
            "      0    1    2    3\n",
            "0  1.0 -4.0  7.0  6.0\n",
            "1  4.0  2.0  6.0  3.0\n",
            "2  5.0  9.0  8.0  7.0\n",
            "3 -2.0 -4.0  7.0  5.0\n"
          ]
        }
      ]
    },
    {
      "cell_type": "code",
      "source": [
        "def detLaplace(A):     # Cálculo de determinante por regra de Laplace.\n",
        "  n=np.size(A[0])\n",
        "  if n==1:\n",
        "    p=A[0][0]\n",
        "  else:\n",
        "    p=0\n",
        "    for i in range(0,n):\n",
        "      p=p+(-1)**((i+1)+1)*A[0][i]*detLaplace(Cof(A,0,i)) # O índice aqui começa no 0.\n",
        "  return p"
      ],
      "metadata": {
        "id": "gabprIi5M7wk"
      },
      "execution_count": null,
      "outputs": []
    },
    {
      "cell_type": "code",
      "source": [
        "detLaplace(A)"
      ],
      "metadata": {
        "colab": {
          "base_uri": "https://localhost:8080/"
        },
        "id": "sSTAeluOSgp3",
        "outputId": "76a5a4d4-a923-4269-8aa2-03c88d3164ac"
      },
      "execution_count": null,
      "outputs": [
        {
          "output_type": "execute_result",
          "data": {
            "text/plain": [
              "-3318.0"
            ]
          },
          "metadata": {},
          "execution_count": 14
        }
      ]
    },
    {
      "cell_type": "markdown",
      "source": [
        "O cálculo de terminante é muito usado, e por isso tem pacote pronto. Note que o pacote gera arredondamentos."
      ],
      "metadata": {
        "id": "z2Lhvqg1hohO"
      }
    },
    {
      "cell_type": "code",
      "source": [
        "np.linalg.det(A)"
      ],
      "metadata": {
        "colab": {
          "base_uri": "https://localhost:8080/"
        },
        "id": "naipzh03ZbHh",
        "outputId": "ee11e489-384d-4620-caf9-7f2627f79d0a"
      },
      "execution_count": null,
      "outputs": [
        {
          "output_type": "execute_result",
          "data": {
            "text/plain": [
              "-3318.000000000002"
            ]
          },
          "metadata": {},
          "execution_count": 15
        }
      ]
    },
    {
      "cell_type": "markdown",
      "source": [
        "**Da dificuldade de usar a regra de Laplace**\n",
        "\n",
        "Podemos dizer que, se $p(n)$ denota o número de cálculos na determinação do determinante de uma matriz $n\\times n$, por esta regra de Laplace, então\n",
        "$$p(n)\\geq n\\times p(n-1)+3n,\\qquad n\\geq 2,\\qquad p(1)=1,$$ porque precisamos calcular $n$ determinantes, com $p(n-1)$ cálculos cada, e multiplicar esses valores por $(-1)^{1+j}a_{1j}$, o que totaliza $3n$ cálculos (pelo menos)."
      ],
      "metadata": {
        "id": "B0Ny0u_Qbg9i"
      }
    },
    {
      "cell_type": "markdown",
      "source": [
        "Então,\n",
        "$$\\begin{cases}p(n)&\\geq &np(n-1)+3n\\\\\\\\&\\geq&n((n-1)p(n-2)+3(n-1))+3n\\\\\\\\\\vdots&\\vdots&\\vdots\\\\\\\\&\\geq& n(n-1)\\cdots2p(1)+3(n+(n-1)+\\cdots+2)\\\\\\\\&=&n!+3\\left(\\frac{n(n+1)}{2}-1\\right)\\end{cases}$$"
      ],
      "metadata": {
        "id": "c6UUk4bOyp7l"
      }
    },
    {
      "cell_type": "markdown",
      "source": [
        "Nesse argumento não fica claro o problema de armazenamento de todos determinantes necessários no cálculo, o que pode levar a problemas de memória por causa de [pilhas](https://algoritmosempython.com.br/cursos/algoritmos-python/estruturas-dados/pilhas/)."
      ],
      "metadata": {
        "id": "ZUelNaI5jDeu"
      }
    },
    {
      "cell_type": "markdown",
      "source": [
        "**A matriz inversa, se existir:**\n",
        "\n",
        "Conceitualmente o cálculo de determinante é útil na determinação da [matriz inversa](https://pt.wikipedia.org/wiki/Matriz_inversa) de $A$, dada por\n",
        "$$A^{-1}=\\frac{1}{det(A)}\\begin{bmatrix}C_{1,1}&C_{1,2}&\\cdots&C_{1,n}\\\\C_{2,1}&C_{2,2}&\\cdots&C_{2,n}\\\\\\vdots&\\vdots&\\ddots&\\vdots\\\\C_{n,1}&C_{n,2}&\\cdots&C_{n,n}\\end{bmatrix}^t,$$ em que $C_{i,j}=(-1)^{i+j}det(A_{i,j})$.\n",
        "\n",
        "Entretanto, esse método de determinar $A^{-1}$ é bastante caro computacionalmente, quando usamos regra de Lapalace. Podemos dizer que o custo computacional $c(n)$ satisfaz $$c(n)\\geq n\\times p(n-1)+3n+n^2((n-1)p(n-2)+3(n-1)),$$ porque precisamos calcular um determinante de uma matriz $n\\times n$ e $n^2$ determinantes de matrizes $(n-1)\\times (n-1)$, pelo menos."
      ],
      "metadata": {
        "id": "BCKX3bYKNgGS"
      }
    },
    {
      "cell_type": "code",
      "source": [
        "def Mult_inv(A): # Gera uma matriz p*A^(-1), em que p=det(A).\n",
        "  n=np.size(A[0])\n",
        "  B=[]\n",
        "  for i in range(0,n):\n",
        "    C=[]\n",
        "    for j in range(0,n):\n",
        "      C.append((-1)**(i+j+2)*detLaplace(Cof(A,j,i))) # Na expressão tem um transposto.\n",
        "    B.append(C)\n",
        "  return np.array(B)\n"
      ],
      "metadata": {
        "id": "YBZI11ERPShI"
      },
      "execution_count": null,
      "outputs": []
    },
    {
      "cell_type": "markdown",
      "source": [
        "Testando o nosso código, observamos que a matriz $B$ obtida é tal que $B\\times A$ tem diagonal igual a $det(A)$."
      ],
      "metadata": {
        "id": "wK0BGy07Rkuh"
      }
    },
    {
      "cell_type": "code",
      "source": [
        "Mult_inv(A)@A      # @ denota produto de matrizes. O * faz multiplicação coordenada a coordenada."
      ],
      "metadata": {
        "colab": {
          "base_uri": "https://localhost:8080/"
        },
        "id": "4WOB0X5BQTPB",
        "outputId": "32b050ce-0b79-4cce-f757-5379c086a596"
      },
      "execution_count": null,
      "outputs": [
        {
          "output_type": "execute_result",
          "data": {
            "text/plain": [
              "array([[-3318.,     0.,     0.,     0.,     0.],\n",
              "       [    0., -3318.,     0.,     0.,     0.],\n",
              "       [    0.,     0., -3318.,     0.,     0.],\n",
              "       [    0.,     0.,     0., -3318.,     0.],\n",
              "       [    0.,     0.,     0.,     0., -3318.]])"
            ]
          },
          "metadata": {},
          "execution_count": 17
        }
      ]
    },
    {
      "cell_type": "markdown",
      "source": [
        "**Problema 1:** Usando a exepressão envolvendo $c(n)$ acima. Determine uma aproximação, por baixo, para $c(10)$, $c(20)$ e $c(100)$."
      ],
      "metadata": {
        "id": "QyIYZ_tY3sdk"
      }
    },
    {
      "cell_type": "markdown",
      "source": [
        "**O escalonamento é mais barato**\n",
        "\n",
        "É por isso que o processo de [eliminação de Gauss](https://pt.wikipedia.org/wiki/Elimina%C3%A7%C3%A3o_de_Gauss) é preferido para cálculo de determinantes, por exemplo. Esse processo de eliminação pode ser visto como recorrente, ou seja, a eliminação de uma coluna depende a eliminação da coluna anterior."
      ],
      "metadata": {
        "id": "PrmBns5pNAsJ"
      }
    },
    {
      "cell_type": "code",
      "source": [
        "import copy\n",
        "\n",
        "def busca_pivo(B):\n",
        "    A=copy.deepcopy(B)\n",
        "    i=0\n",
        "    while abs(A[i,0])<10**(-15): # Precisa tocar linha para eliminação.\n",
        "      i=i+1\n",
        "    p=copy.deepcopy(A[i])\n",
        "    A[i]=-copy.deepcopy(A[0])     # Isso é para manter o sinal do determinante.\n",
        "    A[0]=p\n",
        "    return A"
      ],
      "metadata": {
        "id": "I6SePr1cX5hD"
      },
      "execution_count": null,
      "outputs": []
    },
    {
      "cell_type": "code",
      "source": [
        "print('A=\\n',A,'\\n\\n A com linhas trocadas\\n',busca_pivo(A))"
      ],
      "metadata": {
        "colab": {
          "base_uri": "https://localhost:8080/"
        },
        "id": "ORk_SIvkndK9",
        "outputId": "0dfebf2b-be1c-46ec-c641-07679226a79f"
      },
      "execution_count": null,
      "outputs": [
        {
          "output_type": "stream",
          "name": "stdout",
          "text": [
            "A=\n",
            " [[ 0.  1. -4.  7.  6.]\n",
            " [ 3.  3.  1.  2. -9.]\n",
            " [ 1.  4.  2.  6.  3.]\n",
            " [ 1.  5.  9.  8.  7.]\n",
            " [ 3. -2. -4.  7.  5.]] \n",
            "\n",
            " A com linhas trocadas\n",
            " [[ 3.  3.  1.  2. -9.]\n",
            " [-0. -1.  4. -7. -6.]\n",
            " [ 1.  4.  2.  6.  3.]\n",
            " [ 1.  5.  9.  8.  7.]\n",
            " [ 3. -2. -4.  7.  5.]]\n"
          ]
        }
      ]
    },
    {
      "cell_type": "code",
      "source": [
        "def Gauss_Elim(B):\n",
        "  A=copy.deepcopy(B)                    # Para não alterar a matriz A no processo.\n",
        "  n=np.size(A[0])\n",
        "  print(pd.DataFrame(A),'\\n')           # Mostra a matriz A\n",
        "  if n==0:\n",
        "    p=A\n",
        "  else:\n",
        "    A=busca_pivo(A)\n",
        "    for i in range(1,n):\n",
        "      A[i]=A[i]-A[0]*A[i,0]/A[0,0]\n",
        "    print(pd.DataFrame(A),'\\n')         # Mostra a matriz A após eliminação da primeira coluna.\n",
        "    if n>2:\n",
        "      A[1:n,1:n]=Gauss_Elim(A[1:n,1:n]) # Recorrência\n",
        "  p=A\n",
        "  return p"
      ],
      "metadata": {
        "id": "ZXjBPqZpTnjJ"
      },
      "execution_count": null,
      "outputs": []
    },
    {
      "cell_type": "code",
      "source": [
        "B=Gauss_Elim(A)\n",
        "print(pd.DataFrame(B))"
      ],
      "metadata": {
        "colab": {
          "base_uri": "https://localhost:8080/"
        },
        "id": "anpC5eR6Vv5C",
        "outputId": "3ed7090a-443c-4c69-859c-797bde3f09ff"
      },
      "execution_count": null,
      "outputs": [
        {
          "output_type": "stream",
          "name": "stdout",
          "text": [
            "     0    1    2    3    4\n",
            "0  0.0  1.0 -4.0  7.0  6.0\n",
            "1  3.0  3.0  1.0  2.0 -9.0\n",
            "2  1.0  4.0  2.0  6.0  3.0\n",
            "3  1.0  5.0  9.0  8.0  7.0\n",
            "4  3.0 -2.0 -4.0  7.0  5.0 \n",
            "\n",
            "     0    1         2         3     4\n",
            "0  3.0  3.0  1.000000  2.000000  -9.0\n",
            "1  0.0 -1.0  4.000000 -7.000000  -6.0\n",
            "2  0.0  3.0  1.666667  5.333333   6.0\n",
            "3  0.0  4.0  8.666667  7.333333  10.0\n",
            "4  0.0 -5.0 -5.000000  5.000000  14.0 \n",
            "\n",
            "     0         1         2     3\n",
            "0 -1.0  4.000000 -7.000000  -6.0\n",
            "1  3.0  1.666667  5.333333   6.0\n",
            "2  4.0  8.666667  7.333333  10.0\n",
            "3 -5.0 -5.000000  5.000000  14.0 \n",
            "\n",
            "     0          1          2     3\n",
            "0 -1.0   4.000000  -7.000000  -6.0\n",
            "1  0.0  13.666667 -15.666667 -12.0\n",
            "2  0.0  24.666667 -20.666667 -14.0\n",
            "3  0.0 -25.000000  40.000000  44.0 \n",
            "\n",
            "           0          1     2\n",
            "0  13.666667 -15.666667 -12.0\n",
            "1  24.666667 -20.666667 -14.0\n",
            "2 -25.000000  40.000000  44.0 \n",
            "\n",
            "           0          1          2\n",
            "0  13.666667 -15.666667 -12.000000\n",
            "1   0.000000   7.609756   7.658537\n",
            "2   0.000000  11.341463  22.048780 \n",
            "\n",
            "           0          1\n",
            "0   7.609756   7.658537\n",
            "1  11.341463  22.048780 \n",
            "\n",
            "          0          1\n",
            "0  7.609756   7.658537\n",
            "1  0.000000  10.634615 \n",
            "\n",
            "     0    1          2          3          4\n",
            "0  3.0  3.0   1.000000   2.000000  -9.000000\n",
            "1  0.0 -1.0   4.000000  -7.000000  -6.000000\n",
            "2  0.0  0.0  13.666667 -15.666667 -12.000000\n",
            "3  0.0  0.0   0.000000   7.609756   7.658537\n",
            "4  0.0  0.0   0.000000   0.000000  10.634615\n"
          ]
        }
      ]
    },
    {
      "cell_type": "markdown",
      "source": [
        "Agora multiplicamos os elementos da diagonal da matriz obtida na eliminação, e temos o determinante de $A$."
      ],
      "metadata": {
        "id": "vQo-O1JSjC_c"
      }
    },
    {
      "cell_type": "code",
      "source": [
        "n=np.size(B[0])\n",
        "p=1\n",
        "for i in range(0,n):\n",
        "  p=p*B[i,i]\n",
        "p"
      ],
      "metadata": {
        "colab": {
          "base_uri": "https://localhost:8080/"
        },
        "id": "uuSyNjhcjM2c",
        "outputId": "ae5cd340-f585-4286-d8bb-2279b79a41e1"
      },
      "execution_count": null,
      "outputs": [
        {
          "output_type": "execute_result",
          "data": {
            "text/plain": [
              "-3317.9999999999995"
            ]
          },
          "metadata": {},
          "execution_count": 23
        }
      ]
    },
    {
      "cell_type": "markdown",
      "source": [
        "Para a eliminação da primeira coluna de $A$, é necessário fazermos $n-1$ divisões (nos pivos), $(n-1)(n-1)$ produtos (pivo e entrada) e $(n-1)(n-1)$ somas (linha pivo com outras linhas), ou $(n-1)(2n-1)$ operações. Então, a quantidade $g(n)$ de somas e produtos para a eliminação toda será\n",
        "$$g(n)=g(n-1)+2(n-1)^2+(n-1),\\qquad g(2)=3.$$"
      ],
      "metadata": {
        "id": "Ji_ODjxTr1VH"
      }
    },
    {
      "cell_type": "markdown",
      "source": [
        "**Problema 4:** Considerando a expressão para $g(n)$, o último código para o calculo de determinate, por meio de eliminação, e a expressão para $A^{-1}$ apresentada acima.\n",
        "\n",
        "Determine quantas operações, no mínimo, serão necessárias para calcular $A^{-1}$, sendo $A$ uma matriz $n\\times n$ invertível, usando eliminação em vez de regra de Laplace para o cálculo de determinantes:\n",
        "\n",
        "a) De forma recorrente;\n",
        "\n",
        "b) De forma direta."
      ],
      "metadata": {
        "id": "r-GNmJTv44Xb"
      }
    }
  ]
}