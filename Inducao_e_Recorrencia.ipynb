{
  "nbformat": 4,
  "nbformat_minor": 0,
  "metadata": {
    "colab": {
      "provenance": [],
      "authorship_tag": "ABX9TyOxzdopg1a2scfLoRev05LX",
      "include_colab_link": true
    },
    "kernelspec": {
      "name": "python3",
      "display_name": "Python 3"
    },
    "language_info": {
      "name": "python"
    }
  },
  "cells": [
    {
      "cell_type": "markdown",
      "metadata": {
        "id": "view-in-github",
        "colab_type": "text"
      },
      "source": [
        "<a href=\"https://colab.research.google.com/github/j-claudinei-f/j-claudinei-f/blob/main/Inducao_e_Recorrencia.ipynb\" target=\"_parent\"><img src=\"https://colab.research.google.com/assets/colab-badge.svg\" alt=\"Open In Colab\"/></a>"
      ]
    },
    {
      "cell_type": "markdown",
      "source": [
        "#**Texto auxiliar sobre demonstrações por indução e relações de recorrência**\n",
        "\n",
        "José Claudinei Ferreira\n",
        "\n",
        "Universidade Federal de Alfenas"
      ],
      "metadata": {
        "id": "Ty_liW81q9_y"
      }
    },
    {
      "cell_type": "markdown",
      "source": [
        "#**Uma infinidade de números primos**\n",
        "\n"
      ],
      "metadata": {
        "id": "axd_5fuZrPrZ"
      }
    },
    {
      "cell_type": "markdown",
      "source": [
        "Um número natural positivo que não pode ser escrito como produto de dois outros números naturais menores que ele é chamado de número primo."
      ],
      "metadata": {
        "id": "4wGnWe4VTuQs"
      }
    },
    {
      "cell_type": "markdown",
      "source": [
        "**Teorema:** Existem inifnitos números primos."
      ],
      "metadata": {
        "id": "9c39tMzbTpP3"
      }
    },
    {
      "cell_type": "markdown",
      "source": [
        "**Demonstração:** Sabemos que um número natural $n$ é primo quando ele é divisível apenas por 1 e por ele mesmo.\n",
        "\n",
        "Suponha que o teorema seja falso. Isso implicaria que o conjunto $P$ de todos os números primos seria finito, ou seja, teria $p$ elementos, sendo $p$ um número natural.\n",
        "\n",
        "Então, poderíamos enumerar esses elementos de $P$ como $$P=\\{n_1,\\,n_2,\\,\\ldots,\\, n_p\\}.$$\n",
        "\n",
        "Se esse fosse o caso, o número natural $$n_{p+1}=n_1\\times n_2\\times\\cdots\\times n_p+1$$ <font color=blue> não seria divisivel por nenhum $n_j\\in P$ e, portanto, seria primo.\n",
        "\n",
        "Isso geraria um problema, porque supomos que existiam apenas $p$ números primos e não $p+1$.\n",
        "\n",
        "Logo, $P$ não pode ser finito.$\\hspace{4cm}\\square$"
      ],
      "metadata": {
        "id": "ewRmu-VKrdBs"
      }
    },
    {
      "cell_type": "markdown",
      "source": [
        "**Obs:** Não é sempre verdade que o número $n_{p+1}$ da demonstração é primo. Seria verdade se $P$ fosse finito, o que não é o caso. Mas se você testar alguns casos pode encontrar primos."
      ],
      "metadata": {
        "id": "NpfI3cattPdm"
      }
    },
    {
      "cell_type": "code",
      "execution_count": 1,
      "metadata": {
        "id": "jcNEtJQXq4UZ"
      },
      "outputs": [],
      "source": [
        "import sympy as sp # para usar a função isprime() que testa se um número é primo."
      ]
    },
    {
      "cell_type": "markdown",
      "source": [
        "Testendo alguns casos:"
      ],
      "metadata": {
        "id": "WFmQzGxxt2kp"
      }
    },
    {
      "cell_type": "code",
      "source": [
        "p=2*3+1\n",
        "p,sp.isprime(p)"
      ],
      "metadata": {
        "colab": {
          "base_uri": "https://localhost:8080/"
        },
        "id": "pUiDAeucuHW0",
        "outputId": "a1985c03-5e84-4d6c-da1b-296ed6bee6a6"
      },
      "execution_count": null,
      "outputs": [
        {
          "output_type": "execute_result",
          "data": {
            "text/plain": [
              "(7, True)"
            ]
          },
          "metadata": {},
          "execution_count": 3
        }
      ]
    },
    {
      "cell_type": "code",
      "source": [
        "p=2*3*5+1\n",
        "p,sp.isprime(p)"
      ],
      "metadata": {
        "colab": {
          "base_uri": "https://localhost:8080/"
        },
        "id": "n4k37ymtuNAZ",
        "outputId": "9e894d83-51b9-48b4-bfcf-911852c7d445"
      },
      "execution_count": null,
      "outputs": [
        {
          "output_type": "execute_result",
          "data": {
            "text/plain": [
              "(31, True)"
            ]
          },
          "metadata": {},
          "execution_count": 4
        }
      ]
    },
    {
      "cell_type": "code",
      "source": [
        "p=2*3*5*7+1\n",
        "p,sp.isprime(p)"
      ],
      "metadata": {
        "colab": {
          "base_uri": "https://localhost:8080/"
        },
        "id": "OEa7_agiuP2e",
        "outputId": "82153656-79fa-46f6-e340-9ae9aeaffe67"
      },
      "execution_count": null,
      "outputs": [
        {
          "output_type": "execute_result",
          "data": {
            "text/plain": [
              "(211, True)"
            ]
          },
          "metadata": {},
          "execution_count": 5
        }
      ]
    },
    {
      "cell_type": "code",
      "source": [
        "p=2*3*5*7*11+1\n",
        "p,sp.isprime(p)"
      ],
      "metadata": {
        "colab": {
          "base_uri": "https://localhost:8080/"
        },
        "id": "ULJDKDQtt_Zt",
        "outputId": "306a56a4-36c9-4158-cef2-386b4513729e"
      },
      "execution_count": null,
      "outputs": [
        {
          "output_type": "execute_result",
          "data": {
            "text/plain": [
              "(2311, True)"
            ]
          },
          "metadata": {},
          "execution_count": 2
        }
      ]
    },
    {
      "cell_type": "code",
      "source": [
        "p=2*3*5*7*11*13+1\n",
        "p,sp.isprime(p)"
      ],
      "metadata": {
        "colab": {
          "base_uri": "https://localhost:8080/"
        },
        "id": "69ESuuZsuT1a",
        "outputId": "c307d49c-8ade-4527-8561-86321336cf19"
      },
      "execution_count": null,
      "outputs": [
        {
          "output_type": "execute_result",
          "data": {
            "text/plain": [
              "(30031, False)"
            ]
          },
          "metadata": {},
          "execution_count": 6
        }
      ]
    },
    {
      "cell_type": "markdown",
      "source": [
        "**Obs:** <font color=blue> Na verdade, na demonstração anterior apresentada usamos um resultado que podemos provar."
      ],
      "metadata": {
        "id": "Mb_lQWsbut7W"
      }
    },
    {
      "cell_type": "markdown",
      "source": [
        "**Teorema 2:**\n",
        "\n",
        "Um número natural $n$ ou é primo ou é o produto $n=n_1\\times n_2$, sendo $n_1$ um número primo."
      ],
      "metadata": {
        "id": "AIQCDRtHu_Sz"
      }
    },
    {
      "cell_type": "markdown",
      "source": [
        "**Demonstração:** <font color=blue> Feito em sala."
      ],
      "metadata": {
        "id": "GQiAuRfNvMVJ"
      }
    },
    {
      "cell_type": "markdown",
      "source": [
        "**Corolário:** Um número natural $n$ ou é primo ou é o produto de números primos."
      ],
      "metadata": {
        "id": "hVl6A9ZameTr"
      }
    },
    {
      "cell_type": "markdown",
      "source": [
        "**Demonstração:** <font color=blue> Feito em sala."
      ],
      "metadata": {
        "id": "ypEa1IJ1mqSK"
      }
    },
    {
      "cell_type": "markdown",
      "source": [
        "**Corolário:** Um número natural $n$ ou é primo ou é o produto  $n=n_1\\times n_2$, com $n_1$ primo e $1<n_1\\leq \\sqrt{n}$."
      ],
      "metadata": {
        "id": "_RX_xJo5muLB"
      }
    },
    {
      "cell_type": "markdown",
      "source": [
        "**Demonstração:** <font color=blue> Feito em sala, mas repito aqui. Do teorema temos que $n=n_1\\times n_2$. Se $n_1>\\sqrt{n}$ e $n_2>\\sqrt{n}$, então $n_1\\times n_2>\\sqrt{n}\\times \\sqrt{n}=n$, o que não pode ocorrer.<br><br>\n",
        "Logo, $n_1$ ou $n_2$ tem que ser menor ou igual a $\\sqrt{n}$; e podemos escolher esse número menor primo.$\\hspace{2cm}\\square$"
      ],
      "metadata": {
        "id": "M6u6EDaNmrnd"
      }
    },
    {
      "cell_type": "markdown",
      "source": [
        "Esses resultados nos permitem verificar se um número é primo ou determinar seus fatores, como o algoritmo que segue:"
      ],
      "metadata": {
        "id": "FBWpiqj8nG9U"
      }
    },
    {
      "cell_type": "code",
      "source": [
        "import math\n",
        "\n",
        "def Fatores_primos(n):     # Só funciona para números naturais maiores que 1.\n",
        "    while n % 2 == 0:      # imprime o número de vezes que 2 divide n.\n",
        "        print(2)\n",
        "        n = n // 2         # troca n por n/2 (divisão inteira)\n",
        "\n",
        "    i=3\n",
        "    while i*i<=n:          # testando números ímpares.\n",
        "         while n % i== 0:  # imprime o número de vezes que i divide n.\n",
        "            print(i)\n",
        "            n = n // i     # troca n por n/i (divisão inteira)\n",
        "         i=i+2\n",
        "\n",
        "    if n > 2:\n",
        "        print(n) # Se não hove divisão de $n$ ele é primo"
      ],
      "metadata": {
        "id": "QN7KD0Bvn4Xp"
      },
      "execution_count": null,
      "outputs": []
    },
    {
      "cell_type": "markdown",
      "source": [
        "**Obs:** Note que, caso prefira (ou possa) usar o cálculo de $\\sqrt{n}$, você pode trocar o\n",
        "\n",
        "```\n",
        "while i*i<=n:\n",
        "```\n",
        "por\n",
        "\n",
        "```\n",
        "for i in range(3,int(math.sqrt(n))+1,2):\n",
        "```"
      ],
      "metadata": {
        "id": "NRnmZn-Hsf5Y"
      }
    },
    {
      "cell_type": "markdown",
      "source": [
        "**Obs:** Uma curiosidade sobre o cálculo de $\\sqrt{x}$ no [link](https://en.wikipedia.org/wiki/Fast_inverse_square_root)."
      ],
      "metadata": {
        "id": "anpdmxwNyTcf"
      }
    },
    {
      "cell_type": "markdown",
      "source": [
        "Teste com $n=2\\times3\\times5\\times7\\times11\\times13+1=30031$ que já testamos não ser primo.\n",
        "\n"
      ],
      "metadata": {
        "id": "imfblxmDpha7"
      }
    },
    {
      "cell_type": "code",
      "source": [
        "p=2*3*5*7*11*13+1\n",
        "Fatores_primos(p)"
      ],
      "metadata": {
        "colab": {
          "base_uri": "https://localhost:8080/"
        },
        "id": "gaei1DDNp2eg",
        "outputId": "23346c10-4768-4811-af41-e8f20c792e53"
      },
      "execution_count": null,
      "outputs": [
        {
          "output_type": "stream",
          "name": "stdout",
          "text": [
            "59\n",
            "509\n"
          ]
        }
      ]
    },
    {
      "cell_type": "markdown",
      "source": [
        "**Obs:** <font color=blue> Note que $30031=59\\times 509$ é produto de dois números primos, um menor e outro maior que sua raiz quadrada.\n",
        "\n",
        "<font color=red> Isso nos diz que pode ocorrer um fator primo maior que a raiz quadrada, mas só pode ocorrer um."
      ],
      "metadata": {
        "id": "su40d0AOX87K"
      }
    },
    {
      "cell_type": "markdown",
      "source": [
        "Vamos testar com outro número:"
      ],
      "metadata": {
        "id": "QPS8J36OqKKJ"
      }
    },
    {
      "cell_type": "code",
      "source": [
        "Fatores_primos(123456789)"
      ],
      "metadata": {
        "colab": {
          "base_uri": "https://localhost:8080/"
        },
        "id": "2dD1VDPyqNa0",
        "outputId": "f4dc2ba2-2a1c-446f-a9dd-019287e9c7a9"
      },
      "execution_count": null,
      "outputs": [
        {
          "output_type": "stream",
          "name": "stdout",
          "text": [
            "3\n",
            "3\n",
            "3607\n",
            "3803\n"
          ]
        }
      ]
    },
    {
      "cell_type": "markdown",
      "source": [
        "Quando esse algoritmo retornar apenas o número $n$ de entrada, esse número será primo."
      ],
      "metadata": {
        "id": "awIKB-EGYnbA"
      }
    },
    {
      "cell_type": "code",
      "source": [
        "Fatores_primos(2*3*5*7*11+1)"
      ],
      "metadata": {
        "colab": {
          "base_uri": "https://localhost:8080/"
        },
        "id": "pPrWdI4stsj8",
        "outputId": "22393498-04dc-4de8-b5dd-7ac08711b448"
      },
      "execution_count": null,
      "outputs": [
        {
          "output_type": "stream",
          "name": "stdout",
          "text": [
            "2311\n"
          ]
        }
      ]
    },
    {
      "cell_type": "markdown",
      "source": [],
      "metadata": {
        "id": "z28VpUV2Y8zP"
      }
    },
    {
      "cell_type": "markdown",
      "source": [
        "#**A torre de Hanói**\n",
        "\n",
        "No estudo da determinação do número mínimo de movimentos para mover os discos da [torre de Hanói](http://clubes.obmep.org.br/blog/torre-de-hanoi/) observamos que, se denotarmos por $p(n)$ o número mínimo de movimentos, para mover $n$ discos, com as **regras**:\n",
        "\n",
        "\n",
        "1.   Mover um disco de cada vez.\n",
        "2.   Não colocar disco maior sobre disco menor.\n",
        "\n",
        "Teremos\n",
        "$$p(1)=1,\\qquad p(n+1)=2p(n)+1.$$\n",
        "\n",
        "Como podemos determinar $p(6)$ e $p(10)$?\n",
        "\n",
        "\n",
        "\n"
      ],
      "metadata": {
        "id": "XwJR0BF1Z6ZT"
      }
    },
    {
      "cell_type": "markdown",
      "source": [
        "**Uma forma de resolver o problema, com o uso de um computador e programação:**\n",
        "\n",
        "Podemos usar uma linguagem de programação (ou uma calculadora programável) para calcular $p(n)$. Nesse caso, vamos usar a linguagem Phyton."
      ],
      "metadata": {
        "id": "NBtdDsgwcNSG"
      }
    },
    {
      "cell_type": "code",
      "execution_count": null,
      "metadata": {
        "id": "VvvWObyxYy82"
      },
      "outputs": [],
      "source": [
        "def p(n):         # O comando def é usado para definir funções das mais variadas.\n",
        "\n",
        "   if (n==1):     # Se n=1, retorne p(1)=1\n",
        "     q=1\n",
        "\n",
        "   else:          # Senão, ou seja, se p for diferente de 1, retorne 2p(n-1)+1.\n",
        "     q=2*p(n-1)+1 # Aqui a função é chamada outra vez, para m=n-1, e outra vez, para m=n-2, ..., até chegar em m=1.\n",
        "                  # Após todas as chamadas retorna a m=n-1 e m=n.\n",
        "\n",
        "   return q       # Essa é a saída."
      ]
    },
    {
      "cell_type": "markdown",
      "source": [
        "**Obs.** Note que a função não está bem definida para números menores que 1, ou para números que não sejam naturais."
      ],
      "metadata": {
        "id": "tP-suR4SeNkb"
      }
    },
    {
      "cell_type": "markdown",
      "source": [
        "Vamos testar, para $n=1$:"
      ],
      "metadata": {
        "id": "_NOIZ1hBdbSy"
      }
    },
    {
      "cell_type": "code",
      "source": [
        "p(1)"
      ],
      "metadata": {
        "colab": {
          "base_uri": "https://localhost:8080/"
        },
        "id": "4eVKEO9jdddW",
        "outputId": "67c67677-dd8c-4987-b2fd-f1064652b56d"
      },
      "execution_count": null,
      "outputs": [
        {
          "output_type": "execute_result",
          "data": {
            "text/plain": [
              "1"
            ]
          },
          "metadata": {},
          "execution_count": 6
        }
      ]
    },
    {
      "cell_type": "markdown",
      "source": [
        "Vamos testar, para $n=2$:"
      ],
      "metadata": {
        "id": "zcqEryopdkWx"
      }
    },
    {
      "cell_type": "code",
      "source": [
        "p(2)"
      ],
      "metadata": {
        "colab": {
          "base_uri": "https://localhost:8080/"
        },
        "id": "1opom-rQdmXB",
        "outputId": "2d185c22-a4e0-4a5f-8f99-7765950f4b0b"
      },
      "execution_count": null,
      "outputs": [
        {
          "output_type": "execute_result",
          "data": {
            "text/plain": [
              "3"
            ]
          },
          "metadata": {},
          "execution_count": 7
        }
      ]
    },
    {
      "cell_type": "markdown",
      "source": [
        "Vamos testar, para $n=3$:"
      ],
      "metadata": {
        "id": "sP-dncY3dw1i"
      }
    },
    {
      "cell_type": "code",
      "source": [
        "p(3)"
      ],
      "metadata": {
        "colab": {
          "base_uri": "https://localhost:8080/"
        },
        "id": "lN4rCDqWdyxD",
        "outputId": "6e30cdde-560f-4ab6-b6e9-2bd9fb043b99"
      },
      "execution_count": null,
      "outputs": [
        {
          "output_type": "execute_result",
          "data": {
            "text/plain": [
              "7"
            ]
          },
          "metadata": {},
          "execution_count": 8
        }
      ]
    },
    {
      "cell_type": "markdown",
      "source": [
        "Para ver vários valores de $p(n)$ de uma vez, por exemplo, $p(i)$, para $1\\leq i\\leq 10$:"
      ],
      "metadata": {
        "id": "uOlt-EhYd2hR"
      }
    },
    {
      "cell_type": "code",
      "source": [
        "for i in range(1,10+1): # Para i variando de 1 até 10, escreva o par (i, p(i)).\n",
        "  print(i,p(i))"
      ],
      "metadata": {
        "colab": {
          "base_uri": "https://localhost:8080/"
        },
        "id": "AsLBiZDcec56",
        "outputId": "a33e7836-cc94-4a19-e070-dac926ead356"
      },
      "execution_count": null,
      "outputs": [
        {
          "output_type": "stream",
          "name": "stdout",
          "text": [
            "1 1\n",
            "2 3\n",
            "3 7\n",
            "4 15\n",
            "5 31\n",
            "6 63\n",
            "7 127\n",
            "8 255\n",
            "9 511\n",
            "10 1023\n"
          ]
        }
      ]
    },
    {
      "cell_type": "markdown",
      "source": [
        "**Obs.** Voce poderia fazer isso de outra forma, sem usar a definição da função $p(i)$. Começando a enumerar todos os $p(i)$, a partir do 1, como fazemos a seguir:"
      ],
      "metadata": {
        "id": "cZ8Zph7mf_Ep"
      }
    },
    {
      "cell_type": "code",
      "source": [
        "q=1                   # q=1 representa p(1)=1.\n",
        "print(1,q)\n",
        "\n",
        "for i in range(1,10): # Para i variando de 1 até 10, troque q por 2q+1, porque p(n)=2p(n-1)+1.\n",
        "  q=2*q+1\n",
        "  print(i+1,q)        # Escreva o par (i, 2p+1)."
      ],
      "metadata": {
        "colab": {
          "base_uri": "https://localhost:8080/"
        },
        "id": "2rw2XSxSgTwR",
        "outputId": "11bd69ba-8c8a-48eb-ca61-dfd8173fcffe"
      },
      "execution_count": null,
      "outputs": [
        {
          "output_type": "stream",
          "name": "stdout",
          "text": [
            "1 1\n",
            "2 3\n",
            "3 7\n",
            "4 15\n",
            "5 31\n",
            "6 63\n",
            "7 127\n",
            "8 255\n",
            "9 511\n",
            "10 1023\n"
          ]
        }
      ]
    },
    {
      "cell_type": "markdown",
      "source": [
        "Esse último procedimento é menos elegante, mas é muito mais rápido de ser executado."
      ],
      "metadata": {
        "id": "2iXjOXHhgyGB"
      }
    },
    {
      "cell_type": "markdown",
      "source": [
        "**Obs.** Observe ainda que podemos demonstrar, usando [indução finita](https://pt.wikipedia.org/wiki/Indu%C3%A7%C3%A3o_matem%C3%A1tica), que $$p(n)=2^n-1.$$ Isso facilita bastante na resolução do problema, embora uma calculadora ajude muito ainda."
      ],
      "metadata": {
        "id": "szdeGCXhcTtc"
      }
    },
    {
      "cell_type": "code",
      "source": [
        "for i in range(1,10+1): # Para i variando de 1 até 10.\n",
        "    print(i,2**i-1)        # Escreva o par (i, 2^i-1)."
      ],
      "metadata": {
        "colab": {
          "base_uri": "https://localhost:8080/"
        },
        "id": "cSH1u7QceY_g",
        "outputId": "0fde43d4-38e8-4282-c0d5-15c7a7e09139"
      },
      "execution_count": null,
      "outputs": [
        {
          "output_type": "stream",
          "name": "stdout",
          "text": [
            "1 1\n",
            "2 3\n",
            "3 7\n",
            "4 15\n",
            "5 31\n",
            "6 63\n",
            "7 127\n",
            "8 255\n",
            "9 511\n",
            "10 1023\n"
          ]
        }
      ]
    },
    {
      "cell_type": "markdown",
      "source": [
        "**Complicando um pouco mais a regra:**\n",
        "\n",
        "No estudo da determinação do número mínimo de movimentos para mover os discos da [torre de Hanói](http://clubes.obmep.org.br/blog/torre-de-hanoi/) observamos que, se denotarmos por $p(n)$ o número mínimo de movimentos, para mover $n$ discos, com as **regras**:\n",
        "\n",
        "\n",
        "1.   Mover um disco de cada vez.\n",
        "2.   Não colocar disco maior sobre disco menor.\n",
        "3.   Cada movimento de disco deve partir da haste central ou chegar nela.\n",
        "\n",
        "Teremos\n",
        "$$p(1)=2,\\qquad p(n+1)=?.$$\n",
        "\n",
        "Como podemos determinar $p(6)$ e $p(10)$?"
      ],
      "metadata": {
        "id": "K1I4z3sKZXIL"
      }
    }
  ]
}