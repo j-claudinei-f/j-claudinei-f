{
  "nbformat": 4,
  "nbformat_minor": 0,
  "metadata": {
    "colab": {
      "provenance": [],
      "authorship_tag": "ABX9TyMOjaooZL1BEKljCbo/7Hdr",
      "include_colab_link": true
    },
    "kernelspec": {
      "name": "python3",
      "display_name": "Python 3"
    },
    "language_info": {
      "name": "python"
    }
  },
  "cells": [
    {
      "cell_type": "markdown",
      "metadata": {
        "id": "view-in-github",
        "colab_type": "text"
      },
      "source": [
        "<a href=\"https://colab.research.google.com/github/j-claudinei-f/j-claudinei-f/blob/main/Inducao_e_Recorrencia.ipynb\" target=\"_parent\"><img src=\"https://colab.research.google.com/assets/colab-badge.svg\" alt=\"Open In Colab\"/></a>"
      ]
    },
    {
      "cell_type": "markdown",
      "source": [
        "#**Texto auxiliar sobre demonstrações por indução e relações de recorrência**\n",
        "\n",
        "José Claudinei Ferreira\n",
        "\n",
        "Universidade Federal de Alfenas"
      ],
      "metadata": {
        "id": "Ty_liW81q9_y"
      }
    },
    {
      "cell_type": "markdown",
      "source": [
        "#**Teorema (infinidade de números primos):**\n",
        "\n",
        "Existem inifnitos números primos."
      ],
      "metadata": {
        "id": "axd_5fuZrPrZ"
      }
    },
    {
      "cell_type": "markdown",
      "source": [
        "**Demonstração:** Sabemos que um número natural $n$ é primo quando ele é divisível apenas por 1 e por ele mesmo.\n",
        "\n",
        "Suponha que o teorema seja falso. Isso implicaria que o conjunto $P$ de todos os números primos seria finito, ou seja, teria $p$ elementos, sendo $p$ um número natural.\n",
        "\n",
        "Então, poderíamos enumerar esses elementos de $P$ como $$P=\\{n_1,\\,n_2,\\,\\ldots,\\, n_p\\}.$$\n",
        "\n",
        "Se esse fosse o caso, o número natural $$n_{p+1}=n_1\\times n_2\\times\\cdots\\times n_p+1$$ <font color=blue> não seria divisivel por nenhum $n_j\\in P$ e, portanto, seria primo.\n",
        "\n",
        "Isso geraria um problema, porque supomos que existiam apenas $p$ números primos e não $p+1$.\n",
        "\n",
        "Logo, $P$ não pode ser finito."
      ],
      "metadata": {
        "id": "ewRmu-VKrdBs"
      }
    },
    {
      "cell_type": "markdown",
      "source": [
        "**Obs:** Não é sempre verdade que o número $p_{p+1}$ da demonstração é primo. Seria verdade se $P$ fosse finito, o que não é o caso. Mas se você testar alguns casos pode encontrar primos."
      ],
      "metadata": {
        "id": "NpfI3cattPdm"
      }
    },
    {
      "cell_type": "code",
      "execution_count": null,
      "metadata": {
        "id": "jcNEtJQXq4UZ"
      },
      "outputs": [],
      "source": [
        "import sympy as sp # para usar a função isprime() que testa se um número é primo."
      ]
    },
    {
      "cell_type": "markdown",
      "source": [
        "Testendo alguns casos:"
      ],
      "metadata": {
        "id": "WFmQzGxxt2kp"
      }
    },
    {
      "cell_type": "code",
      "source": [
        "p=2*3+1\n",
        "p,sp.isprime(p)"
      ],
      "metadata": {
        "colab": {
          "base_uri": "https://localhost:8080/"
        },
        "id": "pUiDAeucuHW0",
        "outputId": "a1985c03-5e84-4d6c-da1b-296ed6bee6a6"
      },
      "execution_count": null,
      "outputs": [
        {
          "output_type": "execute_result",
          "data": {
            "text/plain": [
              "(7, True)"
            ]
          },
          "metadata": {},
          "execution_count": 3
        }
      ]
    },
    {
      "cell_type": "code",
      "source": [
        "p=2*3*5+1\n",
        "p,sp.isprime(p)"
      ],
      "metadata": {
        "colab": {
          "base_uri": "https://localhost:8080/"
        },
        "id": "n4k37ymtuNAZ",
        "outputId": "9e894d83-51b9-48b4-bfcf-911852c7d445"
      },
      "execution_count": null,
      "outputs": [
        {
          "output_type": "execute_result",
          "data": {
            "text/plain": [
              "(31, True)"
            ]
          },
          "metadata": {},
          "execution_count": 4
        }
      ]
    },
    {
      "cell_type": "code",
      "source": [
        "p=2*3*5*7+1\n",
        "p,sp.isprime(p)"
      ],
      "metadata": {
        "colab": {
          "base_uri": "https://localhost:8080/"
        },
        "id": "OEa7_agiuP2e",
        "outputId": "82153656-79fa-46f6-e340-9ae9aeaffe67"
      },
      "execution_count": null,
      "outputs": [
        {
          "output_type": "execute_result",
          "data": {
            "text/plain": [
              "(211, True)"
            ]
          },
          "metadata": {},
          "execution_count": 5
        }
      ]
    },
    {
      "cell_type": "code",
      "source": [
        "p=2*3*5*7*11+1\n",
        "p,sp.isprime(p)"
      ],
      "metadata": {
        "colab": {
          "base_uri": "https://localhost:8080/"
        },
        "id": "ULJDKDQtt_Zt",
        "outputId": "306a56a4-36c9-4158-cef2-386b4513729e"
      },
      "execution_count": null,
      "outputs": [
        {
          "output_type": "execute_result",
          "data": {
            "text/plain": [
              "(2311, True)"
            ]
          },
          "metadata": {},
          "execution_count": 2
        }
      ]
    },
    {
      "cell_type": "code",
      "source": [
        "p=2*3*5*7*11*13+1\n",
        "p,sp.isprime(p)"
      ],
      "metadata": {
        "colab": {
          "base_uri": "https://localhost:8080/"
        },
        "id": "69ESuuZsuT1a",
        "outputId": "c307d49c-8ade-4527-8561-86321336cf19"
      },
      "execution_count": null,
      "outputs": [
        {
          "output_type": "execute_result",
          "data": {
            "text/plain": [
              "(30031, False)"
            ]
          },
          "metadata": {},
          "execution_count": 6
        }
      ]
    },
    {
      "cell_type": "markdown",
      "source": [
        "**Obs:** <font color=blue> Na verdade, na demonstração anterior apresentada usamos um resultado que podemos provar."
      ],
      "metadata": {
        "id": "Mb_lQWsbut7W"
      }
    },
    {
      "cell_type": "markdown",
      "source": [
        "#**Teorema:** Um número natural $n$ ou é primo ou é o produto de números primos."
      ],
      "metadata": {
        "id": "AIQCDRtHu_Sz"
      }
    },
    {
      "cell_type": "markdown",
      "source": [
        "**Demonstração:** <font color=blue> Feito em sala."
      ],
      "metadata": {
        "id": "GQiAuRfNvMVJ"
      }
    },
    {
      "cell_type": "markdown",
      "source": [
        "**Corolário:** Um número natural $n$ ou é primo ou é o produto de números primos."
      ],
      "metadata": {
        "id": "hVl6A9ZameTr"
      }
    },
    {
      "cell_type": "markdown",
      "source": [
        "**Demonstração:** <font color=blue> Feito em sala."
      ],
      "metadata": {
        "id": "ypEa1IJ1mqSK"
      }
    },
    {
      "cell_type": "markdown",
      "source": [
        "**Corolário:** Um número natural $n$ ou é primo ou é o produto de $n=n_1\\times n_2$, com $n_1$ primo e $1<n_1\\leq \\sqrt{n}$."
      ],
      "metadata": {
        "id": "_RX_xJo5muLB"
      }
    },
    {
      "cell_type": "markdown",
      "source": [
        "**Demonstração:** <font color=blue> Feito em sala."
      ],
      "metadata": {
        "id": "M6u6EDaNmrnd"
      }
    },
    {
      "cell_type": "markdown",
      "source": [
        "Esses resultados nos permite verificar se um número é primo ou determinar seus fatores, como o algoritmo que segue:"
      ],
      "metadata": {
        "id": "FBWpiqj8nG9U"
      }
    },
    {
      "cell_type": "code",
      "source": [
        "import math\n",
        "\n",
        "def Fatores_primos(n):     # Só funciona para números naturais maiores que 1.\n",
        "    while n % 2 == 0:      # imprime o número de vezes que 2 divide n.\n",
        "        print(2)\n",
        "        n = n // 2         # troca n por n/2 (divisão inteira)\n",
        "\n",
        "    i=3\n",
        "    while i*i<=n:          # testando números ímpares.\n",
        "         while n % i== 0:  # imprime o número de vezes que i divide n.\n",
        "            print(i)\n",
        "            n = n // i     # troca n por n/i (divisão inteira)\n",
        "         i=i+2\n",
        "\n",
        "    if n > 2:\n",
        "        print(n) # Se não hove divisão de $n$ ele é primo"
      ],
      "metadata": {
        "id": "QN7KD0Bvn4Xp"
      },
      "execution_count": 20,
      "outputs": []
    },
    {
      "cell_type": "markdown",
      "source": [
        "**Obs:** Note que, caso prefira (ou possa) usar o cálculo de $\\sqrt{n}$ pode trocar o 'while i*i<=n:' por 'for i in range(3,int(math.sqrt(n))+1,2):'."
      ],
      "metadata": {
        "id": "NRnmZn-Hsf5Y"
      }
    },
    {
      "cell_type": "markdown",
      "source": [
        "Teste com $n=2\\times3\\times5\\times7\\times11\\times13+1=30031$ que já testamos não ser primo.\n",
        "\n"
      ],
      "metadata": {
        "id": "imfblxmDpha7"
      }
    },
    {
      "cell_type": "code",
      "source": [
        "p=2*3*5*7*11*13+1\n",
        "Fatores_primos(p)"
      ],
      "metadata": {
        "colab": {
          "base_uri": "https://localhost:8080/"
        },
        "id": "gaei1DDNp2eg",
        "outputId": "23346c10-4768-4811-af41-e8f20c792e53"
      },
      "execution_count": 21,
      "outputs": [
        {
          "output_type": "stream",
          "name": "stdout",
          "text": [
            "59\n",
            "509\n"
          ]
        }
      ]
    },
    {
      "cell_type": "markdown",
      "source": [
        "Vamos testar com outro número:"
      ],
      "metadata": {
        "id": "QPS8J36OqKKJ"
      }
    },
    {
      "cell_type": "code",
      "source": [
        "Fatores_primos(123456789)"
      ],
      "metadata": {
        "colab": {
          "base_uri": "https://localhost:8080/"
        },
        "id": "2dD1VDPyqNa0",
        "outputId": "f4dc2ba2-2a1c-446f-a9dd-019287e9c7a9"
      },
      "execution_count": 22,
      "outputs": [
        {
          "output_type": "stream",
          "name": "stdout",
          "text": [
            "3\n",
            "3\n",
            "3607\n",
            "3803\n"
          ]
        }
      ]
    },
    {
      "cell_type": "code",
      "source": [
        "Fatores_primos(2*3*5*7*11+1)"
      ],
      "metadata": {
        "colab": {
          "base_uri": "https://localhost:8080/"
        },
        "id": "pPrWdI4stsj8",
        "outputId": "22393498-04dc-4de8-b5dd-7ac08711b448"
      },
      "execution_count": 23,
      "outputs": [
        {
          "output_type": "stream",
          "name": "stdout",
          "text": [
            "2311\n"
          ]
        }
      ]
    }
  ]
}