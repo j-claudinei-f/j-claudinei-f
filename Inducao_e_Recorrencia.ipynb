{
  "nbformat": 4,
  "nbformat_minor": 0,
  "metadata": {
    "colab": {
      "provenance": [],
      "authorship_tag": "ABX9TyNLYf7Rz3MEKjAVv7tQaPmU",
      "include_colab_link": true
    },
    "kernelspec": {
      "name": "python3",
      "display_name": "Python 3"
    },
    "language_info": {
      "name": "python"
    }
  },
  "cells": [
    {
      "cell_type": "markdown",
      "metadata": {
        "id": "view-in-github",
        "colab_type": "text"
      },
      "source": [
        "<a href=\"https://colab.research.google.com/github/j-claudinei-f/j-claudinei-f/blob/main/Inducao_e_Recorrencia.ipynb\" target=\"_parent\"><img src=\"https://colab.research.google.com/assets/colab-badge.svg\" alt=\"Open In Colab\"/></a>"
      ]
    },
    {
      "cell_type": "markdown",
      "source": [
        "#**Texto auxiliar sobre demonstrações por indução e relações de recorrência**\n",
        "\n",
        "José Claudinei Ferreira\n",
        "\n",
        "Universidade Federal de Alfenas"
      ],
      "metadata": {
        "id": "Ty_liW81q9_y"
      }
    },
    {
      "cell_type": "markdown",
      "source": [
        "#**Uma infinidade de números primos**\n",
        "\n"
      ],
      "metadata": {
        "id": "axd_5fuZrPrZ"
      }
    },
    {
      "cell_type": "markdown",
      "source": [
        "Um número natural positivo que não pode ser escrito como produto de dois outros números naturais menores que ele é chamado de número primo."
      ],
      "metadata": {
        "id": "4wGnWe4VTuQs"
      }
    },
    {
      "cell_type": "markdown",
      "source": [
        "**Teorema:** Existem infinitos números primos."
      ],
      "metadata": {
        "id": "9c39tMzbTpP3"
      }
    },
    {
      "cell_type": "markdown",
      "source": [
        "**Demonstração:** Sabemos que um número natural $n$ é primo quando ele é divisível apenas por 1 e por ele mesmo.\n",
        "\n",
        "Suponha que o teorema seja falso. Isso implicaria que o conjunto $P$ de todos os números primos seria finito, ou seja, teria $p$ elementos, sendo $p$ um número natural.\n",
        "\n",
        "Então, poderíamos enumerar esses elementos de $P$ como $$P=\\{n_1,\\,n_2,\\,\\ldots,\\, n_p\\}.$$\n",
        "\n",
        "Se esse fosse o caso, o número natural $$n_{p+1}=n_1\\times n_2\\times\\cdots\\times n_p+1$$ <font color=blue> não seria divisivel por nenhum $n_j\\in P$ e, portanto, seria primo.\n",
        "\n",
        "Isso geraria um problema, porque supomos que existiam apenas $p$ números primos e não $p+1$.\n",
        "\n",
        "Logo, $P$ não pode ser finito.$\\hspace{4cm}\\square$"
      ],
      "metadata": {
        "id": "ewRmu-VKrdBs"
      }
    },
    {
      "cell_type": "markdown",
      "source": [
        "**Obs:** Não é sempre verdade que o número $n_{p+1}$ da demonstração é primo. Seria verdade se $P$ fosse finito, o que não é o caso. Mas se você testar alguns casos pode encontrar primos."
      ],
      "metadata": {
        "id": "NpfI3cattPdm"
      }
    },
    {
      "cell_type": "code",
      "execution_count": null,
      "metadata": {
        "id": "jcNEtJQXq4UZ"
      },
      "outputs": [],
      "source": [
        "import sympy as sp # para usar a função isprime() que testa se um número é primo."
      ]
    },
    {
      "cell_type": "markdown",
      "source": [
        "Testendo alguns casos:"
      ],
      "metadata": {
        "id": "WFmQzGxxt2kp"
      }
    },
    {
      "cell_type": "code",
      "source": [
        "p=2*3+1\n",
        "p,sp.isprime(p)"
      ],
      "metadata": {
        "colab": {
          "base_uri": "https://localhost:8080/"
        },
        "id": "pUiDAeucuHW0",
        "outputId": "a1985c03-5e84-4d6c-da1b-296ed6bee6a6"
      },
      "execution_count": null,
      "outputs": [
        {
          "output_type": "execute_result",
          "data": {
            "text/plain": [
              "(7, True)"
            ]
          },
          "metadata": {},
          "execution_count": 3
        }
      ]
    },
    {
      "cell_type": "code",
      "source": [
        "p=2*3*5+1\n",
        "p,sp.isprime(p)"
      ],
      "metadata": {
        "colab": {
          "base_uri": "https://localhost:8080/"
        },
        "id": "n4k37ymtuNAZ",
        "outputId": "9e894d83-51b9-48b4-bfcf-911852c7d445"
      },
      "execution_count": null,
      "outputs": [
        {
          "output_type": "execute_result",
          "data": {
            "text/plain": [
              "(31, True)"
            ]
          },
          "metadata": {},
          "execution_count": 4
        }
      ]
    },
    {
      "cell_type": "code",
      "source": [
        "p=2*3*5*7+1\n",
        "p,sp.isprime(p)"
      ],
      "metadata": {
        "colab": {
          "base_uri": "https://localhost:8080/"
        },
        "id": "OEa7_agiuP2e",
        "outputId": "82153656-79fa-46f6-e340-9ae9aeaffe67"
      },
      "execution_count": null,
      "outputs": [
        {
          "output_type": "execute_result",
          "data": {
            "text/plain": [
              "(211, True)"
            ]
          },
          "metadata": {},
          "execution_count": 5
        }
      ]
    },
    {
      "cell_type": "code",
      "source": [
        "p=2*3*5*7*11+1\n",
        "p,sp.isprime(p)"
      ],
      "metadata": {
        "colab": {
          "base_uri": "https://localhost:8080/"
        },
        "id": "ULJDKDQtt_Zt",
        "outputId": "306a56a4-36c9-4158-cef2-386b4513729e"
      },
      "execution_count": null,
      "outputs": [
        {
          "output_type": "execute_result",
          "data": {
            "text/plain": [
              "(2311, True)"
            ]
          },
          "metadata": {},
          "execution_count": 2
        }
      ]
    },
    {
      "cell_type": "code",
      "source": [
        "p=2*3*5*7*11*13+1\n",
        "p,sp.isprime(p)"
      ],
      "metadata": {
        "colab": {
          "base_uri": "https://localhost:8080/"
        },
        "id": "69ESuuZsuT1a",
        "outputId": "c307d49c-8ade-4527-8561-86321336cf19"
      },
      "execution_count": null,
      "outputs": [
        {
          "output_type": "execute_result",
          "data": {
            "text/plain": [
              "(30031, False)"
            ]
          },
          "metadata": {},
          "execution_count": 6
        }
      ]
    },
    {
      "cell_type": "markdown",
      "source": [
        "**Obs:** <font color=blue> Na verdade, na demonstração anterior apresentada usamos um resultado que podemos provar."
      ],
      "metadata": {
        "id": "Mb_lQWsbut7W"
      }
    },
    {
      "cell_type": "markdown",
      "source": [
        "**Teorema 2:** Um número natural $n$ ou é primo ou é o produto $n=n_1\\times n_2$, sendo $n_1$ um número primo."
      ],
      "metadata": {
        "id": "AIQCDRtHu_Sz"
      }
    },
    {
      "cell_type": "markdown",
      "source": [
        "**Demonstração:** <font color=blue> Feito em sala."
      ],
      "metadata": {
        "id": "GQiAuRfNvMVJ"
      }
    },
    {
      "cell_type": "markdown",
      "source": [
        "**Corolário:** Um número natural $n$ ou é primo ou é o produto de números primos."
      ],
      "metadata": {
        "id": "hVl6A9ZameTr"
      }
    },
    {
      "cell_type": "markdown",
      "source": [
        "**Demonstração:** <font color=blue> Feito em sala."
      ],
      "metadata": {
        "id": "ypEa1IJ1mqSK"
      }
    },
    {
      "cell_type": "markdown",
      "source": [
        "**Corolário:** Um número natural $n$ ou é primo ou é o produto  $n=n_1\\times n_2$, com $n_1$ primo e $1<n_1\\leq \\sqrt{n}$."
      ],
      "metadata": {
        "id": "_RX_xJo5muLB"
      }
    },
    {
      "cell_type": "markdown",
      "source": [
        "**Demonstração:** <font color=blue> Feito em sala, mas repito aqui. Do teorema temos que $n=n_1\\times n_2$. Se $n_1>\\sqrt{n}$ e $n_2>\\sqrt{n}$, então $n_1\\times n_2>\\sqrt{n}\\times \\sqrt{n}=n$, o que não pode ocorrer.<br><br>\n",
        "Logo, $n_1$ ou $n_2$ tem que ser menor ou igual a $\\sqrt{n}$; e podemos escolher esse número menor primo.$\\hspace{2cm}\\square$"
      ],
      "metadata": {
        "id": "M6u6EDaNmrnd"
      }
    },
    {
      "cell_type": "markdown",
      "source": [
        "Esses resultados nos permitem verificar se um número é primo ou determinar seus fatores, como o algoritmo que segue:"
      ],
      "metadata": {
        "id": "FBWpiqj8nG9U"
      }
    },
    {
      "cell_type": "code",
      "source": [
        "import math\n",
        "\n",
        "def Fatores_primos(n):     # Só funciona para números naturais maiores que 1.\n",
        "    while n % 2 == 0:      # imprime o número de vezes que 2 divide n.\n",
        "        print(2)\n",
        "        n = n // 2         # troca n por n/2 (divisão inteira)\n",
        "\n",
        "    i=3\n",
        "    while i*i<=n:          # testando números ímpares.\n",
        "         while n % i== 0:  # imprime o número de vezes que i divide n.\n",
        "            print(i)\n",
        "            n = n // i     # troca n por n/i (divisão inteira)\n",
        "         i=i+2\n",
        "\n",
        "    if n > 2:\n",
        "        print(n)           # Se não hove divisão de $n$ ele é primo."
      ],
      "metadata": {
        "id": "QN7KD0Bvn4Xp"
      },
      "execution_count": null,
      "outputs": []
    },
    {
      "cell_type": "markdown",
      "source": [
        "**Obs:** Note que, caso prefira (ou possa) usar o cálculo de $\\sqrt{n}$, você pode trocar o\n",
        "\n",
        "```\n",
        "while i*i<=n:\n",
        "```\n",
        "por\n",
        "\n",
        "```\n",
        "for i in range(3,int(math.sqrt(n))+1,2):\n",
        "```"
      ],
      "metadata": {
        "id": "NRnmZn-Hsf5Y"
      }
    },
    {
      "cell_type": "markdown",
      "source": [
        "**Obs:** Uma curiosidade sobre o cálculo de $\\sqrt{x}$ no [link](https://en.wikipedia.org/wiki/Fast_inverse_square_root)."
      ],
      "metadata": {
        "id": "anpdmxwNyTcf"
      }
    },
    {
      "cell_type": "markdown",
      "source": [
        "Teste com $n=2\\times3\\times5\\times7\\times11\\times13+1=30031$ que já testamos não ser primo.\n",
        "\n"
      ],
      "metadata": {
        "id": "imfblxmDpha7"
      }
    },
    {
      "cell_type": "code",
      "source": [
        "p=2*3*5*7*11*13+1\n",
        "Fatores_primos(p)"
      ],
      "metadata": {
        "colab": {
          "base_uri": "https://localhost:8080/"
        },
        "id": "gaei1DDNp2eg",
        "outputId": "23346c10-4768-4811-af41-e8f20c792e53"
      },
      "execution_count": null,
      "outputs": [
        {
          "output_type": "stream",
          "name": "stdout",
          "text": [
            "59\n",
            "509\n"
          ]
        }
      ]
    },
    {
      "cell_type": "markdown",
      "source": [
        "**Obs:** <font color=blue> Note que $30031=59\\times 509$ é produto de dois números primos, um menor e outro maior que sua raiz quadrada.\n",
        "\n",
        "<font color=red> Isso nos diz que pode ocorrer um fator primo maior que a raiz quadrada, mas só pode ocorrer um."
      ],
      "metadata": {
        "id": "su40d0AOX87K"
      }
    },
    {
      "cell_type": "markdown",
      "source": [
        "Vamos testar com outro número:"
      ],
      "metadata": {
        "id": "QPS8J36OqKKJ"
      }
    },
    {
      "cell_type": "code",
      "source": [
        "Fatores_primos(123456789)"
      ],
      "metadata": {
        "colab": {
          "base_uri": "https://localhost:8080/"
        },
        "id": "2dD1VDPyqNa0",
        "outputId": "f4dc2ba2-2a1c-446f-a9dd-019287e9c7a9"
      },
      "execution_count": null,
      "outputs": [
        {
          "output_type": "stream",
          "name": "stdout",
          "text": [
            "3\n",
            "3\n",
            "3607\n",
            "3803\n"
          ]
        }
      ]
    },
    {
      "cell_type": "markdown",
      "source": [
        "Quando esse algoritmo retornar apenas o número $n$ de entrada, esse número será primo."
      ],
      "metadata": {
        "id": "awIKB-EGYnbA"
      }
    },
    {
      "cell_type": "code",
      "source": [
        "Fatores_primos(2*3*5*7*11+1)"
      ],
      "metadata": {
        "colab": {
          "base_uri": "https://localhost:8080/"
        },
        "id": "pPrWdI4stsj8",
        "outputId": "22393498-04dc-4de8-b5dd-7ac08711b448"
      },
      "execution_count": null,
      "outputs": [
        {
          "output_type": "stream",
          "name": "stdout",
          "text": [
            "2311\n"
          ]
        }
      ]
    },
    {
      "cell_type": "markdown",
      "source": [
        "#**A torre de Hanói**\n",
        "\n",
        "No estudo da determinação do número mínimo de movimentos para mover os discos da [torre de Hanói](http://clubes.obmep.org.br/blog/torre-de-hanoi/) observamos que, se denotarmos por $p(n)$ o número mínimo de movimentos, para mover $n$ discos, com as **regras**:\n",
        "\n",
        "\n",
        "1.   Mover um disco de cada vez.\n",
        "2.   Não colocar disco maior sobre disco menor.\n",
        "\n",
        "Teremos\n",
        "$$p(1)=1,\\qquad p(n+1)=2p(n)+1.$$\n",
        "\n",
        "Como podemos determinar $p(6)$ e $p(10)$?\n",
        "\n",
        "\n",
        "\n"
      ],
      "metadata": {
        "id": "XwJR0BF1Z6ZT"
      }
    },
    {
      "cell_type": "markdown",
      "source": [
        "**Uma forma de resolver o problema, com o uso de um computador e programação:**\n",
        "\n",
        "Podemos usar uma linguagem de programação (ou uma calculadora programável) para calcular $p(n)$. Nesse caso, vamos usar a linguagem Phyton."
      ],
      "metadata": {
        "id": "NBtdDsgwcNSG"
      }
    },
    {
      "cell_type": "code",
      "execution_count": null,
      "metadata": {
        "id": "VvvWObyxYy82"
      },
      "outputs": [],
      "source": [
        "def p(n):         # O comando def é usado para definir funções variadas.\n",
        "\n",
        "   if (n==1):     # Se n=1, retorne p(1)=1.\n",
        "     q=1\n",
        "\n",
        "   else:          # Senão, ou seja, se p for diferente de 1, retorne 2p(n-1)+1.\n",
        "     q=2*p(n-1)+1 # Aqui a função é chamada outra vez, para m=n-1, e outra vez,\n",
        "                  # para m=n-2, ..., até chegar em m=1.\n",
        "                  # Após todas as chamadas retorna a m=n-1 e m=n.\n",
        "   return q       # Essa é a saída."
      ]
    },
    {
      "cell_type": "markdown",
      "source": [
        "**Obs.** Note que a função não está bem definida para números menores que 1, ou para números que não sejam naturais."
      ],
      "metadata": {
        "id": "tP-suR4SeNkb"
      }
    },
    {
      "cell_type": "markdown",
      "source": [
        "Vamos testar, para $n=1$:"
      ],
      "metadata": {
        "id": "_NOIZ1hBdbSy"
      }
    },
    {
      "cell_type": "code",
      "source": [
        "p(1)"
      ],
      "metadata": {
        "colab": {
          "base_uri": "https://localhost:8080/"
        },
        "id": "4eVKEO9jdddW",
        "outputId": "67c67677-dd8c-4987-b2fd-f1064652b56d"
      },
      "execution_count": null,
      "outputs": [
        {
          "output_type": "execute_result",
          "data": {
            "text/plain": [
              "1"
            ]
          },
          "metadata": {},
          "execution_count": 6
        }
      ]
    },
    {
      "cell_type": "markdown",
      "source": [
        "Vamos testar, para $n=2$:"
      ],
      "metadata": {
        "id": "zcqEryopdkWx"
      }
    },
    {
      "cell_type": "code",
      "source": [
        "p(2)"
      ],
      "metadata": {
        "colab": {
          "base_uri": "https://localhost:8080/"
        },
        "id": "1opom-rQdmXB",
        "outputId": "2d185c22-a4e0-4a5f-8f99-7765950f4b0b"
      },
      "execution_count": null,
      "outputs": [
        {
          "output_type": "execute_result",
          "data": {
            "text/plain": [
              "3"
            ]
          },
          "metadata": {},
          "execution_count": 7
        }
      ]
    },
    {
      "cell_type": "markdown",
      "source": [
        "Vamos testar, para $n=3$:"
      ],
      "metadata": {
        "id": "sP-dncY3dw1i"
      }
    },
    {
      "cell_type": "code",
      "source": [
        "p(3)"
      ],
      "metadata": {
        "colab": {
          "base_uri": "https://localhost:8080/"
        },
        "id": "lN4rCDqWdyxD",
        "outputId": "6e30cdde-560f-4ab6-b6e9-2bd9fb043b99"
      },
      "execution_count": null,
      "outputs": [
        {
          "output_type": "execute_result",
          "data": {
            "text/plain": [
              "7"
            ]
          },
          "metadata": {},
          "execution_count": 8
        }
      ]
    },
    {
      "cell_type": "markdown",
      "source": [
        "Para ver vários valores de $p(n)$ de uma vez, por exemplo, $p(i)$, para $1\\leq i\\leq 10$:"
      ],
      "metadata": {
        "id": "uOlt-EhYd2hR"
      }
    },
    {
      "cell_type": "code",
      "source": [
        "for i in range(1,10+1): # Para i variando de 1 até 10, escreva (i, p(i)).\n",
        "  print(i,p(i))"
      ],
      "metadata": {
        "colab": {
          "base_uri": "https://localhost:8080/"
        },
        "id": "AsLBiZDcec56",
        "outputId": "a33e7836-cc94-4a19-e070-dac926ead356"
      },
      "execution_count": null,
      "outputs": [
        {
          "output_type": "stream",
          "name": "stdout",
          "text": [
            "1 1\n",
            "2 3\n",
            "3 7\n",
            "4 15\n",
            "5 31\n",
            "6 63\n",
            "7 127\n",
            "8 255\n",
            "9 511\n",
            "10 1023\n"
          ]
        }
      ]
    },
    {
      "cell_type": "markdown",
      "source": [
        "**Obs.** Voce poderia fazer isso de outra forma, sem usar a definição da função $p(i)$. Começando a enumerar todos os $p(i)$, a partir do 1, como fazemos a seguir:"
      ],
      "metadata": {
        "id": "cZ8Zph7mf_Ep"
      }
    },
    {
      "cell_type": "code",
      "source": [
        "q=1                   # q=1 representa p(1)=1.\n",
        "print(1,q)\n",
        "\n",
        "for n in range(1,10): # Para n variando de 1 até 10, troque q por 2q+1, porque p(n)=2p(n-1)+1.\n",
        "  q=2*q+1             # porque p(n)=2p(n-1)+1.\n",
        "  print(n+1,q)        # Escreva o par (i, 2p+1)."
      ],
      "metadata": {
        "colab": {
          "base_uri": "https://localhost:8080/"
        },
        "id": "2rw2XSxSgTwR",
        "outputId": "a867173d-eb88-4b92-f1de-d25c072ff000"
      },
      "execution_count": null,
      "outputs": [
        {
          "output_type": "stream",
          "name": "stdout",
          "text": [
            "1 1\n",
            "2 3\n",
            "3 7\n",
            "4 15\n",
            "5 31\n",
            "6 63\n",
            "7 127\n",
            "8 255\n",
            "9 511\n",
            "10 1023\n"
          ]
        }
      ]
    },
    {
      "cell_type": "markdown",
      "source": [
        "Esse último procedimento é menos elegante, mas é muito mais rápido de ser executado."
      ],
      "metadata": {
        "id": "2iXjOXHhgyGB"
      }
    },
    {
      "cell_type": "markdown",
      "source": [
        "**Obs.** Observe ainda que podemos demonstrar, usando [indução finita](https://pt.wikipedia.org/wiki/Indu%C3%A7%C3%A3o_matem%C3%A1tica), que $$p(n)=2^n-1.$$ Isso facilita bastante na resolução do problema, embora uma calculadora ajude muito ainda."
      ],
      "metadata": {
        "id": "szdeGCXhcTtc"
      }
    },
    {
      "cell_type": "code",
      "source": [
        "for i in range(1,10+1):    # Para i variando de 1 até 10.\n",
        "    print(i,2**i-1)        # Escreva o par (i, 2^i-1)."
      ],
      "metadata": {
        "colab": {
          "base_uri": "https://localhost:8080/"
        },
        "id": "cSH1u7QceY_g",
        "outputId": "0fde43d4-38e8-4282-c0d5-15c7a7e09139"
      },
      "execution_count": null,
      "outputs": [
        {
          "output_type": "stream",
          "name": "stdout",
          "text": [
            "1 1\n",
            "2 3\n",
            "3 7\n",
            "4 15\n",
            "5 31\n",
            "6 63\n",
            "7 127\n",
            "8 255\n",
            "9 511\n",
            "10 1023\n"
          ]
        }
      ]
    },
    {
      "cell_type": "markdown",
      "source": [
        "**Complicando um pouco mais a regra:**\n",
        "\n",
        "No estudo da determinação do número mínimo de movimentos para mover os discos da [torre de Hanói](http://clubes.obmep.org.br/blog/torre-de-hanoi/) observamos que, se denotarmos por $p(n)$ o número mínimo de movimentos, para mover $n$ discos, com as **regras**:\n",
        "\n",
        "\n",
        "1.   Mover um disco de cada vez.\n",
        "2.   Não colocar disco maior sobre disco menor.\n",
        "3.   Cada movimento de disco deve partir da haste central ou chegar nela.\n",
        "\n",
        "Teremos\n",
        "$$p(1)=2,\\qquad p(n+1)=3p(n)+2.$$\n",
        "\n",
        "Como podemos determinar $p(6)$ e $p(10)$?"
      ],
      "metadata": {
        "id": "K1I4z3sKZXIL"
      }
    },
    {
      "cell_type": "markdown",
      "source": [
        "#**A regra de Laplace para calcular determinantes**\n",
        "\n",
        "Há relações de recorrência que não podem ser escritas (de forma simples) por enumeração dos itens anteriores. Um exemplo disso é o cálculo de determinante de uma matriz, por meio da [regra de Laplace](https://pt.wikipedia.org/wiki/Teorema_de_Laplace):\n",
        "$$det(A)=\\sum_{j=1}^n(-1)^{j+1}a_{1j}det(A_{1,j}),$$ em que $A=[a_{ij}]$ é uma matriz $n\\times n$ e $A_{i,j}$ é uma matriz de ordem $(n-1)\\times (n-1)$, obtida retirando a linha $i$ e a coluna $j$ da matriz $A$. Nessa definição temos $1\\leq i,j\\leq n$.\n"
      ],
      "metadata": {
        "id": "bWXbv6oZ_IEt"
      }
    },
    {
      "cell_type": "code",
      "source": [
        "import numpy as np   # Pacote para manipular matrizes.\n",
        "\n",
        "def Cof(A,i,l):      # Determinação da matriz A_{i,l}.\n",
        "   n=np.size(A[0])   # np.size(u) é o número de coordenadas do vetor u.\n",
        "   C=[]\n",
        "   for j in range(0,n):\n",
        "    B=[]\n",
        "    if j!=i:\n",
        "      for k in range(0,n):\n",
        "        if k!=l:\n",
        "          B.append(A[j][k])\n",
        "      C.append(B)\n",
        "   return C"
      ],
      "metadata": {
        "id": "1XipYDtoR5pt"
      },
      "execution_count": null,
      "outputs": []
    },
    {
      "cell_type": "code",
      "source": [
        "import pandas as pd   # Pacote para manipular tabelas.\n",
        "\n",
        "A=np.array([[0,1,-4,7,6],[3,3,1,2,-9],[1,4,2,6,3],[1,5,9,8,7],[3,-2,-4,7,5.0]])\n",
        "                      # Foi colocado 5.0 no último número para dizer à máquina\n",
        "                      # que os números são reais e não inteiros.\n",
        "\n",
        "print('Matriz A=\\n',pd.DataFrame(A))\n",
        "print('\\n A matriz menor 1,2 é\\n',pd.DataFrame(Cof(A,1,0)))"
      ],
      "metadata": {
        "colab": {
          "base_uri": "https://localhost:8080/"
        },
        "id": "fIsT4cRSNaaD",
        "outputId": "10d5da6e-9b5a-448e-bbbb-971dd21f0d1a"
      },
      "execution_count": null,
      "outputs": [
        {
          "output_type": "stream",
          "name": "stdout",
          "text": [
            "Matriz A=\n",
            "      0    1    2    3    4\n",
            "0  0.0  1.0 -4.0  7.0  6.0\n",
            "1  3.0  3.0  1.0  2.0 -9.0\n",
            "2  1.0  4.0  2.0  6.0  3.0\n",
            "3  1.0  5.0  9.0  8.0  7.0\n",
            "4  3.0 -2.0 -4.0  7.0  5.0\n",
            "\n",
            " A matriz menor 1,2 é\n",
            "      0    1    2    3\n",
            "0  1.0 -4.0  7.0  6.0\n",
            "1  4.0  2.0  6.0  3.0\n",
            "2  5.0  9.0  8.0  7.0\n",
            "3 -2.0 -4.0  7.0  5.0\n"
          ]
        }
      ]
    },
    {
      "cell_type": "code",
      "source": [
        "def detLaplace(A):     # Cálculo de determinante por regra de Laplace.\n",
        "  n=np.size(A[0])\n",
        "  if n==1:\n",
        "    p=A[0][0]\n",
        "  else:\n",
        "    p=0\n",
        "    for i in range(0,n):\n",
        "      p=p+(-1)**((i+1)+1)*A[0][i]*detLaplace(Cof(A,0,i)) # O índice aqui começa no 0.\n",
        "  return p"
      ],
      "metadata": {
        "id": "gabprIi5M7wk"
      },
      "execution_count": null,
      "outputs": []
    },
    {
      "cell_type": "code",
      "source": [
        "detLaplace(A)"
      ],
      "metadata": {
        "colab": {
          "base_uri": "https://localhost:8080/"
        },
        "id": "sSTAeluOSgp3",
        "outputId": "dc1a296b-fe2f-41d2-b3cf-27a1aa8badf2"
      },
      "execution_count": null,
      "outputs": [
        {
          "output_type": "execute_result",
          "data": {
            "text/plain": [
              "-3318.0"
            ]
          },
          "metadata": {},
          "execution_count": 4
        }
      ]
    },
    {
      "cell_type": "markdown",
      "source": [
        "O cálculo de determinante é muito usado, e por isso tem pacote pronto. Note que o pacote gera arredondamentos."
      ],
      "metadata": {
        "id": "z2Lhvqg1hohO"
      }
    },
    {
      "cell_type": "code",
      "source": [
        "np.linalg.det(A)"
      ],
      "metadata": {
        "colab": {
          "base_uri": "https://localhost:8080/"
        },
        "id": "naipzh03ZbHh",
        "outputId": "23e5a2be-9464-4751-9454-c18a74bf3983"
      },
      "execution_count": null,
      "outputs": [
        {
          "output_type": "execute_result",
          "data": {
            "text/plain": [
              "-3318.000000000002"
            ]
          },
          "metadata": {},
          "execution_count": 5
        }
      ]
    },
    {
      "cell_type": "markdown",
      "source": [
        "**Da dificuldade de usar a regra de Laplace**\n",
        "\n",
        "Podemos dizer que, se $p(n)$ denota o número de cálculos na determinação do determinante de uma matriz $n\\times n$, por esta regra de Laplace, então\n",
        "$$p(n)\\geq n\\times p(n-1)+3n,\\qquad n\\geq 2,%\\qquad \\color{red}{p(1)=1},\n",
        "$$ porque precisamos calcular $n$ determinantes, com $p(n-1)$ cálculos cada, e multiplicar esses valores por $(-1)^{1+j}a_{1j}$, o que totaliza $3n$ cálculos (pelo menos)."
      ],
      "metadata": {
        "id": "B0Ny0u_Qbg9i"
      }
    },
    {
      "cell_type": "markdown",
      "source": [
        "Então,\n",
        "$$\\begin{cases}p(n)&\\geq &np(n-1)+3n\\\\\\\\&\\geq&\\color{blue}{n((n-1)p(n-2)+3(n-1))+3n}\\\\\\\\\\vdots&\\vdots&\\vdots\\\\\\\\&\\geq& \\color{blue}{n(n-1)\\cdots 2\\times 1+3(n+(n-1)+\\cdots+2)}\\\\\\\\&=&n!+3\\left(\\frac{n(n+1)}{2}-1\\right)\\\\\\\\&=&p_2(n)\\end{cases}$$\n"
      ],
      "metadata": {
        "id": "c6UUk4bOyp7l"
      }
    },
    {
      "cell_type": "markdown",
      "source": [
        "<font color=blue> Testando as desigualdades:"
      ],
      "metadata": {
        "id": "jbBlA4vxJycw"
      }
    },
    {
      "cell_type": "code",
      "source": [
        "def p(n):\n",
        "  if n==1:\n",
        "    q=1\n",
        "  else:\n",
        "    q=n*p(n-1)+3*n\n",
        "  return q\n",
        "\n",
        "import math\n",
        "\n",
        "def p2(n):\n",
        "  q=+math.factorial(n)+3*(n*(n+1)/2-1)\n",
        "  return q"
      ],
      "metadata": {
        "id": "UnaKl8OmJQAV"
      },
      "execution_count": null,
      "outputs": []
    },
    {
      "cell_type": "code",
      "source": [
        "for i in range(1,10):\n",
        "  print('\\n i=',i,', p(i)>=',p(i), ', p_2(i)=',p2(i))"
      ],
      "metadata": {
        "colab": {
          "base_uri": "https://localhost:8080/"
        },
        "id": "apJLb2HxJlGT",
        "outputId": "a139b17b-fe28-40a3-e9a5-878015e7bb8b"
      },
      "execution_count": null,
      "outputs": [
        {
          "output_type": "stream",
          "name": "stdout",
          "text": [
            "\n",
            " i= 1 , p(i)>= 1 , p_2(i)= 1.0\n",
            "\n",
            " i= 2 , p(i)>= 8 , p_2(i)= 8.0\n",
            "\n",
            " i= 3 , p(i)>= 33 , p_2(i)= 21.0\n",
            "\n",
            " i= 4 , p(i)>= 144 , p_2(i)= 51.0\n",
            "\n",
            " i= 5 , p(i)>= 735 , p_2(i)= 162.0\n",
            "\n",
            " i= 6 , p(i)>= 4428 , p_2(i)= 780.0\n",
            "\n",
            " i= 7 , p(i)>= 31017 , p_2(i)= 5121.0\n",
            "\n",
            " i= 8 , p(i)>= 248160 , p_2(i)= 40425.0\n",
            "\n",
            " i= 9 , p(i)>= 2233467 , p_2(i)= 363012.0\n"
          ]
        }
      ]
    },
    {
      "cell_type": "markdown",
      "source": [
        "**Obs:** <font color=red> No arquivo publicado antes eu coloquei que $p(1)=1$. E a última desigualdade, que produz $p_2(n)$, poderia ter surgido de um erro na distribuição de uma multiplicação. Na verdade eu fiz de propósito para ver se alguém acompanharia o raciocínio. Mesmo não havendo quem questionasse, a desigualdade ainda é válida; e isso não afeta o que eu esperava para os problemas propostos.\n",
        "\n",
        "<font color=blue> Dito isso, o correto é $$p(n)\\geq n\\times p(n-1)+3n,\\qquad n\\geq 2,\\qquad \\color{red}{p(1)=0},$$ e podemos refazer as estimativas como\n",
        "$$\\begin{cases}p(n)&\\geq &np(n-1)+3n\\\\\\\\&\\geq&\\color{blue}{n((n-1)p(n-2)+3(n-1))+3n}\\\\\\\\&=&\\color{blue}{n(n-1)p(n-2)+3(n+n(n-1))}\\\\\\\\\\vdots&\\vdots&\\vdots\\\\\\\\&\\geq& \\color{blue}{n(n-1)\\cdots 2p(1)+3(n+n(n-1)+\\cdots+n(n-1)(n-2)\\cdots 2)}\\\\\\\\&=&0\\times n!+3(n+n(n-1)+\\cdots+n!)\\\\\\\\&=&3\\times n!\\left(\\frac{1}{(n-1)!}+\\frac{1}{(n-2)!}+\\cdots+\\frac{1}{2!}+1\\right)\\\\\\\\&=&p_3(n)\\end{cases}$$\n",
        "\n",
        "Cabe notar que $$p_3(n)\\leq 3\\times e^1\\times n!,$$\n",
        "[porque](https://en.wikipedia.org/wiki/Exponential_function) $$e^x=\\sum_{i=0}^{+\\infty}\\frac{x^i}{i!}.$$"
      ],
      "metadata": {
        "id": "lmxMDVGsu71F"
      }
    },
    {
      "cell_type": "markdown",
      "source": [
        "<font color=blue> Testando as desigualdades:"
      ],
      "metadata": {
        "id": "MOXXxwqrKITx"
      }
    },
    {
      "cell_type": "code",
      "source": [
        "def p(n):\n",
        "  if n==1:\n",
        "    q=0\n",
        "  else:\n",
        "    q=n*p(n-1)+3*n\n",
        "  return q\n",
        "\n",
        "import math\n",
        "\n",
        "def p3(n):\n",
        "  q=0\n",
        "  for i in range (1,n):\n",
        "    q=q+math.factorial(n)/math.factorial(n-i)\n",
        "  return q*3"
      ],
      "metadata": {
        "id": "hLcqq7dRyQ8a"
      },
      "execution_count": 1,
      "outputs": []
    },
    {
      "cell_type": "code",
      "source": [
        "for i in range(1,10):\n",
        "  print('\\n i=',i,'p(i)>=',p(i), 'p_3(i)=',p3(i))"
      ],
      "metadata": {
        "colab": {
          "base_uri": "https://localhost:8080/"
        },
        "id": "n0goVhK9yp5Y",
        "outputId": "7513b98c-4d42-4673-dbca-f80e7020431b"
      },
      "execution_count": 2,
      "outputs": [
        {
          "output_type": "stream",
          "name": "stdout",
          "text": [
            "\n",
            " i= 1 p(i)>= 0 p_3(i)= 0\n",
            "\n",
            " i= 2 p(i)>= 6 p_3(i)= 6.0\n",
            "\n",
            " i= 3 p(i)>= 27 p_3(i)= 27.0\n",
            "\n",
            " i= 4 p(i)>= 120 p_3(i)= 120.0\n",
            "\n",
            " i= 5 p(i)>= 615 p_3(i)= 615.0\n",
            "\n",
            " i= 6 p(i)>= 3708 p_3(i)= 3708.0\n",
            "\n",
            " i= 7 p(i)>= 25977 p_3(i)= 25977.0\n",
            "\n",
            " i= 8 p(i)>= 207840 p_3(i)= 207840.0\n",
            "\n",
            " i= 9 p(i)>= 1870587 p_3(i)= 1870587.0\n"
          ]
        }
      ]
    },
    {
      "cell_type": "markdown",
      "source": [
        "Nesse argumento não fica claro o problema de armazenamento de todos determinantes necessários no cálculo, o que pode levar a problemas de memória por causa de [pilhas](https://algoritmosempython.com.br/cursos/algoritmos-python/estruturas-dados/pilhas/)."
      ],
      "metadata": {
        "id": "ZUelNaI5jDeu"
      }
    },
    {
      "cell_type": "markdown",
      "source": [
        "**A matriz inversa, se existir:**\n",
        "\n",
        "Conceitualmente o cálculo de determinante é útil na determinação da [matriz inversa](https://pt.wikipedia.org/wiki/Matriz_inversa) de $A$, dada por\n",
        "$$A^{-1}=\\frac{1}{det(A)}\\begin{bmatrix}C_{1,1}&C_{1,2}&\\cdots&C_{1,n}\\\\C_{2,1}&C_{2,2}&\\cdots&C_{2,n}\\\\\\vdots&\\vdots&\\ddots&\\vdots\\\\C_{n,1}&C_{n,2}&\\cdots&C_{n,n}\\end{bmatrix}^t,$$ em que $C_{i,j}=(-1)^{i+j}det(A_{i,j})$.\n",
        "\n",
        "Entretanto, esse método de determinar $A^{-1}$ é bastante caro computacionalmente, quando usamos regra de Laplace. Podemos dizer que o custo computacional $c(n)$ satisfaz $$c(n)\\geq n\\times p(n-1)+3n+n^2((n-1)p(n-2)+3(n-1))\\color{blue}{=p(n)+n^2p(n-1)},$$ porque precisamos calcular um determinante de uma matriz $n\\times n$ e $n^2$ determinantes de matrizes $(n-1)\\times (n-1)$, pelo menos."
      ],
      "metadata": {
        "id": "BCKX3bYKNgGS"
      }
    },
    {
      "cell_type": "code",
      "source": [
        "def Mult_inv(A): # Gera uma matriz p*A^(-1), em que p=det(A).\n",
        "  n=np.size(A[0])\n",
        "  B=[]\n",
        "  for i in range(0,n):\n",
        "    C=[]\n",
        "    for j in range(0,n):\n",
        "      C.append((-1)**(i+j+2)*detLaplace(Cof(A,j,i))) # Na expressão tem um transposto.\n",
        "    B.append(C)\n",
        "  return np.array(B)\n"
      ],
      "metadata": {
        "id": "YBZI11ERPShI"
      },
      "execution_count": null,
      "outputs": []
    },
    {
      "cell_type": "markdown",
      "source": [
        "Testando o nosso código, observamos que a matriz $B$ obtida é tal que $B\\times A$ tem diagonal igual a $det(A)$."
      ],
      "metadata": {
        "id": "wK0BGy07Rkuh"
      }
    },
    {
      "cell_type": "code",
      "source": [
        "Mult_inv(A)@A      # @ denota produto de matrizes. O * faz multiplicação coordenada a coordenada."
      ],
      "metadata": {
        "colab": {
          "base_uri": "https://localhost:8080/"
        },
        "id": "4WOB0X5BQTPB",
        "outputId": "32b050ce-0b79-4cce-f757-5379c086a596"
      },
      "execution_count": null,
      "outputs": [
        {
          "output_type": "execute_result",
          "data": {
            "text/plain": [
              "array([[-3318.,     0.,     0.,     0.,     0.],\n",
              "       [    0., -3318.,     0.,     0.,     0.],\n",
              "       [    0.,     0., -3318.,     0.,     0.],\n",
              "       [    0.,     0.,     0., -3318.,     0.],\n",
              "       [    0.,     0.,     0.,     0., -3318.]])"
            ]
          },
          "metadata": {},
          "execution_count": 17
        }
      ]
    },
    {
      "cell_type": "markdown",
      "source": [
        "**Problema 1:** Usando a exepressão envolvendo $c(n)$ acima. Determine uma aproximação, por baixo, para $c(10)$, $c(20)$ e $c(100)$."
      ],
      "metadata": {
        "id": "QyIYZ_tY3sdk"
      }
    },
    {
      "cell_type": "markdown",
      "source": [
        "<font color=blue>**Resolução:** Para resolver isso, basta usar a relação de recorrência (desigualdade) para $c(n)$, por meio da recorrência para $p(n)$. Poderia ter usado a exepressão $$p(n)\\geq n!+3\\left(\\frac{n(n+1)}{2}-1\\right),$$ que é válida e foi dada na versão inicial deste texto, por exemplo. A ideia era observar que o crescimento de $c(n)$ é maior que $(n+1)!$, por exemplo."
      ],
      "metadata": {
        "id": "Voznf3cbLN0M"
      }
    },
    {
      "cell_type": "markdown",
      "source": [
        "**O escalonamento é mais barato**\n",
        "\n",
        "É por isso que o processo de [eliminação de Gauss](https://pt.wikipedia.org/wiki/Elimina%C3%A7%C3%A3o_de_Gauss) é preferido para cálculo de determinantes, por exemplo. Esse processo de eliminação pode ser visto como recorrente, ou seja, a eliminação de uma coluna depende a eliminação da coluna anterior."
      ],
      "metadata": {
        "id": "PrmBns5pNAsJ"
      }
    },
    {
      "cell_type": "code",
      "source": [
        "import copy\n",
        "\n",
        "def busca_pivo(B):\n",
        "    A=copy.deepcopy(B)           # Para não alterar a matriz original.\n",
        "    i=0\n",
        "    while abs(A[i,0])<10**(-15): # Precisa tocar linha para eliminação.\n",
        "      i=i+1\n",
        "    p=copy.deepcopy(A[i])\n",
        "    A[i]=-copy.deepcopy(A[0])     # Isso é para manter o sinal do determinante.\n",
        "    A[0]=p\n",
        "    return A"
      ],
      "metadata": {
        "id": "I6SePr1cX5hD"
      },
      "execution_count": null,
      "outputs": []
    },
    {
      "cell_type": "code",
      "source": [
        "print('A=\\n',A,'\\n\\n A com linhas trocadas\\n',busca_pivo(A))"
      ],
      "metadata": {
        "colab": {
          "base_uri": "https://localhost:8080/"
        },
        "id": "ORk_SIvkndK9",
        "outputId": "0dfebf2b-be1c-46ec-c641-07679226a79f"
      },
      "execution_count": null,
      "outputs": [
        {
          "output_type": "stream",
          "name": "stdout",
          "text": [
            "A=\n",
            " [[ 0.  1. -4.  7.  6.]\n",
            " [ 3.  3.  1.  2. -9.]\n",
            " [ 1.  4.  2.  6.  3.]\n",
            " [ 1.  5.  9.  8.  7.]\n",
            " [ 3. -2. -4.  7.  5.]] \n",
            "\n",
            " A com linhas trocadas\n",
            " [[ 3.  3.  1.  2. -9.]\n",
            " [-0. -1.  4. -7. -6.]\n",
            " [ 1.  4.  2.  6.  3.]\n",
            " [ 1.  5.  9.  8.  7.]\n",
            " [ 3. -2. -4.  7.  5.]]\n"
          ]
        }
      ]
    },
    {
      "cell_type": "code",
      "source": [
        "def Gauss_Elim(B):\n",
        "  A=copy.deepcopy(B)                    # Para não alterar a matriz A no processo.\n",
        "  n=np.size(A[0])\n",
        "  print(pd.DataFrame(A),'\\n')           # Mostra a matriz A\n",
        "  if n==0:\n",
        "    p=A\n",
        "  else:\n",
        "    A=busca_pivo(A)\n",
        "    for i in range(1,n):\n",
        "      A[i]=A[i]-A[0]*A[i,0]/A[0,0]\n",
        "    print(pd.DataFrame(A),'\\n')         # Mostra a matriz A após eliminação da primeira coluna.\n",
        "    if n>2:\n",
        "      A[1:n,1:n]=Gauss_Elim(A[1:n,1:n]) # Recorrência\n",
        "  p=A\n",
        "  return p"
      ],
      "metadata": {
        "id": "ZXjBPqZpTnjJ"
      },
      "execution_count": null,
      "outputs": []
    },
    {
      "cell_type": "code",
      "source": [
        "B=Gauss_Elim(A)\n",
        "print(pd.DataFrame(B))"
      ],
      "metadata": {
        "colab": {
          "base_uri": "https://localhost:8080/"
        },
        "id": "anpC5eR6Vv5C",
        "outputId": "3ed7090a-443c-4c69-859c-797bde3f09ff"
      },
      "execution_count": null,
      "outputs": [
        {
          "output_type": "stream",
          "name": "stdout",
          "text": [
            "     0    1    2    3    4\n",
            "0  0.0  1.0 -4.0  7.0  6.0\n",
            "1  3.0  3.0  1.0  2.0 -9.0\n",
            "2  1.0  4.0  2.0  6.0  3.0\n",
            "3  1.0  5.0  9.0  8.0  7.0\n",
            "4  3.0 -2.0 -4.0  7.0  5.0 \n",
            "\n",
            "     0    1         2         3     4\n",
            "0  3.0  3.0  1.000000  2.000000  -9.0\n",
            "1  0.0 -1.0  4.000000 -7.000000  -6.0\n",
            "2  0.0  3.0  1.666667  5.333333   6.0\n",
            "3  0.0  4.0  8.666667  7.333333  10.0\n",
            "4  0.0 -5.0 -5.000000  5.000000  14.0 \n",
            "\n",
            "     0         1         2     3\n",
            "0 -1.0  4.000000 -7.000000  -6.0\n",
            "1  3.0  1.666667  5.333333   6.0\n",
            "2  4.0  8.666667  7.333333  10.0\n",
            "3 -5.0 -5.000000  5.000000  14.0 \n",
            "\n",
            "     0          1          2     3\n",
            "0 -1.0   4.000000  -7.000000  -6.0\n",
            "1  0.0  13.666667 -15.666667 -12.0\n",
            "2  0.0  24.666667 -20.666667 -14.0\n",
            "3  0.0 -25.000000  40.000000  44.0 \n",
            "\n",
            "           0          1     2\n",
            "0  13.666667 -15.666667 -12.0\n",
            "1  24.666667 -20.666667 -14.0\n",
            "2 -25.000000  40.000000  44.0 \n",
            "\n",
            "           0          1          2\n",
            "0  13.666667 -15.666667 -12.000000\n",
            "1   0.000000   7.609756   7.658537\n",
            "2   0.000000  11.341463  22.048780 \n",
            "\n",
            "           0          1\n",
            "0   7.609756   7.658537\n",
            "1  11.341463  22.048780 \n",
            "\n",
            "          0          1\n",
            "0  7.609756   7.658537\n",
            "1  0.000000  10.634615 \n",
            "\n",
            "     0    1          2          3          4\n",
            "0  3.0  3.0   1.000000   2.000000  -9.000000\n",
            "1  0.0 -1.0   4.000000  -7.000000  -6.000000\n",
            "2  0.0  0.0  13.666667 -15.666667 -12.000000\n",
            "3  0.0  0.0   0.000000   7.609756   7.658537\n",
            "4  0.0  0.0   0.000000   0.000000  10.634615\n"
          ]
        }
      ]
    },
    {
      "cell_type": "markdown",
      "source": [
        "Agora multiplicamos os elementos da diagonal da matriz obtida na eliminação, e temos o determinante de $A$."
      ],
      "metadata": {
        "id": "vQo-O1JSjC_c"
      }
    },
    {
      "cell_type": "code",
      "source": [
        "n=np.size(B[0])\n",
        "p=1\n",
        "for i in range(0,n):\n",
        "  p=p*B[i,i]\n",
        "p"
      ],
      "metadata": {
        "colab": {
          "base_uri": "https://localhost:8080/"
        },
        "id": "uuSyNjhcjM2c",
        "outputId": "ae5cd340-f585-4286-d8bb-2279b79a41e1"
      },
      "execution_count": null,
      "outputs": [
        {
          "output_type": "execute_result",
          "data": {
            "text/plain": [
              "-3317.9999999999995"
            ]
          },
          "metadata": {},
          "execution_count": 23
        }
      ]
    },
    {
      "cell_type": "markdown",
      "source": [
        "Para a eliminação da primeira coluna de $A$, é necessário fazermos $n-1$ divisões (nos pivos), $(n-1)(n-1)$ produtos (pivo e entrada) e $(n-1)(n-1)$ somas (linha pivo com outras linhas), ou $\\color{blue}{2(n-1)^2 +(n-1)}$ operações. Então, a quantidade $g(n)$ de somas e produtos para a eliminação toda será\n",
        "$$g(n)=g(n-1)+2(n-1)^2+(n-1),\\qquad g(2)=3.$$"
      ],
      "metadata": {
        "id": "Ji_ODjxTr1VH"
      }
    },
    {
      "cell_type": "markdown",
      "source": [
        "**Problema 2:** Considerando a expressão para $g(n)$, o último código para o calculo de determinate, por meio de eliminação, e a expressão para $A^{-1}$ apresentada acima.\n",
        "\n",
        "Determine quantas operações, no mínimo, serão necessárias para calcular $A^{-1}$, sendo $A$ uma matriz $n\\times n$ invertível, usando eliminação em vez de regra de Laplace para o cálculo de determinantes:\n",
        "\n",
        "a) De forma recorrente;\n",
        "\n",
        "b) De forma direta."
      ],
      "metadata": {
        "id": "r-GNmJTv44Xb"
      }
    },
    {
      "cell_type": "markdown",
      "source": [
        "#**Problema 3:**\n",
        "\n",
        "Vimos em aula que todo valor $R\\$n,00$ reais pode ser formado com notas de 2 e de cinco reais, ou seja, $n=2p+5q$, quando $n$ for um número natural maior ou igual a $4$, sendo $p$ e $q$ números naturais.\n",
        "\n",
        "Na demonstração (por indução) obtemos uma relação de recorrência que produz uma forma de obter as quantidades $p$ e $q$, de notas de 2 e de 5 reais.\n",
        "\n",
        "a) Use a relação de recorrência obtida em aula para escrever uma função (recorrente) em Python, para determinar valores para $p$ e $q$, dado $n$ natural;\n",
        "\n",
        "b) Encontre uma relação de recorrência diferente da do item a) para determinar $p$ e $q$;\n",
        "\n",
        "c) Escreva uma função (não recorrente, e sem usar as ideias da demonstração dada) em Python, para determinar valores para $p$ e $q$, dado $n$ natural;"
      ],
      "metadata": {
        "id": "Tdb2AA4NF0h-"
      }
    },
    {
      "cell_type": "markdown",
      "source": [
        "#**Exemplo:**\n",
        "\n",
        "[Busca binária](https://www.geeksforgeeks.org/binary-search/): o custo computacional $s(n)$ pode ser estimado por:\n",
        "\n",
        "$$\\begin{cases}s(n)&=&s\\left(\\left\\lfloor \\frac{n}{2}\\right\\rfloor\\right)+1\\\\\\\\s(1)=1\\end{cases},$$\n",
        "\n",
        "em que $\\left\\lfloor \\frac{n}{2}\\right\\rfloor$ é a parte inteira de $\\frac{n}{2}$. Por exemplo, $\\left\\lfloor \\frac{3}{2}\\right\\rfloor=1$\n",
        "\n"
      ],
      "metadata": {
        "id": "MhNGt8WmePYZ"
      }
    },
    {
      "cell_type": "markdown",
      "source": [
        "**Um caso particular:** Consideramos apenas $n=2^k$, para $k\\in \\mathbb{N}$.\n",
        "\n",
        "\n",
        "Seja $T(k)=S(2^k)=s(n)$. Então $$\\begin{cases}T(k)&=&T\\left(k-1\\right)+1\\\\\\\\T(0)&=&1\\end{cases}.$$\n",
        "\n",
        " Isso nos diz que\n",
        "$$\\begin{cases}T(k)&=&T\\left(k-1\\right)+1\\\\\\\\&=&(T\\left(k-2\\right)+1)+1\\\\\\\\&=&T(k-2)+2\\\\\\\\&=&T\\left(k-3\\right)+3\\\\\\\\\\vdots&\\vdots&\\vdots\\\\\\\\&=&T(0)+k&\\\\\\\\&=&1+k\\end{cases}.$$\n",
        "\n",
        "Então, como $log_2(n)=\\log_2(2^k)=k\\log_2(2)=k$, temos que\n",
        "\n",
        " $$s(n)=s(2^k)=1+k=1+log_2(n).$$\n",
        "\n",
        "Note que $$T(0)=s(1)=s(2^0)=1=1+log_2(1)$$ e que$$s(2n)=T(k+1)=s(2^{k+1})=s(2^k)+1=1+(k+1)=1+(log_2(2)+log_2(n))=1+log_2(2n),$$ o que é um demonstração por indução da validade da expressão obtida, para $n=2^k$.\n",
        "\n",
        "Note ainda que, $$0<s(n)\\leq 2log_2(n),\\qquad n=2^k,\\qquad k\\geq 1,$$ porque $1=log_2(2)\\leq \\log_2(n)$, quando $n\\geq 2$."
      ],
      "metadata": {
        "id": "-2_Vp-cgfw-C"
      }
    },
    {
      "cell_type": "markdown",
      "source": [
        "**O caso em que $n$ é um número natural**\n",
        "\n",
        "Vamos olhar o caso em que $n$ é apenas natural e maior que 0.\n",
        "\n",
        "Por exemplo, $$\\begin{cases}s(3)&=&s\\left(\\left\\lfloor \\frac{3}{2}\\right\\rfloor\\right)+1\\\\\\\\&=&s(1)+1\\\\&=&2\\end{cases},$$\n",
        "\n",
        "$$\\begin{cases}s(5)&=&s\\left(\\left\\lfloor \\frac{5}{2}\\right\\rfloor\\right)+1\\\\\\\\&=&s(2)+1\\\\&=&(s(1)+1)+1\\\\&=&3\\end{cases},$$\n",
        "$$\\begin{cases}s(6)&=&s\\left(\\left\\lfloor \\frac{6}{2}\\right\\rfloor\\right)+1\\\\\\\\&=&s(3)+1\\\\&=&2+1\\\\&=&3\\end{cases},$$\n",
        "$$\\begin{cases}s(7)&=&s\\left(\\left\\lfloor \\frac{7}{2}\\right\\rfloor\\right)+1\\\\\\\\&=&s(3)+1\\\\&=&3\\end{cases}, $$$$\\vdots$$\n",
        "\n",
        "Isso sugere que $s(n)$ pode ser limitado por $s(2^k)$.\n",
        "\n"
      ],
      "metadata": {
        "id": "U8ara3U-kU1A"
      }
    },
    {
      "cell_type": "markdown",
      "source": [
        "Vejamos mais alguns valores de $s(n)$:"
      ],
      "metadata": {
        "id": "18aYBE56eYIr"
      }
    },
    {
      "cell_type": "code",
      "source": [
        "import math\n",
        "\n",
        "def s(n):\n",
        "  if n==1:\n",
        "    p=1\n",
        "  else:\n",
        "    p=s(math.floor(n/2))+1   # floor(5/2) retorna 2, por exemplo.\n",
        "  return p"
      ],
      "metadata": {
        "id": "npO2m_fPdyAl"
      },
      "execution_count": null,
      "outputs": []
    },
    {
      "cell_type": "code",
      "source": [
        "for i in range(1,16+1):\n",
        "  print('n=',i,', s(n)=',s(i))"
      ],
      "metadata": {
        "colab": {
          "base_uri": "https://localhost:8080/"
        },
        "id": "l54RhQv3esF6",
        "outputId": "f18f876b-8680-48d6-e387-39e29a9a29aa"
      },
      "execution_count": null,
      "outputs": [
        {
          "output_type": "stream",
          "name": "stdout",
          "text": [
            "n= 1 , s(n)= 1\n",
            "n= 2 , s(n)= 2\n",
            "n= 3 , s(n)= 2\n",
            "n= 4 , s(n)= 3\n",
            "n= 5 , s(n)= 3\n",
            "n= 6 , s(n)= 3\n",
            "n= 7 , s(n)= 3\n",
            "n= 8 , s(n)= 4\n",
            "n= 9 , s(n)= 4\n",
            "n= 10 , s(n)= 4\n",
            "n= 11 , s(n)= 4\n",
            "n= 12 , s(n)= 4\n",
            "n= 13 , s(n)= 4\n",
            "n= 14 , s(n)= 4\n",
            "n= 15 , s(n)= 4\n",
            "n= 16 , s(n)= 5\n"
          ]
        }
      ]
    },
    {
      "cell_type": "markdown",
      "source": [
        "**Lema:** Seja $$\\begin{cases}s(n)&=&s\\left(\\left\\lfloor \\frac{n}{2}\\right\\rfloor\\right)+1\\\\\\\\s(1)=1\\end{cases}.$$\n",
        "\n",
        "Então, $$\\frac{1}{2} log_2(n)< s(n)\\leq 2log_2(n).\\qquad n\\geq 2.$$"
      ],
      "metadata": {
        "id": "7nzm7DnwEQlG"
      }
    },
    {
      "cell_type": "markdown",
      "source": [
        "**Prova:** Faremos a demonstração por indução finita.\n",
        "\n",
        "Para $n=2$, temos que $s(2)=s(1)+1=2$ e que $$\\frac{1}{2} log_2(2)<s(2)\\leq 2log_2(2).$$\n",
        "\n",
        "Se a desigualdade do enunciado for válida para todo $k$, com $2\\leq k\\leq n$, para algum $n$ natural. Então\n",
        "\n",
        "$$\\begin{cases}s(n+1)&=&s\\left(\\left\\lfloor \\frac{n+1}{2}\\right\\rfloor\\right)+1\\\\\\\\&\\leq&2\\log_2\\left(\\left\\lfloor \\frac{n+1}{2}\\right\\rfloor\\right)+1\\\\\\\\&=&2\\log_2\\left(2\\left\\lfloor \\frac{n+1}{2}\\right\\rfloor\\right)\\\\\\\\&\\leq &2\\log_2(n+1)\\end{cases}$$\n",
        "e\n",
        "$$\\begin{cases}s(n+1)&=&s\\left(\\left\\lfloor \\frac{n+1}{2}\\right\\rfloor\\right)+1\\\\\\\\&>&\\frac{1}{2}\\log_2\\left(\\left\\lfloor \\frac{n+1}{2}\\right\\rfloor\\right)+1\\\\\\\\&=&\\frac{1}{2}\\log_2\\left(2\\left\\lfloor \\frac{n+1}{2}\\right\\rfloor\\right)+\\frac{1}{2}\\\\\\\\&\\geq &\\frac{1}{2}\\log_2(n)+\\frac{1}{2}\\\\\\\\&=&\\frac{1}{2}\\log_2(2n)\\\\\\\\&\\geq &\\frac{1}{2}\\log_2(n+1)\\end{cases}$$\n",
        "\n",
        "Então a desigualdade vale, para todo $n$ natural. $\\hspace{2cm}\\square$"
      ],
      "metadata": {
        "id": "Yw1gEdKSEmpv"
      }
    },
    {
      "cell_type": "markdown",
      "source": [
        "Vejamos uma comparação das estimetivas:"
      ],
      "metadata": {
        "id": "UvfqUayZfTr7"
      }
    },
    {
      "cell_type": "code",
      "source": [
        "for i in range(1,16+1):\n",
        "  print('n=',i,', log2(n)/2=',math.log2(i)/2,', s(n)=',s(i),', 2log2(n)=',2*math.log2(i))"
      ],
      "metadata": {
        "colab": {
          "base_uri": "https://localhost:8080/"
        },
        "id": "RhsBPhy3fXBL",
        "outputId": "703e8550-b64d-4770-f609-7fa0d2352055"
      },
      "execution_count": null,
      "outputs": [
        {
          "output_type": "stream",
          "name": "stdout",
          "text": [
            "n= 1 , log2(n)/2= 0.0 , s(n)= 1 , 2log2(n)= 0.0\n",
            "n= 2 , log2(n)/2= 0.5 , s(n)= 2 , 2log2(n)= 2.0\n",
            "n= 3 , log2(n)/2= 0.792481250360578 , s(n)= 2 , 2log2(n)= 3.169925001442312\n",
            "n= 4 , log2(n)/2= 1.0 , s(n)= 3 , 2log2(n)= 4.0\n",
            "n= 5 , log2(n)/2= 1.160964047443681 , s(n)= 3 , 2log2(n)= 4.643856189774724\n",
            "n= 6 , log2(n)/2= 1.292481250360578 , s(n)= 3 , 2log2(n)= 5.169925001442312\n",
            "n= 7 , log2(n)/2= 1.403677461028802 , s(n)= 3 , 2log2(n)= 5.614709844115208\n",
            "n= 8 , log2(n)/2= 1.5 , s(n)= 4 , 2log2(n)= 6.0\n",
            "n= 9 , log2(n)/2= 1.584962500721156 , s(n)= 4 , 2log2(n)= 6.339850002884624\n",
            "n= 10 , log2(n)/2= 1.660964047443681 , s(n)= 4 , 2log2(n)= 6.643856189774724\n",
            "n= 11 , log2(n)/2= 1.7297158093186487 , s(n)= 4 , 2log2(n)= 6.918863237274595\n",
            "n= 12 , log2(n)/2= 1.792481250360578 , s(n)= 4 , 2log2(n)= 7.169925001442312\n",
            "n= 13 , log2(n)/2= 1.850219859070546 , s(n)= 4 , 2log2(n)= 7.400879436282184\n",
            "n= 14 , log2(n)/2= 1.903677461028802 , s(n)= 4 , 2log2(n)= 7.614709844115208\n",
            "n= 15 , log2(n)/2= 1.9534452978042594 , s(n)= 4 , 2log2(n)= 7.813781191217037\n",
            "n= 16 , log2(n)/2= 2.0 , s(n)= 5 , 2log2(n)= 8.0\n"
          ]
        }
      ]
    },
    {
      "cell_type": "markdown",
      "source": [
        "#**Números figurativos**"
      ],
      "metadata": {
        "id": "5Guz6MvbvOCs"
      }
    },
    {
      "cell_type": "markdown",
      "source": [
        "**![First_six_triangular_numbers.svg](data:image/svg+xml;base64,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) Números triangulares**"
      ],
      "metadata": {
        "id": "fyKQ_GtSHCug"
      }
    },
    {
      "cell_type": "markdown",
      "source": [
        "Os [números triangulares](https://en.wikipedia.org/wiki/Triangular_number) $T_n$são números obtidos como a quantidade de pontos nas figuras. Pode-se mostrar que\n",
        "\n",
        "$$\\begin{cases}T_{n}&=&T_{n-1}+n\\\\\\\\T_1&=&1\\end{cases}.$$"
      ],
      "metadata": {
        "id": "BBah4oaDHCuh"
      }
    },
    {
      "cell_type": "code",
      "source": [
        "def T(n):\n",
        "  if n==1:\n",
        "   return 1\n",
        "  else:\n",
        "    return T(n-1)+n"
      ],
      "metadata": {
        "id": "QwZw0cGWHCuh"
      },
      "execution_count": null,
      "outputs": []
    },
    {
      "cell_type": "code",
      "source": [
        "n=10\n",
        "for i in range(1,n+1):\n",
        "  print('i=',i,', T(i)=',T(i))"
      ],
      "metadata": {
        "colab": {
          "base_uri": "https://localhost:8080/"
        },
        "id": "qyoqGciCIJQP",
        "outputId": "acd62775-637d-49cc-8756-7e9015303bf4"
      },
      "execution_count": null,
      "outputs": [
        {
          "output_type": "stream",
          "name": "stdout",
          "text": [
            "i= 1 , T(i)= 1\n",
            "i= 2 , T(i)= 3\n",
            "i= 3 , T(i)= 6\n",
            "i= 4 , T(i)= 10\n",
            "i= 5 , T(i)= 15\n",
            "i= 6 , T(i)= 21\n",
            "i= 7 , T(i)= 28\n",
            "i= 8 , T(i)= 36\n",
            "i= 9 , T(i)= 45\n",
            "i= 10 , T(i)= 55\n"
          ]
        }
      ]
    },
    {
      "cell_type": "markdown",
      "source": [
        "Pode-se verificar que $T(n)=\\frac{n(n+1)}{2}$."
      ],
      "metadata": {
        "id": "JLo3QWWkHCuh"
      }
    },
    {
      "cell_type": "code",
      "source": [
        "for i in range(1,n+1):\n",
        "  print('i=',i,', T(i)=',i*(i+1)/2)"
      ],
      "metadata": {
        "colab": {
          "base_uri": "https://localhost:8080/"
        },
        "outputId": "1fb5457d-516c-45ec-d3fc-41f750dfe71b",
        "id": "2jNiAD2oHCuh"
      },
      "execution_count": null,
      "outputs": [
        {
          "output_type": "stream",
          "name": "stdout",
          "text": [
            "i= 1 , T(i)= 1.0\n",
            "i= 2 , T(i)= 3.0\n",
            "i= 3 , T(i)= 6.0\n",
            "i= 4 , T(i)= 10.0\n",
            "i= 5 , T(i)= 15.0\n",
            "i= 6 , T(i)= 21.0\n",
            "i= 7 , T(i)= 28.0\n",
            "i= 8 , T(i)= 36.0\n",
            "i= 9 , T(i)= 45.0\n",
            "i= 10 , T(i)= 55.0\n"
          ]
        }
      ]
    },
    {
      "cell_type": "markdown",
      "source": [
        "**![Hexagonal_numbers.svg](data:image/svg+xml;base64,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)Números hexagonais**"
      ],
      "metadata": {
        "id": "3n4IuurqEba6"
      }
    },
    {
      "cell_type": "markdown",
      "source": [
        "Os [números hexagonais](https://en.wikipedia.org/wiki/Hexagonal_number) $H_n$ são números obtidos como a quantidade de pontos nas figuras. Pode-se mostrar que\n",
        "$$\\begin{cases}H_{n}&=&H_{n-1}+4n-3\\\\\\\\H_1&=&1\\end{cases}.$$"
      ],
      "metadata": {
        "id": "vjjVM1jmEh4s"
      }
    },
    {
      "cell_type": "code",
      "source": [
        "def H(n):\n",
        "  if n==1:\n",
        "   return 1\n",
        "  else:\n",
        "    return H(n-1)+4*n-3"
      ],
      "metadata": {
        "id": "NXNglzBQErbD"
      },
      "execution_count": null,
      "outputs": []
    },
    {
      "cell_type": "code",
      "source": [
        "n=10\n",
        "for i in range(1,n+1):\n",
        "  print('i=',i,', H(i)=',H(i))"
      ],
      "metadata": {
        "colab": {
          "base_uri": "https://localhost:8080/"
        },
        "id": "JUy_o-UUnALc",
        "outputId": "1f491f93-c96c-4839-ab3d-0d46a7f662b0"
      },
      "execution_count": null,
      "outputs": [
        {
          "output_type": "stream",
          "name": "stdout",
          "text": [
            "i= 1 , H(i)= 1\n",
            "i= 2 , H(i)= 6\n",
            "i= 3 , H(i)= 15\n",
            "i= 4 , H(i)= 28\n",
            "i= 5 , H(i)= 45\n",
            "i= 6 , H(i)= 66\n",
            "i= 7 , H(i)= 91\n",
            "i= 8 , H(i)= 120\n",
            "i= 9 , H(i)= 153\n",
            "i= 10 , H(i)= 190\n"
          ]
        }
      ]
    },
    {
      "cell_type": "markdown",
      "source": [
        "Pode-se verificar que $H(n)=2n^2-n$."
      ],
      "metadata": {
        "id": "YTkqEVFeG18Y"
      }
    },
    {
      "cell_type": "code",
      "source": [
        "for i in range(1,n+1):\n",
        "  print('i=',i,', H(i)=',2*i**2-i)"
      ],
      "metadata": {
        "colab": {
          "base_uri": "https://localhost:8080/"
        },
        "id": "vNjxMdjaE-cn",
        "outputId": "336c1c41-9f5f-4acf-e87d-c7fc9f1ebec9"
      },
      "execution_count": null,
      "outputs": [
        {
          "output_type": "stream",
          "name": "stdout",
          "text": [
            "i= 1 , H(i)= 1\n",
            "i= 2 , H(i)= 6\n",
            "i= 3 , H(i)= 15\n",
            "i= 4 , H(i)= 28\n",
            "i= 5 , H(i)= 45\n",
            "i= 6 , H(i)= 66\n",
            "i= 7 , H(i)= 91\n",
            "i= 8 , H(i)= 120\n",
            "i= 9 , H(i)= 153\n",
            "i= 10 , H(i)= 190\n"
          ]
        }
      ]
    },
    {
      "cell_type": "markdown",
      "source": [
        "![Pentagonal_number.gif](data:image/gif;base64,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) **Números pentagonais**"
      ],
      "metadata": {
        "id": "3SLyQmW3iGte"
      }
    },
    {
      "cell_type": "markdown",
      "source": [
        "Os [números pentagonais](https://en.wikipedia.org/wiki/Pentagonal_number) $P_n$ são números obtidos como a quantidade de pontos nas figuras. Pode-se mostrar que\n",
        "$$\\begin{cases}P_{n}&=&P_{n-1}+3n-2\\\\\\\\P_1&=&1\\end{cases}.$$\n"
      ],
      "metadata": {
        "id": "rjQz92rvkeq5"
      }
    },
    {
      "cell_type": "code",
      "source": [
        "def P(n):\n",
        "  if n==1:\n",
        "   return 1\n",
        "  else:\n",
        "    return P(n-1)+3*n-2"
      ],
      "metadata": {
        "id": "5MIp_AUek_E5"
      },
      "execution_count": null,
      "outputs": []
    },
    {
      "cell_type": "code",
      "source": [
        "n=10\n",
        "for i in range(1,n+1):\n",
        "  print('i=',i,', P(i)=',P(i))"
      ],
      "metadata": {
        "colab": {
          "base_uri": "https://localhost:8080/"
        },
        "id": "lED-U1WAnnXO",
        "outputId": "ea3d95cc-e411-4d6e-9e0d-5b6ce56bc837"
      },
      "execution_count": null,
      "outputs": [
        {
          "output_type": "stream",
          "name": "stdout",
          "text": [
            "i= 1 , P(i)= 1\n",
            "i= 2 , P(i)= 5\n",
            "i= 3 , P(i)= 12\n",
            "i= 4 , P(i)= 22\n",
            "i= 5 , P(i)= 35\n",
            "i= 6 , P(i)= 51\n",
            "i= 7 , P(i)= 70\n",
            "i= 8 , P(i)= 92\n",
            "i= 9 , P(i)= 117\n",
            "i= 10 , P(i)= 145\n"
          ]
        }
      ]
    },
    {
      "cell_type": "markdown",
      "source": [
        "Pode-se verificar que $$P(n)=\\frac{3n^2-n}{2}.$$"
      ],
      "metadata": {
        "id": "RRUn8ksmnbxc"
      }
    },
    {
      "cell_type": "code",
      "source": [
        "for i in range(1,n+1):\n",
        "  print('i=',i,', P(i)=',(3*i**2-i)/2)"
      ],
      "metadata": {
        "colab": {
          "base_uri": "https://localhost:8080/"
        },
        "id": "23CgzSKYlFCa",
        "outputId": "6af9d0c7-9048-49ae-d3f4-25f6e151e84a"
      },
      "execution_count": null,
      "outputs": [
        {
          "output_type": "stream",
          "name": "stdout",
          "text": [
            "i= 1 , P(i)= 1.0\n",
            "i= 2 , P(i)= 5.0\n",
            "i= 3 , P(i)= 12.0\n",
            "i= 4 , P(i)= 22.0\n",
            "i= 5 , P(i)= 35.0\n",
            "i= 6 , P(i)= 51.0\n",
            "i= 7 , P(i)= 70.0\n",
            "i= 8 , P(i)= 92.0\n",
            "i= 9 , P(i)= 117.0\n",
            "i= 10 , P(i)= 145.0\n"
          ]
        }
      ]
    },
    {
      "cell_type": "markdown",
      "source": [
        "**Problema 4:**\n",
        "\n",
        "Sejam $A$ o conjunto dos números triangulares $T_n$, $B$ o conjunto dos números pentagonais $P_n$ e $C$ o conjunto dos números hexagonais $H_n$.\n",
        "\n",
        "a) (1.0 ponto) Mostre que $C\\cup A=A$.\n",
        "\n",
        "b) (1.0 ponto) Mostre que $B\\cap A \\supsetneq \\{1\\}$."
      ],
      "metadata": {
        "id": "-bTBV6FiK8aC"
      }
    }
  ]
}