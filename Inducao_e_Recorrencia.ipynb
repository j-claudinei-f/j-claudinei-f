{
  "nbformat": 4,
  "nbformat_minor": 0,
  "metadata": {
    "colab": {
      "provenance": [],
      "authorship_tag": "ABX9TyOTg0apy/r2P53tptvM0B9m",
      "include_colab_link": true
    },
    "kernelspec": {
      "name": "python3",
      "display_name": "Python 3"
    },
    "language_info": {
      "name": "python"
    }
  },
  "cells": [
    {
      "cell_type": "markdown",
      "metadata": {
        "id": "view-in-github",
        "colab_type": "text"
      },
      "source": [
        "<a href=\"https://colab.research.google.com/github/j-claudinei-f/j-claudinei-f/blob/main/Inducao_e_Recorrencia.ipynb\" target=\"_parent\"><img src=\"https://colab.research.google.com/assets/colab-badge.svg\" alt=\"Open In Colab\"/></a>"
      ]
    },
    {
      "cell_type": "markdown",
      "source": [
        "#**Texto auxiliar sobre demonstrações por indução e relações de recorrência**\n",
        "\n",
        "José Claudinei Ferreira\n",
        "\n",
        "Universidade Federal de Alfenas"
      ],
      "metadata": {
        "id": "Ty_liW81q9_y"
      }
    },
    {
      "cell_type": "markdown",
      "source": [
        "#**Teorema (infinidade de números primos):**\n",
        "\n",
        "Existem inifnitos números primos."
      ],
      "metadata": {
        "id": "axd_5fuZrPrZ"
      }
    },
    {
      "cell_type": "markdown",
      "source": [
        "**Demonstração:** Sabemos que um número natural $n$ é primo quando ele é divisível apenas por 1 e por ele mesmo.\n",
        "\n",
        "Suponha que o teorema seja falso. Isso implicaria que o conjunto $P$ de todos os números primos seria finito, ou seja, teria $p$ elementos, sendo $p$ um número natural.\n",
        "\n",
        "Então, poderíamos enumerar esses elementos de $P$ como $$P=\\{n_1,\\,n_2,\\,\\ldots,\\, n_p\\}.$$\n",
        "\n",
        "Se esse fosse o caso, o número natural $$n_{p+1}=n_1\\times n_2\\times\\cdots\\times n_p+1$$ <font color=blue> não seria divisivel por nenhum $n_j\\in P$ e, portanto, seria primo.\n",
        "\n",
        "Isso geraria um problema, porque supomos que existiam apenas $p$ números primos e não $p+1$.\n",
        "\n",
        "Logo, $P$ não pode ser finito."
      ],
      "metadata": {
        "id": "ewRmu-VKrdBs"
      }
    },
    {
      "cell_type": "markdown",
      "source": [
        "**Obs:** Não é sempre verdade que o número $p_{p+1}$ da demonstração é primo. Seria verdade se $P$ fosse finito, o que não é o caso. Mas se você testar alguns casos pode encontrar primos."
      ],
      "metadata": {
        "id": "NpfI3cattPdm"
      }
    },
    {
      "cell_type": "code",
      "execution_count": 1,
      "metadata": {
        "id": "jcNEtJQXq4UZ"
      },
      "outputs": [],
      "source": [
        "import sympy as sp # para usar a função isprime() que testa se um número é primo."
      ]
    },
    {
      "cell_type": "markdown",
      "source": [
        "Testendo alguns casos:"
      ],
      "metadata": {
        "id": "WFmQzGxxt2kp"
      }
    },
    {
      "cell_type": "code",
      "source": [
        "p=2*3+1\n",
        "p,sp.isprime(p)"
      ],
      "metadata": {
        "colab": {
          "base_uri": "https://localhost:8080/"
        },
        "id": "pUiDAeucuHW0",
        "outputId": "a1985c03-5e84-4d6c-da1b-296ed6bee6a6"
      },
      "execution_count": 3,
      "outputs": [
        {
          "output_type": "execute_result",
          "data": {
            "text/plain": [
              "(7, True)"
            ]
          },
          "metadata": {},
          "execution_count": 3
        }
      ]
    },
    {
      "cell_type": "code",
      "source": [
        "p=2*3*5+1\n",
        "p,sp.isprime(p)"
      ],
      "metadata": {
        "colab": {
          "base_uri": "https://localhost:8080/"
        },
        "id": "n4k37ymtuNAZ",
        "outputId": "9e894d83-51b9-48b4-bfcf-911852c7d445"
      },
      "execution_count": 4,
      "outputs": [
        {
          "output_type": "execute_result",
          "data": {
            "text/plain": [
              "(31, True)"
            ]
          },
          "metadata": {},
          "execution_count": 4
        }
      ]
    },
    {
      "cell_type": "code",
      "source": [
        "p=2*3*5*7+1\n",
        "p,sp.isprime(p)"
      ],
      "metadata": {
        "colab": {
          "base_uri": "https://localhost:8080/"
        },
        "id": "OEa7_agiuP2e",
        "outputId": "82153656-79fa-46f6-e340-9ae9aeaffe67"
      },
      "execution_count": 5,
      "outputs": [
        {
          "output_type": "execute_result",
          "data": {
            "text/plain": [
              "(211, True)"
            ]
          },
          "metadata": {},
          "execution_count": 5
        }
      ]
    },
    {
      "cell_type": "code",
      "source": [
        "p=2*3*5*7*11+1\n",
        "p,sp.isprime(p)"
      ],
      "metadata": {
        "colab": {
          "base_uri": "https://localhost:8080/"
        },
        "id": "ULJDKDQtt_Zt",
        "outputId": "306a56a4-36c9-4158-cef2-386b4513729e"
      },
      "execution_count": 2,
      "outputs": [
        {
          "output_type": "execute_result",
          "data": {
            "text/plain": [
              "(2311, True)"
            ]
          },
          "metadata": {},
          "execution_count": 2
        }
      ]
    },
    {
      "cell_type": "code",
      "source": [
        "p=2*3*5*7*11*13+1\n",
        "p,sp.isprime(p)"
      ],
      "metadata": {
        "colab": {
          "base_uri": "https://localhost:8080/"
        },
        "id": "69ESuuZsuT1a",
        "outputId": "c307d49c-8ade-4527-8561-86321336cf19"
      },
      "execution_count": 6,
      "outputs": [
        {
          "output_type": "execute_result",
          "data": {
            "text/plain": [
              "(30031, False)"
            ]
          },
          "metadata": {},
          "execution_count": 6
        }
      ]
    },
    {
      "cell_type": "markdown",
      "source": [
        "**Obs:** <font color=blue> Na verdade, na demonstração anterior apresentada usamos um resultado que podemos provar."
      ],
      "metadata": {
        "id": "Mb_lQWsbut7W"
      }
    },
    {
      "cell_type": "markdown",
      "source": [
        "#**Teorema:** Um número natural $n$ ou é primo ou é o produto de números primos."
      ],
      "metadata": {
        "id": "AIQCDRtHu_Sz"
      }
    },
    {
      "cell_type": "markdown",
      "source": [
        "**Demonstração:** <font color=blue> Faremos em sala."
      ],
      "metadata": {
        "id": "GQiAuRfNvMVJ"
      }
    }
  ]
}