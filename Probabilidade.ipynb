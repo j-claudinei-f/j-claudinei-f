{
  "nbformat": 4,
  "nbformat_minor": 0,
  "metadata": {
    "colab": {
      "provenance": [],
      "authorship_tag": "ABX9TyOEtP60B/lYbcHsKLjrZ3Cr",
      "include_colab_link": true
    },
    "kernelspec": {
      "name": "python3",
      "display_name": "Python 3"
    },
    "language_info": {
      "name": "python"
    }
  },
  "cells": [
    {
      "cell_type": "markdown",
      "metadata": {
        "id": "view-in-github",
        "colab_type": "text"
      },
      "source": [
        "<a href=\"https://colab.research.google.com/github/j-claudinei-f/j-claudinei-f/blob/main/Probabilidade.ipynb\" target=\"_parent\"><img src=\"https://colab.research.google.com/assets/colab-badge.svg\" alt=\"Open In Colab\"/></a>"
      ]
    },
    {
      "cell_type": "markdown",
      "source": [
        "#**Matemática Discreta**\n",
        "\n",
        "José Claudinei Ferreira\n",
        "\n",
        "Universidade Federal de Alfenas"
      ],
      "metadata": {
        "id": "ryw3TJUF2SaT"
      }
    },
    {
      "cell_type": "markdown",
      "source": [
        "#**Probabilidade**"
      ],
      "metadata": {
        "id": "E9d5jVrR2TSt"
      }
    },
    {
      "cell_type": "markdown",
      "source": [
        "Seja $A=\\{a_1,\\,a_2,\\ldots,\\,a_n\\}$ um  conjunto finito e não vazio e seja $\\mathcal{P}(A)$ o conjunto das partes de $A$, ou seja, o conjunto de todos os subconjuntos de $A$.\n",
        "\n",
        "O conjnto $A$ é chamado de espaço amostral em teoria de probabilidades. Os elementos de $\\mathcal{P}(A)$ são chamados de eventos."
      ],
      "metadata": {
        "id": "9FWHgx2w2V-1"
      }
    },
    {
      "cell_type": "markdown",
      "source": [
        "Seja $p:\\mathcal{P}(A)\\to [0,1]$ uma função. Dizemos que $p$ é uma probabilidade quando\n",
        ":\n",
        "\n",
        "*   $p(A)=1$;\n",
        "\n",
        "* Se $B,\\,C\\subset A$ e $B\\cap C=\\emptyset$, então\n",
        "$$p(B\\cup C)=p(B)+p(C).$$\n",
        "\n",
        "Em particular, vale $p(\\emptyset)=0$.\n",
        "\n",
        "\n",
        "---\n",
        "\n"
      ],
      "metadata": {
        "id": "3lnZHPjU7yJe"
      }
    },
    {
      "cell_type": "markdown",
      "source": [
        "**Exemplo 1:** Seja $A=\\{a_1,\\,a_2,\\ldots,\\,a_n\\}$ um  conjunto finito e não vazio e seja $\\mathcal{P}(A)$ o conjunto das partes de $A$.\n",
        "\n",
        "Seja $p:\\mathcal{P}(A)\\to [0,1]$ uma função, definida como\n",
        "$$p(B)=\\frac{1}{n}\\sum_{x_i\\in B}1=\\frac{m}{n},$$ em que $m$ é a quantidade de elementos de $B$. Então $p$ é uma probabilidade.\n",
        "\n",
        "\n",
        "---\n",
        "\n"
      ],
      "metadata": {
        "id": "XYl0lcqC56hq"
      }
    },
    {
      "cell_type": "markdown",
      "source": [
        "**Obs:** Uma informação importante é que, se $A$ tiver $n$ elementos, então $\\mathcal{P}(A)$ terá $2^n$ elementos.\n",
        "\n",
        "Isso pode ser demonstrado por indução:\n",
        "\n",
        "Se $A=\\{a_1\\}$ tem úm único elemento, então $\\mathcal{P}(A)=\\{\\emptyset,A\\}$ tem $2^1$ elementos.\n",
        "\n",
        "Supondo que que todo conjunto com $n$ elementos é tal que $\\mathcal{P}(A)$ tem $2^n$ elementos. Seja $B=\\{b_1,\\,b_2,\\ldots,\\,b_n,\\,b_{n+1}\\}$ um conjunto com $n+1$ elementos.\n",
        "\n",
        "Seja $C=\\{b_1,\\,b_2,\\ldots,\\,b_n\\}$ e note que $B=C\\cup \\{b_{n+1}\\}$. Então,\n",
        "$$\\mathcal{P}(B)=\\mathcal{P}(C)\\cup_{D\\in \\mathcal{P}(C) } \\left(C\\cup \\{b_{n+1}\\} \\right),$$ que é uma união de partes disjuntas. Como $\\mathcal{P}(C)$ e $\\cup_{D\\in \\mathcal{P}(C) } \\left(C\\cup \\{b_{n+1}\\} \\right)$ possuem $2^n$ elementos, temos que o número de elementos de $\\mathcal{P}(B)$ é $2\\times2^n=2^{n+1}$. E o resultado vale para todo $n$ natural.\n",
        "\n",
        "\n",
        "---\n",
        "\n"
      ],
      "metadata": {
        "id": "gUI-qq697_mG"
      }
    },
    {
      "cell_type": "markdown",
      "source": [
        "**Exemplo 2:** Lança-se uma moeda e observa-se a face que cai voltada para cima. O conjunto das possibilidades é $A=\\{cara,coroa\\}$, que é o espaço amostral. Há quatro eventos $\\emptyset$, $\\{cara\\}$, $\\{coroa\\}$ e $A$.\n",
        "\n",
        "\n",
        "---\n",
        "\n"
      ],
      "metadata": {
        "id": "ErZ53yxiArIE"
      }
    },
    {
      "cell_type": "markdown",
      "source": [
        "**Exemplo 3:** Lança-se uma moeda e observa-se a face que cai voltada para cima. Repete-se este procedimento quatro vez. O conjunto das possibilidades é $B=A\\times A\\times A\\times A$,  que é o espaço amostral, em que $A=\\{cara,coroa\\}$.\n",
        "\n",
        "Exemplos de eventos $\\emptyset$, $\\{(cara,cara,cara,cara)\\}$, $\\{(coroa,cara,coroa,cara)\\}$, ..., $B$."
      ],
      "metadata": {
        "id": "BJWEjHGoDt7F"
      }
    },
    {
      "cell_type": "markdown",
      "source": [
        "**Exemplo 4:** Lança-se uma moeda e observa-se a face que cai voltada para cima. O conjunto das possibilidades é $A=\\{cara,coroa\\}$, que é o espaço amostral. Uma função probabilidade $p:\\mathcal{P}(A)\\to [0,1]$ possível de ser definida é $p(\\emptyset)=0$, $p(\\{cara\\})=0.5$, $p(\\{coroa\\})=0.5$ e $p(A)=1$.\n",
        "\n",
        "\n",
        "---\n",
        "\n",
        "\n",
        "\n",
        "<font color=blue> Esse é um exemplo de modelo equiprobabilístico.\n"
      ],
      "metadata": {
        "id": "_GAiOvyWFQLS"
      }
    },
    {
      "cell_type": "markdown",
      "source": [
        "**Exemplo 5:** É esperado que a função de probabilidade nos dê alguma informação sobre a possibilidade de um evento ocorrer.\n",
        "\n",
        "Então, por exemplo, para o caso do lançamento de de uma moeda com alguma deformação (defeito de fabricação), pode ocorrer de fazermos vários experimentos de lançá-la e observarmos, por exemplo, que $60\\%$ das moedas caem com a face cara voltada para cima.\n",
        "\n",
        "Nesse caso, o conjunto das possibilidades é $A=\\{cara,coroa\\}$, que é o espaço amostral. Uma função probabilidade $p:\\mathcal{P}(A)\\to [0,1]$ mais adequada a situação é $p(\\emptyset)=0$, $p(\\{cara\\})=0.6$, $p(\\{coroa\\})=0.4$ e $p(A)=1$.\n",
        "\n",
        "\n",
        "---\n",
        "\n",
        "\n",
        "\n",
        "<font color=blue> Esse é um exemplo de modelo frequencial."
      ],
      "metadata": {
        "id": "MYp37G43G_dh"
      }
    },
    {
      "cell_type": "markdown",
      "source": [
        "<font color=red> Quando nada é dito sobre um espaço amostral, supõe-se que o modelo é equiprobabilístico."
      ],
      "metadata": {
        "id": "cJ5_2pPR3USC"
      }
    },
    {
      "cell_type": "markdown",
      "source": [
        "**Notação:** É comum usarmos as notações.\n",
        "\n",
        "Se $B,\\,C\\subset A$:\n",
        "\n",
        "\n",
        "*   $B\\setminus C$ como o conjunto dos elementos de $A$ que estão em $B$ e não estão em $C$;\n",
        "\n",
        "*   $\\overline{B}$ como o conjunto dos elementos de $A$ que não estão em $B$.\n",
        "\n",
        "Assim, se $p:\\mathcal{P}(A)\\to [0,1]$ é uma probabilidade, vale as propriedades:\n",
        "\n",
        "1.  $p(\\overline{B})=1-p(B)$;\n",
        "2.  $p(B\\setminus C)=p(B)-p(B\\cap C)$;\n",
        "3. $p(B\\cup C)=p(B)+p(C)-p(B\\cap C)$;\n",
        "4. Se $C\\subset B$, então $p(B)\\geq p(C)$.\n",
        "\n",
        "Essas propriedades seguem da contagem de elementos dos conjuntos envolvidos e do fato de $p$ ser uma probabilidade.\n",
        "\n",
        "\n",
        "---\n",
        "\n",
        "\n",
        "\n"
      ],
      "metadata": {
        "id": "16ufgzsdIO5h"
      }
    },
    {
      "cell_type": "markdown",
      "source": [
        "**Exemplo 6:** Em um grupo de $r$ pessoas, qual a probablidade de haver pelo menos duas delas que fazem aniversário no mesmo dia?\n",
        "\n",
        "Vamos analisar a rpobabilidade de isso não acontecer. O número de casos  possíveis para aniversários das $r$ pessoas é $365^r$. O número de casos em que todos aniversariam em dias diferentes é $365\\times 364\\times\\cdots \\times (365-(r-1))$. Então a probabilidade de não haver pelo menos duas pessoas com aniversário no mesmo dia é $$\\frac{365\\times 364\\times\\cdots \\times (365-(r-1))}{365^r}.$$ E a probilidade de pelo menos duas pessoas fazerm aniversário no mesmo dia será\n",
        "$$1-\\frac{365\\times 364\\times\\cdots \\times (365-(r-1))}{365^r}.$$"
      ],
      "metadata": {
        "id": "2_N1IgF1NQl2"
      }
    },
    {
      "cell_type": "markdown",
      "source": [
        "Note que $r$ pode ser no máximo $366$, caso contrário o argumento terá prblemas."
      ],
      "metadata": {
        "id": "Ui-nIcgh1YBT"
      }
    },
    {
      "cell_type": "markdown",
      "source": [
        "Vamos testar esses números"
      ],
      "metadata": {
        "id": "9BMIr8WdP7x0"
      }
    },
    {
      "cell_type": "code",
      "source": [
        "for r in range(1,10+1):\n",
        "  q=365\n",
        "  for j in range(1,5*r):\n",
        "    q=q*(365-j)\n",
        "  p=q/(365**(5*r))\n",
        "  print('Probabilidade de pelo menos dois fazerem aniversário no mesmo dia, num grupo de',5*r,'pessoas:',1-p)"
      ],
      "metadata": {
        "colab": {
          "base_uri": "https://localhost:8080/"
        },
        "id": "qlfOgOqTP5VS",
        "outputId": "1aacf8c5-ce41-44a0-a7e1-6eee73c59040"
      },
      "execution_count": 2,
      "outputs": [
        {
          "output_type": "stream",
          "name": "stdout",
          "text": [
            "Probabilidade de pelo menos dois fazerem aniversário no mesmo dia, num grupo de 5 pessoas: 0.02713557369979358\n",
            "Probabilidade de pelo menos dois fazerem aniversário no mesmo dia, num grupo de 10 pessoas: 0.11694817771107768\n",
            "Probabilidade de pelo menos dois fazerem aniversário no mesmo dia, num grupo de 15 pessoas: 0.25290131976368635\n",
            "Probabilidade de pelo menos dois fazerem aniversário no mesmo dia, num grupo de 20 pessoas: 0.41143838358057994\n",
            "Probabilidade de pelo menos dois fazerem aniversário no mesmo dia, num grupo de 25 pessoas: 0.5686997039694639\n",
            "Probabilidade de pelo menos dois fazerem aniversário no mesmo dia, num grupo de 30 pessoas: 0.7063162427192686\n",
            "Probabilidade de pelo menos dois fazerem aniversário no mesmo dia, num grupo de 35 pessoas: 0.8143832388747152\n",
            "Probabilidade de pelo menos dois fazerem aniversário no mesmo dia, num grupo de 40 pessoas: 0.891231809817949\n",
            "Probabilidade de pelo menos dois fazerem aniversário no mesmo dia, num grupo de 45 pessoas: 0.940975899465775\n",
            "Probabilidade de pelo menos dois fazerem aniversário no mesmo dia, num grupo de 50 pessoas: 0.9703735795779884\n"
          ]
        }
      ]
    },
    {
      "cell_type": "markdown",
      "source": [
        "**Obs:** Cabe observar que o princípio das gavetas (ou a média aritmética) nos diz que sempre há pelo menos duas pessoas que fazem aniversário no mesmo dia, num grupo de 366 pessoas. Então a probabilidade será 1, quando $r\\geq 366$.\n",
        "\n",
        "\n",
        "---\n",
        "\n"
      ],
      "metadata": {
        "id": "HKRh0Nuuzre-"
      }
    },
    {
      "cell_type": "markdown",
      "source": [
        "**Exemplo 7:** Em uma loteria de $N$ números há só um prêmio, por sorteio.\n",
        "\n",
        "Salvador com $n$ ($1<n<N$) bilhetes para úm único sorteio.\n",
        "\n",
        "Sílvio compra $n$ bilhetes, um para cada $n$ sorteios.\n",
        "\n",
        "Qual dos dois têm mais chances de ganhar algum prêmio?"
      ],
      "metadata": {
        "id": "YWTZI-2E2Lv8"
      }
    },
    {
      "cell_type": "markdown",
      "source": [
        "Nesse caso, as chances de Salvador são de $$\\frac{n}{N}.$$\n",
        "\n",
        "Por outro lado, as chances de Silvio não ganhar, em cada sorteio, são $$\\frac{N-1}{N}.$$ Então as chances de ele não ganhar em um dos $n$ sorteios será\n",
        "$$\\left(\\frac{N-1}{N}\\right)^n.$$\n",
        "\n",
        "Sendo assim, as chaces de Silvio ganhar será\n",
        "$$1-\\left(\\frac{N-1}{N}\\right)^n.$$\n",
        "\n",
        "Usando a desigualdade de Bernoulli $(1+x)^n\\geq 1+nx$, para $x>-1$, temos que\n",
        "$$\\left(\\frac{N-1}{N}\\right)^n=\\left(1-\\frac{1}{N}\\right)^n\\geq 1-\\frac{n}{N}.$$ Assim as chances de Salvador ganhar são maiores que as de Sílvio, porque\n",
        "$$1-\\left(\\frac{N-1}{N}\\right)^n\\leq 1-\\left( 1-\\frac{n}{N}\\right)= \\frac{n}{N}.$$\n",
        "\n",
        "---"
      ],
      "metadata": {
        "id": "ZXFk73xx3OA5"
      }
    },
    {
      "cell_type": "markdown",
      "source": [
        "**Obs:** É comum em probabilidade o uso do termo valor esperado. Esse valor é a média ponderada dos elementos do conjunto numérico (ou espaço amostral) $A=\\{x_1,\\, x_2,\\,..., \\,x_n\\}$, com a probabilidade de cada elemento $x_i$ dada por $p_i$, ou seja, o valor esperado de $A$ é $$p_1x_1+p_2x_2+\\cdots+ p_nx_n.$$\n",
        "\n",
        "Em um modelo adequado, os valores $p_i$ devem representar a realidade e são obtidos popr meio de número grande de simulações.\n",
        "\n",
        "---"
      ],
      "metadata": {
        "id": "FSEpNP_k7l2o"
      }
    },
    {
      "cell_type": "markdown",
      "source": [
        "#**Probabilibade Condicional**\n"
      ],
      "metadata": {
        "id": "qqttfcAj-ppN"
      }
    },
    {
      "cell_type": "markdown",
      "source": [
        "Seja $A$ um espaço amostral e considere dois eventos $B$ e $C$. O símbolo $p(B|C)$ representamos a probabilidade de ocorrer o evento $B$, dado que o evento $C$ já conteceu.\n",
        "\n",
        "Na realidade consideramos $C$ como um novo espaço amostral (talvez reduzido), dentro do qual queremos a probabilidade do evento $B$.\n",
        "\n",
        "---"
      ],
      "metadata": {
        "id": "7PgcWgSx_XHM"
      }
    },
    {
      "cell_type": "markdown",
      "source": [
        "**Exemplo 8:** Um dado não viciado é lançado e observa-se a face de cima.\n",
        "\n",
        "Consideremos o evento $B$ que representa que o número observado é par.\n",
        "\n",
        "Considere o evento $C$ que representa que o número observado é diferente de 1.\n",
        "\n",
        "Suponda que o dado foi lançado e alguém observou que o número na face de cima não é 1. Qual é a probabilidade de o número ser par?"
      ],
      "metadata": {
        "id": "yo0ivtk-Aze0"
      }
    },
    {
      "cell_type": "markdown",
      "source": [
        "Nesse caso, é claro que $B\\subset C$ e o espaço amostral do problema é $C=\\{2,\\,3,\\,4,\\,5,\\,6\\}$, que tem 5 elementos. Ainda, $B=\\{2,\\,4,\\,6\\}$ tem 3 elementos.\n",
        "\n",
        "A probabilidade de o número oservado ser par, sabendo que é diferente de 1 é $$\\frac{3}{5}.$$\n",
        "\n",
        "---"
      ],
      "metadata": {
        "id": "S6674748JDen"
      }
    },
    {
      "cell_type": "markdown",
      "source": [
        "**Notação:** Vamos denotar o número de elementos de um conjunto $A$ por $\\#A$.\n",
        "\n",
        "<font color=blue> Com essa notação, se $A$ for um espaço amostral $B, C\\subset A$. Então a probabilidade de ocorrer $B$, dado que $C$ ocorre é dada por $$p(B|C)=\\frac{\\# (B\\cap C)}{\\# C},$$ num modelo equiprobabilístico, porque os elementos de $B$ que podem ocorrer estão em $B\\cap C$.\n",
        "\n",
        "<font color=blue> Segue que $$p(B|C)=\\frac{\\# (B\\cap C)}{\\# C}\\times\\frac{\\# A}{\\# A}=\\frac{\\frac{\\# (B\\cap C)}{\\# A}}{\\frac{\\# C}{\\# A}}=\\frac{p(B\\cap C)}{p(C)}$$\n",
        "\n",
        "---"
      ],
      "metadata": {
        "id": "_ltr7zHgMLJh"
      }
    },
    {
      "cell_type": "markdown",
      "source": [
        "**Obs:** Surge dessa ideia o conceito de eventos independentes $B$ e $C$, que são aqueles em que $P(B|C)=p(B)$ e $P(C|B)=p(C)$. Nesse caso, temos que $p(B\\cap C)=p(B)\\times p(C)$.\n",
        "\n",
        "---"
      ],
      "metadata": {
        "id": "5O7vtEUBPXHg"
      }
    },
    {
      "cell_type": "markdown",
      "source": [
        "**Exemplo 9:** Uma urna tem 4 bolas brancas e 6 bolas pretas. Retiram-se sucessivamente e sem reposição duas bolas dessa urna.\n",
        "\n",
        "a) Qual a probabilidade de as duas serem brancas?\n",
        "\n",
        "b) Sabendo que a segunda bola é branca. Qual é a probabilidade de a primeira ser branca também?"
      ],
      "metadata": {
        "id": "iHQxJP66Px3M"
      }
    },
    {
      "cell_type": "markdown",
      "source": [
        "**Olhando para o espaço amostral:** Vamos identificar as bolas da urna como $U=\\{b_1,\\,b_2,\\,b_3,\\,b_4,\\,p_1,\\,p_2,\\,p_3,\\,p_4,\\,p_5,\\,p_6\\}$, em que $b_i$ denota uma bola branca e $p_j$ denota uma bola preta.\n",
        "\n",
        "O total de possibilidade de escolha de duas bolas, um depois a outra, é $10\\times9=90.$  Podemos divir esse total em 4 partes disjuntas da forma:\n",
        "* $(b_i,b_j)$ que tem $4\\times 3=12$ possibilidades;\n",
        "* $(b_i,p_j)$ que tem $4\\times 6=24$ possibilidades;\n",
        "* $(p_j,b_i)$ que tem $6\\times 4=24$ possibilidades;\n",
        "* $(p_i,p_j)$ que tem $6\\times 5=30$ possibilidades.\n",
        "\n",
        "O espaço amostral será o conjunto $A=\\{(x,y)|\\, x,y\\in U,\\, x\\neq y\\}$ que tem 90 elementos."
      ],
      "metadata": {
        "id": "3BQCKtB3Ql1Z"
      }
    },
    {
      "cell_type": "markdown",
      "source": [
        "a) Neste caso, a probabibildade de retirarmos duas bolas brancas será:\n",
        "$\\frac{12}{90}=\\frac{2}{15}.$"
      ],
      "metadata": {
        "id": "ZvQAdTrLa1-v"
      }
    },
    {
      "cell_type": "markdown",
      "source": [
        "b) Sabendo que a segunda bola é branca, reduzimos o nosso espaço amostral, que agora tem $12+24=36$ possibilidades. Então a probabilidade da primeira bola também ser branca é $$\\frac{12}{36}=\\frac{1}{3}.$$"
      ],
      "metadata": {
        "id": "SPZ_0JkNbKb0"
      }
    },
    {
      "cell_type": "markdown",
      "source": [
        "**Usando as fórmulas de probabilidade:**\n",
        "\n",
        "a) A probabilidade de sair a primeira bola branca é $4/10$ e da segunda é $3/9$, porque não há reposição. Então a probabilidade de escolher as duas bolas brancas será o produto $$\\frac{4\\times 3}{10\\times 9}==\\frac{4}{10}\\times\\frac{3}{9}=\\frac{12}{90}=\\frac{2}{15}.$$\n",
        "\n",
        "b) A probabilidade de escolher duas bolas brancas já foi calculado no item a). E isso está de acordo com o fato de a segunda ser branca.\n",
        "\n",
        "Agora observe que a segunda bola pode ser branca e a primeira não ser, ou as duas podem ser brancas. Como não há intersecção nessas possibilidades, obtemos que a probabilidade de a segunda bola ser branca é a soma das probabilidades de as duas serem brancas, que é $$\\frac{4\\times 3}{10\\times 9}=\\frac{4}{10}\\times\\frac{3}{9}=\\frac{2}{15}$$ com a probailidade de a segunda ser branca e a primeira ser preta, que é $$\\frac{6\\times 4}{10\\times 9}=\\frac{6}{10}\\times\\frac{4}{9}=\\frac{4}{15}.$$ Segue que a probabilidade de a segunda bola ser branca é $$\\frac{2}{15}+\\frac{4}{15}=\\frac{6}{15}.$$\n",
        "\n",
        "Então a probabilidade da primeira bola também ser branca é $$\\frac{\\frac{2}{15}}{\\frac{6}{15}}=\\frac{2}{6}=\\frac{1}{3}.$$\n",
        "\n",
        "Aqui estamos usando a expressão $$p(B|C)=\\frac{p(B\\cap C)}{p(C)},$$ em que $C=\\{(x,b_j)| \\text{ a segunda bola é branca}\\}\\subset A$ e $B=\\{(b_i,y)|\\text{ a primeira bola é branca}\\}\\subset A$. Note que $B\\cap C=\\{(b_i,b_j)|\\text{ as duas bolas são brancas}\\}\\subset A$.\n",
        "\n",
        "---"
      ],
      "metadata": {
        "id": "78FAdCGPc6AD"
      }
    },
    {
      "cell_type": "markdown",
      "source": [
        "**Obs:** Repito no que segue o trecho:\n",
        "\n",
        "\" a) A probabilidade de sair a primeira bola branca é $4/10$ e da segunda é $3/9$, porque não há reposição. ...\"\n",
        "\n",
        "Uma forma de pensar sobre essa passagem é a seguinte. Para escolher a primeira bola branca, você teria que escolher uma entre as quatro brancas, na urna que contém 10 bolas. A probabilidade disso ocorrer é $\\displaystyle \\frac{4}{10}$.\n",
        "\n",
        "Escolhida essa bola, você pode esquecer-se que houve essa quarta bola branca, pode até esquecer-se da urna. Pode iniciar o raciocínio, com (outras) 3 bolas brancas, (outras) 6 bolas pretas, em uma (outra) urna. Então, para escolher a uma (a segunda) bola branca, você teria que escolher uma entre as três brancas, na urna que contém 9 bolas. A probabilidade disso ocorrer é $\\displaystyle \\frac{3}{9}$.\n",
        "\n",
        "Nesse modo de pensar, a escolha da segunda bola não depende da escolha da primeira. A probabilidade desses dois eventos independentes ocorrer será o produdo da probabilidade de cada um ocorrer, ou seja$$\\displaystyle \\frac{4}{10}\\times \\frac{3}{9}=\\frac{2}{15}.$$\n",
        "\n",
        "Essa é a ideia usada no item b) e é usada em experiências com vários estágios, por meio de [árvores de prbabilidade](https://pt.wikipedia.org/wiki/Diagrama_de_%C3%A1rvore).\n",
        "\n"
      ],
      "metadata": {
        "id": "cnbZWwMSLz8o"
      }
    }
  ]
}