{
  "nbformat": 4,
  "nbformat_minor": 0,
  "metadata": {
    "colab": {
      "provenance": [],
      "authorship_tag": "ABX9TyMg8Ln5rbY8zwA2YiE/pgbu",
      "include_colab_link": true
    },
    "kernelspec": {
      "name": "python3",
      "display_name": "Python 3"
    },
    "language_info": {
      "name": "python"
    }
  },
  "cells": [
    {
      "cell_type": "markdown",
      "metadata": {
        "id": "view-in-github",
        "colab_type": "text"
      },
      "source": [
        "<a href=\"https://colab.research.google.com/github/j-claudinei-f/j-claudinei-f/blob/main/Runge_Kutta.ipynb\" target=\"_parent\"><img src=\"https://colab.research.google.com/assets/colab-badge.svg\" alt=\"Open In Colab\"/></a>"
      ]
    },
    {
      "cell_type": "markdown",
      "source": [
        "# **Introdução às equações diferencias ordinárias:**\n",
        "\n",
        "**Métodos de Runge Kutta e derivação numérica**\n",
        "\n",
        "\n",
        " *José Claudinei Ferrreira*\n",
        "\n",
        " *Universidade Federal de Alfenas (UNIFAL-MG)*"
      ],
      "metadata": {
        "id": "iBBCCmxD8xJY"
      }
    },
    {
      "cell_type": "markdown",
      "source": [
        "[Link](https://github.com/j-claudinei-f/j-claudinei-f/blob/main/DerivadaNumerica_Runge_Kutta.ipynb) sobre teoria."
      ],
      "metadata": {
        "id": "vJJRVeNHHmhZ"
      }
    },
    {
      "cell_type": "markdown",
      "source": [
        "#**Exemplo 1**\n",
        "\n",
        "Considere a equação diferencial ordinária\n",
        "$$\\begin{cases}u'(t)&=&u(t)\\\\u(0)=1\n",
        "\\end{cases},$$ que sabemos a solução, ou seja, que $$u(t)=e^t.$$\n",
        "\n",
        "Vamos usar esta equação para testar a diferença entre os métodos."
      ],
      "metadata": {
        "id": "Owbjs-wk8-rG"
      }
    },
    {
      "cell_type": "markdown",
      "source": [
        "Por exemplo, tomando\n",
        "\\begin{eqnarray*}\n",
        "\tx_p&=&t_0+ph\\\\\n",
        "\tk_1&=&F(x_p,y_p)\\\\\n",
        "\tk_2&=&F(x_p+h,y_p+hk_1)\\end{eqnarray*}\n",
        "obtemos um método dado por $$\ty(x_p+h)\\,\\approx\\,y_{p+1}=y_p+\\frac{h}{2}\\left(k_1+k_2\\right),$$ para $p=1,\\,2,\\,\\ldots n-1$. Esse método é conhecido como **método de Euler melhorado**."
      ],
      "metadata": {
        "id": "tKxqD11fE6lC"
      }
    },
    {
      "cell_type": "code",
      "execution_count": null,
      "metadata": {
        "id": "61OccB4TEnNn"
      },
      "outputs": [],
      "source": []
    }
  ]
}