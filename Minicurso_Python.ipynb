{
  "cells": [
    {
      "cell_type": "markdown",
      "metadata": {
        "id": "view-in-github",
        "colab_type": "text"
      },
      "source": [
        "<a href=\"https://colab.research.google.com/github/j-claudinei-f/j-claudinei-f/blob/main/Minicurso_Python.ipynb\" target=\"_parent\"><img src=\"https://colab.research.google.com/assets/colab-badge.svg\" alt=\"Open In Colab\"/></a>"
      ]
    },
    {
      "cell_type": "markdown",
      "source": [
        "#**Rascunho mincurso Python**"
      ],
      "metadata": {
        "id": "LLKyC7ViwQr5"
      },
      "id": "LLKyC7ViwQr5"
    },
    {
      "cell_type": "markdown",
      "source": [
        "#**Uma apresentação**\n",
        "\n"
      ],
      "metadata": {
        "id": "_PWLYLnqwZnK"
      },
      "id": "_PWLYLnqwZnK"
    },
    {
      "cell_type": "markdown",
      "source": [
        "**Porque eu resolvi aprender Python?**\n",
        "\n",
        "Bem eu ainda não parendi, mas espero conseguir ir aprendendo aos poucos. Mas isso não responde o porquê de eu querer inciar.\n"
      ],
      "metadata": {
        "id": "z_qMphhQwoSx"
      },
      "id": "z_qMphhQwoSx"
    },
    {
      "cell_type": "markdown",
      "source": [
        "Destaco dois motivos para eu querer aprender Python, opa aprender a programar computadores:\n",
        "\n",
        "* Eu preciso e gosto de fazer alguns cálculos nas coisas que faço, no caso, como professor de matemática. Eu preciso de uma calculadora boa, de certa forma. E eu gosto de saber [como as calculadoras fazem o que fazem](https://en.wikibooks.org/wiki/Digital_Circuits/CORDIC).\n",
        "\n",
        "*   Eu gosto de robótica, [com sucata](http://basenacionalcomum.mec.gov.br/implementacao/praticas/caderno-de-praticas/ensino-fundamental-anos-finais/172-robotica-com-sucata-promovendo-a-sustentabilidade-2), embora saiba muito pouco a esse respeito.\n",
        "\n"
      ],
      "metadata": {
        "id": "v5NaM0d1Z47u"
      },
      "id": "v5NaM0d1Z47u"
    },
    {
      "cell_type": "markdown",
      "source": [
        "Dados os dois motivos mencionados, eu brinco com as duas coisas, já há algum tempo. E com o passar do tempo eu preciso, por vários motivos, trocar de linguagem. Eu fiz isso várias vezes. Dependendo do que eu quiser fazer eu posso precisar de uma ou mais de uma linguagem específica.\n",
        "\n",
        "Então uma resposta ao porque de aprender Python, para o meu caso, é buscar usar uma linguagem só, e usar uma online, para anotar o que eu quiser, na hora que eu quiser."
      ],
      "metadata": {
        "id": "SZM0dHbBad2u"
      },
      "id": "SZM0dHbBad2u"
    },
    {
      "cell_type": "markdown",
      "source": [
        "Bom, isso não convence nem a mim mesmo do porquê de usar Python e não outra coisa. Então eu digo que escolhi por acaso!"
      ],
      "metadata": {
        "id": "jf_waDbBcarV"
      },
      "id": "jf_waDbBcarV"
    },
    {
      "cell_type": "markdown",
      "source": [
        "**Mas o que é Python?**"
      ],
      "metadata": {
        "id": "d211m--gwSed"
      },
      "id": "d211m--gwSed"
    },
    {
      "cell_type": "markdown",
      "source": [
        "Digamos que é uma forma de você se comunicar com o computador. Como o tempo, isso vai tomando sentidos diferentes para mim.\n",
        "\n",
        "*Há vários arquivos que você precisa para que isso funcione.* Não vamos falar disso aqui nesse minicurso. Vamos usar tudo online, que deixa muitos detalhes atrás da cortina, onde eu olho pouco na verdade. Um dia quero olhar o que tem lá, com calma, mas não hoje."
      ],
      "metadata": {
        "id": "CJCr7hnGyncu"
      },
      "id": "CJCr7hnGyncu"
    },
    {
      "cell_type": "markdown",
      "source": [
        "**Mas o que é Python?** (versão 2)"
      ],
      "metadata": {
        "id": "g5MQCu76yxIA"
      },
      "id": "g5MQCu76yxIA"
    },
    {
      "cell_type": "markdown",
      "source": [
        "Já que vamos usar tudo online nesse mini-curso. Aprender Python é aprender a pensar sobre o que quer comincar ao computador, como vai fazer isso, e o que quer receber de volta.\n",
        "\n",
        "É muita coisa que se pode fazer hoje com um computador. E a cada dia mais coisa aparece. "
      ],
      "metadata": {
        "id": "jmsUL_GwzHSh"
      },
      "id": "jmsUL_GwzHSh"
    },
    {
      "cell_type": "markdown",
      "source": [
        "#**Começando com o retorno**\n",
        "\n"
      ],
      "metadata": {
        "id": "bPqM8xuz0GA8"
      },
      "id": "bPqM8xuz0GA8"
    },
    {
      "cell_type": "markdown",
      "source": [
        "Uma forma de obter um retorno de um computador é ver o que for impresso na tela. \n",
        "\n",
        "Aqui no Colab, clique aí no canto da sua tela em +Código (ou Ctrl+MB). Se fez isso, vai aparecer uma caixa logo abaixo."
      ],
      "metadata": {
        "id": "pI5Fr-mleNw9"
      },
      "id": "pI5Fr-mleNw9"
    },
    {
      "cell_type": "code",
      "source": [
        "1+1 "
      ],
      "metadata": {
        "colab": {
          "base_uri": "https://localhost:8080/"
        },
        "id": "2EFJbre90vbR",
        "outputId": "399d140d-309c-4140-8fb0-bb80745bb3ff"
      },
      "id": "2EFJbre90vbR",
      "execution_count": 31,
      "outputs": [
        {
          "output_type": "execute_result",
          "data": {
            "text/plain": [
              "2"
            ]
          },
          "metadata": {},
          "execution_count": 31
        }
      ]
    },
    {
      "cell_type": "markdown",
      "source": [
        "Outro caso:\n",
        "\n",
        "**Obs:** Comentários no meio do código são úteis em leituras posteriores. Fazemo isso com #."
      ],
      "metadata": {
        "id": "VYle1UOL9rI0"
      },
      "id": "VYle1UOL9rI0"
    },
    {
      "cell_type": "code",
      "source": [
        "3*4                              # 3*4 é igual a 3x4.\n"
      ],
      "metadata": {
        "colab": {
          "base_uri": "https://localhost:8080/"
        },
        "id": "smIUf59K6Q0u",
        "outputId": "753a5796-4d0a-46ee-ee07-6600bb7970b2"
      },
      "id": "smIUf59K6Q0u",
      "execution_count": 32,
      "outputs": [
        {
          "output_type": "execute_result",
          "data": {
            "text/plain": [
              "12"
            ]
          },
          "metadata": {},
          "execution_count": 32
        }
      ]
    },
    {
      "cell_type": "markdown",
      "source": [
        "Escrevi $1+1$ e depois cliquei no botão play (ou Ctrl+Enter). O retorno foi o esperado, ou seja 2.\n",
        "\n",
        "Esse é o uso como calculadora, daquelas bem simples. Vamos para mais um exemplo. "
      ],
      "metadata": {
        "id": "2f1T-AJ81LfZ"
      },
      "id": "2f1T-AJ81LfZ"
    },
    {
      "cell_type": "markdown",
      "source": [
        "O sinal de + e - é usual. Para produto usamos $*$ e para divisão usamos.\n",
        "\n",
        "Veja cono digitar $$2+\\frac{3\\times 4}{7-9}.$$"
      ],
      "metadata": {
        "id": "TXohSWdtfCqs"
      },
      "id": "TXohSWdtfCqs"
    },
    {
      "cell_type": "code",
      "source": [
        "p=2+3*4/(7-9)\n",
        "\n",
        "print(p)       # print é o comando para colocar na tela um resultado.\n",
        "\n",
        "3*7"
      ],
      "metadata": {
        "colab": {
          "base_uri": "https://localhost:8080/"
        },
        "id": "bE0kwZ3_1r9a",
        "outputId": "cfa94186-19d8-4eb7-84a0-ee71af21ffc3"
      },
      "id": "bE0kwZ3_1r9a",
      "execution_count": 33,
      "outputs": [
        {
          "output_type": "stream",
          "name": "stdout",
          "text": [
            "-4.0\n"
          ]
        },
        {
          "output_type": "execute_result",
          "data": {
            "text/plain": [
              "21"
            ]
          },
          "metadata": {},
          "execution_count": 33
        }
      ]
    },
    {
      "cell_type": "markdown",
      "source": [
        "Já para potência, digamos $2^4$, usamos dois $*$. Veja aí."
      ],
      "metadata": {
        "id": "SFNAuDGR1_nY"
      },
      "id": "SFNAuDGR1_nY"
    },
    {
      "cell_type": "code",
      "source": [
        "2**4"
      ],
      "metadata": {
        "colab": {
          "base_uri": "https://localhost:8080/"
        },
        "id": "lCyVF-NG2HjH",
        "outputId": "a005f745-eac7-4aba-dd97-ce565115775b"
      },
      "id": "lCyVF-NG2HjH",
      "execution_count": 34,
      "outputs": [
        {
          "output_type": "execute_result",
          "data": {
            "text/plain": [
              "16"
            ]
          },
          "metadata": {},
          "execution_count": 34
        }
      ]
    },
    {
      "cell_type": "markdown",
      "source": [
        "Para quem lida com matemática, é comum usar, por exemplo $\\sqrt[3]{5}$ como $5^{1/3}$. "
      ],
      "metadata": {
        "id": "t88Btp7Oy3QH"
      },
      "id": "t88Btp7Oy3QH"
    },
    {
      "cell_type": "code",
      "source": [
        "5**(1/3)"
      ],
      "metadata": {
        "colab": {
          "base_uri": "https://localhost:8080/"
        },
        "id": "dsI6sMfK2Z8V",
        "outputId": "122f9513-1bd0-4c58-bdf1-5edb178d04a9"
      },
      "id": "dsI6sMfK2Z8V",
      "execution_count": 35,
      "outputs": [
        {
          "output_type": "execute_result",
          "data": {
            "text/plain": [
              "1.7099759466766968"
            ]
          },
          "metadata": {},
          "execution_count": 35
        }
      ]
    },
    {
      "cell_type": "markdown",
      "source": [
        "A segunda forma podemos calcular direto. No computador [as duas formas são iguais?](https://stackoverflow.com/questions/33684948/difference-between-1-2-math-sqrt-and-cmath-sqrt)"
      ],
      "metadata": {
        "id": "swYuyJhdg1tN"
      },
      "id": "swYuyJhdg1tN"
    },
    {
      "cell_type": "markdown",
      "source": [
        "**Então tem todas as funções matemáticas para uso direto?**"
      ],
      "metadata": {
        "id": "ZK-bHl192YIX"
      },
      "id": "ZK-bHl192YIX"
    },
    {
      "cell_type": "markdown",
      "source": [
        "Não tem. Se quiser calcular um logarítmo ou o cosseno de algo, por exemplo, vai precisar de um pacote. Um simples é o math. Basta pedir para carregar, para importar:"
      ],
      "metadata": {
        "id": "PVlMV6Ot219F"
      },
      "id": "PVlMV6Ot219F"
    },
    {
      "cell_type": "code",
      "source": [
        "import math   # para números reais\n",
        "import cmath  # para números complexos"
      ],
      "metadata": {
        "id": "qMfpVKaY3Gc_"
      },
      "id": "qMfpVKaY3Gc_",
      "execution_count": 36,
      "outputs": []
    },
    {
      "cell_type": "markdown",
      "source": [
        "Agora pode usar esse pacote (calculadora mais avançada, primeiro lembre do botão play na janela anterior), usando math.funçãodesejada. \n",
        "\n"
      ],
      "metadata": {
        "id": "PdldIAD_3leB"
      },
      "id": "PdldIAD_3leB"
    },
    {
      "cell_type": "markdown",
      "source": [
        "Calculando $\\sqrt[3]{5}$ de outra forma."
      ],
      "metadata": {
        "id": "Eyf2Pw5QhNhE"
      },
      "id": "Eyf2Pw5QhNhE"
    },
    {
      "cell_type": "code",
      "source": [
        "math.pow(5,1/3)"
      ],
      "metadata": {
        "colab": {
          "base_uri": "https://localhost:8080/"
        },
        "id": "u0BF8koChMuk",
        "outputId": "03b5295e-271a-4266-e420-fbc1bbea6462"
      },
      "id": "u0BF8koChMuk",
      "execution_count": 37,
      "outputs": [
        {
          "output_type": "execute_result",
          "data": {
            "text/plain": [
              "1.7099759466766968"
            ]
          },
          "metadata": {},
          "execution_count": 37
        }
      ]
    },
    {
      "cell_type": "markdown",
      "source": [
        "Para um [número complexo](https://docs.python.org/3/library/cmath.html), as letras $aj$, em que $a$ é um número real representam um [número imaginário](https://pt.wikipedia.org/wiki/N%C3%BAmero_imagin%C3%A1rio), ou seja, $aj=a\\sqrt{-1}$:"
      ],
      "metadata": {
        "id": "LF3MZgnq-M8G"
      },
      "id": "LF3MZgnq-M8G"
    },
    {
      "cell_type": "code",
      "source": [
        "complexo=complex(-2.0, -3.0)\n",
        "print(complexo)\n",
        "\n",
        "complexo -2+3j"
      ],
      "metadata": {
        "colab": {
          "base_uri": "https://localhost:8080/"
        },
        "id": "zP_0ZD7j_AmM",
        "outputId": "77c5e2db-8972-4b65-8bf1-95c3fc4d3b7d"
      },
      "id": "zP_0ZD7j_AmM",
      "execution_count": 38,
      "outputs": [
        {
          "output_type": "stream",
          "name": "stdout",
          "text": [
            "(-2-3j)\n"
          ]
        },
        {
          "output_type": "execute_result",
          "data": {
            "text/plain": [
              "(-4+0j)"
            ]
          },
          "metadata": {},
          "execution_count": 38
        }
      ]
    },
    {
      "cell_type": "markdown",
      "source": [
        "Lembrando o produto de números complexos, distributiva, temos, por exemplo, $(a+nj)^2=a^2-b^2+2abj$. \n",
        "\n",
        "Em particular, $(2-3j)^2=4-9-12j$:"
      ],
      "metadata": {
        "id": "1e9KXxqXBfWs"
      },
      "id": "1e9KXxqXBfWs"
    },
    {
      "cell_type": "code",
      "source": [
        "complexo**(2)"
      ],
      "metadata": {
        "colab": {
          "base_uri": "https://localhost:8080/"
        },
        "id": "Y7k2q7cJBlBa",
        "outputId": "c2dc1f70-24b4-4945-ef8b-b058a5906bec"
      },
      "id": "Y7k2q7cJBlBa",
      "execution_count": 39,
      "outputs": [
        {
          "output_type": "execute_result",
          "data": {
            "text/plain": [
              "(-5+12j)"
            ]
          },
          "metadata": {},
          "execution_count": 39
        }
      ]
    },
    {
      "cell_type": "markdown",
      "source": [
        "Funciona a raiz quadrada também?"
      ],
      "metadata": {
        "id": "3LceFV9SCmtd"
      },
      "id": "3LceFV9SCmtd"
    },
    {
      "cell_type": "code",
      "source": [
        "complexo**(1/2)"
      ],
      "metadata": {
        "colab": {
          "base_uri": "https://localhost:8080/"
        },
        "id": "4StPH4uwCfh3",
        "outputId": "716feec9-d00e-4c52-f9d2-f25db53e1db9"
      },
      "id": "4StPH4uwCfh3",
      "execution_count": 40,
      "outputs": [
        {
          "output_type": "execute_result",
          "data": {
            "text/plain": [
              "(0.8959774761298382-1.67414922803554j)"
            ]
          },
          "metadata": {},
          "execution_count": 40
        }
      ]
    },
    {
      "cell_type": "code",
      "source": [
        "cmath.sqrt(complexo)"
      ],
      "metadata": {
        "colab": {
          "base_uri": "https://localhost:8080/"
        },
        "id": "cXUrT8_f-Q2t",
        "outputId": "20be7798-b0cb-4769-fba7-524ae8fb65ab"
      },
      "id": "cXUrT8_f-Q2t",
      "execution_count": 41,
      "outputs": [
        {
          "output_type": "execute_result",
          "data": {
            "text/plain": [
              "(0.8959774761298381-1.6741492280355401j)"
            ]
          },
          "metadata": {},
          "execution_count": 41
        }
      ]
    },
    {
      "cell_type": "markdown",
      "source": [
        "O logarítmo de 14, na base 10, toma a forma math.log(14):"
      ],
      "metadata": {
        "id": "8AlzgnLdge8d"
      },
      "id": "8AlzgnLdge8d"
    },
    {
      "cell_type": "code",
      "source": [
        "math.log(14)"
      ],
      "metadata": {
        "colab": {
          "base_uri": "https://localhost:8080/"
        },
        "id": "aOLLGi2g36EW",
        "outputId": "4c18dba3-06b4-4a73-c099-89820cbf1c6f"
      },
      "id": "aOLLGi2g36EW",
      "execution_count": 42,
      "outputs": [
        {
          "output_type": "execute_result",
          "data": {
            "text/plain": [
              "2.6390573296152584"
            ]
          },
          "metadata": {},
          "execution_count": 42
        }
      ]
    },
    {
      "cell_type": "markdown",
      "source": [
        "Ou complexo:"
      ],
      "metadata": {
        "id": "QTqMARlXAY4C"
      },
      "id": "QTqMARlXAY4C"
    },
    {
      "cell_type": "code",
      "source": [
        "cmath.log(14j)"
      ],
      "metadata": {
        "colab": {
          "base_uri": "https://localhost:8080/"
        },
        "id": "r95XU4KDAhlw",
        "outputId": "946bbb83-c8ef-4734-f22c-81262fa04172"
      },
      "id": "r95XU4KDAhlw",
      "execution_count": 43,
      "outputs": [
        {
          "output_type": "execute_result",
          "data": {
            "text/plain": [
              "(2.6390573296152584+1.5707963267948966j)"
            ]
          },
          "metadata": {},
          "execution_count": 43
        }
      ]
    },
    {
      "cell_type": "markdown",
      "source": [
        "Mas se a base for outra, digamos 2, use math.log(14,2)"
      ],
      "metadata": {
        "id": "Qc5u7hJs4SjR"
      },
      "id": "Qc5u7hJs4SjR"
    },
    {
      "cell_type": "code",
      "source": [
        "math.log(14,2)"
      ],
      "metadata": {
        "colab": {
          "base_uri": "https://localhost:8080/"
        },
        "id": "uhuuUv_T4ZfG",
        "outputId": "9347b521-6489-48ff-8001-64038b5b3d1e"
      },
      "id": "uhuuUv_T4ZfG",
      "execution_count": 44,
      "outputs": [
        {
          "output_type": "execute_result",
          "data": {
            "text/plain": [
              "3.8073549220576037"
            ]
          },
          "metadata": {},
          "execution_count": 44
        }
      ]
    },
    {
      "cell_type": "markdown",
      "source": [
        "Para calcular $6!$:"
      ],
      "metadata": {
        "id": "am4_pWAo5Vo9"
      },
      "id": "am4_pWAo5Vo9"
    },
    {
      "cell_type": "code",
      "source": [
        "math.factorial(6)"
      ],
      "metadata": {
        "colab": {
          "base_uri": "https://localhost:8080/"
        },
        "id": "29i3_Z4I5aIY",
        "outputId": "3fe0ba26-6b3a-4866-c861-75ea8cb6a7ef"
      },
      "id": "29i3_Z4I5aIY",
      "execution_count": 45,
      "outputs": [
        {
          "output_type": "execute_result",
          "data": {
            "text/plain": [
              "720"
            ]
          },
          "metadata": {},
          "execution_count": 45
        }
      ]
    },
    {
      "cell_type": "markdown",
      "source": [
        "Para calcular o número de possibilidades de escolhermos 2 elementos distintos em 6 (sem se preocupar com a ordem deles):"
      ],
      "metadata": {
        "id": "_Lj5qWZc5pnS"
      },
      "id": "_Lj5qWZc5pnS"
    },
    {
      "cell_type": "code",
      "source": [
        "math.comb(6,2)"
      ],
      "metadata": {
        "colab": {
          "base_uri": "https://localhost:8080/"
        },
        "id": "93hNS0HW5qG1",
        "outputId": "3a8e6379-48d1-4274-995e-50d05178f848"
      },
      "id": "93hNS0HW5qG1",
      "execution_count": 46,
      "outputs": [
        {
          "output_type": "execute_result",
          "data": {
            "text/plain": [
              "15"
            ]
          },
          "metadata": {},
          "execution_count": 46
        }
      ]
    },
    {
      "cell_type": "markdown",
      "source": [
        "Para mais possibiliades de uso de outras funções você precisa treinar. Uma dica é olhar https://docs.python.org/pt-br/3/library/math.html ou https://docs.python.org/3/library/cmath.html, por exemplo, quando precisar de algo novo."
      ],
      "metadata": {
        "id": "j92HD1kk44Uh"
      },
      "id": "j92HD1kk44Uh"
    },
    {
      "cell_type": "markdown",
      "source": [
        "# **Mas só vai usar como calculadora?**\n",
        "\n"
      ],
      "metadata": {
        "id": "b7EUO7AN2XrP"
      },
      "id": "b7EUO7AN2XrP"
    },
    {
      "cell_type": "markdown",
      "source": [
        "Nem sempre eu uso assim."
      ],
      "metadata": {
        "id": "YuCwLLC4is7c"
      },
      "id": "YuCwLLC4is7c"
    },
    {
      "cell_type": "code",
      "source": [
        "print('Boa tarde para vocês sejam bem vindos a essa brincadeira de aprendermos Python!')"
      ],
      "metadata": {
        "colab": {
          "base_uri": "https://localhost:8080/"
        },
        "id": "Sct_4BAR6YRs",
        "outputId": "ac9db5d3-ada5-4351-e574-c36fc39eb189"
      },
      "id": "Sct_4BAR6YRs",
      "execution_count": 47,
      "outputs": [
        {
          "output_type": "stream",
          "name": "stdout",
          "text": [
            "Boa tarde para vocês sejam bem vindos a essa brincadeira de aprendermos Python!\n"
          ]
        }
      ]
    },
    {
      "cell_type": "markdown",
      "source": [
        "Dito ou comunicado de outra forma:"
      ],
      "metadata": {
        "id": "317V6H-965f9"
      },
      "id": "317V6H-965f9"
    },
    {
      "cell_type": "code",
      "source": [
        "texto=\"Boa tarde para vocês sejam bem vindos a essa brincadeira de aprendermos Python!\"\n",
        "\n",
        "print(texto, \" São os votos do professor Claudinei\")"
      ],
      "metadata": {
        "colab": {
          "base_uri": "https://localhost:8080/"
        },
        "id": "uFDGgbDt6-c5",
        "outputId": "f3caf207-293c-492c-8787-3fb1d2047085"
      },
      "id": "uFDGgbDt6-c5",
      "execution_count": 48,
      "outputs": [
        {
          "output_type": "stream",
          "name": "stdout",
          "text": [
            "Boa tarde para vocês sejam bem vindos a essa brincadeira de aprendermos Python!  São os votos do professor Claudinei\n"
          ]
        }
      ]
    },
    {
      "cell_type": "markdown",
      "source": [
        "O comando print é muito importante, pois serve para mostrar coisas na tele, ou escrever em algum lugar, como num arquivo."
      ],
      "metadata": {
        "id": "ivstf9Rt72IG"
      },
      "id": "ivstf9Rt72IG"
    },
    {
      "cell_type": "markdown",
      "source": [
        "Outro comando importante, para interagir com o usuário, é o comando input."
      ],
      "metadata": {
        "id": "8IyxEqD28Fhv"
      },
      "id": "8IyxEqD28Fhv"
    },
    {
      "cell_type": "code",
      "source": [
        "texto=\"Boa tarde professor. Espero me divertir nessa brincadeira de aprendermos Python!\"\n",
        "nome=input(\"Digite seu nome: \")\n",
        "\n",
        "print(texto, \" São os votos do \"+nome+\" que está muito animado.\")\n",
        "\n",
        "# Isso não é lido como instrução."
      ],
      "metadata": {
        "colab": {
          "base_uri": "https://localhost:8080/"
        },
        "id": "Lk2q0De-8acj",
        "outputId": "0b861887-b9d7-4bc2-e816-d5df4bb527cc"
      },
      "id": "Lk2q0De-8acj",
      "execution_count": 49,
      "outputs": [
        {
          "output_type": "stream",
          "name": "stdout",
          "text": [
            "Digite seu nome: Claudinei\n",
            "Boa tarde professor. Espero me divertir nessa brincadeira de aprendermos Python!  São os votos do Claudinei que está muito animado.\n"
          ]
        }
      ]
    },
    {
      "cell_type": "markdown",
      "source": [
        "Você pode usar o print para [ver arquivo .txt](https://www.w3schools.com/python/ref_file_write.asp), por exemplo."
      ],
      "metadata": {
        "id": "bIqjiXxhjnhs"
      },
      "id": "bIqjiXxhjnhs"
    },
    {
      "cell_type": "code",
      "source": [
        "my_file = open(\"saida.txt\",\"w+\")"
      ],
      "metadata": {
        "id": "eZdtYhdpoKS-"
      },
      "id": "eZdtYhdpoKS-",
      "execution_count": 50,
      "outputs": []
    },
    {
      "cell_type": "code",
      "source": [
        "my_file = open(\"saida.txt\", \"r\")\n",
        "print(my_file.read())"
      ],
      "metadata": {
        "colab": {
          "base_uri": "https://localhost:8080/"
        },
        "id": "cpWHhhb2judM",
        "outputId": "12031c5d-bf14-416f-d05e-417885536182"
      },
      "id": "cpWHhhb2judM",
      "execution_count": 54,
      "outputs": [
        {
          "output_type": "stream",
          "name": "stdout",
          "text": [
            "Testando escrever no arquivo!\n"
          ]
        }
      ]
    },
    {
      "cell_type": "markdown",
      "source": [
        "E pode escrever no arquivo:"
      ],
      "metadata": {
        "id": "rsxQTi9JlNR9"
      },
      "id": "rsxQTi9JlNR9"
    },
    {
      "cell_type": "code",
      "source": [
        "my_file = open(\"saida.txt\", \"a\")\n",
        "my_file.write(\"Testando escrever no arquivo!\")\n",
        "my_file.close()"
      ],
      "metadata": {
        "id": "L-CqdVMRlPxc"
      },
      "id": "L-CqdVMRlPxc",
      "execution_count": 61,
      "outputs": []
    },
    {
      "cell_type": "code",
      "source": [
        "my_file = open(\"saida.txt\", \"r\")\n",
        "print(my_file.read())"
      ],
      "metadata": {
        "colab": {
          "base_uri": "https://localhost:8080/"
        },
        "id": "WyI_vUg8ldNM",
        "outputId": "db34f3f3-167c-43fa-e7ae-d9b44c7d29b6"
      },
      "id": "WyI_vUg8ldNM",
      "execution_count": 62,
      "outputs": [
        {
          "output_type": "stream",
          "name": "stdout",
          "text": [
            "Testando escrever no arquivo!Testando escrever no arquivo!Testando escrever no arquivo!Testando escrever no arquivo!Testando escrever no arquivo!Testando escrever no arquivo!\n"
          ]
        }
      ]
    },
    {
      "cell_type": "markdown",
      "source": [
        "#**Definindo funções**\n",
        "\n"
      ],
      "metadata": {
        "id": "nsGn1JrQDv5D"
      },
      "id": "nsGn1JrQDv5D"
    },
    {
      "cell_type": "markdown",
      "source": [
        "Para o meu caso, que trabalho com matemática, é comum eu precisar de funções, para fazer gráficos, por exemplo.\n",
        "\n"
      ],
      "metadata": {
        "id": "ieN2xD5gl3Dt"
      },
      "id": "ieN2xD5gl3Dt"
    },
    {
      "cell_type": "markdown",
      "source": [
        "Escolha aí uma função de seu gosto.\n",
        "\n",
        "Vou escolher essa:\n",
        "$$f(x)=x+2,$$ no caso, espero que $x$ seja um número real.\n",
        "\n",
        "O camando base é o def. O que a função returna é escrito como return.\n",
        "\n",
        "É preciso deixar um espaço, na linha seguinte do :. Esse espaço (identação) define o que está dentro da função ou não."
      ],
      "metadata": {
        "id": "GmqSl5AhmCK0"
      },
      "id": "GmqSl5AhmCK0"
    },
    {
      "cell_type": "code",
      "source": [
        "def f(x):\n",
        "  p=x+2\n",
        "  return p"
      ],
      "metadata": {
        "id": "agpGKdosEUUV"
      },
      "id": "agpGKdosEUUV",
      "execution_count": 66,
      "outputs": []
    },
    {
      "cell_type": "markdown",
      "source": [
        "Só vai ter retorno se colocar uma entrada. Para testar, digamos, vamos calcular $f(2)$:"
      ],
      "metadata": {
        "id": "UX5OEzIxDvn3"
      },
      "id": "UX5OEzIxDvn3"
    },
    {
      "cell_type": "code",
      "source": [
        "f(2)"
      ],
      "metadata": {
        "colab": {
          "base_uri": "https://localhost:8080/"
        },
        "id": "a2gB1yC3mX3E",
        "outputId": "524d8a3c-1f12-4e63-99cc-2e056ed28ac2"
      },
      "id": "a2gB1yC3mX3E",
      "execution_count": null,
      "outputs": [
        {
          "output_type": "execute_result",
          "data": {
            "text/plain": [
              "4"
            ]
          },
          "metadata": {},
          "execution_count": 70
        }
      ]
    },
    {
      "cell_type": "markdown",
      "source": [
        "Se quiser comentar sobre o que está obtendo de retorno, pode usar o print, para começar."
      ],
      "metadata": {
        "id": "OTjDovgQmZbu"
      },
      "id": "OTjDovgQmZbu"
    },
    {
      "cell_type": "code",
      "source": [
        "print(f'O valor de f(2) é {f(2)}.') # Aqui 0 f' texto ' é para que eu use resultados/dados dos comandos anteriores {entre chaves}, no meio do texto. "
      ],
      "metadata": {
        "colab": {
          "base_uri": "https://localhost:8080/"
        },
        "id": "5_u8VRdhEwkJ",
        "outputId": "7d52c3d6-64e7-432d-ecd7-934626f27bab"
      },
      "id": "5_u8VRdhEwkJ",
      "execution_count": 67,
      "outputs": [
        {
          "output_type": "stream",
          "name": "stdout",
          "text": [
            "O valor de f(2) é 4.\n"
          ]
        }
      ]
    },
    {
      "cell_type": "markdown",
      "source": [
        "E pode gravar isso no seu arquivo:"
      ],
      "metadata": {
        "id": "jVNmrL-yozTc"
      },
      "id": "jVNmrL-yozTc"
    },
    {
      "cell_type": "code",
      "source": [
        "my_file = open('saida.txt','a')\n",
        "my_file.write('O valor de f(2) é %1.2f\\n' % (f(2),))\n",
        "my_file.close()"
      ],
      "metadata": {
        "id": "r8swzJVTo2Ct"
      },
      "id": "r8swzJVTo2Ct",
      "execution_count": 68,
      "outputs": []
    },
    {
      "cell_type": "code",
      "source": [
        "output_file = open(\"saida.txt\", \"r\")\n",
        "print(output_file.read())"
      ],
      "metadata": {
        "colab": {
          "base_uri": "https://localhost:8080/"
        },
        "id": "OSjb_zVPqrcd",
        "outputId": "9c88e56a-2cb4-4e47-b4ac-89abc677c806"
      },
      "id": "OSjb_zVPqrcd",
      "execution_count": null,
      "outputs": [
        {
          "output_type": "stream",
          "name": "stdout",
          "text": [
            "Testando escrever no arquivo!Testando escrever no arquivo!Testando escrever no arquivo!O valor de f(2) é 4.00\n",
            "O valor de f(2) é 4.00\n",
            "\n"
          ]
        }
      ]
    },
    {
      "cell_type": "markdown",
      "source": [
        "Você pode fazer o gráfico dessa função. Mas vai precisar de um pacote para isso. Nesse caso o mathplotlib serve"
      ],
      "metadata": {
        "id": "rgTlIAr2DvRC"
      },
      "id": "rgTlIAr2DvRC"
    },
    {
      "cell_type": "code",
      "source": [
        "import matplotlib.pyplot as plt\n",
        "\n",
        "x=[2,4]                                         # Isso é uma lista de números. Poderia ser uma lista de outras coisas.\n",
        "y=[f(2),f(4)]\n",
        "\n",
        "plt.plot(x,y)\n",
        "plt.show()"
      ],
      "metadata": {
        "colab": {
          "base_uri": "https://localhost:8080/",
          "height": 430
        },
        "id": "mbKQKBZ6F3-5",
        "outputId": "73bf4ae7-d252-48cc-8e71-a63a0e1996f7"
      },
      "id": "mbKQKBZ6F3-5",
      "execution_count": 69,
      "outputs": [
        {
          "output_type": "display_data",
          "data": {
            "text/plain": [
              "<Figure size 640x480 with 1 Axes>"
            ],
            "image/png": "[encoded data removed]"
          },
          "metadata": {}
        }
      ]
    },
    {
      "cell_type": "markdown",
      "source": [
        "#**Sobre vetores, tabelas e matrizes**"
      ],
      "metadata": {
        "id": "NPpN7-I-9EIm"
      },
      "id": "NPpN7-I-9EIm"
    },
    {
      "cell_type": "markdown",
      "source": [
        "Você deve ter notado no gráfico da função anterior (reta) que precisamos calcular valores de $f(s)$, para $s$ em uma lista.\n",
        "\n",
        "Podemos fazer isso de uma vez, se introduzirmos mais uma ferramenta para usar vetores, em vez de listas:"
      ],
      "metadata": {
        "id": "Mv5xhC6rEMuP"
      },
      "id": "Mv5xhC6rEMuP"
    },
    {
      "cell_type": "code",
      "source": [
        "import numpy as np         # numpy é para usar coisas de Álgebra Linear."
      ],
      "metadata": {
        "id": "AzAtVpQ2ElMM"
      },
      "id": "AzAtVpQ2ElMM",
      "execution_count": null,
      "outputs": []
    },
    {
      "cell_type": "markdown",
      "source": [
        "Agora a função funciona por coordenada de um vetor, ou seja, se $x=[x_1,x_2,\\ldots,x_n]$ $f(x)=[f(x_1),f(x_2),\\ldots,f(x_n)]$:"
      ],
      "metadata": {
        "id": "JC71ugSPEsQI"
      },
      "id": "JC71ugSPEsQI"
    },
    {
      "cell_type": "code",
      "source": [
        "x=[0,1,2,3]                  # x é uma lista de números.\n",
        "x=np.array(x)                # Agora x é um vetor.\n",
        "print(x)\n",
        "f(x)                         # f(x) é um vetor, lembrando que f(s)=s+2, para s número real."
      ],
      "metadata": {
        "colab": {
          "base_uri": "https://localhost:8080/"
        },
        "id": "CsRJ92y8ErEe",
        "outputId": "3fbda346-1b98-4093-d6c7-7a5828afd6f2"
      },
      "id": "CsRJ92y8ErEe",
      "execution_count": 74,
      "outputs": [
        {
          "output_type": "stream",
          "name": "stdout",
          "text": [
            "[0 1 2 3]\n"
          ]
        },
        {
          "output_type": "execute_result",
          "data": {
            "text/plain": [
              "array([2, 3, 4, 5])"
            ]
          },
          "metadata": {},
          "execution_count": 74
        }
      ]
    },
    {
      "cell_type": "markdown",
      "source": [
        "Isso permite fazermos gráficos de outras funções, por exemplo, para $$g(x)=x^2-\\cos(x),\\qquad 0\\leq x\\leq 7.$$"
      ],
      "metadata": {
        "id": "RomitCVzGGCx"
      },
      "id": "RomitCVzGGCx"
    },
    {
      "cell_type": "code",
      "source": [
        "def g(u):\n",
        "  return (u**2-np.cos(u))          # O pacote numpy comtém o math, de certa forma.\n",
        "\n",
        "x=np.linspace(0,7,100)             # Cria um vetor com 100 números entre 0 e 7, inclusive.\n",
        "plt.plot(x,g(x),label='Gráfico teste',color='red')\n",
        "plt.legend()\n",
        "plt.title('Mais um gráfico')\n",
        "plt.show()"
      ],
      "metadata": {
        "colab": {
          "base_uri": "https://localhost:8080/",
          "height": 453
        },
        "id": "qtesWCfFGVu8",
        "outputId": "437957b0-5a48-4ea6-ecd9-455b03ac9ba1"
      },
      "id": "qtesWCfFGVu8",
      "execution_count": 89,
      "outputs": [
        {
          "output_type": "display_data",
          "data": {
            "text/plain": [
              "<Figure size 640x480 with 1 Axes>"
            ],
            "image/png": "[encoded data removed]"
          },
          "metadata": {}
        }
      ]
    },
    {
      "cell_type": "markdown",
      "source": [
        "Você pode encontrar muita coisa sobre gráficos em https://matplotlib.org/stable/api/_as_gen/matplotlib.pyplot.plot.html."
      ],
      "metadata": {
        "id": "2JLbhepPIcRH"
      },
      "id": "2JLbhepPIcRH"
    },
    {
      "cell_type": "markdown",
      "source": [
        "Uma empresa produz três produtos (A, B e C) e suas despesas de produção são divididas em três categorias. Veja as tabelas a seguir, com os custos de produção"
      ],
      "metadata": {
        "id": "aRRCgAQH9JOC"
      },
      "id": "aRRCgAQH9JOC"
    },
    {
      "cell_type": "code",
      "source": [
        "Despesas=['Matérias-primas','Mão de obra','Outras despesas']\n",
        "Produto=['A','B','C']\n",
        "Dadosproducao=[[0.1,0.3,0.15],[0.3,0.4,0.25],[0.1,0.2,0.15]]   # Isso é uma lista de listas de números\n",
        "\n",
        "Dadosproducao=np.array(Dadosproducao)                          \n",
        "\n",
        "import pandas as pd                           # Para lidar com tabelas ou DataFrame.\n",
        "df = pd.DataFrame(Dadosproducao,index=Despesas,columns=Produto)\n",
        "print(df)\n",
        "\n",
        "print()\n",
        "df1 = pd.DataFrame(np.transpose(Dadosproducao),index=Produto,columns=Despesas)\n",
        "print(df1)\n",
        "print()\n",
        "\n",
        "df1.plot(title='Custos de produção por Item (dólares)')\n",
        "plt.show()"
      ],
      "metadata": {
        "colab": {
          "base_uri": "https://localhost:8080/",
          "height": 632
        },
        "id": "M606XGvZ-FBe",
        "outputId": "d5ee4b37-afc0-4fef-dc7c-d57fcfcd3988"
      },
      "execution_count": 70,
      "outputs": [
        {
          "output_type": "stream",
          "name": "stdout",
          "text": [
            "                   A    B     C\n",
            "Matérias-primas  0.1  0.3  0.15\n",
            "Mão de obra      0.3  0.4  0.25\n",
            "Outras despesas  0.1  0.2  0.15\n",
            "\n",
            "   Matérias-primas  Mão de obra  Outras despesas\n",
            "A             0.10         0.30             0.10\n",
            "B             0.30         0.40             0.20\n",
            "C             0.15         0.25             0.15\n",
            "\n"
          ]
        },
        {
          "output_type": "display_data",
          "data": {
            "text/plain": [
              "<Figure size 640x480 with 1 Axes>"
            ],
            "image/png": "[encoded data removed]"
          },
          "metadata": {}
        }
      ],
      "id": "M606XGvZ-FBe"
    },
    {
      "cell_type": "markdown",
      "source": [
        "e quantidades produzidas"
      ],
      "metadata": {
        "id": "A-JXUcMKDFn0"
      },
      "id": "A-JXUcMKDFn0"
    },
    {
      "cell_type": "code",
      "source": [
        "Estacao=['Verão','Outono','Inverno','Primavera']\n",
        "Dadosquandidade=[[4000,4500,4500,4000],[2000,2600,2400,2200],[5800,6200,6000,6000]]\n",
        "Dadosquandidade=np.array(Dadosquandidade)\n",
        "\n",
        "df2 = pd.DataFrame(Dadosquandidade,index=Produto,columns=Estacao)\n",
        "print(df2)\n",
        "print()\n",
        "df3 = pd.DataFrame(np.transpose(Dadosquandidade),index=Estacao,columns=Produto)\n",
        "print(df3)\n",
        "print()\n",
        "df3.plot(title='Quantidade Produzida por Trimestre')\n",
        "plt.legend(bbox_to_anchor =(1, 0.8), ncol = 2) \n",
        "plt.show()"
      ],
      "metadata": {
        "colab": {
          "base_uri": "https://localhost:8080/",
          "height": 472
        },
        "id": "t3Xc7actDGOD",
        "outputId": "21cdc7ec-647d-43e2-cdf1-94e6c03eb054"
      },
      "execution_count": null,
      "outputs": [
        {
          "output_type": "stream",
          "name": "stdout",
          "text": [
            "   Verão  Outono  Inverno  Primavera\n",
            "A   4000    4500     4500       4000\n",
            "B   2000    2600     2400       2200\n",
            "C   5800    6200     6000       6000\n",
            "\n",
            "              A     B     C\n",
            "Verão      4000  2000  5800\n",
            "Outono     4500  2600  6200\n",
            "Inverno    4500  2400  6000\n",
            "Primavera  4000  2200  6000\n",
            "\n"
          ]
        },
        {
          "output_type": "display_data",
          "data": {
            "text/plain": [
              "<Figure size 432x288 with 1 Axes>"
            ],
            "image/png": "[encoded data removed]"
          },
          "metadata": {
            "needs_background": "light"
          }
        }
      ],
      "id": "t3Xc7actDGOD"
    },
    {
      "cell_type": "markdown",
      "source": [
        "Para uma reunião com os acionistas é desejado saber o custo total da produção, para cada categoria (Matérias-primas, Mão de obra, Outras despesas) e em cada trimestre (Verão, Outono, Inverno, Primavera).\n",
        "\n",
        "Para obtermos esses valores, basta multiplicarmos as matrizes que representam as tabelas. No caso, temos duas matrizes $M$ e $P$, calculamos a matriz $S=MP$, que dos dá os custos.\n",
        "\n",
        "Relembrabdo as tabelas:"
      ],
      "metadata": {
        "id": "Ey2QwqziFxhh"
      },
      "id": "Ey2QwqziFxhh"
    },
    {
      "cell_type": "code",
      "source": [
        "print(df)\n",
        "print()\n",
        "\n",
        "print(df2)\n",
        "print()  \n"
      ],
      "metadata": {
        "colab": {
          "base_uri": "https://localhost:8080/"
        },
        "id": "cxi1Zz5KETWY",
        "outputId": "0ff23eb7-0003-4540-ed6b-f2ca7f21161a"
      },
      "execution_count": null,
      "outputs": [
        {
          "output_type": "stream",
          "name": "stdout",
          "text": [
            "                   A    B     C\n",
            "Matérias-primas  0.1  0.3  0.15\n",
            "Mão de obra      0.3  0.4  0.25\n",
            "Outras despesas  0.1  0.2  0.15\n",
            "\n",
            "   Verão  Outono  Inverno  Primavera\n",
            "A   4000    4500     4500       4000\n",
            "B   2000    2600     2400       2200\n",
            "C   5800    6200     6000       6000\n",
            "\n"
          ]
        }
      ],
      "id": "cxi1Zz5KETWY"
    },
    {
      "cell_type": "markdown",
      "source": [
        "Isso nos diz que as matrizes $M$ e $P$ são:"
      ],
      "metadata": {
        "id": "Z4igCXjSKJ09"
      },
      "id": "Z4igCXjSKJ09"
    },
    {
      "cell_type": "code",
      "source": [
        "M=np.array(Dadosproducao)\n",
        "P=np.array(Dadosquandidade)\n",
        "print(f'Matriz M=')\n",
        "print(M)\n",
        "print()\n",
        "print(f'Matriz P=')\n",
        "print(P)"
      ],
      "metadata": {
        "colab": {
          "base_uri": "https://localhost:8080/"
        },
        "id": "FSFZ3hrlKUkb",
        "outputId": "9e54d02b-772d-401f-ad9f-74e743608822"
      },
      "execution_count": null,
      "outputs": [
        {
          "output_type": "stream",
          "name": "stdout",
          "text": [
            "Matriz M=\n",
            "[[0.1  0.3  0.15]\n",
            " [0.3  0.4  0.25]\n",
            " [0.1  0.2  0.15]]\n",
            "\n",
            "Matriz P=\n",
            "[[4000 4500 4500 4000]\n",
            " [2000 2600 2400 2200]\n",
            " [5800 6200 6000 6000]]\n"
          ]
        }
      ],
      "id": "FSFZ3hrlKUkb"
    },
    {
      "cell_type": "markdown",
      "source": [
        "Observando a linha Matérias-primas vemos que o custo com matéria prima (no verão) é dado pela soma dos custos dos produtos $A$, $B$ e $C$ pela quantidade de cada produto $A$, $B$ e $C$ (no verão). No caso, é \n",
        "$$\\begin{bmatrix}0.1&0.3&0.15\\end{bmatrix}\\begin{bmatrix}4000\\\\2000\\\\5800\\end{bmatrix}=400+600+870=1870,\\tag{$\\star$}$$ que é o produto da primeira linha de $M$ com a primeira coluna de $P$.\n",
        "\n",
        "Fazendo raciocínio semelhante com cada linha de $M$ e cada coluna de $P$ teremos:"
      ],
      "metadata": {
        "id": "uvN4VJhIEz-P"
      },
      "id": "uvN4VJhIEz-P"
    },
    {
      "cell_type": "code",
      "source": [
        "M=np.array(Dadosproducao)\n",
        "P=np.array(Dadosquandidade)\n",
        "Solucao=np.dot(M,P)\n",
        "print(f'Matriz solução S=')\n",
        "print(Solucao)"
      ],
      "metadata": {
        "colab": {
          "base_uri": "https://localhost:8080/"
        },
        "id": "u7BQdr-8IVti",
        "outputId": "0f278ce7-64a1-4644-86f1-afa582c74143"
      },
      "execution_count": null,
      "outputs": [
        {
          "output_type": "stream",
          "name": "stdout",
          "text": [
            "Matriz solução S=\n",
            "[[1870. 2160. 2070. 1960.]\n",
            " [3450. 3940. 3810. 3580.]\n",
            " [1670. 1900. 1830. 1740.]]\n"
          ]
        }
      ],
      "id": "u7BQdr-8IVti"
    },
    {
      "cell_type": "markdown",
      "source": [
        "Para obtermos agora o custo total (de toda a produção) por trimestre, basta somar os elementos de cada coluna da última matriz $S$:"
      ],
      "metadata": {
        "id": "ZldJ0AZ1JSBK"
      },
      "id": "ZldJ0AZ1JSBK"
    },
    {
      "cell_type": "code",
      "source": [
        "Solucaot=np.transpose(Solucao)\n",
        "CustoTotal=[sum(Solucaot[0]),sum(Solucaot[1]),sum(Solucaot[2]),sum(Solucaot[3])]\n",
        "print(f'Custo total de produção={CustoTotal}')"
      ],
      "metadata": {
        "colab": {
          "base_uri": "https://localhost:8080/"
        },
        "id": "vEHTK9GhJp_E",
        "outputId": "ada43ee1-807a-4178-f623-14a97a5798b5"
      },
      "execution_count": null,
      "outputs": [
        {
          "output_type": "stream",
          "name": "stdout",
          "text": [
            "Custo total de produção=[6990.0, 8000.0, 7710.0, 7280.0]\n"
          ]
        }
      ],
      "id": "vEHTK9GhJp_E"
    },
    {
      "cell_type": "markdown",
      "source": [
        "Podemos juntar os cálculos em uma matriz:"
      ],
      "metadata": {
        "id": "OO1jQH5TKmFH"
      },
      "id": "OO1jQH5TKmFH"
    },
    {
      "cell_type": "code",
      "source": [
        "import copy                                        #Para copiar coisas, de forma que as alterações não interfiram no original.\n",
        "New_Despesas= copy.deepcopy(Despesas)\n",
        "New_Despesas.append('Custo por trimestre')\n",
        "\n",
        "New_Solucao=copy.deepcopy(Solucao.tolist())\n",
        "New_Solucao.append(CustoTotal)\n",
        "New_Solucao=np.array(New_Solucao)\n",
        "print(f'Matriz dos custos por trimestre=')\n",
        "print(New_Solucao)"
      ],
      "metadata": {
        "colab": {
          "base_uri": "https://localhost:8080/"
        },
        "id": "RGQOxqQWKqiP",
        "outputId": "41571a61-e2f9-43b5-83da-0c1127ce85ed"
      },
      "execution_count": null,
      "outputs": [
        {
          "output_type": "stream",
          "name": "stdout",
          "text": [
            "Matriz dos custos por trimestre=\n",
            "[[1870. 2160. 2070. 1960.]\n",
            " [3450. 3940. 3810. 3580.]\n",
            " [1670. 1900. 1830. 1740.]\n",
            " [6990. 8000. 7710. 7280.]]\n"
          ]
        }
      ],
      "id": "RGQOxqQWKqiP"
    },
    {
      "cell_type": "markdown",
      "source": [
        "ou juntar os cálculos em uma tabela:"
      ],
      "metadata": {
        "id": "HjnkEobyOXNl"
      },
      "id": "HjnkEobyOXNl"
    },
    {
      "cell_type": "code",
      "source": [
        "df4 = pd.DataFrame(New_Solucao,index=New_Despesas,columns=Estacao)\n",
        "print(df4)\n",
        "print()\n",
        "\n",
        "df5 = pd.DataFrame(np.transpose(New_Solucao),columns=New_Despesas,index=Estacao)\n",
        "print(df5)\n",
        "print()\n",
        "df5.plot(title='Custos de produção')\n",
        "plt.legend(bbox_to_anchor =(1, 0.8), ncol = 2) \n",
        "plt.show()"
      ],
      "metadata": {
        "colab": {
          "base_uri": "https://localhost:8080/",
          "height": 489
        },
        "id": "1mg3TV8HOZZ_",
        "outputId": "efe91003-9d19-498a-c501-5b1ab353e2bf"
      },
      "execution_count": null,
      "outputs": [
        {
          "output_type": "stream",
          "name": "stdout",
          "text": [
            "                      Verão  Outono  Inverno  Primavera\n",
            "Matérias-primas      1870.0  2160.0   2070.0     1960.0\n",
            "Mão de obra          3450.0  3940.0   3810.0     3580.0\n",
            "Outras despesas      1670.0  1900.0   1830.0     1740.0\n",
            "Custo por trimestre  6990.0  8000.0   7710.0     7280.0\n",
            "\n",
            "           Matérias-primas  Mão de obra  Outras despesas  Custo por trimestre\n",
            "Verão               1870.0       3450.0           1670.0               6990.0\n",
            "Outono              2160.0       3940.0           1900.0               8000.0\n",
            "Inverno             2070.0       3810.0           1830.0               7710.0\n",
            "Primavera           1960.0       3580.0           1740.0               7280.0\n",
            "\n"
          ]
        },
        {
          "output_type": "display_data",
          "data": {
            "text/plain": [
              "<Figure size 432x288 with 1 Axes>"
            ],
            "image/png": "[encoded data removed]"
          },
          "metadata": {
            "needs_background": "light"
          }
        }
      ],
      "id": "1mg3TV8HOZZ_"
    },
    {
      "cell_type": "markdown",
      "source": [
        "Se quisermos saber o custo total da produção no ano basta somar agora os elementos de cada linha da última matriz."
      ],
      "metadata": {
        "id": "GwdokPBKHcLG"
      },
      "id": "GwdokPBKHcLG"
    },
    {
      "cell_type": "markdown",
      "source": [
        "#**Brincando com dados**"
      ],
      "metadata": {
        "id": "mMn5qSe2-GQd"
      },
      "id": "mMn5qSe2-GQd"
    },
    {
      "cell_type": "code",
      "source": [],
      "metadata": {
        "id": "83cGbhiE8_iS"
      },
      "id": "83cGbhiE8_iS",
      "execution_count": null,
      "outputs": []
    },
    {
      "cell_type": "markdown",
      "source": [
        "Vejamos como buscar dados de açoes no [Yahoo Finanças](https://finance.yahoo.com/), com o pacote [yfinance](https://pypi.org/project/yfinance/), como as açãos do [IBOVESPA](https://br.financas.yahoo.com/quote/%5EBVSP?p=%5EBVSP)."
      ],
      "metadata": {
        "id": "1npKjNqaLXQ7"
      },
      "id": "1npKjNqaLXQ7"
    },
    {
      "cell_type": "code",
      "execution_count": null,
      "id": "37aa6488",
      "metadata": {
        "id": "37aa6488",
        "colab": {
          "base_uri": "https://localhost:8080/"
        },
        "outputId": "e8c0808b-a451-45fa-8e22-93fc49c1d1fa"
      },
      "outputs": [
        {
          "output_type": "stream",
          "name": "stdout",
          "text": [
            "[*********************100%***********************]  5 of 5 completed\n"
          ]
        }
      ],
      "source": [
        "import yfinance as yf\n",
        "\n",
        "dados_bancarios = yf.download(['ITUB4.SA', 'BBAS3.SA', 'SANB4.SA', 'BBDC4.SA', '^BVSP'],\n",
        "                             start = \"2023-01-01\", end = \"2023-05-02\")['Adj Close']"
      ]
    },
    {
      "cell_type": "code",
      "execution_count": null,
      "id": "aa5901a7",
      "metadata": {
        "id": "aa5901a7",
        "colab": {
          "base_uri": "https://localhost:8080/",
          "height": 455
        },
        "outputId": "56a4d1cb-7c42-47b5-9900-968423b669f4"
      },
      "outputs": [
        {
          "output_type": "execute_result",
          "data": {
            "text/plain": [
              "             ITUB4.SA   BBAS3.SA\n",
              "Date                            \n",
              "2023-01-02  24.145468  32.305859\n",
              "2023-01-03  23.642645  31.703646\n",
              "2023-01-04  23.711658  32.111599\n",
              "2023-01-05  24.451109  33.578278\n",
              "2023-01-06  24.875059  34.044510\n",
              "...               ...        ...\n",
              "2023-04-24  25.352726  43.419998\n",
              "2023-04-25  25.582569  43.020000\n",
              "2023-04-26  25.322746  42.669998\n",
              "2023-04-27  25.772440  42.720001\n",
              "2023-04-28  25.902351  42.860001\n",
              "\n",
              "[81 rows x 2 columns]"
            ],
            "text/html": [
              "\n",
              "  <div id=\"df-e43129dc-3c78-4015-89c2-26d11ba701ae\">\n",
              "    <div class=\"colab-df-container\">\n",
              "      <div>\n",
              "<style scoped>\n",
              "    .dataframe tbody tr th:only-of-type {\n",
              "        vertical-align: middle;\n",
              "    }\n",
              "\n",
              "    .dataframe tbody tr th {\n",
              "        vertical-align: top;\n",
              "    }\n",
              "\n",
              "    .dataframe thead th {\n",
              "        text-align: right;\n",
              "    }\n",
              "</style>\n",
              "<table border=\"1\" class=\"dataframe\">\n",
              "  <thead>\n",
              "    <tr style=\"text-align: right;\">\n",
              "      <th></th>\n",
              "      <th>ITUB4.SA</th>\n",
              "      <th>BBAS3.SA</th>\n",
              "    </tr>\n",
              "    <tr>\n",
              "      <th>Date</th>\n",
              "      <th></th>\n",
              "      <th></th>\n",
              "    </tr>\n",
              "  </thead>\n",
              "  <tbody>\n",
              "    <tr>\n",
              "      <th>2023-01-02</th>\n",
              "      <td>24.145468</td>\n",
              "      <td>32.305859</td>\n",
              "    </tr>\n",
              "    <tr>\n",
              "      <th>2023-01-03</th>\n",
              "      <td>23.642645</td>\n",
              "      <td>31.703646</td>\n",
              "    </tr>\n",
              "    <tr>\n",
              "      <th>2023-01-04</th>\n",
              "      <td>23.711658</td>\n",
              "      <td>32.111599</td>\n",
              "    </tr>\n",
              "    <tr>\n",
              "      <th>2023-01-05</th>\n",
              "      <td>24.451109</td>\n",
              "      <td>33.578278</td>\n",
              "    </tr>\n",
              "    <tr>\n",
              "      <th>2023-01-06</th>\n",
              "      <td>24.875059</td>\n",
              "      <td>34.044510</td>\n",
              "    </tr>\n",
              "    <tr>\n",
              "      <th>...</th>\n",
              "      <td>...</td>\n",
              "      <td>...</td>\n",
              "    </tr>\n",
              "    <tr>\n",
              "      <th>2023-04-24</th>\n",
              "      <td>25.352726</td>\n",
              "      <td>43.419998</td>\n",
              "    </tr>\n",
              "    <tr>\n",
              "      <th>2023-04-25</th>\n",
              "      <td>25.582569</td>\n",
              "      <td>43.020000</td>\n",
              "    </tr>\n",
              "    <tr>\n",
              "      <th>2023-04-26</th>\n",
              "      <td>25.322746</td>\n",
              "      <td>42.669998</td>\n",
              "    </tr>\n",
              "    <tr>\n",
              "      <th>2023-04-27</th>\n",
              "      <td>25.772440</td>\n",
              "      <td>42.720001</td>\n",
              "    </tr>\n",
              "    <tr>\n",
              "      <th>2023-04-28</th>\n",
              "      <td>25.902351</td>\n",
              "      <td>42.860001</td>\n",
              "    </tr>\n",
              "  </tbody>\n",
              "</table>\n",
              "<p>81 rows × 2 columns</p>\n",
              "</div>\n",
              "      <button class=\"colab-df-convert\" onclick=\"convertToInteractive('df-e43129dc-3c78-4015-89c2-26d11ba701ae')\"\n",
              "              title=\"Convert this dataframe to an interactive table.\"\n",
              "              style=\"display:none;\">\n",
              "        \n",
              "  <svg xmlns=\"http://www.w3.org/2000/svg\" height=\"24px\"viewBox=\"0 0 24 24\"\n",
              "       width=\"24px\">\n",
              "    <path d=\"M0 0h24v24H0V0z\" fill=\"none\"/>\n",
              "    <path d=\"M18.56 5.44l.94 2.06.94-2.06 2.06-.94-2.06-.94-.94-2.06-.94 2.06-2.06.94zm-11 1L8.5 8.5l.94-2.06 2.06-.94-2.06-.94L8.5 2.5l-.94 2.06-2.06.94zm10 10l.94 2.06.94-2.06 2.06-.94-2.06-.94-.94-2.06-.94 2.06-2.06.94z\"/><path d=\"M17.41 7.96l-1.37-1.37c-.4-.4-.92-.59-1.43-.59-.52 0-1.04.2-1.43.59L10.3 9.45l-7.72 7.72c-.78.78-.78 2.05 0 2.83L4 21.41c.39.39.9.59 1.41.59.51 0 1.02-.2 1.41-.59l7.78-7.78 2.81-2.81c.8-.78.8-2.07 0-2.86zM5.41 20L4 18.59l7.72-7.72 1.47 1.35L5.41 20z\"/>\n",
              "  </svg>\n",
              "      </button>\n",
              "      \n",
              "  <style>\n",
              "    .colab-df-container {\n",
              "      display:flex;\n",
              "      flex-wrap:wrap;\n",
              "      gap: 12px;\n",
              "    }\n",
              "\n",
              "    .colab-df-convert {\n",
              "      background-color: #E8F0FE;\n",
              "      border: none;\n",
              "      border-radius: 50%;\n",
              "      cursor: pointer;\n",
              "      display: none;\n",
              "      fill: #1967D2;\n",
              "      height: 32px;\n",
              "      padding: 0 0 0 0;\n",
              "      width: 32px;\n",
              "    }\n",
              "\n",
              "    .colab-df-convert:hover {\n",
              "      background-color: #E2EBFA;\n",
              "      box-shadow: 0px 1px 2px rgba(60, 64, 67, 0.3), 0px 1px 3px 1px rgba(60, 64, 67, 0.15);\n",
              "      fill: #174EA6;\n",
              "    }\n",
              "\n",
              "    [theme=dark] .colab-df-convert {\n",
              "      background-color: #3B4455;\n",
              "      fill: #D2E3FC;\n",
              "    }\n",
              "\n",
              "    [theme=dark] .colab-df-convert:hover {\n",
              "      background-color: #434B5C;\n",
              "      box-shadow: 0px 1px 3px 1px rgba(0, 0, 0, 0.15);\n",
              "      filter: drop-shadow(0px 1px 2px rgba(0, 0, 0, 0.3));\n",
              "      fill: #FFFFFF;\n",
              "    }\n",
              "  </style>\n",
              "\n",
              "      <script>\n",
              "        const buttonEl =\n",
              "          document.querySelector('#df-e43129dc-3c78-4015-89c2-26d11ba701ae button.colab-df-convert');\n",
              "        buttonEl.style.display =\n",
              "          google.colab.kernel.accessAllowed ? 'block' : 'none';\n",
              "\n",
              "        async function convertToInteractive(key) {\n",
              "          const element = document.querySelector('#df-e43129dc-3c78-4015-89c2-26d11ba701ae');\n",
              "          const dataTable =\n",
              "            await google.colab.kernel.invokeFunction('convertToInteractive',\n",
              "                                                     [key], {});\n",
              "          if (!dataTable) return;\n",
              "\n",
              "          const docLinkHtml = 'Like what you see? Visit the ' +\n",
              "            '<a target=\"_blank\" href=https://colab.research.google.com/notebooks/data_table.ipynb>data table notebook</a>'\n",
              "            + ' to learn more about interactive tables.';\n",
              "          element.innerHTML = '';\n",
              "          dataTable['output_type'] = 'display_data';\n",
              "          await google.colab.output.renderOutput(dataTable, element);\n",
              "          const docLink = document.createElement('div');\n",
              "          docLink.innerHTML = docLinkHtml;\n",
              "          element.appendChild(docLink);\n",
              "        }\n",
              "      </script>\n",
              "    </div>\n",
              "  </div>\n",
              "  "
            ]
          },
          "metadata": {},
          "execution_count": 112
        }
      ],
      "source": [
        "dados_bancarios[['ITUB4.SA', 'BBAS3.SA']]"
      ]
    },
    {
      "cell_type": "code",
      "execution_count": null,
      "id": "fff962b2",
      "metadata": {
        "id": "fff962b2"
      },
      "outputs": [],
      "source": [
        "dados_filtrados_2023 = dados_bancarios[dados_bancarios.index > \"2023-01-01\"]"
      ]
    },
    {
      "cell_type": "code",
      "execution_count": null,
      "id": "f1467829",
      "metadata": {
        "id": "f1467829",
        "colab": {
          "base_uri": "https://localhost:8080/",
          "height": 455
        },
        "outputId": "7d7248be-2a7a-41b5-b02a-a1d441cd50da"
      },
      "outputs": [
        {
          "output_type": "execute_result",
          "data": {
            "text/plain": [
              "             BBAS3.SA   BBDC4.SA   ITUB4.SA   SANB4.SA     ^BVSP\n",
              "Date                                                            \n",
              "2023-01-02  32.305859  14.099283  24.145468  14.386187  106376.0\n",
              "2023-01-03  31.703646  13.399609  23.642645  14.085465  104166.0\n",
              "2023-01-04  32.111599  13.437892  23.711658  14.318283  105334.0\n",
              "2023-01-05  33.578278  14.021732  24.451109  14.483194  107518.0\n",
              "2023-01-06  34.044510  14.414149  24.875059  14.803319  108836.0\n",
              "...               ...        ...        ...        ...       ...\n",
              "2023-04-24  43.419998  13.400000  25.352726  14.208768  103947.0\n",
              "2023-04-25  43.020000  13.700000  25.582569  14.260000  103220.0\n",
              "2023-04-26  42.669998  13.500000  25.322746  14.070000  102312.0\n",
              "2023-04-27  42.720001  13.760000  25.772440  14.220000  102923.0\n",
              "2023-04-28  42.860001  13.850000  25.902351  14.310000  104432.0\n",
              "\n",
              "[81 rows x 5 columns]"
            ],
            "text/html": [
              "\n",
              "  <div id=\"df-ae853aae-de45-408c-93de-00911ae55f99\">\n",
              "    <div class=\"colab-df-container\">\n",
              "      <div>\n",
              "<style scoped>\n",
              "    .dataframe tbody tr th:only-of-type {\n",
              "        vertical-align: middle;\n",
              "    }\n",
              "\n",
              "    .dataframe tbody tr th {\n",
              "        vertical-align: top;\n",
              "    }\n",
              "\n",
              "    .dataframe thead th {\n",
              "        text-align: right;\n",
              "    }\n",
              "</style>\n",
              "<table border=\"1\" class=\"dataframe\">\n",
              "  <thead>\n",
              "    <tr style=\"text-align: right;\">\n",
              "      <th></th>\n",
              "      <th>BBAS3.SA</th>\n",
              "      <th>BBDC4.SA</th>\n",
              "      <th>ITUB4.SA</th>\n",
              "      <th>SANB4.SA</th>\n",
              "      <th>^BVSP</th>\n",
              "    </tr>\n",
              "    <tr>\n",
              "      <th>Date</th>\n",
              "      <th></th>\n",
              "      <th></th>\n",
              "      <th></th>\n",
              "      <th></th>\n",
              "      <th></th>\n",
              "    </tr>\n",
              "  </thead>\n",
              "  <tbody>\n",
              "    <tr>\n",
              "      <th>2023-01-02</th>\n",
              "      <td>32.305859</td>\n",
              "      <td>14.099283</td>\n",
              "      <td>24.145468</td>\n",
              "      <td>14.386187</td>\n",
              "      <td>106376.0</td>\n",
              "    </tr>\n",
              "    <tr>\n",
              "      <th>2023-01-03</th>\n",
              "      <td>31.703646</td>\n",
              "      <td>13.399609</td>\n",
              "      <td>23.642645</td>\n",
              "      <td>14.085465</td>\n",
              "      <td>104166.0</td>\n",
              "    </tr>\n",
              "    <tr>\n",
              "      <th>2023-01-04</th>\n",
              "      <td>32.111599</td>\n",
              "      <td>13.437892</td>\n",
              "      <td>23.711658</td>\n",
              "      <td>14.318283</td>\n",
              "      <td>105334.0</td>\n",
              "    </tr>\n",
              "    <tr>\n",
              "      <th>2023-01-05</th>\n",
              "      <td>33.578278</td>\n",
              "      <td>14.021732</td>\n",
              "      <td>24.451109</td>\n",
              "      <td>14.483194</td>\n",
              "      <td>107518.0</td>\n",
              "    </tr>\n",
              "    <tr>\n",
              "      <th>2023-01-06</th>\n",
              "      <td>34.044510</td>\n",
              "      <td>14.414149</td>\n",
              "      <td>24.875059</td>\n",
              "      <td>14.803319</td>\n",
              "      <td>108836.0</td>\n",
              "    </tr>\n",
              "    <tr>\n",
              "      <th>...</th>\n",
              "      <td>...</td>\n",
              "      <td>...</td>\n",
              "      <td>...</td>\n",
              "      <td>...</td>\n",
              "      <td>...</td>\n",
              "    </tr>\n",
              "    <tr>\n",
              "      <th>2023-04-24</th>\n",
              "      <td>43.419998</td>\n",
              "      <td>13.400000</td>\n",
              "      <td>25.352726</td>\n",
              "      <td>14.208768</td>\n",
              "      <td>103947.0</td>\n",
              "    </tr>\n",
              "    <tr>\n",
              "      <th>2023-04-25</th>\n",
              "      <td>43.020000</td>\n",
              "      <td>13.700000</td>\n",
              "      <td>25.582569</td>\n",
              "      <td>14.260000</td>\n",
              "      <td>103220.0</td>\n",
              "    </tr>\n",
              "    <tr>\n",
              "      <th>2023-04-26</th>\n",
              "      <td>42.669998</td>\n",
              "      <td>13.500000</td>\n",
              "      <td>25.322746</td>\n",
              "      <td>14.070000</td>\n",
              "      <td>102312.0</td>\n",
              "    </tr>\n",
              "    <tr>\n",
              "      <th>2023-04-27</th>\n",
              "      <td>42.720001</td>\n",
              "      <td>13.760000</td>\n",
              "      <td>25.772440</td>\n",
              "      <td>14.220000</td>\n",
              "      <td>102923.0</td>\n",
              "    </tr>\n",
              "    <tr>\n",
              "      <th>2023-04-28</th>\n",
              "      <td>42.860001</td>\n",
              "      <td>13.850000</td>\n",
              "      <td>25.902351</td>\n",
              "      <td>14.310000</td>\n",
              "      <td>104432.0</td>\n",
              "    </tr>\n",
              "  </tbody>\n",
              "</table>\n",
              "<p>81 rows × 5 columns</p>\n",
              "</div>\n",
              "      <button class=\"colab-df-convert\" onclick=\"convertToInteractive('df-ae853aae-de45-408c-93de-00911ae55f99')\"\n",
              "              title=\"Convert this dataframe to an interactive table.\"\n",
              "              style=\"display:none;\">\n",
              "        \n",
              "  <svg xmlns=\"http://www.w3.org/2000/svg\" height=\"24px\"viewBox=\"0 0 24 24\"\n",
              "       width=\"24px\">\n",
              "    <path d=\"M0 0h24v24H0V0z\" fill=\"none\"/>\n",
              "    <path d=\"M18.56 5.44l.94 2.06.94-2.06 2.06-.94-2.06-.94-.94-2.06-.94 2.06-2.06.94zm-11 1L8.5 8.5l.94-2.06 2.06-.94-2.06-.94L8.5 2.5l-.94 2.06-2.06.94zm10 10l.94 2.06.94-2.06 2.06-.94-2.06-.94-.94-2.06-.94 2.06-2.06.94z\"/><path d=\"M17.41 7.96l-1.37-1.37c-.4-.4-.92-.59-1.43-.59-.52 0-1.04.2-1.43.59L10.3 9.45l-7.72 7.72c-.78.78-.78 2.05 0 2.83L4 21.41c.39.39.9.59 1.41.59.51 0 1.02-.2 1.41-.59l7.78-7.78 2.81-2.81c.8-.78.8-2.07 0-2.86zM5.41 20L4 18.59l7.72-7.72 1.47 1.35L5.41 20z\"/>\n",
              "  </svg>\n",
              "      </button>\n",
              "      \n",
              "  <style>\n",
              "    .colab-df-container {\n",
              "      display:flex;\n",
              "      flex-wrap:wrap;\n",
              "      gap: 12px;\n",
              "    }\n",
              "\n",
              "    .colab-df-convert {\n",
              "      background-color: #E8F0FE;\n",
              "      border: none;\n",
              "      border-radius: 50%;\n",
              "      cursor: pointer;\n",
              "      display: none;\n",
              "      fill: #1967D2;\n",
              "      height: 32px;\n",
              "      padding: 0 0 0 0;\n",
              "      width: 32px;\n",
              "    }\n",
              "\n",
              "    .colab-df-convert:hover {\n",
              "      background-color: #E2EBFA;\n",
              "      box-shadow: 0px 1px 2px rgba(60, 64, 67, 0.3), 0px 1px 3px 1px rgba(60, 64, 67, 0.15);\n",
              "      fill: #174EA6;\n",
              "    }\n",
              "\n",
              "    [theme=dark] .colab-df-convert {\n",
              "      background-color: #3B4455;\n",
              "      fill: #D2E3FC;\n",
              "    }\n",
              "\n",
              "    [theme=dark] .colab-df-convert:hover {\n",
              "      background-color: #434B5C;\n",
              "      box-shadow: 0px 1px 3px 1px rgba(0, 0, 0, 0.15);\n",
              "      filter: drop-shadow(0px 1px 2px rgba(0, 0, 0, 0.3));\n",
              "      fill: #FFFFFF;\n",
              "    }\n",
              "  </style>\n",
              "\n",
              "      <script>\n",
              "        const buttonEl =\n",
              "          document.querySelector('#df-ae853aae-de45-408c-93de-00911ae55f99 button.colab-df-convert');\n",
              "        buttonEl.style.display =\n",
              "          google.colab.kernel.accessAllowed ? 'block' : 'none';\n",
              "\n",
              "        async function convertToInteractive(key) {\n",
              "          const element = document.querySelector('#df-ae853aae-de45-408c-93de-00911ae55f99');\n",
              "          const dataTable =\n",
              "            await google.colab.kernel.invokeFunction('convertToInteractive',\n",
              "                                                     [key], {});\n",
              "          if (!dataTable) return;\n",
              "\n",
              "          const docLinkHtml = 'Like what you see? Visit the ' +\n",
              "            '<a target=\"_blank\" href=https://colab.research.google.com/notebooks/data_table.ipynb>data table notebook</a>'\n",
              "            + ' to learn more about interactive tables.';\n",
              "          element.innerHTML = '';\n",
              "          dataTable['output_type'] = 'display_data';\n",
              "          await google.colab.output.renderOutput(dataTable, element);\n",
              "          const docLink = document.createElement('div');\n",
              "          docLink.innerHTML = docLinkHtml;\n",
              "          element.appendChild(docLink);\n",
              "        }\n",
              "      </script>\n",
              "    </div>\n",
              "  </div>\n",
              "  "
            ]
          },
          "metadata": {},
          "execution_count": 114
        }
      ],
      "source": [
        "dados_filtrados_2023"
      ]
    },
    {
      "cell_type": "code",
      "execution_count": null,
      "id": "cfa2405b",
      "metadata": {
        "id": "cfa2405b"
      },
      "outputs": [],
      "source": [
        "itau = dados_bancarios['ITUB4.SA']\n",
        "santander = dados_bancarios['SANB4.SA']\n",
        "banco_do_brasil = dados_bancarios['BBAS3.SA']\n",
        "bradesco = dados_bancarios['BBDC4.SA']\n",
        "dados_mercado = dados_bancarios['^BVSP']"
      ]
    },
    {
      "cell_type": "code",
      "execution_count": null,
      "id": "10d1466f",
      "metadata": {
        "id": "10d1466f"
      },
      "outputs": [],
      "source": [
        "def retorno(lista):\n",
        "    retorno = lista[-1]/lista[0] - 1\n",
        "    \n",
        "    return retorno "
      ]
    },
    {
      "cell_type": "code",
      "execution_count": null,
      "id": "034a23d7",
      "metadata": {
        "id": "034a23d7"
      },
      "outputs": [],
      "source": [
        "retorno_itau = retorno(lista = itau)\n",
        "retorno_banco_brasil = retorno(lista = banco_do_brasil)\n",
        "retorno_bradesco = retorno(lista = bradesco)\n",
        "retorno_santander = retorno(lista = santander)\n",
        "retorno_mercado = retorno(lista = dados_mercado)"
      ]
    },
    {
      "cell_type": "code",
      "execution_count": null,
      "id": "a8d190c4",
      "metadata": {
        "id": "a8d190c4",
        "colab": {
          "base_uri": "https://localhost:8080/"
        },
        "outputId": "361399a0-a4b2-4c89-c8af-143524e49f05"
      },
      "outputs": [
        {
          "output_type": "execute_result",
          "data": {
            "text/plain": [
              "(0.07276245955602656,\n",
              " 0.3266943660290429,\n",
              " -0.017680532623745582,\n",
              " -0.0052957870097534165,\n",
              " -0.01827479882680305)"
            ]
          },
          "metadata": {},
          "execution_count": 118
        }
      ],
      "source": [
        "retorno_itau, retorno_banco_brasil, retorno_bradesco, retorno_santander, retorno_mercado"
      ]
    },
    {
      "cell_type": "code",
      "execution_count": null,
      "id": "729b1c6b",
      "metadata": {
        "id": "729b1c6b"
      },
      "outputs": [],
      "source": [
        "df_retornos = pd.DataFrame(data = {'retornos': [retorno_itau, retorno_banco_brasil, \n",
        "                                   retorno_bradesco, retorno_santander, retorno_mercado]}, \n",
        "                           index = [\"Itau\", \"Banco_do_Brasil\", \"Bradesco\", \"Santander\", \"Ibovespa\"])"
      ]
    },
    {
      "cell_type": "code",
      "execution_count": null,
      "id": "7e129790",
      "metadata": {
        "id": "7e129790"
      },
      "outputs": [],
      "source": [
        "df_retornos['retornos'] = df_retornos['retornos'] * 100"
      ]
    },
    {
      "cell_type": "code",
      "execution_count": null,
      "id": "af698f94",
      "metadata": {
        "id": "af698f94"
      },
      "outputs": [],
      "source": [
        "df_retornos = df_retornos.sort_values(by = \"retornos\", ascending = False)"
      ]
    },
    {
      "cell_type": "code",
      "execution_count": null,
      "id": "ecd18900",
      "metadata": {
        "id": "ecd18900",
        "colab": {
          "base_uri": "https://localhost:8080/",
          "height": 429
        },
        "outputId": "af1aad64-af49-4d4d-f937-eeda0f782d89"
      },
      "outputs": [
        {
          "output_type": "display_data",
          "data": {
            "text/plain": [
              "<Figure size 640x480 with 1 Axes>"
            ],
            "image/png": "[encoded data removed]"
          },
          "metadata": {}
        }
      ],
      "source": [
        "fig, ax = plt.subplots()\n",
        "\n",
        "ax.bar(df_retornos.index , df_retornos['retornos'])\n",
        "ax.yaxis.set_major_formatter(mtick.PercentFormatter())\n",
        "\n",
        "plt.xticks(fontsize = 9)\n",
        "\n",
        "plt.show()"
      ]
    }
  ],
  "metadata": {
    "kernelspec": {
      "display_name": "Python 3 (ipykernel)",
      "language": "python",
      "name": "python3"
    },
    "language_info": {
      "codemirror_mode": {
        "name": "ipython",
        "version": 3
      },
      "file_extension": ".py",
      "mimetype": "text/x-python",
      "name": "python",
      "nbconvert_exporter": "python",
      "pygments_lexer": "ipython3",
      "version": "3.9.12"
    },
    "colab": {
      "provenance": [],
      "include_colab_link": true
    }
  },
  "nbformat": 4,
  "nbformat_minor": 5
}