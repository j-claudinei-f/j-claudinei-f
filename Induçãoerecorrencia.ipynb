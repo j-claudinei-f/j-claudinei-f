{
  "nbformat": 4,
  "nbformat_minor": 0,
  "metadata": {
    "colab": {
      "provenance": [],
      "authorship_tag": "ABX9TyPVGezSGtd4mzqbu2gbVL8S",
      "include_colab_link": true
    },
    "kernelspec": {
      "name": "python3",
      "display_name": "Python 3"
    },
    "language_info": {
      "name": "python"
    }
  },
  "cells": [
    {
      "cell_type": "markdown",
      "metadata": {
        "id": "view-in-github",
        "colab_type": "text"
      },
      "source": [
        "<a href=\"https://colab.research.google.com/github/j-claudinei-f/j-claudinei-f/blob/main/Indu%C3%A7%C3%A3oerecorrencia.ipynb\" target=\"_parent\"><img src=\"https://colab.research.google.com/assets/colab-badge.svg\" alt=\"Open In Colab\"/></a>"
      ]
    },
    {
      "cell_type": "markdown",
      "source": [
        "#**Definição por recorrência e relação de recorrência**\n",
        "\n",
        "José Claudinei Ferreira\n",
        "\n",
        "Universidade Federal de Alfenas"
      ],
      "metadata": {
        "id": "BhxOUnaGwagv"
      }
    },
    {
      "cell_type": "markdown",
      "source": [
        "#**Exemplo 1:**\n",
        "\n",
        "Mostre que, para cada  número natural $n\\geq 64$, existem números inteiros positivos $p$ e $q$, tais que $$n=17p+5q.$$"
      ],
      "metadata": {
        "id": "q8dNAwRJ5zGJ"
      }
    },
    {
      "cell_type": "markdown",
      "source": [
        "**Demonstração:** Seja $X=\\{j\\in \\mathbb{N}, \\text{tais que, para }64\\leq k\\leq n=(63+j ), \\text{ existem números inteiros positivos } p_k ,\\, q_k, \\text{ com } n=17p_k+5q_k\\}$.\n",
        "\n",
        "Observe que podemos testar a afirmação computacionalmente, para $64\\leq n\\leq 100$, por exemplo, como segue:"
      ],
      "metadata": {
        "id": "CF45-f6yJ0ct"
      }
    },
    {
      "cell_type": "code",
      "source": [
        "def teste(n):\n",
        "  sol=[]\n",
        "  for p in range(0,20):\n",
        "    for q in range(0,20):\n",
        "        if (17*p+5*q)==n:\n",
        "          sol=[p,q]\n",
        "          break\n",
        "  return(sol)"
      ],
      "metadata": {
        "id": "b4fY8vx86A5y"
      },
      "execution_count": 6,
      "outputs": []
    },
    {
      "cell_type": "markdown",
      "source": [
        "Testando"
      ],
      "metadata": {
        "id": "PmZpWiaw5yCa"
      }
    },
    {
      "cell_type": "code",
      "source": [
        "for i in range(63,100+1):\n",
        "  print('k=',i,', [p,q]=',teste(i))"
      ],
      "metadata": {
        "colab": {
          "base_uri": "https://localhost:8080/"
        },
        "id": "_d_MFOiE6gJi",
        "outputId": "70aa2940-e9fd-47fc-a470-608924739c90"
      },
      "execution_count": 7,
      "outputs": [
        {
          "output_type": "stream",
          "name": "stdout",
          "text": [
            "k= 63 , [p,q]= []\n",
            "k= 64 , [p,q]= [2, 6]\n",
            "k= 65 , [p,q]= [0, 13]\n",
            "k= 66 , [p,q]= [3, 3]\n",
            "k= 67 , [p,q]= [1, 10]\n",
            "k= 68 , [p,q]= [4, 0]\n",
            "k= 69 , [p,q]= [2, 7]\n",
            "k= 70 , [p,q]= [0, 14]\n",
            "k= 71 , [p,q]= [3, 4]\n",
            "k= 72 , [p,q]= [1, 11]\n",
            "k= 73 , [p,q]= [4, 1]\n",
            "k= 74 , [p,q]= [2, 8]\n",
            "k= 75 , [p,q]= [0, 15]\n",
            "k= 76 , [p,q]= [3, 5]\n",
            "k= 77 , [p,q]= [1, 12]\n",
            "k= 78 , [p,q]= [4, 2]\n",
            "k= 79 , [p,q]= [2, 9]\n",
            "k= 80 , [p,q]= [0, 16]\n",
            "k= 81 , [p,q]= [3, 6]\n",
            "k= 82 , [p,q]= [1, 13]\n",
            "k= 83 , [p,q]= [4, 3]\n",
            "k= 84 , [p,q]= [2, 10]\n",
            "k= 85 , [p,q]= [5, 0]\n",
            "k= 86 , [p,q]= [3, 7]\n",
            "k= 87 , [p,q]= [1, 14]\n",
            "k= 88 , [p,q]= [4, 4]\n",
            "k= 89 , [p,q]= [2, 11]\n",
            "k= 90 , [p,q]= [5, 1]\n",
            "k= 91 , [p,q]= [3, 8]\n",
            "k= 92 , [p,q]= [1, 15]\n",
            "k= 93 , [p,q]= [4, 5]\n",
            "k= 94 , [p,q]= [2, 12]\n",
            "k= 95 , [p,q]= [5, 2]\n",
            "k= 96 , [p,q]= [3, 9]\n",
            "k= 97 , [p,q]= [1, 16]\n",
            "k= 98 , [p,q]= [4, 6]\n",
            "k= 99 , [p,q]= [2, 13]\n",
            "k= 100 , [p,q]= [5, 3]\n"
          ]
        }
      ]
    },
    {
      "cell_type": "markdown",
      "source": [
        "Como você pode observar acima, é verdade que $j\\in X$, para $64\\leq n=63+j\\leq 100$,  existem números números inteiros positivos $p_n$ e $q_n$, tais que $$n=17p+5q,$$ por checagem.\n",
        "\n",
        "Vamos supor então que $j\\in X$, para algum $n=63+j\\geq 80$.\n",
        "\n",
        "Segue que $64\\leq k=n+1-17=n-16\\leq n$ pode ser reescrito como $k=17p_k+5q_k$. Então $63+(j+1)n+1=17(p_k+1)+5q_k$, por exemplo;.\n",
        "\n",
        "Portanto, $j+1\\in X$ e $X=\\mathbb{N}$, pelo princípio de indução finita. $\\square$\n"
      ],
      "metadata": {
        "id": "IAsu0cLk_-CI"
      }
    },
    {
      "cell_type": "markdown",
      "source": [
        "**Obs.** Note que a demonstração acima nos dá uma relação de recorrência $$(p_{n+1},q_{n+1})=(p_{n-16}+1,q_{n-16}).$$\n",
        "\n",
        "Note ainda que há outras formas de determinar $(p_n,q_n)$ aceitos."
      ],
      "metadata": {
        "id": "b1_NpcdXNIAf"
      }
    },
    {
      "cell_type": "markdown",
      "source": [
        "#**Exemplo 2:**\n",
        "\n",
        "Mostre que, para cada  número natural $n\\geq 640$, existem números naturais $p$ e $q$, tais que $$n=17p+41q.$$"
      ],
      "metadata": {
        "id": "-r_1WcZLxgCC"
      }
    },
    {
      "cell_type": "markdown",
      "source": [
        "**Dica para a solução:** Observe que podemos testar a afirmação computacionalmente, para $640\\leq n\\leq 700$, por exemplo, como segue:"
      ],
      "metadata": {
        "id": "zlk1L7JlxgCE"
      }
    },
    {
      "cell_type": "code",
      "source": [
        "def teste(n):\n",
        "  sol=[]\n",
        "  for p in range(0,50):\n",
        "    for q in range(0,50):\n",
        "        if (17*p+41*q)==n:\n",
        "          sol=[p,q]\n",
        "          break\n",
        "  return(sol)"
      ],
      "metadata": {
        "id": "Zm7X7dlWxgCF"
      },
      "execution_count": 14,
      "outputs": []
    },
    {
      "cell_type": "markdown",
      "source": [
        "Testando"
      ],
      "metadata": {
        "id": "A4f8DmkJxgCG"
      }
    },
    {
      "cell_type": "code",
      "source": [
        "for i in range(639,700+1):\n",
        "  print('k=',i,', [p,q]=',teste(i))"
      ],
      "metadata": {
        "colab": {
          "base_uri": "https://localhost:8080/"
        },
        "outputId": "d2b4e45a-fbd6-4abc-de48-d215e8b74027",
        "id": "XFkVKvCTxgCG"
      },
      "execution_count": 17,
      "outputs": [
        {
          "output_type": "stream",
          "name": "stdout",
          "text": [
            "k= 639 , [p,q]= []\n",
            "k= 640 , [p,q]= [28, 4]\n",
            "k= 641 , [p,q]= [16, 9]\n",
            "k= 642 , [p,q]= [4, 14]\n",
            "k= 643 , [p,q]= [33, 2]\n",
            "k= 644 , [p,q]= [21, 7]\n",
            "k= 645 , [p,q]= [9, 12]\n",
            "k= 646 , [p,q]= [38, 0]\n",
            "k= 647 , [p,q]= [26, 5]\n",
            "k= 648 , [p,q]= [14, 10]\n",
            "k= 649 , [p,q]= [2, 15]\n",
            "k= 650 , [p,q]= [31, 3]\n",
            "k= 651 , [p,q]= [19, 8]\n",
            "k= 652 , [p,q]= [7, 13]\n",
            "k= 653 , [p,q]= [36, 1]\n",
            "k= 654 , [p,q]= [24, 6]\n",
            "k= 655 , [p,q]= [12, 11]\n",
            "k= 656 , [p,q]= [0, 16]\n",
            "k= 657 , [p,q]= [29, 4]\n",
            "k= 658 , [p,q]= [17, 9]\n",
            "k= 659 , [p,q]= [5, 14]\n",
            "k= 660 , [p,q]= [34, 2]\n",
            "k= 661 , [p,q]= [22, 7]\n",
            "k= 662 , [p,q]= [10, 12]\n",
            "k= 663 , [p,q]= [39, 0]\n",
            "k= 664 , [p,q]= [27, 5]\n",
            "k= 665 , [p,q]= [15, 10]\n",
            "k= 666 , [p,q]= [3, 15]\n",
            "k= 667 , [p,q]= [32, 3]\n",
            "k= 668 , [p,q]= [20, 8]\n",
            "k= 669 , [p,q]= [8, 13]\n",
            "k= 670 , [p,q]= [37, 1]\n",
            "k= 671 , [p,q]= [25, 6]\n",
            "k= 672 , [p,q]= [13, 11]\n",
            "k= 673 , [p,q]= [1, 16]\n",
            "k= 674 , [p,q]= [30, 4]\n",
            "k= 675 , [p,q]= [18, 9]\n",
            "k= 676 , [p,q]= [6, 14]\n",
            "k= 677 , [p,q]= [35, 2]\n",
            "k= 678 , [p,q]= [23, 7]\n",
            "k= 679 , [p,q]= [11, 12]\n",
            "k= 680 , [p,q]= [40, 0]\n",
            "k= 681 , [p,q]= [28, 5]\n",
            "k= 682 , [p,q]= [16, 10]\n",
            "k= 683 , [p,q]= [4, 15]\n",
            "k= 684 , [p,q]= [33, 3]\n",
            "k= 685 , [p,q]= [21, 8]\n",
            "k= 686 , [p,q]= [9, 13]\n",
            "k= 687 , [p,q]= [38, 1]\n",
            "k= 688 , [p,q]= [26, 6]\n",
            "k= 689 , [p,q]= [14, 11]\n",
            "k= 690 , [p,q]= [2, 16]\n",
            "k= 691 , [p,q]= [31, 4]\n",
            "k= 692 , [p,q]= [19, 9]\n",
            "k= 693 , [p,q]= [7, 14]\n",
            "k= 694 , [p,q]= [36, 2]\n",
            "k= 695 , [p,q]= [24, 7]\n",
            "k= 696 , [p,q]= [12, 12]\n",
            "k= 697 , [p,q]= [41, 0]\n",
            "k= 698 , [p,q]= [29, 5]\n",
            "k= 699 , [p,q]= [17, 10]\n",
            "k= 700 , [p,q]= [5, 15]\n"
          ]
        }
      ]
    },
    {
      "cell_type": "markdown",
      "source": [
        "Como você pode observar acima, isso é verdade para $640\\leq n\\leq 700$, por checagem.\n",
        "\n",
        "Voce pode supor que seja verdade para todo $680\\leq k\\leq n$. ...."
      ],
      "metadata": {
        "id": "Ql3g3pksxgCH"
      }
    },
    {
      "cell_type": "markdown",
      "source": [
        "\n",
        "\n",
        "\n"
      ],
      "metadata": {
        "id": "hVyXKm0UtqiA"
      }
    },
    {
      "cell_type": "markdown",
      "source": [
        "#**Exemplo 3:**\n",
        "\n",
        "Mostre que, para cada  número natural $n\\geq 1000$, existem números naturais $p$ e $q$, tais que $$n=97p+103q.$$"
      ],
      "metadata": {
        "id": "LbJxpjOnt3re"
      }
    },
    {
      "cell_type": "markdown",
      "source": [
        "**Dica para a solução:** Observe que podemos testar a afirmação computacionalmente, para $9792\\leq n\\leq 9900$, por exemplo, como segue:"
      ],
      "metadata": {
        "id": "jt3hUczPt3re"
      }
    },
    {
      "cell_type": "code",
      "source": [
        "def teste(n):\n",
        "  sol=[]\n",
        "  for p in range(0,300):\n",
        "    for q in range(0,300):\n",
        "        if (97*p+103*q)==n:\n",
        "          sol=[p,q]\n",
        "          break\n",
        "  return(sol)"
      ],
      "metadata": {
        "id": "sQEtVSV-t3rf"
      },
      "execution_count": 23,
      "outputs": []
    },
    {
      "cell_type": "markdown",
      "source": [
        "Testando"
      ],
      "metadata": {
        "id": "JEe86KXRt3rf"
      }
    },
    {
      "cell_type": "code",
      "source": [
        "for i in range(9791,9900+1):\n",
        "  print('k=',i,', [p,q]=',teste(i))"
      ],
      "metadata": {
        "colab": {
          "base_uri": "https://localhost:8080/"
        },
        "outputId": "ac6cd0ad-b65b-43bc-bb42-04f844c023d0",
        "id": "1DYlVahUt3rg"
      },
      "execution_count": 32,
      "outputs": [
        {
          "output_type": "stream",
          "name": "stdout",
          "text": [
            "k= 9791 , [p,q]= []\n",
            "k= 9792 , [p,q]= [16, 80]\n",
            "k= 9793 , [p,q]= [33, 64]\n",
            "k= 9794 , [p,q]= [50, 48]\n",
            "k= 9795 , [p,q]= [67, 32]\n",
            "k= 9796 , [p,q]= [84, 16]\n",
            "k= 9797 , [p,q]= [101, 0]\n",
            "k= 9798 , [p,q]= [15, 81]\n",
            "k= 9799 , [p,q]= [32, 65]\n",
            "k= 9800 , [p,q]= [49, 49]\n",
            "k= 9801 , [p,q]= [66, 33]\n",
            "k= 9802 , [p,q]= [83, 17]\n",
            "k= 9803 , [p,q]= [100, 1]\n",
            "k= 9804 , [p,q]= [14, 82]\n",
            "k= 9805 , [p,q]= [31, 66]\n",
            "k= 9806 , [p,q]= [48, 50]\n",
            "k= 9807 , [p,q]= [65, 34]\n",
            "k= 9808 , [p,q]= [82, 18]\n",
            "k= 9809 , [p,q]= [99, 2]\n",
            "k= 9810 , [p,q]= [13, 83]\n",
            "k= 9811 , [p,q]= [30, 67]\n",
            "k= 9812 , [p,q]= [47, 51]\n",
            "k= 9813 , [p,q]= [64, 35]\n",
            "k= 9814 , [p,q]= [81, 19]\n",
            "k= 9815 , [p,q]= [98, 3]\n",
            "k= 9816 , [p,q]= [12, 84]\n",
            "k= 9817 , [p,q]= [29, 68]\n",
            "k= 9818 , [p,q]= [46, 52]\n",
            "k= 9819 , [p,q]= [63, 36]\n",
            "k= 9820 , [p,q]= [80, 20]\n",
            "k= 9821 , [p,q]= [97, 4]\n",
            "k= 9822 , [p,q]= [11, 85]\n",
            "k= 9823 , [p,q]= [28, 69]\n",
            "k= 9824 , [p,q]= [45, 53]\n",
            "k= 9825 , [p,q]= [62, 37]\n",
            "k= 9826 , [p,q]= [79, 21]\n",
            "k= 9827 , [p,q]= [96, 5]\n",
            "k= 9828 , [p,q]= [10, 86]\n",
            "k= 9829 , [p,q]= [27, 70]\n",
            "k= 9830 , [p,q]= [44, 54]\n",
            "k= 9831 , [p,q]= [61, 38]\n",
            "k= 9832 , [p,q]= [78, 22]\n",
            "k= 9833 , [p,q]= [95, 6]\n",
            "k= 9834 , [p,q]= [9, 87]\n",
            "k= 9835 , [p,q]= [26, 71]\n",
            "k= 9836 , [p,q]= [43, 55]\n",
            "k= 9837 , [p,q]= [60, 39]\n",
            "k= 9838 , [p,q]= [77, 23]\n",
            "k= 9839 , [p,q]= [94, 7]\n",
            "k= 9840 , [p,q]= [8, 88]\n",
            "k= 9841 , [p,q]= [25, 72]\n",
            "k= 9842 , [p,q]= [42, 56]\n",
            "k= 9843 , [p,q]= [59, 40]\n",
            "k= 9844 , [p,q]= [76, 24]\n",
            "k= 9845 , [p,q]= [93, 8]\n",
            "k= 9846 , [p,q]= [7, 89]\n",
            "k= 9847 , [p,q]= [24, 73]\n",
            "k= 9848 , [p,q]= [41, 57]\n",
            "k= 9849 , [p,q]= [58, 41]\n",
            "k= 9850 , [p,q]= [75, 25]\n",
            "k= 9851 , [p,q]= [92, 9]\n",
            "k= 9852 , [p,q]= [6, 90]\n",
            "k= 9853 , [p,q]= [23, 74]\n",
            "k= 9854 , [p,q]= [40, 58]\n",
            "k= 9855 , [p,q]= [57, 42]\n",
            "k= 9856 , [p,q]= [74, 26]\n",
            "k= 9857 , [p,q]= [91, 10]\n",
            "k= 9858 , [p,q]= [5, 91]\n",
            "k= 9859 , [p,q]= [22, 75]\n",
            "k= 9860 , [p,q]= [39, 59]\n",
            "k= 9861 , [p,q]= [56, 43]\n",
            "k= 9862 , [p,q]= [73, 27]\n",
            "k= 9863 , [p,q]= [90, 11]\n",
            "k= 9864 , [p,q]= [4, 92]\n",
            "k= 9865 , [p,q]= [21, 76]\n",
            "k= 9866 , [p,q]= [38, 60]\n",
            "k= 9867 , [p,q]= [55, 44]\n",
            "k= 9868 , [p,q]= [72, 28]\n",
            "k= 9869 , [p,q]= [89, 12]\n",
            "k= 9870 , [p,q]= [3, 93]\n",
            "k= 9871 , [p,q]= [20, 77]\n",
            "k= 9872 , [p,q]= [37, 61]\n",
            "k= 9873 , [p,q]= [54, 45]\n",
            "k= 9874 , [p,q]= [71, 29]\n",
            "k= 9875 , [p,q]= [88, 13]\n",
            "k= 9876 , [p,q]= [2, 94]\n",
            "k= 9877 , [p,q]= [19, 78]\n",
            "k= 9878 , [p,q]= [36, 62]\n",
            "k= 9879 , [p,q]= [53, 46]\n",
            "k= 9880 , [p,q]= [70, 30]\n",
            "k= 9881 , [p,q]= [87, 14]\n",
            "k= 9882 , [p,q]= [1, 95]\n",
            "k= 9883 , [p,q]= [18, 79]\n",
            "k= 9884 , [p,q]= [35, 63]\n",
            "k= 9885 , [p,q]= [52, 47]\n",
            "k= 9886 , [p,q]= [69, 31]\n",
            "k= 9887 , [p,q]= [86, 15]\n",
            "k= 9888 , [p,q]= [0, 96]\n",
            "k= 9889 , [p,q]= [17, 80]\n",
            "k= 9890 , [p,q]= [34, 64]\n",
            "k= 9891 , [p,q]= [51, 48]\n",
            "k= 9892 , [p,q]= [68, 32]\n",
            "k= 9893 , [p,q]= [85, 16]\n",
            "k= 9894 , [p,q]= [102, 0]\n",
            "k= 9895 , [p,q]= [16, 81]\n",
            "k= 9896 , [p,q]= [33, 65]\n",
            "k= 9897 , [p,q]= [50, 49]\n",
            "k= 9898 , [p,q]= [67, 33]\n",
            "k= 9899 , [p,q]= [84, 17]\n",
            "k= 9900 , [p,q]= [101, 1]\n"
          ]
        }
      ]
    },
    {
      "cell_type": "markdown",
      "source": [
        "Como você pode observar acima, isso é verdade para $9792\\leq n\\leq 9900$, por checagem.\n",
        "\n",
        "Voce pode supor que seja verdade para todo $9990\\leq k\\leq n$. ...."
      ],
      "metadata": {
        "id": "GmWPikjGt3rh"
      }
    }
  ]
}