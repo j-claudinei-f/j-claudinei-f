{
  "nbformat": 4,
  "nbformat_minor": 0,
  "metadata": {
    "colab": {
      "provenance": [],
      "authorship_tag": "ABX9TyNRNT1WzZq5Y84O+Wk5zS7B",
      "include_colab_link": true
    },
    "kernelspec": {
      "name": "python3",
      "display_name": "Python 3"
    },
    "language_info": {
      "name": "python"
    }
  },
  "cells": [
    {
      "cell_type": "markdown",
      "metadata": {
        "id": "view-in-github",
        "colab_type": "text"
      },
      "source": [
        "<a href=\"https://colab.research.google.com/github/j-claudinei-f/j-claudinei-f/blob/main/Avali%C3%A7%C3%A3o_II_preseicial.ipynb\" target=\"_parent\"><img src=\"https://colab.research.google.com/assets/colab-badge.svg\" alt=\"Open In Colab\"/></a>"
      ]
    },
    {
      "cell_type": "markdown",
      "source": [
        "<font color=red> Um possível gabarito!<font color=black>\n",
        "\n",
        "#**Avaliação 2 de Álgebra Linear (parte presencial) -- Computação**\n",
        "\n",
        "Professor  José Claudinei Ferreira - 15/02/2023 \n"
      ],
      "metadata": {
        "id": "1uhBzJKt8oEV"
      }
    },
    {
      "cell_type": "markdown",
      "source": [
        "Leia atentamente os exercícios antes de começar. Coloque todos os\n",
        "detalhes necessários para justificar sua resposta, de acordo como a teoria apresentada em aula e no livro texto. Cada item correto vale 1.0 pontos."
      ],
      "metadata": {
        "id": "da5ZsEPJ80qm"
      }
    },
    {
      "cell_type": "markdown",
      "source": [
        "**<font color=blue> Questão 1. <font color=black>** Seja $T:\\,V\\to W$ uma função linear, em que $V=W=\\mathbb{R}^3$, com estrutura usual de espaço vetorial e base canônica $B=\\{e_1,\\,e_2,\\,e_3\\}$.\n",
        "\n",
        "Sabendo que $T(v_1)=v_2$, $T(v_2)=v_3$ e que $T(v_3)=v_1$, em que $v_1=(1,1,1)$, $v_2=(-1,1,1)$ e $v_3=(1,-1,1)$:\n",
        "\n",
        "a) Calcule $T(e_1)$.\n",
        "\n",
        "b) Determine $v$, tal que $T(v)=e_1$.\n",
        "\n",
        "c) Determine uma representação para $T(u)$, considerando a base $C=\\{v_1,v_2,v_3\\}$ para $V$ e para $W$.\n",
        "\n",
        "d) Determine um vetor $w$ (não nulo) e um número real $\\lambda$, tais que $T(w)=\\lambda w$. "
      ],
      "metadata": {
        "id": "W74npGaW7wjm"
      }
    },
    {
      "cell_type": "markdown",
      "source": [
        "**Solução**\n",
        "\n",
        "**Item a)** Como sabemos que $T(v_1)=v_2$, $T(v_2)=v_3$ e que $T(v_3)=v_1$, em que $v_1=(1,1,1)$, $v_2=(-1,1,1)$ e $v_3=(1,-1,1)$. Podemos verificar também que $C=\\{v_1,\\,v_2,\\,v_3\\}$ é uma base de $V$.  \n",
        "\n",
        "Sendo assim, se $u\\in V$, existem $\\alpha,\\,\\beta,\\,\\gamma$ números reais, tais que \n",
        "$u=(x,y,z)$, na base $B$, e $$u=\\alpha v_1+\\beta v_2+\\gamma v_3.\\tag{1}$$ Como $T(u)$ é função linear, obtemos $$T(u)=\\alpha T(v_1)+\\beta T(v_2)+\\gamma T(v_3)=\\alpha v_2+\\beta v_3+\\gamma v_1,\\tag{2}$$ ou que $$T(u)=\\begin{bmatrix}-1&1&1\\\\1&-1&1\\\\1&1&1\\end{bmatrix}\\begin{bmatrix}\\alpha\\\\\\beta\\\\\\gamma\\end{bmatrix}.\\tag{3}$$ \n",
        "\n",
        "Mas, a equação $(1)$ nos dá a relação \n",
        " $$\\begin{bmatrix}1&-1&1\\\\1&1&-1\\\\1&1&1\\end{bmatrix}\\begin{bmatrix}\\alpha\\\\\\beta\\\\\\gamma\\end{bmatrix}=\\begin{bmatrix}x\\\\y\\\\z\\end{bmatrix}.\\tag{4}$$ \n",
        "\n"
      ],
      "metadata": {
        "id": "1n_LfIpBDKV-"
      }
    },
    {
      "cell_type": "markdown",
      "source": [
        "Por eliminação obtemos \n",
        "$$\\begin{bmatrix}1&-1&1\\\\0&2&-2\\\\0&2&0\\end{bmatrix}\\begin{bmatrix}\\alpha\\\\\\beta\\\\\\gamma\\end{bmatrix}=\\begin{bmatrix}x\\\\y-x\\\\z-x\\end{bmatrix},$$ ou que $$\\begin{cases}\\alpha&-&\\beta&+&\\gamma&=&x\\\\&&2\\beta&-&2\\gamma&=&y-x\\\\&&2\\beta&&&=&z-x\\end{cases}.$$ \n",
        "\n",
        "Segue que \n",
        "$$\\begin{cases}\\alpha&=&\\frac{x+y}{2}\\\\\\beta&=&\\frac{z-x}{2}\\\\\\gamma&=&\\frac{z-y}{2}\\\\\\end{cases},$$ ou que \n",
        "$$\\frac{1}{2}\\begin{bmatrix}1&1&0\\\\-1&0&1\\\\0&-1&1\\end{bmatrix}\\begin{bmatrix}x\\\\y\\\\z\\end{bmatrix}=\\begin{bmatrix}\\alpha\\\\\\beta\\\\\\gamma\\end{bmatrix}.\\tag{5}$$"
      ],
      "metadata": {
        "id": "naTU0ZQlcacF"
      }
    },
    {
      "cell_type": "markdown",
      "source": [
        "Isso quer dizer que, se $u=e_1=(1,0,0)$ teremos $\\alpha=1/2$, $\\beta=-1/2$ e $\\gamma=0$. \n",
        "\n",
        "Então, $$T(e_1)=\\frac{1}{2}v_2-\\frac{1}{2}v_3=\\begin{bmatrix}-1\\\\1\\\\0\\end{bmatrix}.$$"
      ],
      "metadata": {
        "id": "rR8aX06LVIvc"
      }
    },
    {
      "cell_type": "markdown",
      "source": [
        "**Obs.** Note que $$T(e_2)=\\frac{1}{2}v_2-\\frac{1}{2}v_1=\\begin{bmatrix}-1\\\\0\\\\0\\end{bmatrix}$$ e que\n",
        "$$T(e_3)=\\frac{1}{2}v_3+\\frac{1}{2}v_1=\\begin{bmatrix}1\\\\0\\\\1\\end{bmatrix}.$$\n",
        "\n",
        "Sendo assim, $$T(u)=\\begin{bmatrix}-1&-1&1\\\\1&0&0\\\\0&0&1\\end{bmatrix}\\begin{bmatrix}x\\\\y\\\\z\\end{bmatrix},\\qquad u=\\begin{bmatrix}x\\\\y\\\\z\\end{bmatrix},\\tag{6}$$ na base canônica."
      ],
      "metadata": {
        "id": "RbXp7rPuWxP1"
      }
    },
    {
      "cell_type": "markdown",
      "source": [
        "<font color=blue> Você pode testar aí se, $T(v_1)=v_2$, $T(v_2)=v_3$ e $T(v_3)=v_1$."
      ],
      "metadata": {
        "id": "fw6nx8VBCoej"
      }
    },
    {
      "cell_type": "code",
      "source": [
        "import numpy as np\n",
        "\n",
        "def T(u):\n",
        "  u=np.array(u)\n",
        "  A=np.array([[-1,-1,1],[1,0,0],[0,0,1]])\n",
        "  return A@u\n",
        "\n",
        "v1=[1,1,1]\n",
        "v2=[-1,1,1]\n",
        "v3=[1,-1,1]\n",
        "print(f'v1, v2, v3={v1,v2,v3}')\n",
        "print()\n",
        "print(f'T(v1), T(v2), T(v3)={T(v1), T(v2), T(v3)}')"
      ],
      "metadata": {
        "id": "mWm7f3uVAoEa",
        "colab": {
          "base_uri": "https://localhost:8080/"
        },
        "outputId": "e388544c-877e-4584-eaf8-eca43990d680"
      },
      "execution_count": null,
      "outputs": [
        {
          "output_type": "stream",
          "name": "stdout",
          "text": [
            "v1, v2, v3=([1, 1, 1], [-1, 1, 1], [1, -1, 1])\n",
            "\n",
            "T(v1), T(v2), T(v3)=(array([-1,  1,  1]), array([ 1, -1,  1]), array([1, 1, 1]))\n"
          ]
        }
      ]
    },
    {
      "cell_type": "markdown",
      "source": [
        "**Item b)** Como $C=\\{v_1,\\,v_2,\\,v_3\\}$ é uma base de $V$, se $u\\in V$, existem $\\alpha,\\,\\beta,\\,\\gamma$ números reais, tais que \n",
        "$u=(x,y,z)$, na base $B$, e $$u=\\alpha v_1+\\beta v_2+\\gamma v_3,$$ ou seja, $u=(\\alpha,\\,\\beta,\\,\\gamma)$ na base $C$.\n",
        "\n",
        "Como $T(u)$ é função linear, obtemos $$T(u)=\\alpha T(v_1)+\\beta T(v_2)+\\gamma T(v_3)=\\alpha v_2+\\beta v_3+\\gamma v_1,$$ ou que $$T(u)=\\begin{bmatrix}-1&1&1\\\\1&-1&1\\\\1&1&1\\end{bmatrix}\\begin{bmatrix}\\alpha\\\\\\beta\\\\\\gamma\\end{bmatrix}.$$ Então a equação $$T(u)=e_1$$ toma a forma $$\\begin{bmatrix}-1&1&1\\\\1&-1&1\\\\1&1&1\\end{bmatrix}\\begin{bmatrix}\\alpha\\\\\\beta\\\\\\gamma\\end{bmatrix}=\\begin{bmatrix}1\\\\0\\\\0\\end{bmatrix}.$$"
      ],
      "metadata": {
        "id": "Zd5uQTaIFXzX"
      }
    },
    {
      "cell_type": "markdown",
      "source": [
        "Por eliminação obtemos \n",
        "$$\\begin{bmatrix}-1&1&1\\\\0&0&2\\\\0&2&2\\end{bmatrix}\\begin{bmatrix}\\alpha\\\\\\beta\\\\\\gamma\\end{bmatrix}=\\begin{bmatrix}1\\\\1\\\\1\\end{bmatrix},$$ ou que $$\\begin{cases}-\\alpha&+&\\beta&+&\\gamma&=&1\\\\&&&&2\\gamma&=&1\\\\&&2\\beta&+&2\\gamma&=&1\\\\\\end{cases}.$$ Segue que \n",
        "$$\\begin{cases}\\alpha&=&-\\frac{1}{2}\\\\\\beta&=&0\\\\\\gamma&=&\\frac{1}{2}\\\\\\end{cases}.$$\n",
        "\n",
        "Note que $(\\alpha,\\,\\beta,\\,\\gamma)$ são as coordenas de $u$ na base $C$. É preciso mudar para as coordenas $(x,y,z)$, na base $B$, para concluir o exercício. Basta usar a Expressão $(4)$ para obter  $$\\begin{bmatrix}x\\\\y\\\\z\\end{bmatrix}=\\frac{1}{2}\\begin{bmatrix}1&-1&1\\\\1&1&-1\\\\1&1&1\\end{bmatrix}\\begin{bmatrix}-1\\\\0\\\\1\\end{bmatrix}=\\begin{bmatrix}0\\\\-1\\\\0\\end{bmatrix}.$$ "
      ],
      "metadata": {
        "id": "f0TJnZAtZANZ"
      }
    },
    {
      "cell_type": "markdown",
      "source": [
        "**Obs.**  Se usar a Expressão $(6)$ vai obter\n",
        " $$T(u)=\\begin{bmatrix}-1&-1&1\\\\1&0&0\\\\0&0&1\\end{bmatrix}\\begin{bmatrix}x\\\\y\\\\z\\end{bmatrix}=\\begin{bmatrix}1\\\\0\\\\0\\end{bmatrix},$$ na base canônica. Então $u=(0,-1,0)$."
      ],
      "metadata": {
        "id": "bYOOygqvO9TN"
      }
    },
    {
      "cell_type": "markdown",
      "source": [
        "**Item c)** Considerando a base $C=\\{v_1,v_2,v_3\\}$ para $V$ e para $W$. Segue que, se $u\\in V$, existem $\\alpha,\\,\\beta,\\,\\gamma$ números reais, tais que \n",
        "$$u=\\alpha v_1+\\beta v_2+\\gamma v_3,$$ o que nos diz que $u$ tem coordenadas $(\\alpha,\\,\\beta,\\,\\gamma)$, na base $C$.\n",
        "\n",
        "Como $T(u)$ é função linear, obtemos $$T(u)=\\alpha T(v_1)+\\beta T(v_2)+\\gamma T(v_3)=\\alpha v_2+\\beta v_3+\\gamma v_1,$$ e que $T(u)$ tem representação $(\\gamma,\\alpha,\\beta)$ na base $C$, ou que $$T(u)=\\begin{bmatrix}0&0&1\\\\1&0&0\\\\0&1&0\\end{bmatrix}\\begin{bmatrix}\\alpha\\\\\\beta\\\\\\gamma\\end{bmatrix}\\tag{7},$$ tendo em mente as coordenadas de $v_i$, na base $C$."
      ],
      "metadata": {
        "id": "aigd4DC4iMb-"
      }
    },
    {
      "cell_type": "markdown",
      "source": [
        "**Item d)** Nesse item você pode usar a matriz da Expressão $(6)$ ou da (7) para determinar um autovalor e um autovetor de $T(u)$.\n",
        "\n",
        "Com a Expressão $(6)$, temos \n",
        " $$T(u)=\\begin{bmatrix}-1&-1&1\\\\1&0&0\\\\0&0&1\\end{bmatrix}\\begin{bmatrix}x\\\\y\\\\z\\end{bmatrix},\\qquad u=\\begin{bmatrix}x\\\\y\\\\z\\end{bmatrix},\\tag{$6^*$}$$ na base canônica.\n",
        "\n",
        " Então, se $T(u)=\\lambda u$, segue que a equação\n",
        " $$T(u)-\\lambda u=\\begin{bmatrix}-1-\\lambda&-1&1\\\\1&-\\lambda&0\\\\0&0&1-\\lambda\\end{bmatrix}\\begin{bmatrix}x\\\\y\\\\z\\end{bmatrix}=\\begin{bmatrix}0\\\\0\\\\0\\end{bmatrix},$$ precisa ter solução não nula.\n",
        "\n",
        "Você pode verificar que  $\\lambda=1$ deixa a equação da forma \n",
        "$$\\begin{bmatrix}-2&-1&1\\\\1&-1&0\\\\0&0&0\\end{bmatrix}\\begin{bmatrix}x\\\\y\\\\z\\end{bmatrix}=\\begin{bmatrix}0\\\\0\\\\0\\end{bmatrix},$$ o que nos dá \n",
        "$$\\begin{cases}x&=&y\\\\\n",
        "z&=&3x\\end{cases}.$$\n",
        "\n",
        "Podemos escolher$\\lambda=1$ como autovalor e $v=(1,1,3)$ com um autovetor, pois $T(v)=\\lambda v$, na base canônica."
      ],
      "metadata": {
        "id": "U7JqEN_Gj253"
      }
    },
    {
      "cell_type": "markdown",
      "source": [
        "**Obs** Usando a Expressão $(7)$, temos $$T(u)=\\begin{bmatrix}0&0&1\\\\1&0&0\\\\0&1&0\\end{bmatrix}\\begin{bmatrix}\\alpha\\\\\\beta\\\\\\gamma\\end{bmatrix}\\tag{$7^*$}.$$ \n",
        "\n",
        "Nesse caso, $T(u)=\\lambda u$, nos diz que $$T(u)-\\lambda u=\\begin{bmatrix}-\\lambda&0&1\\\\1&-\\lambda&0\\\\0&1&-\\lambda\\end{bmatrix}\\begin{bmatrix}\\alpha\\\\\\beta\\\\\\gamma\\end{bmatrix}=\\begin{bmatrix}0\\\\0\\\\0\\end{bmatrix}.$$ \n",
        "\n",
        "Supondo que $\\lambda\\neq 0$, e fazendo eliminação, obtemos \n",
        "$$\\begin{bmatrix}-\\lambda&0&1\\\\0&-\\lambda^2&1\\\\0&1&-\\lambda\\end{bmatrix}\\begin{bmatrix}\\alpha\\\\\\beta\\\\\\gamma\\end{bmatrix}=\\begin{bmatrix}0\\\\0\\\\0\\end{bmatrix}⟹ \\begin{bmatrix}-\\lambda&0&1\\\\0&-\\lambda^2&1\\\\0&0&-\\lambda^3+1\\end{bmatrix}\\begin{bmatrix}\\alpha\\\\\\beta\\\\\\gamma\\end{bmatrix}=\\begin{bmatrix}0\\\\0\\\\0\\end{bmatrix}.$$ Isso nos diz que $\\lambda^3=1$.\n",
        "\n",
        "Tomando $\\lambda=1$, obtemos $$\\begin{bmatrix}-1&0&1\\\\0&-1&1\\\\0&0&0\\end{bmatrix}\\begin{bmatrix}\\alpha\\\\\\beta\\\\\\gamma\\end{bmatrix}=\\begin{bmatrix}0\\\\0\\\\0\\end{bmatrix},$$ o que nos diz que \n",
        "$$\\begin{cases}\\gamma&=&\\beta\\\\\\alpha&=&\\beta\\end{cases}.$$\n",
        "\n",
        "Podemos escolher$\\lambda=1$ como autovalor e $v=(1,1,1)$ com um autovetor, na base $C$.\n",
        "\n",
        "Note ainda que, da Expressão $(4)$,\n",
        "$$v=\\begin{bmatrix}1&-1&1\\\\1&1&-1\\\\1&1&1\\end{bmatrix}\\begin{bmatrix}1\\\\1\\\\1\\end{bmatrix}=\\begin{bmatrix}1\\\\1\\\\3\\end{bmatrix},$$ na base canônica."
      ],
      "metadata": {
        "id": "58KnKF1bHW82"
      }
    },
    {
      "cell_type": "markdown",
      "source": [
        "\n",
        "**<font color=blue> Questão 2. <font color=black>** Seja $T:\\mathbb{R}^3\\to \\mathbb{R}^4$, dada por $$T(u)=\\begin{bmatrix}1&-1&1\\\\1&1&-1\\\\1&1&1\\\\-1&1&1\\end{bmatrix}\\begin{bmatrix}x\\\\y\\\\z\\end{bmatrix},\\qquad\\qquad u=\\begin{bmatrix}x\\\\y\\\\z\\end{bmatrix}.$$\n",
        "\n",
        "Verifique se o vetor $v=\\begin{bmatrix}1\\\\1\\\\-1\\\\1\\end{bmatrix}$ pertence a $Im(T)$.\n"
      ],
      "metadata": {
        "id": "J9QY6VJu9Ab2"
      }
    },
    {
      "cell_type": "markdown",
      "source": [
        "**Resolução**\n",
        "\n",
        "O problema posto é equivalente a resolver o sistema linear $$\\begin{bmatrix}1&-1&1\\\\1&1&-1\\\\1&1&1\\\\-1&1&1\\end{bmatrix}\\begin{bmatrix}x\\\\y\\\\z\\end{bmatrix}=\\begin{bmatrix}1\\\\1\\\\-1\\\\1\\end{bmatrix}.$$\n",
        "\n",
        "Considere a matriz estendida $M$, cuja última coluna é o vetor $v$, e as três primeiras vêm da definição de $T(u)$."
      ],
      "metadata": {
        "id": "H1jpmc42AAGs"
      }
    },
    {
      "cell_type": "code",
      "source": [
        "M=np.transpose(np.array([[1,1,1,-1],[-1,1,1,1],[1,-1,1,1],[1,1,-1,1]]))\n",
        "M"
      ],
      "metadata": {
        "colab": {
          "base_uri": "https://localhost:8080/"
        },
        "id": "uzNLNlu__MLr",
        "outputId": "2b3674a2-cf46-4830-a206-5d07cd0ae2f5"
      },
      "execution_count": null,
      "outputs": [
        {
          "output_type": "execute_result",
          "data": {
            "text/plain": [
              "array([[ 1, -1,  1,  1],\n",
              "       [ 1,  1, -1,  1],\n",
              "       [ 1,  1,  1, -1],\n",
              "       [-1,  1,  1,  1]])"
            ]
          },
          "metadata": {},
          "execution_count": 9
        }
      ]
    },
    {
      "cell_type": "markdown",
      "source": [
        "Por eliminação obtemos "
      ],
      "metadata": {
        "id": "nrF4DwhB_nFz"
      }
    },
    {
      "cell_type": "code",
      "source": [
        "M[1]=M[1]-M[0]\n",
        "M[2]=M[2]-M[0]\n",
        "M[3]=M[3]+M[0]\n",
        "M"
      ],
      "metadata": {
        "colab": {
          "base_uri": "https://localhost:8080/"
        },
        "id": "naVnb6lwAajK",
        "outputId": "b94c45b0-ecc5-480f-f3fc-a222f0f2d4ca"
      },
      "execution_count": null,
      "outputs": [
        {
          "output_type": "execute_result",
          "data": {
            "text/plain": [
              "array([[ 1, -1,  1,  1],\n",
              "       [ 0,  2, -2,  0],\n",
              "       [ 0,  2,  0, -2],\n",
              "       [ 0,  0,  2,  2]])"
            ]
          },
          "metadata": {},
          "execution_count": 10
        }
      ]
    },
    {
      "cell_type": "markdown",
      "source": [
        "Isso sugere que $$\\begin{cases}x&-&y&+&z&=&1\\\\&&2y&-&2z&=&0 \\\\&&2y&&&=&-2\\\\&&&&2z&=&2\\end{cases},$$ o que nos diz que o sistema linear é impossível.\n",
        "\n",
        "Sendo assim $v\\not\\in Im(T)$."
      ],
      "metadata": {
        "id": "e6eeWZQfBA8N"
      }
    }
  ]
}