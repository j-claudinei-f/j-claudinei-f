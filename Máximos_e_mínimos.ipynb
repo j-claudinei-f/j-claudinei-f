{
  "nbformat": 4,
  "nbformat_minor": 0,
  "metadata": {
    "colab": {
      "provenance": [],
      "authorship_tag": "ABX9TyNGEmxrxX6PPvDYBPzchyQb",
      "include_colab_link": true
    },
    "kernelspec": {
      "name": "python3",
      "display_name": "Python 3"
    },
    "language_info": {
      "name": "python"
    }
  },
  "cells": [
    {
      "cell_type": "markdown",
      "metadata": {
        "id": "view-in-github",
        "colab_type": "text"
      },
      "source": [
        "<a href=\"https://colab.research.google.com/github/j-claudinei-f/j-claudinei-f/blob/main/M%C3%A1ximos_e_m%C3%ADnimos.ipynb\" target=\"_parent\"><img src=\"https://colab.research.google.com/assets/colab-badge.svg\" alt=\"Open In Colab\"/></a>"
      ]
    },
    {
      "cell_type": "markdown",
      "source": [
        "#**Cálculo Numérico**\n",
        "\n",
        "José Claudinei Ferreira\n",
        "\n",
        "Uiversidade Federal de Alfenas"
      ],
      "metadata": {
        "id": "DYf14jDSiriv"
      }
    },
    {
      "cell_type": "markdown",
      "source": [
        "#**Máximos e mínimos de funções**"
      ],
      "metadata": {
        "id": "8I9Me1NGikoR"
      }
    },
    {
      "cell_type": "markdown",
      "source": [
        "Considere a função $$f(u)=7u^6+3u^2+2u-1.$$"
      ],
      "metadata": {
        "id": "Gc1DUU9PP-sI"
      }
    },
    {
      "cell_type": "code",
      "source": [
        "def f(u):\n",
        "  p=7*u**6+3*u**2+2*u-1\n",
        "  return p"
      ],
      "metadata": {
        "id": "q1sU30jCPtpe"
      },
      "execution_count": 1,
      "outputs": []
    },
    {
      "cell_type": "markdown",
      "source": [
        "A derivda $$f'(u)=42u^5+6u+2$$ nos diz o comprortamento de $f(u)$, sendo que $f(u)$ cresce quando $u$ varia no sentido de $f'(u)$.\n",
        "\n",
        "Por exemplo, se $u=1$, temos que $f'(1)=50>0$ e que $f(1+h)>f(1)$, para $0<h<r$, algum $r>0$. Ou seja, quando $u$ cresce, em torno de $1$, temos que $f(u)$ também cresce.\n",
        "\n",
        "\n"
      ],
      "metadata": {
        "id": "8nVNxA9GQI5P"
      }
    },
    {
      "cell_type": "markdown",
      "source": [
        "Por simplicidade de notação vamos escrever $F(u)=f'(u)$."
      ],
      "metadata": {
        "id": "qWtjhGKGl3kR"
      }
    },
    {
      "cell_type": "code",
      "execution_count": 2,
      "metadata": {
        "colab": {
          "base_uri": "https://localhost:8080/"
        },
        "id": "WCMeo0LgMLdM",
        "outputId": "bb54a483-6d29-45c3-8aa1-c86c5695abda"
      },
      "outputs": [
        {
          "output_type": "execute_result",
          "data": {
            "text/plain": [
              "10226"
            ]
          },
          "metadata": {},
          "execution_count": 2
        }
      ],
      "source": [
        "def F(u):\n",
        "  p=42*u**5+6*u+2\n",
        "  return p\n",
        "\n",
        "F(3)"
      ]
    },
    {
      "cell_type": "markdown",
      "source": [
        "Vamos então seguir na direção oposta a de $F(u)$ para que $f(u)$ decresça.\n",
        "\n",
        "Para isso, vamos usar o método de Euler para minimização local de $f(u)$, ou seja, para resolver a equação diferencial ordinária\n",
        "$$\\begin{cases}x'(t)&=&-F(x(t))\\\\x(0)&=&3\\end{cases},\\tag{1}$$ que nos dá um trajeto $x(t)$ (sobre o eixo $x$), em função do tempo $t$,  em que $f(x(t))$ decresça. Vamos iniciar no ponto $u_0=3$."
      ],
      "metadata": {
        "id": "Mj6QWlY3QXCd"
      }
    },
    {
      "cell_type": "code",
      "source": [
        "u=3\n",
        "n=20000\n",
        "h=0.0001\n",
        "\n",
        "for i in range(0,n):\n",
        "  u=u-h*F(u)\n",
        "\n",
        "print('Ponto de mínimo local aproximado u=',u,'\\n f(u)=', f(u),'\\n F(u)=',F(u))\n"
      ],
      "metadata": {
        "colab": {
          "base_uri": "https://localhost:8080/"
        },
        "id": "6LpZpJ9PRANg",
        "outputId": "3d6f899e-2bcc-4bf5-fbc8-464ce959825a"
      },
      "execution_count": 3,
      "outputs": [
        {
          "output_type": "stream",
          "name": "stdout",
          "text": [
            "Ponto de mínimo local aproximado u= -0.3124785606259287 \n",
            " f(u)= -1.3255119937779427 \n",
            " F(u)= 1.8133039074719193e-06\n"
          ]
        }
      ]
    },
    {
      "cell_type": "markdown",
      "source": [
        "**Obs:** É preciso ter cuidado na escolha de $n$ e de $h$, porque podem ocorrer números muito grandes no processo. A dica e fazer poucas iterações para testar o método e ir diminuindo $h$ e aumentando $n$."
      ],
      "metadata": {
        "id": "shOnkkHrnEae"
      }
    },
    {
      "cell_type": "markdown",
      "source": [
        "Vejamos o gráfico de $f(u)$:"
      ],
      "metadata": {
        "id": "Jzvrkohjnme1"
      }
    },
    {
      "cell_type": "code",
      "source": [
        "import numpy as np, matplotlib.pyplot as plt\n",
        "\n",
        "x=np.linspace(-1,1,1000)\n",
        "y=f(x)\n",
        "\n",
        "plt.plot(x,y)\n",
        "plt.plot(x,0*x)\n",
        "plt.title('Gráfico de f(u)')\n",
        "plt.show()"
      ],
      "metadata": {
        "colab": {
          "base_uri": "https://localhost:8080/",
          "height": 452
        },
        "id": "Z9OwJXEenpZA",
        "outputId": "ffad0118-f8c6-494d-b088-56c593a3324e"
      },
      "execution_count": 4,
      "outputs": [
        {
          "output_type": "display_data",
          "data": {
            "text/plain": [
              "<Figure size 640x480 with 1 Axes>"
            ],
            "image/png": "[encoded data removed]"
          },
          "metadata": {}
        }
      ]
    },
    {
      "cell_type": "markdown",
      "source": [
        "Essa imagem sugere que $f(u)$ possui um único mínimo local, portanto um mínimo global.\n",
        "\n",
        "Vemos que esse é o caso, olhando para o gráfico da derivada $F(u)=f'(u)$. Porque $f'(u)$ é nula em apenas um ponto."
      ],
      "metadata": {
        "id": "eHtUwHPVoPH9"
      }
    },
    {
      "cell_type": "code",
      "source": [
        "plt.plot(x,F(x))\n",
        "plt.plot(x,0*x)\n",
        "plt.title('Gráfico de F(u)')\n",
        "plt.show()"
      ],
      "metadata": {
        "colab": {
          "base_uri": "https://localhost:8080/",
          "height": 452
        },
        "id": "hZ7NpsOBofHS",
        "outputId": "e39ef80f-3731-45be-e21d-30fe0fe3fb4e"
      },
      "execution_count": 5,
      "outputs": [
        {
          "output_type": "display_data",
          "data": {
            "text/plain": [
              "<Figure size 640x480 with 1 Axes>"
            ],
            "image/png": "[encoded data removed]"
          },
          "metadata": {}
        }
      ]
    },
    {
      "cell_type": "markdown",
      "source": [
        "**Observando como $f(u)$ decresce no trajeto dado pela Expressão $(1)$.**"
      ],
      "metadata": {
        "id": "p-xt8cBNzCEu"
      }
    },
    {
      "cell_type": "code",
      "source": [
        "u=3\n",
        "n=20000\n",
        "h=0.0001\n",
        "\n",
        "u=[3]\n",
        "\n",
        "for i in range(0,n):\n",
        "  u.append(u[i]-h*F(u[i]))\n",
        "\n",
        "print('Ponto de mínimo local aproximado u=',u[n],'\\n f(u[n])=', f(u[n]),'\\n F(u)=',F(u[n]))\n",
        "\n",
        "t=np.linspace(0,n*h,n+1)\n",
        "\n",
        "plt.plot(t,u)\n",
        "plt.title('Gráfico de F(u(t))')\n",
        "plt.show()"
      ],
      "metadata": {
        "id": "WWrdEtIbzOt9",
        "colab": {
          "base_uri": "https://localhost:8080/",
          "height": 504
        },
        "outputId": "f509fbf9-c5bb-4ac1-a4ad-3aa8e39f05c9"
      },
      "execution_count": 6,
      "outputs": [
        {
          "output_type": "stream",
          "name": "stdout",
          "text": [
            "Ponto de mínimo local aproximado u= -0.3124785606259287 \n",
            " f(u[n])= -1.3255119937779427 \n",
            " F(u)= 1.8133039074719193e-06\n"
          ]
        },
        {
          "output_type": "display_data",
          "data": {
            "text/plain": [
              "<Figure size 640x480 with 1 Axes>"
            ],
            "image/png": "[encoded data removed]"
          },
          "metadata": {}
        }
      ]
    },
    {
      "cell_type": "markdown",
      "source": [
        "#**Raízes da equação $f(u)=0$.**"
      ],
      "metadata": {
        "id": "emEa58hRTkIE"
      }
    },
    {
      "cell_type": "markdown",
      "source": [
        "Lembramos que $$f(u)=7u^6+3u^2+2u-1.$$\n",
        "\n",
        "Para resolvermos a equação $$f(u)=0,\\tag{2}$$ podemos usar a ideia que iniciamos na seção anterior.\n",
        "\n",
        "Para isso, definimos uma função auxiliar $$g(u)=\\frac{1}{2}|f(u)|^2,$$ cujos pontos de mínimo são raízes da Equação  $(2)$."
      ],
      "metadata": {
        "id": "HArV8HbwYYtf"
      }
    },
    {
      "cell_type": "markdown",
      "source": [
        "Segue que $g'(u)=f'(u)f(u)$."
      ],
      "metadata": {
        "id": "Kt7BejjAmVUI"
      }
    },
    {
      "cell_type": "code",
      "source": [
        "def g(u):\n",
        "  p=f(u)*f(u)/2\n",
        "  return p\n",
        "\n",
        "def dg(u):\n",
        "  p=F(u)*f(u)  # F(u)=f'(u)\n",
        "  return p"
      ],
      "metadata": {
        "id": "9ljXvWx-mbmO"
      },
      "execution_count": 7,
      "outputs": []
    },
    {
      "cell_type": "markdown",
      "source": [
        "Vamos resolver a equação $$\\begin{cases}x'(t)&=&-g'(x(t))\\\\x(0)&=&0\\end{cases},\\tag{3}$$ pelo método de Euler."
      ],
      "metadata": {
        "id": "-pA1jC0An-j5"
      }
    },
    {
      "cell_type": "code",
      "source": [
        "n=100\n",
        "h=0.1\n",
        "\n",
        "u=[0]      # Condição inicial\n",
        "\n",
        "for i in range(0,n+1):\n",
        "  u.append(u[i-1]-h*dg(u[i-1]))\n",
        "\n",
        "print('Ponto de mínimo local de g(u), u=',u[n],'\\n Derivadade g(u)=', dg(u[n]),'\\n Valor de g(u)=',g(u[n]),'\\n Valor de f(u)=',f(u[n]))"
      ],
      "metadata": {
        "colab": {
          "base_uri": "https://localhost:8080/"
        },
        "id": "xsxhF5hXgU4f",
        "outputId": "1ba09365-90e2-4ae6-dbf1-4a3283df7570"
      },
      "execution_count": 8,
      "outputs": [
        {
          "output_type": "stream",
          "name": "stdout",
          "text": [
            "Ponto de mínimo local de g(u), u= 0.3310267578737868 \n",
            " Derivadade g(u)= 8.234803436638748e-08 \n",
            " Valor de g(u)= 1.9657633553915882e-16 \n",
            " Valor de f(u)= 1.9828077846284486e-08\n"
          ]
        }
      ]
    },
    {
      "cell_type": "markdown",
      "source": [
        "Encontramos um candidado a mínimo local, que é um mínimo global.\n",
        "\n",
        "Veja o gráfico a seguir:"
      ],
      "metadata": {
        "id": "uAfRxsuYg776"
      }
    },
    {
      "cell_type": "code",
      "source": [
        "x=np.linspace(-0.8,0.5,200)\n",
        "y=g(x)\n",
        "plt.plot(x,y)\n",
        "plt.show()"
      ],
      "metadata": {
        "id": "CW6lMg1nq8VJ",
        "colab": {
          "base_uri": "https://localhost:8080/",
          "height": 430
        },
        "outputId": "b8d9e387-9fbb-4b0d-aed8-b9c784df101e"
      },
      "execution_count": 11,
      "outputs": [
        {
          "output_type": "display_data",
          "data": {
            "text/plain": [
              "<Figure size 640x480 with 1 Axes>"
            ],
            "image/png": "[encoded data removed]"
          },
          "metadata": {}
        }
      ]
    },
    {
      "cell_type": "markdown",
      "source": [
        "Para encontrarmos o outro ponto de mínimo de $g(u)$, trocamos a condição incial na Equação $(3)$, por $x(0)=-1$, por exemplo. mas precisamos que $h$ seja bem menor e $n$ muito maior:"
      ],
      "metadata": {
        "id": "qoxYk8jvm4VU"
      }
    },
    {
      "cell_type": "code",
      "source": [
        "n=1000\n",
        "h=0.001\n",
        "\n",
        "u=[-1]      # Condição inicial\n",
        "\n",
        "for i in range(0,n+1):\n",
        "  u.append(u[i-1]-h*dg(u[i-1]))\n",
        "\n",
        "print('Ponto de mínimo local de g(u), u=',u[n],'\\n Derivadade g(u)=', dg(u[n]),'\\n Valor de g(u)=',g(u[n]),'\\n Valor de f(u)=',f(u[n]))"
      ],
      "metadata": {
        "colab": {
          "base_uri": "https://localhost:8080/"
        },
        "id": "IqnShrRsnC-b",
        "outputId": "7bdf93db-e0f7-40fb-e3f2-ecf6ebb90f9a"
      },
      "execution_count": 10,
      "outputs": [
        {
          "output_type": "stream",
          "name": "stdout",
          "text": [
            "Ponto de mínimo local de g(u), u= -0.7111141857151985 \n",
            " Derivadade g(u)= 5.497876204672676e-14 \n",
            " Valor de g(u)= 1.5407439555097887e-29 \n",
            " Valor de f(u)= -5.551115123125783e-15\n"
          ]
        }
      ]
    },
    {
      "cell_type": "markdown",
      "source": [
        "#**O método de Newton**"
      ],
      "metadata": {
        "id": "e6NUzKIJnse7"
      }
    },
    {
      "cell_type": "markdown",
      "source": [
        "Se olharmos para a equação $$\\begin{cases}x'(t)&=&-g'(x(t))\\\\x(0)&=&x_0\\end{cases},\\tag{4}$$ em que $$g(u)=\\frac{1}{2}|f(u)|^2 $$ e $$g'(u)=f'(u)f(u).$$ Conluímos que a curva $x(t)$ que é solução da Equação $(4)$ é tal que, se $k(t)=g(x(t))$, então,pela regra da cadeia\n",
        "$$\\begin{cases}k'(t)&=&g'(x(t))\\color{blue}{x'(t)}\\\\\\\\\n",
        "&=&\\color{blue}{-g'(x(t))}g'(x(t))\\\\\\\\&=&-|g'(x(t))|^2\\\\\\\\&\\leq& 0\\end{cases},$$ ou seja, $k(t)$ é uma função decerscente."
      ],
      "metadata": {
        "id": "VTTMq1IKnxBj"
      }
    },
    {
      "cell_type": "markdown",
      "source": [
        "**Escolhendo outro caminho para minimização**\n",
        "\n",
        "Isso sugere que podemos tentar fazer alterações na Equação $(4)$ para obter outras possibilidades de minimizar $g(u)$.\n",
        "\n",
        "Uma dessas possibilidades, com algumas condições extras sobre $f(u)$, é tomarmos a equação $$\\begin{cases}x'(t)&=&-\\left[f'(x(t))\\right]^{-1}f(x(t))\\\\x(0)&=&x_0\\end{cases},\\tag{5}$$\n",
        "quando $f'(x(t))$ não for nula.\n",
        "\n",
        "Agora, se a curva $x(t)$ que é solução da Equação $(5)$ é tal que, se $k(t)=g(x(t))$, então\n",
        "$$\\begin{cases}k'(t)&=&g'(x(t))\\color{blue}{x'(t)}\\\\\\\\\n",
        "&=&f(x(t))f'(x(t))\\color{blue}{[-\\left[f'(x(t))\\right]^{-1}f(x(t))]}\\\\\\\\&=&-f(x(t))f(x(t))\\\\\\\\&=&-2|g(x(t))|^2\\\\\\\\&=&-2k(t)\\\\\\\\&\\leq& 0\\end{cases},$$ ou seja, $k(t)$ é uma função decerscente. Em particular, $$k(t)=g(x_0)e^{-2t},$$ desde que $f(x(t))\\neq 0$."
      ],
      "metadata": {
        "id": "8PybsLdEpXMm"
      }
    },
    {
      "cell_type": "markdown",
      "source": [
        "O método de Euler para resolver a Equação $(5)$ é chamado de método de Newton para resolver a equação $f(u)=0$."
      ],
      "metadata": {
        "id": "yWNZIBerrrC4"
      }
    },
    {
      "cell_type": "markdown",
      "source": [
        "Voltando a equação função $f(u)$ deste texto, vamos resolver numéricamente a Equação $(5)$ pelo método de Euler (ou resolver a equação $f(u)=0$ pelo método de Newton)."
      ],
      "metadata": {
        "id": "ERsDj9w5r2Ec"
      }
    },
    {
      "cell_type": "markdown",
      "source": [
        "Tomando $x(0)=0$:"
      ],
      "metadata": {
        "id": "faNmQWzrtaKt"
      }
    },
    {
      "cell_type": "code",
      "source": [
        "n=10\n",
        "u=[0]   # Condição inicial\n",
        "h=1\n",
        "\n",
        "for i in range(0,n):\n",
        "  u.append(u[i]-h*f(u[i])/F(u[i]))   # Método de Euler para a Equação (5), ou método de Newton.\n",
        "\n",
        "\n",
        "print('Ponto de mínimo local de g(u), u=',u[n],'\\n Derivadade g(u)=', dg(u[n]),'\\n Valor de g(u)=',g(u[n]),\n",
        "      '\\n Valor de f(u)=',f(u[n]),'\\n Derivada de f(u)=',F(u[n]))"
      ],
      "metadata": {
        "colab": {
          "base_uri": "https://localhost:8080/"
        },
        "id": "okpEIyf8sNFq",
        "outputId": "b7bb1acc-c703-4972-e398-db2d8ee8fa2a"
      },
      "execution_count": 17,
      "outputs": [
        {
          "output_type": "stream",
          "name": "stdout",
          "text": [
            "Ponto de mínimo local de g(u), u= 0.3310267530995056 \n",
            " Derivadade g(u)= -4.610869676795695e-16 \n",
            " Valor de g(u)= 6.162975822039155e-33 \n",
            " Valor de f(u)= -1.1102230246251565e-16 \n",
            " Derivada de f(u)= 4.153102191654202\n"
          ]
        }
      ]
    },
    {
      "cell_type": "markdown",
      "source": [
        "Tomando $x(0)=-1$:"
      ],
      "metadata": {
        "id": "m3epux34teQr"
      }
    },
    {
      "cell_type": "code",
      "source": [
        "n=10\n",
        "u=[-1]   # Condição inicial\n",
        "h=1\n",
        "\n",
        "for i in range(0,n):\n",
        "  u.append(u[i]-h*f(u[i])/F(u[i]))   # Método de Euler para a Equação (5), ou método de Newton.\n",
        "\n",
        "\n",
        "print('Ponto de mínimo local de g(u), u=',u[n],'\\n Derivadade g(u)=', dg(u[n]),'\\n Valor de g(u)=',g(u[n]),\n",
        "      '\\n Valor de f(u)=',f(u[n]),'\\n Derivada de f(u)=',F(u[n]))"
      ],
      "metadata": {
        "colab": {
          "base_uri": "https://localhost:8080/"
        },
        "id": "qY8_L16ptfJb",
        "outputId": "b58b98cd-bfe1-40b2-cfcb-50da45ec9a40"
      },
      "execution_count": 18,
      "outputs": [
        {
          "output_type": "stream",
          "name": "stdout",
          "text": [
            "Ponto de mínimo local de g(u), u= -0.711114185715199 \n",
            " Derivadade g(u)= -0.0 \n",
            " Valor de g(u)= 0.0 \n",
            " Valor de f(u)= 0.0 \n",
            " Derivada de f(u)= -9.904093290677226\n"
          ]
        }
      ]
    },
    {
      "cell_type": "markdown",
      "source": [
        "Observe que a convergência é muito mais rápida, e $h$ pode ser maior e $n$ menor, na maioria dos casos."
      ],
      "metadata": {
        "id": "xBWeN4TctLpl"
      }
    }
  ]
}