{
  "nbformat": 4,
  "nbformat_minor": 0,
  "metadata": {
    "colab": {
      "provenance": [],
      "authorship_tag": "ABX9TyM2NQFECMKlKsPxeP5YboBb",
      "include_colab_link": true
    },
    "kernelspec": {
      "name": "python3",
      "display_name": "Python 3"
    },
    "language_info": {
      "name": "python"
    }
  },
  "cells": [
    {
      "cell_type": "markdown",
      "metadata": {
        "id": "view-in-github",
        "colab_type": "text"
      },
      "source": [
        "<a href=\"https://colab.research.google.com/github/j-claudinei-f/j-claudinei-f/blob/main/Recorr%C3%AAncias_ordem1.ipynb\" target=\"_parent\"><img src=\"https://colab.research.google.com/assets/colab-badge.svg\" alt=\"Open In Colab\"/></a>"
      ]
    },
    {
      "cell_type": "markdown",
      "source": [
        "#**Matemática Discreta**\n",
        "\n",
        "José Claudinei Ferreira\n",
        "\n",
        "Universidade Federal de Alfenas"
      ],
      "metadata": {
        "id": "xRKzK_ZeWfFc"
      }
    },
    {
      "cell_type": "markdown",
      "source": [
        "#**Relações de recorrência lineares de ordem 1**"
      ],
      "metadata": {
        "id": "eLDBKHfmvSka"
      }
    },
    {
      "cell_type": "markdown",
      "source": [
        "[Link](https://github.com/j-claudinei-f/j-claudinei-f/blob/main/SomasPolinomiais.ipynb) para somas polinomiais e exponenciais, para resolução de relações de reconrência da forma\n",
        "$$a_{n+1}=a_n+f(n+1),$$ com $f(n)$ e $a_1$ conhecidos."
      ],
      "metadata": {
        "id": "Tth503c3vcHo"
      }
    },
    {
      "cell_type": "markdown",
      "source": [
        "#**Relações de recorrência lineares de ordem 1**"
      ],
      "metadata": {
        "id": "THlaFMGIwCVp"
      }
    },
    {
      "cell_type": "markdown",
      "source": [
        "Agora estamos interessados nas resolução de relações de reconrência da forma\n",
        "$$a_{n+1}=g(n)a_n+h(n),$$ com $g(n)$, $h(n)$ e $a_1$ conhecidos."
      ],
      "metadata": {
        "id": "ITFD2L8FwGu7"
      }
    },
    {
      "cell_type": "markdown",
      "source": [
        "O método de resolução é o seguinte (Teorema 4.1 do livro texto):\n",
        "\n",
        "1. Considere uma sequência $b_n$, solução não nula da recorrência <font color=blue>$$b_{n+1}=g(n)b_n.$$\n",
        "\n",
        "2. Defina $y_n$ como uma sequência, tal que <font color=green> $$b_ny_n=a_n.$$\n",
        "\n",
        "3. Segue que $$\\begin{cases}\\color{green}{b_{n+1}y_{n+1}}&=&\\color{green}{a_{n+1}}\\\\&=&g(n)a_n+h(n)\\\\&=&g(n)\\color{green}{b_n y_{n}}+h(n)\\\\&=&\\color{blue}{g(n)b_n }y_{n}+h(n)\\\\&=&\\color{blue}{b_{n+1}}y_n+h(n)\\end{cases}$$\n",
        "\n",
        "Considerando o início e o final da última exeperssão, temos que $$y_{n+1}=y_n+\\frac{h(n)}{g(n)b_n},\\qquad y_1b_1=a_1,$$  que é uma expressão mais simples de manipular, usando somatório."
      ],
      "metadata": {
        "id": "VB5Z_EevwS6U"
      }
    },
    {
      "cell_type": "markdown",
      "source": [
        "#**Exemplo**"
      ],
      "metadata": {
        "id": "BmcyDdW_0Sz5"
      }
    },
    {
      "cell_type": "markdown",
      "source": [
        " Considere a relação de recorrência $$a_{n+1}=3 a_n+2,$$ com $a_1=2$, que vem de uma forma de calcular o número mínimos de movimentos na torre de Hanói (com a regra de sempre passar pela haste do meio). \n",
        "\n",
        "Calcule $a_{10}$ e determine uma expessão para $a_n$ sem recorrência."
      ],
      "metadata": {
        "id": "YZpc7zV-1Oif"
      }
    },
    {
      "cell_type": "markdown",
      "source": [
        "**Uma parte da solução:**\n",
        "\n",
        "Para calcular $a_{10}$ basta calcularmos $a_2,\\,a_3,\\,\\ldots,\\,a_9$ e $a_{10}$, usando a recorrência."
      ],
      "metadata": {
        "id": "k8LYhI1F1SAm"
      }
    },
    {
      "cell_type": "code",
      "source": [
        "a=[2]\n",
        "\n",
        "for i in range(1,10):\n",
        "  a=a+[3*a[i-1]+2]\n",
        "\n",
        "a"
      ],
      "metadata": {
        "colab": {
          "base_uri": "https://localhost:8080/"
        },
        "id": "yFKnleCd1oYQ",
        "outputId": "83f11212-0a26-4da9-d21f-73ab60e8d8bb"
      },
      "execution_count": null,
      "outputs": [
        {
          "output_type": "execute_result",
          "data": {
            "text/plain": [
              "[2, 8, 26, 80, 242, 728, 2186, 6560, 19682, 59048]"
            ]
          },
          "metadata": {},
          "execution_count": 6
        }
      ]
    },
    {
      "cell_type": "markdown",
      "source": [
        "Isso nos dá $a_{10}=59048$."
      ],
      "metadata": {
        "id": "alm-pfX_2T7y"
      }
    },
    {
      "cell_type": "markdown",
      "source": [
        "**Uma solução geral**"
      ],
      "metadata": {
        "id": "LfiB_cC12ZSQ"
      }
    },
    {
      "cell_type": "markdown",
      "source": [
        "Uma forma de resolver esse problema é resolver antes a recorrência\n",
        "$$b_{n+1}=3b_n,$$ que tem $b_n=3^{n}$ como solução, por exemplo. \n",
        "\n",
        "Agora obtemos uma relação de recorrência $$y_{n+1}=y_n+\\frac{2}{3^{n}\\times 3},\\qquad 3^{1}y_1=a_1=2.$$\n",
        "\n",
        "Devemos ter $a_n=3^ny_n$.\n",
        "\n",
        "Mas, $$y_2=\\frac{2}{3}+\\frac{2}{3}\\frac{1}{3^1}=\\frac{2}{3}\\left(1+\\frac{1}{3^1}\\right)$$\n",
        "$$y_3=\\frac{2}{3}\\left(1+\\frac{1}{3^1}+\\frac{1}{3^2}\\right)$$\n",
        "e podemos ver que \n",
        "$$y_n=\\frac{2}{3}\\left(1+\\frac{1}{3^1}+\\frac{1}{3^2}+\\cdots+\\frac{1}{3^{n-1}}\\right)=\\frac{2}{3}\\left(\\frac{\\frac{1}{3^{n}}-1}{\\frac{1}{3}-1}\\right).$$\n",
        "\n",
        "Por fim, $$a_n=3^n\\frac{2}{3}\\left(\\frac{\\frac{1}{3^{n}}-1}{\\frac{1}{3}-1}\\right)=3^n-1.$$"
      ],
      "metadata": {
        "id": "Qh2-L20Y1B_4"
      }
    },
    {
      "cell_type": "code",
      "source": [
        "3**10-1   # 3^10-1=a(10)"
      ],
      "metadata": {
        "colab": {
          "base_uri": "https://localhost:8080/"
        },
        "id": "qZ1RyrHP49YO",
        "outputId": "1fc316e6-a9a6-44f3-83ed-c4c031b65105"
      },
      "execution_count": null,
      "outputs": [
        {
          "output_type": "execute_result",
          "data": {
            "text/plain": [
              "59048"
            ]
          },
          "metadata": {},
          "execution_count": 8
        }
      ]
    },
    {
      "cell_type": "markdown",
      "source": [
        "#**Uma forma para somar produto de expressões**"
      ],
      "metadata": {
        "id": "g1iv8Hx8VoQn"
      }
    },
    {
      "cell_type": "markdown",
      "source": [
        "Quando formas considerar relações de rerrência da forma \n",
        "$$a_{n+1}=a_n+f(n+1),$$\n",
        "podemos começar com uma certo $a_1$ e obter $a_2=a_1+f(2)=(a_1-f(1))+f(1)+f(2)$, ...,$$$a_n=a_1+f(2)=(a_1-f(1))+f(1)+f(2)+\\cdots f(n),$$\n",
        "como temos feito antes.\n",
        "\n",
        "Já vimos como calcular a soma, de forma reduzida, para os casos em que $$f(n)=\\sum_{i=1}^pc_ii^m$$ é um polinômio ($m\\in\\mathbb{N}$) e no caso em que $$f(n)=\\sum_{i=1}^pc_ir_i^i$$ é uma soma de exponenciais.\n",
        "\n",
        "Segue que sabemos manipular o somatório no caso em que $f(n)$ é uma soma de polinômios com exeponenciais (da forma amnecionada).\n"
      ],
      "metadata": {
        "id": "zbnqXkQzV6Yg"
      }
    },
    {
      "cell_type": "markdown",
      "source": [
        "Entretanto, há casos em que $$f(n)=g(n)h(n)$$ é um produto e podemos usar a seguinte ideia para tentar manipular o somatório \n",
        "$$\\sum_{i=1}^nf(i)=\\sum_{i=1}^ng(i)h(i).$$"
      ],
      "metadata": {
        "id": "2z__Bm7QYVpR"
      }
    }
  ]
}