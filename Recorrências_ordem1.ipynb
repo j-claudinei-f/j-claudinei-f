{
  "nbformat": 4,
  "nbformat_minor": 0,
  "metadata": {
    "colab": {
      "provenance": [],
      "authorship_tag": "ABX9TyPcIMJ3tUnr1nk028hFzBNy",
      "include_colab_link": true
    },
    "kernelspec": {
      "name": "python3",
      "display_name": "Python 3"
    },
    "language_info": {
      "name": "python"
    }
  },
  "cells": [
    {
      "cell_type": "markdown",
      "metadata": {
        "id": "view-in-github",
        "colab_type": "text"
      },
      "source": [
        "<a href=\"https://colab.research.google.com/github/j-claudinei-f/j-claudinei-f/blob/main/Recorr%C3%AAncias_ordem1.ipynb\" target=\"_parent\"><img src=\"https://colab.research.google.com/assets/colab-badge.svg\" alt=\"Open In Colab\"/></a>"
      ]
    },
    {
      "cell_type": "markdown",
      "source": [
        "#**Matemática Discreta**\n",
        "\n",
        "José Claudinei Ferreira\n",
        "\n",
        "Universidade Federal de Alfenas"
      ],
      "metadata": {
        "id": "xRKzK_ZeWfFc"
      }
    },
    {
      "cell_type": "markdown",
      "source": [
        "#**Relações de recorrência lineares de ordem 1**"
      ],
      "metadata": {
        "id": "eLDBKHfmvSka"
      }
    },
    {
      "cell_type": "markdown",
      "source": [
        "[Link](https://github.com/j-claudinei-f/j-claudinei-f/blob/main/SomasPolinomiais.ipynb) para somas polinomiais e exponenciais, para resolução de relações de reconrência da forma\n",
        "$$a_{n+1}=a_n+f(n+1),$$ com $f(n)$ e $a_1$ conhecidos."
      ],
      "metadata": {
        "id": "Tth503c3vcHo"
      }
    },
    {
      "cell_type": "markdown",
      "source": [
        "#**Relações de recorrência lineares de ordem 1**"
      ],
      "metadata": {
        "id": "THlaFMGIwCVp"
      }
    },
    {
      "cell_type": "markdown",
      "source": [
        "Agora estamos interessados nas resolução de relações de reconrência da forma\n",
        "$$a_{n+1}=g(n)a_n+h(n),$$ com $g(n)$, $h(n)$ e $a_1$ conhecidos."
      ],
      "metadata": {
        "id": "ITFD2L8FwGu7"
      }
    },
    {
      "cell_type": "markdown",
      "source": [
        "O método de resolução é o seguinte (Teorema 4.1 do livro texto):\n",
        "\n",
        "1. Considere uma sequência $b_n$, solução não nula da recorrência <font color=blue>$$b_{n+1}=g(n)b_n.$$\n",
        "\n",
        "2. Defina $y_n$ como uma sequência, tal que <font color=green> $$b_ny_n=a_n.$$\n",
        "\n",
        "3. Segue que $$\\begin{cases}\\color{green}{b_{n+1}y_{n+1}}&=&\\color{green}{a_{n+1}}\\\\&=&g(n)a_n+h(n)\\\\&=&g(n)\\color{green}{b_n y_{n}}+h(n)\\\\&=&\\color{blue}{g(n)b_n }y_{n}+h(n)\\\\&=&\\color{blue}{b_{n+1}}y_n+h(n)\\end{cases}$$\n",
        "\n",
        "Considerando o início e o final da última exeperssão, temos que $$y_{n+1}=y_n+\\frac{h(n)}{g(n)b_n},\\qquad y_1b_1=a_1,$$  que é uma expressão mais simples de manipular, usando somatório."
      ],
      "metadata": {
        "id": "VB5Z_EevwS6U"
      }
    },
    {
      "cell_type": "markdown",
      "source": [
        "#**Exemplo**"
      ],
      "metadata": {
        "id": "BmcyDdW_0Sz5"
      }
    },
    {
      "cell_type": "markdown",
      "source": [
        " Considere a relação de recorrência $$a_{n+1}=3 a_n+2,$$ com $a_1=2$, que vem de uma forma de calcular o número mínimos de movimentos na torre de Hanói (com a regra de sempre passar pela haste do meio). \n",
        "\n",
        "Calcule $a_{10}$ e determine uma expessão para $a_n$ sem recorrência."
      ],
      "metadata": {
        "id": "YZpc7zV-1Oif"
      }
    },
    {
      "cell_type": "markdown",
      "source": [
        "**Uma parte da solução:**\n",
        "\n",
        "Para calcular $a_{10}$ basta calcularmos $a_2,\\,a_3,\\,\\ldots,\\,a_9$ e $a_{10}$, usando a recorrência."
      ],
      "metadata": {
        "id": "k8LYhI1F1SAm"
      }
    },
    {
      "cell_type": "code",
      "source": [
        "a=[2]\n",
        "\n",
        "for i in range(1,10):\n",
        "  a=a+[3*a[i-1]+2]\n",
        "\n",
        "a"
      ],
      "metadata": {
        "colab": {
          "base_uri": "https://localhost:8080/"
        },
        "id": "yFKnleCd1oYQ",
        "outputId": "83f11212-0a26-4da9-d21f-73ab60e8d8bb"
      },
      "execution_count": null,
      "outputs": [
        {
          "output_type": "execute_result",
          "data": {
            "text/plain": [
              "[2, 8, 26, 80, 242, 728, 2186, 6560, 19682, 59048]"
            ]
          },
          "metadata": {},
          "execution_count": 6
        }
      ]
    },
    {
      "cell_type": "markdown",
      "source": [
        "Isso nos dá $a_{10}=59048$."
      ],
      "metadata": {
        "id": "alm-pfX_2T7y"
      }
    },
    {
      "cell_type": "markdown",
      "source": [
        "**Uma solução geral**"
      ],
      "metadata": {
        "id": "LfiB_cC12ZSQ"
      }
    },
    {
      "cell_type": "markdown",
      "source": [
        "Uma forma de resolver esse problema é resolver antes a recorrência\n",
        "$$b_{n+1}=3b_n,$$ que tem $b_n=3^{n}$ como solução, por exemplo. \n",
        "\n",
        "Agora obtemos uma relação de recorrência $$y_{n+1}=y_n+\\frac{2}{3^{n}\\times 3},\\qquad 3^{1}y_1=a_1=2.$$\n",
        "\n",
        "Devemos ter $a_n=3^ny_n$.\n",
        "\n",
        "Mas, $$y_2=\\frac{2}{3}+\\frac{2}{3}\\frac{1}{3^1}=\\frac{2}{3}\\left(1+\\frac{1}{3^1}\\right)$$\n",
        "$$y_3=\\frac{2}{3}\\left(1+\\frac{1}{3^1}+\\frac{1}{3^2}\\right)$$\n",
        "e podemos ver que \n",
        "$$y_n=\\frac{2}{3}\\left(1+\\frac{1}{3^1}+\\frac{1}{3^2}+\\cdots+\\frac{1}{3^{n-1}}\\right)=\\frac{2}{3}\\left(\\frac{\\frac{1}{3^{n}}-1}{\\frac{1}{3}-1}\\right).$$\n",
        "\n",
        "Por fim, $$a_n=3^n\\frac{2}{3}\\left(\\frac{\\frac{1}{3^{n}}-1}{\\frac{1}{3}-1}\\right)=3^n-1.$$"
      ],
      "metadata": {
        "id": "Qh2-L20Y1B_4"
      }
    },
    {
      "cell_type": "code",
      "source": [
        "3**10-1   # 3^10-1=a(10)"
      ],
      "metadata": {
        "colab": {
          "base_uri": "https://localhost:8080/"
        },
        "id": "qZ1RyrHP49YO",
        "outputId": "1fc316e6-a9a6-44f3-83ed-c4c031b65105"
      },
      "execution_count": null,
      "outputs": [
        {
          "output_type": "execute_result",
          "data": {
            "text/plain": [
              "59048"
            ]
          },
          "metadata": {},
          "execution_count": 8
        }
      ]
    },
    {
      "cell_type": "markdown",
      "source": [
        "#**Uma forma para somar produto de expressões**"
      ],
      "metadata": {
        "id": "g1iv8Hx8VoQn"
      }
    },
    {
      "cell_type": "markdown",
      "source": [
        "Quando vimos formas de considerar as relações de recorrência\n",
        "$$a_{n+1}=a_n+f(n+1),$$\n",
        "começamos com uma escolha de $a_1$ e obtemos: $$a_2=a_1+f(2)=(a_1-f(1))+f(1)+f(2),$$ e continuamos até obtermos $$a_n=(a_1-f(1))+f(1)+f(2)+\\cdots f(n).$$\n",
        "\n",
        "Já vimos como calcular a soma, de forma reduzida, para os casos em que $$f(i)=\\sum_{i=1}^pc_ii^m$$ é um polinômio ($m\\in\\mathbb{N}$) e no caso em que $$f(i)=\\sum_{i=1}^pc_ir_i^i$$ é uma soma de exponenciais.\n",
        "\n",
        "Segue que sabemos manipular o somatório $$\\sum_{i=1}^n f(i),$$ no caso em que $f(i)$ é uma soma de polinômios com exeponenciais (da forma mencionada).\n"
      ],
      "metadata": {
        "id": "zbnqXkQzV6Yg"
      }
    },
    {
      "cell_type": "markdown",
      "source": [
        "Entretanto, há casos em que $$f(n)=g(n)h(n)$$ é um produto e podemos usar a seguinte ideia para tentar manipular o somatório \n",
        "$$\\sum_{i=1}^nf(i)=\\sum_{i=1}^ng(i)h(i).$$"
      ],
      "metadata": {
        "id": "2z__Bm7QYVpR"
      }
    },
    {
      "cell_type": "markdown",
      "source": [
        "**O operador diferenças**\n",
        "\n",
        "Em momento anterior da disciplina foi definido o operador diferença \n",
        "$$\\Delta a_n=a_{n+1}-a_n.$$"
      ],
      "metadata": {
        "id": "PxVfHVlXtrbX"
      }
    },
    {
      "cell_type": "markdown",
      "source": [
        "Segue dessa definição que vale a igualdade na soma $$\\sum_{i=k}^n\\Delta a_i=a_{n+1}-a_k.$$"
      ],
      "metadata": {
        "id": "NaIoc7MfuBb7"
      }
    },
    {
      "cell_type": "markdown",
      "source": [
        "**O teorema das somas por partes:**\n",
        "\n",
        "Considere uma sequência $a_n=b_nc_n$, em que $b_n$ e $c_n$ são sequências conhecidas. \n",
        "\n",
        "Então, $$\\Delta a_n=a_{n+1}-a_n=b_{n+1}c_{n+1}-b_nc_n.$$"
      ],
      "metadata": {
        "id": "Dt834p6VuVP5"
      }
    },
    {
      "cell_type": "markdown",
      "source": [
        "Você pode fazer um ajuste nessa expressão e escrevê-la como \n",
        "$$\\Delta b_nc_n=b_{n+1}c_{n+1}-b_nc_n=(b_{n+1}c_{n+1}-b_{n+1}c_n)+(b_{n+1}c_n-b_nc_n)=b_{n+1}\\Delta c_n+c_{n}\\Delta b_n.\\tag{$\\star$}$$"
      ],
      "metadata": {
        "id": "BkxnD1S9xcmB"
      }
    },
    {
      "cell_type": "markdown",
      "source": [
        "#**Exemplo**\n",
        "\n",
        "Resolver a relação de recorrência $$a_{n+1}=3a_n+n,\\qquad a_1=1.$$"
      ],
      "metadata": {
        "id": "D6ElyGDSy5Ia"
      }
    },
    {
      "cell_type": "markdown",
      "source": [
        "**Uma forma de resolução:**\n",
        "\n",
        "Já vimos que uma solução da relação $$x_{n+1}=3x_n$$ é $x_n=3^n$. Isso nos permite escrever $a_n=3^ny_n$ e encontrar $y_n$, por meio da expressão $$y_{n+1}=y_{n}+\\frac{n}{3^n\\times 3},\\qquad 3^1y_1=a_1.$$\n",
        "\n",
        "Então, temos $$y_2=y_1+\\frac{1}{3^2}=\\frac{1}{3}+\\frac{1}{3^2}$$ e  $$y_3=y_2+\\frac{2}{3^3}=\\frac{1}{3}+\\frac{1}{3^2}+\\frac{2}{3^3}$$, ....\n",
        "\n",
        "Logo, $$y_n=\\frac{1}{3}+\\sum_{i=1}^{n-1}\\frac{i}{3^{i+1}},\\quad n>1.$$\n",
        "\n",
        "Do que já falamos no curso, o que tem de novo é o somatório envolvendo o produto $g(n)h(n)$, em que $g(n)=n=g_n$ é um polinômio e  $h(n)=\\frac{1}{3^{n+1}}=h_n$ é exponêncial."
      ],
      "metadata": {
        "id": "m-8nDvUPzUej"
      }
    },
    {
      "cell_type": "markdown",
      "source": [
        "Obseve ainda que\n",
        "$$\\Delta g_n=g(n+1)-g(n)=1$$\n",
        "e que  $$\\Delta h_n=h_{n+1}-h_n=\\frac{1}{3^{n+2}}-\\frac{1}{3^{n+1}}=\\frac{1}{3^{n+1}}\\left(\\frac{1}{3}-1\\right)=-\\frac{1}{3^{n+1}}\\frac{2}{3}=-2\\times\\frac{1}{3^{n+2}},$$ ou que $$-\\frac{1}{2}\\Delta h_n=\\frac{1}{3^{n+2}},\\qquad n\\in \\mathbb{Z}.$$"
      ],
      "metadata": {
        "id": "efm29jnE2AXa"
      }
    },
    {
      "cell_type": "markdown",
      "source": [
        "Podemos usar isso para escrever a igualdade\n",
        "$$\\sum_{i=1}^{n-1}\\frac{i}{3^{i+1}}=\\sum_{i=1}^{n-1}g_ih_i=-\\sum_{i=1}^{n-1}g_i\\left(\\frac{1}{2}\\Delta h_{i-1}\\right)=-\\frac{1}{2}\\sum_{i=0}^{n-2}g_{i+1}\\Delta h_{i}.$$"
      ],
      "metadata": {
        "id": "6N_GzKfd3wce"
      }
    },
    {
      "cell_type": "markdown",
      "source": [
        "Usando agora a expressõa $(\\star)$, podemos reescrever essa soma como \n",
        "$$\\sum_{i=1}^{n-1}\\frac{i}{3^{i+1}}=-\\frac{1}{2}\\sum_{i=0}^{n-2}\\left(\\Delta g_{i}h_i-h_i\\Delta g_{i}\\right)=-\\frac{1}{2}\\left(\\sum_{i=0}^{n-2}\\Delta g_{i}h_i-\\sum_{i=0}^{n-2}\\frac{1}{3^{i+1}}\\right).$$"
      ],
      "metadata": {
        "id": "p-uRwuab5nVs"
      }
    },
    {
      "cell_type": "markdown",
      "source": [
        "Por fim,\n",
        "$$\\sum_{i=1}^{n-1}\\frac{i}{3^{i+1}}=-\\frac{1}{2}\\left(g_{n-1}h_{n-1}-g_0h_0-\\frac{1}{3}\\left(\\frac{\\left(\\frac{1}{3})\\right)^{n-1}-1}{\\frac{1}{3}-1}\\right)\\right)=-\\frac{1}{2}\\left((n-1)\\frac{1}{3^n}+\\frac{1}{2}\\left(\\frac{1}{3^{n-1}}-1\\right)\\right).$$ E segue que \n",
        "$$a_n=3^ny_n=3^n\\times \\frac{1}{3}-3^n\\times \\frac{1}{2}\\left((n-1)\\frac{1}{3^n}+\\frac{1}{2}\\left(\\frac{1}{3^{n-1}}-1\\right)\\right)=3^{n-1}-\\frac{n-1}{2}-\\frac{3}{4}+\\frac{3^n}{4}.$$\n",
        "\n",
        "Ou seja, $$a_n=\\frac{7}{12}\\times 3^{n}-\\frac{2n+1}{4}.$$"
      ],
      "metadata": {
        "id": "iO1W17TW8EeT"
      }
    },
    {
      "cell_type": "markdown",
      "source": [
        "**Testendo o resultado obtido:** \n",
        "\n",
        "Vamos testar o que obtemos:"
      ],
      "metadata": {
        "id": "_22RtfIQ-zv2"
      }
    },
    {
      "cell_type": "markdown",
      "source": [
        "Primeiro olhamos para $$a_{n+1}=3a_n+n,\\qquad a_1=1,$$ e calculamos alguns $a_i$."
      ],
      "metadata": {
        "id": "d35Jglac_R_j"
      }
    },
    {
      "cell_type": "code",
      "source": [
        "a=[1]                     # Lista com 1 termo.\n",
        "\n",
        "for i in range(1,10):\n",
        "  a=a+[3*a[i-1] + i-1]      # Aumento a lista com um termo.\n",
        "a"
      ],
      "metadata": {
        "colab": {
          "base_uri": "https://localhost:8080/"
        },
        "id": "7mtBkE0A-3y-",
        "outputId": "5ab176d7-1dfc-47d4-e458-fe7fc2093ef4"
      },
      "execution_count": 6,
      "outputs": [
        {
          "output_type": "execute_result",
          "data": {
            "text/plain": [
              "[1, 3, 10, 32, 99, 301, 908, 2730, 8197, 24599]"
            ]
          },
          "metadata": {},
          "execution_count": 6
        }
      ]
    },
    {
      "cell_type": "markdown",
      "source": [
        "Agora olhamos para \n",
        "$$a_n=\\frac{7}{12}\\times 3^{n}-\\frac{2n+1}{4},$$ e comparamos com os valores anteriores."
      ],
      "metadata": {
        "id": "h5kZWfti_Z3K"
      }
    },
    {
      "cell_type": "code",
      "source": [
        "a=[]                  # Espaço vazio para guardar números depois.\n",
        "for i in range(0,10):\n",
        "  a=a+[15*(3**i)/12-(2*i+1)/4]\n",
        "a"
      ],
      "metadata": {
        "colab": {
          "base_uri": "https://localhost:8080/"
        },
        "id": "bnriWNJ6_hjT",
        "outputId": "92b5a052-bc3f-4a79-b5d5-eabaa721cd4e"
      },
      "execution_count": 5,
      "outputs": [
        {
          "output_type": "execute_result",
          "data": {
            "text/plain": [
              "[1.0, 3.0, 10.0, 32.0, 99.0, 301.0, 908.0, 2730.0, 8197.0, 24599.0]"
            ]
          },
          "metadata": {},
          "execution_count": 5
        }
      ]
    },
    {
      "cell_type": "markdown",
      "source": [
        "Isso sugere que não erramos cálculos."
      ],
      "metadata": {
        "id": "sJHquFGQuHye"
      }
    }
  ]
}