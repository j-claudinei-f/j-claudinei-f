{
  "nbformat": 4,
  "nbformat_minor": 0,
  "metadata": {
    "colab": {
      "provenance": [],
      "authorship_tag": "ABX9TyOxEkfL9be6asnQbWxCGyJA",
      "include_colab_link": true
    },
    "kernelspec": {
      "name": "python3",
      "display_name": "Python 3"
    },
    "language_info": {
      "name": "python"
    }
  },
  "cells": [
    {
      "cell_type": "markdown",
      "metadata": {
        "id": "view-in-github",
        "colab_type": "text"
      },
      "source": [
        "<a href=\"https://colab.research.google.com/github/j-claudinei-f/j-claudinei-f/blob/main/SomasPolinomiais.ipynb\" target=\"_parent\"><img src=\"https://colab.research.google.com/assets/colab-badge.svg\" alt=\"Open In Colab\"/></a>"
      ]
    },
    {
      "cell_type": "markdown",
      "source": [
        "#**Matemática Discreta**\n",
        "\n",
        "José Claudinei Ferreira\n",
        "\n",
        "Universidade Federal de Alfenas"
      ],
      "metadata": {
        "id": "11fS7RsiWK1a"
      }
    },
    {
      "cell_type": "markdown",
      "source": [
        "#**Somas polinômiais e somas exponenciais**"
      ],
      "metadata": {
        "id": "eILe6qyt7oOb"
      }
    },
    {
      "cell_type": "markdown",
      "source": [
        "[Link](https://colab.research.google.com/drive/1bLRvrx2v6SSbGuS_I3vzfnQ5wBsWg_I8?usp=sharing) para página anterior, sobre relações de recorrência lineares."
      ],
      "metadata": {
        "id": "Bqh_4tHd-Yfh"
      }
    },
    {
      "cell_type": "markdown",
      "source": [
        "As somas polinômiais $$s(n)=\\sum_{k=1}^n p(k),$$ em que $$p(k)=\\sum_{j=0}^m\\alpha_jk^j$$ é um polinômio de grau $m$, podem ser escritas como $$s(n+1)=s(n)+p(n+1),$$ e são relações de recorrência lineares. "
      ],
      "metadata": {
        "id": "bC6Fkd_rFDzC"
      }
    },
    {
      "cell_type": "markdown",
      "source": [
        "**Exemplo 6:** \n",
        "\n",
        "Para o caso em que  relação de recorrência é $$s(n+1)=s(n)+3((n+1)^2+n+2),\\quad s(1)=12,$$ já vimos que  $$s(n)=n^3+3n^2+5n+3,$$ na questão sobre divibilidade de $s(n)$ por $3$. Veja o [Exemplo 2](https://colab.research.google.com/drive/1bLRvrx2v6SSbGuS_I3vzfnQ5wBsWg_I8#scrollTo=9bvZPMuG2xNi)."
      ],
      "metadata": {
        "id": "P_j33We_UzAR"
      }
    },
    {
      "cell_type": "code",
      "source": [
        "def s(n):\n",
        "  return n**3+3*n**2+5*n+3\n",
        "\n",
        "\n",
        "for i in range(1,10+1):\n",
        "  print(i,s(i))"
      ],
      "metadata": {
        "colab": {
          "base_uri": "https://localhost:8080/"
        },
        "id": "5INxBh6UVLHR",
        "outputId": "570aa8a4-80f5-45ec-a123-f109b22d5f61"
      },
      "execution_count": null,
      "outputs": [
        {
          "output_type": "stream",
          "name": "stdout",
          "text": [
            "1 12\n",
            "2 33\n",
            "3 72\n",
            "4 135\n",
            "5 228\n",
            "6 357\n",
            "7 528\n",
            "8 747\n",
            "9 1020\n",
            "10 1353\n"
          ]
        }
      ]
    },
    {
      "cell_type": "markdown",
      "source": [
        "Nesse caso, na relação de recorrência aparece o polinômio $$p(n+1)=3((n+1)^2+n+2),$$ ou $$p(n)=3(n^2+n+1).$$ e vamos denotar por $$a(n)=\\sum_{k=1}^n p(k),$$ para compararmos com $s(n)$."
      ],
      "metadata": {
        "id": "ZmPLFe6WWAs4"
      }
    },
    {
      "cell_type": "code",
      "source": [
        "def a(n):\n",
        "  p=0\n",
        "  for k in range(1,n+1):\n",
        "    p=p+3*(k**2+k+1)\n",
        "  return p\n",
        "\n",
        "for i in range(1,10+1):\n",
        "  print(i,a(i))"
      ],
      "metadata": {
        "colab": {
          "base_uri": "https://localhost:8080/"
        },
        "id": "XUb1GXVEWgQA",
        "outputId": "1a40fae8-986c-43fd-d9d3-c63604dda0b4"
      },
      "execution_count": null,
      "outputs": [
        {
          "output_type": "stream",
          "name": "stdout",
          "text": [
            "1 9\n",
            "2 30\n",
            "3 69\n",
            "4 132\n",
            "5 225\n",
            "6 354\n",
            "7 525\n",
            "8 744\n",
            "9 1017\n",
            "10 1350\n"
          ]
        }
      ]
    },
    {
      "cell_type": "markdown",
      "source": [
        "Parece que $s(n)=a(n)+3$, o que nos daria $$a(n)=n^3+3n^2+5n=s(n)-3.$$ Observe que $$p(1)=9=s_1-3.$$ Vamos ver que esse é o caso, olhando para o exemplo que segue."
      ],
      "metadata": {
        "id": "cIDArVm7yWuD"
      }
    },
    {
      "cell_type": "markdown",
      "source": [
        "**Obs:** \n",
        "\n",
        "As somas $$s(n)=s_1+\\sum_{k=1}^n f(k),$$ em que $s_1$ é conhecido e $f(k)$ é uma função conhecida, também podem ser escritas como $$s(n+1)=s(n)+f(n+1),$$ e são relações de recorrência lineares. Veja o exemplo anterior. \n",
        "\n",
        "Entretanto, as somas polinomiais são mais fáceis de serem escritas de forma mais simples. "
      ],
      "metadata": {
        "id": "WgJDcBfVIou0"
      }
    },
    {
      "cell_type": "markdown",
      "source": [
        "**Exemplo 7:**\n",
        "\n",
        "Tirando da mente Exemplo 6, para o caso em que a relação de recorrência é $$s(n+1)=s(n)+3((n+1)^2+n+2),\\quad s(1)=1,\\tag{1}$$ devemos ter $$p(n+1)=3((n+1)^2+n+2)$$ ou $$p(n)=3(n^2+n+1)$$\n",
        "\n",
        "Usando a recorrência, temos que \n",
        "$$s_2=s_1+p(2),\\qquad s_3=s_2+p(3)=s_1+p(2)+p(3),\\ldots,$$ ou que sugere que\n",
        "$$s(n)=s_1-p(1)+\\sum_{k=1}^n3(k^2+k+1),\\tag{2}$$ o que sugere que \n",
        "$$s(n)=\\alpha n^3+\\beta n^2+\\delta n+\\gamma\\tag{3}$$ é um polinômio de grau 3.\n",
        "\n",
        "Vamos testar as exepressões $(1)$ e $(2)$ no que segue:"
      ],
      "metadata": {
        "id": "wRTlfD3FYdFf"
      }
    },
    {
      "cell_type": "code",
      "source": [
        "def s(n):   # Expressão (1)\n",
        "  if (n==1):\n",
        "    p=1\n",
        "  else: \n",
        "    p=s(n-1)+3*(n**2+n+1)  \n",
        "  return p\n",
        "\n",
        "for i in range(1,10+1):\n",
        "  print(i,s(i))"
      ],
      "metadata": {
        "colab": {
          "base_uri": "https://localhost:8080/"
        },
        "id": "hpQAgIaMauhw",
        "outputId": "cc2c9317-fbdd-404e-9062-4a5ce139dca6"
      },
      "execution_count": null,
      "outputs": [
        {
          "output_type": "stream",
          "name": "stdout",
          "text": [
            "1 1\n",
            "2 22\n",
            "3 61\n",
            "4 124\n",
            "5 217\n",
            "6 346\n",
            "7 517\n",
            "8 736\n",
            "9 1009\n",
            "10 1342\n"
          ]
        }
      ]
    },
    {
      "cell_type": "markdown",
      "source": [
        "Vemos a igualdade entre as expresões $(1)$ e $(2)$ para $s_n$."
      ],
      "metadata": {
        "id": "HPKPwBAo5nQa"
      }
    },
    {
      "cell_type": "code",
      "source": [
        "def sf(n):  # Expressão 2.\n",
        "  p=1 - 9      # s_1-p(1)\n",
        "  for k in range(1,n+1):\n",
        "      p=p+3*(k**2+k+1)\n",
        "  return p\n",
        "\n",
        "for i in range(1,10+1):\n",
        "  print(i,sf(i))"
      ],
      "metadata": {
        "colab": {
          "base_uri": "https://localhost:8080/"
        },
        "id": "NZLAGCNMb36P",
        "outputId": "69ca3752-fb68-4677-b2ec-edee438b63a4"
      },
      "execution_count": null,
      "outputs": [
        {
          "output_type": "stream",
          "name": "stdout",
          "text": [
            "1 1\n",
            "2 22\n",
            "3 61\n",
            "4 124\n",
            "5 217\n",
            "6 346\n",
            "7 517\n",
            "8 736\n",
            "9 1009\n",
            "10 1342\n"
          ]
        }
      ]
    },
    {
      "cell_type": "markdown",
      "source": [
        "Para buscarmos a expressão $(3)$ é preciso procurar $\\alpha$, $\\beta$, $\\delta$ e $\\gamma$, tais que \n",
        "$$\\begin{cases}s(1)&=&\\alpha 1^3+\\beta 1^2+\\delta 1+\\gamma=1\\\\\n",
        "s(2)&=&\\alpha 2^3+\\beta 2^2+\\delta 2+\\gamma=22\\\\\n",
        "s(2)&=&\\alpha 3^3+\\beta 3^2+\\delta 3+\\gamma=61\\\\\n",
        "s(2)&=&\\alpha 4^3+\\beta 4^2+\\delta 4+\\gamma=124.\\end{cases}.$$\n",
        "\n",
        "Isso é um sistema linear, da forma matricial $$\\begin{bmatrix}1&  1&  1&  1\\\\ 8 & 4&  2 & 1\\\\27 & 9 & 3 & 1\\\\64& 16 & 4  &1\\end{bmatrix}u=\\begin{bmatrix}1\\\\22\\\\61\\\\124\\end{bmatrix},$$ que podemos resolver por escalonamento ou eliminação de Gauss. Mas aqui uso a calculadora do Python."
      ],
      "metadata": {
        "id": "iXlrp_B8hcOe"
      }
    },
    {
      "cell_type": "code",
      "source": [
        "import numpy as np\n",
        "\n",
        "A=np.array([[1,1,1,1],[2**3,2**2,2,1],[3**3,3**2,3,1],[4**3,4**2,4,1]])\n",
        "\n",
        "v=np.array([1,22,61,124])\n",
        "print(A,v)"
      ],
      "metadata": {
        "colab": {
          "base_uri": "https://localhost:8080/"
        },
        "id": "xwkBZDI8nL-V",
        "outputId": "73e3c38b-e359-4032-c0e1-652c9a5df7c8"
      },
      "execution_count": null,
      "outputs": [
        {
          "output_type": "stream",
          "name": "stdout",
          "text": [
            "[[ 1  1  1  1]\n",
            " [ 8  4  2  1]\n",
            " [27  9  3  1]\n",
            " [64 16  4  1]] [  1  22  61 124]\n"
          ]
        }
      ]
    },
    {
      "cell_type": "code",
      "source": [
        "u=np.linalg.solve(A,v)\n",
        "u"
      ],
      "metadata": {
        "colab": {
          "base_uri": "https://localhost:8080/"
        },
        "id": "WPM460GNo0x9",
        "outputId": "9fe719c0-1f6a-4e45-ab3b-68e609e00c10"
      },
      "execution_count": null,
      "outputs": [
        {
          "output_type": "execute_result",
          "data": {
            "text/plain": [
              "array([ 1.,  3.,  5., -8.])"
            ]
          },
          "metadata": {},
          "execution_count": 86
        }
      ]
    },
    {
      "cell_type": "markdown",
      "source": [
        "Obtemos $\\alpha=1$, $\\beta=3$, $\\delta=5$ e $\\gamma=-8$, como já era esperado (usando agora o Exemplo 6)."
      ],
      "metadata": {
        "id": "eBtqpelo7BPC"
      }
    },
    {
      "cell_type": "code",
      "source": [
        "def sg(n):\n",
        "  p=n**3+3*n**2+5*n-8\n",
        "  return p\n",
        "\n",
        "for i in range(1,10+1):\n",
        "  print(i,sg(i))"
      ],
      "metadata": {
        "colab": {
          "base_uri": "https://localhost:8080/"
        },
        "id": "3dq4tjiLhiRx",
        "outputId": "0274d7d2-ae33-40e9-b76a-c619d06ea8b9"
      },
      "execution_count": null,
      "outputs": [
        {
          "output_type": "stream",
          "name": "stdout",
          "text": [
            "1 1\n",
            "2 22\n",
            "3 61\n",
            "4 124\n",
            "5 217\n",
            "6 346\n",
            "7 517\n",
            "8 736\n",
            "9 1009\n",
            "10 1342\n"
          ]
        }
      ]
    },
    {
      "cell_type": "markdown",
      "source": [
        "**Teorema:** Dada a  relação de recorrência $$s(n+1)=s(n)+f(n+1),\\tag{1}$$ para algum $s_1$ escolhido.\n",
        "\n",
        "Segue que\n",
        "$$s_2=s_1+f(2),\\qquad s_3=s_2+f(3)=s_1+f(2)+f(3),\\ldots,$$ ou que sugere que\n",
        "$$s(n)=s_1-f(1)+\\sum_{k=1}^nf(k),\\tag{2}.$$ \n",
        "\n",
        "\n",
        "<font color=blue> a) Se $f(n)$ for polinômio de grau $m$, em $n$. Então\n",
        "$$s(n)=\\sum_{i=0}^{m+1}\\alpha_in^i=g(n)\\tag{3}$$ é um polinômio de grau $m+1$, em $n$, que pode ser determinado por meio da resolução de um sistema linear de equações.\n",
        "\n",
        "<font color=blue> b) Se $f(n)=c\\times r^{n-1}$ para algum número real $r\\neq 1$ e $c$ fixos. Então\n",
        "$$s(n)=s_1+c\\sum_{i=0}^{n-1}r^i\\tag{4}=s_1+c\\frac{r^n-1}{r-1}=g(n).$$ \n"
      ],
      "metadata": {
        "id": "TF7pFmqM-RNX"
      }
    },
    {
      "cell_type": "markdown",
      "source": [
        "**Exemplo 8:** Um exemplo do item b) do Teorema é a [Questão 5 do ENQ 2023/1](https://profmat-sbm.org.br/wp-content/uploads/sites/4/sites/4/2023/03/ENQ-20231-Gabarito-com-Pautas.pdf)."
      ],
      "metadata": {
        "id": "1jeqoDYxg_Rn"
      }
    },
    {
      "cell_type": "markdown",
      "source": [
        "**Obs:** [Link](https://colab.research.google.com/drive/1gK8Ifc2sh_QBqZgBz1Volnk0Vryk7nYO?usp=sharing) para a parte não presencial da Avaliação I."
      ],
      "metadata": {
        "id": "T2_aAG7f9KPV"
      }
    },
    {
      "cell_type": "markdown",
      "source": [
        "#**Próximo passo:** "
      ],
      "metadata": {
        "id": "KKteJVckACxN"
      }
    },
    {
      "cell_type": "markdown",
      "source": [
        "Resolver as relações de recorrência da forma $$s_{n+1}=g(n)s_n+f(n)$$ e $$a_{n+1}=ba_n+ca_{n-1}.$$"
      ],
      "metadata": {
        "id": "WU-xES1EAd0c"
      }
    }
  ]
}