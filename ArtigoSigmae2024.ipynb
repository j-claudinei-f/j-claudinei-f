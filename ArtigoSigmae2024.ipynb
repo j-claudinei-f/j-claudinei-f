{
  "nbformat": 4,
  "nbformat_minor": 0,
  "metadata": {
    "colab": {
      "provenance": [],
      "authorship_tag": "ABX9TyNMtsmS2cG95uoULwFDPCwW",
      "include_colab_link": true
    },
    "kernelspec": {
      "name": "python3",
      "display_name": "Python 3"
    },
    "language_info": {
      "name": "python"
    }
  },
  "cells": [
    {
      "cell_type": "markdown",
      "metadata": {
        "id": "view-in-github",
        "colab_type": "text"
      },
      "source": [
        "<a href=\"https://colab.research.google.com/github/j-claudinei-f/j-claudinei-f/blob/main/ArtigoSigmae2024.ipynb\" target=\"_parent\"><img src=\"https://colab.research.google.com/assets/colab-badge.svg\" alt=\"Open In Colab\"/></a>"
      ]
    },
    {
      "cell_type": "markdown",
      "source": [
        "#**Resolvendo equações polinômiais**\n",
        "\n",
        "José Claudinei Ferreira\n",
        "Universidade Federal de Alfenas"
      ],
      "metadata": {
        "id": "x9awr_KOO5QM"
      }
    },
    {
      "cell_type": "markdown",
      "source": [
        "Este arquivo é complementar oa texto do aritgo <font color=red> Citar aqui.\n",
        "\n",
        "A ideia é mostrar ferramentas para a construção de gráficos de funções e resolver equações polinômias com o uso da linguagem Python."
      ],
      "metadata": {
        "id": "47z_iPBDPG6k"
      }
    },
    {
      "cell_type": "markdown",
      "source": [
        "<font color=red> Editando..."
      ],
      "metadata": {
        "id": "7-jf7Ts5Pkjx"
      }
    },
    {
      "cell_type": "markdown",
      "source": [
        "#**Exemplo:**\n",
        "\n",
        "Resolvendo a equação polinomial $$x^3 -6x^2 + 12x - 6 = 0 ,$$ com o Python:"
      ],
      "metadata": {
        "id": "UIcAgVO9Q7Ac"
      }
    },
    {
      "cell_type": "code",
      "source": [
        "from sympy import symbols, Eq, solve\n",
        "\n",
        "# Definir variável x\n",
        "x = symbols('x')\n",
        "\n",
        "# Definir equação\n",
        "equacao = Eq(x**3 -6*x**2 + 12*x - 6, 0)\n",
        "\n",
        "# Resolver a equação\n",
        "solucoes = solve(equacao, x)\n",
        "\n",
        "# Imprimir as soluções\n",
        "\n",
        "i=1\n",
        "print(\"As soluções reais da equação x^3 -6x^2 + 12x - 6 = 0 são:\")\n",
        "for solucao in solucoes:\n",
        "    print('Solução', i,' após cálculos',solucao.evalf())\n",
        "    i=i+1"
      ],
      "metadata": {
        "colab": {
          "base_uri": "https://localhost:8080/"
        },
        "id": "Kxe4XMksQyRX",
        "outputId": "c05df730-657f-402b-b8d1-e72bc9c2f4ae"
      },
      "execution_count": 7,
      "outputs": [
        {
          "output_type": "stream",
          "name": "stdout",
          "text": [
            "As soluções reais da equação x^3 -6x^2 + 12x - 6 = 0 são:\n",
            "Solução 1  após cálculos 0.740078950105127\n",
            "Solução 2  após cálculos 2.62996052494744 + 1.09112363597172*I\n",
            "Solução 3  após cálculos 2.62996052494744 - 1.09112363597172*I\n"
          ]
        }
      ]
    },
    {
      "cell_type": "markdown",
      "source": [
        "#**Exemplo:**\n",
        "\n",
        "Cálculo de $cos(2+i)$."
      ],
      "metadata": {
        "id": "lktakZSUR6z5"
      }
    },
    {
      "cell_type": "code",
      "source": [
        "import cmath\n",
        "\n",
        "cmath.cos(2+1j)"
      ],
      "metadata": {
        "colab": {
          "base_uri": "https://localhost:8080/"
        },
        "id": "4O17rM3bRv6u",
        "outputId": "4698f986-364f-4332-d072-16c25e945238"
      },
      "execution_count": 6,
      "outputs": [
        {
          "output_type": "execute_result",
          "data": {
            "text/plain": [
              "(-0.64214812471552-1.0686074213827783j)"
            ]
          },
          "metadata": {},
          "execution_count": 6
        }
      ]
    }
  ]
}