{
  "nbformat": 4,
  "nbformat_minor": 0,
  "metadata": {
    "colab": {
      "provenance": [],
      "authorship_tag": "ABX9TyM9l2pG7gfDC6CIodfZT8TK",
      "include_colab_link": true
    },
    "kernelspec": {
      "name": "python3",
      "display_name": "Python 3"
    },
    "language_info": {
      "name": "python"
    }
  },
  "cells": [
    {
      "cell_type": "markdown",
      "metadata": {
        "id": "view-in-github",
        "colab_type": "text"
      },
      "source": [
        "<a href=\"https://colab.research.google.com/github/j-claudinei-f/j-claudinei-f/blob/main/ArtigoSigmae2024.ipynb\" target=\"_parent\"><img src=\"https://colab.research.google.com/assets/colab-badge.svg\" alt=\"Open In Colab\"/></a>"
      ]
    },
    {
      "cell_type": "markdown",
      "source": [
        "#**Resolvendo equações polinômiais**\n",
        "\n",
        "José Claudinei Ferreira\n",
        "Universidade Federal de Alfenas"
      ],
      "metadata": {
        "id": "x9awr_KOO5QM"
      }
    },
    {
      "cell_type": "markdown",
      "source": [
        "Este arquivo é complementar oa texto do aritgo <font color=red> Citar aqui.\n",
        "\n",
        "A ideia é mostrar ferramentas para a construção de gráficos de funções e resolver equações polinômias com o uso da linguagem Python."
      ],
      "metadata": {
        "id": "47z_iPBDPG6k"
      }
    },
    {
      "cell_type": "markdown",
      "source": [
        "<font color=red> Editando..."
      ],
      "metadata": {
        "id": "7-jf7Ts5Pkjx"
      }
    },
    {
      "cell_type": "markdown",
      "source": [
        "#**Exemplo:**\n",
        "\n",
        "Resolvendo a equação polinomial $$x^3 -6x^2 + 12x - 6 = 0 ,$$ com o Python:"
      ],
      "metadata": {
        "id": "UIcAgVO9Q7Ac"
      }
    },
    {
      "cell_type": "code",
      "source": [
        "from sympy import symbols, Eq, solve\n",
        "\n",
        "# Definir variável x\n",
        "x = symbols('x')\n",
        "\n",
        "# Definir equação\n",
        "equacao = Eq(x**3 -6*x**2 + 12*x - 6, 0)\n",
        "\n",
        "# Resolver a equação\n",
        "solucoes = solve(equacao, x)\n",
        "\n",
        "# Imprimir as soluções\n",
        "\n",
        "i=1\n",
        "print(\"As soluções por radicais da equação x^3 -6x^2 + 12x - 6 = 0 são:\")\n",
        "for solucao in solucoes:\n",
        "    print('Solução', i,'dada por',solucao)\n",
        "    i=i+1"
      ],
      "metadata": {
        "id": "Kxe4XMksQyRX",
        "colab": {
          "base_uri": "https://localhost:8080/"
        },
        "outputId": "1af288c0-827e-4fe1-86cb-bfa55d2b2a71"
      },
      "execution_count": 11,
      "outputs": [
        {
          "output_type": "stream",
          "name": "stdout",
          "text": [
            "As soluções por radicais da equação x^3 -6x^2 + 12x - 6 = 0 são:\n",
            "Solução 1 dada por 2 - 2**(1/3)\n",
            "Solução 2 dada por 2 - 2**(1/3)*(-1/2 - sqrt(3)*I/2)\n",
            "Solução 3 dada por 2 - 2**(1/3)*(-1/2 + sqrt(3)*I/2)\n"
          ]
        }
      ]
    },
    {
      "cell_type": "markdown",
      "source": [
        "Fazendo os cálculos:"
      ],
      "metadata": {
        "id": "NvBlesF2UIuY"
      }
    },
    {
      "cell_type": "code",
      "source": [
        "\n",
        "i=1\n",
        "for solucao in solucoes:\n",
        "    print('Solução', i,'dada por',solucao.evalf())\n",
        "    i=i+1"
      ],
      "metadata": {
        "colab": {
          "base_uri": "https://localhost:8080/"
        },
        "id": "W_Xrjk18UM4A",
        "outputId": "3f1af98f-792a-42fe-d04a-a4775b6d0604"
      },
      "execution_count": 6,
      "outputs": [
        {
          "output_type": "stream",
          "name": "stdout",
          "text": [
            "Solução 1 dada por 0.740078950105127\n",
            "Solução 2 dada por 2.62996052494744 + 1.09112363597172*I\n",
            "Solução 3 dada por 2.62996052494744 - 1.09112363597172*I\n"
          ]
        }
      ]
    },
    {
      "cell_type": "markdown",
      "source": [],
      "metadata": {
        "id": "Spgt023IUaaa"
      }
    },
    {
      "cell_type": "markdown",
      "source": [
        "#**Exemplo:**\n",
        "\n",
        "Resolvendo a equação polinomial $$x^5 -2x^4 + 2 = 0 ,$$ com o Python:"
      ],
      "metadata": {
        "id": "dBU09D8KUawU"
      }
    },
    {
      "cell_type": "code",
      "source": [
        "from sympy import symbols, Eq, solve\n",
        "\n",
        "# Definir variável x\n",
        "x = symbols('x')\n",
        "\n",
        "# Definir equação\n",
        "equacao = Eq(x**5 -2*x**4 + 2, 0)\n",
        "\n",
        "# Resolver a equação\n",
        "solucoes = solve(equacao, x)\n",
        "\n",
        "# Imprimir as soluções\n",
        "\n",
        "i=1\n",
        "print(\"As soluções por radicais da equação x^5 -2x^4+2 = 0 são:\")\n",
        "for solucao in solucoes:\n",
        "    print('Solução', i,'dada por',solucao)\n",
        "    i=i+1"
      ],
      "metadata": {
        "colab": {
          "base_uri": "https://localhost:8080/"
        },
        "outputId": "d74c062f-f02f-442b-911e-cf758981a07c",
        "id": "aPrOT1LuUawW"
      },
      "execution_count": 15,
      "outputs": [
        {
          "output_type": "stream",
          "name": "stdout",
          "text": [
            "As soluções por radicais da equação x^5 -2x^4+2 = 0 são:\n",
            "Solução 1 dada por CRootOf(x**5 - 2*x**4 + 2, 0)\n",
            "Solução 2 dada por CRootOf(x**5 - 2*x**4 + 2, 1)\n",
            "Solução 3 dada por CRootOf(x**5 - 2*x**4 + 2, 2)\n",
            "Solução 4 dada por CRootOf(x**5 - 2*x**4 + 2, 3)\n",
            "Solução 5 dada por CRootOf(x**5 - 2*x**4 + 2, 4)\n"
          ]
        }
      ]
    },
    {
      "cell_type": "markdown",
      "source": [
        "Nesse caso não há como encontrar as soluções por radicais (Veja a referência [1]).\n",
        "\n",
        "Para ter uma ideia de como é possível resolver computacionalmante equações polinômiais veja as referências [2] e [3]. Veja também a documentação do [pacote Simpy](https://docs.sympy.org/latest/guides/solving/solving-guidance.html).\n",
        "\n",
        "Fazendo os cálculos numericamente:"
      ],
      "metadata": {
        "id": "ce0vcMgzUawW"
      }
    },
    {
      "cell_type": "code",
      "source": [
        "\n",
        "i=1\n",
        "for solucao in solucoes:\n",
        "    print('Solução', i,'dada por',solucao.evalf())\n",
        "    i=i+1"
      ],
      "metadata": {
        "colab": {
          "base_uri": "https://localhost:8080/"
        },
        "outputId": "c070467c-7e9b-4622-9557-ef7688efb82e",
        "id": "Va3sdhBhUawX"
      },
      "execution_count": 16,
      "outputs": [
        {
          "output_type": "stream",
          "name": "stdout",
          "text": [
            "Solução 1 dada por -0.910472093668948\n",
            "Solução 2 dada por 1.30022153937654\n",
            "Solução 3 dada por 1.81617880630727\n",
            "Solução 4 dada por -0.10296412600743 - 0.958969280993209*I\n",
            "Solução 5 dada por -0.10296412600743 + 0.958969280993209*I\n"
          ]
        }
      ]
    },
    {
      "cell_type": "markdown",
      "source": [
        "#**Exemplo:**\n",
        "\n",
        "Cálculo de $cos(2+i)$."
      ],
      "metadata": {
        "id": "lktakZSUR6z5"
      }
    },
    {
      "cell_type": "code",
      "source": [
        "import cmath\n",
        "\n",
        "cmath.cos(2+1j)"
      ],
      "metadata": {
        "colab": {
          "base_uri": "https://localhost:8080/"
        },
        "id": "4O17rM3bRv6u",
        "outputId": "4698f986-364f-4332-d072-16c25e945238"
      },
      "execution_count": null,
      "outputs": [
        {
          "output_type": "execute_result",
          "data": {
            "text/plain": [
              "(-0.64214812471552-1.0686074213827783j)"
            ]
          },
          "metadata": {},
          "execution_count": 6
        }
      ]
    },
    {
      "cell_type": "markdown",
      "source": [
        "Note que pode resolver numericamente equação não polinomial, como $\\cos(x)-x=0$, por exemplo:"
      ],
      "metadata": {
        "id": "9_55HAdagQbT"
      }
    },
    {
      "cell_type": "code",
      "source": [
        "from sympy import nsolve, cos\n",
        "from sympy.abc import x\n",
        "nsolve(cos(x) - x, x, 2)"
      ],
      "metadata": {
        "colab": {
          "base_uri": "https://localhost:8080/",
          "height": 37
        },
        "id": "mhtFIZDPgbVX",
        "outputId": "f02389be-c3ab-4567-98c3-ba645f57f2f9"
      },
      "execution_count": 1,
      "outputs": [
        {
          "output_type": "execute_result",
          "data": {
            "text/plain": [
              "0.739085133215161"
            ],
            "text/latex": "$\\displaystyle 0.739085133215161$"
          },
          "metadata": {},
          "execution_count": 1
        }
      ]
    },
    {
      "cell_type": "markdown",
      "source": [
        "Veja a referência [3] para ter uma ideia de como isso é possível."
      ],
      "metadata": {
        "id": "2q72RY4hglLX"
      }
    },
    {
      "cell_type": "markdown",
      "source": [
        "#**Referências**\n",
        "\n",
        "1. Otto Endler, [Solução de equações por radicais em característica $p\\geq 0$](https://rmu.sbm.org.br/wp-content/uploads/sites/27/2018/03/n05_Artigo02.pdf). RMU, SBM, n. 5, 1987.\n",
        "\n",
        "2. Reinhard Laubenbacher, Gary McGrath, David Pengelley,\n",
        "Lagrange and the Solution of Numerical Equations,\n",
        "Historia Mathematica,\n",
        "Volume 28, Issue 3,\n",
        "2001,\n",
        "Pages 220-231. DOI: [10.1006/hmat.2001.2316](https://doi.org/10.1006/hmat.2001.2316).\n",
        "\n",
        "3. José Claudinei Ferreira, Sobre a soma dos termos de progressões geométricas e métodos numéricos para determinar autovalores e raízes de polinômios, Revista Professor de Matemática On line, 2020. DOI: [10.21711/2319023x2020/pmo816](\\href{https://doi.org/10.21711/2319023x2020/pmo816).\n",
        "\n",
        "4. José Claudinei Ferreira, Quando os métodos de Euler e Newton coincidem, Revista Matemática Universitária, 34–46, 2021. DOI: — DOI: [10.21711/26755254/rmu20213](https://doi.org/10.21711/26755254/rmu20213)\n",
        "\n"
      ],
      "metadata": {
        "id": "HHo0t-AobcZp"
      }
    }
  ]
}