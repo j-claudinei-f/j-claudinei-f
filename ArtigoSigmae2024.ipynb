{
  "nbformat": 4,
  "nbformat_minor": 0,
  "metadata": {
    "colab": {
      "provenance": [],
      "authorship_tag": "ABX9TyMdwVEX4Xryq8jUDSKl7Xam",
      "include_colab_link": true
    },
    "kernelspec": {
      "name": "python3",
      "display_name": "Python 3"
    },
    "language_info": {
      "name": "python"
    }
  },
  "cells": [
    {
      "cell_type": "markdown",
      "metadata": {
        "id": "view-in-github",
        "colab_type": "text"
      },
      "source": [
        "<a href=\"https://colab.research.google.com/github/j-claudinei-f/j-claudinei-f/blob/main/ArtigoSigmae2024.ipynb\" target=\"_parent\"><img src=\"https://colab.research.google.com/assets/colab-badge.svg\" alt=\"Open In Colab\"/></a>"
      ]
    },
    {
      "cell_type": "markdown",
      "source": [
        "#**Resolvendo equações polinômiais**\n",
        "\n",
        "José Claudinei Ferreira\n",
        "Universidade Federal de Alfenas"
      ],
      "metadata": {
        "id": "x9awr_KOO5QM"
      }
    },
    {
      "cell_type": "markdown",
      "source": [
        "Este arquivo é complementar oa texto do aritgo <font color=red> Citar aqui.\n",
        "\n",
        "A ideia é mostrar ferramentas para a construção de gráficos de funções e resolver equações polinômias com o uso da linguagem Python."
      ],
      "metadata": {
        "id": "47z_iPBDPG6k"
      }
    },
    {
      "cell_type": "markdown",
      "source": [
        "<font color=red> Editando..."
      ],
      "metadata": {
        "id": "7-jf7Ts5Pkjx"
      }
    },
    {
      "cell_type": "markdown",
      "source": [
        "#**Exemplo:**\n",
        "\n",
        "Resolvendo a equação polinomial $$x^3 -6x^2 + 12x - 6 = 0 ,$$ com o Python:"
      ],
      "metadata": {
        "id": "UIcAgVO9Q7Ac"
      }
    },
    {
      "cell_type": "code",
      "source": [
        "from sympy import symbols, Eq, solve\n",
        "\n",
        "# Definir variável x\n",
        "x = symbols('x')\n",
        "\n",
        "# Definir equação\n",
        "equacao = Eq(x**3 -6*x**2 + 12*x - 6, 0)\n",
        "\n",
        "# Resolver a equação\n",
        "solucoes = solve(equacao, x)\n",
        "\n",
        "# Imprimir as soluções\n",
        "\n",
        "i=1\n",
        "print(\"As soluções por radicais da equação x^3 -6x^2 + 12x - 6 = 0 são:\")\n",
        "for solucao in solucoes:\n",
        "    print('Solução', i,'dada por',solucao)\n",
        "    i=i+1"
      ],
      "metadata": {
        "id": "Kxe4XMksQyRX",
        "colab": {
          "base_uri": "https://localhost:8080/"
        },
        "outputId": "1af288c0-827e-4fe1-86cb-bfa55d2b2a71"
      },
      "execution_count": 11,
      "outputs": [
        {
          "output_type": "stream",
          "name": "stdout",
          "text": [
            "As soluções por radicais da equação x^3 -6x^2 + 12x - 6 = 0 são:\n",
            "Solução 1 dada por 2 - 2**(1/3)\n",
            "Solução 2 dada por 2 - 2**(1/3)*(-1/2 - sqrt(3)*I/2)\n",
            "Solução 3 dada por 2 - 2**(1/3)*(-1/2 + sqrt(3)*I/2)\n"
          ]
        }
      ]
    },
    {
      "cell_type": "markdown",
      "source": [
        "Fazendo os cálculos:"
      ],
      "metadata": {
        "id": "NvBlesF2UIuY"
      }
    },
    {
      "cell_type": "code",
      "source": [
        "\n",
        "i=1\n",
        "for solucao in solucoes:\n",
        "    print('Solução', i,'dada por',solucao.evalf())\n",
        "    i=i+1"
      ],
      "metadata": {
        "colab": {
          "base_uri": "https://localhost:8080/"
        },
        "id": "W_Xrjk18UM4A",
        "outputId": "3f1af98f-792a-42fe-d04a-a4775b6d0604"
      },
      "execution_count": 6,
      "outputs": [
        {
          "output_type": "stream",
          "name": "stdout",
          "text": [
            "Solução 1 dada por 0.740078950105127\n",
            "Solução 2 dada por 2.62996052494744 + 1.09112363597172*I\n",
            "Solução 3 dada por 2.62996052494744 - 1.09112363597172*I\n"
          ]
        }
      ]
    },
    {
      "cell_type": "markdown",
      "source": [],
      "metadata": {
        "id": "Spgt023IUaaa"
      }
    },
    {
      "cell_type": "markdown",
      "source": [
        "#**Exemplo:**\n",
        "\n",
        "Resolvendo a equação polinomial $$x^5 -6x^2 + 12x - 6 = 0 ,$$ com o Python:"
      ],
      "metadata": {
        "id": "dBU09D8KUawU"
      }
    },
    {
      "cell_type": "code",
      "source": [
        "from sympy import symbols, Eq, solve\n",
        "\n",
        "# Definir variável x\n",
        "x = symbols('x')\n",
        "\n",
        "# Definir equação\n",
        "equacao = Eq(x**5 -6*x**2 + 12*x - 6, 0)\n",
        "\n",
        "# Resolver a equação\n",
        "solucoes = solve(equacao, x)\n",
        "\n",
        "# Imprimir as soluções\n",
        "\n",
        "i=1\n",
        "print(\"As soluções por radicais da equação x^5 -6x^2 + 12x - 6 = 0 são:\")\n",
        "for solucao in solucoes:\n",
        "    print('Solução', i,'dada por',solucao)\n",
        "    i=i+1"
      ],
      "metadata": {
        "colab": {
          "base_uri": "https://localhost:8080/"
        },
        "outputId": "43596a77-a443-4f59-d9eb-0cb34655ee06",
        "id": "aPrOT1LuUawW"
      },
      "execution_count": 12,
      "outputs": [
        {
          "output_type": "stream",
          "name": "stdout",
          "text": [
            "As soluções por radicais da equação x^5 -6x^2 + 12x - 6 = 0 são:\n",
            "Solução 1 dada por CRootOf(x**5 - 6*x**2 + 12*x - 6, 0)\n",
            "Solução 2 dada por CRootOf(x**5 - 6*x**2 + 12*x - 6, 1)\n",
            "Solução 3 dada por CRootOf(x**5 - 6*x**2 + 12*x - 6, 2)\n",
            "Solução 4 dada por CRootOf(x**5 - 6*x**2 + 12*x - 6, 3)\n",
            "Solução 5 dada por CRootOf(x**5 - 6*x**2 + 12*x - 6, 4)\n"
          ]
        }
      ]
    },
    {
      "cell_type": "markdown",
      "source": [
        "Nesse caso não há como encontrar as soluções por radicais.\n",
        "\n",
        "Fazendo os cálculos numericamente:"
      ],
      "metadata": {
        "id": "ce0vcMgzUawW"
      }
    },
    {
      "cell_type": "code",
      "source": [
        "\n",
        "i=1\n",
        "for solucao in solucoes:\n",
        "    print('Solução', i,'dada por',solucao.evalf())\n",
        "    i=i+1"
      ],
      "metadata": {
        "colab": {
          "base_uri": "https://localhost:8080/"
        },
        "outputId": "c5635e74-a02a-48e1-af96-b179a3a7c8c3",
        "id": "Va3sdhBhUawX"
      },
      "execution_count": 10,
      "outputs": [
        {
          "output_type": "stream",
          "name": "stdout",
          "text": [
            "Solução 1 dada por 0.780374712012700\n",
            "Solução 2 dada por -1.41871376048618 - 1.68900541378544*I\n",
            "Solução 3 dada por -1.41871376048618 + 1.68900541378544*I\n",
            "Solução 4 dada por 1.02852640447983 - 0.722750549417273*I\n",
            "Solução 5 dada por 1.02852640447983 + 0.722750549417273*I\n"
          ]
        }
      ]
    },
    {
      "cell_type": "markdown",
      "source": [
        "#**Exemplo:**\n",
        "\n",
        "Cálculo de $cos(2+i)$."
      ],
      "metadata": {
        "id": "lktakZSUR6z5"
      }
    },
    {
      "cell_type": "code",
      "source": [
        "import cmath\n",
        "\n",
        "cmath.cos(2+1j)"
      ],
      "metadata": {
        "colab": {
          "base_uri": "https://localhost:8080/"
        },
        "id": "4O17rM3bRv6u",
        "outputId": "4698f986-364f-4332-d072-16c25e945238"
      },
      "execution_count": null,
      "outputs": [
        {
          "output_type": "execute_result",
          "data": {
            "text/plain": [
              "(-0.64214812471552-1.0686074213827783j)"
            ]
          },
          "metadata": {},
          "execution_count": 6
        }
      ]
    }
  ]
}