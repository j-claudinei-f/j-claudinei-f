{
  "nbformat": 4,
  "nbformat_minor": 0,
  "metadata": {
    "colab": {
      "provenance": [],
      "authorship_tag": "ABX9TyP5WksICj2xOZxifdP9lnSM",
      "include_colab_link": true
    },
    "kernelspec": {
      "name": "python3",
      "display_name": "Python 3"
    },
    "language_info": {
      "name": "python"
    }
  },
  "cells": [
    {
      "cell_type": "markdown",
      "metadata": {
        "id": "view-in-github",
        "colab_type": "text"
      },
      "source": [
        "<a href=\"https://colab.research.google.com/github/j-claudinei-f/j-claudinei-f/blob/main/ArtigoSigmae2024.ipynb\" target=\"_parent\"><img src=\"https://colab.research.google.com/assets/colab-badge.svg\" alt=\"Open In Colab\"/></a>"
      ]
    },
    {
      "cell_type": "markdown",
      "source": [
        "#**Resolvendo equações polinômiais**\n",
        "\n",
        "José Claudinei Ferreira\n",
        "Universidade Federal de Alfenas"
      ],
      "metadata": {
        "id": "x9awr_KOO5QM"
      }
    },
    {
      "cell_type": "markdown",
      "source": [
        "Este arquivo é complementar oa texto do aritgo <font color=red> Citar aqui.\n",
        "\n",
        "A ideia é mostrar ferramentas para a construção de gráficos de funções e resolver equações polinômias com o uso da linguagem Python."
      ],
      "metadata": {
        "id": "47z_iPBDPG6k"
      }
    },
    {
      "cell_type": "markdown",
      "source": [
        "<font color=red> Editando..."
      ],
      "metadata": {
        "id": "7-jf7Ts5Pkjx"
      }
    }
  ]
}