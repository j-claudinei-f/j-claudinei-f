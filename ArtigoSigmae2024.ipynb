{
  "nbformat": 4,
  "nbformat_minor": 0,
  "metadata": {
    "colab": {
      "provenance": [],
      "authorship_tag": "ABX9TyPxCLViaeSTyaK58p9aUMDg",
      "include_colab_link": true
    },
    "kernelspec": {
      "name": "python3",
      "display_name": "Python 3"
    },
    "language_info": {
      "name": "python"
    }
  },
  "cells": [
    {
      "cell_type": "markdown",
      "metadata": {
        "id": "view-in-github",
        "colab_type": "text"
      },
      "source": [
        "<a href=\"https://colab.research.google.com/github/j-claudinei-f/j-claudinei-f/blob/main/ArtigoSigmae2024.ipynb\" target=\"_parent\"><img src=\"https://colab.research.google.com/assets/colab-badge.svg\" alt=\"Open In Colab\"/></a>"
      ]
    },
    {
      "cell_type": "markdown",
      "source": [
        "#**Resolvendo equações polinômiais**\n",
        "\n",
        "José Claudinei Ferreira\n",
        "Universidade Federal de Alfenas"
      ],
      "metadata": {
        "id": "x9awr_KOO5QM"
      }
    },
    {
      "cell_type": "markdown",
      "source": [
        "Este arquivo é complementar oa texto do aritgo <font color=red> Citar aqui.\n",
        "\n",
        "A ideia é mostrar ferramentas para a construção de gráficos de funções e resolver equações polinômias com o uso da linguagem Python."
      ],
      "metadata": {
        "id": "47z_iPBDPG6k"
      }
    },
    {
      "cell_type": "markdown",
      "source": [
        "<font color=red> Editando..."
      ],
      "metadata": {
        "id": "7-jf7Ts5Pkjx"
      }
    },
    {
      "cell_type": "markdown",
      "source": [
        "#**Exemplo:**\n",
        "\n",
        "Resolvendo a equação polinomial $$x^3 + 2x^2 + 5x - 2=0,$$ com o Python:"
      ],
      "metadata": {
        "id": "UIcAgVO9Q7Ac"
      }
    },
    {
      "cell_type": "code",
      "source": [
        "from sympy import symbols, Eq, solve\n",
        "\n",
        "# Definir variável x\n",
        "x = symbols('x')\n",
        "\n",
        "# Definir equação\n",
        "equacao = Eq(x**3 + 2*x**2 + 5*x - 2, 0)\n",
        "\n",
        "# Resolver a equação\n",
        "solucoes = solve(equacao, x)\n",
        "\n",
        "# Imprimir as soluções\n",
        "\n",
        "i=1\n",
        "print(\"As soluções reais da equação x^3 + 2x^2 + 5x - 2 = 0 são:\")\n",
        "for solucao in solucoes:\n",
        "    print('Solução', i,' após cálculos',solucao.evalf())\n",
        "    i=i+1"
      ],
      "metadata": {
        "colab": {
          "base_uri": "https://localhost:8080/"
        },
        "id": "Kxe4XMksQyRX",
        "outputId": "955ca584-11ed-45cd-89eb-8554f889d76d"
      },
      "execution_count": 1,
      "outputs": [
        {
          "output_type": "stream",
          "name": "stdout",
          "text": [
            "As soluções reais da equação x^3 + 2x^2 + 5x - 2 = 0 são:\n",
            "Solução 1  após cálculos -1.17219461844176 - 2.10555033108791*I\n",
            "Solução 2  após cálculos -1.17219461844176 + 2.10555033108791*I\n",
            "Solução 3  após cálculos 0.344389236883510\n"
          ]
        }
      ]
    }
  ]
}