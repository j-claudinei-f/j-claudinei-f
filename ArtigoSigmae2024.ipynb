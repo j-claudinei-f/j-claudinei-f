{
  "nbformat": 4,
  "nbformat_minor": 0,
  "metadata": {
    "colab": {
      "provenance": [],
      "authorship_tag": "ABX9TyPPZrsUrJv4jsrHN1/j0V1L",
      "include_colab_link": true
    },
    "kernelspec": {
      "name": "python3",
      "display_name": "Python 3"
    },
    "language_info": {
      "name": "python"
    }
  },
  "cells": [
    {
      "cell_type": "markdown",
      "metadata": {
        "id": "view-in-github",
        "colab_type": "text"
      },
      "source": [
        "<a href=\"https://colab.research.google.com/github/j-claudinei-f/j-claudinei-f/blob/main/ArtigoSigmae2024.ipynb\" target=\"_parent\"><img src=\"https://colab.research.google.com/assets/colab-badge.svg\" alt=\"Open In Colab\"/></a>"
      ]
    },
    {
      "cell_type": "markdown",
      "source": [
        "#**Resolvendo equações polinômiais**\n",
        "\n",
        "José Claudinei Ferreira\n",
        "Universidade Federal de Alfenas"
      ],
      "metadata": {
        "id": "x9awr_KOO5QM"
      }
    },
    {
      "cell_type": "markdown",
      "source": [
        "Este arquivo é complementar oa texto do aritgo <font color=red> Citar aqui.\n",
        "\n",
        "A ideia é mostrar ferramentas para a construção de gráficos de funções e resolver equações polinômias com o uso da linguagem Python."
      ],
      "metadata": {
        "id": "47z_iPBDPG6k"
      }
    },
    {
      "cell_type": "markdown",
      "source": [
        "<font color=red> Editando..."
      ],
      "metadata": {
        "id": "7-jf7Ts5Pkjx"
      }
    },
    {
      "cell_type": "markdown",
      "source": [
        "#**Exemplo:**\n",
        "\n",
        "Resolvendo a equação polinomial $$x^3 -6x^2 + 12x - 6 = 0 ,$$ com o Python:"
      ],
      "metadata": {
        "id": "UIcAgVO9Q7Ac"
      }
    },
    {
      "cell_type": "code",
      "source": [
        "from sympy import symbols, Eq, solve\n",
        "\n",
        "# Definir variável x\n",
        "x = symbols('x')\n",
        "\n",
        "# Definir equação\n",
        "equacao = Eq(x**3 -6*x**2 + 12*x - 6, 0)\n",
        "\n",
        "# Resolver a equação\n",
        "solucoes = solve(equacao, x)\n",
        "\n",
        "# Imprimir as soluções\n",
        "\n",
        "i=1\n",
        "print(\"As soluções por radicais da equação x^3 -6x^2 + 12x - 6 = 0 são:\")\n",
        "for solucao in solucoes:\n",
        "    print('Solução', i,'dada por',solucao)\n",
        "    i=i+1"
      ],
      "metadata": {
        "id": "Kxe4XMksQyRX",
        "colab": {
          "base_uri": "https://localhost:8080/"
        },
        "outputId": "1af288c0-827e-4fe1-86cb-bfa55d2b2a71"
      },
      "execution_count": 11,
      "outputs": [
        {
          "output_type": "stream",
          "name": "stdout",
          "text": [
            "As soluções por radicais da equação x^3 -6x^2 + 12x - 6 = 0 são:\n",
            "Solução 1 dada por 2 - 2**(1/3)\n",
            "Solução 2 dada por 2 - 2**(1/3)*(-1/2 - sqrt(3)*I/2)\n",
            "Solução 3 dada por 2 - 2**(1/3)*(-1/2 + sqrt(3)*I/2)\n"
          ]
        }
      ]
    },
    {
      "cell_type": "markdown",
      "source": [
        "Fazendo os cálculos:"
      ],
      "metadata": {
        "id": "NvBlesF2UIuY"
      }
    },
    {
      "cell_type": "code",
      "source": [
        "\n",
        "i=1\n",
        "for solucao in solucoes:\n",
        "    print('Solução', i,'dada por',solucao.evalf())\n",
        "    i=i+1"
      ],
      "metadata": {
        "colab": {
          "base_uri": "https://localhost:8080/"
        },
        "id": "W_Xrjk18UM4A",
        "outputId": "3f1af98f-792a-42fe-d04a-a4775b6d0604"
      },
      "execution_count": 6,
      "outputs": [
        {
          "output_type": "stream",
          "name": "stdout",
          "text": [
            "Solução 1 dada por 0.740078950105127\n",
            "Solução 2 dada por 2.62996052494744 + 1.09112363597172*I\n",
            "Solução 3 dada por 2.62996052494744 - 1.09112363597172*I\n"
          ]
        }
      ]
    },
    {
      "cell_type": "markdown",
      "source": [],
      "metadata": {
        "id": "Spgt023IUaaa"
      }
    },
    {
      "cell_type": "markdown",
      "source": [
        "#**Exemplo:**\n",
        "\n",
        "Resolvendo a equação polinomial $$x^5 -2x^4 + 2 = 0 ,$$ com o Python:"
      ],
      "metadata": {
        "id": "dBU09D8KUawU"
      }
    },
    {
      "cell_type": "code",
      "source": [
        "from sympy import symbols, Eq, solve\n",
        "\n",
        "# Definir variável x\n",
        "x = symbols('x')\n",
        "\n",
        "# Definir equação\n",
        "equacao = Eq(x**5 -2*x**4 + 2, 0)\n",
        "\n",
        "# Resolver a equação\n",
        "solucoes = solve(equacao, x)\n",
        "\n",
        "# Imprimir as soluções\n",
        "\n",
        "i=1\n",
        "print(\"As soluções por radicais da equação x^5 -2x^4+2 = 0 são:\")\n",
        "for solucao in solucoes:\n",
        "    print('Solução', i,'dada por',solucao)\n",
        "    i=i+1"
      ],
      "metadata": {
        "colab": {
          "base_uri": "https://localhost:8080/"
        },
        "outputId": "d74c062f-f02f-442b-911e-cf758981a07c",
        "id": "aPrOT1LuUawW"
      },
      "execution_count": 15,
      "outputs": [
        {
          "output_type": "stream",
          "name": "stdout",
          "text": [
            "As soluções por radicais da equação x^5 -2x^4+2 = 0 são:\n",
            "Solução 1 dada por CRootOf(x**5 - 2*x**4 + 2, 0)\n",
            "Solução 2 dada por CRootOf(x**5 - 2*x**4 + 2, 1)\n",
            "Solução 3 dada por CRootOf(x**5 - 2*x**4 + 2, 2)\n",
            "Solução 4 dada por CRootOf(x**5 - 2*x**4 + 2, 3)\n",
            "Solução 5 dada por CRootOf(x**5 - 2*x**4 + 2, 4)\n"
          ]
        }
      ]
    },
    {
      "cell_type": "markdown",
      "source": [
        "Nesse caso não há como encontrar as soluções por radicais (Veja a referência [Solução de equações por radicais em característica $p\\geq 0$](https://rmu.sbm.org.br/wp-content/uploads/sites/27/2018/03/n05_Artigo02.pdf)).\n",
        "\n",
        "Fazendo os cálculos numericamente:"
      ],
      "metadata": {
        "id": "ce0vcMgzUawW"
      }
    },
    {
      "cell_type": "code",
      "source": [
        "\n",
        "i=1\n",
        "for solucao in solucoes:\n",
        "    print('Solução', i,'dada por',solucao.evalf())\n",
        "    i=i+1"
      ],
      "metadata": {
        "colab": {
          "base_uri": "https://localhost:8080/"
        },
        "outputId": "c070467c-7e9b-4622-9557-ef7688efb82e",
        "id": "Va3sdhBhUawX"
      },
      "execution_count": 16,
      "outputs": [
        {
          "output_type": "stream",
          "name": "stdout",
          "text": [
            "Solução 1 dada por -0.910472093668948\n",
            "Solução 2 dada por 1.30022153937654\n",
            "Solução 3 dada por 1.81617880630727\n",
            "Solução 4 dada por -0.10296412600743 - 0.958969280993209*I\n",
            "Solução 5 dada por -0.10296412600743 + 0.958969280993209*I\n"
          ]
        }
      ]
    },
    {
      "cell_type": "markdown",
      "source": [
        "#**Exemplo:**\n",
        "\n",
        "Cálculo de $cos(2+i)$."
      ],
      "metadata": {
        "id": "lktakZSUR6z5"
      }
    },
    {
      "cell_type": "code",
      "source": [
        "import cmath\n",
        "\n",
        "cmath.cos(2+1j)"
      ],
      "metadata": {
        "colab": {
          "base_uri": "https://localhost:8080/"
        },
        "id": "4O17rM3bRv6u",
        "outputId": "4698f986-364f-4332-d072-16c25e945238"
      },
      "execution_count": null,
      "outputs": [
        {
          "output_type": "execute_result",
          "data": {
            "text/plain": [
              "(-0.64214812471552-1.0686074213827783j)"
            ]
          },
          "metadata": {},
          "execution_count": 6
        }
      ]
    },
    {
      "cell_type": "markdown",
      "source": [
        "#**Referências**\n",
        "\n",
        "1. Otto Endler, [Solução de equações por radicais em característica $p\\geq 0$](https://rmu.sbm.org.br/wp-content/uploads/sites/27/2018/03/n05_Artigo02.pdf). RMU, SBM, n. 5, 1987."
      ],
      "metadata": {
        "id": "HHo0t-AobcZp"
      }
    }
  ]
}