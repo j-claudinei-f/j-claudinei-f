{
  "nbformat": 4,
  "nbformat_minor": 0,
  "metadata": {
    "colab": {
      "provenance": [],
      "authorship_tag": "ABX9TyNnrVAO9cE60x7ACFq9pZkK",
      "include_colab_link": true
    },
    "kernelspec": {
      "name": "python3",
      "display_name": "Python 3"
    },
    "language_info": {
      "name": "python"
    }
  },
  "cells": [
    {
      "cell_type": "markdown",
      "metadata": {
        "id": "view-in-github",
        "colab_type": "text"
      },
      "source": [
        "<a href=\"https://colab.research.google.com/github/j-claudinei-f/j-claudinei-f/blob/main/Sierpinski_Pascal_Triangulo.ipynb\" target=\"_parent\"><img src=\"https://colab.research.google.com/assets/colab-badge.svg\" alt=\"Open In Colab\"/></a>"
      ]
    },
    {
      "cell_type": "markdown",
      "source": [
        "#**Os triângulos de Pascal e de Sierpinski**\n",
        "\n",
        "José Claudinei Ferreira\n",
        "\n",
        "Universidade Federal de Alfenas"
      ],
      "metadata": {
        "id": "fTqnYuMVTiyG"
      }
    },
    {
      "cell_type": "markdown",
      "source": [
        "**O triângulo de Pascal e produtos notáveis**"
      ],
      "metadata": {
        "id": "gLODfWBebEbW"
      }
    },
    {
      "cell_type": "markdown",
      "source": [
        "Quando lidamos com os produtos $$(a+b)^n,\\qquad n\\in \\mathbb{N},\\qquad a+b\\neq 0,$$\n",
        "por exemplo,\n",
        "$$\\begin{cases}(a+b)^0&=&1\\\\\\\\(a+b)^1&=&a+b\\\\\\\\(a+b)^2&=&a^2+2ab+b^2\\\\\\\\(a+b)^3&=&a^3+3a^2b+3ab^2+b^3\\\\\\\\\\vdots&\\vdots&\\vdots\\end{cases},$$ obtemos uma lista de números que possuem uma relação\n",
        "$$\\begin{cases}1&\\\\\n",
        "1&1\\\\1&2&1\\\\1&3&3&1\\\\\\vdots&\\vdots&\\vdots&\\vdots&\\ddots\\end{cases}$$\n",
        "\n",
        "É essa tabela que usualmente chamamos de [triângulo de Pascal](https://en.wikipedia.org/wiki/Pascal%27s_triangle) (mas ele foi também estudado por [Tartaglia](https://pt.wikipedia.org/wiki/Niccol%C3%B2_Fontana_Tartaglia)).\n",
        "\n",
        "O número $$\\frac{n!}{k!(n - k)!} = \\binom{n}{k},$$ na linha $n$ e na coluna $k$ é o [número de combinações](https://pt.wikipedia.org/wiki/Combina%C3%A7%C3%A3o) de $n$ elementos de um conjunto, tomados $k$ a $k$ e seguem a relação $$ \\binom{n}{k}=\\binom{n-1}{k-1}+\\binom{n-1}{k}.$$"
      ],
      "metadata": {
        "id": "zAHYpcHlwkzB"
      }
    },
    {
      "cell_type": "markdown",
      "source": [
        "Vejamos uma parte do triângulo de Pascal e Tartaglia."
      ],
      "metadata": {
        "id": "cfRRljg9br4Y"
      }
    },
    {
      "cell_type": "code",
      "source": [
        "n=10                # Pode trocar n e cliar no play.\n",
        "A=np.zeros((n,n))\n",
        "T=np.zeros((n,n))\n",
        "A[1,1]=1\n",
        "T[1,1]=1\n",
        "for i in range(0,n):\n",
        "  T[i,0]=1         # Triângulo de Pascal\n",
        "  A[i,0]=1         # Guardando pares e ímpares\n",
        "for i in range(2,n):\n",
        "  for j in range(1,n):\n",
        "    T[i,j]=T[i-1,j-1]+T[i-1,j]\n",
        "    A[i,j]=(A[i-1,j-1]+A[i-1,j])%2 # Guardando pares e ímpares\n",
        "    import pandas as pd\n",
        "\n",
        "df = pd.DataFrame(T)\n",
        "df"
      ],
      "metadata": {
        "colab": {
          "base_uri": "https://localhost:8080/",
          "height": 362
        },
        "id": "uTEHou8lgoZO",
        "outputId": "8839902c-0f00-4e73-b5c0-af7e416cd4f8"
      },
      "execution_count": 145,
      "outputs": [
        {
          "output_type": "execute_result",
          "data": {
            "text/plain": [
              "     0    1     2     3      4      5     6     7    8    9\n",
              "0  1.0  0.0   0.0   0.0    0.0    0.0   0.0   0.0  0.0  0.0\n",
              "1  1.0  1.0   0.0   0.0    0.0    0.0   0.0   0.0  0.0  0.0\n",
              "2  1.0  2.0   1.0   0.0    0.0    0.0   0.0   0.0  0.0  0.0\n",
              "3  1.0  3.0   3.0   1.0    0.0    0.0   0.0   0.0  0.0  0.0\n",
              "4  1.0  4.0   6.0   4.0    1.0    0.0   0.0   0.0  0.0  0.0\n",
              "5  1.0  5.0  10.0  10.0    5.0    1.0   0.0   0.0  0.0  0.0\n",
              "6  1.0  6.0  15.0  20.0   15.0    6.0   1.0   0.0  0.0  0.0\n",
              "7  1.0  7.0  21.0  35.0   35.0   21.0   7.0   1.0  0.0  0.0\n",
              "8  1.0  8.0  28.0  56.0   70.0   56.0  28.0   8.0  1.0  0.0\n",
              "9  1.0  9.0  36.0  84.0  126.0  126.0  84.0  36.0  9.0  1.0"
            ],
            "text/html": [
              "\n",
              "  <div id=\"df-fa158afb-3d5a-4ca4-85d6-edab7b5d51bd\" class=\"colab-df-container\">\n",
              "    <div>\n",
              "<style scoped>\n",
              "    .dataframe tbody tr th:only-of-type {\n",
              "        vertical-align: middle;\n",
              "    }\n",
              "\n",
              "    .dataframe tbody tr th {\n",
              "        vertical-align: top;\n",
              "    }\n",
              "\n",
              "    .dataframe thead th {\n",
              "        text-align: right;\n",
              "    }\n",
              "</style>\n",
              "<table border=\"1\" class=\"dataframe\">\n",
              "  <thead>\n",
              "    <tr style=\"text-align: right;\">\n",
              "      <th></th>\n",
              "      <th>0</th>\n",
              "      <th>1</th>\n",
              "      <th>2</th>\n",
              "      <th>3</th>\n",
              "      <th>4</th>\n",
              "      <th>5</th>\n",
              "      <th>6</th>\n",
              "      <th>7</th>\n",
              "      <th>8</th>\n",
              "      <th>9</th>\n",
              "    </tr>\n",
              "  </thead>\n",
              "  <tbody>\n",
              "    <tr>\n",
              "      <th>0</th>\n",
              "      <td>1.0</td>\n",
              "      <td>0.0</td>\n",
              "      <td>0.0</td>\n",
              "      <td>0.0</td>\n",
              "      <td>0.0</td>\n",
              "      <td>0.0</td>\n",
              "      <td>0.0</td>\n",
              "      <td>0.0</td>\n",
              "      <td>0.0</td>\n",
              "      <td>0.0</td>\n",
              "    </tr>\n",
              "    <tr>\n",
              "      <th>1</th>\n",
              "      <td>1.0</td>\n",
              "      <td>1.0</td>\n",
              "      <td>0.0</td>\n",
              "      <td>0.0</td>\n",
              "      <td>0.0</td>\n",
              "      <td>0.0</td>\n",
              "      <td>0.0</td>\n",
              "      <td>0.0</td>\n",
              "      <td>0.0</td>\n",
              "      <td>0.0</td>\n",
              "    </tr>\n",
              "    <tr>\n",
              "      <th>2</th>\n",
              "      <td>1.0</td>\n",
              "      <td>2.0</td>\n",
              "      <td>1.0</td>\n",
              "      <td>0.0</td>\n",
              "      <td>0.0</td>\n",
              "      <td>0.0</td>\n",
              "      <td>0.0</td>\n",
              "      <td>0.0</td>\n",
              "      <td>0.0</td>\n",
              "      <td>0.0</td>\n",
              "    </tr>\n",
              "    <tr>\n",
              "      <th>3</th>\n",
              "      <td>1.0</td>\n",
              "      <td>3.0</td>\n",
              "      <td>3.0</td>\n",
              "      <td>1.0</td>\n",
              "      <td>0.0</td>\n",
              "      <td>0.0</td>\n",
              "      <td>0.0</td>\n",
              "      <td>0.0</td>\n",
              "      <td>0.0</td>\n",
              "      <td>0.0</td>\n",
              "    </tr>\n",
              "    <tr>\n",
              "      <th>4</th>\n",
              "      <td>1.0</td>\n",
              "      <td>4.0</td>\n",
              "      <td>6.0</td>\n",
              "      <td>4.0</td>\n",
              "      <td>1.0</td>\n",
              "      <td>0.0</td>\n",
              "      <td>0.0</td>\n",
              "      <td>0.0</td>\n",
              "      <td>0.0</td>\n",
              "      <td>0.0</td>\n",
              "    </tr>\n",
              "    <tr>\n",
              "      <th>5</th>\n",
              "      <td>1.0</td>\n",
              "      <td>5.0</td>\n",
              "      <td>10.0</td>\n",
              "      <td>10.0</td>\n",
              "      <td>5.0</td>\n",
              "      <td>1.0</td>\n",
              "      <td>0.0</td>\n",
              "      <td>0.0</td>\n",
              "      <td>0.0</td>\n",
              "      <td>0.0</td>\n",
              "    </tr>\n",
              "    <tr>\n",
              "      <th>6</th>\n",
              "      <td>1.0</td>\n",
              "      <td>6.0</td>\n",
              "      <td>15.0</td>\n",
              "      <td>20.0</td>\n",
              "      <td>15.0</td>\n",
              "      <td>6.0</td>\n",
              "      <td>1.0</td>\n",
              "      <td>0.0</td>\n",
              "      <td>0.0</td>\n",
              "      <td>0.0</td>\n",
              "    </tr>\n",
              "    <tr>\n",
              "      <th>7</th>\n",
              "      <td>1.0</td>\n",
              "      <td>7.0</td>\n",
              "      <td>21.0</td>\n",
              "      <td>35.0</td>\n",
              "      <td>35.0</td>\n",
              "      <td>21.0</td>\n",
              "      <td>7.0</td>\n",
              "      <td>1.0</td>\n",
              "      <td>0.0</td>\n",
              "      <td>0.0</td>\n",
              "    </tr>\n",
              "    <tr>\n",
              "      <th>8</th>\n",
              "      <td>1.0</td>\n",
              "      <td>8.0</td>\n",
              "      <td>28.0</td>\n",
              "      <td>56.0</td>\n",
              "      <td>70.0</td>\n",
              "      <td>56.0</td>\n",
              "      <td>28.0</td>\n",
              "      <td>8.0</td>\n",
              "      <td>1.0</td>\n",
              "      <td>0.0</td>\n",
              "    </tr>\n",
              "    <tr>\n",
              "      <th>9</th>\n",
              "      <td>1.0</td>\n",
              "      <td>9.0</td>\n",
              "      <td>36.0</td>\n",
              "      <td>84.0</td>\n",
              "      <td>126.0</td>\n",
              "      <td>126.0</td>\n",
              "      <td>84.0</td>\n",
              "      <td>36.0</td>\n",
              "      <td>9.0</td>\n",
              "      <td>1.0</td>\n",
              "    </tr>\n",
              "  </tbody>\n",
              "</table>\n",
              "</div>\n",
              "    <div class=\"colab-df-buttons\">\n",
              "\n",
              "  <div class=\"colab-df-container\">\n",
              "    <button class=\"colab-df-convert\" onclick=\"convertToInteractive('df-fa158afb-3d5a-4ca4-85d6-edab7b5d51bd')\"\n",
              "            title=\"Convert this dataframe to an interactive table.\"\n",
              "            style=\"display:none;\">\n",
              "\n",
              "  <svg xmlns=\"http://www.w3.org/2000/svg\" height=\"24px\" viewBox=\"0 -960 960 960\">\n",
              "    <path d=\"M120-120v-720h720v720H120Zm60-500h600v-160H180v160Zm220 220h160v-160H400v160Zm0 220h160v-160H400v160ZM180-400h160v-160H180v160Zm440 0h160v-160H620v160ZM180-180h160v-160H180v160Zm440 0h160v-160H620v160Z\"/>\n",
              "  </svg>\n",
              "    </button>\n",
              "\n",
              "  <style>\n",
              "    .colab-df-container {\n",
              "      display:flex;\n",
              "      gap: 12px;\n",
              "    }\n",
              "\n",
              "    .colab-df-convert {\n",
              "      background-color: #E8F0FE;\n",
              "      border: none;\n",
              "      border-radius: 50%;\n",
              "      cursor: pointer;\n",
              "      display: none;\n",
              "      fill: #1967D2;\n",
              "      height: 32px;\n",
              "      padding: 0 0 0 0;\n",
              "      width: 32px;\n",
              "    }\n",
              "\n",
              "    .colab-df-convert:hover {\n",
              "      background-color: #E2EBFA;\n",
              "      box-shadow: 0px 1px 2px rgba(60, 64, 67, 0.3), 0px 1px 3px 1px rgba(60, 64, 67, 0.15);\n",
              "      fill: #174EA6;\n",
              "    }\n",
              "\n",
              "    .colab-df-buttons div {\n",
              "      margin-bottom: 4px;\n",
              "    }\n",
              "\n",
              "    [theme=dark] .colab-df-convert {\n",
              "      background-color: #3B4455;\n",
              "      fill: #D2E3FC;\n",
              "    }\n",
              "\n",
              "    [theme=dark] .colab-df-convert:hover {\n",
              "      background-color: #434B5C;\n",
              "      box-shadow: 0px 1px 3px 1px rgba(0, 0, 0, 0.15);\n",
              "      filter: drop-shadow(0px 1px 2px rgba(0, 0, 0, 0.3));\n",
              "      fill: #FFFFFF;\n",
              "    }\n",
              "  </style>\n",
              "\n",
              "    <script>\n",
              "      const buttonEl =\n",
              "        document.querySelector('#df-fa158afb-3d5a-4ca4-85d6-edab7b5d51bd button.colab-df-convert');\n",
              "      buttonEl.style.display =\n",
              "        google.colab.kernel.accessAllowed ? 'block' : 'none';\n",
              "\n",
              "      async function convertToInteractive(key) {\n",
              "        const element = document.querySelector('#df-fa158afb-3d5a-4ca4-85d6-edab7b5d51bd');\n",
              "        const dataTable =\n",
              "          await google.colab.kernel.invokeFunction('convertToInteractive',\n",
              "                                                    [key], {});\n",
              "        if (!dataTable) return;\n",
              "\n",
              "        const docLinkHtml = 'Like what you see? Visit the ' +\n",
              "          '<a target=\"_blank\" href=https://colab.research.google.com/notebooks/data_table.ipynb>data table notebook</a>'\n",
              "          + ' to learn more about interactive tables.';\n",
              "        element.innerHTML = '';\n",
              "        dataTable['output_type'] = 'display_data';\n",
              "        await google.colab.output.renderOutput(dataTable, element);\n",
              "        const docLink = document.createElement('div');\n",
              "        docLink.innerHTML = docLinkHtml;\n",
              "        element.appendChild(docLink);\n",
              "      }\n",
              "    </script>\n",
              "  </div>\n",
              "\n",
              "\n",
              "<div id=\"df-28104850-22f3-4374-8c71-5fe0f0e50e32\">\n",
              "  <button class=\"colab-df-quickchart\" onclick=\"quickchart('df-28104850-22f3-4374-8c71-5fe0f0e50e32')\"\n",
              "            title=\"Suggest charts\"\n",
              "            style=\"display:none;\">\n",
              "\n",
              "<svg xmlns=\"http://www.w3.org/2000/svg\" height=\"24px\"viewBox=\"0 0 24 24\"\n",
              "     width=\"24px\">\n",
              "    <g>\n",
              "        <path d=\"M19 3H5c-1.1 0-2 .9-2 2v14c0 1.1.9 2 2 2h14c1.1 0 2-.9 2-2V5c0-1.1-.9-2-2-2zM9 17H7v-7h2v7zm4 0h-2V7h2v10zm4 0h-2v-4h2v4z\"/>\n",
              "    </g>\n",
              "</svg>\n",
              "  </button>\n",
              "\n",
              "<style>\n",
              "  .colab-df-quickchart {\n",
              "      --bg-color: #E8F0FE;\n",
              "      --fill-color: #1967D2;\n",
              "      --hover-bg-color: #E2EBFA;\n",
              "      --hover-fill-color: #174EA6;\n",
              "      --disabled-fill-color: #AAA;\n",
              "      --disabled-bg-color: #DDD;\n",
              "  }\n",
              "\n",
              "  [theme=dark] .colab-df-quickchart {\n",
              "      --bg-color: #3B4455;\n",
              "      --fill-color: #D2E3FC;\n",
              "      --hover-bg-color: #434B5C;\n",
              "      --hover-fill-color: #FFFFFF;\n",
              "      --disabled-bg-color: #3B4455;\n",
              "      --disabled-fill-color: #666;\n",
              "  }\n",
              "\n",
              "  .colab-df-quickchart {\n",
              "    background-color: var(--bg-color);\n",
              "    border: none;\n",
              "    border-radius: 50%;\n",
              "    cursor: pointer;\n",
              "    display: none;\n",
              "    fill: var(--fill-color);\n",
              "    height: 32px;\n",
              "    padding: 0;\n",
              "    width: 32px;\n",
              "  }\n",
              "\n",
              "  .colab-df-quickchart:hover {\n",
              "    background-color: var(--hover-bg-color);\n",
              "    box-shadow: 0 1px 2px rgba(60, 64, 67, 0.3), 0 1px 3px 1px rgba(60, 64, 67, 0.15);\n",
              "    fill: var(--button-hover-fill-color);\n",
              "  }\n",
              "\n",
              "  .colab-df-quickchart-complete:disabled,\n",
              "  .colab-df-quickchart-complete:disabled:hover {\n",
              "    background-color: var(--disabled-bg-color);\n",
              "    fill: var(--disabled-fill-color);\n",
              "    box-shadow: none;\n",
              "  }\n",
              "\n",
              "  .colab-df-spinner {\n",
              "    border: 2px solid var(--fill-color);\n",
              "    border-color: transparent;\n",
              "    border-bottom-color: var(--fill-color);\n",
              "    animation:\n",
              "      spin 1s steps(1) infinite;\n",
              "  }\n",
              "\n",
              "  @keyframes spin {\n",
              "    0% {\n",
              "      border-color: transparent;\n",
              "      border-bottom-color: var(--fill-color);\n",
              "      border-left-color: var(--fill-color);\n",
              "    }\n",
              "    20% {\n",
              "      border-color: transparent;\n",
              "      border-left-color: var(--fill-color);\n",
              "      border-top-color: var(--fill-color);\n",
              "    }\n",
              "    30% {\n",
              "      border-color: transparent;\n",
              "      border-left-color: var(--fill-color);\n",
              "      border-top-color: var(--fill-color);\n",
              "      border-right-color: var(--fill-color);\n",
              "    }\n",
              "    40% {\n",
              "      border-color: transparent;\n",
              "      border-right-color: var(--fill-color);\n",
              "      border-top-color: var(--fill-color);\n",
              "    }\n",
              "    60% {\n",
              "      border-color: transparent;\n",
              "      border-right-color: var(--fill-color);\n",
              "    }\n",
              "    80% {\n",
              "      border-color: transparent;\n",
              "      border-right-color: var(--fill-color);\n",
              "      border-bottom-color: var(--fill-color);\n",
              "    }\n",
              "    90% {\n",
              "      border-color: transparent;\n",
              "      border-bottom-color: var(--fill-color);\n",
              "    }\n",
              "  }\n",
              "</style>\n",
              "\n",
              "  <script>\n",
              "    async function quickchart(key) {\n",
              "      const quickchartButtonEl =\n",
              "        document.querySelector('#' + key + ' button');\n",
              "      quickchartButtonEl.disabled = true;  // To prevent multiple clicks.\n",
              "      quickchartButtonEl.classList.add('colab-df-spinner');\n",
              "      try {\n",
              "        const charts = await google.colab.kernel.invokeFunction(\n",
              "            'suggestCharts', [key], {});\n",
              "      } catch (error) {\n",
              "        console.error('Error during call to suggestCharts:', error);\n",
              "      }\n",
              "      quickchartButtonEl.classList.remove('colab-df-spinner');\n",
              "      quickchartButtonEl.classList.add('colab-df-quickchart-complete');\n",
              "    }\n",
              "    (() => {\n",
              "      let quickchartButtonEl =\n",
              "        document.querySelector('#df-28104850-22f3-4374-8c71-5fe0f0e50e32 button');\n",
              "      quickchartButtonEl.style.display =\n",
              "        google.colab.kernel.accessAllowed ? 'block' : 'none';\n",
              "    })();\n",
              "  </script>\n",
              "</div>\n",
              "    </div>\n",
              "  </div>\n"
            ],
            "application/vnd.google.colaboratory.intrinsic+json": {
              "type": "dataframe",
              "variable_name": "df",
              "summary": "{\n  \"name\": \"df\",\n  \"rows\": 10,\n  \"fields\": [\n    {\n      \"column\": 0,\n      \"properties\": {\n        \"dtype\": \"number\",\n        \"std\": 0.0,\n        \"min\": 1.0,\n        \"max\": 1.0,\n        \"num_unique_values\": 1,\n        \"samples\": [\n          1.0\n        ],\n        \"semantic_type\": \"\",\n        \"description\": \"\"\n      }\n    },\n    {\n      \"column\": 1,\n      \"properties\": {\n        \"dtype\": \"number\",\n        \"std\": 3.0276503540974917,\n        \"min\": 0.0,\n        \"max\": 9.0,\n        \"num_unique_values\": 10,\n        \"samples\": [\n          8.0\n        ],\n        \"semantic_type\": \"\",\n        \"description\": \"\"\n      }\n    },\n    {\n      \"column\": 2,\n      \"properties\": {\n        \"dtype\": \"number\",\n        \"std\": 12.701705922171767,\n        \"min\": 0.0,\n        \"max\": 36.0,\n        \"num_unique_values\": 9,\n        \"samples\": [\n          28.0\n        ],\n        \"semantic_type\": \"\",\n        \"description\": \"\"\n      }\n    },\n    {\n      \"column\": 3,\n      \"properties\": {\n        \"dtype\": \"number\",\n        \"std\": 28.91366458960192,\n        \"min\": 0.0,\n        \"max\": 84.0,\n        \"num_unique_values\": 8,\n        \"samples\": [\n          1.0\n        ],\n        \"semantic_type\": \"\",\n        \"description\": \"\"\n      }\n    },\n    {\n      \"column\": 4,\n      \"properties\": {\n        \"dtype\": \"number\",\n        \"std\": 42.033848794090275,\n        \"min\": 0.0,\n        \"max\": 126.0,\n        \"num_unique_values\": 7,\n        \"samples\": [\n          0.0\n        ],\n        \"semantic_type\": \"\",\n        \"description\": \"\"\n      }\n    },\n    {\n      \"column\": 5,\n      \"properties\": {\n        \"dtype\": \"number\",\n        \"std\": 40.933550488023336,\n        \"min\": 0.0,\n        \"max\": 126.0,\n        \"num_unique_values\": 6,\n        \"samples\": [\n          0.0\n        ],\n        \"semantic_type\": \"\",\n        \"description\": \"\"\n      }\n    },\n    {\n      \"column\": 6,\n      \"properties\": {\n        \"dtype\": \"number\",\n        \"std\": 26.770630673681683,\n        \"min\": 0.0,\n        \"max\": 84.0,\n        \"num_unique_values\": 5,\n        \"samples\": [\n          1.0\n        ],\n        \"semantic_type\": \"\",\n        \"description\": \"\"\n      }\n    },\n    {\n      \"column\": 7,\n      \"properties\": {\n        \"dtype\": \"number\",\n        \"std\": 11.345581616745006,\n        \"min\": 0.0,\n        \"max\": 36.0,\n        \"num_unique_values\": 4,\n        \"samples\": [\n          1.0\n        ],\n        \"semantic_type\": \"\",\n        \"description\": \"\"\n      }\n    },\n    {\n      \"column\": 8,\n      \"properties\": {\n        \"dtype\": \"number\",\n        \"std\": 2.8284271247461903,\n        \"min\": 0.0,\n        \"max\": 9.0,\n        \"num_unique_values\": 3,\n        \"samples\": [\n          0.0\n        ],\n        \"semantic_type\": \"\",\n        \"description\": \"\"\n      }\n    },\n    {\n      \"column\": 9,\n      \"properties\": {\n        \"dtype\": \"number\",\n        \"std\": 0.31622776601683794,\n        \"min\": 0.0,\n        \"max\": 1.0,\n        \"num_unique_values\": 2,\n        \"samples\": [\n          1.0\n        ],\n        \"semantic_type\": \"\",\n        \"description\": \"\"\n      }\n    }\n  ]\n}"
            }
          },
          "metadata": {},
          "execution_count": 145
        }
      ]
    },
    {
      "cell_type": "markdown",
      "source": [
        "Não vou delongar, mas isso está ligado ao [teorema binomial de Newton](https://en.wikipedia.org/wiki/Binomial_theorem#Newton's_generalized_binomial_theorem)."
      ],
      "metadata": {
        "id": "ybaX6oFM5f6d"
      }
    },
    {
      "cell_type": "markdown",
      "source": [
        "#**Construindo uma imagem**"
      ],
      "metadata": {
        "id": "5dcHXXSYzVP0"
      }
    },
    {
      "cell_type": "markdown",
      "source": [
        "Na tabela acima, podemos pintar os números pares e os ímpares de cores diferentes como se fossem [pixels](https://pt.wikipedia.org/wiki/Pixel)."
      ],
      "metadata": {
        "id": "GpCnJZqwim36"
      }
    },
    {
      "cell_type": "code",
      "source": [
        "from PIL import Image\n",
        "import numpy as np\n",
        "\n",
        "# Criar um array com zeros\n",
        "n=2**8\n",
        "data = np.zeros((n,n,3), dtype=np.uint8)\n",
        "# Criar a imagem a partir do array\n",
        "\n",
        "A=np.zeros((n,n))\n",
        "T=np.zeros((n,n))\n",
        "A[1,1]=1\n",
        "T[1,1]=1\n",
        "for i in range(0,n):\n",
        "  T[i,0]=1         # Triângulo de Pascal\n",
        "  A[i,0]=1         # Guardando pares e ímpares\n",
        "for i in range(2,n):\n",
        "  for j in range(1,n):\n",
        "    T[i,j]=T[i-1,j-1]+T[i-1,j]\n",
        "    A[i,j]=(A[i-1,j-1]+A[i-1,j])%2 # Guardando pares e ímpares\n",
        "\n",
        "# Modificar o array para ter cor\n",
        "for i in range(0,n):\n",
        "  for j in range(0,n):\n",
        "    if A[i,j]==1:\n",
        "      data[i,j] = [255, 0, 0] # vermelho\n",
        "    else: data[i,j] = [255,255, 255] # branco\n",
        "\n",
        "\n",
        "img = Image.fromarray(data, 'RGB')\n",
        "\n",
        "# Salvar a imagem em um arquivo\n",
        "img.save('minha_imagem.jpg')"
      ],
      "metadata": {
        "id": "rI3PEWGCVhAV"
      },
      "execution_count": 146,
      "outputs": []
    },
    {
      "cell_type": "code",
      "source": [
        "import matplotlib.pyplot as plt                  # para fazer gráficos."
      ],
      "metadata": {
        "id": "2VT6yF0EkHrT"
      },
      "execution_count": 147,
      "outputs": []
    },
    {
      "cell_type": "code",
      "source": [
        "print('Aproximação do triângulo de Sierpinski')\n",
        "plt.imshow(img)\n",
        "plt.axis('off')\n",
        "plt.show()"
      ],
      "metadata": {
        "colab": {
          "base_uri": "https://localhost:8080/",
          "height": 424
        },
        "id": "fABhSg3ilZve",
        "outputId": "0ef07d30-7446-41dc-b19e-4eecca58e8e6"
      },
      "execution_count": 148,
      "outputs": [
        {
          "output_type": "stream",
          "name": "stdout",
          "text": [
            "Aproximação do triângulo de Sierpinski\n"
          ]
        },
        {
          "output_type": "display_data",
          "data": {
            "text/plain": [
              "<Figure size 640x480 with 1 Axes>"
            ],
            "image/png": "[encoded data removed]"
          },
          "metadata": {}
        }
      ]
    },
    {
      "cell_type": "markdown",
      "source": [
        "A imagem acima é uma aproximação do triângulo de [Sierpinski](https://pt.wikipedia.org/wiki/Tri%C3%A2ngulo_de_Sierpinski)."
      ],
      "metadata": {
        "id": "q4jybUX-0AvT"
      }
    },
    {
      "cell_type": "markdown",
      "source": [
        "#**Construindo outras imagens**"
      ],
      "metadata": {
        "id": "faYRh9dZ3Auy"
      }
    },
    {
      "cell_type": "markdown",
      "source": [
        "Na tabela acima, nós pintamos os números pares e os ímpares de cores diferentes como se fossem [pixels](https://pt.wikipedia.org/wiki/Pixel).\n",
        "\n",
        "Podemos usar a idea e pintar de uma cor os múltiplos de 3 e os outros números de outra cor, por exemplo:"
      ],
      "metadata": {
        "id": "J1ERxI9V3Auy"
      }
    },
    {
      "cell_type": "code",
      "source": [
        "# Criar um array com zeros\n",
        "n=3**6                         # Potências de 3.\n",
        "data = np.zeros((n,n,3), dtype=np.uint8)\n",
        "# Criar a imagem a partir do array\n",
        "\n",
        "A=np.zeros((n,n))\n",
        "T=np.zeros((n,n))\n",
        "A[1,1]=1\n",
        "T[1,1]=1\n",
        "for i in range(0,n):\n",
        "  T[i,0]=1         # Triângulo de Pascal\n",
        "  A[i,0]=1         # Guardando pares e ímpares\n",
        "for i in range(2,n):\n",
        "  for j in range(1,n):\n",
        "    T[i,j]=T[i-1,j-1]+T[i-1,j]\n",
        "    A[i,j]=(A[i-1,j-1]+A[i-1,j])%3 # Guardando os divisores de 3\n",
        "\n",
        "# Modificar o array para ter cor\n",
        "for i in range(0,n):\n",
        "  for j in range(0,n):\n",
        "    if A[i,j]==1:\n",
        "      data[i,j] = [0, 0, 0] # preto\n",
        "    else: data[i,j] = [255,0,0] # vermelho\n",
        "\n",
        "\n",
        "img = Image.fromarray(data, 'RGB')\n",
        "\n",
        "# Salvar a imagem em um arquivo\n",
        "img.save('minha_imagem.jpg')"
      ],
      "metadata": {
        "id": "0fCSXUCG3Auz"
      },
      "execution_count": 158,
      "outputs": []
    },
    {
      "cell_type": "code",
      "source": [
        "print('Aproximação de imagem')\n",
        "plt.imshow(img)\n",
        "plt.axis('off')\n",
        "plt.show()"
      ],
      "metadata": {
        "colab": {
          "base_uri": "https://localhost:8080/",
          "height": 424
        },
        "outputId": "5f120dab-16f9-41bf-e762-31291bc43b85",
        "id": "_fgAHk4I3Auz"
      },
      "execution_count": 159,
      "outputs": [
        {
          "output_type": "stream",
          "name": "stdout",
          "text": [
            "Aproximação de imagem\n"
          ]
        },
        {
          "output_type": "display_data",
          "data": {
            "text/plain": [
              "<Figure size 640x480 with 1 Axes>"
            ],
            "image/png": "[encoded data removed]"
          },
          "metadata": {}
        }
      ]
    }
  ]
}