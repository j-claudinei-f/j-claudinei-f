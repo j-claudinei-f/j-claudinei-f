{
  "nbformat": 4,
  "nbformat_minor": 0,
  "metadata": {
    "colab": {
      "provenance": [],
      "authorship_tag": "ABX9TyM8wt5gOO6pYLKGKssp5VY5",
      "include_colab_link": true
    },
    "kernelspec": {
      "name": "python3",
      "display_name": "Python 3"
    },
    "language_info": {
      "name": "python"
    }
  },
  "cells": [
    {
      "cell_type": "markdown",
      "metadata": {
        "id": "view-in-github",
        "colab_type": "text"
      },
      "source": [
        "<a href=\"https://colab.research.google.com/github/j-claudinei-f/j-claudinei-f/blob/main/Av_1_Mat_Discreta.ipynb\" target=\"_parent\"><img src=\"https://colab.research.google.com/assets/colab-badge.svg\" alt=\"Open In Colab\"/></a>"
      ]
    },
    {
      "cell_type": "markdown",
      "source": [
        "#**Avaliação I: parte não presencial**"
      ],
      "metadata": {
        "id": "BgIlArs46EbF"
      }
    },
    {
      "cell_type": "markdown",
      "source": [
        "Boa tarde,\n",
        "\n",
        "Como informado anteriormente, temos avaliação marcada para o dia 28 desse mês.\n",
        "\n",
        "Seguem problemas para resolverem como parte da avaliação."
      ],
      "metadata": {
        "id": "WsvI5Fnh6S9x"
      }
    },
    {
      "cell_type": "markdown",
      "source": [
        "1. (1 ponto) Se $a_1=-7$ e $$a_{n+1}=a_n+n^2+3n+1.$$ Determine $a_n$, em função apenas de $n$."
      ],
      "metadata": {
        "id": "9NZcTRhR6KnX"
      }
    },
    {
      "cell_type": "markdown",
      "source": [
        "2. (2 pontos) Um jardim tem uma torneira e dose roseiras dispostas em linha reta. A torneira está a 50 metros da primeira roseira e cada roseira dista 1.5 metros da anterior. Um jardineiro enche um balde de água de cada vez e caminha até as roseiras para regá-las. Ele usa um balde e meio de água para regar cada roseira. Após regar a dúzia de roseiras e voltar até a torneira para deixar o balde, quantos metros o jardineiro terá caminhado?\n",
        "\n"
      ],
      "metadata": {
        "id": "tgs0XXHO6Y2k"
      }
    },
    {
      "cell_type": "markdown",
      "source": [
        "\n",
        "3. (2 ponto) Se $a_1=3$ e $$a_{n+1}=a_n+7\\times 3^n+1.$$ Determine $a_n$, em função apenas de $n$."
      ],
      "metadata": {
        "id": "MmiVVFMN6Zgh"
      }
    },
    {
      "cell_type": "markdown",
      "source": [
        "Obs. Entregar resolução manuscrita, com detalhes da argumentação, no dia 28 desse mês, no início da aula.\n",
        "\n",
        "A avaliação vale 10 pontos.\n",
        "Lembre-se que a ideia é que aprendam com a resolução."
      ],
      "metadata": {
        "id": "nGyPp4To6Z-u"
      }
    }
  ]
}