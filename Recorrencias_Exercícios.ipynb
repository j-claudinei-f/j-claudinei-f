{
  "nbformat": 4,
  "nbformat_minor": 0,
  "metadata": {
    "colab": {
      "provenance": [],
      "authorship_tag": "ABX9TyMLcPJqYJ2wz8LUIWu18tey",
      "include_colab_link": true
    },
    "kernelspec": {
      "name": "python3",
      "display_name": "Python 3"
    },
    "language_info": {
      "name": "python"
    }
  },
  "cells": [
    {
      "cell_type": "markdown",
      "metadata": {
        "id": "view-in-github",
        "colab_type": "text"
      },
      "source": [
        "<a href=\"https://colab.research.google.com/github/j-claudinei-f/j-claudinei-f/blob/main/Recorrencias_Exerc%C3%ADcios.ipynb\" target=\"_parent\"><img src=\"https://colab.research.google.com/assets/colab-badge.svg\" alt=\"Open In Colab\"/></a>"
      ]
    },
    {
      "cell_type": "markdown",
      "source": [
        "#**Relacões de recorrência e problemas de contagem**\n",
        "\n",
        "José Claudinei Ferreira\n",
        "\n",
        "Universidade Federal de Alfenas"
      ],
      "metadata": {
        "id": "sRt7yR5vvH44"
      }
    },
    {
      "cell_type": "markdown",
      "source": [
        "**Problema 1:** Ana, Erica, Karine, Jaqueline, Lucas e Otávio trabalham em uma empresa.\n",
        "\n",
        "a) Supondo que a empresa possua $4$ atividades distintas para serem distribuidas entre essas seis pessoas. Determine de quantas formas essas atividades podem ser atribuidas, de tal forma que a Ana fique com número ímpar de atividades.\n",
        "\n",
        "b) Supondo que a empresa possua $n$ atividades para serem distribuidas entre essas seis pessoas. Seja $a_n$ a quantidade de formas que essas atividades podem ser atribuidas, de tal forma que a Ana fique com número ímpar de atividades. Use recorrência para determinar $a_n$.\n",
        "\n",
        "c) Resolva a recorrência que determina $a_n$."
      ],
      "metadata": {
        "id": "qVjkoy5V0Ixq"
      }
    },
    {
      "cell_type": "markdown",
      "source": [
        "**Problema 2:** a) Use o binômio de Newtom para escrever uma expressão polinomial para $(k+1)^4$. Por exemplo, $(k+1)^3=k^3+3k^2+3k+1$.\n",
        "\n",
        "b) Determine $$p(n)=\\sum_{k=1}^nk^4,$$ que é um polinômio de grau 5, usando o item a)."
      ],
      "metadata": {
        "id": "roZLwPsJvKD8"
      }
    },
    {
      "cell_type": "markdown",
      "source": [
        "**Problema 3:** Resolver a relação de recorrência $$a_{n+1}=2a_n+3n-1,\\qquad a_1=1.$$"
      ],
      "metadata": {
        "id": "Jt91qHuVuwva"
      }
    }
  ]
}