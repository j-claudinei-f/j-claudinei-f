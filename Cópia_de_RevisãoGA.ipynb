{
  "nbformat": 4,
  "nbformat_minor": 0,
  "metadata": {
    "colab": {
      "provenance": [],
      "authorship_tag": "ABX9TyOa0whqtq6Pega5d8JmmJFF",
      "include_colab_link": true
    },
    "kernelspec": {
      "name": "python3",
      "display_name": "Python 3"
    },
    "language_info": {
      "name": "python"
    }
  },
  "cells": [
    {
      "cell_type": "markdown",
      "metadata": {
        "id": "view-in-github",
        "colab_type": "text"
      },
      "source": [
        "<a href=\"https://colab.research.google.com/github/j-claudinei-f/j-claudinei-f/blob/main/C%C3%B3pia_de_Revis%C3%A3oGA.ipynb\" target=\"_parent\"><img src=\"https://colab.research.google.com/assets/colab-badge.svg\" alt=\"Open In Colab\"/></a>"
      ]
    },
    {
      "cell_type": "markdown",
      "source": [
        "#**Álgebra Linear: Introdução - Revisão**\n",
        "\n",
        "José Claudinei Ferreira\n",
        "\n",
        "Universidade Federal de Alfenas"
      ],
      "metadata": {
        "id": "4YKH7yKHaWHY"
      }
    },
    {
      "cell_type": "markdown",
      "source": [
        "#**Um problema para pensarmos:**\n",
        "\n",
        "Sejam $u=(1,3,5)$, $v=(1,2,3)$, $w=(1,4,5)$ e $k=(1,1,1)$.\n",
        "Resolva o sistema linear $$\\alpha u+\\beta v+\\gamma w=k.$$"
      ],
      "metadata": {
        "id": "mh9edyGFIYxs"
      }
    },
    {
      "cell_type": "markdown",
      "source": [
        "Vejamos por eliminação se o conjunto $\\{u,v,w\\}$ é mesmo L.I. Vamos escrever a matriz $M$, cujas linhas são $u$, $v$ e $w$:\n",
        "$$M=\\begin{bmatrix}1&3&5\\\\1&2&3\\\\1&4&5\\end{bmatrix}.$$"
      ],
      "metadata": {
        "id": "gLHNE1r9cH2L"
      }
    },
    {
      "cell_type": "code",
      "source": [
        "import numpy as np    # Pacote para usar Álgebra Linear\n",
        "\n",
        "u,v,w=np.array([1,3,5]), np.array([1,2,3]), np.array([1,4,5])\n",
        "M=np.array([u,v,w])\n",
        "\n",
        "M"
      ],
      "metadata": {
        "colab": {
          "base_uri": "https://localhost:8080/"
        },
        "id": "Y9Qv9MWdcR5E",
        "outputId": "67cdca7b-87f5-4c07-fd12-f353c8bc3c83"
      },
      "execution_count": null,
      "outputs": [
        {
          "output_type": "execute_result",
          "data": {
            "text/plain": [
              "array([[1, 3, 5],\n",
              "       [1, 2, 3],\n",
              "       [1, 4, 5]])"
            ]
          },
          "metadata": {},
          "execution_count": 1
        }
      ]
    },
    {
      "cell_type": "markdown",
      "source": [
        "Subtraindo $u$ de $v$ e de $w$ temos a matriz $M_1$:"
      ],
      "metadata": {
        "id": "rbvArcdsdAPB"
      }
    },
    {
      "cell_type": "code",
      "source": [
        "M1=np.array([u,v-u,w-u])\n",
        "\n",
        "print('M1 é obtido escalonado primeira coluna de M','\\n M1=', M1)"
      ],
      "metadata": {
        "colab": {
          "base_uri": "https://localhost:8080/"
        },
        "id": "QBlY8U2JddtH",
        "outputId": "38fbb63a-00fd-46bc-f2e5-51d5a418a662"
      },
      "execution_count": null,
      "outputs": [
        {
          "output_type": "stream",
          "name": "stdout",
          "text": [
            "M1 é obtido escalonado primeira coluna de M \n",
            " M1= [[ 1  3  5]\n",
            " [ 0 -1 -2]\n",
            " [ 0  1  0]]\n"
          ]
        }
      ]
    },
    {
      "cell_type": "markdown",
      "source": [
        " <font color=green> Ou seja, $$\\begin{cases}v-u=(0, -1, -2)\\qquad \\text{Linha 2 menos linha 1}\\\\\\\\w-u=(0,1,0)\\qquad \\text{Linha 3 menos linha 1}\\\\\\\\(w-u)+(v-u)=w+v-2u=(0,0,-2)\\qquad \\text{Linha 3 mais linha 2}\\end{cases}\\tag{Eliminação}$$"
      ],
      "metadata": {
        "id": "tV8tflbh5bHc"
      }
    },
    {
      "cell_type": "markdown",
      "source": [
        " <font color=blue> Em particular, temos que $$w=2u-v+(0,0,-2).$$"
      ],
      "metadata": {
        "id": "sBWkKz3MzsNj"
      }
    },
    {
      "cell_type": "markdown",
      "source": [
        "Isso já nos dá a matriz M escalonada com $$\\begin{bmatrix}1&3&5\\\\0&-1&-2\\\\0&0&2\\end{bmatrix}$$\n",
        "\n"
      ],
      "metadata": {
        "id": "jYYmqhf9ewTH"
      }
    },
    {
      "cell_type": "markdown",
      "source": [
        "**Obs:** Note que $$u-\\frac{1}{2}v-\\frac{1}{2}w=(0,0,1)$$ e que $$u-3(0,1,0)-5(0,0,1)=u-3(w-u)-5(u-\\frac{1}{2}v-\\frac{1}{2}w)=-u+\\frac{5}{2}v-\\frac{1}{2}w=(1,0,0)$$ que $w$ não pode ser escrito como soma das duas primeiras.\n",
        "\n",
        "Nesse processo de escrever \\begin{cases}-u+\\frac{5}{2}v-\\frac{1}{2}w&=&(1,0,0)\\\\w-u&=&(0,1,0)\\\\u-\\frac{1}{2}v-\\frac{1}{2}w&=&(0,0,1)\\end{cases} estamos calculando a matriz inversa de $$M=\\begin{bmatrix}1& 3& 5\\\\1&2& 3\\\\1& 4& 5\\end{bmatrix},$$ cujas linhas são os vetores $u$, $v$ e $w$, que é $$M^{-1}=\\begin{bmatrix}-1&\\frac{5}{2}&\\frac{-1}{2}\\\\-1&0&1\\\\1&\\frac{-1}{2}&\\frac{-1}{2}\\end{bmatrix}.$$"
      ],
      "metadata": {
        "id": "Pky3X7K_Blwf"
      }
    },
    {
      "cell_type": "markdown",
      "source": [
        "Isso porque, por exemplo, podemos escrever $-u+\\frac{5}{2}v-\\frac{1}{2}w=(1,0,0)$ na forma matricial como:\n",
        "\n",
        "$$\\begin{bmatrix}-1&\\frac{5}{2}&-\\frac{1}{2}\\end{bmatrix}\\begin{bmatrix}1& 3& 5\\\\1&2& 3\\\\1& 4& 5\\end{bmatrix}=\\begin{bmatrix}1&0&0\\end{bmatrix}.$$"
      ],
      "metadata": {
        "id": "O1_rNlaZ3jUL"
      }
    },
    {
      "cell_type": "code",
      "source": [
        "np.linalg.inv(M)"
      ],
      "metadata": {
        "colab": {
          "base_uri": "https://localhost:8080/"
        },
        "id": "WBAzWnNvEoMu",
        "outputId": "ceccfc56-aa73-4833-fe8f-cbe8dcf569d4"
      },
      "execution_count": null,
      "outputs": [
        {
          "output_type": "execute_result",
          "data": {
            "text/plain": [
              "array([[-1. ,  2.5, -0.5],\n",
              "       [-1. , -0. ,  1. ],\n",
              "       [ 1. , -0.5, -0.5]])"
            ]
          },
          "metadata": {},
          "execution_count": 3
        }
      ]
    },
    {
      "cell_type": "markdown",
      "source": [
        "Seguindo esse raciocínio, podemos escrever a expressão da Eliminação de Gauss, como:\n",
        "\n",
        "$$\\begin{bmatrix}1&0&0\\\\-1&1&0\\\\-1&0&1\\end{bmatrix}\\begin{bmatrix}1& 3& 5\\\\1&2& 3\\\\1& 4& 5\\end{bmatrix}=\\begin{bmatrix}1& 3& 5\\\\0&-1&-2\\\\0&1&0\\end{bmatrix},$$ para descrever o processo de escalonar na primeira coluna:\n",
        "\n",
        "<font color=green> $$\\begin{cases}v-u=(0, -1, -2)\\qquad \\text{Linha 2 menos linha 1}\\\\\\\\w-u=(0,1,0)\\qquad \\text{Linha 3 menos linha 1}\\end{cases}\\tag{Eliminação inicial}.$$\n",
        "\n",
        "A segunda parte da eliminação, dada por <font color=green> $$(w-u)+(v-u)=w+v-2u=(0,0,-2)\\Longrightarrow  u-\\frac{1}{2}v-\\frac{1}{2}w=(0,0,1)\\qquad \\text{Linha 3 mais linha 2}$$\n",
        "\n",
        "pode ser escrita na forma matricial como:\n",
        "\n",
        "$$\\begin{bmatrix}1&0&0\\\\0&1&0\\\\0&1&1\\end{bmatrix}\\begin{bmatrix}1&0&0\\\\-1&1&0\\\\-1&0&1\\end{bmatrix}\\begin{bmatrix}1& 3& 5\\\\1&2& 3\\\\1& 4& 5\\end{bmatrix}=\\begin{bmatrix}1&0&0\\\\0&1&0\\\\0&1&1\\end{bmatrix}\\begin{bmatrix}1& 3& 5\\\\0&-1&-2\\\\0&1&0\\end{bmatrix}=\\begin{bmatrix}1& 3& 5\\\\0&-1&-2\\\\0&0&-2\\end{bmatrix},$$ para descrever o processo de escalonar na primeira e na segunda coluna.\n",
        "\n",
        "Denotando por $$U=\\begin{bmatrix}1& 3& 5\\\\0&-1&-2\\\\0&0&-2\\end{bmatrix}$$ e\n",
        " $$L^{-1}=\\begin{bmatrix}1&0&0\\\\0&1&0\\\\0&1&1\\end{bmatrix}\\begin{bmatrix}1&0&0\\\\-1&1&0\\\\-1&0&1\\end{bmatrix}=\\begin{bmatrix}1&0&0\\\\-1&1&0\\\\-2&1&1\\end{bmatrix}$$ temos que $M=LU$, para $$L=\\begin{bmatrix}1&0&0\\\\1&1&0\\\\2&-1&1\\end{bmatrix}.$$\n"
      ],
      "metadata": {
        "id": "G05piNIC5M7a"
      }
    },
    {
      "cell_type": "code",
      "source": [
        "L1=np.array([[1,0,0],[-1,1,0],[-1,0,1]])\n",
        "\n",
        "L1,L1@M"
      ],
      "metadata": {
        "colab": {
          "base_uri": "https://localhost:8080/"
        },
        "id": "uJb5EG63_cOL",
        "outputId": "385092ae-9982-4296-dd2c-4b1f54db5a8b"
      },
      "execution_count": null,
      "outputs": [
        {
          "output_type": "execute_result",
          "data": {
            "text/plain": [
              "(array([[ 1,  0,  0],\n",
              "        [-1,  1,  0],\n",
              "        [-1,  0,  1]]),\n",
              " array([[ 1,  3,  5],\n",
              "        [ 0, -1, -2],\n",
              "        [ 0,  1,  0]]))"
            ]
          },
          "metadata": {},
          "execution_count": 4
        }
      ]
    },
    {
      "cell_type": "code",
      "source": [
        "L2=np.array([[1,0,0],[0,1,0],[0,1,1]])\n",
        "Li=L2@L1\n",
        "U=Li@M\n",
        "L2,Li,U"
      ],
      "metadata": {
        "colab": {
          "base_uri": "https://localhost:8080/"
        },
        "id": "3GFXqEJBAeej",
        "outputId": "3c6827e4-2050-4f0a-8d6f-a4e0df5b696c"
      },
      "execution_count": null,
      "outputs": [
        {
          "output_type": "execute_result",
          "data": {
            "text/plain": [
              "(array([[1, 0, 0],\n",
              "        [0, 1, 0],\n",
              "        [0, 1, 1]]),\n",
              " array([[ 1,  0,  0],\n",
              "        [-1,  1,  0],\n",
              "        [-2,  1,  1]]),\n",
              " array([[ 1,  3,  5],\n",
              "        [ 0, -1, -2],\n",
              "        [ 0,  0, -2]]))"
            ]
          },
          "metadata": {},
          "execution_count": 5
        }
      ]
    },
    {
      "cell_type": "code",
      "source": [
        "L=np.linalg.inv(Li)\n",
        "L,L@U"
      ],
      "metadata": {
        "colab": {
          "base_uri": "https://localhost:8080/"
        },
        "id": "p4F8omisBciy",
        "outputId": "b6af4a5d-98de-4b9d-cb37-5f302075e9d9"
      },
      "execution_count": null,
      "outputs": [
        {
          "output_type": "execute_result",
          "data": {
            "text/plain": [
              "(array([[ 1., -0., -0.],\n",
              "        [ 1.,  1.,  0.],\n",
              "        [ 1., -1.,  1.]]),\n",
              " array([[1., 3., 5.],\n",
              "        [1., 2., 3.],\n",
              "        [1., 4., 5.]]))"
            ]
          },
          "metadata": {},
          "execution_count": 6
        }
      ]
    },
    {
      "cell_type": "markdown",
      "source": [
        "Por fim, nosso problema inicial $$\\alpha u+\\beta v+\\gamma w=k$$ toma a forma matricial $$\\begin{bmatrix}\\alpha &\\beta &\\gamma\\end{bmatrix}M=k$$ ou $$\\begin{bmatrix}\\alpha &\\beta &\\gamma\\end{bmatrix}=kM^{-1}=\\begin{bmatrix}1&1&1\\end{bmatrix}\\begin{bmatrix}-1&\\frac{5}{2}&\\frac{-1}{2}\\\\-1&0&1\\\\1&\\frac{-1}{2}&\\frac{-1}{2}\\end{bmatrix}=\\begin{bmatrix}-1&2&0\\end{bmatrix}.$$"
      ],
      "metadata": {
        "id": "XU2cQfeP33oI"
      }
    },
    {
      "cell_type": "code",
      "source": [
        "-u+2*v"
      ],
      "metadata": {
        "id": "-5__bH826JnX",
        "outputId": "810abe2b-efaf-4a8b-b257-ff47745d8209",
        "colab": {
          "base_uri": "https://localhost:8080/"
        }
      },
      "execution_count": null,
      "outputs": [
        {
          "output_type": "execute_result",
          "data": {
            "text/plain": [
              "array([1, 1, 1])"
            ]
          },
          "metadata": {},
          "execution_count": 7
        }
      ]
    },
    {
      "cell_type": "markdown",
      "source": [
        "#**Sobre núcleo de matriz, espaço linha e espaço coluna**"
      ],
      "metadata": {
        "id": "CthyuXzImp-3"
      }
    },
    {
      "cell_type": "markdown",
      "source": [
        "Considere os vetores $u_1=(1,2,2)$, $u_2=(2,5,4)$, $u_3=(1,3,2)$, $u_4=(2,7,4)$ e $u_5=(1,1,0)$."
      ],
      "metadata": {
        "id": "mL6Cabatm64_"
      }
    },
    {
      "cell_type": "markdown",
      "source": [
        "Considere agora a matriz $$A=\\begin{bmatrix}1 &2& 2\\\\2& 5& 4\\\\1& 3& 2\\\\2& 7& 4\\\\1& 1& 0\\end{bmatrix}\\approx \\begin{bmatrix} 1 & 2 & 2\\\\\n",
        "  0&  1 & 0\\\\ 0 & 1 & 0\\\\ 0 & 3 & 0\\\\ 0 &-1 &-2\\end{bmatrix}\\approx \\begin{bmatrix} 1 & 2&  2\\\\ 0 & 1&  0\\\\ 0 & 0 & 0\\\\ 0 & 0 & 0\\\\ 0 & 0 &-2\\end{bmatrix},$$ aqui $\\approx $ denota o processo de escalonamento ou eliminação de Gauss."
      ],
      "metadata": {
        "id": "78TwoKz2pHM4"
      }
    },
    {
      "cell_type": "markdown",
      "source": [
        "a) Determine uma base para o espaço $W$, gerado pelo conjunto $\\mathcal{A}=\\{u_1,\\,u_2,\\,u_3,\\,u_4,\\,u_5\\}$, que é o espaço linha de $A$.\n",
        "\n",
        "b) Determine o núcleo de $A$."
      ],
      "metadata": {
        "id": "ZTrp32o9Tnql"
      }
    },
    {
      "cell_type": "markdown",
      "source": [
        "**a) Uma solução:**"
      ],
      "metadata": {
        "id": "1KFZeNA9T4CV"
      }
    },
    {
      "cell_type": "markdown",
      "source": [
        "Usando o processo de eliminação nas linhas de $A$. Obtemos:\n",
        "\\begin{cases}u_2'&=&u_2-2u_1\\\\u_3'&=& u_3-u_1\\\\u_4'&=&u_4-2u_1\\\\u_5'&=&u_5-u_1\\end{cases} Depois \\begin{cases}0&=&u_3'-u_2'\\\\0&=& u_4'-3u_2'\\\\u_5''&=&u_5'+u_2'\\end{cases} O que nos dá \\begin{cases}u_3'=u_2'&=&u_2-2u_1\\\\u_4'=3u_2'&=&3u_2-6u_1\\\\u_5''&=&u_5-3u_1+u_2\\end{cases}"
      ],
      "metadata": {
        "id": "gpGWJJc-qoAw"
      }
    },
    {
      "cell_type": "markdown",
      "source": [
        "Segue que $\\mathcal{B}=\\{u_1,\\,u_2,\\,u_5\\}$ é uma base para o espaço $W$."
      ],
      "metadata": {
        "id": "4kxkgP4FUOQk"
      }
    },
    {
      "cell_type": "markdown",
      "source": [
        "**b) Uma solução:** O núcleo de $A$ é o conjunto $$N(A)=\\left\\{\\alpha=\\begin{bmatrix}\\alpha_1\\\\\\alpha_2\\\\\\alpha_3\\end{bmatrix}\\in \\mathbb{R}^3\\big | A\\alpha=\\begin{bmatrix}1 &2& 2\\\\2& 5& 4\\\\1& 3& 2\\\\2& 7& 4\\\\1& 1& 0\\end{bmatrix}\\begin{bmatrix}\\alpha_1\\\\\\alpha_2\\\\\\alpha_3\\end{bmatrix}=\\begin{bmatrix}0\\\\0\\\\0\\\\0\\\\0\\end{bmatrix}\\right\\}.$$ Usando a forma escalonada de $A$ obtemos que $A\\alpha=0$ apenas quando $\\alpha=0$ Então $N(A)=\\{(0,0,0)\\}$."
      ],
      "metadata": {
        "id": "zxZQs6xJUuhc"
      }
    },
    {
      "cell_type": "markdown",
      "source": [
        "**Alguns cálculos a seguir:**"
      ],
      "metadata": {
        "id": "nzlYHZACTETM"
      }
    },
    {
      "cell_type": "code",
      "source": [
        "import numpy as np\n",
        "u1=np.array([1,2,2])\n",
        "u2=np.array([2,5,4])\n",
        "u3=np.array([1,3,2])\n",
        "u4=np.array([2,7,4])\n",
        "u5=np.array([1,1,0])\n",
        "\n",
        "A=np.array([u1,u2,u3,u4,u5])\n",
        "print('A=\\n',A)\n"
      ],
      "metadata": {
        "colab": {
          "base_uri": "https://localhost:8080/"
        },
        "id": "sz1K6eAdnaP_",
        "outputId": "a130ded4-d2d4-40b0-84bd-727766c6428f"
      },
      "execution_count": null,
      "outputs": [
        {
          "output_type": "stream",
          "name": "stdout",
          "text": [
            "A=\n",
            " [[1 2 2]\n",
            " [2 5 4]\n",
            " [1 3 2]\n",
            " [2 7 4]\n",
            " [1 1 0]]\n"
          ]
        }
      ]
    },
    {
      "cell_type": "code",
      "source": [
        "A[1]=A[1]-2*A[0]\n",
        "A[2]=A[2]-A[0]\n",
        "A[3]=A[3]-2*A[0]\n",
        "A[4]=A[4]-A[0]\n",
        "print('A=\\n',A)"
      ],
      "metadata": {
        "colab": {
          "base_uri": "https://localhost:8080/"
        },
        "id": "5T-utyB5tpxA",
        "outputId": "f4021359-b289-4e17-ca1f-3918457b4cc4"
      },
      "execution_count": null,
      "outputs": [
        {
          "output_type": "stream",
          "name": "stdout",
          "text": [
            "A=\n",
            " [[ 1  2  2]\n",
            " [ 0  1  0]\n",
            " [ 0  1  0]\n",
            " [ 0  3  0]\n",
            " [ 0 -1 -2]]\n"
          ]
        }
      ]
    },
    {
      "cell_type": "code",
      "source": [
        "A[2]=A[2]-A[1]\n",
        "A[3]=A[3]-3*A[1]\n",
        "A[4]=A[4]+A[1]\n",
        "print('A=\\n',A)"
      ],
      "metadata": {
        "colab": {
          "base_uri": "https://localhost:8080/"
        },
        "id": "ghquyM6rt2WQ",
        "outputId": "aff819e7-7c05-43bb-eae9-2e98fad39cb8"
      },
      "execution_count": null,
      "outputs": [
        {
          "output_type": "stream",
          "name": "stdout",
          "text": [
            "A=\n",
            " [[ 1  2  2]\n",
            " [ 0  1  0]\n",
            " [ 0  0  0]\n",
            " [ 0  0  0]\n",
            " [ 0  0 -2]]\n"
          ]
        }
      ]
    },
    {
      "cell_type": "markdown",
      "source": [
        "O processo de eliminação pode ser reescrito como\n",
        "pode ser escrita na forma matricial como:\n",
        "\n",
        "$$\\begin{bmatrix}1&0&0&0&0\\\\0&1&0&0&0\\\\0&-1&1&0&0\\\\0&-3&0&1&0\\\\0&1&0&0&1\\end{bmatrix}\\begin{bmatrix}1&0&0&0&0\\\\-2&1&0&0&0\\\\-1&0&1&0&0\\\\-2&0&0&1&0\\\\-1&0&0&0&1\\end{bmatrix}\\begin{bmatrix}1 &2& 2\\\\2& 5& 4\\\\1& 3& 2\\\\2& 7& 4\\\\1& 1& 0\\end{bmatrix}=\\begin{bmatrix}1&0&0&0&0\\\\0&1&0&0&0\\\\0&-1&1&0&0\\\\0&-3&0&1&0\\\\0&1&0&0&1\\end{bmatrix} \\begin{bmatrix} 1 & 2 & 2\\\\\n",
        "  0&  1 & 0\\\\ 0 & 1 & 0\\\\ 0 & 3 & 0\\\\ 0 &-1 &-2\\end{bmatrix}= \\begin{bmatrix} 1 & 2&  2\\\\ 0 & 1&  0\\\\ 0 & 0 & 0\\\\ 0 & 0 & 0\\\\ 0 & 0 &-2\\end{bmatrix}.$$\n",
        "\n",
        "Denotando por $$L^{-1}=L_2L_1\\Longrightarrow L=L_1^{-1}L_2^{-1},$$ $$L_2=\\begin{bmatrix}1&0&0&0&0\\\\0&1&0&0&0\\\\0&-1&1&0&0\\\\0&-3&0&1&0\\\\0&1&0&0&1\\end{bmatrix},$$ $$L_1=\\begin{bmatrix}1&0&0&0&0\\\\-2&1&0&0&0\\\\-1&0&1&0&0\\\\-2&0&0&1&0\\\\-1&0&0&0&1\\end{bmatrix}$$ e $$U= \\begin{bmatrix} 1 & 2&  2\\\\ 0 & 1&  0\\\\ 0 & 0 & 0\\\\ 0 & 0 & 0\\\\ 0 & 0 &-2\\end{bmatrix},$$ temos que $$A=LU.$$"
      ],
      "metadata": {
        "id": "WcKAt0etvWNx"
      }
    },
    {
      "cell_type": "code",
      "source": [
        "U=np.array([[1,2,2],[0,1,0],[0,0,0],[0,0,0],[0,0,-2]])\n",
        "U"
      ],
      "metadata": {
        "colab": {
          "base_uri": "https://localhost:8080/"
        },
        "id": "_zVIFMcoov8f",
        "outputId": "38ebbedb-3f27-4eae-e796-da5e8b30f8dd"
      },
      "execution_count": null,
      "outputs": [
        {
          "output_type": "execute_result",
          "data": {
            "text/plain": [
              "array([[ 1,  2,  2],\n",
              "       [ 0,  1,  0],\n",
              "       [ 0,  0,  0],\n",
              "       [ 0,  0,  0],\n",
              "       [ 0,  0, -2]])"
            ]
          },
          "metadata": {},
          "execution_count": 4
        }
      ]
    },
    {
      "cell_type": "code",
      "source": [
        "L1=  np.array([[1,0,0,0,0],[-2,1,0,0,0],[-1,0,1,0,0],[-2,0,0,1,0],[-1,0,0,0,1]])\n",
        "L1"
      ],
      "metadata": {
        "colab": {
          "base_uri": "https://localhost:8080/"
        },
        "id": "EJMzAV-_7Sh8",
        "outputId": "3b4879d9-24fe-4da9-f10c-46f6d65924d2"
      },
      "execution_count": null,
      "outputs": [
        {
          "output_type": "execute_result",
          "data": {
            "text/plain": [
              "array([[ 1,  0,  0,  0,  0],\n",
              "       [-2,  1,  0,  0,  0],\n",
              "       [-1,  0,  1,  0,  0],\n",
              "       [-2,  0,  0,  1,  0],\n",
              "       [-1,  0,  0,  0,  1]])"
            ]
          },
          "metadata": {},
          "execution_count": 5
        }
      ]
    },
    {
      "cell_type": "code",
      "source": [
        "L2 = np.array([[1, 0, 0, 0, 0],\n",
        "              [0, 1, 0, 0, 0],\n",
        "              [0, -1, 1, 0, 0],\n",
        "              [0, -3, 0, 1, 0],\n",
        "              [0, 1, 0, 0, 1]])\n",
        "L2\n"
      ],
      "metadata": {
        "colab": {
          "base_uri": "https://localhost:8080/"
        },
        "id": "OQedcvmP7t_s",
        "outputId": "bdba8125-be39-42cc-ffa8-a3128abda70b"
      },
      "execution_count": null,
      "outputs": [
        {
          "output_type": "execute_result",
          "data": {
            "text/plain": [
              "array([[ 1,  0,  0,  0,  0],\n",
              "       [ 0,  1,  0,  0,  0],\n",
              "       [ 0, -1,  1,  0,  0],\n",
              "       [ 0, -3,  0,  1,  0],\n",
              "       [ 0,  1,  0,  0,  1]])"
            ]
          },
          "metadata": {},
          "execution_count": 6
        }
      ]
    },
    {
      "cell_type": "code",
      "source": [
        "L=np.linalg.inv(L1)@np.linalg.inv(L2)\n",
        "L"
      ],
      "metadata": {
        "colab": {
          "base_uri": "https://localhost:8080/"
        },
        "id": "XXPneJWA8ItE",
        "outputId": "dc778ae8-8061-4bac-b3e4-8322d7f305e8"
      },
      "execution_count": null,
      "outputs": [
        {
          "output_type": "execute_result",
          "data": {
            "text/plain": [
              "array([[ 1.,  0.,  0.,  0.,  0.],\n",
              "       [ 2.,  1.,  0.,  0.,  0.],\n",
              "       [ 1.,  1.,  1.,  0.,  0.],\n",
              "       [ 2.,  3.,  0.,  1.,  0.],\n",
              "       [ 1., -1.,  0.,  0.,  1.]])"
            ]
          },
          "metadata": {},
          "execution_count": 7
        }
      ]
    },
    {
      "cell_type": "code",
      "source": [
        "L@U"
      ],
      "metadata": {
        "id": "cwZUlkVb-MPs",
        "outputId": "cbae5979-917c-45e9-ceab-61b69fee787f",
        "colab": {
          "base_uri": "https://localhost:8080/"
        }
      },
      "execution_count": null,
      "outputs": [
        {
          "output_type": "execute_result",
          "data": {
            "text/plain": [
              "array([[1., 2., 2.],\n",
              "       [2., 5., 4.],\n",
              "       [1., 3., 2.],\n",
              "       [2., 7., 4.],\n",
              "       [1., 1., 0.]])"
            ]
          },
          "metadata": {},
          "execution_count": 8
        }
      ]
    },
    {
      "cell_type": "markdown",
      "source": [
        "#**Para treinar:**\n",
        "\n",
        "Usem a calculadora aqui do Colab para resolver os exercícios 1, 2 e 3 da Seção 3.6 do [livro do Lion](chrome-extension://efaidnbmnnnibpcajpcglclefindmkaj/https://docs.ufpr.br/~higidio/Ensino/Books/Leon%28Algebra%20linear%29.pdf)."
      ],
      "metadata": {
        "id": "sgeg1B24a4g_"
      }
    }
  ]
}