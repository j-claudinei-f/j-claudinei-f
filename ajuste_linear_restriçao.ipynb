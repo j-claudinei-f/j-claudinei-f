{
  "nbformat": 4,
  "nbformat_minor": 0,
  "metadata": {
    "colab": {
      "provenance": [],
      "authorship_tag": "ABX9TyOiX4InN2GyxoS7IEKVM81H",
      "include_colab_link": true
    },
    "kernelspec": {
      "name": "python3",
      "display_name": "Python 3"
    },
    "language_info": {
      "name": "python"
    }
  },
  "cells": [
    {
      "cell_type": "markdown",
      "metadata": {
        "id": "view-in-github",
        "colab_type": "text"
      },
      "source": [
        "<a href=\"https://colab.research.google.com/github/j-claudinei-f/j-claudinei-f/blob/main/ajuste_linear_restri%C3%A7ao.ipynb\" target=\"_parent\"><img src=\"https://colab.research.google.com/assets/colab-badge.svg\" alt=\"Open In Colab\"/></a>"
      ]
    },
    {
      "cell_type": "markdown",
      "source": [
        "#**Cálculo Numérico:**\n",
        "\n",
        "**Ajuste de curvas: caso linear com restrições**\n",
        "\n",
        "\n",
        " *José Claudinei Ferrreira*\n",
        "\n",
        " *Universidade Federal de Alfenas (UNIFAL-MG)*"
      ],
      "metadata": {
        "id": "9C_ugCud8ZgO"
      }
    },
    {
      "cell_type": "markdown",
      "source": [
        "#**Exemplo:**\n",
        "\n",
        "Cosidere $x=(1.3,\t3.4,\t5.1,\t6.8,\t8.0)$ e $\n",
        "f(x)\\approx y=(\t2.0,\t3.2,\t3.8,\t4.7,\t5.8)$.\n",
        "A partir dos dados disponíveis, pode-se desejar saber uma estimativa do valor da função  $f(s)$ em $s= 9$."
      ],
      "metadata": {
        "id": "CftwxXhp9gPy"
      }
    },
    {
      "cell_type": "markdown",
      "source": [
        "Vejamos isso gráficamante:"
      ],
      "metadata": {
        "id": "wpx-v7so9gPz"
      }
    },
    {
      "cell_type": "code",
      "source": [
        "import numpy as np\n",
        "x=[1.3,\t3.4,\t5.1,\t6.8,\t8.0]\n",
        "x=np.array(x)\n",
        "y=[2.0,\t3.2,\t3.8,\t4.7,\t5.8]\n",
        "\n",
        "import matplotlib.pyplot as plt\n",
        "\n",
        "plt.plot(x,y,'o')\n",
        "plt.show()"
      ],
      "metadata": {
        "colab": {
          "base_uri": "https://localhost:8080/",
          "height": 430
        },
        "outputId": "cb082e43-7f8b-4840-b698-25b6113a8139",
        "id": "uKi348M79gPz"
      },
      "execution_count": 65,
      "outputs": [
        {
          "output_type": "display_data",
          "data": {
            "text/plain": [
              "<Figure size 640x480 with 1 Axes>"
            ],
            "image/png": "[encoded data removed]"
          },
          "metadata": {}
        }
      ]
    },
    {
      "cell_type": "markdown",
      "source": [
        "Dada a forma do gráfico optamos por escolher $$f(s)\\approx as^2+bs+c.$$ Isso e os dados da tabela produzem a expressão\n",
        "$$ F(u)=\\begin{bmatrix}f_1(x_1)&f_2(x_1)&f_3(x_1)\\\\\\\\\n",
        "f_1(x_2)&f_2(x_2)&f_3(x_2)\\\\\n",
        "\\vdots&\\vdots\\\\\n",
        "f_1(x_5)&f_2(x_5)&f_3(x_5)\\end{bmatrix}\\begin{bmatrix}a\\\\\\\\b\\\\\\\\c\\end{bmatrix}-\\begin{bmatrix}y_1\\\\\\\\y_2\\\\\\vdots\\\\y_5\\end{bmatrix}\\approx \\begin{bmatrix}0\\\\\\\\0\\\\\\vdots\\\\0\\end{bmatrix},$$\n",
        "\n",
        "em que $f_1(s)=s^2$, $f_2(s)=s$ e $f_3(s)=1$ e $u=(a,b,c,d)^T$.\n",
        "\n",
        "<font color=blue> Como já lidamos com esse problema no  [Exemplo 2](https://github.com/j-claudinei-f/j-claudinei-f/blob/main/Ajuste_de_curvas_linear.ipynb), vamos supor que $f(x_i)\\leq y_i$, para $1\\leq i\\leq 5$.\n",
        "\n",
        "\n",
        "\n"
      ],
      "metadata": {
        "id": "en7n81xw9gPz"
      }
    },
    {
      "cell_type": "markdown",
      "source": [
        "o que equivale ao sistema linear\n",
        "$$ \\begin{bmatrix}1.3^2&1.3&1\\\\\\\\3.4^2&3.4&1\\\\\\\\5.1^2&5.1&1\\\\\\\\6.8^2&6.8&1\\\\\\\\8.0^2&8.0&1\\end{bmatrix}\\begin{bmatrix}a\\\\\\\\b\\\\\\\\c\\end{bmatrix}\\approx\\begin{bmatrix}2.0\\\\\\\\ 3.2\\\\\\\\ 3.8\\\\\\\\ 4.7\\\\\\\\5.8\\end{bmatrix},\\tag{1}$$ com a restrição\n",
        "$$ \\begin{bmatrix}1.3^2&1.3&1\\\\\\\\3.4^2&3.4&1\\\\\\\\5.1^2&5.1&1\\\\\\\\6.8^2&6.8&1\\\\\\\\8.0^2&8.0&1\\end{bmatrix}\\begin{bmatrix}a\\\\\\\\b\\\\\\\\c\\end{bmatrix}\\leq\\begin{bmatrix}2.0\\\\\\\\ 3.2\\\\\\\\ 3.8\\\\\\\\ 4.7\\\\\\\\5.8\\end{bmatrix}.\\tag{2}$$\n"
      ],
      "metadata": {
        "id": "MxQ413cNV3cU"
      }
    },
    {
      "cell_type": "markdown",
      "source": [
        "Podemos verificar rápidamente (olhando o [Exemplo 2](https://github.com/j-claudinei-f/j-claudinei-f/blob/main/Ajuste_de_curvas_linear.ipynb)) que o sistema linear $(1)$ não tem solução. E que a solução que minimiza a função $$g(u)=\\frac{1}{2}\\|F(u)\\|^2=\\frac{1}{2}F(u)^TF(u),$$ em que $u=(a,b,c,d)$, $$F(u)=Au-y,$$ sendo $A$ é a matriz do sistema acima, não satisfaz à restrição $(2)$."
      ],
      "metadata": {
        "id": "3Fo1oe929gPz"
      }
    },
    {
      "cell_type": "markdown",
      "source": [
        "Uma forma de resolver o problema com restrições é usar os argumentos que temos usado nas últimas discussões, ou seja, resolvemos numericamente a equação diferencial  \n",
        "$$\\begin{cases} u'&=&R(u)\\\\\\\\u(0)&=&u_0\\end{cases},\\tag{3}$$ em que\n",
        " $$R(u)=\\begin{cases} -\\nabla g(u),&\\text{se $(2)$ for satisfeito} \\\\\\\\-\\nabla g_i(u),&\\text{se $g_i(u)>0$}\\end{cases},\\tag{3*}$$ em que $$g_i(u)=ax_i^2+b x_i+c-y_i,$$ para determinar ponto de mínimo aproximado de $g(u)$, de acordo com as restrições impostas.\n",
        "\n",
        "Lembre-se que que $$\\nabla g(u)=\\left[JF(u)\\right]^TF(u),$$ em que $\\left[JF(u)\\right]^T$ denota a transposta da matriz jacobiana de $F(u)$, que nesse caso toma a forma\n",
        " $$JF(u)=A,\\qquad \\nabla g(u)=A^T(Au-v).$$\n",
        "\n",
        "\n",
        "\n"
      ],
      "metadata": {
        "id": "Kgwa9Y7NVOrh"
      }
    },
    {
      "cell_type": "markdown",
      "source": [
        "Note que $Nu-v$, que vem do sistema normal associado ao problema do [Exemplo 2](https://github.com/j-claudinei-f/j-claudinei-f/blob/main/Ajuste_de_curvas_linear.ipynb), é associado agora a\n",
        "$$\\nabla g(u)=\\begin{bmatrix}7047.1474& 1000.5840& 149.50000\\\\\\\\1000.5840& 149.50000& 24.600000\\\\\\\\149.50000& 24.600000& 5.0000000\\end{bmatrix}\\begin{bmatrix}a\\\\\\\\b\\\\\\\\c\\end{bmatrix}-\\begin{bmatrix}727.738\\\\111.22\\\\  19.5 \\end{bmatrix}$$"
      ],
      "metadata": {
        "id": "QZ0Y2VgW9gP0"
      }
    },
    {
      "cell_type": "markdown",
      "source": [
        " Definimos no que segue $F(u)$, $JF(u)$, $g(u)$ e $\\nabla g(u)$ ."
      ],
      "metadata": {
        "id": "6Ih1IG5BcJ6T"
      }
    },
    {
      "cell_type": "code",
      "source": [
        "A=[x**2,x,[1,1,1,1,1]]\n",
        "y=np.array(y)\n",
        "y=np.transpose(y)\n",
        "\n",
        "import numpy as np\n",
        "\n",
        "A=np.array(A)\n",
        "A=np.transpose(A)\n",
        "\n",
        "def F(u):\n",
        "  return np.dot(A,u)-y    #Au-y\n",
        "\n",
        "def JF(u):\n",
        "  return A\n",
        "\n",
        "def g(u):\n",
        "  return np.dot(F(u),F(u))/2 # produto escalar de F(u) com F(u)\n",
        "\n",
        "N=np.transpose(A)@A\n",
        "v=np.transpose(A)@y\n",
        "\n",
        "print('N=',N,'\\n v=',v)\n",
        "\n",
        "def Gradg(u):\n",
        "  p=np.dot(N,u)-v\n",
        "  return np.array(p)"
      ],
      "metadata": {
        "id": "pfvK5NYS9gP0",
        "colab": {
          "base_uri": "https://localhost:8080/"
        },
        "outputId": "4afec89a-40a6-42c2-b410-5a34d4ce14e6"
      },
      "execution_count": 66,
      "outputs": [
        {
          "output_type": "stream",
          "name": "stdout",
          "text": [
            "N= [[7.0471474e+03 1.0005840e+03 1.4950000e+02]\n",
            " [1.0005840e+03 1.4950000e+02 2.4600000e+01]\n",
            " [1.4950000e+02 2.4600000e+01 5.0000000e+00]] \n",
            " v= [727.738 111.22   19.5  ]\n"
          ]
        }
      ]
    },
    {
      "cell_type": "markdown",
      "source": [
        "Vamos precisar também do vetor gradiente das restrições $$g_i(u)=(x_i^2,\\, x_i, \\,1)\\cdot (a,\\,b,\\,c)-y_i,$$ ou de $$\\nabla g_i(u)=(x_1^2,\\,x_1,\\,1),$$ que é a linha $i$ da matriz $A$.\n",
        "\n"
      ],
      "metadata": {
        "id": "j_5UXQhBb6e-"
      }
    },
    {
      "cell_type": "markdown",
      "source": [
        "Definindo a função $R(u)$:"
      ],
      "metadata": {
        "id": "FRAeX_WdB7gL"
      }
    },
    {
      "cell_type": "code",
      "source": [
        "def R(u):\n",
        "  Fu=F(u)\n",
        "  p=-Gradg(u)                # Se cada gi(u)<=0.\n",
        "  for i in range(0,len(y)):\n",
        "    if (Fu[i]>0):\n",
        "      p=-A[i]                # Se alguma g_i(u)>0.\n",
        "      break\n",
        "  return p"
      ],
      "metadata": {
        "id": "AH60toXfB-XA"
      },
      "execution_count": 67,
      "outputs": []
    },
    {
      "cell_type": "markdown",
      "source": [
        "Vamos usar o método de Euler para resolver a equação (3):"
      ],
      "metadata": {
        "id": "eAxN78G6FJYs"
      }
    },
    {
      "cell_type": "code",
      "source": [
        "u0=np.array([0,0,-5])\n",
        "h=0.0001\n",
        "n=1000000\n",
        "\n",
        "u=[u0]\n",
        "\n",
        "for i in range(0,n):\n",
        "  u.append(u[i]+h*R(u[i]))  # u_(n+1)=u_n+hR(u_n) Método de Euler para a equação (3)."
      ],
      "metadata": {
        "id": "NF5NADldFIdE"
      },
      "execution_count": 77,
      "outputs": []
    },
    {
      "cell_type": "markdown",
      "source": [
        "Vamos inserir o gráfico da aproximação de $g(u(t))$, em que $u(t)$ é a solução da equação (3)."
      ],
      "metadata": {
        "id": "ZiO8S9bDJ_nc"
      }
    },
    {
      "cell_type": "code",
      "source": [
        "t=np.linspace(0,n*h,n+1)\n",
        "gu=[g(k) for k in u]\n",
        "plt.plot(t,gu)\n",
        "plt.show()"
      ],
      "metadata": {
        "colab": {
          "base_uri": "https://localhost:8080/",
          "height": 430
        },
        "id": "n9gB5Ho4J-uq",
        "outputId": "26b25982-d1f6-4cf2-c66f-ba45effbe90f"
      },
      "execution_count": 78,
      "outputs": [
        {
          "output_type": "display_data",
          "data": {
            "text/plain": [
              "<Figure size 640x480 with 1 Axes>"
            ],
            "image/png": "[encoded data removed]"
          },
          "metadata": {}
        }
      ]
    },
    {
      "cell_type": "markdown",
      "source": [
        "Como esperado, a função $g(u_j)$ decresca, quando $u_j$ satifaz às restrições do problema, mas pode crescer, caso $u_j$ viole alguma restrição."
      ],
      "metadata": {
        "id": "YKxtYY5jB3pi"
      }
    },
    {
      "cell_type": "markdown",
      "source": [
        "Isso sugere que devemos escolher uma subsequencia $v_l$ de $u_j$ em que $g(v_l)$ decresça."
      ],
      "metadata": {
        "id": "nTB2WcEPCeEw"
      }
    },
    {
      "cell_type": "code",
      "source": [
        "p=g(u0)\n",
        "\n",
        "vv=[u0]\n",
        "gv=[p]\n",
        "\n",
        "for i in range(1,n):\n",
        "  q=g(u[i])\n",
        "  Fu=F(u[i])\n",
        "  if (q<=p):\n",
        "    pp=1\n",
        "    for j in range(0,len(y)):\n",
        "      if (Fu[j]>0):\n",
        "        pp=-1\n",
        "        break\n",
        "    if (pp==1):\n",
        "      p=q\n",
        "      vv.append(u[i])\n",
        "      gv.append(p)\n",
        "\n",
        "w=vv[-1]                  # v[-1] é a última coordenada de v."
      ],
      "metadata": {
        "id": "RUfjX73pCwuE"
      },
      "execution_count": 79,
      "outputs": []
    },
    {
      "cell_type": "markdown",
      "source": [
        "Vejamos o decrescimento de $g(v_l)$:"
      ],
      "metadata": {
        "id": "YxmAbAQuDmev"
      }
    },
    {
      "cell_type": "code",
      "source": [
        "t=np.linspace(0,len(vv),len(vv))\n",
        "plt.plot(t,gv,label='g(v_l)')\n",
        "plt.legend()\n",
        "plt.show()"
      ],
      "metadata": {
        "colab": {
          "base_uri": "https://localhost:8080/",
          "height": 430
        },
        "id": "BYG7dW-PDySf",
        "outputId": "089ce7d9-6f81-4d71-a3e0-8e4ecd7faa88"
      },
      "execution_count": 80,
      "outputs": [
        {
          "output_type": "display_data",
          "data": {
            "text/plain": [
              "<Figure size 640x480 with 1 Axes>"
            ],
            "image/png": "[encoded data removed]"
          },
          "metadata": {}
        }
      ]
    },
    {
      "cell_type": "markdown",
      "source": [
        "O módulo ao quadrado do vetor erro $y-f(x)$ é $g(u=(a,b,c))$:"
      ],
      "metadata": {
        "id": "LAivyIVK9gP2"
      }
    },
    {
      "cell_type": "code",
      "source": [
        "g(w)"
      ],
      "metadata": {
        "colab": {
          "base_uri": "https://localhost:8080/"
        },
        "id": "S9i4eAvRE967",
        "outputId": "9d7be14c-ddc8-4135-fabc-7d2a1e61aa3d"
      },
      "execution_count": 81,
      "outputs": [
        {
          "output_type": "execute_result",
          "data": {
            "text/plain": [
              "0.11731166646249593"
            ]
          },
          "metadata": {},
          "execution_count": 81
        }
      ]
    },
    {
      "cell_type": "markdown",
      "source": [
        "E temos as restições satisfeitas, ou seja, $F(u)<0$:"
      ],
      "metadata": {
        "id": "KrRzeZLSB3iB"
      }
    },
    {
      "cell_type": "code",
      "source": [
        "F(w)"
      ],
      "metadata": {
        "colab": {
          "base_uri": "https://localhost:8080/"
        },
        "id": "1gEGpkiKYmYO",
        "outputId": "6c28cb26-f9da-431e-b50e-d43e87720c7f"
      },
      "execution_count": 82,
      "outputs": [
        {
          "output_type": "execute_result",
          "data": {
            "text/plain": [
              "array([-0.00560672, -0.30733853, -0.06061856, -0.00693237, -0.3693403 ])"
            ]
          },
          "metadata": {},
          "execution_count": 82
        }
      ]
    },
    {
      "cell_type": "markdown",
      "source": [
        "Para testar o ajuste, definimos $f(s)$ e construímos gráficos:"
      ],
      "metadata": {
        "id": "tziVMfXk9gP1"
      }
    },
    {
      "cell_type": "code",
      "source": [
        "a,b,c=w[0],w[1],w[2]\n",
        "\n",
        "def f(s):\n",
        "  return a*s**2+b*s+c\n",
        "\n",
        "s=np.linspace(1,10,100)\n",
        "\n",
        "plt.plot(s,f(s),label='f(s)')\n",
        "plt.plot(x,y,'o')\n",
        "plt.plot([9],[f(9)],'*',label='f(9)')\n",
        "plt.legend()\n",
        "plt.show()"
      ],
      "metadata": {
        "colab": {
          "base_uri": "https://localhost:8080/",
          "height": 434
        },
        "outputId": "85c2eb1a-6a87-4cab-9ba2-650d62c8b5c9",
        "id": "U-dqXTw79gP1"
      },
      "execution_count": 83,
      "outputs": [
        {
          "output_type": "display_data",
          "data": {
            "text/plain": [
              "<Figure size 640x480 with 1 Axes>"
            ],
            "image/png": "[encoded data removed]"
          },
          "metadata": {}
        }
      ]
    },
    {
      "cell_type": "markdown",
      "source": [
        "Um estimativa para $f(9)$ é"
      ],
      "metadata": {
        "id": "J-Hx23II9gP1"
      }
    },
    {
      "cell_type": "code",
      "source": [
        "f(9)"
      ],
      "metadata": {
        "colab": {
          "base_uri": "https://localhost:8080/"
        },
        "outputId": "434d82e0-1f6f-411d-a165-f9cb1b42b3d7",
        "id": "suGDp8YC9gP2"
      },
      "execution_count": 75,
      "outputs": [
        {
          "output_type": "execute_result",
          "data": {
            "text/plain": [
              "7.560833001580766"
            ]
          },
          "metadata": {},
          "execution_count": 75
        }
      ]
    }
  ]
}