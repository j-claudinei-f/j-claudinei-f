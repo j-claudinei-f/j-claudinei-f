{
  "nbformat": 4,
  "nbformat_minor": 0,
  "metadata": {
    "colab": {
      "provenance": [],
      "authorship_tag": "ABX9TyO0WZGwa+SI66qZNVCHSo0K",
      "include_colab_link": true
    },
    "kernelspec": {
      "name": "python3",
      "display_name": "Python 3"
    },
    "language_info": {
      "name": "python"
    }
  },
  "cells": [
    {
      "cell_type": "markdown",
      "metadata": {
        "id": "view-in-github",
        "colab_type": "text"
      },
      "source": [
        "<a href=\"https://colab.research.google.com/github/j-claudinei-f/j-claudinei-f/blob/main/A2T1.ipynb\" target=\"_parent\"><img src=\"https://colab.research.google.com/assets/colab-badge.svg\" alt=\"Open In Colab\"/></a>"
      ]
    },
    {
      "cell_type": "markdown",
      "source": [
        "#**Parte prática: Avaliação 2**\n",
        "\n",
        "José Claudinei Ferreira\n",
        "Universidade Federal de Alfenas"
      ],
      "metadata": {
        "id": "M_5psXMhkUyu"
      }
    },
    {
      "cell_type": "markdown",
      "source": [
        "**Problema 1**\n",
        "\n",
        "Em uma disputa esportiva entre os jogadores $A$ e $B$ é venceder aquele que vencer primeiro três partidas, das cinco partidas possíveis.\n",
        "\n",
        "a) Determine o número de maneiras em que o time $A$ pode sair vencedor.\n",
        "\n",
        "b) Determine o número de maneiras em que $A$ pode vencer, sem perder duas partidas consecutivas."
      ],
      "metadata": {
        "id": "HMK-FGBc3lzS"
      }
    },
    {
      "cell_type": "markdown",
      "source": [
        "**Obs:** É preciso justificar sua resposta."
      ],
      "metadata": {
        "id": "KVfqJ0cn52zp"
      }
    }
  ]
}