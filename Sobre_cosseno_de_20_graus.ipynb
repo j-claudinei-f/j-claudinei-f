{
  "nbformat": 4,
  "nbformat_minor": 0,
  "metadata": {
    "colab": {
      "provenance": [],
      "authorship_tag": "ABX9TyNtlEU4FTlYA9nvxoK3zQt0",
      "include_colab_link": true
    },
    "kernelspec": {
      "name": "python3",
      "display_name": "Python 3"
    },
    "language_info": {
      "name": "python"
    }
  },
  "cells": [
    {
      "cell_type": "markdown",
      "metadata": {
        "id": "view-in-github",
        "colab_type": "text"
      },
      "source": [
        "<a href=\"https://colab.research.google.com/github/j-claudinei-f/j-claudinei-f/blob/main/Sobre_cosseno_de_20_graus.ipynb\" target=\"_parent\"><img src=\"https://colab.research.google.com/assets/colab-badge.svg\" alt=\"Open In Colab\"/></a>"
      ]
    },
    {
      "cell_type": "markdown",
      "source": [
        "#**Sobre o cosseno de 20 graus**\n",
        "\n",
        "José Claudinei Ferreira\n",
        "\n",
        "Universidade Federal de Alfenas"
      ],
      "metadata": {
        "id": "xIVbzdeEyGbc"
      }
    },
    {
      "cell_type": "markdown",
      "source": [
        "Por volta de 1506, Scipione del Ferro (1465 - 1526) resolveu algebricamente a equação $$\n",
        "            x^3 + px + q=0,\\tag{1}$$ baseando-se provavelmente na matemática árabe e hindu.\n",
        "            \n",
        "Essa forma de resolução usa, de certa forma, um argumento geométrico, que é o completamento de cubos.\n",
        "\n",
        "Supondo que $x=r+s$ obtemos que\n",
        "$$x^3=(r+s)^3=(r+s)^2(r+s)=r^3+s^3+3r^2s+3rs^2=r^3+s^3+3rs(r+s)=r^3+s^3+3rsx.$$ Então, a Equação (1) nos diz que $$x^3-3rsx-(r^3+s^3)=0,$$ ou que $$\\begin{cases}r^3+s^3&=-q\\\\\\\\3rs&=-p\\end{cases}\\tag{2}$$ ou que\n",
        "$$\\begin{cases}m+n&=-q\\\\\\\\mn&=-\\displaystyle\\frac{p^3}{27}\\end{cases}\\tag{3}$$ para $m=r^3$ e $n=s^3$, que são soluções da equação do segundo grau\n",
        "$$(z-m)(z-n)=z^2-(m+n)z+mn=z^2+qz-\\displaystyle\\frac{p^3}{27}=0.$$\n",
        "Ainda, quando $m$ e $n$ forem positivos, temos uma interpretação geométrica."
      ],
      "metadata": {
        "id": "3wxfDuOJxCXx"
      }
    },
    {
      "cell_type": "markdown",
      "source": [
        "Se considerarmos $\\theta=20^{\\circ}$ e $x=\\cos(\\theta)$, vamos ter que $$\\frac{1}{2}=\\cos(3\\theta)=4\\cos^3(\\theta)-3\\cos(\\theta)=4x^3-3x,$$ ou que  $$x^3-\\frac{3}{4}x-\\frac{1}{8}=0.$$\n",
        "\n",
        "\n",
        "Segue das expressões (2) e (3) que a equação do segundo grau relacionada é $$z^2+\\frac{1}{8}z-\\frac{1}{4^3}=0,$$ que tem como raízes $$m=\\frac{1}{16}+\\frac{\\sqrt{3}}{16}i=\\frac{1}{8}\\left(\\cos(60^{\\circ})+i\\,sen(60^{\\circ})\\right),\\qquad n=\\frac{1}{16}-\\frac{\\sqrt{3}}{16}i=\\frac{1}{8}\\left(\\cos(60^{\\circ})-i\\,sen(60^{\\circ})\\right).$$\n",
        "\n",
        "Lembrado da notação de Euler $e^{i\\alpha}=\\cos(\\alpha)+i\\,sen(\\alpha)$, você pode checar que\n",
        "$$x_1=\\cos(20^{\\circ})=\\sqrt[3]{\\frac{1}{16}+\\frac{\\sqrt{3}}{16}i}+\\sqrt[3]{\\frac{1}{16}-\\frac{\\sqrt{3}}{16}i}$$ é uma das três raízes reais da Equação (1) e que todas as raízes dessa equação precisam da soma de números complexos para serem expressas algebricamente.\n"
      ],
      "metadata": {
        "id": "ozHqIuIkw87F"
      }
    },
    {
      "cell_type": "markdown",
      "source": [
        "Veja todas as soluções com a função simpy.solve do Python."
      ],
      "metadata": {
        "id": "mGclsaRI0iRY"
      }
    },
    {
      "cell_type": "code",
      "source": [
        "from sympy import symbols, Eq, solve\n",
        "\n",
        "# Definir variável x\n",
        "x = symbols('x')\n",
        "\n",
        "# Definir equação\n",
        "equacao = Eq(8*x**3 -6*x-1, 0)\n",
        "\n",
        "# Resolver a equação\n",
        "solucoes = solve(equacao, x)\n",
        "\n",
        "# Imprimir as soluções\n",
        "\n",
        "i=1\n",
        "print(\"As soluções por radicais da equação x^3 -(3/4)x-1/8 = 0 são:\")\n",
        "for solucao in solucoes:\n",
        "    print('Solução', i,'dada por',solucao)\n",
        "    i=i+1"
      ],
      "metadata": {
        "colab": {
          "base_uri": "https://localhost:8080/"
        },
        "id": "G6WC0qIbz9zJ",
        "outputId": "a7f5b39a-8679-4430-fb7e-6d7d589b0041"
      },
      "execution_count": 5,
      "outputs": [
        {
          "output_type": "stream",
          "name": "stdout",
          "text": [
            "As soluções por radicais da equação x^3 -(3/4)x-1/8 = 0 são:\n",
            "Solução 1 dada por (-1/2 - sqrt(3)*I/2)*(1/16 + sqrt(3)*I/16)**(1/3) + 1/(4*(-1/2 - sqrt(3)*I/2)*(1/16 + sqrt(3)*I/16)**(1/3))\n",
            "Solução 2 dada por 1/(4*(-1/2 + sqrt(3)*I/2)*(1/16 + sqrt(3)*I/16)**(1/3)) + (-1/2 + sqrt(3)*I/2)*(1/16 + sqrt(3)*I/16)**(1/3)\n",
            "Solução 3 dada por 1/(4*(1/16 + sqrt(3)*I/16)**(1/3)) + (1/16 + sqrt(3)*I/16)**(1/3)\n"
          ]
        }
      ]
    }
  ]
}