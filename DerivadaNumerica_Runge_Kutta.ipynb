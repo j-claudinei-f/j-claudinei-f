{
  "nbformat": 4,
  "nbformat_minor": 0,
  "metadata": {
    "colab": {
      "provenance": [],
      "authorship_tag": "ABX9TyMuq3rYqUrU8RbNLcvvqPNA",
      "include_colab_link": true
    },
    "kernelspec": {
      "name": "python3",
      "display_name": "Python 3"
    },
    "language_info": {
      "name": "python"
    }
  },
  "cells": [
    {
      "cell_type": "markdown",
      "metadata": {
        "id": "view-in-github",
        "colab_type": "text"
      },
      "source": [
        "<a href=\"https://colab.research.google.com/github/j-claudinei-f/j-claudinei-f/blob/main/DerivadaNumerica_Runge_Kutta.ipynb\" target=\"_parent\"><img src=\"https://colab.research.google.com/assets/colab-badge.svg\" alt=\"Open In Colab\"/></a>"
      ]
    },
    {
      "cell_type": "markdown",
      "source": [
        "# **Introdução às equações diferencias ordinárias:**\n",
        "\n",
        "**Métodos de Runge Kutta e derivação numérica**\n",
        "\n",
        "\n",
        " *José Claudinei Ferrreira*\n",
        "\n",
        " *Universidade Federal de Alfenas (UNIFAL-MG)*"
      ],
      "metadata": {
        "id": "Bb4k-V_Q1Y3D"
      }
    },
    {
      "cell_type": "markdown",
      "source": [
        "#**Derivação numérica**"
      ],
      "metadata": {
        "id": "bwhZz6kVGoc7"
      }
    },
    {
      "cell_type": "markdown",
      "source": [
        "Em muitos casos a função $f:(a-r,a+r)\\to \\mathbb{R}$, para algum $r>0$, é $n+1$ vezes diferenciável, com derivadas contínuas, mas tem expressão muito complicada. Por este motivo o cálculo de suas derivadas pode ser também complicado.\n",
        "\n",
        "Assim, vamos adaptar a expressão para a [fórmula de Taylor](https://pt.wikipedia.org/wiki/F%C3%B3rmula_de_Taylor) para fazer aproximações para essas derivadas.\n",
        "\n",
        "Lembramos da fórmula de Taylor  de $f(x)$ como\n",
        "$$\n",
        "f(a+h)=f(a)+ f'(a) h+\\frac{1}{2!}f''(a)h^2+\\cdots +\\frac{1}{n!}f^{(n)}(a)h^n+E(h),$$\n",
        "em que $h=x-a$ e $$E(h)=\\frac{1}{(n+1)!}f^{(n+1)}(b)h^{n+1},$$ para algum $b\\in (a-r,a+r)$, representa o erro cometido na aproximação de $f(x)$ pelo polinômio de Taylor de ordem $n$ de $f(x)$, que toma a forma  $$p(h)=f(a)+ f'(a) h+\\frac{1}{2!}f''(a)h^2+\\cdots +\\frac{1}{n!}f^{(n)}(a)h^n.$$\n",
        "\n",
        "\n",
        "\n",
        "\n"
      ],
      "metadata": {
        "id": "xnuqUNwjG2Jl"
      }
    },
    {
      "cell_type": "markdown",
      "source": [
        "#**Ordem 1**"
      ],
      "metadata": {
        "id": "8PW6ZIniICZG"
      }
    },
    {
      "cell_type": "markdown",
      "source": [
        "Se tomarmos $n=1$ e $h\\neq 0$ teremos então  \n",
        "$$\n",
        "\\frac{f(a+h)-f(a)}{h}=f'(a) +\\frac{1}{2!}f''(b)h,$$ e isso nos diz que $$\n",
        "\\frac{f(a+h)-f(a)}{h}\\approx f'(a)$$ com erro proporcional $h\\approx 0$.\n",
        "\n",
        "\n"
      ],
      "metadata": {
        "id": "AI9ZEDsNIFnE"
      }
    },
    {
      "cell_type": "markdown",
      "source": [
        "Uma aplicação da derivada numérica é no funcionamento de radares móveis, como pode ser visto [neste vídeo](https://www.youtube.com/watch?v=vXw4i6_jjZY)."
      ],
      "metadata": {
        "id": "efy-BaOQHiah"
      }
    },
    {
      "cell_type": "markdown",
      "source": [
        " Temos usado o caso $n=1$ no método de Euler. Entretanto, aqui $f(u)$ é conhecida e queremos conhecer $f'(u)$. No método de Euler é o contrário."
      ],
      "metadata": {
        "id": "zj4_IheCISgC"
      }
    },
    {
      "cell_type": "markdown",
      "source": [
        "**Exemplo 1:**\n",
        "Considere a função $$f(x)=\\frac{1}{\\ln(\\tan(x))},\\qquad x\\in \\left( \\frac{\\pi}{4},\\frac{\\pi}{2}\\right),$$ e calcule analiticamente e numericamente $f'(1)$.\n",
        "\n",
        "Lembre-se que, pela regra da cadeia, aplicada duas vezes, temos $$f'(x)=\\frac{-1}{(\\ln(\\tan(x)))^2}\\frac{1}{\\tan(x)}\\sec(x)^2$$ e assim,\n",
        "$$f'(1)=\\frac{-1}{(\\ln(\\tan(1)))^2}\\frac{1}{\\tan(1)}\\sec(1)^2=-11.206552425345281...$$\n",
        "\n",
        "Caso não se lembre dos conceitos usados anteriormente, ou queira apenas uma aproximação para $f'(1)$, testamos alguns valores de $h$.\n",
        "\n",
        "Tomando $h=0.1$ temos que\n",
        "$$\\frac{f(a+h)-f(a)}{h}=-7.765505.$$\n",
        "Tomando $h=0.01$ temos que\n",
        "$$\\frac{f(a+h)-f(a)}{h}=-10.724.$$\n",
        "Tomando $h=0.001$ temos que\n",
        "$$\\frac{f(a+h)-f(a)}{h}= -11.15628\n",
        ".$$\n",
        "Tomando $h=0.0001$ temos que\n",
        "$$\\frac{f(a+h)-f(a)}{h}=  -11.2015\n",
        ".$$\n",
        "\n",
        "Isso sugere que para essa função, podemos facilmente obter uma boa aproximação para $f'(1)$ com $h\\leq 0.0001$.\n"
      ],
      "metadata": {
        "id": "I93WrYbQCoUv"
      }
    },
    {
      "cell_type": "markdown",
      "source": [
        "Você pode brincar com valores de $h$ no código que segue:"
      ],
      "metadata": {
        "id": "aDJrm_kXgr4w"
      }
    },
    {
      "cell_type": "code",
      "source": [
        "import numpy as np\n",
        "\n",
        "def f(x):\n",
        "  p=np.log(np.tan(x))\n",
        "  return 1/p"
      ],
      "metadata": {
        "id": "69sF5IcufutK"
      },
      "execution_count": 7,
      "outputs": []
    },
    {
      "cell_type": "code",
      "source": [
        "h=10**(-5)\n",
        "a=1\n",
        "\n",
        "df=(f(a+h)-f(a))/h\n",
        "\n",
        "df"
      ],
      "metadata": {
        "colab": {
          "base_uri": "https://localhost:8080/"
        },
        "id": "UR4u07XGf7fJ",
        "outputId": "9a74961e-f27e-41b3-f179-c2abb27ddde4"
      },
      "execution_count": 9,
      "outputs": [
        {
          "output_type": "execute_result",
          "data": {
            "text/plain": [
              "-11.206047358536251"
            ]
          },
          "metadata": {},
          "execution_count": 9
        }
      ]
    },
    {
      "cell_type": "markdown",
      "source": [
        "Podemos melhorar este método de aproximação de derivadas numericamente tomando $n=2$.\n",
        "\n",
        "Nesse caso usamos as seguintes expressões advindas do polinômio de Taylor de $f(x)$:\n",
        "$$\n",
        "f(a+h)=f(a)+ f'(a) h+\\frac{1}{2!}f''(a)h^2+\\frac{1}{3!}f'''(b)h^3$$ e\n",
        "$$\n",
        "f(a-h)=f(a)- f'(a) h+\\frac{1}{2!}f''(a)h^2-\\frac{1}{3!}f'''(c)h^3,$$ para algum $b,\\,c\\in (a-r,a+r)$.\n",
        "\n",
        "Logo,\n",
        "$$\n",
        "\\frac{f(a+h)-f(a-h)}{2h}=f'(a)+\\frac{f'''(b)+f'''(c)}{2.3!}h^2$$\n",
        "\n",
        "Assim,\n",
        "$$\n",
        "\\frac{f(a+h)-f(a-h)}{2h}\\approx f'(a),$$ com erro $$\\frac{f'''(b)+f'''(c)}{2.3!}h^2=\\frac{f'''(d)}{3!}h^2$$ que é proporcional $h^2\\approx 0$.\n",
        "\n",
        "Se ao invés de subtrairmos as expressão nós as somarmos obtemos\n",
        "\n",
        "$$\n",
        "\\frac{f(a+h)-2f(a)+f(a-h)}{h^2}=f''(a)+\\frac{f'''(b)-f'''(c)}{3!}h.$$\n",
        "\n",
        "E segue que,\n",
        "$$\n",
        "\\frac{f(a+h)-2f(a)+f(a-h)}{h^2}\\approx f''(a)$$ com erro $$\\frac{f'''(b)-f'''(c)}{3!}h$$ que é proporcional $h\\approx 0$.\n",
        "\n"
      ],
      "metadata": {
        "id": "3BV3u-DIJDKu"
      }
    },
    {
      "cell_type": "markdown",
      "source": [
        "**Exemplo 2**"
      ],
      "metadata": {
        "id": "Qyqe0E1Mh6ec"
      }
    },
    {
      "cell_type": "markdown",
      "source": [
        "Consideramos novamente a função $$f(x)=\\frac{1}{\\ln(\\tan(x))},\\qquad x\\in \\left( \\frac{\\pi}{4},\\frac{\\pi}{2}\\right),$$ e calculamos numericamente $f'(1)$.\n",
        "\n",
        "Para estudarmos a aproximação numérica testamos alguns valores de $h$.\n",
        "Tomando $h=0.1$ temos que\n",
        "$$\\frac{f(a+h)-f(a-h)}{2h}=-14.21946\n",
        ".$$\n",
        "Tomando $h=0.01$ temos que\n",
        "$$\\frac{f(a+h)-f(a-h)}{2h}=-11.23019.$$\n",
        "Tomando $h=0.001$ temos que\n",
        "$$\\frac{f(a+h)-f(a-h)}{2h}= -11.20679\n",
        ".$$\n",
        "Tomando $h=0.0001$ temos que\n",
        "$$\\frac{f(a+h)-f(a-h)}{2h}=  -11.206554784370937\n",
        ".$$\n",
        "\n",
        "Isso sugere que para essa função, podemos facilmente obter uma aproximação melhor que a anterior para $f'(1)$ com $h\\leq 0.001$."
      ],
      "metadata": {
        "id": "X9gjO717JETE"
      }
    },
    {
      "cell_type": "code",
      "execution_count": 11,
      "metadata": {
        "id": "DCTfO6ae1YEa",
        "colab": {
          "base_uri": "https://localhost:8080/"
        },
        "outputId": "b7bd2e29-c8cc-49b5-bd5c-ef7f2b052e38"
      },
      "outputs": [
        {
          "output_type": "execute_result",
          "data": {
            "text/plain": [
              "-11.20655244895019"
            ]
          },
          "metadata": {},
          "execution_count": 11
        }
      ],
      "source": [
        "h=10**(-5)\n",
        "a=1\n",
        "\n",
        "df=(f(a+h)-f(a-h))/(2*h)\n",
        "\n",
        "df"
      ]
    },
    {
      "cell_type": "markdown",
      "source": [
        "Deixo para vocês a verificação da estimativa de $f''(1)$:"
      ],
      "metadata": {
        "id": "ic-vYujAioCI"
      }
    },
    {
      "cell_type": "code",
      "source": [
        "d2f=(f(a+h)-2*f(a)+f(a-h))/(h**2)\n",
        "d2f"
      ],
      "metadata": {
        "colab": {
          "base_uri": "https://localhost:8080/"
        },
        "id": "mLMpfbjfiVTG",
        "outputId": "2f2ef331-7948-40bb-c43e-5211234818d8"
      },
      "execution_count": 14,
      "outputs": [
        {
          "output_type": "execute_result",
          "data": {
            "text/plain": [
              "101.01808278761835"
            ]
          },
          "metadata": {},
          "execution_count": 14
        }
      ]
    },
    {
      "cell_type": "markdown",
      "source": [
        "**Ordem 3**"
      ],
      "metadata": {
        "id": "dM_oyPw2i0xF"
      }
    },
    {
      "cell_type": "markdown",
      "source": [
        "Considerando agora $n=3$ no polinômio de Taylor pode-se justificar a seguinte expressão\n",
        "$$f'(a)\\approx \\frac{-f(a+2h)+8f(a+h)-8f(a-h)+f(a-2h)}{12h},$$ com erro $$\\frac{1}{30}f^{(5)}(c)h^4,$$ que é proporcional a $h^4\\approx 0$, para a aproximação numérica de $f'(1)$ para $f(x)$ como nos dois últimos exemplos.\n",
        "\n",
        "Deixamos a verificação para o leitor.\n",
        "\n",
        "Para que valores de $h$ podemos considerar a aproximação boa?\n"
      ],
      "metadata": {
        "id": "YQOlnyPuhxO-"
      }
    },
    {
      "cell_type": "markdown",
      "source": [
        "#**Várias variáveis**"
      ],
      "metadata": {
        "id": "TRNlSiHIjaoE"
      }
    },
    {
      "cell_type": "markdown",
      "source": [
        "Podemos considerar a derivada parcial de uma função $f(x)$, em relação à coordenada $x_i$, como a derivada da função $g(t)=f(x_1,\\,\\ldots,x_{i-1},\\,t,\\,x_{i+1},\\ldots,x_n)$, em $t=x_i$, quando $x=(x_1,\\,\\ldots,x_{i-1},\\,x_i,\\,x_{i+1},\\ldots,x_n)$.\n",
        "\n",
        "Por exemplo,\n",
        "$$\\frac{\\partial f(x)}{\\partial x_1}\\approx \\frac{g(t+h)-g(t-h)}{2h}=\\frac{f(x_1,\\,\\ldots,x_{i-1},\\,t+h,\\,x_{i+1},\\ldots,x_n)-f(x_1,\\,\\ldots,x_{i-1},\\,t-h,\\,x_{i+1},\\ldots,x_n)}{2h}.$$\n",
        "\n",
        "\n",
        "\n"
      ],
      "metadata": {
        "id": "lbp75olQjYwH"
      }
    },
    {
      "cell_type": "markdown",
      "source": [
        "**Exemplo 3**"
      ],
      "metadata": {
        "id": "1icM3-h0jvIM"
      }
    },
    {
      "cell_type": "markdown",
      "source": [
        "Use algum dos métodos que mencionamos para aproximar $$\\frac{\\partial f(x)}{\\partial x_1},\\qquad  \\frac{\\partial^2 f(x)}{\\partial x_1\\partial x_2} \\quad e \\quad \\frac{\\partial f(x)}{\\partial x_2},$$ para $$x=(1,2)\\quad e\\quad f(x)=\\ln(1+x_1x_2).$$\n",
        "Para que valores de $h$ podemos considerar a aproximação boa?"
      ],
      "metadata": {
        "id": "JioGUb17jxmA"
      }
    },
    {
      "cell_type": "markdown",
      "source": [
        "#**Os métodos de Runge-Kutta**"
      ],
      "metadata": {
        "id": "yf2lVoaAkFsZ"
      }
    },
    {
      "cell_type": "markdown",
      "source": [
        "<font color=red> Aulas seguintes..."
      ],
      "metadata": {
        "id": "59IG_z2fkLQs"
      }
    }
  ]
}