{
  "nbformat": 4,
  "nbformat_minor": 0,
  "metadata": {
    "colab": {
      "provenance": [],
      "authorship_tag": "ABX9TyOAeHdITN69eEQEjP4ikPPi",
      "include_colab_link": true
    },
    "kernelspec": {
      "name": "python3",
      "display_name": "Python 3"
    },
    "language_info": {
      "name": "python"
    }
  },
  "cells": [
    {
      "cell_type": "markdown",
      "metadata": {
        "id": "view-in-github",
        "colab_type": "text"
      },
      "source": [
        "<a href=\"https://colab.research.google.com/github/j-claudinei-f/j-claudinei-f/blob/main/Recorr%C3%AAncias.ipynb\" target=\"_parent\"><img src=\"https://colab.research.google.com/assets/colab-badge.svg\" alt=\"Open In Colab\"/></a>"
      ]
    },
    {
      "cell_type": "markdown",
      "source": [
        "#**Relacões de recorrência e problemas de contagem**\n",
        "\n",
        "José Claudinei Ferreira\n",
        "\n",
        "Universidade Federal de Alfenas"
      ],
      "metadata": {
        "id": "kaV5Fq3q9b0b"
      }
    },
    {
      "cell_type": "markdown",
      "source": [
        "#**Exemplo 1: Progressão aritmética de ordem 2**\n",
        "\n",
        "Sejam $x_1,\\,x_2,\\,\\ldots,\\,x_n$ as alturas de $n$ pessoas.\n",
        "\n",
        "a) Mostre que $2n-3$ comparações entre dois números são suficientes para determinar a pessoa (ou as pessoas) mais baixa e a mais alta.\n",
        "\n",
        "b) Suponha que os valores os valores $x_i$ ainda não foram ordenados e que queira formar uma fila com essas $n$ pessoas, considerando a mais baixa na frente da mais alta e algum acordo no caso de pessoas com a mesma altura. Você pode escolher a primeira e a última da fila e depois inserir as demais pessoas entre elas, se houver mais de 2 pessoas. Para isso, você pode encontrar a mais baixa e a mais alta das $n-2$ pessoas restantes e inseri-las na fila, entre as que já estavam lá ...\n",
        "\n",
        "Seja $a_n$ uma quantidade de comparações suficiente para ordenar as $n$ pessoas por ordem de altura. Determine uma relação de recorrência para $a_n$.\n",
        "\n",
        "c) Mostre que $$a_n=\\frac{n(n-1)}{2}$$ comparações entre alturas são suficientes para ordenar a fila com $n$ pessoas, por ordem de altura, de acordo com a sugestão do item 2)."
      ],
      "metadata": {
        "id": "uYCEshrKzqhf"
      }
    },
    {
      "cell_type": "markdown",
      "source": [
        "**Solução**"
      ],
      "metadata": {
        "id": "TtYWFVAO1G6H"
      }
    },
    {
      "cell_type": "markdown",
      "source": [
        "a) Isso pode ser feito por indução finita e já foi feito em aula."
      ],
      "metadata": {
        "id": "_AifeoU71Kmu"
      }
    },
    {
      "cell_type": "markdown",
      "source": [
        "b) Usando o item a) podemos usar os seguintes passos para ordenar as $n$ pessoas na fila:\n",
        "\n",
        "1. Se $n=1$ não é preciso fazer comparações e $a_1=0$. Se $n=2$ compare a altura de uma pessoa com a da outra e terá $a_2=1$ comparações.\n",
        "\n",
        "2. Se já sabe o valor de $a_j$, para $1\\leq j< n$, usando o item a) temos que é possível determinar uma pessoa mais alta e uma mais baixa das $n$ pessoas, fazendo $2n-3$ comparações entre as alturas delas. Vão restar $n-2$ delas, que você pode ordenar com $a_{n-2}$ comparações entre as alturas delas. Segue que"
      ],
      "metadata": {
        "id": "db91Kzju1RFO"
      }
    },
    {
      "cell_type": "markdown",
      "source": [
        "$$\\begin{cases}a_n&=&a_{n-2}+2n-3\\\\\n",
        "a_1&=&0\\\\\n",
        "a_2&=&1&\\end{cases}$$"
      ],
      "metadata": {
        "id": "pyyH8UBW-hWe"
      }
    },
    {
      "cell_type": "markdown",
      "source": [
        "é uma relação de recorrência que dá um número suficiente de comparações para ordenar as $n$ pessoas (E vimos em outra questão que existe forma muito melhor para fazer isso!)."
      ],
      "metadata": {
        "id": "0B0YKHPH3sfv"
      }
    },
    {
      "cell_type": "markdown",
      "source": [
        "c) Podemos demonstrar isso por indução, usando a relação de recorrência do item b).\n",
        "\n",
        "Mas vamos resolver a relação de recorrência do item b), em vez disso."
      ],
      "metadata": {
        "id": "XXlT-Nqr4Lyn"
      }
    },
    {
      "cell_type": "markdown",
      "source": [
        "Antes veja alguns valores de $a_n$, a partir da relação de recorrência obtida."
      ],
      "metadata": {
        "id": "usozruqV4bBn"
      }
    },
    {
      "cell_type": "code",
      "source": [
        "a=[0,1]\n",
        "for i in range(2,20):\n",
        "  a.append(a[-2]+2*(i+1)-3)\n",
        "print(a)"
      ],
      "metadata": {
        "colab": {
          "base_uri": "https://localhost:8080/"
        },
        "id": "xsySYKx5-mhC",
        "outputId": "eca9b98b-7f31-4e0c-a7b4-84f3ae297a77"
      },
      "execution_count": 5,
      "outputs": [
        {
          "output_type": "stream",
          "name": "stdout",
          "text": [
            "[0, 1, 3, 6, 10, 15, 21, 28, 36, 45, 55, 66, 78, 91, 105, 120, 136, 153, 171, 190]\n"
          ]
        }
      ]
    },
    {
      "cell_type": "markdown",
      "source": [
        "Agora vamos definir outra relação de recorrência como\n",
        "$b_n=a_n-a_{n-1}$. Podemos obter alguns valores para $b_n$:"
      ],
      "metadata": {
        "id": "PpaWI86H4rMQ"
      }
    },
    {
      "cell_type": "code",
      "source": [
        "b=[]\n",
        "for i in range(1,len(a)-1):\n",
        "  b.append(a[i]-a[i-1])\n",
        "print(b)"
      ],
      "metadata": {
        "colab": {
          "base_uri": "https://localhost:8080/"
        },
        "id": "bRZGW154_N_j",
        "outputId": "fb0a8d28-d837-4236-c4a5-89f2c70e68dd"
      },
      "execution_count": 6,
      "outputs": [
        {
          "output_type": "stream",
          "name": "stdout",
          "text": [
            "[1, 2, 3, 4, 5, 6, 7, 8, 9, 10, 11, 12, 13, 14, 15, 16, 17, 18]\n"
          ]
        }
      ]
    },
    {
      "cell_type": "markdown",
      "source": [
        "Usando a recorrência de $a_n$, temos que\n",
        "$$\\begin{cases}b_n&=&a_n-a_{n-1}&=&(a_{n-2}+2n-3)-(a_{n-3}+2(n-2)-3)&=&a_{n-2}-a_{n-3}+4=b_{n-2}+4\\\\\n",
        "b_2&=&1\\\\\n",
        "b_3&=&2&\\end{cases}$$"
      ],
      "metadata": {
        "id": "yEOlmGUM6H2B"
      }
    },
    {
      "cell_type": "markdown",
      "source": [
        "Definimos outra recorrência como $c_n=b_n-b_{n-1}$:"
      ],
      "metadata": {
        "id": "_vcoTgz26qGw"
      }
    },
    {
      "cell_type": "code",
      "source": [
        "c=[]\n",
        "for i in range(1,len(b)-1):\n",
        "  c.append(b[i]-b[i-1])\n",
        "print(c)"
      ],
      "metadata": {
        "colab": {
          "base_uri": "https://localhost:8080/"
        },
        "id": "En_4l9RI_dOD",
        "outputId": "77589aee-36e4-4496-dc88-d50c7287c515"
      },
      "execution_count": 7,
      "outputs": [
        {
          "output_type": "stream",
          "name": "stdout",
          "text": [
            "[1, 1, 1, 1, 1, 1, 1, 1, 1, 1, 1, 1, 1, 1, 1, 1]\n"
          ]
        }
      ]
    },
    {
      "cell_type": "markdown",
      "source": [
        "Usando a recorrência de $b_n$, temos que\n",
        "$$\\begin{cases}c_n&=&b_n-b_{n-1}&=&(b_{n-2}+4)-(b_{n-3}+4)&=&b_{n-2}-b_{n-3}=c_{n-2}\\\\\n",
        "c_3&=&1\\\\\n",
        "c_4&=&1&\\end{cases}$$"
      ],
      "metadata": {
        "id": "tL9Sov7h67Do"
      }
    },
    {
      "cell_type": "markdown",
      "source": [
        "**Obs. 1:** Note que  $$\\sum_{j\\leq n}c_j=(b_n-b_{n-1})+(b_{n-1}-b_{n-2}+\\cdots +(b_3-b_2)=b_n-b_2 $$ e que  $$\\sum_{j\\leq n}b_j=(a_n-a_{n-1})+(a_{n-1}-a_{n-2}+\\cdots +(a_2-a_1)=a_n-a_1. $$"
      ],
      "metadata": {
        "id": "gLDlL9P2-4bZ"
      }
    },
    {
      "cell_type": "markdown",
      "source": [
        "Seque que $c_n=1$, para todo $n\\geq 3$, serve, o que implica que $$\\begin{cases} b_n&=&b_{n-1}+1\\\\b_2&=&1\\end{cases},$$ que é uma P.A. de razão $1$, ou que $b_n=n-1.$ Por fim, temos que $$\\begin{cases}a_n&=&a_{n-1}+(n-1)\\\\a_1&=&0\\end{cases}$$ é uma soma de uma PA de razão $1$.\n",
        "\n",
        "Então, $$a_n=\\frac{n(n-1)}{2}=\\frac{(b_2+b_n)(n-1)}{2}$$"
      ],
      "metadata": {
        "id": "LODeck667p9B"
      }
    },
    {
      "cell_type": "markdown",
      "source": [
        "**Observação 2:** Ao analisar um problema de contagem por meio de relações de recorrência, é possível obter diferentes fórmulas que descrevem a mesma quantidade.\n",
        "\n",
        "Por exemplo, no item (b):\n",
        "\n",
        "1. Se você começasse escolhendo uma pessoa qualquer, dentre as $ n $ disponíveis, não seriam necessárias comparações — ou seja, $ a_1 = 0 $. Se em seguida escolhesse uma segunda pessoa, dentre as \\( n-1 \\) restantes, e a comparasse com a primeira, faria uma única comparação, resultando em $ a_2 = 1 $. Assim, uma fila com duas pessoas estaria ordenada.\n",
        "\n",
        "1. Já com uma fila ordenada de $ n-1 $ pessoas, ao inserir a $ n $-ésima pessoa, você poderia compará-la com cada uma das outras $ n-1$ para encontrar sua posição correta. Isso exige $ n-1 $ comparações adicionais.\n",
        "\n",
        "Essa estratégia gera a seguinte relação de recorrência:\n",
        "\n",
        "\n",
        "\\begin{cases}\n",
        "a_n = a_{n-1} + (n-1) \\\\\n",
        "a_1 = 0\n",
        "\\end{cases}\n",
        "\n",
        "que também conduz à fórmula fechada:\n",
        "$$\n",
        "a_n = \\frac{n(n-1)}{2}.\n",
        "$$\n"
      ],
      "metadata": {
        "id": "w7HsLgSvNDC1"
      }
    },
    {
      "cell_type": "markdown",
      "source": [
        "**Obs. 3:** Obtida a expressão para $a_n$, podemos definir outra relação de recorrência como \\begin{cases}d_n&=&d_{n-1}+\\frac{n(n-1)}{2}\\\\d_1&=&0\\end{cases} que é a soma de $a_i$, para $1\\leq i\\leq n$.\n",
        "\n",
        "Como $a_n$ é um polinômio de grau $2$ esperamos que $d_n$ seja um polinômio de grau $3$, ou seja, supomos que $$d_n=a+bn+cn^2+dn^3$$ e procuramos determinar $a, b,c, d$."
      ],
      "metadata": {
        "id": "3uGuh-Slx3XP"
      }
    },
    {
      "cell_type": "code",
      "source": [
        "d=[]\n",
        "for i in range(1,10):\n",
        "  if i==1:\n",
        "    d.append(0)\n",
        "  else:\n",
        "    d.append(d[-1]+i*(i-1)/2)\n",
        "d"
      ],
      "metadata": {
        "colab": {
          "base_uri": "https://localhost:8080/"
        },
        "id": "Py5hqtBo0LGY",
        "outputId": "b47389cf-1478-400f-b4e5-36981625b68e"
      },
      "execution_count": 8,
      "outputs": [
        {
          "output_type": "execute_result",
          "data": {
            "text/plain": [
              "[0, 1.0, 4.0, 10.0, 20.0, 35.0, 56.0, 84.0, 120.0]"
            ]
          },
          "metadata": {},
          "execution_count": 8
        }
      ]
    },
    {
      "cell_type": "markdown",
      "source": [
        "Então, temos o sistema linear \\begin{cases}a+&b+&c+&d&=d_1=0\\\\a+&2b+&2^2c+&2^3d&=d_2=1\\\\a+&3b+&3^2c+&3^3d&=d_3=4\\\\a+&4b+&4^2c+&4^3d&=d_4=10\\end{cases}"
      ],
      "metadata": {
        "id": "n_VzuIDkVq7w"
      }
    },
    {
      "cell_type": "code",
      "source": [
        "n=4\n",
        "M=[[j**i for i in range(n)] for j in range(1,n+1)]\n",
        "M\n",
        "import numpy as np # para lidar com sistemas lineares.\n",
        "M=np.array(M)\n",
        "print('M=',M)\n",
        "b=np.array([d[0],d[1],d[2],d[3]]) # O contador de índices comça no 0.\n",
        "\n",
        "sol=np.linalg.solve(M,b)\n",
        "sol,M@sol"
      ],
      "metadata": {
        "colab": {
          "base_uri": "https://localhost:8080/"
        },
        "id": "mVVAHR1X0pCB",
        "outputId": "687e6708-0f2a-469f-8820-ab403b2d7cd4"
      },
      "execution_count": 13,
      "outputs": [
        {
          "output_type": "stream",
          "name": "stdout",
          "text": [
            "M= [[ 1  1  1  1]\n",
            " [ 1  2  4  8]\n",
            " [ 1  3  9 27]\n",
            " [ 1  4 16 64]]\n"
          ]
        },
        {
          "output_type": "execute_result",
          "data": {
            "text/plain": [
              "(array([ 7.49400542e-16, -1.66666667e-01,  8.88178420e-16,  1.66666667e-01]),\n",
              " array([ 0.,  1.,  4., 10.]))"
            ]
          },
          "metadata": {},
          "execution_count": 13
        }
      ]
    },
    {
      "cell_type": "markdown",
      "source": [
        "Temos que $a=0$, $b=-\\frac{1}{6}$, $c=0$ e $d=\\frac{1}{6}$.\n",
        "\n",
        "Assim, $$d_n=-\\frac{1}{6}n+\\frac{1}{6}n^3.$$"
      ],
      "metadata": {
        "id": "zSevQsF12ld8"
      }
    },
    {
      "cell_type": "markdown",
      "source": [
        "Teste:"
      ],
      "metadata": {
        "id": "HzV2Qe5F3MiP"
      }
    },
    {
      "cell_type": "code",
      "source": [
        "dd=[]\n",
        "for i in range(1,10):\n",
        "    dd.append((-i+i**3)/6 )\n",
        "dd"
      ],
      "metadata": {
        "colab": {
          "base_uri": "https://localhost:8080/"
        },
        "id": "qUZ2G5793NpE",
        "outputId": "1eacd815-cc66-48f2-f150-14008ec00bb9"
      },
      "execution_count": 16,
      "outputs": [
        {
          "output_type": "execute_result",
          "data": {
            "text/plain": [
              "[0.0, 1.0, 4.0, 10.0, 20.0, 35.0, 56.0, 84.0, 120.0]"
            ]
          },
          "metadata": {},
          "execution_count": 16
        }
      ]
    },
    {
      "cell_type": "markdown",
      "source": [
        "#**Exemplo 2: Contando desordenações**\n",
        "\n",
        "Seja $(x_1,\\,x_2,\\,\\ldots,\\,x_n)$ uma lista com $n$ coisas distintas. De quantas formas podemos reordenar essa lista, de tal forma que cada elemento mude de posição?\n"
      ],
      "metadata": {
        "id": "FiMSrP_EOnA1"
      }
    },
    {
      "cell_type": "markdown",
      "source": [
        "\n",
        "**Solução:** Permutação Caótica (Desarranjo)\n",
        "\n",
        "Uma permutação caótica, ou desarranjo, é uma permutação dos $n$ elementos em que nenhum elemento permanece na sua posição original.\n",
        "\n",
        "A quantidade de deranjos de $n$ elementos é denotada por $D_n$, e satisfaz a seguinte relação de recorrência:\n",
        "\n",
        "\\begin{cases}\n",
        "D_n &=& (n - 1)(D_{n-1} + D_{n-2})\\\\\n",
        "D_0&=&1\\\\\n",
        "D_1&=&0\n",
        "\\end{cases}\n"
      ],
      "metadata": {
        "id": "LtDyYXVgvssZ"
      }
    },
    {
      "cell_type": "markdown",
      "source": [
        "**Explicação da recorrência:**\n",
        "\n",
        "A ideia é considerar o que acontece com o primeiro elemento. Ele não pode ir para a posição 1 (por definição de deranjo), então ele tem $n-1$ escolhas. Duas situações ocorrem a partir disso:\n",
        "\n",
        "1. Se ele troca com alguém que também vai para a posição 1 (uma \"troca direta\"), o problema se reduz a  $D_{n-2}$.\n",
        "\n",
        "2. Se ele vai para uma posição arbitrária e o elemento dessa posição não vai para 1, o problema se reduz a $D_{n-1}$."
      ],
      "metadata": {
        "id": "Uy-jgTSYwigd"
      }
    },
    {
      "cell_type": "markdown",
      "source": [
        "**Resolvendo a recorrênca:**\n",
        "\n",
        "Note que\n",
        "\n",
        "$$c_n=D_n-nD_{n-1}=(n - 1)(D_{n-1} + D_{n-2})-nD_{n-1}=(n - 1)D_{n-2}-nD_{n-1}-D_{n-1}=-c_{n-1}.$$"
      ],
      "metadata": {
        "id": "kM1-_ad6xJEa"
      }
    },
    {
      "cell_type": "code",
      "source": [
        "D=[]\n",
        "for i in range(10):\n",
        "  if i==0:\n",
        "    D.append(1)\n",
        "  elif i==1:\n",
        "    D.append(0)\n",
        "  else:\n",
        "    D.append((i-1)*(D[-1]+D[-2]))\n",
        "D"
      ],
      "metadata": {
        "colab": {
          "base_uri": "https://localhost:8080/"
        },
        "id": "MeEXtgSTx3nr",
        "outputId": "7d02d693-d095-4716-dceb-a7c8b6bc7793"
      },
      "execution_count": 2,
      "outputs": [
        {
          "output_type": "execute_result",
          "data": {
            "text/plain": [
              "[1, 0, 1, 2, 9, 44, 265, 1854, 14833, 133496]"
            ]
          },
          "metadata": {},
          "execution_count": 2
        }
      ]
    },
    {
      "cell_type": "code",
      "source": [
        "c=[]\n",
        "for i in range(1,10):\n",
        "  c.append(D[i]-i*D[i-1])\n",
        "c"
      ],
      "metadata": {
        "colab": {
          "base_uri": "https://localhost:8080/"
        },
        "id": "tTEjvh3OyWDX",
        "outputId": "6ab509db-dbb9-43f4-a101-263230636572"
      },
      "execution_count": 3,
      "outputs": [
        {
          "output_type": "execute_result",
          "data": {
            "text/plain": [
              "[-1, 1, -1, 1, -1, 1, -1, 1, -1]"
            ]
          },
          "metadata": {},
          "execution_count": 3
        }
      ]
    },
    {
      "cell_type": "markdown",
      "source": [
        "O que nos diz que $c_n=(-1)^{n}$ e segue que\n",
        "\\begin{cases}D_n&=&nD_{n-1}+(-1)^{n}\\\\\n",
        "D_1&=&0\\end{cases}"
      ],
      "metadata": {
        "id": "db9OJvlryw2w"
      }
    },
    {
      "cell_type": "markdown",
      "source": [
        "Seja $a_n=na_{n-1}$. Então podemos verificar que $a_n=n!$ é o número total de listas formadas pelos $n$ elementos $x_i$.\n",
        "\n",
        "Tomando agora $$D_n=a_ny_n=n!y_n,$$\n",
        "temos que $y_1=0$ e $$D_n=n!y_n=nD_{n-1}+(-1)^n=n(n-1)!y_{n-1}+(-1)^n.$$ Isso nos dá\n",
        "$$y_n=y_{n-1}+\\frac{(-1)^n}{n!}.$$"
      ],
      "metadata": {
        "id": "EvrGIcdBzeLn"
      }
    },
    {
      "cell_type": "markdown",
      "source": [
        "Então, \\begin{cases}y_2&=&y_1+\\frac{(-1)^2}{2!}\\\\\\\\y_3&=&y_1+\\frac{(-1)^2}{2!}+\\frac{(-1)^3}{3!}\\\\\\vdots \\\\ y_n&=&y_1+\\frac{(-1)^2}{2!}+\\frac{(-1)^3}{3!}+\\cdots+\\frac{(-1)^n}{n!}\\end{cases} e $$D_n=n!\\left(\\frac{(-1)^0}{0!}+\\frac{(-1)^1}{1!}+\\frac{(-1)^2}{2!}+\\frac{(-1)^3}{3!}+\\cdots+\\frac{(-1)^n}{n!}\\right).$$"
      ],
      "metadata": {
        "id": "K7qnWtKVzwxc"
      }
    },
    {
      "cell_type": "markdown",
      "source": [
        "A fórmula explícita para $D_n$:\n",
        "\n",
        "$$\n",
        "D_n = n! \\sum_{k=0}^{n} \\frac{(-1)^k}{k!}\n",
        "$$\n",
        "\n",
        "Esta fórmula pode ser aproximada por:\n",
        "\n",
        "$$\n",
        "D_n \\approx \\frac{n!}{e}.\n",
        "$$"
      ],
      "metadata": {
        "id": "kVwcAqAM23cw"
      }
    }
  ]
}