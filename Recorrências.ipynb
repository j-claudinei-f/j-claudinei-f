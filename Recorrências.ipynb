{
  "nbformat": 4,
  "nbformat_minor": 0,
  "metadata": {
    "colab": {
      "provenance": [],
      "authorship_tag": "ABX9TyPLuJRoPCO1F1j0tPs77hK5",
      "include_colab_link": true
    },
    "kernelspec": {
      "name": "python3",
      "display_name": "Python 3"
    },
    "language_info": {
      "name": "python"
    }
  },
  "cells": [
    {
      "cell_type": "markdown",
      "metadata": {
        "id": "view-in-github",
        "colab_type": "text"
      },
      "source": [
        "<a href=\"https://colab.research.google.com/github/j-claudinei-f/j-claudinei-f/blob/main/Recorr%C3%AAncias.ipynb\" target=\"_parent\"><img src=\"https://colab.research.google.com/assets/colab-badge.svg\" alt=\"Open In Colab\"/></a>"
      ]
    },
    {
      "cell_type": "markdown",
      "source": [
        "#**Relacões de recorrência e problemas de contagem**\n",
        "\n",
        "José Claudinei Ferreira\n",
        "\n",
        "Universidade Federal de Alfenas"
      ],
      "metadata": {
        "id": "kaV5Fq3q9b0b"
      }
    },
    {
      "cell_type": "markdown",
      "source": [
        "#**Exemplo 1: Progressão aritmética de ordem 2**\n",
        "\n",
        "Sejam $x_1,\\,x_2,\\,\\ldots,\\,x_n$ as alturas de $n$ pessoas.\n",
        "\n",
        "a) Mostre que $2n-3$ comparações entre dois números são suficientes para determinar a pessoa (ou as pessoas) mais baixa e a mais alta.\n",
        "\n",
        "b) Suponha que os valores os valores $x_i$ ainda não foram ordenados e que queira formar uma fila com essas $n$ pessoas, considerando a mais baixa na frente da mais alta e algum acordo no caso de pessoas com a mesma altura. Você pode escolher a primeira e a última da fila e depois inserir as demais pessoas entre elas, se houver mais de 2 pessoas. Para isso, você pode encontrar a mais baixa e a mais alta das $n-2$ pessoas restantes e inseri-las na fila, entre as que já estavam lá ...\n",
        "\n",
        "Seja $a_n$ uma quantidade de comparações suficiente para ordenar as $n$ pessoas por ordem de altura. Determine uma relação de recorrência para $a_n$.\n",
        "\n",
        "c) Mostre que $$a_n=\\frac{n(n-1)}{2}$$ comparações entre alturas são suficientes para ordenar a fila com $n$ pessoas, por ordem de altura, de acordo com a sugestão do item 2)."
      ],
      "metadata": {
        "id": "uYCEshrKzqhf"
      }
    },
    {
      "cell_type": "markdown",
      "source": [
        "**Solução**"
      ],
      "metadata": {
        "id": "TtYWFVAO1G6H"
      }
    },
    {
      "cell_type": "markdown",
      "source": [
        "a) Isso pode ser feito por indução finita e já foi feito em aula."
      ],
      "metadata": {
        "id": "_AifeoU71Kmu"
      }
    },
    {
      "cell_type": "markdown",
      "source": [
        "b) Usando o item a) podemos usar os seguintes passos para ordenar as $n$ pessoas na fila:\n",
        "\n",
        "1. Se $n=1$ não é preciso fazer comparações e $a_1=0$. Se $n=2$ compare a altura de uma pessoa com a da outra e terá $a_2=1$ comparações.\n",
        "\n",
        "2. Se já sabe o valor de $a_j$, para $1\\leq j< n$, usando o item a) temos que é possível determinar uma pessoa mais alta e uma mais baixa das $n$ pessoas, fazendo $2n-3$ comparações entre as alturas delas. Vão restar $n-2$ delas, que você pode ordenar com $a_{n-2}$ comparações entre as alturas delas. Segue que"
      ],
      "metadata": {
        "id": "db91Kzju1RFO"
      }
    },
    {
      "cell_type": "markdown",
      "source": [
        "$$\\begin{cases}a_n&=&a_{n-2}+2n-3\\\\\n",
        "a_1&=&0\\\\\n",
        "a_2&=&1&\\end{cases}$$"
      ],
      "metadata": {
        "id": "pyyH8UBW-hWe"
      }
    },
    {
      "cell_type": "markdown",
      "source": [
        "é uma relação de recorrência que dá um número suficiente de comparações para ordenar as $n$ pessoas (E vimos em outra questão que existe forma muito melhor para fazer isso!)."
      ],
      "metadata": {
        "id": "0B0YKHPH3sfv"
      }
    },
    {
      "cell_type": "markdown",
      "source": [
        "c) Podemos demonstrar isso por indução, usando a relação de recorrência do item b).\n",
        "\n",
        "Mas vamos resolver a relação de recorrência do item b), em vez disso."
      ],
      "metadata": {
        "id": "XXlT-Nqr4Lyn"
      }
    },
    {
      "cell_type": "markdown",
      "source": [
        "Antes veja alguns valores de $a_n$, a partir da relação de recorrência obtida."
      ],
      "metadata": {
        "id": "usozruqV4bBn"
      }
    },
    {
      "cell_type": "code",
      "source": [
        "a=[0,1]\n",
        "for i in range(2,20):\n",
        "  a.append(a[-2]+2*(i+1)-3)\n",
        "print(a)"
      ],
      "metadata": {
        "colab": {
          "base_uri": "https://localhost:8080/"
        },
        "id": "xsySYKx5-mhC",
        "outputId": "c639374a-4e54-45a7-936b-ca838e328f48"
      },
      "execution_count": 1,
      "outputs": [
        {
          "output_type": "stream",
          "name": "stdout",
          "text": [
            "[0, 1, 3, 6, 10, 15, 21, 28, 36, 45, 55, 66, 78, 91, 105, 120, 136, 153, 171, 190]\n"
          ]
        }
      ]
    },
    {
      "cell_type": "markdown",
      "source": [
        "Agora vamos definir outra relação de recorrência como\n",
        "$b_n=a_n-a_{n-1}$. Podemos obter alguns valores para $b_n$:"
      ],
      "metadata": {
        "id": "PpaWI86H4rMQ"
      }
    },
    {
      "cell_type": "code",
      "source": [
        "b=[]\n",
        "for i in range(1,len(a)-1):\n",
        "  b.append(a[i]-a[i-1])\n",
        "print(b)"
      ],
      "metadata": {
        "colab": {
          "base_uri": "https://localhost:8080/"
        },
        "id": "bRZGW154_N_j",
        "outputId": "b32ec836-b9fb-43b1-b5a4-a3edbbb7a4bf"
      },
      "execution_count": 2,
      "outputs": [
        {
          "output_type": "stream",
          "name": "stdout",
          "text": [
            "[1, 2, 3, 4, 5, 6, 7, 8, 9, 10, 11, 12, 13, 14, 15, 16, 17, 18]\n"
          ]
        }
      ]
    },
    {
      "cell_type": "markdown",
      "source": [
        "Usando a recorrência de $a_n$, temos que\n",
        "$$\\begin{cases}b_n&=&a_n-a_{n-1}&=&(a_{n-2}+2n-3)-(a_{n-3}+2(n-2)-3)&=&a_{n-2}-a_{n-3}+4=b_{n-2}+4\\\\\n",
        "b_2&=&1\\\\\n",
        "b_3&=&2&\\end{cases}$$"
      ],
      "metadata": {
        "id": "yEOlmGUM6H2B"
      }
    },
    {
      "cell_type": "markdown",
      "source": [
        "Definimos outra recorrência como $c_n=b_n-b_{n-1}$:"
      ],
      "metadata": {
        "id": "_vcoTgz26qGw"
      }
    },
    {
      "cell_type": "code",
      "source": [
        "c=[]\n",
        "for i in range(1,len(b)-1):\n",
        "  c.append(b[i]-b[i-1])\n",
        "print(c)"
      ],
      "metadata": {
        "colab": {
          "base_uri": "https://localhost:8080/"
        },
        "id": "En_4l9RI_dOD",
        "outputId": "0d91d94b-cbca-452b-dc8b-a32f39d49a12"
      },
      "execution_count": 3,
      "outputs": [
        {
          "output_type": "stream",
          "name": "stdout",
          "text": [
            "[1, 1, 1, 1, 1, 1, 1, 1, 1, 1, 1, 1, 1, 1, 1, 1]\n"
          ]
        }
      ]
    },
    {
      "cell_type": "markdown",
      "source": [
        "Usando a recorrência de $b_n$, temos que\n",
        "$$\\begin{cases}c_n&=&b_n-b_{n-1}&=&(b_{n-2}+4)-(b_{n-3}+4)&=&b_{n-2}-b_{n-3}=c_{n-2}\\\\\n",
        "c_3&=&1\\\\\n",
        "c_4&=&1&\\end{cases}$$"
      ],
      "metadata": {
        "id": "tL9Sov7h67Do"
      }
    },
    {
      "cell_type": "markdown",
      "source": [
        "**Obs. 1:** Note que  $$\\sum_{j\\leq n}c_j=(b_n-b_{n-1})+(b_{n-1}-b_{n-2}+\\cdots +(b_3-b_2)=b_n-b_2 $$ e que  $$\\sum_{j\\leq n}b_j=(a_n-a_{n-1})+(a_{n-1}-a_{n-2}+\\cdots +(a_2-a_1)=a_n-a_1. $$"
      ],
      "metadata": {
        "id": "gLDlL9P2-4bZ"
      }
    },
    {
      "cell_type": "markdown",
      "source": [
        "Seque que $c_n=1$, para todo $n\\geq 3$, serve, o que implica que $$\\begin{cases} b_n&=&b_{n-1}+1\\\\b_2&=&1\\end{cases},$$ que é uma P.A. de razão $1$, ou que $b_n=n-1.$ Por fim, temos que $$\\begin{cases}a_n&=&a_{n-1}+(n-1)\\\\a_1&=&0\\end{cases}$$ é uma soma de uma PA de razão $1$.\n",
        "\n",
        "Então, $$a_n=\\frac{n(n-1)}{2}=\\frac{(b_2+b_n)(n-1)}{2}$$"
      ],
      "metadata": {
        "id": "LODeck667p9B"
      }
    },
    {
      "cell_type": "markdown",
      "source": [
        "**Observação 2:** Ao analisar um problema de contagem por meio de relações de recorrência, é possível obter diferentes fórmulas que descrevem a mesma quantidade.\n",
        "\n",
        "Por exemplo, no item (b):\n",
        "\n",
        "1. Se você começasse escolhendo uma pessoa qualquer, dentre as $ n $ disponíveis, não seriam necessárias comparações — ou seja, $ a_1 = 0 $. Se em seguida escolhesse uma segunda pessoa, dentre as \\( n-1 \\) restantes, e a comparasse com a primeira, faria uma única comparação, resultando em $ a_2 = 1 $. Assim, uma fila com duas pessoas estaria ordenada.\n",
        "\n",
        "1. Já com uma fila ordenada de $ n-1 $ pessoas, ao inserir a $ n $-ésima pessoa, você poderia compará-la com cada uma das outras $ n-1$ para encontrar sua posição correta. Isso exige $ n-1 $ comparações adicionais.\n",
        "\n",
        "Essa estratégia gera a seguinte relação de recorrência:\n",
        "\n",
        "\n",
        "\\begin{cases}\n",
        "a_n = a_{n-1} + (n-1) \\\\\n",
        "a_1 = 0\n",
        "\\end{cases}\n",
        "\n",
        "que também conduz à fórmula fechada:\n",
        "$$\n",
        "a_n = \\frac{n(n-1)}{2}.\n",
        "$$\n"
      ],
      "metadata": {
        "id": "w7HsLgSvNDC1"
      }
    },
    {
      "cell_type": "markdown",
      "source": [
        "**Obs. 3:** Obtida a expressão para $a_n$, podemos definir outra relação de recorrência como \\begin{cases}d_n&=&d_{n-1}+\\frac{n(n-1)}{2}\\\\d_1&=&0\\end{cases} que é a soma de $a_i$, para $1\\leq i\\leq n$.\n",
        "\n",
        "Como $a_n$ é um polinômio de grau $2$ esperamos que $d_n$ seja um polinômio de grau $3$, ou seja, supomos que $$d_n=a+bn+cn^2+dn^3$$ e procuramos determinar $a, b,c, d$."
      ],
      "metadata": {
        "id": "3uGuh-Slx3XP"
      }
    },
    {
      "cell_type": "code",
      "source": [
        "d=[]\n",
        "for i in range(1,10):\n",
        "  if i==1:\n",
        "    d.append(0)\n",
        "  else:\n",
        "    d.append(d[-1]+i*(i-1)/2)\n",
        "d"
      ],
      "metadata": {
        "colab": {
          "base_uri": "https://localhost:8080/"
        },
        "id": "Py5hqtBo0LGY",
        "outputId": "d9fa9589-d58e-49cb-d1ce-f4a2e3460ad4"
      },
      "execution_count": 4,
      "outputs": [
        {
          "output_type": "execute_result",
          "data": {
            "text/plain": [
              "[0, 1.0, 4.0, 10.0, 20.0, 35.0, 56.0, 84.0, 120.0]"
            ]
          },
          "metadata": {},
          "execution_count": 4
        }
      ]
    },
    {
      "cell_type": "markdown",
      "source": [
        "Então, temos o sistema linear \\begin{cases}a+&b+&c+&d&=d_1=0\\\\a+&2b+&2^2c+&2^3d&=d_2=1\\\\a+&3b+&3^2c+&3^3d&=d_3=4\\\\a+&4b+&4^2c+&4^3d&=d_4=10\\end{cases}"
      ],
      "metadata": {
        "id": "n_VzuIDkVq7w"
      }
    },
    {
      "cell_type": "code",
      "source": [
        "n=4\n",
        "M=[[j**i for i in range(n)] for j in range(1,n+1)]\n",
        "M\n",
        "import numpy as np # para lidar com sistemas lineares.\n",
        "M=np.array(M)\n",
        "print('M=',M)\n",
        "b=np.array([d[0],d[1],d[2],d[3]]) # O contador de índices comça no 0.\n",
        "\n",
        "sol=np.linalg.solve(M,b)\n",
        "sol,M@sol"
      ],
      "metadata": {
        "colab": {
          "base_uri": "https://localhost:8080/"
        },
        "id": "mVVAHR1X0pCB",
        "outputId": "52f6ea5a-3d4c-4c6e-c218-d235712d776b"
      },
      "execution_count": 5,
      "outputs": [
        {
          "output_type": "stream",
          "name": "stdout",
          "text": [
            "M= [[ 1  1  1  1]\n",
            " [ 1  2  4  8]\n",
            " [ 1  3  9 27]\n",
            " [ 1  4 16 64]]\n"
          ]
        },
        {
          "output_type": "execute_result",
          "data": {
            "text/plain": [
              "(array([ 7.49400542e-16, -1.66666667e-01,  8.88178420e-16,  1.66666667e-01]),\n",
              " array([ 0.,  1.,  4., 10.]))"
            ]
          },
          "metadata": {},
          "execution_count": 5
        }
      ]
    },
    {
      "cell_type": "markdown",
      "source": [
        "Temos que $a=0$, $b=-\\frac{1}{6}$, $c=0$ e $d=\\frac{1}{6}$.\n",
        "\n",
        "Assim, $$d_n=-\\frac{1}{6}n+\\frac{1}{6}n^3.$$"
      ],
      "metadata": {
        "id": "zSevQsF12ld8"
      }
    },
    {
      "cell_type": "markdown",
      "source": [
        "Teste:"
      ],
      "metadata": {
        "id": "HzV2Qe5F3MiP"
      }
    },
    {
      "cell_type": "code",
      "source": [
        "dd=[]\n",
        "for i in range(1,10):\n",
        "    dd.append((-i+i**3)/6 )\n",
        "dd"
      ],
      "metadata": {
        "colab": {
          "base_uri": "https://localhost:8080/"
        },
        "id": "qUZ2G5793NpE",
        "outputId": "3c124b73-396a-4fcb-e7a4-864b95048aec"
      },
      "execution_count": 6,
      "outputs": [
        {
          "output_type": "execute_result",
          "data": {
            "text/plain": [
              "[0.0, 1.0, 4.0, 10.0, 20.0, 35.0, 56.0, 84.0, 120.0]"
            ]
          },
          "metadata": {},
          "execution_count": 6
        }
      ]
    },
    {
      "cell_type": "markdown",
      "source": [
        "**Obs:** Note que $$(k+1)^3=k^3+3k^2+3k+1$$ é um polinômio de grau 3, em $k$.\n",
        "\n",
        "Note também que $$\\sum_{k=1}^n(k+1)^3=\\sum_{k=1}^nk^3+3\\sum_{k=1}^nk^2+3\\sum_{k=1}^nk+\\sum_{k=1}^n1, $$ implica que\n",
        "$$(n+1)^3-1-3\\frac{n(n+1)}{2}-n=\\sum_{k=1}^n(k+1)^3-\\sum_{k=1}^nk^3-3\\sum_{k=1}^nk-\\sum_{k=1}^n1=3\\sum_{k=1}^nk^2. $$ Então, $$\\sum_{k=1}^nk^2=\\frac{1}{3}\\left((n+1)^3-3\\frac{n(n+1)}{2}-n-1\\right)$$ é um polinômio de grau 3, em $n$."
      ],
      "metadata": {
        "id": "xaG4tzulolYd"
      }
    },
    {
      "cell_type": "markdown",
      "source": [
        "#**Exemplo 2: Contando desordenações**\n",
        "\n",
        "Seja $(x_1,\\,x_2,\\,\\ldots,\\,x_n)$ uma lista com $n$ coisas distintas. De quantas formas podemos reordenar essa lista, de tal forma que cada elemento mude de posição?\n"
      ],
      "metadata": {
        "id": "FiMSrP_EOnA1"
      }
    },
    {
      "cell_type": "markdown",
      "source": [
        "\n",
        "**Solução:** Permutação Caótica (Desarranjo)\n",
        "\n",
        "Uma permutação caótica, ou desarranjo, é uma permutação dos $n$ elementos em que nenhum elemento permanece na sua posição original.\n",
        "\n",
        "A quantidade de deranjos de $n$ elementos é denotada por $D_n$, e satisfaz a seguinte relação de recorrência:\n",
        "\n",
        "\\begin{cases}\n",
        "D_n &=& (n - 1)(D_{n-1} + D_{n-2})\\\\\n",
        "D_0&=&1\\\\\n",
        "D_1&=&0\n",
        "\\end{cases}\n"
      ],
      "metadata": {
        "id": "LtDyYXVgvssZ"
      }
    },
    {
      "cell_type": "markdown",
      "source": [
        "**Explicação da recorrência:**\n",
        "\n",
        "A ideia é considerar o que acontece com o primeiro elemento. Ele não pode ir para a posição 1 (por definição de deranjo), então ele tem $n-1$ escolhas. Duas situações ocorrem a partir disso:\n",
        "\n",
        "1. Se ele troca com alguém que também vai para a posição 1 (uma \"troca direta\"), o problema se reduz a  $D_{n-2}$.\n",
        "\n",
        "2. Se ele vai para uma posição arbitrária e o elemento dessa posição não vai para 1, o problema se reduz a $D_{n-1}$."
      ],
      "metadata": {
        "id": "Uy-jgTSYwigd"
      }
    },
    {
      "cell_type": "markdown",
      "source": [
        "**Resolvendo a recorrênca:**\n",
        "\n",
        "Note que\n",
        "\n",
        "$$c_n=D_n-nD_{n-1}=(n - 1)(D_{n-1} + D_{n-2})-nD_{n-1}=(n - 1)D_{n-2}-nD_{n-1}-D_{n-1}=-c_{n-1}.$$"
      ],
      "metadata": {
        "id": "kM1-_ad6xJEa"
      }
    },
    {
      "cell_type": "code",
      "source": [
        "D=[]\n",
        "for i in range(10):\n",
        "  if i==0:\n",
        "    D.append(1)\n",
        "  elif i==1:\n",
        "    D.append(0)\n",
        "  else:\n",
        "    D.append((i-1)*(D[-1]+D[-2]))\n",
        "D"
      ],
      "metadata": {
        "colab": {
          "base_uri": "https://localhost:8080/"
        },
        "id": "MeEXtgSTx3nr",
        "outputId": "d2c4dcac-f4a6-4835-8c62-93aeaf1ab78e"
      },
      "execution_count": 7,
      "outputs": [
        {
          "output_type": "execute_result",
          "data": {
            "text/plain": [
              "[1, 0, 1, 2, 9, 44, 265, 1854, 14833, 133496]"
            ]
          },
          "metadata": {},
          "execution_count": 7
        }
      ]
    },
    {
      "cell_type": "code",
      "source": [
        "c=[]\n",
        "for i in range(1,10):\n",
        "  c.append(D[i]-i*D[i-1])\n",
        "c"
      ],
      "metadata": {
        "colab": {
          "base_uri": "https://localhost:8080/"
        },
        "id": "tTEjvh3OyWDX",
        "outputId": "a3373b44-5148-479c-b144-302bc926b497"
      },
      "execution_count": 8,
      "outputs": [
        {
          "output_type": "execute_result",
          "data": {
            "text/plain": [
              "[-1, 1, -1, 1, -1, 1, -1, 1, -1]"
            ]
          },
          "metadata": {},
          "execution_count": 8
        }
      ]
    },
    {
      "cell_type": "markdown",
      "source": [
        "O que nos diz que $c_n=(-1)^{n}$ e segue que\n",
        "\\begin{cases}D_n&=&nD_{n-1}+(-1)^{n}\\\\\n",
        "D_1&=&0\\end{cases}"
      ],
      "metadata": {
        "id": "db9OJvlryw2w"
      }
    },
    {
      "cell_type": "markdown",
      "source": [
        "Seja $a_n=na_{n-1}$. Então podemos verificar que $a_n=n!$ é o número total de listas formadas pelos $n$ elementos $x_i$.\n",
        "\n",
        "Tomando agora $$D_n=a_ny_n=n!y_n,$$\n",
        "temos que $y_1=0$ e $$D_n=n!y_n=nD_{n-1}+(-1)^n=n(n-1)!y_{n-1}+(-1)^n.$$ Isso nos dá\n",
        "$$y_n=y_{n-1}+\\frac{(-1)^n}{n!}.$$"
      ],
      "metadata": {
        "id": "EvrGIcdBzeLn"
      }
    },
    {
      "cell_type": "markdown",
      "source": [
        "Então, \\begin{cases}y_2&=&y_1+\\frac{(-1)^2}{2!}\\\\\\\\y_3&=&y_1+\\frac{(-1)^2}{2!}+\\frac{(-1)^3}{3!}\\\\\\vdots \\\\ y_n&=&y_1+\\frac{(-1)^2}{2!}+\\frac{(-1)^3}{3!}+\\cdots+\\frac{(-1)^n}{n!}\\end{cases} e $$D_n=n!\\left(\\frac{(-1)^0}{0!}+\\frac{(-1)^1}{1!}+\\frac{(-1)^2}{2!}+\\frac{(-1)^3}{3!}+\\cdots+\\frac{(-1)^n}{n!}\\right).$$"
      ],
      "metadata": {
        "id": "K7qnWtKVzwxc"
      }
    },
    {
      "cell_type": "markdown",
      "source": [
        "A fórmula explícita para $D_n$:\n",
        "\n",
        "$$\n",
        "D_n = n! \\sum_{k=0}^{n} \\frac{(-1)^k}{k!}\n",
        "$$\n",
        "\n",
        "Esta fórmula pode ser aproximada por:\n",
        "\n",
        "$$\n",
        "D_n \\approx \\frac{n!}{e}.\n",
        "$$"
      ],
      "metadata": {
        "id": "kVwcAqAM23cw"
      }
    },
    {
      "cell_type": "markdown",
      "source": [],
      "metadata": {
        "id": "VDX8aw1Fb523"
      }
    },
    {
      "cell_type": "markdown",
      "source": [
        "#**Exemplo 3: Uma forma para somar produto de expressões**"
      ],
      "metadata": {
        "id": "g1iv8Hx8VoQn"
      }
    },
    {
      "cell_type": "markdown",
      "source": [
        "Resolver a relação de recorrência $$a_{n+1}=3a_n+n,\\qquad a_1=1.$$"
      ],
      "metadata": {
        "id": "HFBXh56ufsHj"
      }
    },
    {
      "cell_type": "markdown",
      "source": [
        "**Uma forma de resolução:**\n",
        "\n",
        "Já vimos que uma solução da relação $$x_{n+1}=3x_n$$ é $x_n=3^n$. Isso nos permite escrever $a_n=3^ny_n$ e encontrar $y_n$, por meio da expressão $$y_{n+1}=y_{n}+\\frac{n}{3^n\\times 3},\\qquad 3^1y_1=a_1.$$\n",
        "\n",
        "Então, temos $$y_2=y_1+\\frac{1}{3^2}=\\frac{1}{3}+\\frac{1}{3^2}$$ e  $$y_3=y_2+\\frac{2}{3^3}=\\frac{1}{3}+\\frac{1}{3^2}+\\frac{2}{3^3}$$, ....\n",
        "\n",
        "Logo, $$y_n=\\frac{1}{3}+\\sum_{i=1}^{n-1}\\frac{i}{3^{i+1}},\\quad n>1.$$\n",
        "\n",
        "SEgue que $$a_n=3^{n}\\left(\\frac{1}{3}+\\sum_{i=1}^{n-1}\\frac{i}{3^{i+1}}\\right).$$"
      ],
      "metadata": {
        "id": "8DsNv6yYf7LG"
      }
    },
    {
      "cell_type": "markdown",
      "source": [
        "**Obs. 4:** Será que conseguimos simplificar a expressão anterior e deixar ela sem somatório?\n",
        "\n",
        "Do que já falamos no curso, o que tem de novo é o somatório envolvendo o produto $g(n)h(n)$, em que $g(n)=n=g_n$ é um polinômio e  $h(n)=\\frac{1}{3^{n+1}}=h_n$ é exponêncial. Queremos então calcular o valore de $$\\sum_{i=1}^ng(i)h(i).$$"
      ],
      "metadata": {
        "id": "9ZHUYSxVgaFQ"
      }
    },
    {
      "cell_type": "markdown",
      "source": [
        "**Inserindo uma notação de operador diferença**\n",
        "\n",
        "Definimos o operador diferença\n",
        "$$\\Delta a_n=a_{n+1}-a_n,$$ para uma sequência $a_n$.\n",
        "\n",
        "Note que já usamos a expressão $a_n-a_{n-1}$ neste texto, por exemplo. Essa diferença também poderia ser a nossa definição."
      ],
      "metadata": {
        "id": "PxVfHVlXtrbX"
      }
    },
    {
      "cell_type": "markdown",
      "source": [
        "Segue dessa definição que vale a igualdade na soma $$\\sum_{i=k}^n\\Delta a_i=a_{n+1}-a_k.$$\n",
        "\n",
        "Agora note que, se $a_n=b_nc_n$, em que $b_n$ e $c_n$ são sequências conhecidas.\n",
        "\n",
        "Então, $$\\Delta a_n=a_{n+1}-a_n=b_{n+1}c_{n+1}-b_nc_n$$ e um ajuste nessa expressão nos dá\n",
        "$$\\Delta a_n=(b_{n+1}c_{n+1}-b_{n+1}c_n)+(b_{n+1}c_n-b_nc_n)=b_{n+1}\\Delta c_n+c_{n}\\Delta b_n.\\tag{$\\star$}$$ Em particular, $$-b_{n+1}\\Delta c_n=\\Delta(b_nc_n)+c_{n}\\Delta b_n.$$"
      ],
      "metadata": {
        "id": "NaIoc7MfuBb7"
      }
    },
    {
      "cell_type": "markdown",
      "source": [
        "**Voltando ao exemplo:** Com essa notação, temos\n",
        "$$\\Delta g_n=g(n+1)-g(n)=1$$\n",
        "e que  $$\\Delta h_n=h_{n+1}-h_n=\\frac{1}{3^{n+2}}-\\frac{1}{3^{n+1}}=\\frac{1}{3^{n+1}}\\left(\\frac{1}{3}-1\\right)=-\\frac{1}{3^{n+1}}\\frac{2}{3}=-2\\times\\frac{1}{3^{n+2}},$$ ou que $$-\\frac{1}{2}\\Delta h_n=\\frac{1}{3^{n+2}},\\qquad n\\in \\mathbb{Z}.$$\n",
        "\n",
        "Podemos usar isso para escrever a igualdade\n",
        "$$\\sum_{i=1}^{n-1}\\frac{i}{3^{i+1}}=\\sum_{i=1}^{n-1}g_ih_i=-\\sum_{i=1}^{n-1}g_i\\left(\\frac{1}{2}\\Delta h_{i-1}\\right)=-\\frac{1}{2}\\sum_{i=0}^{n-2}g_{i+1}\\Delta h_{i}.$$"
      ],
      "metadata": {
        "id": "efm29jnE2AXa"
      }
    },
    {
      "cell_type": "markdown",
      "source": [
        "Usando agora a expressõa $(\\star)$, podemos reescrever essa soma como\n",
        "$$\\sum_{i=1}^{n-1}\\frac{i}{3^{i+1}}=-\\frac{1}{2}\\sum_{i=0}^{n-2}\\left(\\Delta (g_{i}h_i)+h_i\\Delta g_{i}\\right)=-\\frac{1}{2}\\left(\\sum_{i=0}^{n-2}\\Delta (g_{i}h_i)+\\sum_{i=0}^{n-2}\\frac{1}{3^{i+1}}\\right).$$"
      ],
      "metadata": {
        "id": "p-uRwuab5nVs"
      }
    },
    {
      "cell_type": "markdown",
      "source": [
        "Por fim,\n",
        "$$\\sum_{i=1}^{n-1}\\frac{i}{3^{i+1}}=-\\frac{1}{2}\\left(\\left(g_{n-1}h_{n-1}-g_0h_0\\right)+\\frac{1}{3}\\left(\\frac{\\left(\\frac{1}{3})\\right)^{n-1}-1}{\\frac{1}{3}-1}\\right)\\right)=-\\frac{1}{2}\\left((n-1)\\frac{1}{3^n}+\\frac{1}{2}\\left(\\frac{1}{3^{n-1}}-1\\right)\\right).$$ E segue que\n",
        "$$a_n=3^ny_n=3^n\\left(\\frac{1}{3}-\\frac{1}{2}\\left((n-1)\\frac{1}{3^n}+\\frac{1}{2}\\left(\\frac{1}{3^{n-1}}-1\\right)\\right)\\right)=3^{n-1}-\\frac{n-1}{2}-\\frac{3}{4}+\\frac{3^n}{4}.$$\n",
        "\n",
        "Ou seja, $$a_n=\\frac{7}{12}\\times 3^{n}-\\frac{2n+1}{4}.$$"
      ],
      "metadata": {
        "id": "iO1W17TW8EeT"
      }
    },
    {
      "cell_type": "markdown",
      "source": [
        "**Testendo o resultado obtido:**\n",
        "\n",
        "Vamos testar o que obtemos:"
      ],
      "metadata": {
        "id": "_22RtfIQ-zv2"
      }
    },
    {
      "cell_type": "markdown",
      "source": [
        "Primeiro olhamos para $$a_{n+1}=3a_n+n,\\qquad a_1=1,$$ e calculamos alguns $a_i$."
      ],
      "metadata": {
        "id": "d35Jglac_R_j"
      }
    },
    {
      "cell_type": "code",
      "source": [
        "a=[1]                     # Lista com 1 termo.\n",
        "\n",
        "for i in range(1,10):\n",
        "  a=a+[3*a[i-1] + i-1]      # Aumento a lista com um termo.\n",
        "a"
      ],
      "metadata": {
        "colab": {
          "base_uri": "https://localhost:8080/"
        },
        "id": "7mtBkE0A-3y-",
        "outputId": "b1f61304-c4ef-474d-ff50-078d60cb8f77"
      },
      "execution_count": 9,
      "outputs": [
        {
          "output_type": "execute_result",
          "data": {
            "text/plain": [
              "[1, 3, 10, 32, 99, 301, 908, 2730, 8197, 24599]"
            ]
          },
          "metadata": {},
          "execution_count": 9
        }
      ]
    },
    {
      "cell_type": "markdown",
      "source": [
        "Agora olhamos para\n",
        "$$a_n=\\frac{7}{12}\\times 3^{n}-\\frac{2n+1}{4},$$ e comparamos com os valores anteriores."
      ],
      "metadata": {
        "id": "h5kZWfti_Z3K"
      }
    },
    {
      "cell_type": "code",
      "source": [
        "a=[]                  # Espaço vazio para guardar números depois.\n",
        "for i in range(0,10):\n",
        "  a=a+[15*(3**i)/12-(2*i+1)/4]\n",
        "a"
      ],
      "metadata": {
        "colab": {
          "base_uri": "https://localhost:8080/"
        },
        "id": "bnriWNJ6_hjT",
        "outputId": "48e6d755-05e3-4cee-9fcb-75dd7d28785b"
      },
      "execution_count": 10,
      "outputs": [
        {
          "output_type": "execute_result",
          "data": {
            "text/plain": [
              "[1.0, 3.0, 10.0, 32.0, 99.0, 301.0, 908.0, 2730.0, 8197.0, 24599.0]"
            ]
          },
          "metadata": {},
          "execution_count": 10
        }
      ]
    },
    {
      "cell_type": "markdown",
      "source": [
        "Isso sugere que não erramos cálculos."
      ],
      "metadata": {
        "id": "sJHquFGQuHye"
      }
    },
    {
      "cell_type": "markdown",
      "source": [
        "#**Exercícios** no [link](https://colab.research.google.com/drive/11EJ9dLn5hK4ZbciL6hRa7zrPyKl8gMGF?usp=sharing)"
      ],
      "metadata": {
        "id": "NrcXT4Q-oVIo"
      }
    }
  ]
}