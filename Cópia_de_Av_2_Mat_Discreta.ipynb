{
  "nbformat": 4,
  "nbformat_minor": 0,
  "metadata": {
    "colab": {
      "provenance": [],
      "authorship_tag": "ABX9TyNVVZLRd2IUPYKWLLuffKPC",
      "include_colab_link": true
    },
    "kernelspec": {
      "name": "python3",
      "display_name": "Python 3"
    },
    "language_info": {
      "name": "python"
    }
  },
  "cells": [
    {
      "cell_type": "markdown",
      "metadata": {
        "id": "view-in-github",
        "colab_type": "text"
      },
      "source": [
        "<a href=\"https://colab.research.google.com/github/j-claudinei-f/j-claudinei-f/blob/main/C%C3%B3pia_de_Av_2_Mat_Discreta.ipynb\" target=\"_parent\"><img src=\"https://colab.research.google.com/assets/colab-badge.svg\" alt=\"Open In Colab\"/></a>"
      ]
    },
    {
      "cell_type": "markdown",
      "source": [
        "#**Avaliação II: Possível gabarito**\n",
        "\n",
        "José Claudinei Ferreira\n",
        "\n",
        "Universidade Federal de Alfenas"
      ],
      "metadata": {
        "id": "BgIlArs46EbF"
      }
    },
    {
      "cell_type": "markdown",
      "source": [
        "Seguem problemas para resolverem como parte da avaliação.\n",
        "\n",
        "---"
      ],
      "metadata": {
        "id": "WsvI5Fnh6S9x"
      }
    },
    {
      "cell_type": "markdown",
      "source": [
        "1. (1 ponto) Se $a_1=1$ e $$a_{n+1}=2a_n+n+1.$$ Determine $a_n$, em função apenas de $n$.\n",
        "\n",
        "Dica: Veja exemplo neste [link](https://github.com/j-claudinei-f/j-claudinei-f/blob/main/Recorr%C3%AAncias_ordem1.ipynb)."
      ],
      "metadata": {
        "id": "9NZcTRhR6KnX"
      }
    },
    {
      "cell_type": "markdown",
      "source": [
        "**Resolução:**\n",
        "\n",
        "Se olharmos para a relação de recorência dada e considerarmos a parte $b_{n+1}=2b_n$, encontramos a solução da forma $b_n=c2^n$. Podemos ecolher $c=1$.\n",
        "\n",
        "Agora, seja $y_n$ tal que $2^ny_n=a_n$. Segue, da relação de recorrência dada, que $$\\begin{cases}2^{n+1}y_{n+1}&=&a_{n+1}\\\\\\\\&=&2a_n+n+1\\\\\\\\&=&2\\times 2^ny_n+n+1\\end{cases},$$ ou\n",
        "que $$\\begin{cases}y_{n+1}&=&y_n+\\frac{n+1}{2^{n+1}}\\\\\\\\y_1=\\frac{1}{2}\\end{cases}.$$\n",
        "\n",
        "Sendo assim, vamos encontrar $y_n$ e depois usá-lo para encontrar $a_n$.\n",
        "\n",
        "Como $$\\begin{cases}y_1&=&\\frac{1}{2}\\\\\\\\\n",
        "y_2&=&y_1+\\frac{2}{2^2}=\\frac{1}{2}+\\frac{2}{2^2}\\\\\n",
        "\\\\\n",
        "y_3&=&y_2+\\frac{3}{2^3}=\\frac{1}{2}+\\frac{2}{2^2}+\\frac{3}{2^3}\\\\\\vdots&\\vdots&\\vdots\\\\y_n&=&y_{n-1}+\\frac{n}{2^n}=\\frac{1}{2}+\\frac{2}{2^2}+\\cdots+\\frac{n}{2^n}\\\\\\\\&=&\\sum_{j=1}^n\\frac{j}{2^j}\\end{cases}$$\n",
        "\n",
        "Portanto, $$a_n=2^ny_n=2^n\\sum_{j=1}^n\\frac{j}{2^j},$$ e podemos melhorar essa expressão pensando no somatório\n",
        "$$\\sum_{j=1}^n\\frac{j}{2^j}.\\tag{1}$$\n"
      ],
      "metadata": {
        "id": "KM9v8eOpvyq7"
      }
    },
    {
      "cell_type": "markdown",
      "source": [
        "\n",
        "Como essa soma não é muito conhecida, podemos olhar para a dica dada, que remete a pensar com o operador diferenças $$\\Delta f_n=f_{n+1}-f_n$$ e numa variação envolvendo produto de sequências, dado por\n",
        "$$\\begin{cases}\\Delta (f_ng_n)&=&f_{n+1}g_{n+1}-f_ng_n\\\\\\\\&=&f_{n+1}g_{n+1}-f_{n+1}g_n+f_{n+1}g_n-f_ng_n\\\\\\\\&=&f_{n+1}\\Delta g_n+g_n\\Delta f_n\\end{cases}$$ Essa última expressão nos leva à igualdade\n",
        "$$\\Delta (f_ng_n)-g_n\\Delta f_n=f_{n+1}\\Delta g_n.\\tag{2}$$"
      ],
      "metadata": {
        "id": "cccmNfVa2h4b"
      }
    },
    {
      "cell_type": "markdown",
      "source": [
        "Observando agora que, se tomarmos $f_n=n$ e $g_n=2^{-n}$, vamos obter\n",
        "$$\\Delta g_j=\\frac{1}{2^{j+1}}-\\frac{1}{2^j}=-\\frac{1}{2^{j+1}}.$$\n",
        "Com isso, podemos escrever, cada termo do somatório (1) como\n",
        "$$\\frac{j}{2^j}=-f_j\\Delta g_{j-1}, $$ ou\n",
        "$$\\frac{j+1}{2^{j+1}}=-f_{j+1}\\Delta g_{j}=-\\left(\\Delta f_jg_j-g_j\\Delta f_j\\right)=-\\Delta f_jg_j+g_j\\Delta f_j,$$ tendo em mente a Expressão (2).\n",
        "\n",
        "Reescrevendo o somatório (1), levando isso em consideração, obtemos\n",
        "$$\\sum_{j=1}^n\\frac{j}{2^j}=\\sum_{j=0}^{n-1}\\frac{j+1}{2^{j+1}}=-\\sum_{j=0}^{n-1}f_{j+1}\\Delta g_j=-\\color{blue}{\\sum_{j=0}^{n-1}\\Delta (f_{j} g_j})+\\color{green}{\\sum_{j=0}^{n-1}g_{j}\\Delta f_j}.\\tag{$1^*$}$$"
      ],
      "metadata": {
        "id": "QTo5c0tr4In7"
      }
    },
    {
      "cell_type": "markdown",
      "source": [
        "Fazendo as substituições das últimas duas somas, obtemos\n",
        "$$\\sum_{j=1}^n\\frac{j}{2^j}=-\\color{blue}{\\sum_{j=0}^{n-1}\\Delta (f_{j} g_j)}+\\color{green}{\\sum_{j=0}^{n-1}g_{j}\\Delta f_j}=-\\color{blue}{(f_ng_n-f_0g_0)}+\\color{green}{\\sum_{j=0}^{n-1}g_{j}},\\tag{$1^{**}$}$$ porque $\\Delta f_n=1$ e $$\\sum_{j=0}^{n-1}\\Delta (f_{j} g_j)=f_ng_n-f_0g_0.$$\n",
        "\n",
        "Finalmente,\n",
        "$$a_n=2^n\\sum_{j=1}^n\\frac{j}{2^j}=2^n\\left(-\\color{blue}{\\left(\\frac{n}{2^n}-\\frac{0}{2^0}\\right)}+\\color{green}{\\frac{1-\\left(\\frac{1}{2}\\right)^n}{1-\\frac{1}{2}}}\\right)=-\\color{blue}{n}+\\color{green}{2^{n+1}-2},\\tag{3}$$ lembrando que $$\\color{green}{\\sum_{j=0}^{n-1}g_{j}}=1+\\frac{1}{2}+\\cdots+\\left(\\frac{1}{2}\\right)^{n-1}=\\frac{1-\\left(\\frac{1}{2}\\right)^n}{1-\\frac{1}{2}}.$$\n",
        "\n"
      ],
      "metadata": {
        "id": "czpSkjCk7ar3"
      }
    },
    {
      "cell_type": "markdown",
      "source": [
        "Você pode checar seus cálculos usando a relação de recorrência para $a_n$ dada no ínício do problema."
      ],
      "metadata": {
        "id": "f0DNWeXVnGu_"
      }
    },
    {
      "cell_type": "code",
      "source": [
        "a=[0]                  # a(1)=a(0+1)=2*a(0)+0+1 e a(0)=0\n",
        "for i in range(0,10):\n",
        "  a.append(2*a[i]+i+1)      # a(n+1)=2a(n)+n+1\n",
        "a"
      ],
      "metadata": {
        "colab": {
          "base_uri": "https://localhost:8080/"
        },
        "id": "QqOEA96snHqN",
        "outputId": "2b0b3e8c-8188-4da3-ce08-cab9f511f278"
      },
      "execution_count": 19,
      "outputs": [
        {
          "output_type": "execute_result",
          "data": {
            "text/plain": [
              "[0, 1, 4, 11, 26, 57, 120, 247, 502, 1013, 2036]"
            ]
          },
          "metadata": {},
          "execution_count": 19
        }
      ]
    },
    {
      "cell_type": "markdown",
      "source": [
        "Para a expressão obtida na Expressão (3):"
      ],
      "metadata": {
        "id": "1c0iDYWPnp3e"
      }
    },
    {
      "cell_type": "code",
      "source": [
        "def a(n):                # função a(n), para cada n natural\n",
        "  p=-n+2**(n+1)-2\n",
        "  return p\n",
        "\n",
        "q=[]\n",
        "for i in range(0,10+1):\n",
        "  q.append(a(i))\n",
        "\n",
        "q"
      ],
      "metadata": {
        "colab": {
          "base_uri": "https://localhost:8080/"
        },
        "id": "rQdsImR1n18q",
        "outputId": "bcd9959d-c4f6-4513-a990-85706c96faec"
      },
      "execution_count": 21,
      "outputs": [
        {
          "output_type": "execute_result",
          "data": {
            "text/plain": [
              "[0, 1, 4, 11, 26, 57, 120, 247, 502, 1013, 2036]"
            ]
          },
          "metadata": {},
          "execution_count": 21
        }
      ]
    },
    {
      "cell_type": "markdown",
      "source": [
        "---"
      ],
      "metadata": {
        "id": "c8wWHNW1zLUK"
      }
    },
    {
      "cell_type": "markdown",
      "source": [
        "2. (1 ponto) Se $a_1=a_2=1$ e $$a_{n+1}=3a_n-2a_{n-1}+n+1.$$ Determine $a_n$, em função apenas de $n$.\n",
        "\n"
      ],
      "metadata": {
        "id": "tgs0XXHO6Y2k"
      }
    },
    {
      "cell_type": "markdown",
      "source": [
        "**Resolução:**\n",
        "\n",
        "Uma forma de resolver esse problema é escrever a relação de recorrência dada como $$\\begin{cases}a_{n+1}-a_n&=&2(a_n-a_{n-1})+n+1\\\\a_1&=&1\\\\a_2&=&1\\end{cases}.$$\n",
        "\n",
        "Escrevendo $b_n=\\Delta a_n=a_{n+1}-a_n$, obtemos uma nova relação de recorrência\n",
        "$$\\begin{cases}b_n&=&2b_{n-1}+n+1\\\\b_1&=&0\\end{cases},$$ ou\n",
        "$$\\begin{cases}b_{n+1}&=&2b_{n}+n+2\\\\b_1&=&0\\end{cases},$$ que podemos reaolver pelo método da Questão 1.\n",
        "\n",
        "\n"
      ],
      "metadata": {
        "id": "VyWqJuEe8Z8o"
      }
    },
    {
      "cell_type": "markdown",
      "source": [
        "Agora, seja $y_n$ tal que $2^ny_n=b_n$. Segue, da relação de recorrência logo acima, que\n",
        "que $$\\begin{cases}y_{n+1}&=&y_n+\\frac{n+2}{2^{n+1}}\\\\\\\\y_1=0\\end{cases}.$$\n",
        "\n",
        "Sendo assim, vamos encontrar $y_n$ e depois usá-lo para encontrar $b_n$.\n",
        "\n",
        "Como $$\\begin{cases}y_1&=&0\\\\\\\\\n",
        "y_2&=&y_1+\\frac{3}{2^2}=\\frac{3}{2^2}\\\\\n",
        "\\\\\n",
        "y_3&=&y_2+\\frac{4}{2^3}=\\frac{3}{2^2}+\\frac{4}{2^3}\\\\\\vdots&\\vdots&\\vdots\\\\y_n&=&y_{n-1}+\\frac{n+1}{2^n}=\\frac{3}{2^2}+\\frac{4}{2^3}+\\cdots+\\frac{n+1}{2^n}\\\\\\\\&=&\\sum_{j=2}^n\\frac{j+1}{2^j}\\\\\\\\&=&\\sum_{j=2}^n\\frac{j}{2^j}+\\sum_{j=2}^n\\frac{1}{2^j}\\end{cases}$$\n",
        "\n",
        "Portanto, $$b_n=2^ny_n=2^n\\left(\\sum_{j=2}^n\\frac{j}{2^j}+\\sum_{j=2}^n\\frac{1}{2^j}\\right).$$\n",
        "\n",
        "Já sabemos, também da Questão 1, que\n",
        "$$2^n\\sum_{j=1}^n\\frac{j}{2^j}=-{n}+{2^{n+1}-2},$$ e que sabemos que $$\\sum_{j=0}^n\\frac{1}{2^j}=1+\\frac{1}{2}+\\cdots+\\left(\\frac{1}{2}\\right)^{n}=\\frac{1-\\left(\\frac{1}{2}\\right)^{n+1}}{1-\\frac{1}{2}}=2\\left(1-\\left(\\frac{1}{2}\\right)^{n+1}\\right)=2-\\frac{1}{2^{n}}.$$\n",
        "\n",
        "\n"
      ],
      "metadata": {
        "id": "jAdzuxX0AVqZ"
      }
    },
    {
      "cell_type": "markdown",
      "source": [
        "Então $$b_n=\\left(\\left(2^{n+1}-(n+2)\\right)-2^n\\times \\frac{1}{2}\\right)+2^n\\left(2-\\left(\\frac{1}{2^{n}}\\right)-1-\\frac{1}{2}\\right)$$ ou\n",
        "$$b_n=2^{n+1}-(n+3).$$"
      ],
      "metadata": {
        "id": "jtMv6qQ3InRg"
      }
    },
    {
      "cell_type": "code",
      "source": [
        "b=[-1]                  # b(1)=b(0+1)=2*b(0)+0+2 e b(0)=-1\n",
        "for i in range(0,10):\n",
        "  b.append(2*b[i]+i+2)      # b(n+1)=2b(n)+n+2\n",
        "b"
      ],
      "metadata": {
        "colab": {
          "base_uri": "https://localhost:8080/"
        },
        "id": "nUIeCQDgFY1f",
        "outputId": "c222f3b4-9702-4d23-f6ed-06a48867073b"
      },
      "execution_count": 23,
      "outputs": [
        {
          "output_type": "execute_result",
          "data": {
            "text/plain": [
              "[-1, 0, 3, 10, 25, 56, 119, 246, 501, 1012, 2035]"
            ]
          },
          "metadata": {},
          "execution_count": 23
        }
      ]
    },
    {
      "cell_type": "markdown",
      "source": [
        "Com a forma encontrada:"
      ],
      "metadata": {
        "id": "L_dra6YiMcKl"
      }
    },
    {
      "cell_type": "code",
      "source": [
        "def b(n):                # função a(n), para cada n natural\n",
        "  p=-n+2**(n+1)-3\n",
        "  return p\n",
        "\n",
        "q=[]\n",
        "for i in range(0,10+1):\n",
        "  q.append(b(i))\n",
        "\n",
        "q"
      ],
      "metadata": {
        "colab": {
          "base_uri": "https://localhost:8080/"
        },
        "id": "pfImuaQKMeyU",
        "outputId": "97a7b68f-37a5-44cc-e814-93ff8d98b2dc"
      },
      "execution_count": 24,
      "outputs": [
        {
          "output_type": "execute_result",
          "data": {
            "text/plain": [
              "[-1, 0, 3, 10, 25, 56, 119, 246, 501, 1012, 2035]"
            ]
          },
          "metadata": {},
          "execution_count": 24
        }
      ]
    },
    {
      "cell_type": "markdown",
      "source": [
        "Ainda precisamos encontrar $a_n$ tal que $$b_n=a_{n+1}-a_n=2^{n+1}-(n+3),$$ ou\n",
        "$$\\begin{cases}a_{n+1}&=&a_n+2^{n+1}-(n+3)\\\\a_1&=&1\\end{cases}.$$\n",
        "\n",
        "Isso nos diz que\n",
        " $$\\begin{cases}a_n&=&a_{n-1}+2^n-(n+2)\\\\\\\\\n",
        " &=&a_{n-2}+2^{n-1}+2^{n}-((n+1)+(n+2))\\\\\\\\\n",
        " &=&a_2+2^3+2^4+\\cdots +2^n-(5+\\cdots+(n+1)+(n+2))\\\\\\\\&=&\n",
        " 1+2^{3}(1+2+\\cdots+2^{n-3})-\\frac{(5+(n+2))(n-2)}{2}\\\\\\\\&=&1+2^3(2^{n-2}-1)-\\frac{(n-2)(n+7)}{2}\\\\\\\\&=&2^{n+1}-7-\\frac{(n-2)(n+7)}{2}\\\\\\\\&=&2^{n+1}-\\frac{n(n+5)}{2}\\end{cases}$$"
      ],
      "metadata": {
        "id": "D0od635TOsBQ"
      }
    },
    {
      "cell_type": "markdown",
      "source": [
        "Testanto os resultados pela relação de recorrência:"
      ],
      "metadata": {
        "id": "aqOzAM3rbSOu"
      }
    },
    {
      "cell_type": "code",
      "source": [
        "a=[2,1]                  # a(1)=a(2)=1\n",
        "for i in range(1,10):\n",
        "  a.append(3*a[i]-2*a[i-1]+i+1)      # a(n+1)=3a(n)-2a(n-1)+n+1\n",
        "a"
      ],
      "metadata": {
        "colab": {
          "base_uri": "https://localhost:8080/"
        },
        "id": "yvkEffhia-zb",
        "outputId": "79b4c65b-c7c0-493c-a355-d49fcb538b6c"
      },
      "execution_count": 9,
      "outputs": [
        {
          "output_type": "execute_result",
          "data": {
            "text/plain": [
              "[2, 1, 1, 4, 14, 39, 95, 214, 460, 961, 1973]"
            ]
          },
          "metadata": {},
          "execution_count": 9
        }
      ]
    },
    {
      "cell_type": "markdown",
      "source": [
        "Ou"
      ],
      "metadata": {
        "id": "3S6Sa0O2cwQJ"
      }
    },
    {
      "cell_type": "code",
      "source": [
        "a=[2]                  # a(2)=1=a(1) e a(0)=2\n",
        "for i in range(0,10):\n",
        "  a.append(a[i]+2**(i+1)-(i+3))      # a(n+1)=a(n)+2^(n+1)-(n+3)\n",
        "a"
      ],
      "metadata": {
        "colab": {
          "base_uri": "https://localhost:8080/"
        },
        "id": "pY1wDjdscxM5",
        "outputId": "6f09d2a7-39a9-4bb8-99ba-578046ed7e89"
      },
      "execution_count": 12,
      "outputs": [
        {
          "output_type": "execute_result",
          "data": {
            "text/plain": [
              "[2, 1, 1, 4, 14, 39, 95, 214, 460, 961, 1973]"
            ]
          },
          "metadata": {},
          "execution_count": 12
        }
      ]
    },
    {
      "cell_type": "markdown",
      "source": [
        "Pela exprassão em função de $n$:"
      ],
      "metadata": {
        "id": "75SJBzAZbXp-"
      }
    },
    {
      "cell_type": "code",
      "source": [
        "def a(n):                # função a(n), para cada n natural\n",
        "  p=2**(n+1)-7-((n+7)*(n-2))/2\n",
        "  return p\n",
        "\n",
        "q=[]\n",
        "for i in range(0,10+1):\n",
        "  q.append(a(i))\n",
        "\n",
        "q"
      ],
      "metadata": {
        "colab": {
          "base_uri": "https://localhost:8080/"
        },
        "id": "nofS-7B9bdqk",
        "outputId": "06379341-f0ab-452b-907e-4468e32fef81"
      },
      "execution_count": 18,
      "outputs": [
        {
          "output_type": "execute_result",
          "data": {
            "text/plain": [
              "[2.0, 1.0, 1.0, 4.0, 14.0, 39.0, 95.0, 214.0, 460.0, 961.0, 1973.0]"
            ]
          },
          "metadata": {},
          "execution_count": 18
        }
      ]
    },
    {
      "cell_type": "markdown",
      "source": [
        "**Obs:** Essa questão poderia ser resolvida primeiro encontrando as soluções da equação $$b_{n+1}-3b_n+2b_{n-1}=0$$ e depois procurando soluções particulares da equação\n",
        "$$b_{n+1}-3b_n+2b_{n-1}=n+1,$$ tais que $a_1=a_2=1$, por tentativa, como é feito no livro texto.\n",
        "\n",
        "Em todo, caso é preciso pensar se a tentativa gera solução correta, porque pode haver erro de cálculo ou de chute de forma da resposta."
      ],
      "metadata": {
        "id": "DvooZ6Db7hut"
      }
    },
    {
      "cell_type": "markdown",
      "source": [
        "---"
      ],
      "metadata": {
        "id": "U-7UB6398VLr"
      }
    },
    {
      "cell_type": "markdown",
      "source": [
        "\n",
        "3. (2 pontos) Um apartamamento na planta, de 35.7 metros quadrados, na Praia das Toninhas, no Guarujá, é colocado a venda nas seguintes condições:\n",
        "\n",
        "A entrada é parcelada em 12 vezes de $R\\$ 10.351,04$, com um mês de carência. O restante deverá ser pago em 42 prestações de $R\\$ 2.261,00$. Além disso terão 4 prestações intermediárias de $R\\$ 10.175,00$, de seis em seis meses.\n",
        "\n",
        "a) Sabendo que a taxa de juros do financiamento é de $12\\%$ ao ano. Determine o valor real do apartamento, em caso de pagamanto a vista.\n",
        "\n",
        "b) Se o saldo devedor for corrigido mensalmente pela tabela TR, qual seria o saldo restante após o final dos pagamentos. Aqui, considere a TR média de 2022, porque não tem como prever a TR futura."
      ],
      "metadata": {
        "id": "MmiVVFMN6Zgh"
      }
    },
    {
      "cell_type": "markdown",
      "source": [
        "---"
      ],
      "metadata": {
        "id": "NulgTYM8iYxG"
      }
    },
    {
      "cell_type": "markdown",
      "source": [
        "4. (2 pontos ) Resolva o problema do Exemplo 9 deste [link](https://github.com/j-claudinei-f/j-claudinei-f/blob/main/Combinatoria.ipynb).\n"
      ],
      "metadata": {
        "id": "LvbLTZRmd64O"
      }
    },
    {
      "cell_type": "markdown",
      "source": [
        "---"
      ],
      "metadata": {
        "id": "PgPVHL28iWfA"
      }
    },
    {
      "cell_type": "markdown",
      "source": [
        "5. Um [poliedro](https://pt.wikipedia.org/wiki/Poliedro) é um objeto tridimensional, formado pela união de polígonos. Esses polígonos são chamados de faces do poliedro. Os lados dos polígonos são chamados de arestas do poliedro e os vértices dos polígonos (juntos) são chamados de vértices do poliedro.\n",
        "\n",
        "a) (1 ponto) Sejam $P_1,\\,P_2,\\,\\ldots P_n$ os vértices (distintos) de um polígono de $n$ lados. Mostre que a soma dos ângulos internos desse polígono é $(n-2)\\times 180$ graus.\n",
        "\n",
        "b) (1 ponto) Seja $F$ o número de faces e $A$ o número de arestas de um poliedro. Suponha que todas as faces desse poliedro são polígonos de $n$ lados. Mostre que vale a relação $nF=2A$.\n",
        "\n",
        "c) (1 ponto) Seja $F$ o número de faces, $A$ o número de arestas e $V$ o número de vértices de um poliedro $Q$. Você pode incluir algumas diagonais em cada face e obter outras faces e outras arestas, sem aumentar o número de vértices e de tal forma que o poliedro possa ser identificado com um novo poliedro $R$, cujas faces são regiões triangulares.\n",
        "\n",
        "Seja $\\mathcal{F}$ o número de faces, $\\mathcal{A}$ o número de arestas e $\\mathcal{V}$ o número de vértices do poliedro $R$. Mostre que $$V+A-F=\\mathcal{V}+\\mathcal{A}-\\mathcal{F}.\\tag{$\\star$}$$"
      ],
      "metadata": {
        "id": "DM_m4gcad7Yw"
      }
    },
    {
      "cell_type": "markdown",
      "source": [
        "**Resolução:**\n",
        "\n",
        "a) Pode-se mostrar, usando retas paralelas (ou recortando papel e dobrando) que a soma dos ângulos internos de um triângulo é $180^o$. Então, para $n=3$ lados de uma região poligonal, vale a igualdade $s_n=(n-2)180^o$, em que $s_n$ denota a soma dos ângulos internos de uma região poligonal de $n$ lados.\n",
        "\n",
        "Supondo, como hipótese de indução finita que $s_j=(j-2)180^o$, para todo $3\\leq j\\leq n$, é a soma dos ângulos internos de toda região poligonal com $j$ lados.\n",
        "\n",
        "Considere uma região poligonal $R$ com $n+1$ lados. Escolha uma diagonal dessa região poligonal, que esteja contida em seu interior. Essa diagonal divide a região em duas outras regiões, digamos, $R_1$, com $p$ lados, e $R_2$, com $q$ lados, de tal forma que $p+q=n+3$, com $p\\leq n$ e $q\\leq n$, porque a diagonal escolhida é contada duas vez, e os demais lados de $R_1$ e $R_2$ estão na região $R$. Segue da hipótese de indução que a soma dos ângulos internos dessas regiões é $s_p=(p-2)180^o$ e $s_q=(q-2)180^0$.\n",
        "\n",
        "Ainda $s_n=s_p+s_q=(p+q-4)180^o=((n+1)-2)180^o$. Segue que $s_n=(n-2)180^o$ para todo $n$ natural e maior que 2."
      ],
      "metadata": {
        "id": "kuXiE6FNikdo"
      }
    },
    {
      "cell_type": "markdown",
      "source": [
        "b) Considere um poliedro $P$, cujas faces possuem $n$ lados cada uma. Esses lados são chamados de arestas do poliedro.\n",
        "\n",
        "Seja $F$ o número de faces e $A$ o número de arestas desse poliedro $P$.\n",
        "\n",
        "Podemos fazer uma cópia de cada face do poliedro em outro lugar. Teremos então $F$ cópias de faces. Depois fazemos uma cópia de cada lado das cópias das faces. Como cada face tem $n$ lados teremos feito $nF$ cópias de lados (que são cópias de arestas).\n",
        "\n",
        "Podemos também fazer uma cópia de cada uma das arestas de cada face do poliedro $P$. Como cada aresta está em exatamente duas faces faremos duas cópias de cada aresta, obtendo então $2A$ cópias de arestas.\n",
        "\n",
        "As duas formas de fazermos cópias de arestas deve dar o mesmo número de cópias, como você pode pensar a respeito.\n",
        "\n",
        "Então $nF=2A$."
      ],
      "metadata": {
        "id": "_9jyUKZUxggg"
      }
    },
    {
      "cell_type": "markdown",
      "source": [
        "---"
      ],
      "metadata": {
        "id": "pcw37ScnifRy"
      }
    },
    {
      "cell_type": "markdown",
      "source": [
        "**Obs:**\n",
        "\n",
        "*   Entregar resolução manuscrita, com detalhes da argumentação, até 10 horas, do dia 23 de junho, no meio da aula.\n",
        "* A avaliação vale 10 pontos. Então escolha um dos itens que valem 1 ponto, para valer 2 pontos. Ou resolva o exércício 6.\n",
        "* Lembre-se que a ideia é que aprendam com a resolução.\n",
        "* Para quem estiver com tempo sugiro leitura do texto deste [link](https://pt.wikipedia.org/wiki/Caracter%C3%ADstica_de_Euler#)."
      ],
      "metadata": {
        "id": "nGyPp4To6Z-u"
      }
    },
    {
      "cell_type": "markdown",
      "source": [
        "**Extra:**\n",
        "6. (1 ponto) Seja $F$ o número de faces, $A$ o número de arestas e $V$ o número de vértices de um [poliedro convexo](https://pt.wikipedia.org/wiki/Poliedro#Poliedro_Convexo) $Q$. Mostre, usando o Exercício 5, que $$V+A-F=2.\\tag{$\\star$}$$\n",
        "\n",
        "**Dica:** Como o número de arestas é finito. Você pode escolher um vértice e pendurar o poliedro por este vértice, usando uma linha por exemplo. Se fizer isso embaixo de uma lámpada, pode ver uma sombra no chão, ou numa mesa. Essa sombra será uma região poligonal $S$, em que cada lado $l_i$ dessa região é a sombra de alguma aresta do poliedro.\n",
        "\n",
        "Pode observar que algumas faces do poliedro ficarão iluminadas (recebem luz direta da lâmpada) e outras ficarão na sombra (não recebem luz direta da lâmpada). A separação entre as faces iluminadas e as outras é dada exetamente pelas arestas que geram os lados $l_i$.\n",
        "\n",
        "Pense agora na soma dos ângulos internos das faces do poliedro. Depois pense em como ficam as somas desses ângulos, na sobra da região iluminada e na sombra da região não iluminada."
      ],
      "metadata": {
        "id": "UZXWlGoDmXcn"
      }
    }
  ]
}