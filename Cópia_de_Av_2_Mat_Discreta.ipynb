{
  "nbformat": 4,
  "nbformat_minor": 0,
  "metadata": {
    "colab": {
      "provenance": [],
      "authorship_tag": "ABX9TyPhz77Tnlp4MldPN28HvIih",
      "include_colab_link": true
    },
    "kernelspec": {
      "name": "python3",
      "display_name": "Python 3"
    },
    "language_info": {
      "name": "python"
    }
  },
  "cells": [
    {
      "cell_type": "markdown",
      "metadata": {
        "id": "view-in-github",
        "colab_type": "text"
      },
      "source": [
        "<a href=\"https://colab.research.google.com/github/j-claudinei-f/j-claudinei-f/blob/main/C%C3%B3pia_de_Av_2_Mat_Discreta.ipynb\" target=\"_parent\"><img src=\"https://colab.research.google.com/assets/colab-badge.svg\" alt=\"Open In Colab\"/></a>"
      ]
    },
    {
      "cell_type": "markdown",
      "source": [
        "#**Avaliação II: Possível gabarito**\n",
        "\n",
        "José Claudinei Ferreira\n",
        "\n",
        "Universidade Federal de Alfenas"
      ],
      "metadata": {
        "id": "BgIlArs46EbF"
      }
    },
    {
      "cell_type": "markdown",
      "source": [
        "Seguem problemas para resolverem como parte da avaliação.\n",
        "\n",
        "---"
      ],
      "metadata": {
        "id": "WsvI5Fnh6S9x"
      }
    },
    {
      "cell_type": "markdown",
      "source": [
        "1. (1 ponto) Se $a_1=1$ e $$a_{n+1}=2a_n+n+1.$$ Determine $a_n$, em função apenas de $n$.\n",
        "\n",
        "Dica: Veja exemplo neste [link](https://github.com/j-claudinei-f/j-claudinei-f/blob/main/Recorr%C3%AAncias_ordem1.ipynb)."
      ],
      "metadata": {
        "id": "9NZcTRhR6KnX"
      }
    },
    {
      "cell_type": "markdown",
      "source": [
        "**Resolução:**\n",
        "\n",
        "Se olharmos para a relação de recorência dada e considerarmos a parte $b_{n+1}=2b_n$, encontramos a solução da forma $b_n=c2^n$. Podemos ecolher $c=1$.\n",
        "\n",
        "Agora, seja $y_n$ tal que $2^ny_n=a_n$. Segue, da relação de recorrência dada, que $$\\begin{cases}2^{n+1}y_{n+1}&=&a_{n+1}\\\\\\\\&=&2a_n+n+1\\\\\\\\&=&2\\times 2^ny_n+n+1\\end{cases},$$ ou\n",
        "que $$\\begin{cases}y_{n+1}&=&y_n+\\frac{n+1}{2^{n+1}}\\\\\\\\y_1=\\frac{1}{2}\\end{cases}.$$\n",
        "\n",
        "Sendo assim, vamos encontrar $y_n$ e depois usá-lo para encontrar $a_n$.\n",
        "\n",
        "Como $$\\begin{cases}y_1&=&\\frac{1}{2}\\\\\\\\\n",
        "y_2&=&y_1+\\frac{2}{2^2}=\\frac{1}{2}+\\frac{2}{2^2}\\\\\n",
        "\\\\\n",
        "y_3&=&y_2+\\frac{3}{2^3}=\\frac{1}{2}+\\frac{2}{2^2}+\\frac{3}{2^3}\\\\\\vdots&\\vdots&\\vdots\\\\y_n&=&y_{n-1}+\\frac{n}{2^n}=\\frac{1}{2}+\\frac{2}{2^2}+\\cdots+\\frac{n}{2^n}\\\\\\\\&=&\\sum_{j=1}^n\\frac{j}{2^j}\\end{cases}$$\n",
        "\n",
        "Portanto, $$a_n=2^ny_n=2^n\\sum_{j=1}^n\\frac{j}{2^j},$$ e podemos melhorar essa expressão pensando no somatório\n",
        "$$\\sum_{j=1}^n\\frac{j}{2^j}.\\tag{1}$$\n"
      ],
      "metadata": {
        "id": "KM9v8eOpvyq7"
      }
    },
    {
      "cell_type": "markdown",
      "source": [
        "\n",
        "Como essa soma não é muito conhecida, podemos olhar para a dica dada, que remete a pensar com o operador diferenças $$\\Delta f_n=f_{n+1}-f_n$$ e numa variação envolvendo produto de sequências, dado por\n",
        "$$\\begin{cases}\\Delta (f_ng_n)&=&f_{n+1}g_{n+1}-f_ng_n\\\\\\\\&=&f_{n+1}g_{n+1}-f_{n+1}g_n+f_{n+1}g_n-f_ng_n\\\\\\\\&=&f_{n+1}\\Delta g_n+g_n\\Delta f_n\\end{cases}$$ Essa última expressão nos leva à igualdade\n",
        "$$\\Delta (f_ng_n)-g_n\\Delta f_n=f_{n+1}\\Delta g_n.\\tag{2}$$"
      ],
      "metadata": {
        "id": "cccmNfVa2h4b"
      }
    },
    {
      "cell_type": "markdown",
      "source": [
        "Observando agora que, se tomarmos $f_n=n$ e $g_n=2^{-n}$, vamos obter\n",
        "$$\\Delta g_j=\\frac{1}{2^{j+1}}-\\frac{1}{2^j}=-\\frac{1}{2^{j+1}}.$$\n",
        "Com isso, podemos escrever, cada termo do somatório (1) como\n",
        "$$\\frac{j}{2^j}=-f_j\\Delta g_{j-1}, $$ ou\n",
        "$$\\frac{j+1}{2^{j+1}}=-f_{j+1}\\Delta g_{j}=-\\left(\\Delta f_jg_j-g_j\\Delta f_j\\right)=-\\Delta f_jg_j+g_j\\Delta f_j,$$ tendo em mente a Expressão (2).\n",
        "\n",
        "Reescrevendo o somatório (1), levando isso em consideração, obtemos\n",
        "$$\\sum_{j=1}^n\\frac{j}{2^j}=\\sum_{j=0}^{n-1}\\frac{j+1}{2^{j+1}}=-\\sum_{j=0}^{n-1}f_{j+1}\\Delta g_j=-\\color{blue}{\\sum_{j=0}^{n-1}\\Delta (f_{j} g_j})+\\color{green}{\\sum_{j=0}^{n-1}g_{j}\\Delta f_j}.\\tag{$1^*$}$$"
      ],
      "metadata": {
        "id": "QTo5c0tr4In7"
      }
    },
    {
      "cell_type": "markdown",
      "source": [
        "Fazendo as substituições das últimas duas somas, obtemos\n",
        "$$\\sum_{j=1}^n\\frac{j}{2^j}=-\\color{blue}{\\sum_{j=0}^{n-1}\\Delta (f_{j} g_j)}+\\color{green}{\\sum_{j=0}^{n-1}g_{j}\\Delta f_j}=-\\color{blue}{(f_ng_n-f_0g_0)}+\\color{green}{\\sum_{j=0}^{n-1}g_{j}},\\tag{$1^{**}$}$$ porque $\\Delta f_n=1$ e $$\\sum_{j=0}^{n-1}\\Delta (f_{j} g_j)=f_ng_n-f_0g_0.$$\n",
        "\n",
        "Finalmente,\n",
        "$$a_n=2^n\\sum_{j=1}^n\\frac{j}{2^j}=2^n\\left(-\\color{blue}{\\left(\\frac{n}{2^n}-\\frac{0}{2^0}\\right)}+\\color{green}{\\frac{1-\\left(\\frac{1}{2}\\right)^n}{1-\\frac{1}{2}}}\\right)=-\\color{blue}{n}+\\color{green}{2^{n+1}-2},\\tag{3}$$ lembrando que $$\\color{green}{\\sum_{j=0}^{n-1}g_{j}}=1+\\frac{1}{2}+\\cdots+\\left(\\frac{1}{2}\\right)^{n-1}=\\frac{1-\\left(\\frac{1}{2}\\right)^n}{1-\\frac{1}{2}}.$$\n",
        "\n"
      ],
      "metadata": {
        "id": "czpSkjCk7ar3"
      }
    },
    {
      "cell_type": "markdown",
      "source": [
        "Você pode checar seus cálculos usando a relação de recorrência para $a_n$ dada no ínício do problema."
      ],
      "metadata": {
        "id": "f0DNWeXVnGu_"
      }
    },
    {
      "cell_type": "code",
      "source": [
        "a=[0]                  # a(1)=a(0+1)=2*a(0)+0+1 e a(0)=0\n",
        "for i in range(0,10):\n",
        "  a.append(2*a[i]+i+1)      # a(n+1)=2a(n)+n+1\n",
        "a"
      ],
      "metadata": {
        "colab": {
          "base_uri": "https://localhost:8080/"
        },
        "id": "QqOEA96snHqN",
        "outputId": "2b0b3e8c-8188-4da3-ce08-cab9f511f278"
      },
      "execution_count": null,
      "outputs": [
        {
          "output_type": "execute_result",
          "data": {
            "text/plain": [
              "[0, 1, 4, 11, 26, 57, 120, 247, 502, 1013, 2036]"
            ]
          },
          "metadata": {},
          "execution_count": 19
        }
      ]
    },
    {
      "cell_type": "markdown",
      "source": [
        "Para a expressão obtida na Expressão (3):"
      ],
      "metadata": {
        "id": "1c0iDYWPnp3e"
      }
    },
    {
      "cell_type": "code",
      "source": [
        "def a(n):                # função a(n), para cada n natural\n",
        "  p=-n+2**(n+1)-2\n",
        "  return p\n",
        "\n",
        "q=[]\n",
        "for i in range(0,10+1):\n",
        "  q.append(a(i))\n",
        "\n",
        "q"
      ],
      "metadata": {
        "colab": {
          "base_uri": "https://localhost:8080/"
        },
        "id": "rQdsImR1n18q",
        "outputId": "bcd9959d-c4f6-4513-a990-85706c96faec"
      },
      "execution_count": null,
      "outputs": [
        {
          "output_type": "execute_result",
          "data": {
            "text/plain": [
              "[0, 1, 4, 11, 26, 57, 120, 247, 502, 1013, 2036]"
            ]
          },
          "metadata": {},
          "execution_count": 21
        }
      ]
    },
    {
      "cell_type": "markdown",
      "source": [
        "---"
      ],
      "metadata": {
        "id": "c8wWHNW1zLUK"
      }
    },
    {
      "cell_type": "markdown",
      "source": [
        "2. (1 ponto) Se $a_1=a_2=1$ e $$a_{n+1}=3a_n-2a_{n-1}+n+1.$$ Determine $a_n$, em função apenas de $n$.\n",
        "\n"
      ],
      "metadata": {
        "id": "tgs0XXHO6Y2k"
      }
    },
    {
      "cell_type": "markdown",
      "source": [
        "**Resolução:**\n",
        "\n",
        "Uma forma de resolver esse problema é escrever a relação de recorrência dada como $$\\begin{cases}a_{n+1}-a_n&=&2(a_n-a_{n-1})+n+1\\\\a_1&=&1\\\\a_2&=&1\\end{cases}.$$\n",
        "\n",
        "Escrevendo $b_n=\\Delta a_n=a_{n+1}-a_n$, obtemos uma nova relação de recorrência\n",
        "$$\\begin{cases}b_n&=&2b_{n-1}+n+1\\\\b_1&=&0\\end{cases},$$ ou\n",
        "$$\\begin{cases}b_{n+1}&=&2b_{n}+n+2\\\\b_1&=&0\\end{cases},$$ que podemos reaolver pelo método da Questão 1.\n",
        "\n",
        "\n"
      ],
      "metadata": {
        "id": "VyWqJuEe8Z8o"
      }
    },
    {
      "cell_type": "markdown",
      "source": [
        "Agora, seja $y_n$ tal que $2^ny_n=b_n$. Segue, da relação de recorrência logo acima, que\n",
        "que $$\\begin{cases}y_{n+1}&=&y_n+\\frac{n+2}{2^{n+1}}\\\\\\\\y_1=0\\end{cases}.$$\n",
        "\n",
        "Sendo assim, vamos encontrar $y_n$ e depois usá-lo para encontrar $b_n$.\n",
        "\n",
        "Como $$\\begin{cases}y_1&=&0\\\\\\\\\n",
        "y_2&=&y_1+\\frac{3}{2^2}=\\frac{3}{2^2}\\\\\n",
        "\\\\\n",
        "y_3&=&y_2+\\frac{4}{2^3}=\\frac{3}{2^2}+\\frac{4}{2^3}\\\\\\vdots&\\vdots&\\vdots\\\\y_n&=&y_{n-1}+\\frac{n+1}{2^n}=\\frac{3}{2^2}+\\frac{4}{2^3}+\\cdots+\\frac{n+1}{2^n}\\\\\\\\&=&\\sum_{j=2}^n\\frac{j+1}{2^j}\\\\\\\\&=&\\sum_{j=2}^n\\frac{j}{2^j}+\\sum_{j=2}^n\\frac{1}{2^j}\\end{cases}$$\n",
        "\n",
        "Portanto, $$b_n=2^ny_n=2^n\\left(\\sum_{j=2}^n\\frac{j}{2^j}+\\sum_{j=2}^n\\frac{1}{2^j}\\right).$$\n",
        "\n",
        "Já sabemos, também da Questão 1, que\n",
        "$$2^n\\sum_{j=1}^n\\frac{j}{2^j}=-{n}+{2^{n+1}-2},$$ e que sabemos que $$\\sum_{j=0}^n\\frac{1}{2^j}=1+\\frac{1}{2}+\\cdots+\\left(\\frac{1}{2}\\right)^{n}=\\frac{1-\\left(\\frac{1}{2}\\right)^{n+1}}{1-\\frac{1}{2}}=2\\left(1-\\left(\\frac{1}{2}\\right)^{n+1}\\right)=2-\\frac{1}{2^{n}}.$$\n",
        "\n",
        "\n"
      ],
      "metadata": {
        "id": "jAdzuxX0AVqZ"
      }
    },
    {
      "cell_type": "markdown",
      "source": [
        "Então $$b_n=\\left(\\left(2^{n+1}-(n+2)\\right)-2^n\\times \\frac{1}{2}\\right)+2^n\\left(2-\\left(\\frac{1}{2^{n}}\\right)-1-\\frac{1}{2}\\right)$$ ou\n",
        "$$b_n=2^{n+1}-(n+3).$$"
      ],
      "metadata": {
        "id": "jtMv6qQ3InRg"
      }
    },
    {
      "cell_type": "code",
      "source": [
        "b=[-1]                  # b(1)=b(0+1)=2*b(0)+0+2 e b(0)=-1\n",
        "for i in range(0,10):\n",
        "  b.append(2*b[i]+i+2)      # b(n+1)=2b(n)+n+2\n",
        "b"
      ],
      "metadata": {
        "colab": {
          "base_uri": "https://localhost:8080/"
        },
        "id": "nUIeCQDgFY1f",
        "outputId": "c222f3b4-9702-4d23-f6ed-06a48867073b"
      },
      "execution_count": null,
      "outputs": [
        {
          "output_type": "execute_result",
          "data": {
            "text/plain": [
              "[-1, 0, 3, 10, 25, 56, 119, 246, 501, 1012, 2035]"
            ]
          },
          "metadata": {},
          "execution_count": 23
        }
      ]
    },
    {
      "cell_type": "markdown",
      "source": [
        "Com a forma encontrada:"
      ],
      "metadata": {
        "id": "L_dra6YiMcKl"
      }
    },
    {
      "cell_type": "code",
      "source": [
        "def b(n):                # função a(n), para cada n natural\n",
        "  p=-n+2**(n+1)-3\n",
        "  return p\n",
        "\n",
        "q=[]\n",
        "for i in range(0,10+1):\n",
        "  q.append(b(i))\n",
        "\n",
        "q"
      ],
      "metadata": {
        "colab": {
          "base_uri": "https://localhost:8080/"
        },
        "id": "pfImuaQKMeyU",
        "outputId": "97a7b68f-37a5-44cc-e814-93ff8d98b2dc"
      },
      "execution_count": null,
      "outputs": [
        {
          "output_type": "execute_result",
          "data": {
            "text/plain": [
              "[-1, 0, 3, 10, 25, 56, 119, 246, 501, 1012, 2035]"
            ]
          },
          "metadata": {},
          "execution_count": 24
        }
      ]
    },
    {
      "cell_type": "markdown",
      "source": [
        "Ainda precisamos encontrar $a_n$ tal que $$b_n=a_{n+1}-a_n=2^{n+1}-(n+3),$$ ou\n",
        "$$\\begin{cases}a_{n+1}&=&a_n+2^{n+1}-(n+3)\\\\a_1&=&1\\end{cases}.$$\n",
        "\n",
        "Isso nos diz que\n",
        " $$\\begin{cases}a_n&=&a_{n-1}+2^n-(n+2)\\\\\\\\\n",
        " &=&a_{n-2}+2^{n-1}+2^{n}-((n+1)+(n+2))\\\\\\\\\n",
        " &=&a_2+2^3+2^4+\\cdots +2^n-(5+\\cdots+(n+1)+(n+2))\\\\\\\\&=&\n",
        " 1+2^{3}(1+2+\\cdots+2^{n-3})-\\frac{(5+(n+2))(n-2)}{2}\\\\\\\\&=&1+2^3(2^{n-2}-1)-\\frac{(n-2)(n+7)}{2}\\\\\\\\&=&2^{n+1}-7-\\frac{(n-2)(n+7)}{2}\\\\\\\\&=&2^{n+1}-\\frac{n(n+5)}{2}\\end{cases}$$"
      ],
      "metadata": {
        "id": "D0od635TOsBQ"
      }
    },
    {
      "cell_type": "markdown",
      "source": [
        "Testanto os resultados pela relação de recorrência:"
      ],
      "metadata": {
        "id": "aqOzAM3rbSOu"
      }
    },
    {
      "cell_type": "code",
      "source": [
        "a=[2,1]                  # a(1)=a(2)=1\n",
        "for i in range(1,10):\n",
        "  a.append(3*a[i]-2*a[i-1]+i+1)      # a(n+1)=3a(n)-2a(n-1)+n+1\n",
        "a"
      ],
      "metadata": {
        "colab": {
          "base_uri": "https://localhost:8080/"
        },
        "id": "yvkEffhia-zb",
        "outputId": "79b4c65b-c7c0-493c-a355-d49fcb538b6c"
      },
      "execution_count": null,
      "outputs": [
        {
          "output_type": "execute_result",
          "data": {
            "text/plain": [
              "[2, 1, 1, 4, 14, 39, 95, 214, 460, 961, 1973]"
            ]
          },
          "metadata": {},
          "execution_count": 9
        }
      ]
    },
    {
      "cell_type": "markdown",
      "source": [
        "Ou"
      ],
      "metadata": {
        "id": "3S6Sa0O2cwQJ"
      }
    },
    {
      "cell_type": "code",
      "source": [
        "a=[2]                  # a(2)=1=a(1) e a(0)=2\n",
        "for i in range(0,10):\n",
        "  a.append(a[i]+2**(i+1)-(i+3))      # a(n+1)=a(n)+2^(n+1)-(n+3)\n",
        "a"
      ],
      "metadata": {
        "colab": {
          "base_uri": "https://localhost:8080/"
        },
        "id": "pY1wDjdscxM5",
        "outputId": "6f09d2a7-39a9-4bb8-99ba-578046ed7e89"
      },
      "execution_count": null,
      "outputs": [
        {
          "output_type": "execute_result",
          "data": {
            "text/plain": [
              "[2, 1, 1, 4, 14, 39, 95, 214, 460, 961, 1973]"
            ]
          },
          "metadata": {},
          "execution_count": 12
        }
      ]
    },
    {
      "cell_type": "markdown",
      "source": [
        "Pela exprassão em função de $n$:"
      ],
      "metadata": {
        "id": "75SJBzAZbXp-"
      }
    },
    {
      "cell_type": "code",
      "source": [
        "def a(n):                # função a(n), para cada n natural\n",
        "  p=2**(n+1)-7-((n+7)*(n-2))/2\n",
        "  return p\n",
        "\n",
        "q=[]\n",
        "for i in range(0,10+1):\n",
        "  q.append(a(i))\n",
        "\n",
        "q"
      ],
      "metadata": {
        "colab": {
          "base_uri": "https://localhost:8080/"
        },
        "id": "nofS-7B9bdqk",
        "outputId": "06379341-f0ab-452b-907e-4468e32fef81"
      },
      "execution_count": null,
      "outputs": [
        {
          "output_type": "execute_result",
          "data": {
            "text/plain": [
              "[2.0, 1.0, 1.0, 4.0, 14.0, 39.0, 95.0, 214.0, 460.0, 961.0, 1973.0]"
            ]
          },
          "metadata": {},
          "execution_count": 18
        }
      ]
    },
    {
      "cell_type": "markdown",
      "source": [
        "**Obs:** Essa questão poderia ser resolvida primeiro encontrando as soluções da equação $$b_{n+1}-3b_n+2b_{n-1}=0$$ e depois procurando soluções particulares da equação\n",
        "$$b_{n+1}-3b_n+2b_{n-1}=n+1,$$ tais que $a_1=a_2=1$, por tentativa, como é feito no livro texto.\n",
        "\n",
        "Em todo, caso é preciso pensar se a tentativa gera solução correta, porque pode haver erro de cálculo ou de chute de forma da resposta."
      ],
      "metadata": {
        "id": "DvooZ6Db7hut"
      }
    },
    {
      "cell_type": "markdown",
      "source": [
        "---"
      ],
      "metadata": {
        "id": "U-7UB6398VLr"
      }
    },
    {
      "cell_type": "markdown",
      "source": [
        "\n",
        "3. (2 pontos) Um apartamamento na planta, de 35.7 metros quadrados, na Praia das Toninhas, no Guarujá, é colocado a venda nas seguintes condições:\n",
        "\n",
        "A entrada é parcelada em 12 vezes de $R\\$ 10.351,04$, com um mês de carência. O restante deverá ser pago em 42 prestações de $R\\$ 2.261,00$. Além disso terão 4 prestações intermediárias de $R\\$ 10.175,00$, de seis em seis meses.\n",
        "\n",
        "a) Sabendo que a taxa de juros do financiamento é de $12\\%$ ao ano. Determine o valor real do apartamento, em caso de pagamanto a vista.\n",
        "\n",
        "b) Se o saldo devedor for corrigido mensalmente pela tabela TR, qual seria o saldo restante após o final dos pagamentos. Aqui, considere a TR média de 2022, porque não tem como prever a TR futura."
      ],
      "metadata": {
        "id": "MmiVVFMN6Zgh"
      }
    },
    {
      "cell_type": "markdown",
      "source": [
        "**Resolução:**\n",
        "\n",
        "a) Como a taxa de juros $j$ do processo de financiamento é de $12\\%$ ao ano, vamos transformá-la em taxa mensal primeiro. Para isso, seja $i$ a taxa de juros mensal e $C$ um capital investido. Então $$C(1+12/100)=C(1+i)^{12}.$$\n",
        "\n",
        "Isso nos dá $$i=\\sqrt[12]{1+12/100}-1\\approx 0.009488.$$"
      ],
      "metadata": {
        "id": "lT-iqaCHnUac"
      }
    },
    {
      "cell_type": "code",
      "source": [
        "i=(1+12/100)**(1/12)-1\n",
        "i"
      ],
      "metadata": {
        "colab": {
          "base_uri": "https://localhost:8080/"
        },
        "id": "bQZfhD1goU7P",
        "outputId": "d3a9e04d-8796-48b5-e418-583f46bb5e7f"
      },
      "execution_count": 20,
      "outputs": [
        {
          "output_type": "execute_result",
          "data": {
            "text/plain": [
              "0.009488792934583046"
            ]
          },
          "metadata": {},
          "execution_count": 20
        }
      ]
    },
    {
      "cell_type": "markdown",
      "source": [
        "Segue que o valor à vista do pequeno apartamento pode ser calculando trazendo para o presente os valores que serão pagos no futuroe depois somando-os.\n",
        "\n",
        "Aqui nesse editor de texto, parace-me melhor trazer os três tipos de pagamendo separadamente e depois somá-los.\n",
        "\n",
        "Seja $E=10.351,04$ o valor das 12 parcelas da entrada, com um mês de carência. Seja $P=2.261,00$ o valor das 42 prestações. Por fim, seja $I=10.175,00$ o valor das 4 prestações semestrais.\n",
        "\n",
        "\n",
        "Usando o índice $p$ para o valor presente, devemos ter\n",
        "$$\\begin{cases}E_p&=&\\frac{E}{1+i}+\\frac{E}{(1+i)^2}+\\cdots +\\frac{E}{(1+i)^{12}}\\\\\\\\P_p&=&\\frac{P}{1+i}+\\frac{P}{(1+i)^2}+\\cdots +\\frac{P}{(1+i)^{42}}\\\\\\\\I_p&=&\\frac{I}{(1+i)^6}+\\frac{I}{(1+i)^{12}}+\\frac{I}{(1+i)^{18}}+\\frac{I}{(1+i)^{24}}\\end{cases}$$"
      ],
      "metadata": {
        "id": "o3BjElkwoqb4"
      }
    },
    {
      "cell_type": "code",
      "source": [
        "E=10351.04\n",
        "P=2261.00\n",
        "I=10175.00\n",
        "\n",
        "Ep=0\n",
        "for k in range(1,12+1):\n",
        "  Ep=Ep+E/((1+i)**k)\n",
        "Pp=0\n",
        "for k in range(1,42+1):\n",
        "  Pp=Pp+P/((1+i)**k)\n",
        "Ip=0\n",
        "for k in range(1,4+1):\n",
        "  Ip=Ip+I/((1+i)**(6*k))\n",
        "\n",
        "Vp=Ep+Pp+Ip\n",
        "Vp\n"
      ],
      "metadata": {
        "colab": {
          "base_uri": "https://localhost:8080/"
        },
        "id": "tBnB_1hIsREQ",
        "outputId": "a3ee3a5a-38f3-4e03-cf88-d2da13850efd"
      },
      "execution_count": 27,
      "outputs": [
        {
          "output_type": "execute_result",
          "data": {
            "text/plain": [
              "230294.61411247842"
            ]
          },
          "metadata": {},
          "execution_count": 27
        }
      ]
    },
    {
      "cell_type": "markdown",
      "source": [
        "**Obs:** Poderia ser entendido do enunciado que a prestação é com um mês de carência ou não. É diferente mas aceitaria os dois entendimentos. Eu considerei a [carência](https://pt.wikipedia.org/wiki/Per%C3%ADodo_de_car%C3%AAncia) na resolução apresentada, ou seja, começa-se a pagar as prestações e entrada no início do segundo mês."
      ],
      "metadata": {
        "id": "r3FRdA_Drdvo"
      }
    },
    {
      "cell_type": "markdown",
      "source": [
        "b) Neste item eu usei uma tabela da TR de 2022 que já estava em arquivo que disponibilizei antes."
      ],
      "metadata": {
        "id": "eIT8jtPaws7F"
      }
    },
    {
      "cell_type": "code",
      "source": [
        "TR=[0.06,0,0.1,0.06,0.17,0.15,0.16,0.24,0.18,0.15,0.15,0.21]     # Taxa referencial de janeiro a dezembro de 2022; Em janeiro foi de 0.06%, por exemplo.\n",
        "import pandas as pd    # Para lidar com tabelas\n",
        "\n",
        "df = pd.DataFrame(TR,columns=['Taxa TR'],index=['janeiro','fevereiro','março','abril','maio','junho','julho','agosto','setembro','outubro','novembro','dezembro'])\n",
        "print(df)"
      ],
      "metadata": {
        "colab": {
          "base_uri": "https://localhost:8080/"
        },
        "id": "AIryilfWxA1o",
        "outputId": "b252d303-80b5-402a-a8d7-43886f67eb66"
      },
      "execution_count": 9,
      "outputs": [
        {
          "output_type": "stream",
          "name": "stdout",
          "text": [
            "           Taxa TR\n",
            "janeiro       0.06\n",
            "fevereiro     0.00\n",
            "março         0.10\n",
            "abril         0.06\n",
            "maio          0.17\n",
            "junho         0.15\n",
            "julho         0.16\n",
            "agosto        0.24\n",
            "setembro      0.18\n",
            "outubro       0.15\n",
            "novembro      0.15\n",
            "dezembro      0.21\n"
          ]
        }
      ]
    },
    {
      "cell_type": "markdown",
      "source": [
        "No caso, a TR acumulada (ou TR nominal) anual foi de"
      ],
      "metadata": {
        "id": "PORfV0ovxPq3"
      }
    },
    {
      "cell_type": "code",
      "source": [
        "import numpy as np\n",
        "TR=np.array(TR)\n",
        "J=np.sum(TR)/100\n",
        "J"
      ],
      "metadata": {
        "colab": {
          "base_uri": "https://localhost:8080/"
        },
        "id": "0oIaKiT8xOv2",
        "outputId": "a0d9c137-1710-42a5-bebc-1a6adde2dc3c"
      },
      "execution_count": 22,
      "outputs": [
        {
          "output_type": "execute_result",
          "data": {
            "text/plain": [
              "0.016299999999999995"
            ]
          },
          "metadata": {},
          "execution_count": 22
        }
      ]
    },
    {
      "cell_type": "markdown",
      "source": [
        "ou $1.63\\%$ ao ano.\n",
        "\n",
        "Cabe notar que a taxa nominal (ou acumulada) é a taxa de juros  simples usada para correção de um capital (ou saldo devedor) $C$ em um ano. Mas estamos interessados na taxa de juros compostos.\n",
        "\n",
        "A taxa media de juros (mensais) compostos é dada pela expressão $$C\\prod_{k=1}^{12}(1+t_k)=C(1+t)^{12},$$ em que $t_k$ é a taxa TR no mês $k$.\n",
        "\n",
        "Isso nos diz que $$t=\\sqrt[12]{\\prod_{k=1}^{12}(1+t_k)}-1\\approx 0.0013581173631236343 $$"
      ],
      "metadata": {
        "id": "3OzNPkURxeq7"
      }
    },
    {
      "cell_type": "code",
      "source": [
        "p=1\n",
        "for k in range(0,12):\n",
        "  p=p*(1+TR[k]/100)\n",
        "t=p**(1/12)-1\n",
        "t"
      ],
      "metadata": {
        "colab": {
          "base_uri": "https://localhost:8080/"
        },
        "id": "r9IIqvkZzcxn",
        "outputId": "ecad6399-f234-4719-bc1a-4d1e5533064d"
      },
      "execution_count": 23,
      "outputs": [
        {
          "output_type": "execute_result",
          "data": {
            "text/plain": [
              "0.0013581173631236343"
            ]
          },
          "metadata": {},
          "execution_count": 23
        }
      ]
    },
    {
      "cell_type": "markdown",
      "source": [
        "Ou $0.1358\\%$ ao mês."
      ],
      "metadata": {
        "id": "I_9Si1GB0k5D"
      }
    },
    {
      "cell_type": "markdown",
      "source": [
        "Se o saldo devedor for corrigido mensalmente pela TR média e não for distribuido nas prestações, haverá saldo devedor ao final do pagamento das parcelas. Para calcular este saldo basta corrigirmos o saldo devedor em $i+t$ mais a TR mensalmente."
      ],
      "metadata": {
        "id": "uNCUSNb50_pc"
      }
    },
    {
      "cell_type": "code",
      "source": [
        "j=i+t\n",
        "j"
      ],
      "metadata": {
        "colab": {
          "base_uri": "https://localhost:8080/"
        },
        "id": "aXB-nPCC1wnV",
        "outputId": "3a3aa19e-31e9-4efa-9d7f-d59fac0c41e1"
      },
      "execution_count": 34,
      "outputs": [
        {
          "output_type": "execute_result",
          "data": {
            "text/plain": [
              "0.01084691029770668"
            ]
          },
          "metadata": {},
          "execution_count": 34
        }
      ]
    },
    {
      "cell_type": "markdown",
      "source": [
        "Agora será necessário usar os valores $P_k$ pagos em cada mês $k$:"
      ],
      "metadata": {
        "id": "IArzQ1NQ2QfS"
      }
    },
    {
      "cell_type": "code",
      "source": [
        "Prestacoes=[0]\n",
        "for k in range(1,42+1): # 42 prestações de valor 2261.0\n",
        "  Prestacoes.append(P)\n",
        "\n",
        "Prestacoes[6]=Prestacoes[6]+I  # 4 prestações intermediárias\n",
        "Prestacoes[12]=Prestacoes[12]+I\n",
        "Prestacoes[18]=Prestacoes[18]+I\n",
        "Prestacoes[24]=Prestacoes[24]+I\n",
        "\n",
        "for k in range(1,12+1): # 12 prestações da entrada\n",
        "  Prestacoes[k]=Prestacoes[k]+E\n",
        "\n",
        "Prestacoes"
      ],
      "metadata": {
        "colab": {
          "base_uri": "https://localhost:8080/"
        },
        "id": "4DBkcX7p2bUT",
        "outputId": "df9ad291-5150-47f7-cd21-a81e19925ad7"
      },
      "execution_count": 36,
      "outputs": [
        {
          "output_type": "execute_result",
          "data": {
            "text/plain": [
              "[0,\n",
              " 12612.04,\n",
              " 12612.04,\n",
              " 12612.04,\n",
              " 12612.04,\n",
              " 12612.04,\n",
              " 22787.04,\n",
              " 12612.04,\n",
              " 12612.04,\n",
              " 12612.04,\n",
              " 12612.04,\n",
              " 12612.04,\n",
              " 22787.04,\n",
              " 2261.0,\n",
              " 2261.0,\n",
              " 2261.0,\n",
              " 2261.0,\n",
              " 2261.0,\n",
              " 12436.0,\n",
              " 2261.0,\n",
              " 2261.0,\n",
              " 2261.0,\n",
              " 2261.0,\n",
              " 2261.0,\n",
              " 12436.0,\n",
              " 2261.0,\n",
              " 2261.0,\n",
              " 2261.0,\n",
              " 2261.0,\n",
              " 2261.0,\n",
              " 2261.0,\n",
              " 2261.0,\n",
              " 2261.0,\n",
              " 2261.0,\n",
              " 2261.0,\n",
              " 2261.0,\n",
              " 2261.0,\n",
              " 2261.0,\n",
              " 2261.0,\n",
              " 2261.0,\n",
              " 2261.0,\n",
              " 2261.0,\n",
              " 2261.0]"
            ]
          },
          "metadata": {},
          "execution_count": 36
        }
      ]
    },
    {
      "cell_type": "markdown",
      "source": [
        "O saldo devedor $S_k$ do mês $k$ será o saldo $S_{k-1}$ do mês anterior, acrescido de juros a taxa $i+t$ menos a prestação $P_k$ paga no mês $k$, ou seja,\n",
        "$$S_k=S_{k-1}(1+i+t)-P_k,\\qquad S_0=V_p.$$"
      ],
      "metadata": {
        "id": "PLUXMh1S4bTO"
      }
    },
    {
      "cell_type": "code",
      "source": [
        "Saldo=[Vp]\n",
        "for k in range(1,42+1): # Correção de saldo devedor\n",
        "  Saldo.append(Saldo[k-1]*(1+i+t)-Prestacoes[k])\n",
        "\n",
        "Saldo"
      ],
      "metadata": {
        "colab": {
          "base_uri": "https://localhost:8080/"
        },
        "id": "roAN8wI_5Qw9",
        "outputId": "26773825-47f5-4313-e12c-bf32fed99388"
      },
      "execution_count": 38,
      "outputs": [
        {
          "output_type": "execute_result",
          "data": {
            "text/plain": [
              "[230294.61411247842,\n",
              " 220180.55913380143,\n",
              " 209956.79790802466,\n",
              " 199622.14046132672,\n",
              " 189175.38391234694,\n",
              " 178615.31233217838,\n",
              " 157765.69660284236,\n",
              " 146864.9269619486,\n",
              " 135845.9176505841,\n",
              " 124707.38613364962,\n",
              " 113448.03596450278,\n",
              " 102066.55663406075,\n",
              " 80386.62341826622,\n",
              " 78997.56991161968,\n",
              " 77593.44946618783,\n",
              " 76174.0986522372,\n",
              " 74739.35226732667,\n",
              " 73289.04331707906,\n",
              " 61648.00299574416,\n",
              " 60055.693354271745,\n",
              " 58446.11207295211,\n",
              " 56819.07180785714,\n",
              " 55174.38318295592,\n",
              " 53511.85476807274,\n",
              " 41656.29305660594,\n",
              " 39847.135130725925,\n",
              " 38018.353431109506,\n",
              " 36169.73510044326,\n",
              " 34301.06497256958,\n",
              " 32412.125547442847,\n",
              " 30502.696965813968,\n",
              " 28572.556983640283,\n",
              " 26621.48094621794,\n",
              " 24649.241762033675,\n",
              " 22655.60987633294,\n",
              " 20640.35324440136,\n",
              " 18603.23730455636,\n",
              " 16544.024950845836,\n",
              " 14462.476505450682,\n",
              " 12358.349690787996,\n",
              " 10231.399601311665,\n",
              " 8081.378675007085,\n",
              " 5908.036664576686]"
            ]
          },
          "metadata": {},
          "execution_count": 38
        }
      ]
    },
    {
      "cell_type": "markdown",
      "source": [
        "E a correção com a taxa média da TR de 2022 gera saldo devedor de $R\\$5908.04$ após o pagamento das 42 prestações."
      ],
      "metadata": {
        "id": "OIo05qi-7Aen"
      }
    },
    {
      "cell_type": "markdown",
      "source": [
        "---"
      ],
      "metadata": {
        "id": "NulgTYM8iYxG"
      }
    },
    {
      "cell_type": "markdown",
      "source": [
        "4. (2 pontos ) Resolva o problema do Exemplo 9 deste [link](https://github.com/j-claudinei-f/j-claudinei-f/blob/main/Combinatoria.ipynb).\n"
      ],
      "metadata": {
        "id": "LvbLTZRmd64O"
      }
    },
    {
      "cell_type": "markdown",
      "source": [
        "O problema em questão é:\n",
        "Um casal de amigos meus gosta de duas coisas, a primeira é ter filhos e a segunda é colocar o nome do próximo filho, usando alguma regra.\n",
        "\n",
        "Uma filha deles chama-se Amarilis e eles resolveram que o nome da próxima criança terá apenas seis letras, que essas letras precisam estar no nome de Amarilis, sendo permitido haver até dois a's ou até dois i's.\n",
        "\n",
        "Eles acham que Silmar é uma possibilidade, se a criança for menina, por exemplo.\n",
        "\n",
        "Eles sabem que alguns agrupamentos de letras não serão nomes de pessoas, digamos aceitos, mas eles querem pensar sobre a quantidade de expressões (ordenações) de seis letras do nome Amarilis.\n",
        "\n",
        "Quantos são esses agrupamentos?"
      ],
      "metadata": {
        "id": "BNwP-KeJMW8C"
      }
    },
    {
      "cell_type": "markdown",
      "source": [
        "**Resolução:**\n",
        "A palavra Amarilis tem 8 letras, sendo que o A repete duas vezes e I repente duas vezes também.\n",
        "\n",
        "Podemos contar o tanto de expressões distintas e formadas por sei letras dessa palavra (podendo ter dois A ou dois I) dividindo em casos:\n",
        "\n",
        "1.   Considere o caso em que não são repetidas letras. Temos apenas seis letras para trocarmos de lugar. Isso nos dá $p_1$ possibilidades, em que\n",
        "$$p_1=6!=720.$$\n"
      ],
      "metadata": {
        "id": "d0bCspUNMba6"
      }
    },
    {
      "cell_type": "code",
      "source": [
        "import math\n",
        "\n",
        "p1=math.factorial(6)\n",
        "p1"
      ],
      "metadata": {
        "colab": {
          "base_uri": "https://localhost:8080/"
        },
        "id": "ei8wHgBoNKWr",
        "outputId": "4143ab71-c2d8-4742-86ab-c2fd73b2371e"
      },
      "execution_count": null,
      "outputs": [
        {
          "output_type": "execute_result",
          "data": {
            "text/plain": [
              "720"
            ]
          },
          "metadata": {},
          "execution_count": 3
        }
      ]
    },
    {
      "cell_type": "markdown",
      "source": [
        "2.   Agora repetimos o A ou o I.\n",
        "a) Note que, se repetirmos o A, teremos seis letras, sendo outras 5 letras distintas para escolhermos 4. Ou seja, vai sobrar uma letra em cada caso. Teremos 5 casos para pensar.\n",
        "\n",
        "Fixada uma letra, por exemplo $R$, que vai ficar fora, teremos 6 letras para trocarmos de lugar, sendo duas delas identicas. É um caso de permutação com repetição.\n",
        "\n",
        "Segue que $p_2$ é 2 vezes 5 vezes o número de casos, com uma letra fixada, para ficar de fora, porque o caso de repetir I é identico. Assim,\n",
        "$$p_2=2\\times 5\\times \\times P_6^{2}=10\\times\\frac{6!}{2!}=10 \\times 360=3600.$$"
      ],
      "metadata": {
        "id": "Cw0eKzLKN6Hr"
      }
    },
    {
      "cell_type": "code",
      "source": [
        "p2=10*math.factorial(6)/math.factorial(2)\n",
        "p2"
      ],
      "metadata": {
        "colab": {
          "base_uri": "https://localhost:8080/"
        },
        "id": "3PqzjTwKSeRS",
        "outputId": "8d567a0a-b49f-4ad2-817d-d15e6af84775"
      },
      "execution_count": null,
      "outputs": [
        {
          "output_type": "execute_result",
          "data": {
            "text/plain": [
              "3600.0"
            ]
          },
          "metadata": {},
          "execution_count": 4
        }
      ]
    },
    {
      "cell_type": "markdown",
      "source": [
        "3. Agora repetimos o A e o I duas veves. Nesse caso, usaremos quatro das seis letras distintas e duas vão ficar de fora, e duas (diferentes de A e I) entram, de cada vez. Então a quantidade de possibilidades de escolhas das duas letras que entram é a combinação de 4 dois a dois, que é $$\\frac{4!}{2!(4-2)!}=6.$$\n",
        "\n",
        "Assim, $p_3$ é dado por\n",
        "$$p_3=6\\times P_6^{2,2}=6\\times \\frac{6!}{2!2!}=6\\times 180=1080.$$"
      ],
      "metadata": {
        "id": "2dN3PNYSPvGv"
      }
    },
    {
      "cell_type": "code",
      "source": [
        "p3=math.comb(4,2)*math.factorial(6)/(math.factorial(2)*math.factorial(2))\n",
        "p3"
      ],
      "metadata": {
        "colab": {
          "base_uri": "https://localhost:8080/"
        },
        "id": "AY28EClzRxH0",
        "outputId": "ca3887d7-58c2-468f-ec85-13494cf796a8"
      },
      "execution_count": null,
      "outputs": [
        {
          "output_type": "execute_result",
          "data": {
            "text/plain": [
              "1080.0"
            ]
          },
          "metadata": {},
          "execution_count": 5
        }
      ]
    },
    {
      "cell_type": "markdown",
      "source": [
        "O total de casos será $p_1+p_2+p_3=5400.$"
      ],
      "metadata": {
        "id": "N3ZmJ-Wv09xx"
      }
    },
    {
      "cell_type": "code",
      "source": [
        "p1+p2+p3"
      ],
      "metadata": {
        "colab": {
          "base_uri": "https://localhost:8080/"
        },
        "id": "iV6UgZPh1Cjc",
        "outputId": "8b6140d6-b5be-4571-8bd9-7ac6eb8c393d"
      },
      "execution_count": null,
      "outputs": [
        {
          "output_type": "execute_result",
          "data": {
            "text/plain": [
              "5400.0"
            ]
          },
          "metadata": {},
          "execution_count": 6
        }
      ]
    },
    {
      "cell_type": "markdown",
      "source": [
        "---"
      ],
      "metadata": {
        "id": "PgPVHL28iWfA"
      }
    },
    {
      "cell_type": "markdown",
      "source": [
        "5. Um [poliedro](https://pt.wikipedia.org/wiki/Poliedro) é um objeto tridimensional, formado pela união de polígonos. Esses polígonos são chamados de faces do poliedro. Os lados dos polígonos são chamados de arestas do poliedro e os vértices dos polígonos (juntos) são chamados de vértices do poliedro.\n",
        "\n",
        "a) (1 ponto) Sejam $P_1,\\,P_2,\\,\\ldots P_n$ os vértices (distintos) de um polígono de $n$ lados. Mostre que a soma dos ângulos internos desse polígono é $(n-2)\\times 180$ graus.\n",
        "\n",
        "b) (1 ponto) Seja $F$ o número de faces e $A$ o número de arestas de um poliedro. Suponha que todas as faces desse poliedro são polígonos de $n$ lados. Mostre que vale a relação $nF=2A$.\n",
        "\n",
        "c) (1 ponto) Seja $F$ o número de faces, $A$ o número de arestas e $V$ o número de vértices de um poliedro $Q$. Você pode incluir algumas diagonais em cada face e obter outras faces e outras arestas, sem aumentar o número de vértices e de tal forma que o poliedro possa ser identificado com um novo poliedro $R$, cujas faces são regiões triangulares.\n",
        "\n",
        "Seja $\\mathcal{F}$ o número de faces, $\\mathcal{A}$ o número de arestas e $\\mathcal{V}$ o número de vértices do poliedro $R$. Mostre que $$V+A-F=\\mathcal{V}+\\mathcal{A}-\\mathcal{F}.\\tag{$\\star$}$$"
      ],
      "metadata": {
        "id": "DM_m4gcad7Yw"
      }
    },
    {
      "cell_type": "markdown",
      "source": [
        "**Resolução:**\n",
        "\n",
        "a) Pode-se mostrar, usando retas paralelas (ou recortando papel e dobrando) que a soma dos ângulos internos de um triângulo é $180^o$. Então, para $n=3$ lados de uma região poligonal, vale a igualdade $s_n=(n-2)180^o$, em que $s_n$ denota a soma dos ângulos internos de uma região poligonal de $n$ lados.\n",
        "\n",
        "Supondo, como hipótese de indução finita que $s_j=(j-2)180^o$, para todo $3\\leq j\\leq n$, é a soma dos ângulos internos de toda região poligonal com $j$ lados.\n",
        "\n",
        "Considere uma região poligonal $R$ com $n+1$ lados. Escolha uma diagonal dessa região poligonal, que esteja contida em seu interior. Essa diagonal divide a região em duas outras regiões, digamos, $R_1$, com $p$ lados, e $R_2$, com $q$ lados, de tal forma que $p+q=n+3$, com $p\\leq n$ e $q\\leq n$, porque a diagonal escolhida é contada duas vez, e os demais lados de $R_1$ e $R_2$ estão na região $R$. Segue da hipótese de indução que a soma dos ângulos internos dessas regiões é $s_p=(p-2)180^o$ e $s_q=(q-2)180^o$.\n",
        "\n",
        "Ainda $s_n=s_p+s_q=(p+q-4)180^o=((n+1)-2)180^o$. Segue que $s_n=(n-2)180^o$ para todo $n$ natural e maior que 2."
      ],
      "metadata": {
        "id": "kuXiE6FNikdo"
      }
    },
    {
      "cell_type": "markdown",
      "source": [
        "b) Considere um poliedro $P$, cujas faces possuem $n$ lados cada uma. Esses lados são chamados de arestas do poliedro.\n",
        "\n",
        "Seja $F$ o número de faces e $A$ o número de arestas desse poliedro $P$.\n",
        "\n",
        "Podemos fazer uma cópia de cada face do poliedro em outro lugar. Teremos então $F$ cópias de faces. Depois fazemos uma cópia de cada lado das cópias das faces. Como cada face tem $n$ lados teremos feito $nF$ cópias de lados (que são cópias de arestas).\n",
        "\n",
        "Podemos também fazer uma cópia de cada uma das arestas de cada face do poliedro $P$. Como cada aresta está em exatamente duas faces faremos duas cópias de cada aresta, obtendo então $2A$ cópias de arestas.\n",
        "\n",
        "As duas formas de fazermos cópias de arestas deve dar o mesmo número de cópias, como você pode pensar a respeito.\n",
        "\n",
        "Então $nF=2A$.\n",
        "\n",
        "\n",
        "c) Seja $F$ o número de faces, $A$ o número de arestas e $V$ o número de vértices de um poliedro $Q$. Você pode incluir algumas diagonais em cada face e obter outras faces e outras arestas, sem aumentar o número de vértices. Isso ocorre porque as diagonais partem de (ou chegam em) um vértices existentes.\n",
        "\n",
        "Para cada aresta incluída obtemos uma face nova. Então, se $\\mathcal{F}$ for o número de faces, $\\mathcal{A}$ o número de arestas e $\\mathcal{V}$ o número de vértices do poliedro $R$, que obtemos após a inclusão de aresta (diagonais) novas e, consequentemente, de faces novas. Devemos ter $$A-F=\\mathcal{A}-\\mathcal{F},\\qquad V=\\mathcal{V},$$ ou\n",
        "$$V+A-F=\\mathcal{V}+\\mathcal{A}-\\mathcal{F}.\\tag{$\\star$}$$\n",
        "\n",
        "Em particular, podemos adicionar diagonais até que as faces fiquem triângulares.\n",
        "\n",
        "**Obs:** Você não pode provar isso usando a relação de Euler (Exercício 6), porque ela depende desse resultado. Ainda, não foi dito que o poliedro satisfaz à relação de Euler."
      ],
      "metadata": {
        "id": "_9jyUKZUxggg"
      }
    },
    {
      "cell_type": "markdown",
      "source": [
        "---"
      ],
      "metadata": {
        "id": "pcw37ScnifRy"
      }
    },
    {
      "cell_type": "markdown",
      "source": [
        "**Obs:**\n",
        "\n",
        "*   Entregar resolução manuscrita, com detalhes da argumentação, até 10 horas, do dia 23 de junho, no meio da aula.\n",
        "* A avaliação vale 10 pontos. Então escolha um dos itens que valem 1 ponto, para valer 2 pontos. Ou resolva o exércício 6.\n",
        "* Lembre-se que a ideia é que aprendam com a resolução.\n",
        "* Para quem estiver com tempo sugiro leitura do texto deste [link](https://pt.wikipedia.org/wiki/Caracter%C3%ADstica_de_Euler#).\n",
        "\n",
        "---"
      ],
      "metadata": {
        "id": "nGyPp4To6Z-u"
      }
    },
    {
      "cell_type": "markdown",
      "source": [
        "**Extra:**\n",
        "6. (1 ponto) Seja $F$ o número de faces, $A$ o número de arestas e $V$ o número de vértices de um [poliedro convexo](https://pt.wikipedia.org/wiki/Poliedro#Poliedro_Convexo) $Q$. Mostre, usando o Exercício 5, que $$V+A-F=2.\\tag{$\\star$}$$\n",
        "\n",
        "**Dica:** Como o número de arestas é finito. Você pode escolher um vértice e pendurar o poliedro por este vértice, usando uma linha por exemplo. Se fizer isso embaixo de uma lámpada, pode ver uma sombra no chão, ou numa mesa. Essa sombra será uma região poligonal $S$, em que cada lado $l_i$ dessa região é a sombra de alguma aresta do poliedro.\n",
        "\n",
        "Pode observar que algumas faces do poliedro ficarão iluminadas (recebem luz direta da lâmpada) e outras ficarão na sombra (não recebem luz direta da lâmpada). A separação entre as faces iluminadas e as outras é dada exetamente pelas arestas que geram os lados $l_i$.\n",
        "\n",
        "Pense agora na soma dos ângulos internos das faces do poliedro. Depois pense em como ficam as somas desses ângulos, na sombra da região iluminada e na sombra da região não iluminada."
      ],
      "metadata": {
        "id": "UZXWlGoDmXcn"
      }
    }
  ]
}