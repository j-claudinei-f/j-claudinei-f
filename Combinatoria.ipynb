{
  "nbformat": 4,
  "nbformat_minor": 0,
  "metadata": {
    "colab": {
      "provenance": [],
      "authorship_tag": "ABX9TyOb2FpH9B/Z3OfK5McLgN/p",
      "include_colab_link": true
    },
    "kernelspec": {
      "name": "python3",
      "display_name": "Python 3"
    },
    "language_info": {
      "name": "python"
    }
  },
  "cells": [
    {
      "cell_type": "markdown",
      "metadata": {
        "id": "view-in-github",
        "colab_type": "text"
      },
      "source": [
        "<a href=\"https://colab.research.google.com/github/j-claudinei-f/j-claudinei-f/blob/main/Combinatoria.ipynb\" target=\"_parent\"><img src=\"https://colab.research.google.com/assets/colab-badge.svg\" alt=\"Open In Colab\"/></a>"
      ]
    },
    {
      "cell_type": "markdown",
      "source": [
        "#**Matemática Discreta**\n",
        "\n",
        "José Claudinei Ferreira\n",
        "\n",
        "Universidade Federal de Alfenas"
      ],
      "metadata": {
        "id": "hJax4ixmJAXa"
      }
    },
    {
      "cell_type": "markdown",
      "source": [
        "#**Análise combinatória**\n",
        "\n"
      ],
      "metadata": {
        "id": "RojXsispI368"
      }
    },
    {
      "cell_type": "markdown",
      "source": [
        "A análise combinatória lida com problemas relacionados a conjuntos finitos que satifsfazem certos critérios.\n",
        "\n",
        "Em particular, lida com problemas de eunumeração ou contagem."
      ],
      "metadata": {
        "id": "aVO4R_vZJ23l"
      }
    },
    {
      "cell_type": "markdown",
      "source": [
        "<font color=blue> **Exemplo 1:** Em um grupo de 50 pessoas, sempre há pelo menos 5 delas que nasceram no mesmo mês."
      ],
      "metadata": {
        "id": "LxSphUMvbLSz"
      }
    },
    {
      "cell_type": "markdown",
      "source": [
        "<font color=blue> Para ver isso, considere $n_1$ o número de pessoas do grupo nascidas em janeiro, $n_2$ o conjunto das pessoas do grupo nascidas em fevereiro, ..., e $n_{12}$ o número de pessoas nascidas em dezembro. Seja $$\\bar{x}=\\frac{n_1+n_2+\\cdots+n_{12}}{12}=\\frac{50}{12}>4.$$\n",
        "\n",
        "<font color=blue> Então a média de pessoas do grupo que nasceram em cada mês é maior que 4, o que nos diz que pelo menos 5 pessoas nasceram num mesmo mês. Segue que há um mês em que no máximo quatro pessoas do grupo nasceram também.\n",
        "\n"
      ],
      "metadata": {
        "id": "-f57dY_tWaja"
      }
    },
    {
      "cell_type": "markdown",
      "source": [
        "<font color=green> **Obs:** O argumento do exemplo anterior esta relacionado com [Princípio das gavetas de Derichlet](https://pt.wikipedia.org/wiki/Princ%C3%ADpio_da_casa_dos_pombos#:~:text=Matematicamente%20falando%2C%20isto%20quer%20dizer%20que%20se%20o,que%20o%20primeiro%20relato%20deste%20princ%C3%ADpio%20tenha%20)."
      ],
      "metadata": {
        "id": "EKdny4rAY5uF"
      }
    },
    {
      "cell_type": "markdown",
      "source": [
        "**Príncípios de contagem:** Há dois princípios a serem considerados, além dos príncipios sobre números naturais:\n",
        "\n",
        "Sejam $A$ e $B$ dois conjuntos finitos, digamos que $A$ tem $m$ elementos e que $B$ tem $n$ elementos.\n",
        "\n",
        "1. O conjunto $A\\cup B$ é um conjunto finito, com $m+n-p$ elementos, em que $p$ é o número de elementos do conjunto $A\\cap B$;\n",
        "\n",
        "2. O conjunto $A\\times B$ é um conjunto finito, com $m\\times n$ elementos."
      ],
      "metadata": {
        "id": "Sarc5RJqKUsF"
      }
    },
    {
      "cell_type": "markdown",
      "source": [
        "**Obs:** Há quem prefira usar notação de cardinalidade de conjuntos como $\\#A=m$, $\\,\\#B=n$ e $\\# A\\cap B=p$. Nesse caso, obtemos as igualades $$\\# A\\cup B=\\#A+\\#B-\\# A\\cap B$$ e $$\\# A\\times B=\\# A\\times \\# B.$$"
      ],
      "metadata": {
        "id": "SC3tmaODL5Gp"
      }
    },
    {
      "cell_type": "markdown",
      "source": [
        "**Obs:** Você pode verificar que $$A\\cup B\\cup C=A\\cup \\left(B\\cup C\\right)$$ e que $$A\\times B\\times C=A\\times \\left(B\\times C\\right).$$"
      ],
      "metadata": {
        "id": "WT493ScRM3qn"
      }
    },
    {
      "cell_type": "markdown",
      "source": [
        "**Exemplo 2:** Uma urna contém nove bolas numeradas, de 1 até 9.\n",
        "\n",
        "Para formar um número de 5 algarismos, Paulo retirou uma bola da urna, anotou o número dela e a colocou de volta. Ele repetiu isso mais quatro vezes.\n",
        "\n",
        "Quantas são as possibilidades de ele obter o tal número?"
      ],
      "metadata": {
        "id": "FQ7zVsVOxMGc"
      }
    },
    {
      "cell_type": "markdown",
      "source": [
        "Seja $A=\\{1,\\,2,\\,3,\\,4,\\,5,\\,6,\\,7,\\,8,\\,9\\}$ e note que o procedimento de Paulo pode ser identificado com a escolha de um elemento do conjunto $A\\times A\\times A\\times A\\times A$. Mas esse conjunto tem $9\\times 9\\times 9\\times 9\\times 9=9^5$ elementos.\n",
        "\n",
        "<font color=blue> O que acontece se $A$ fosse o conjunto $\\{0,\\,1,\\,2,\\,3,\\,4,\\,5,\\,6,\\,7,\\,8,\\,9\\}$?"
      ],
      "metadata": {
        "id": "18CWlNHwzdZ8"
      }
    },
    {
      "cell_type": "markdown",
      "source": [
        "#**Permutação**\n",
        "\n",
        "O problema apresentado logo acima trata de um problema de contagem em que, digamos, é permitido repetir elementos.\n",
        "\n",
        "Muitas vezes temos problemas em que a repetição não é permitida, ou não faz sentido. Esse seria o caso de pensarmos em formar filas de pessoas; uma pessoa não pode ocupar dois lugares na fila.\n"
      ],
      "metadata": {
        "id": "pWW5_zJzMzFp"
      }
    },
    {
      "cell_type": "markdown",
      "source": [
        "**Exemplo 3:** Um grupo de nove amigos resolveu acampar em frente a uma casa de espetáculos, para ver um show de um cantor pouco famoso. Eles chegaram primeiro e ficaram lá por dois dias. Nesse período mais pessoas chegaram.\n",
        "\n",
        "Quando os portões abriram foi solicitado que formassem uma fila para a revista e passagem na única roleta de controle de acesso.\n",
        "\n",
        "Qual o número de filas possíveis, considerando só o grupo de 9 amigos?"
      ],
      "metadata": {
        "id": "dT__ubl61t7L"
      }
    },
    {
      "cell_type": "markdown",
      "source": [
        "Nesse caso, podemos pensar da seguinte forma:\n",
        "\n",
        "Seja $A_9$ o conjunto com os 9 amigos. Decidido qual deles vai primeiro na fila forma-se um conjunto $A_8$ com 8 amigos. Decidido qual dos membros de $A_8$ fica em segundo lugar da fila, forma-se outro conjunto $A_7$, com 7 amigos. Isso ocorre até que sobrem dois amigos no conjunto $A_2$ e um deles fique no conjunto $A_1$.\n",
        "\n",
        "O número de filas possíveis é o número de elementos do conjunto\n",
        "$A_1\\times A_2\\times A_3\\times A_4\\times A_5\\times A_6\\times A_7\\times A_8\\times A_9$, que tem $9\\times 8\\times 7\\times 6\\times 5\\times 4\\times 3\\times 2\\times 1$ elementos.\n",
        "\n",
        "Denotamos esse número como $9!$."
      ],
      "metadata": {
        "id": "23NsfOn03KiS"
      }
    },
    {
      "cell_type": "markdown",
      "source": [
        "**Pensando com relações de ercorrência:** Processos como o descrito no exemplo logo antes são chamados de permutação (reordenação) dos $n$ elementos de um conjunto finito $A$, num contexto em que um elemento não pode ser repetido em  mais de uma posição.\n",
        "\n",
        "Por simplicidade, podemos denotar os conjuntos finitos, com $n$ elementos, como $$A_n=\\{x_1,\\,x_2,\\,\\ldots,\\,x_n\\}.$$\n",
        "\n",
        "Se denotarmos por $P_n$ o número de permutações dos elementos do conjunto $A_n$, obtemos $$\\begin{cases}P_n&=&nP_{n-1}\\\\P_1&=&1\\end{cases},\\qquad n>1,$$ ou $$P_n=n!.$$"
      ],
      "metadata": {
        "id": "h7bAHOPK42_L"
      }
    },
    {
      "cell_type": "markdown",
      "source": [
        "#**Arranjos e combinações**"
      ],
      "metadata": {
        "id": "bQVhwxqRFL3B"
      }
    },
    {
      "cell_type": "markdown",
      "source": [
        "Pode ocorrer de não serem usados todos os elementos do conjunto $A_n$, ou seja, o processo de reordenação utiliza apenas $k\\leq n$ elementos."
      ],
      "metadata": {
        "id": "0Sarhb1ME2mQ"
      }
    },
    {
      "cell_type": "markdown",
      "source": [
        "**Exemplo 4:** Após o show descrito no exemplo logo acima, o grupo de amigos resolveu ir em outro show, na semana seguinte, em outra cidade. Para irem ao show vão usar o carro de um deles, digamos o do Paulo. Mas o carro só cabe mais 4 pessoas, além de Paulo.\n",
        "\n",
        "Quantas são as possibilidades de escolha de quem vai no carro?"
      ],
      "metadata": {
        "id": "BXsz4m5nFZqQ"
      }
    },
    {
      "cell_type": "markdown",
      "source": [
        "Nesse caso, podemos pensar da seguinte forma:\n",
        "\n",
        "Seja $A_8$ o conjunto com os 8 amigos de Paulo. Decidido qual deles vai primeiro no carro forma-se um conjunto $A_7$, com 7 amigos. Decidido qual dos membros de $A_7$ fica em segundo lugar no carro, forma-se outro conjunto $A_6$, com 6 amigos. Decidido qual deles fica terceiro no carro forma-se um conjunto $A_5$ com 5 amigos. Aí resta escolher o quarto que vai no carro, em $A_5$.\n",
        "\n",
        "O número de filas possíveis é o número de elementos do conjunto\n",
        "$A_5\\times A_6\\times A_7\\times A_8$, que tem $ 8\\times 7\\times 6\\times 5$ elementos.\n",
        "\n",
        "Denotamos como $$\\frac{8!}{(8-4)!}.$$\n",
        "\n"
      ],
      "metadata": {
        "id": "rWNbXXEfGxCY"
      }
    },
    {
      "cell_type": "markdown",
      "source": [
        "<font color=red> Observe que há um erro nesse cáclulo anterior, porque levamos em consideração a ordem de escolha de quem vai no carro de Paulo.\n",
        "\n",
        "Nesse caso, é preciso olhar para as permutações dos 4 amigos no carro e dividir o número anterio por isso, ou seja, o número de possibilidades de escolha de quem vai no carro é <font color=blue> $$\\frac{8!}{4!(8-4)!}.$$"
      ],
      "metadata": {
        "id": "MA55YEpeZ5tV"
      }
    },
    {
      "cell_type": "markdown",
      "source": [
        "**Uma expressão para arranjos:** Processos como o descrito na resolução do exemplo logo antes são chamados de arranjos (reordenação) $k$ a $k$ dos $n$ elementos de um conjunto finito $A$, com $k\\leq n$, num contexto em que um elemento não pode ser repetido em  mais de uma posição, <font color=blue> mas a posição importa.\n",
        "\n",
        "Por simplicidade, podemos denotar os conjuntos finitos, com $n$ elementos, como $$A_n=\\{x_1,\\,x_2,\\,\\ldots,\\,x_n\\}.$$\n",
        "\n",
        "Se denotarmos por $P_{n,k}$ o número de arranjos dos elementos do conjunto $A_n$, tomados $k$ a $k$, para $k$ fixo, obtemos que $P_{n,k}$ é o número de elementos do conjunto $A_n\\times A_{n-1}\\times\\cdots\\times A_{n-k+1}$ ou $$P_{n,k}=n(n-1)\\cdots (n-k+1)=\\frac{n!}{(n-k)!}.$$"
      ],
      "metadata": {
        "id": "XOxOp6P3M_dn"
      }
    },
    {
      "cell_type": "markdown",
      "source": [
        "**Uma expressão para combinações:** Processos de reordenação,  como o descrito no exemplo logo antes, tomando $k$ a $k$ dos $n$ elementos de um conjunto finito $A$, com $k\\leq n$, num contexto em que um elemento não pode ser repetido em  mais de uma posição, <font color=blue> em que a posição não importa. Nesse caso chamamos de combinação.\n",
        "\n",
        "Se denotarmos por $C_{n,k}$ o número de combinações dos elementos do conjunto $A_n$, tomados $k$ a $k$, para $k$ fixo, obtemos que  $$C_{n,k}=\\frac{1}{k!}P_{n,k}=\\frac{n!}{k!(n-k)!}.$$"
      ],
      "metadata": {
        "id": "-s9f6GzZbfiU"
      }
    },
    {
      "cell_type": "markdown",
      "source": [
        "É comum vermos a notação $$C_{n,k}=\\left(n\\atop k\\right).$$"
      ],
      "metadata": {
        "id": "ZXSZTKc9ciYs"
      }
    },
    {
      "cell_type": "markdown",
      "source": [
        "#**Agrupamentos com repetição**\n",
        "\n",
        "Em alguns problemas, digamos de reordenação de coisas, algumas reordenações têm o mesmo efeito.\n",
        "\n"
      ],
      "metadata": {
        "id": "9TWqUrml78ei"
      }
    },
    {
      "cell_type": "markdown",
      "source": [
        "<font color=blue> Um exemplo é trocar a ordem das letras da palavra AMA. Trocar o primeiro $A$ com o último gera a mesma palavra, por exemplo.\n",
        "\n",
        "<font color=blue> Você pode pensar que as letras são de macarrão, por exemplo."
      ],
      "metadata": {
        "id": "7_9PZOmFegHT"
      }
    },
    {
      "cell_type": "markdown",
      "source": [
        "Nesse caso, dado um conjunto com $n$ elementos e sabendo que alguns dos elementos são idênticos. As filas formadas com elementos desse conjunto permanecem idênticas, quando elementos idênticos são permutados. É preciso então dividir o total inicial de filas pelos números de permutações dos elementos idênticos.\n",
        "\n",
        "De modo geral, se temos $n$ elementos em um conjunto, e $n_1$ elementos são identicos de um tipo, $n_2$ elementos são idênticos de tipo diferente dos de $n_1$, ..., $n_p$ elementos são identicos e de tipo diferente dos anteriores. Então o número de filas distintas formadas por esses $n$ elementos será $$P_n^{n_1,n_2,\\ldots,n_p}=\\frac{n!}{n_1!n_2!\\cdots n_p!}.$$"
      ],
      "metadata": {
        "id": "-amR6YW5ea-Y"
      }
    },
    {
      "cell_type": "markdown",
      "source": [
        "**Exemplo 5:** Um casal de amigos meus gosta de duas coisas, a primeira é ter filhos e a segunda é colocar o nome do próximo filho, usando alguma regra.\n",
        "\n",
        "Uma filha deles chama-se Amarilis e eles resolveram que o nome da próxima criança terá exatamente as mesmas letras do nome Amarilis, sendo permitido haver até dois a's ou até dois i's.\n",
        "\n",
        "Eles acham que Silmaria é uma possibilidade, se a criânça for menina, por exemplo.\n",
        "\n",
        "Eles sabem que alguns agrupamentos de letras não serão nomes de pessoas, digamos aceitos, mas eles querem pensar sobre a quantidade de expressões (ordenações)  das letras do nome Amarilis.\n",
        "\n",
        "Quantos são esses agrupamentos?"
      ],
      "metadata": {
        "id": "LtfL6ezb_AyJ"
      }
    },
    {
      "cell_type": "markdown",
      "source": [
        "Você pode pensar que as letras do nome Amarilis são de macarraão, por exemplo. Vai ter então um conjunto com $n=8$ letras, em que $n_1=2$ e $n_2=2$ elementos são idênticos (os $A$ e os $I$).\n",
        "\n",
        "Segue que o número total de possibilidades de agrupar as oito letras e formar expressões distintas é $$\\frac{8!}{2!2!}.$$"
      ],
      "metadata": {
        "id": "jlBjzaPT5K8M"
      }
    },
    {
      "cell_type": "markdown",
      "source": [
        "**Obs:** Uma observação importante é que a combinação de $n$ elementos distintos de um conjunto, tomados $k$ a $k$ é equivanete a identificarmos $k$ dos $n$ elementos como se fossem identicos entre si e depois identificar os $n-k$ elementos como se fossem idênticos entre si, mas não idênticos aos outros $k$ elementos.\n",
        "\n",
        "Então o número de filas não idênticas desses elementos será $$P_n^{k,n-k}=\\frac{n!}{k!(n-k)!}=C_{n,k},$$ como já sabemos."
      ],
      "metadata": {
        "id": "wx2rgzK66nc_"
      }
    },
    {
      "cell_type": "markdown",
      "source": [
        "**Exemplo 6:** Um casal de amigos meus gosta de duas coisas, a primeira é ter filhos e a segunda é colocar o nome do próximo filho, usando alguma regra.\n",
        "\n",
        "Uma filha deles chama-se Amarilis e eles resolveram que o nome da próxima criança terá apenas seis letras, que essas letras precisam estar no nome de Amarilis, sendo permitido haver até dois a's ou até dois i's.\n",
        "\n",
        "Eles acham que Silmar é uma possibilidade, se a criança for menina, por exemplo.\n",
        "\n",
        "Eles sabem que alguns agrupamentos de letras não serão nomes de pessoas, digamos aceitos, mas eles querem pensar sobre a quantidade de expressões (ordenações) de seis letras do nome Amarilis.\n",
        "\n",
        "Quantos são esses agrupamentos?\n",
        "\n",
        "<font color=red> Vou aguardar o próximo tópico para comentar a resolução."
      ],
      "metadata": {
        "id": "qbYWz-D3Ct4J"
      }
    },
    {
      "cell_type": "markdown",
      "source": [
        "#**Contando soluções inteiras e não negativas da equação $$x_1+x_2+\\cdots +x_k=n.\\tag{$\\star$}$$**"
      ],
      "metadata": {
        "id": "_y64FNl2xTSh"
      }
    },
    {
      "cell_type": "markdown",
      "source": [
        "Alguns problemas de contagem podem ser idetificados com o problema posto no eneunciado do seção, em que $x_i$, $i$, $k$ e $n$ são números inteiros e não negativos.\n",
        "\n",
        "Uma forma de resolver este problema é imaginar que $n$ é uma quantidade de elementos (idênticos) de um conjunto, digamos que são círculos $\\circ$. Podemos separar esses círculos por, digamos, por uma $|$. $k-1$ dessas barras substituem os sinais de $+$ na expressão $(\\star)$.\n",
        "\n",
        "Então, por exemplo, a expressão $$1+2+2=5$$ pode ser representada por\n",
        "$$\\circ|\\circ\\circ|\\circ\\circ$$\n",
        "\n",
        "Isso nos diz que a exepressão $$x_1+x_2+\\cdots +x_k=n$$ pode ser vista como uma fila $$\\circ\\cdots\\circ|\\circ\\cdots\\circ|\\cdots |\\circ\\cdots\\circ$$ com $n$ círculos separados por $k-1$ barras, sendo que o tanto de círculos entre as barras é $x_i$.\n",
        "\n",
        "Então o número de soluções da equação logo acima será $$\\frac{(n+k-1)!}{n!(k-1)!},$$ que é a permutação dos $n+k-1$ símbolos, sendo que $n$ deles são círculos idênticos e $k-1$ são barras idênticas.\n",
        "\n"
      ],
      "metadata": {
        "id": "tXGG7q_BxrfJ"
      }
    },
    {
      "cell_type": "markdown",
      "source": [
        "**Exemplo 7:** Uma loja vende três tipos de refrigerantes; Guaraná, Coca e Laranja. Paulo quer comprar 5 refrigerantes.\n",
        "\n",
        "Quantas são as possibilidades de escolhas de quantidades de refrigerantes Paulo tem?"
      ],
      "metadata": {
        "id": "nyJmT6bE81qN"
      }
    },
    {
      "cell_type": "markdown",
      "source": [
        "Esse problema pode ser visto como a quantidade de soluções da equação $$n_1+n_2+n_3=5,$$ em que $n_i$ denota a quantidade de refrigerantes do tipo $i$.\n",
        "\n",
        "Esse número é $$\\frac{(5+3-1)!}{5!(3-1)!}=\\frac{7\\times 6}{2}=21.$$"
      ],
      "metadata": {
        "id": "jKNJklNJ9hu_"
      }
    },
    {
      "cell_type": "markdown",
      "source": [
        "**Exemplo 8:** Uma loja vente seis tipos de sorvetes.\n",
        "\n",
        "a) De quantas formas podemos comprar três sorvetes nesta loja?\n",
        "\n",
        "b) De quantas formas podemos comprar três sorvetes diferentes nesta loja?"
      ],
      "metadata": {
        "id": "xrVYEqxF-9F7"
      }
    },
    {
      "cell_type": "markdown",
      "source": [
        "Em geral entemos este problema como o item b). Por isso vamos tratar deste item primeiro.\n",
        "\n",
        "b) Para obetremos a quantidade de formas de escolhermos 3 sorvetes distintos em 6, usamos a combinação, porque não é mencionada a ordem da escolha. Então a resposta é $$C_{6,3}=\\frac{6!}{3!(6-3)!}=\\frac{6\\times 5\\times 4}{3\\times 2}=20.$$"
      ],
      "metadata": {
        "id": "dvuANI30lh-7"
      }
    },
    {
      "cell_type": "markdown",
      "source": [
        "a) Para esse item, podemos pensar no problema como o número de soluções inteiras e não negativas da equação $$n_1+n_2+n_3+n_3+n_4+n_5+n_6=3,$$  em que $n_i$ denota a quantidade de sorvetes do tipo $i$.\n",
        "\n",
        "Esse número é $$\\frac{(3+6-1)!}{3!(6-1)!}=\\frac{8\\times 7\\times 6}{3\\times 2}=56.$$"
      ],
      "metadata": {
        "id": "l3Ub_gsJmM6G"
      }
    },
    {
      "cell_type": "markdown",
      "source": [
        "**Exemplo 9: Voltando ao Exemplo 6:** Podemos olhar para o problema do referido exemplo da seguinte forma:\n",
        "\n",
        "Podemos enumerar as letras do nome AMARILIS, como se elas fossem de macarrão.\n",
        "\n",
        "Um exemplo é chamar (as letras de macarrão) $A$ de $a_1$, $M$ de $a_2$, $A$ de $a_3$, $R$ de $a_4$, $I$ de $a_5$, $L$ de $a_6$, $I$ de $a_7$ e $S$ de $a_7$.\n",
        "\n",
        "Agora pensamos nos arranjos dos elementos do conjunto $\\{a_1,\\,a_2,\\,\\ldots,a_8\\}$ tomados 6 a 6. Esse número será\n",
        "$$P_{8,6}=\\frac{8!}{(8-6)!}=8\\times 7\\times 6\\times 5\\times 4\\times 3.$$\n",
        "\n",
        "<font color=red> O problema é que há elementos idênticos em jogo...."
      ],
      "metadata": {
        "id": "c1fwVmJEpamR"
      }
    },
    {
      "cell_type": "markdown",
      "source": [
        "#**Problema da OBMEP 2023**"
      ],
      "metadata": {
        "id": "-7lwOxKQmKP7"
      }
    },
    {
      "cell_type": "markdown",
      "source": [
        "Em um torneio de tênis, cada jogador foi escalado para jogar contra cada um dos outros jogadores uma única vez. Entretanto, durante o evento, três jogadores desistiram do torneio. Sabemos que cada um dos desistentes jogou duas partidas. Se o torneio teve exatamente 50 jogos, quantos jogadores começaram o torneio?"
      ],
      "metadata": {
        "id": "JPSoAbzmmQiJ"
      }
    },
    {
      "cell_type": "markdown",
      "source": [
        "**Uma solução:**\n",
        "\n",
        "Se $n$ jogadores iniciam o torneio e cada um joga uma vez apenas com outro. Então o número total de jogos será $$\\frac{n(n-1)}{2},$$ que é a combinação de $n$ dois a dois.\n",
        "\n",
        "Se três desses jogadores saem, serão $3(n-3)$ jogos deles com os outros jogadores, a menos. Serão também $3$ jogos entre eles a menos, a combinação de 3 dois a dois.\n",
        "\n",
        "Então seriam $$\\frac{n(n-1)}{2}-(3(n-3)+3)=\\frac{n^2-7n+12}{2}=\\frac{(n-3)(n-4)}{2}$$ jogos, se eles saíssem antes do início do jogo.\n",
        "\n",
        "Como jogaram duas partidas cada um, o problema tem algumas variações.\n",
        "\n",
        "a) Eles jogam entre si, digamos $J_1J_2$, $J_1J_3$ e $J_2J_3$, que são três partidas no total. Nesse caso, o número de jogos seria $$\\frac{n^2-7n+12}{2}+3=50.$$\n",
        "\n",
        "Isso nos dá, $$n^2-7n-82=0,$$ que não tem solução inteira.\n",
        "\n",
        "b) Algum dos jogadores joga com um jogador que não sai. Testei algumas possibilidades e a conta não bate.\n",
        "\n",
        "Mas se $J_1J_2$ ocorre e não ocorre mais jogos entre os jogadores que saem. Cada um jogar 2 partidas implica em 5 partidas.\n",
        "Nesse caso o número de jogos seria\n",
        "$$\\frac{n^2-7n+12}{2}+5=50.$$\n",
        "\n",
        "Isso nos dá $$n^2-7n-78=0,$$\n",
        "que tem solução $n=13$.\n"
      ],
      "metadata": {
        "id": "8054XAjUmTHI"
      }
    },
    {
      "cell_type": "code",
      "source": [
        "13**2-7*13-78"
      ],
      "metadata": {
        "colab": {
          "base_uri": "https://localhost:8080/"
        },
        "id": "psyc_BGio1w1",
        "outputId": "62201add-1388-4795-97ac-c99e21dc302d"
      },
      "execution_count": null,
      "outputs": [
        {
          "output_type": "execute_result",
          "data": {
            "text/plain": [
              "0"
            ]
          },
          "metadata": {},
          "execution_count": 2
        }
      ]
    }
  ]
}