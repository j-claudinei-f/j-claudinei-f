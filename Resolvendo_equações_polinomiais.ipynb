{
  "nbformat": 4,
  "nbformat_minor": 0,
  "metadata": {
    "colab": {
      "provenance": [],
      "authorship_tag": "ABX9TyNBV/mbOtdMxDqHxcluvIxw",
      "include_colab_link": true
    },
    "kernelspec": {
      "name": "python3",
      "display_name": "Python 3"
    },
    "language_info": {
      "name": "python"
    }
  },
  "cells": [
    {
      "cell_type": "markdown",
      "metadata": {
        "id": "view-in-github",
        "colab_type": "text"
      },
      "source": [
        "<a href=\"https://colab.research.google.com/github/j-claudinei-f/j-claudinei-f/blob/main/Resolvendo_equa%C3%A7%C3%B5es_polinomiais.ipynb\" target=\"_parent\"><img src=\"https://colab.research.google.com/assets/colab-badge.svg\" alt=\"Open In Colab\"/></a>"
      ]
    },
    {
      "cell_type": "markdown",
      "source": [
        "#**Resolvendo equações polinomiais**"
      ],
      "metadata": {
        "id": "0rso1n2coGq3"
      }
    },
    {
      "cell_type": "markdown",
      "source": [
        "José Claudinei Ferreira\n",
        "\n",
        "Universidade Federal de Alfenas"
      ],
      "metadata": {
        "id": "NwWsPyOYoQl_"
      }
    },
    {
      "cell_type": "markdown",
      "source": [
        "#**A equação cúbica**"
      ],
      "metadata": {
        "id": "bin9zetddeIt"
      }
    },
    {
      "cell_type": "markdown",
      "source": [
        "Considere, por exemplo, a equação $$x^3-x+1=0,$$ que tem grau 3. Consegue detreminar o valor de $x$?"
      ],
      "metadata": {
        "id": "GVD5XCAeoVVh"
      }
    },
    {
      "cell_type": "markdown",
      "source": [
        "Podemos determinar **gráficamente** uma aproximação para a solução da equação $$f(x)=0,$$ em que $f(s)=s^3-s+1$, sendo $s$ um número real.\n",
        "\n",
        "Faremos isso aqui usando as ferramentas da linguagem de programação Python, que vai nos servir de calculadora:"
      ],
      "metadata": {
        "id": "JYpHww7Eok3H"
      }
    },
    {
      "cell_type": "code",
      "source": [
        "def f(s):              # Definição de f(s) em Python.\n",
        "  fs=s**3 - s + 1      # Note que # é usado para comentar.\n",
        "  return fs            # Valor mostrado quando chamamos f(s)."
      ],
      "metadata": {
        "id": "KugHO3V6KoHt"
      },
      "execution_count": null,
      "outputs": []
    },
    {
      "cell_type": "markdown",
      "source": [
        "Essa definição nos permite calcular automáticamente qualquer valor de $f(s)$, por exemplo, $f(2)$ ou $f(9)$:"
      ],
      "metadata": {
        "id": "B32ACN1qGV-0"
      }
    },
    {
      "cell_type": "code",
      "source": [
        "f(2),f(9)"
      ],
      "metadata": {
        "colab": {
          "base_uri": "https://localhost:8080/"
        },
        "id": "pfta6nwEGi03",
        "outputId": "8e7756a8-c4df-4d9c-d76e-996bf65cbd28"
      },
      "execution_count": null,
      "outputs": [
        {
          "output_type": "execute_result",
          "data": {
            "text/plain": [
              "(7, 721)"
            ]
          },
          "metadata": {},
          "execution_count": 12
        }
      ]
    },
    {
      "cell_type": "markdown",
      "source": [
        "No caso acima temos $f(2)=7$ e $f(9)=721$."
      ],
      "metadata": {
        "id": "-_PhW2wMG2lC"
      }
    },
    {
      "cell_type": "markdown",
      "source": [
        "Agora vamos ao gráfico de $f(s)$, para $s\\in [-2,2]$:"
      ],
      "metadata": {
        "id": "EyrT7NwOG-Yr"
      }
    },
    {
      "cell_type": "code",
      "source": [
        "import matplotlib.pyplot as plt # Carrega pacote pra fazer gráficos.\n",
        "import numpy as np              # Carrega pacote para lidar com vetores."
      ],
      "metadata": {
        "id": "OPexsi9lov4g"
      },
      "execution_count": null,
      "outputs": []
    },
    {
      "cell_type": "code",
      "source": [
        "s=np.linspace(-2,2,200)         # Vetor (lista) de números igualmante espaçados,\n",
        "                                # entre -2 e 2, com 200 números.\n",
        "plt.plot(s,f(s),label='f(s)')   # Comando para plotar gráfico.\n",
        "plt.plot(s,0*s,label='g(s)=0')\n",
        "plt.legend()\n",
        "plt.show()"
      ],
      "metadata": {
        "colab": {
          "base_uri": "https://localhost:8080/",
          "height": 430
        },
        "id": "8qATy-vqHKFm",
        "outputId": "5cdcb760-f963-48d4-b65d-92112fd5628e"
      },
      "execution_count": null,
      "outputs": [
        {
          "output_type": "display_data",
          "data": {
            "text/plain": [
              "<Figure size 640x480 with 1 Axes>"
            ],
            "image/png": "[encoded data removed]"
          },
          "metadata": {}
        }
      ]
    },
    {
      "cell_type": "markdown",
      "source": [
        "Parece que a solução da equação está próxima de $1.5$."
      ],
      "metadata": {
        "id": "B6Bq24zlH2fu"
      }
    },
    {
      "cell_type": "markdown",
      "source": [
        "**Resolvendo a equação algebricamente:**\n",
        "\n",
        "Usando ideias de [del ferro, Tartaglia ou Cardano](https://pt.wikipedia.org/wiki/Equa%C3%A7%C3%A3o_c%C3%BAbica) (veja a referência [1]), supomos que  a solução é da forma $x=a+b$ e brincamos com isso para obter\n",
        "$$x^3=(a+b)^3=a^3+b^3+3a^2b+3ab^2=a^3+b^3+3ab(a+b)=a^3+b^3+3abx.$$\n",
        "\n",
        "Então, se $$x^3-x+1=0,$$ devemos ter $$x^3=x-1=3abx+(a^3+b^3).$$ Isso sugere que $$\\begin{cases}a^3+b^3&=&-1\\\\\\\\3ab&=&1\\end{cases},$$ e que $$\\begin{cases}a^3+b^3&=&-1\\\\\\\\a^3b^3&=&\\displaystyle\\frac{1}{27}\\end{cases}.$$\n",
        "\n"
      ],
      "metadata": {
        "id": "PmN5tDSkpaLb"
      }
    },
    {
      "cell_type": "markdown",
      "source": [
        "Isso [nos diz](https://en.wikipedia.org/wiki/Quadratic_equation#History) que $u=a^3$ e $v=b^3$ são soluções da equação quadrática $$y^2+y+\\frac{1}{27}=0.$$ Ou seja,\n",
        "$$u=\\frac{-9+\\sqrt{69}}{18},\\qquad u=\\frac{-9-\\sqrt{69}}{18}$$ e segue que podemos tomar $$a=\\sqrt[3]{u}=\\sqrt[3]{\\frac{-9+\\sqrt{69}}{18}},\\qquad b=\\sqrt[3]{v}=\\sqrt{\\frac{-9-\\sqrt{69}}{18}}$$ e que\n",
        "$$x=a+b=\\sqrt[3]{u}+\\sqrt[3]{v}=\\sqrt[3]{\\frac{-9+\\sqrt{69}}{18}}+\\sqrt{\\frac{-9-\\sqrt{69}}{18}}.$$"
      ],
      "metadata": {
        "id": "TZGyMxAQI3Gq"
      }
    },
    {
      "cell_type": "markdown",
      "source": [
        "Teste com calculadora do Python:"
      ],
      "metadata": {
        "id": "mj09m7QliQM_"
      }
    },
    {
      "cell_type": "code",
      "source": [
        "a=-((9-(69)**0.5)/18)**(1/3)   # Usamos * para produto e ** para potência.\n",
        "b=-((9+(69)**0.5)/18)**(1/3)\n",
        "print('a=',a,'b=',b,'a+b=',a+b)\n",
        "print((a*b)**3-1/27, a**3+b**3+1)\n",
        "\n",
        "f(a+b)"
      ],
      "metadata": {
        "colab": {
          "base_uri": "https://localhost:8080/"
        },
        "id": "pjKmMt7eKxj0",
        "outputId": "4f9fd64d-3ead-42cd-f51e-732914800db4"
      },
      "execution_count": null,
      "outputs": [
        {
          "output_type": "stream",
          "name": "stdout",
          "text": [
            "a= -0.337726750973392 b= -0.9869912062713541 a+b= -1.324717957244746\n",
            "1.3877787807814457e-17 0.0\n"
          ]
        },
        {
          "output_type": "execute_result",
          "data": {
            "text/plain": [
              "-2.220446049250313e-16"
            ]
          },
          "metadata": {},
          "execution_count": 15
        }
      ]
    },
    {
      "cell_type": "markdown",
      "source": [
        "**Obs:**\n",
        "1. Note que $f(a+b)$ não deu exatamente 0, deu algo da ordem de $10^{-16}$ que num computador atual pode ser considerado 0.\n",
        "\n",
        "2. Você poderia ter obtido todas as soluções dessa equação com aplicativos como o [WolframAlpha](https://www.wolframalpha.com/input?i=solve+x%5E3-x%2B1%3D0)."
      ],
      "metadata": {
        "id": "vZc20k8DEMG9"
      }
    },
    {
      "cell_type": "markdown",
      "source": [
        "**A equação $x^4+3x^2+x+1=0$** <font color=red> Vou falar disso na aula de hoje, se o tempo permitir."
      ],
      "metadata": {
        "id": "YFDr81PAJawH"
      }
    },
    {
      "cell_type": "markdown",
      "source": [
        "#**A equação $x^5-x+1=0$ e o que ela causou**"
      ],
      "metadata": {
        "id": "jlSQP6OJieiX"
      }
    },
    {
      "cell_type": "markdown",
      "source": [
        "#**Referências**\n",
        "\n",
        "1. C. S. Fernandez, R. A. Santos, [O teorema fundamental da álgebra](http://www.mat.ufpb.br/bienalsbm/arquivos/Mini_Cursos_Completos/MC5Completo.pdf), Mini-curso, V Bienal da\n",
        "Sociedade Brasileira de Matemática, UFPB - Universidade Federal da Paraíba, 2010.\n"
      ],
      "metadata": {
        "id": "7QaiB-i7E_iU"
      }
    }
  ]
}