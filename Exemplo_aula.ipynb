{
  "nbformat": 4,
  "nbformat_minor": 0,
  "metadata": {
    "colab": {
      "provenance": [],
      "authorship_tag": "ABX9TyNyXaqD9JokY1Oa6oPFICgz",
      "include_colab_link": true
    },
    "kernelspec": {
      "name": "python3",
      "display_name": "Python 3"
    },
    "language_info": {
      "name": "python"
    }
  },
  "cells": [
    {
      "cell_type": "markdown",
      "metadata": {
        "id": "view-in-github",
        "colab_type": "text"
      },
      "source": [
        "<a href=\"https://colab.research.google.com/github/j-claudinei-f/j-claudinei-f/blob/main/Exemplo_aula.ipynb\" target=\"_parent\"><img src=\"https://colab.research.google.com/assets/colab-badge.svg\" alt=\"Open In Colab\"/></a>"
      ]
    },
    {
      "cell_type": "markdown",
      "source": [
        "#**Matemática Discreta**\n",
        "\n",
        "José Claudinei Ferreira\n",
        "\n",
        "Universidade Federal de Alfenas."
      ],
      "metadata": {
        "id": "JvD2sl3MUWxq"
      }
    },
    {
      "cell_type": "markdown",
      "source": [
        "#**Um exemplo e algumas discussões**"
      ],
      "metadata": {
        "id": "M6AD3OEnZNa9"
      }
    },
    {
      "cell_type": "markdown",
      "source": [
        "Vimos em aula o problema de determinar o número de possibilidades de 2 pessoas sentarem-se em uma fileira com  12  cadeiras, deixando pelo menos uma cadeira vazia entre elas.\n",
        "\n",
        "Resolvemos o problema supondo que as cadeiras estão numeradas, de 1 até 12; e o problema virou o de determinar o número de elementos do conjunto $$A=\\{(n,m)|\\, n,m\\in \\mathbb{N},\\,\\,1\\leq n,m\\leq 12,\\,\\,n\\neq m,\\,n\\neq m+1 \\text{ e } m\\neq n+1\\}.$$"
      ],
      "metadata": {
        "id": "TgMwOCzaUg6v"
      }
    },
    {
      "cell_type": "markdown",
      "source": [
        "Depois observamos que a solução vem da contagem dos elementos $(n,n+1)$ e $(n+1,n)$, que são $2\\times 11$ elementos e da contagem dos das listas de dois números naturais distintos entre 1 e 12 (inclusive), que são $12\\times 11$. Assim,\n",
        "$$|A|=12\\times 11-2\\times 11=110.$$"
      ],
      "metadata": {
        "id": "cr8Bx7QHVeUH"
      }
    },
    {
      "cell_type": "markdown",
      "source": [
        "Perguntei então se queriam pensar em um problema semelhante, com mais cadeiras ou pessoas.\n",
        "\n",
        "Daí surgiu o problema que segue:"
      ],
      "metadata": {
        "id": "etNdS-ZOXcxk"
      }
    },
    {
      "cell_type": "markdown",
      "source": [
        "**Problema:**\n",
        "\n",
        "Determine o número de possibilidades de 4 pessoas sentarem-se em uma fileira com $34$ cadeiras, deixando pelo menos uma cadeira vazia entre elas."
      ],
      "metadata": {
        "id": "5pfkqUStXRCh"
      }
    },
    {
      "cell_type": "markdown",
      "source": [
        "**Uma solução:** Observe que a solução do problema é a mesma do item b) do problema alternativo a seguir, quando você considera $m=34$ e a posição da cadeira; como se elas estivesse numeradas. Por exemplo, se uma pessoa senta na primeira cadeira, outra na terceira, outra na quinta e outra na sétima, podemos identificar as posições com $(1,3,5,7)$. Note ainda que essas pessoas podem trocar de lugar, nessas quatro cadeiras, por exemplo, como $(7,3,5,1)$; a primeira troca de lugar com a quarta.\n",
        "\n"
      ],
      "metadata": {
        "id": "f7G8SfFWXpqJ"
      }
    },
    {
      "cell_type": "markdown",
      "source": [
        "**Problema alternativo:** Seja $P=\\{1,\\,2,\\,\\ldots,\\,m\\}$ que supomos ser conjunto dos números das cadeiras (pense que são $m$; e que estão na ordem crescente, para facilitar).\n",
        "\n",
        "Seja $$A=\\{(n_1,n_2,n_3,n_4)\\in P^4|\\, n_j\\neq n_j, \\text{ quando } i\\neq j \\}.$$ A ideia em $A$ é que as pessoas não podem sentar-se na mesma cadeira.\n",
        "\n",
        "Seja $$B=\\{(n_1,n_2,n_3,n_4)\\in A|\\,\\text{não existem }n\\in P\\setminus \\{m\\}\\text{ e }i,j\\in \\{1,2,3,4\\}\\text{ tais que }n_i=n \\text{ e } n_j=n+1 \\}.$$ A ideia em $B$ é deixar pelo menos uma cadeira vazia entre cada duas pessoas.\n",
        "\n",
        "Seja $$C=\\{(n_1,n_2,n_3,n_4)\\in A|\\,\\text{existe }n\\in P\\setminus \\{m\\}\\text{ e }i,j\\in \\{1,2,3,4\\}\\text{ tais que }n_i=n \\text{ e } n_j=n+1 \\}.$$ A ideia em $C$ é não deixar uma cadeira vazia entre pelo menos duas pessoas.\n",
        "\n",
        "a) Quantos elementos o conjunto $A$ possui?\n",
        "\n",
        "b) Quantos elementos o conjunto $B$ possui?\n",
        "\n",
        "c) Quantos elementos o conjunto $C$ possui?"
      ],
      "metadata": {
        "id": "ealaXReqaonF"
      }
    },
    {
      "cell_type": "markdown",
      "source": [
        "**Uma solução:** Note que é preciso ter $m\\geq 7$, para o item b) do problema fazer sentido. Ou melhor, para que o número de possibilidades não seja 0.\n",
        "\n",
        "a) Como não podemos repetir os elementos de $P$ (ou duas pessoas não podem sentar-se na mesma cadeira, no problema inicial). Temos que $$|A|=m\\times (m-1)\\times (m-2)\\times (m-3).$$"
      ],
      "metadata": {
        "id": "IMANQXWbcFFo"
      }
    },
    {
      "cell_type": "code",
      "source": [
        "n=34\n",
        "nA=n*(n-1)*(n-2)*(n-3)\n",
        "nA"
      ],
      "metadata": {
        "colab": {
          "base_uri": "https://localhost:8080/"
        },
        "id": "dz_sy2qIdmpj",
        "outputId": "a19a1418-4b80-44a6-c2c2-b55c0057b063"
      },
      "execution_count": 1,
      "outputs": [
        {
          "output_type": "execute_result",
          "data": {
            "text/plain": [
              "1113024"
            ]
          },
          "metadata": {},
          "execution_count": 1
        }
      ]
    },
    {
      "cell_type": "markdown",
      "source": [
        "Faremos os itens b) e c) por simulação."
      ],
      "metadata": {
        "id": "ESgzwq0Ad0PS"
      }
    },
    {
      "cell_type": "markdown",
      "source": [
        "Note que poseríamos chegar na solução de a) por simulação também."
      ],
      "metadata": {
        "id": "mlMZewo_fKMv"
      }
    },
    {
      "cell_type": "code",
      "source": [
        "P=[i for i in range(1,n+1)]\n",
        "\n",
        "nA=0\n",
        "nB=0\n",
        "nC=0\n",
        "A=[]\n",
        "B=[]\n",
        "C=[]\n",
        "\n",
        "for i in P:\n",
        "  for j in P:\n",
        "    for k in P:\n",
        "      for l in P:\n",
        "        if i!=j:\n",
        "          if i!=k:\n",
        "            if i!=l:\n",
        "              if k!=j:\n",
        "                if l!=j:\n",
        "                  if k!=l:\n",
        "                    nA+=1\n",
        "                    A.append([i,j,k,l])\n",
        "                    if i!=j+1:\n",
        "                        if i!=k+1:\n",
        "                          if i!=l+1:\n",
        "                            if k!=j+1:\n",
        "                              if l!=j+1:\n",
        "                                if k!=l+1:\n",
        "                                  if i+1!=j:\n",
        "                                    if i+1!=k:\n",
        "                                      if i+1!=l:\n",
        "                                        if k+1!=j:\n",
        "                                          if l+1!=j:\n",
        "                                            if k+1!=l:\n",
        "                                              nB+=1\n",
        "                                              B.append([i,j,k,l])\n",
        "                    if i==j+1 or i==k+1 or i==l+1 or k==j+1 or l==j+1 or k==l+1 or i+1==j or i+1==k or i+1==l or k+1==j or l+1==j or k+1==l:\n",
        "                              nC+=1\n",
        "                              C.append([i,j,k,l])"
      ],
      "metadata": {
        "id": "KcdO0C3IeE6j"
      },
      "execution_count": 2,
      "outputs": []
    },
    {
      "cell_type": "code",
      "source": [
        "print('O número de elementos de A é ',nA, '.\\n O número de elementos de B é ',nB,'.\\n O número de elementos de C é ',nC,'.')"
      ],
      "metadata": {
        "colab": {
          "base_uri": "https://localhost:8080/"
        },
        "id": "q6XIDn6xk6W6",
        "outputId": "e2c77c47-7424-4fff-cdbb-c73eb31924ee"
      },
      "execution_count": 3,
      "outputs": [
        {
          "output_type": "stream",
          "name": "stdout",
          "text": [
            "O número de elementos de A é  1113024 .\n",
            " O número de elementos de B é  755160 .\n",
            " O número de elementos de C é  357864 .\n"
          ]
        }
      ]
    },
    {
      "cell_type": "markdown",
      "source": [
        "Vejamos algumas possibilidades de posições que podem ser ocupadas:"
      ],
      "metadata": {
        "id": "WkL1fcBQGX7q"
      }
    },
    {
      "cell_type": "code",
      "source": [
        "for i in range(0,20):\n",
        "  print(B[20000*i])\n"
      ],
      "metadata": {
        "colab": {
          "base_uri": "https://localhost:8080/"
        },
        "id": "SqdsqSu9GBSv",
        "outputId": "b19c894e-1d4a-4548-8930-7ddd302a138c"
      },
      "execution_count": 4,
      "outputs": [
        {
          "output_type": "stream",
          "name": "stdout",
          "text": [
            "[1, 3, 5, 7]\n",
            "[1, 29, 12, 8]\n",
            "[2, 26, 8, 5]\n",
            "[3, 23, 9, 28]\n",
            "[4, 20, 11, 1]\n",
            "[5, 17, 12, 14]\n",
            "[6, 14, 16, 22]\n",
            "[7, 11, 17, 29]\n",
            "[8, 5, 23, 10]\n",
            "[9, 2, 24, 15]\n",
            "[9, 33, 26, 21]\n",
            "[10, 30, 27, 34]\n",
            "[11, 27, 32, 5]\n",
            "[12, 24, 33, 15]\n",
            "[13, 21, 34, 25]\n",
            "[14, 19, 1, 33]\n",
            "[15, 13, 7, 2]\n",
            "[16, 10, 8, 21]\n",
            "[17, 7, 12, 27]\n",
            "[18, 4, 13, 34]\n"
          ]
        }
      ]
    },
    {
      "cell_type": "markdown",
      "source": [
        "c) Da simulação temos o número de elementos de $|C|=|A|-|B|$"
      ],
      "metadata": {
        "id": "VCdImZSAlKZV"
      }
    },
    {
      "cell_type": "code",
      "source": [
        "print('O número de elementos de C é ',nA-nB,'.')"
      ],
      "metadata": {
        "colab": {
          "base_uri": "https://localhost:8080/"
        },
        "id": "LwQIeb0MmyXK",
        "outputId": "8266dec5-b466-46d4-c76e-c2e3bcb802b2"
      },
      "execution_count": 5,
      "outputs": [
        {
          "output_type": "stream",
          "name": "stdout",
          "text": [
            "O número de elementos de C é  357864 .\n"
          ]
        }
      ]
    },
    {
      "cell_type": "markdown",
      "source": [
        "**Obs:**\n",
        "Usando o [principío de inclusão e exclusão](https://en.wikipedia.org/wiki/Inclusion%E2%80%93exclusion_principle), em tese conseguimos resolver o problema, se conseguirmos calcular o tanto de elementos de um tanto de conjuntos. Não vou fazer tudo, só começar, porque dá muito trabalho.\n",
        "\n",
        "Pode olhar para $B=A\\setminus C$, o que leva a $$|B|=|A|-|C|.$$\n",
        " Depois podemos olhar para $C$ como uma união (não disjunta) de outros conjuntos $C_i$, para $i\\in\\{1,\\,2,\\ldots,\\,12\\}$. Em que\n",
        "$$\\begin{cases}C_1&=&\\{(n_1,n_2,n_3,n_4)\\in A|\\, n_2=n_1+1\\}\\\\\\\\C_2&=&\\{(n_1,n_2,n_3,n_4)\\in A|\\, n_3=n_1+1\\}\\\\\\\\C_3&=&\\{(n_1,n_2,n_3,n_4)\\in A|\\, n_4=n_1+1\\}\\\\\\\\C_4&=&\\{(n_1,n_2,n_3,n_4)\\in A|\\, n_1=n_2+1\\}\\\\\\\\C_5&=&\\{(n_1,n_2,n_3,n_4)\\in A|\\, n_3=n_2+1\\}\\\\\\\\C_6&=&\\{(n_1,n_2,n_3,n_4)\\in A|\\, n_4=n_2+1\\}\\\\\\\\C_7&=&\\{(n_1,n_2,n_3,n_4)\\in A|\\, n_1=n_3+1\\}\\\\\\\\C_8&=&\\{(n_1,n_2,n_3,n_4)\\in A|\\, n_2=n_3+1\\}\\\\\\\\C_9&=&\\{(n_1,n_2,n_3,n_4)\\in A|\\, n_4=n_3+1\\}\\\\\\\\C_{10}&=&\\{(n_1,n_2,n_3,n_4)\\in A|\\, n_1=n_4+1\\}\\\\\\\\C_{11}&=&\\{(n_1,n_2,n_3,n_4)\\in A|\\, n_2=n_4+1\\}\\\\\\\\C_{12}&=&\\{(n_1,n_2,n_3,n_4)\\in A|\\, n_3=n_4+1\\}\\end{cases}$$"
      ],
      "metadata": {
        "id": "fkCAfnLBqgka"
      }
    },
    {
      "cell_type": "markdown",
      "source": [
        "Note que $|C_i|=(m-1)\\times (m-2)\\times (m-3)$."
      ],
      "metadata": {
        "id": "v_i10FTMoSoO"
      }
    },
    {
      "cell_type": "markdown",
      "source": [
        "<font color=blue> Na verdade você pode reduzir o número de conjuntos para 6, por exemplo, $$C_1=\\{(n_1,n_2,n_3,n_4)\\in A|\\, n_2=n_1+1  \\text{ ou } n_1=n_2+1\\}$$ que é a união do antigo $C_1$ com o antigo $C_4$. Esse novos conjuntos vão ter o dobro da quantidade de elementos anterior, porque a intersecção dos antigos conjuuntos que foram unidos é vazia. Então no novo $C_i$ será tal que $$|C_i|=2\\times (m-1)\\times (m-2)\\times (m-3)$$ e $$\\sum |C_i|=6\\times 2\\times (m-1)\\times (m-2)\\times (m-3),$$ que é maior que o tanto de elementos de $C$, porque há intersecções entre os conjuntos $C_i$."
      ],
      "metadata": {
        "id": "uSoFZg9sWduA"
      }
    },
    {
      "cell_type": "code",
      "source": [],
      "metadata": {
        "id": "igHkPedfb2G-"
      },
      "execution_count": null,
      "outputs": []
    },
    {
      "cell_type": "code",
      "source": [
        "somaC_i=6*2*(n-1)*(n-2)*(n-3)\n",
        "somaC_i"
      ],
      "metadata": {
        "colab": {
          "base_uri": "https://localhost:8080/"
        },
        "id": "MPi5SuDobrlg",
        "outputId": "71d82784-b340-4d1a-e46d-7729ce3d7418"
      },
      "execution_count": 6,
      "outputs": [
        {
          "output_type": "execute_result",
          "data": {
            "text/plain": [
              "392832"
            ]
          },
          "metadata": {},
          "execution_count": 6
        }
      ]
    },
    {
      "cell_type": "markdown",
      "source": [
        "\n",
        "<font color=blue> Precisamos calcular o número de elementos das intersecçãos $C_i\\cap C_j$ de dois conjuntos, das intersecçãos $C_i\\cap C_j\\cap C_k$ de três conjuntos, das intersecçãos $C_i\\cap C_j\\cap C_k\\cap C_l$ de quatro conjuntos,\n",
        " das intersecçãos $C_i\\cap C_j\\cap C_k\\cap C_l\\cap C_m$ de cinco conjuntos e da intersecçãos $C_1\\cap C_2\\cap C_3\\cap C_4\\cap C_5\\cap C_6$ dos seis novos conjuntos $C_i$.\n",
        "\n",
        " <font color=blue> Se calcular o número de elementos desses conjuntos consegue calcular\n",
        " $$\\begin{eqnarray}|C|&=&\\sum|C_i|-\\sum |C_i\\cap C_j|+\\sum|C_i\\cap C_j\\cap C_k|-\\sum|C_i\\cap C_j\\cap C_k\\cap C_l|+\\sum|C_i\\cap C_j\\cap C_k\\cap C_l\\cap C_m|\\\\&&\\quad-|C_1\\cap C_2\\cap C_3\\cap C_4\\cap C_5\\cap C_6|\\end{eqnarray},$$ pelo princípio da inclusão e exclusão.\n",
        "\n",
        " Como avisei, vou parar por aqui."
      ],
      "metadata": {
        "id": "wzZh7WxO-FlM"
      }
    }
  ]
}