{
  "nbformat": 4,
  "nbformat_minor": 0,
  "metadata": {
    "colab": {
      "provenance": [],
      "authorship_tag": "ABX9TyNdjpwZp9iCeksSnA/CrLIq",
      "include_colab_link": true
    },
    "kernelspec": {
      "name": "python3",
      "display_name": "Python 3"
    },
    "language_info": {
      "name": "python"
    }
  },
  "cells": [
    {
      "cell_type": "markdown",
      "metadata": {
        "id": "view-in-github",
        "colab_type": "text"
      },
      "source": [
        "<a href=\"https://colab.research.google.com/github/j-claudinei-f/j-claudinei-f/blob/main/Geometria_AvII.ipynb\" target=\"_parent\"><img src=\"https://colab.research.google.com/assets/colab-badge.svg\" alt=\"Open In Colab\"/></a>"
      ]
    },
    {
      "cell_type": "markdown",
      "source": [
        "#**Geometria: Avaliação II**\n",
        "\n",
        "José Claudinei Ferreira\n",
        "\n",
        "Universidade Federal de Alfenas"
      ],
      "metadata": {
        "id": "mkLUKHB64Vdy"
      }
    },
    {
      "cell_type": "markdown",
      "source": [
        "#**Problema 1.**\n",
        "\n",
        "(2.5 pontos)\n",
        "\n",
        "Dados o pontos $A, B, C, D$, tais que $\\overline{AB}=6, \\overline{BC}=4, \\overline{AC}=5, \\overline{AD}=8, \\overline{CD}=10$ e $\\overline{BD}=7$. E considere o tetraedro $ABCD$(ilustrado no GeoGebra, vide [link](https://www.geogebra.org/3d/y7jnevrh)).\n",
        "\n",
        "a) (2.5 pontos) Determine a altura do tetraedro, em relação à face $ABC$. Determine o volume desse tetraedro.\n",
        "\n",
        "b) (1.0 ponto) Determine o seno do ângulo entre as faces $ABC$ e $ABD$ e entre as faces $ABC$ e $ACD$.\n",
        "\n",
        "Data de entrega: dia 17 de novembro, até as 9 horas da manhã.\n"
      ],
      "metadata": {
        "id": "kqYxpT9x4j8C"
      }
    },
    {
      "cell_type": "markdown",
      "source": [
        "**a)**\n",
        "\n",
        "Abastecendo calculadora:"
      ],
      "metadata": {
        "id": "mOazdnVI7T46"
      }
    },
    {
      "cell_type": "code",
      "execution_count": 1,
      "metadata": {
        "id": "u7oXYOGz4Qv6"
      },
      "outputs": [],
      "source": [
        "AB,BC,AC,AD,CD,BD=6,4,5,8,10,7"
      ]
    },
    {
      "cell_type": "markdown",
      "source": [
        "Para calcular a área da base $ABC$ vamos usar a altura do triângulo $ABC$, que será determinada pelo teorema de Pitágoras.\n",
        "\n",
        "Seja $H$ um ponto sobre a reta $AB$, o pé da altura do triângulo $ABC$, e sejam $x_1=\\overline{AH}$ e $h_1=\\overline{CH}$. Então\n",
        "$$\\begin{cases}x_1^2+h_1^2&=&5^2\\\\\\\\(6-x_1)^2+h_1^2&=&4^2\\end{cases}.$$\n",
        "\n",
        "Manipulações algébricas nos dão\n",
        "$$x_1^2-(6-x_1)^2=12x_1-36=5^2-4^2=(5-4)(5+4)=9,$$ ou\n",
        "$$x_1=\\frac{45}{12}=\\frac{15}{4}.$$\n",
        "Logo, $$h_1=\\sqrt{5^2-x_1^2}=\\frac{\\sqrt{175}}{4}$$"
      ],
      "metadata": {
        "id": "DSMbatDp7v7h"
      }
    },
    {
      "cell_type": "code",
      "source": [
        "x1=15/4\n",
        "import numpy as np   # Para usar funções de calculadora avançada.\n",
        "h1=np.sqrt(5**2-x1**2)\n",
        "print(' x1=',x1,'\\n h1=',h1)"
      ],
      "metadata": {
        "colab": {
          "base_uri": "https://localhost:8080/"
        },
        "id": "9VWCXp9k-fQ0",
        "outputId": "98da537b-8475-467a-d0d3-4bc37fcc6750"
      },
      "execution_count": 2,
      "outputs": [
        {
          "output_type": "stream",
          "name": "stdout",
          "text": [
            " x1= 3.75 \n",
            " h1= 3.307189138830738\n"
          ]
        }
      ]
    },
    {
      "cell_type": "markdown",
      "source": [
        "A área da base $ABC$ é $$\\frac{1}{2}\\times 6\\times \\frac{\\sqrt{175}}{4}:$$"
      ],
      "metadata": {
        "id": "DTrtmiyIHSr8"
      }
    },
    {
      "cell_type": "code",
      "source": [
        "ABC=6*h1/2\n",
        "ABC"
      ],
      "metadata": {
        "colab": {
          "base_uri": "https://localhost:8080/"
        },
        "id": "OV4SWXwTHjgB",
        "outputId": "752358d2-5e4d-45ef-9488-32cb6b232dc4"
      },
      "execution_count": 3,
      "outputs": [
        {
          "output_type": "execute_result",
          "data": {
            "text/plain": [
              "9.921567416492215"
            ]
          },
          "metadata": {},
          "execution_count": 3
        }
      ]
    },
    {
      "cell_type": "markdown",
      "source": [
        "Desenhando o triângulo:"
      ],
      "metadata": {
        "id": "z9Px5JOF7wtR"
      }
    },
    {
      "cell_type": "code",
      "source": [
        "import matplotlib.pyplot as plt\n",
        "X=[0,x1,AB,0]\n",
        "Y=[0,h1,0,0]\n",
        "\n",
        "fig = plt.figure(figsize=(8,5))\n",
        "plt.plot(X,Y)\n",
        "plt.plot(X,Y,'o',color='green')\n",
        "plt.text(-0.25,0 , 'A', fontsize=12)\n",
        "plt.text(x1+0.1,h1 , 'C', fontsize=12)\n",
        "plt.text(AB+0.1,0, 'B', fontsize=12)\n",
        "plt.text(x1,-0.25, 'H', fontsize=12)\n",
        "plt.plot(x1,0,'o',color='green')\n",
        "plt.plot([x1,x1],[0,h1],'--',color='green')\n",
        "plt.xlim((-1, 7))\n",
        "plt.ylim((-1, 4))\n",
        "plt.show()"
      ],
      "metadata": {
        "colab": {
          "base_uri": "https://localhost:8080/",
          "height": 451
        },
        "id": "dUShAoCFBuSR",
        "outputId": "9ff734e4-aa7f-4be4-9d8e-a878eaa73db4"
      },
      "execution_count": 4,
      "outputs": [
        {
          "output_type": "display_data",
          "data": {
            "text/plain": [
              "<Figure size 800x500 with 1 Axes>"
            ],
            "image/png": "[encoded data removed]"
          },
          "metadata": {}
        }
      ]
    },
    {
      "cell_type": "markdown",
      "source": [
        "Para calcularmos o volume do tetraedro, vamos precisar determinar a altura, em relação à base $ABC$. Como essa altura é a medida de um segmento $DG$, que é perpendicular ao plano $ABC$, com $G$ no mesmo plano que o triângulo $ABC$ da base, podemos usar o teorema de Pitágoras algumas vezes.\n",
        "\n",
        "Sejam $l_1=\\overline{AG}$, $l_2=\\overline{CG}$, $l_3=\\overline{BG}$ e $h=\\overline{DG}$ a altura que procuramos.\n",
        "\n",
        "Então:\n",
        "$$\\begin{cases}\\overline{AD}^2&=&\\overline{AG}^2+\\overline{GD}^2\\\\\\\\\\overline{BD}^2&=&\\overline{BG}^2+\\overline{GD}^2\\\\\\\\\\overline{CD}^2&=&\\overline{CG}^2+\\overline{GD}^2\\end{cases}.$$\n",
        "\n",
        "Tomando as retas perpendiculares $AB$ e $CH$ como referência, e denotando por $I$ o pé da altura do triângulo $ABG$, em relação ao lado $AB$, temos ainda:\n",
        "$$\\begin{cases}\\overline{AG}^2&=&\\overline{AI}^2+\\overline{IG}^2\\\\\\\\\\overline{BG}^2&=&\\overline{BI}^2+\\overline{IG}^2\\\\\\\\\\overline{CG}^2&=&(\\overline{AH}-\\overline{AI})^2+(h_1-\\overline{IG})^2\\end{cases}.$$"
      ],
      "metadata": {
        "id": "ZE-BgGKuIIkS"
      }
    },
    {
      "cell_type": "markdown",
      "source": [
        "Denotando por $\\overline{AI}=x_2$ e $\\overline{IG}=y_2$ , podemos reescrever as equações anteriores como\n",
        "$$\\begin{cases}8^2&=&l_1^2+h^2\\\\\\\\7^2&=&l_3^2+h^2\\\\\\\\10^2&=&l_2^2+h^2\\end{cases}$$ e\n",
        "$$\\begin{cases}l_1^2&=&x_2^2+y_2^2\\\\\\\\l_3^2&=&(6-x_2)^2+y_2^2\\\\\\\\l_2^2&=&(x_1-x_2)^2+(h_1-y_2)^2\\end{cases}.$$\n",
        "\n",
        "Deve obter\n",
        "$$l_1^2-l_3^2=8^2-7^2=15=12x_2-36$$ ou $$x_2=\\frac{51}{12}=\\frac{17}{4}$$ e\n",
        "$$l_2^2-l_1^2=10^2-8^2=36=x_1^2-2x_1x_2+h_1^2-2h_1y_2$$ ou $$y_2=\\frac{x_1^2-2x_1x_2+h_1^2-36}{2h_1}.$$\n",
        "\n",
        "Por fim temos\n",
        "\n",
        "$$h=\\sqrt{8^2-l_1^2}=\\sqrt{8^2-x_2^2-y_2^2}.$$"
      ],
      "metadata": {
        "id": "sCKdCKuJPosh"
      }
    },
    {
      "cell_type": "code",
      "source": [
        "x2=17/4\n",
        "y2=(x1**2-2*x1*x2+h1**2-36)/(2*h1)\n",
        "h=np.sqrt(8**2-x2**2-y2**2)\n",
        "x2,y2,h"
      ],
      "metadata": {
        "colab": {
          "base_uri": "https://localhost:8080/"
        },
        "id": "LCAywCihUouv",
        "outputId": "b0840ad7-93ec-4aed-95ed-c197443b583c"
      },
      "execution_count": 5,
      "outputs": [
        {
          "output_type": "execute_result",
          "data": {
            "text/plain": [
              "(4.25, -6.482090712108247, 1.9798989873223316)"
            ]
          },
          "metadata": {},
          "execution_count": 5
        }
      ]
    },
    {
      "cell_type": "markdown",
      "source": [
        "O Volume procurado é\n",
        "$$\\frac{1}{3}(\\text{area ABC})\\times h$$"
      ],
      "metadata": {
        "id": "YK782C7adIA-"
      }
    },
    {
      "cell_type": "code",
      "source": [
        "ABC*h/3"
      ],
      "metadata": {
        "colab": {
          "base_uri": "https://localhost:8080/"
        },
        "id": "1guKA5UZdfr-",
        "outputId": "f4a453f4-0083-48f6-8fed-a821278e746c"
      },
      "execution_count": 6,
      "outputs": [
        {
          "output_type": "execute_result",
          "data": {
            "text/plain": [
              "6.547900426854393"
            ]
          },
          "metadata": {},
          "execution_count": 6
        }
      ]
    },
    {
      "cell_type": "markdown",
      "source": [
        "Construindo o tetraedro:"
      ],
      "metadata": {
        "id": "YQW0qAlkUpOO"
      }
    },
    {
      "cell_type": "code",
      "source": [
        "import matplotlib.pyplot as plt\n",
        "from mpl_toolkits.mplot3d.art3d import Poly3DCollection\n",
        "\n",
        "# Definindo os vértices do tetraedro\n",
        "vertices = [(0, 0, 0), (6, 0, 0), (x1,h1, 0), (x2,y2,h)]\n",
        "\n",
        "# Definindo as faces do tetraedro\n",
        "faces = [[vertices[0], vertices[1], vertices[2]],\n",
        "         [vertices[0], vertices[2], vertices[3]],\n",
        "         [vertices[0], vertices[3], vertices[1]],\n",
        "         [vertices[1], vertices[2], vertices[3]]]\n",
        "\n",
        "# Criando a figura 3D\n",
        "fig = plt.figure(figsize=(8,5))\n",
        "ax = fig.add_subplot(111, projection='3d')\n",
        "\n",
        "# Adicionando as faces ao gráfico\n",
        "ax.add_collection3d(Poly3DCollection(faces, facecolors='blue', linewidths=1, edgecolors='r', alpha=.25))\n",
        "ax.plot3D([x2,x2,x2,x2], [y2,y2,0,y2], [h,0,0,h], color='green')\n",
        "ax.plot3D([x1,x1], [0,h1], [0,0], color='green')\n",
        "\n",
        "# Adicionando os rótulos dos vértices\n",
        "for i, txt in enumerate(['A', 'B', 'C', 'D']):\n",
        "    ax.text(vertices[i][0], vertices[i][1], vertices[i][2], txt, size=12)\n",
        "ax.text(x2, y2, 0, 'G', size=12)\n",
        "ax.text(x2, 0, 0, 'I', size=12)\n",
        "ax.text(x1, 0, 0, 'H', size=12)\n",
        "\n",
        "# Adicionando os comprimentos\n",
        "ax.text((vertices[0][0] + vertices[1][0]) / 2, (vertices[0][1] + vertices[1][1]) / 2, (vertices[0][2] + vertices[1][2]) / 2, '6', size=8)\n",
        "ax.text((vertices[0][0] + vertices[2][0]) / 2, (vertices[0][1] + vertices[2][1]) / 2, (vertices[0][2] + vertices[2][2]) / 2, '5', size=8)\n",
        "ax.text((vertices[1][0] + vertices[2][0]) / 2, (vertices[1][1] + vertices[2][1]) / 2, (vertices[1][2] + vertices[2][2]) / 2, '4', size=8)\n",
        "ax.text((vertices[0][0] + vertices[3][0]) / 2, (vertices[0][1] + vertices[3][1]) / 2, (vertices[0][2] + vertices[3][2]) / 2, '8', size=8)\n",
        "ax.text((vertices[1][0] + vertices[3][0]) / 2, (vertices[1][1] + vertices[3][1]) / 2, (vertices[1][2] + vertices[3][2]) / 2, '7', size=8)\n",
        "ax.text((vertices[2][0] + vertices[3][0]) / 2, (vertices[2][1] + vertices[3][1]) / 2, (vertices[2][2] + vertices[3][2]) / 2, '10', size=8)\n",
        "\n",
        "# Configurações adicionais\n",
        "ax.set_xlabel('X')\n",
        "ax.set_ylabel('Y')\n",
        "ax.set_zlabel('Z')\n",
        "ax.set_title('Tetraedro ABCD')\n",
        "\n",
        "ax.set_xlim([0, 6])  # Limites do eixo X\n",
        "ax.set_ylim([-7, 4])  # Limites do eixo Y\n",
        "ax.set_zlim([0, 2])  # Limites do eixo Z\n",
        "\n",
        "# Exibindo o gráfico\n",
        "ax.set_axis_off()\n",
        "ax.view_init(elev=45, azim=30)   # ângulos de exibição do tetraedro no espaço.\n",
        "ax.set_box_aspect([1,1,1])\n",
        "ax.set_aspect('auto')\n",
        "\n",
        "plt.show()"
      ],
      "metadata": {
        "colab": {
          "base_uri": "https://localhost:8080/",
          "height": 444
        },
        "id": "CJ2iXaqOPpez",
        "outputId": "b4cd4a4f-8590-45e3-fea3-0a754da1e956"
      },
      "execution_count": 12,
      "outputs": [
        {
          "output_type": "display_data",
          "data": {
            "text/plain": [
              "<Figure size 800x500 with 1 Axes>"
            ],
            "image/png": "[encoded data removed]"
          },
          "metadata": {}
        }
      ]
    },
    {
      "cell_type": "markdown",
      "source": [
        "**b)**\n",
        "\n",
        "Para calcular o seno do ângulo entre as faces $ABC$ e $ABD$, vamos calcular um dos ângulos $\\theta$  entre os planos. Vamos usar o triângulo retângulo $DGI$. Segue então que $$\\overline{DI}=\\sqrt{y_2^2+h^2},\\qquad sen(\\theta)=\\frac{h}{\\overline{DI}}.$$"
      ],
      "metadata": {
        "id": "HrPhgA82e90T"
      }
    },
    {
      "cell_type": "code",
      "source": [
        "DI=np.sqrt(y2**2+h**2)\n",
        "\n",
        "import math\n",
        "print(' DI=',DI,'\\n sen(theta)=',h/DI)"
      ],
      "metadata": {
        "colab": {
          "base_uri": "https://localhost:8080/"
        },
        "id": "YzgUf-sFhuGe",
        "outputId": "bcaff730-741e-4d8a-cb27-2880a5dd576a"
      },
      "execution_count": 8,
      "outputs": [
        {
          "output_type": "stream",
          "name": "stdout",
          "text": [
            " DI= 6.777720855862979 \n",
            " sen(theta)= 0.2921186973360884\n"
          ]
        }
      ]
    },
    {
      "cell_type": "markdown",
      "source": [
        "Sabendo o $sen(\\theta)$ temos dois ângulos possíveis. A figura acima sugere que ângulo entre as faces $ABC$ e $ABD$ é o maior desses ângulos, ou"
      ],
      "metadata": {
        "id": "mqqmIuUBhghi"
      }
    },
    {
      "cell_type": "code",
      "source": [
        "print('ângulo=',180-math.asin(h/DI)*180/np.pi,' graus') # math.asin() retorna o ângulo em radianos."
      ],
      "metadata": {
        "colab": {
          "base_uri": "https://localhost:8080/"
        },
        "id": "73QrlbCphhXD",
        "outputId": "88349d20-7c75-402a-a25f-7f3f1c2505a5"
      },
      "execution_count": 11,
      "outputs": [
        {
          "output_type": "stream",
          "name": "stdout",
          "text": [
            "ângulo= 163.01515800197708  graus\n"
          ]
        }
      ]
    },
    {
      "cell_type": "markdown",
      "source": [
        "**Obs:** Se ficou na dúvida sobre o porque de usarmos $DI$nos cálculos anteriores, note que a altura de  $ABD$ pode ser determinada pelo teorema de Pitágoras.\n",
        "\n",
        "Seja $H_1$ um ponto sobre a reta $AB$, o pé da altura do triângulo $ABD$, e sejam $x_3=\\overline{AH_1}$ e $h_2=\\overline{DH_1}$. Então\n",
        "$$\\begin{cases}x_3^2+h_2^2&=&8^2\\\\\\\\(6-x_3)^2+h_2^2&=&7^2\\end{cases}.$$\n",
        "\n",
        "Manipulações algébricas nos dão\n",
        "$$x_3^2-(6-x_3)^2=12x_3-36=8^2-7^2=(8-7)(8+7)=15,$$ ou\n",
        "$$x_3=\\frac{51}{12}=\\frac{17}{4}=x_2$$ e $H_1=I$.\n",
        "\n",
        "Logo, $$h_2=\\sqrt{8^2-x_3^2}.$$"
      ],
      "metadata": {
        "id": "xPrXHqukiDaE"
      }
    },
    {
      "cell_type": "code",
      "source": [
        "h2=np.sqrt(8**2-x2**2)\n",
        "h2"
      ],
      "metadata": {
        "colab": {
          "base_uri": "https://localhost:8080/"
        },
        "id": "Eh8uM9Gmj_08",
        "outputId": "f4c732fb-b9ac-411a-b4d5-422bf31bd989"
      },
      "execution_count": 10,
      "outputs": [
        {
          "output_type": "execute_result",
          "data": {
            "text/plain": [
              "6.777720855862979"
            ]
          },
          "metadata": {},
          "execution_count": 10
        }
      ]
    },
    {
      "cell_type": "markdown",
      "source": [
        "Dexo para o leitor pensar no restante do item b)."
      ],
      "metadata": {
        "id": "kBAhl4fQmnBH"
      }
    },
    {
      "cell_type": "markdown",
      "source": [
        "-----------------------------"
      ],
      "metadata": {
        "id": "aIl0UsKye7G3"
      }
    },
    {
      "cell_type": "markdown",
      "source": [
        "<font color=red> Editando...."
      ],
      "metadata": {
        "id": "8cJjsXCMm3zK"
      }
    },
    {
      "cell_type": "markdown",
      "source": [
        "#**Problema 2.** (2.5 pontos) Vejam o arquivo pdf anexado.\n",
        "\n",
        "Data de entrega: dia 01 de dezembro, até as 8:20 horas da manhã.\n",
        "\n",
        "3. Considere a região R do plano delimitada pela curva (x, xx+1) e pelo eixo x, para x entre -1 e 1.\n",
        "\n",
        "a) (0.75 pontos) Use o teorema de Pitágoras e curvas poligonais, para estimar, para mais e para menos, o comprimento da curva (x, xx+1), para x entre -1 e 1. Estime o erro cometido na sua aproximação (acha esse erro aceitável?).\n",
        "\n",
        "b)  (1.75 pontos) Use o Teorema de Pick para estimar, para mais e para menos,  a área da região R. Estime o erro cometido na sua aproximação (acha esse erro aceitável?).\n",
        "\n",
        "Data de entrega: dia 01 de dezembro, até as 8:20 horas da manhã.\n",
        "\n",
        "4. Será presencial, no dia 01 de dezembro."
      ],
      "metadata": {
        "id": "VNeAMCVa43jU"
      }
    }
  ]
}